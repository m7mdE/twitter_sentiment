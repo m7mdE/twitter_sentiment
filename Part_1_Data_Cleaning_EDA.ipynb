{
 "cells": [
  {
   "attachments": {},
   "cell_type": "markdown",
   "id": "301f8149",
   "metadata": {},
   "source": [
    "# Twitter Sentiment Capstone\n",
    "\n",
    "**Author: Mohamed Emran**\n",
    "\n",
    "**Date: 6/26/2023**"
   ]
  },
  {
   "attachments": {},
   "cell_type": "markdown",
   "id": "7813da96",
   "metadata": {},
   "source": [
    "# Notebook 1 - Data Cleaning and EDA"
   ]
  },
  {
   "attachments": {},
   "cell_type": "markdown",
   "id": "437ef053",
   "metadata": {},
   "source": [
    "## Table of Contents\n",
    "\n",
    "1. [Introduction](#1.-Introduction) <br>\n",
    "    - Objective of project\n",
    "    - What potential business value does this project bring?\n",
    "    - How will this project help/have an impact:\n",
    "2. [Data Collection](#2.-Data-Collection)\n",
    "    - Source of the data\n",
    "    - Data dictionary\n",
    "3. [Data Wrangling](#3.-Data-Wrangling)\n",
    "    - Load the data\n",
    "    - Data Cleaning\n",
    "4. [EDA](#4.-EDA)\n",
    "    - Data Distribution\n",
    "5. [Conclusion](#5.-Conclusion)"
   ]
  },
  {
   "attachments": {},
   "cell_type": "markdown",
   "id": "1213bf69",
   "metadata": {},
   "source": [
    "## 1. Introduction\n",
    "\n",
    "### Objective of project:\n",
    "\n",
    "I aim to build an effective machine learning model to identify any negative tweets posted on Twitter\n",
    "\n",
    "### What potential business value does this project bring?\n",
    "\n",
    "This project aims to reduce negative feedback in real-time in a very short manner. Addressing the negative feedback demonstrates their commitment to customer service and satisfaction.\n",
    "\n",
    "### How will this project help/have an impact:\n",
    "\n",
    "- Help to save time and effort by addressing issues in a quickly manner.\n",
    "- Hopefully to be able to integrate the model to training to identify the negative reviews and address it to a customer service."
   ]
  },
  {
   "attachments": {},
   "cell_type": "markdown",
   "id": "cdcdff0a",
   "metadata": {},
   "source": [
    "---\n",
    "## 2. Data Collection\n",
    "\n",
    "#### Source of the data\n",
    "\n",
    "http://help.sentiment140.com/for-students/\n",
    "\n",
    "\"Sentiment140 was created by Alec Go, Richa Bhayani, and Lei Huang, who were Computer Science graduate students at Stanford University.\""
   ]
  },
  {
   "attachments": {},
   "cell_type": "markdown",
   "id": "90179198",
   "metadata": {},
   "source": [
    "#### Data dictionary:\n",
    "\n",
    "| Column Name |                      Description                     | Data Type |\n",
    "|:-----------:|:----------------------------------------------------:|-----------|\n",
    "|      Id     |              The id of the tweet (2087)              |   int64   |\n",
    "|     Date    | The date of the tweet (Mon Apr 06 22:19:45 UTC 2009) |   object  |\n",
    "|     Flag    |  If there is no query, then this value is NO_QUERY.  |   object  |\n",
    "|     User    |        The user that tweeted (robotickilldozr)       |   object  |\n",
    "|    Tweet    |          The text of the tweet (Lyx is cool)         |   object  |\n",
    "|  Sentiment  |   Sentiment Identifier (0 = Negative, 4 = Positive)  |   int64   |"
   ]
  },
  {
   "cell_type": "code",
   "execution_count": 2,
   "id": "6cbfe899",
   "metadata": {},
   "outputs": [],
   "source": [
    "# Importing several libraries\n",
    "import pandas as pd\n",
    "import numpy as np\n",
    "import seaborn as sns\n",
    "import matplotlib.pyplot as plt\n",
    "import re\n",
    "\n",
    "import warnings\n",
    "warnings.filterwarnings(\"ignore\")"
   ]
  },
  {
   "cell_type": "code",
   "execution_count": 5,
   "id": "0141f3fc",
   "metadata": {},
   "outputs": [],
   "source": [
    "pd.options.display.max_colwidth = 1000"
   ]
  },
  {
   "attachments": {},
   "cell_type": "markdown",
   "id": "2b16bf2c",
   "metadata": {},
   "source": [
    "---\n",
    "## 3 - Data Wrangling"
   ]
  },
  {
   "attachments": {},
   "cell_type": "markdown",
   "id": "2442ecdc",
   "metadata": {},
   "source": [
    "### Load the data:"
   ]
  },
  {
   "cell_type": "code",
   "execution_count": 6,
   "id": "42d3b0b3",
   "metadata": {},
   "outputs": [],
   "source": [
    "# Read the data file\n",
    "df = pd.read_csv(\"data/twitter_data_emotions.csv\", header=None, encoding='latin-1')"
   ]
  },
  {
   "cell_type": "code",
   "execution_count": 7,
   "id": "86e6cd8c",
   "metadata": {},
   "outputs": [
    {
     "data": {
      "text/html": [
       "<div>\n",
       "<style scoped>\n",
       "    .dataframe tbody tr th:only-of-type {\n",
       "        vertical-align: middle;\n",
       "    }\n",
       "\n",
       "    .dataframe tbody tr th {\n",
       "        vertical-align: top;\n",
       "    }\n",
       "\n",
       "    .dataframe thead th {\n",
       "        text-align: right;\n",
       "    }\n",
       "</style>\n",
       "<table border=\"1\" class=\"dataframe\">\n",
       "  <thead>\n",
       "    <tr style=\"text-align: right;\">\n",
       "      <th></th>\n",
       "      <th>0</th>\n",
       "      <th>1</th>\n",
       "      <th>2</th>\n",
       "      <th>3</th>\n",
       "      <th>4</th>\n",
       "      <th>5</th>\n",
       "    </tr>\n",
       "  </thead>\n",
       "  <tbody>\n",
       "    <tr>\n",
       "      <th>0</th>\n",
       "      <td>0</td>\n",
       "      <td>1467810369</td>\n",
       "      <td>Mon Apr 06 22:19:45 PDT 2009</td>\n",
       "      <td>NO_QUERY</td>\n",
       "      <td>_TheSpecialOne_</td>\n",
       "      <td>@switchfoot http://twitpic.com/2y1zl - Awww, that's a bummer.  You shoulda got David Carr of Third Day to do it. ;D</td>\n",
       "    </tr>\n",
       "    <tr>\n",
       "      <th>1</th>\n",
       "      <td>0</td>\n",
       "      <td>1467810672</td>\n",
       "      <td>Mon Apr 06 22:19:49 PDT 2009</td>\n",
       "      <td>NO_QUERY</td>\n",
       "      <td>scotthamilton</td>\n",
       "      <td>is upset that he can't update his Facebook by texting it... and might cry as a result  School today also. Blah!</td>\n",
       "    </tr>\n",
       "  </tbody>\n",
       "</table>\n",
       "</div>"
      ],
      "text/plain": [
       "   0           1                             2         3                4  \\\n",
       "0  0  1467810369  Mon Apr 06 22:19:45 PDT 2009  NO_QUERY  _TheSpecialOne_   \n",
       "1  0  1467810672  Mon Apr 06 22:19:49 PDT 2009  NO_QUERY    scotthamilton   \n",
       "\n",
       "                                                                                                                     5  \n",
       "0  @switchfoot http://twitpic.com/2y1zl - Awww, that's a bummer.  You shoulda got David Carr of Third Day to do it. ;D  \n",
       "1      is upset that he can't update his Facebook by texting it... and might cry as a result  School today also. Blah!  "
      ]
     },
     "execution_count": 7,
     "metadata": {},
     "output_type": "execute_result"
    }
   ],
   "source": [
    "# sanity check - data after \n",
    "df.head(2)"
   ]
  },
  {
   "attachments": {},
   "cell_type": "markdown",
   "id": "91eb2f21",
   "metadata": {},
   "source": [
    "### Data Cleaning\n",
    "\n",
    "    - Check Shape of the data (rows and columns)\n",
    "    - Check info (column names and data types)\n",
    "    - Check null values\n",
    "    - check duplicate values"
   ]
  },
  {
   "cell_type": "code",
   "execution_count": 8,
   "id": "f626e06f",
   "metadata": {},
   "outputs": [
    {
     "data": {
      "text/html": [
       "<div>\n",
       "<style scoped>\n",
       "    .dataframe tbody tr th:only-of-type {\n",
       "        vertical-align: middle;\n",
       "    }\n",
       "\n",
       "    .dataframe tbody tr th {\n",
       "        vertical-align: top;\n",
       "    }\n",
       "\n",
       "    .dataframe thead th {\n",
       "        text-align: right;\n",
       "    }\n",
       "</style>\n",
       "<table border=\"1\" class=\"dataframe\">\n",
       "  <thead>\n",
       "    <tr style=\"text-align: right;\">\n",
       "      <th></th>\n",
       "      <th>Sentiment</th>\n",
       "      <th>Id</th>\n",
       "      <th>Date</th>\n",
       "      <th>Flag</th>\n",
       "      <th>User</th>\n",
       "      <th>Tweet</th>\n",
       "    </tr>\n",
       "  </thead>\n",
       "  <tbody>\n",
       "    <tr>\n",
       "      <th>0</th>\n",
       "      <td>0</td>\n",
       "      <td>1467810369</td>\n",
       "      <td>Mon Apr 06 22:19:45 PDT 2009</td>\n",
       "      <td>NO_QUERY</td>\n",
       "      <td>_TheSpecialOne_</td>\n",
       "      <td>@switchfoot http://twitpic.com/2y1zl - Awww, that's a bummer.  You shoulda got David Carr of Third Day to do it. ;D</td>\n",
       "    </tr>\n",
       "    <tr>\n",
       "      <th>1</th>\n",
       "      <td>0</td>\n",
       "      <td>1467810672</td>\n",
       "      <td>Mon Apr 06 22:19:49 PDT 2009</td>\n",
       "      <td>NO_QUERY</td>\n",
       "      <td>scotthamilton</td>\n",
       "      <td>is upset that he can't update his Facebook by texting it... and might cry as a result  School today also. Blah!</td>\n",
       "    </tr>\n",
       "    <tr>\n",
       "      <th>2</th>\n",
       "      <td>0</td>\n",
       "      <td>1467810917</td>\n",
       "      <td>Mon Apr 06 22:19:53 PDT 2009</td>\n",
       "      <td>NO_QUERY</td>\n",
       "      <td>mattycus</td>\n",
       "      <td>@Kenichan I dived many times for the ball. Managed to save 50%  The rest go out of bounds</td>\n",
       "    </tr>\n",
       "    <tr>\n",
       "      <th>3</th>\n",
       "      <td>0</td>\n",
       "      <td>1467811184</td>\n",
       "      <td>Mon Apr 06 22:19:57 PDT 2009</td>\n",
       "      <td>NO_QUERY</td>\n",
       "      <td>ElleCTF</td>\n",
       "      <td>my whole body feels itchy and like its on fire</td>\n",
       "    </tr>\n",
       "    <tr>\n",
       "      <th>4</th>\n",
       "      <td>0</td>\n",
       "      <td>1467811193</td>\n",
       "      <td>Mon Apr 06 22:19:57 PDT 2009</td>\n",
       "      <td>NO_QUERY</td>\n",
       "      <td>Karoli</td>\n",
       "      <td>@nationwideclass no, it's not behaving at all. i'm mad. why am i here? because I can't see you all over there.</td>\n",
       "    </tr>\n",
       "  </tbody>\n",
       "</table>\n",
       "</div>"
      ],
      "text/plain": [
       "   Sentiment          Id                          Date      Flag  \\\n",
       "0          0  1467810369  Mon Apr 06 22:19:45 PDT 2009  NO_QUERY   \n",
       "1          0  1467810672  Mon Apr 06 22:19:49 PDT 2009  NO_QUERY   \n",
       "2          0  1467810917  Mon Apr 06 22:19:53 PDT 2009  NO_QUERY   \n",
       "3          0  1467811184  Mon Apr 06 22:19:57 PDT 2009  NO_QUERY   \n",
       "4          0  1467811193  Mon Apr 06 22:19:57 PDT 2009  NO_QUERY   \n",
       "\n",
       "              User  \\\n",
       "0  _TheSpecialOne_   \n",
       "1    scotthamilton   \n",
       "2         mattycus   \n",
       "3          ElleCTF   \n",
       "4           Karoli   \n",
       "\n",
       "                                                                                                                 Tweet  \n",
       "0  @switchfoot http://twitpic.com/2y1zl - Awww, that's a bummer.  You shoulda got David Carr of Third Day to do it. ;D  \n",
       "1      is upset that he can't update his Facebook by texting it... and might cry as a result  School today also. Blah!  \n",
       "2                            @Kenichan I dived many times for the ball. Managed to save 50%  The rest go out of bounds  \n",
       "3                                                                      my whole body feels itchy and like its on fire   \n",
       "4      @nationwideclass no, it's not behaving at all. i'm mad. why am i here? because I can't see you all over there.   "
      ]
     },
     "execution_count": 8,
     "metadata": {},
     "output_type": "execute_result"
    }
   ],
   "source": [
    "# lets explore the data\n",
    "df.columns = ['Sentiment', 'Id', 'Date', 'Flag', 'User', 'Tweet']\n",
    "df.head()"
   ]
  },
  {
   "cell_type": "code",
   "execution_count": 67,
   "id": "6bf1dced",
   "metadata": {},
   "outputs": [
    {
     "data": {
      "text/html": [
       "<div>\n",
       "<style scoped>\n",
       "    .dataframe tbody tr th:only-of-type {\n",
       "        vertical-align: middle;\n",
       "    }\n",
       "\n",
       "    .dataframe tbody tr th {\n",
       "        vertical-align: top;\n",
       "    }\n",
       "\n",
       "    .dataframe thead th {\n",
       "        text-align: right;\n",
       "    }\n",
       "</style>\n",
       "<table border=\"1\" class=\"dataframe\">\n",
       "  <thead>\n",
       "    <tr style=\"text-align: right;\">\n",
       "      <th></th>\n",
       "      <th>Sentiment</th>\n",
       "      <th>Id</th>\n",
       "      <th>Date</th>\n",
       "      <th>User</th>\n",
       "      <th>Tweet</th>\n",
       "    </tr>\n",
       "  </thead>\n",
       "  <tbody>\n",
       "    <tr>\n",
       "      <th>1599995</th>\n",
       "      <td>1</td>\n",
       "      <td>2193601966</td>\n",
       "      <td>2009-06-16 08:40:49</td>\n",
       "      <td>AmandaMarie1028</td>\n",
       "      <td>Just woke up. Having no school is the best feeling ever</td>\n",
       "    </tr>\n",
       "    <tr>\n",
       "      <th>1599996</th>\n",
       "      <td>1</td>\n",
       "      <td>2193601969</td>\n",
       "      <td>2009-06-16 08:40:49</td>\n",
       "      <td>TheWDBoards</td>\n",
       "      <td>TheWDB.com - Very cool to hear old Walt interviews!  â« http://blip.fm/~8bmta</td>\n",
       "    </tr>\n",
       "    <tr>\n",
       "      <th>1599997</th>\n",
       "      <td>1</td>\n",
       "      <td>2193601991</td>\n",
       "      <td>2009-06-16 08:40:49</td>\n",
       "      <td>bpbabe</td>\n",
       "      <td>Are you ready for your MoJo Makeover? Ask me for details</td>\n",
       "    </tr>\n",
       "    <tr>\n",
       "      <th>1599998</th>\n",
       "      <td>1</td>\n",
       "      <td>2193602064</td>\n",
       "      <td>2009-06-16 08:40:49</td>\n",
       "      <td>tinydiamondz</td>\n",
       "      <td>Happy 38th Birthday to my boo of alll time!!! Tupac Amaru Shakur</td>\n",
       "    </tr>\n",
       "    <tr>\n",
       "      <th>1599999</th>\n",
       "      <td>1</td>\n",
       "      <td>2193602129</td>\n",
       "      <td>2009-06-16 08:40:50</td>\n",
       "      <td>RyanTrevMorris</td>\n",
       "      <td>happy #charitytuesday @theNSPCC @SparksCharity @SpeakingUpH4H</td>\n",
       "    </tr>\n",
       "  </tbody>\n",
       "</table>\n",
       "</div>"
      ],
      "text/plain": [
       "         Sentiment          Id                Date             User  \\\n",
       "1599995          1  2193601966 2009-06-16 08:40:49  AmandaMarie1028   \n",
       "1599996          1  2193601969 2009-06-16 08:40:49      TheWDBoards   \n",
       "1599997          1  2193601991 2009-06-16 08:40:49           bpbabe   \n",
       "1599998          1  2193602064 2009-06-16 08:40:49     tinydiamondz   \n",
       "1599999          1  2193602129 2009-06-16 08:40:50   RyanTrevMorris   \n",
       "\n",
       "                                                                                  Tweet  \n",
       "1599995                        Just woke up. Having no school is the best feeling ever   \n",
       "1599996  TheWDB.com - Very cool to hear old Walt interviews!  â« http://blip.fm/~8bmta  \n",
       "1599997                       Are you ready for your MoJo Makeover? Ask me for details   \n",
       "1599998               Happy 38th Birthday to my boo of alll time!!! Tupac Amaru Shakur   \n",
       "1599999                  happy #charitytuesday @theNSPCC @SparksCharity @SpeakingUpH4H   "
      ]
     },
     "execution_count": 67,
     "metadata": {},
     "output_type": "execute_result"
    }
   ],
   "source": [
    "df.tail()"
   ]
  },
  {
   "attachments": {},
   "cell_type": "markdown",
   "id": "13f99ada",
   "metadata": {},
   "source": [
    "Check the shape of the data"
   ]
  },
  {
   "cell_type": "code",
   "execution_count": 72,
   "id": "11843475",
   "metadata": {},
   "outputs": [
    {
     "name": "stdout",
     "output_type": "stream",
     "text": [
      "The dataframe consists of 1600000 million rows, and 5 columns\n"
     ]
    }
   ],
   "source": [
    "print(f'The dataframe consists of {df.shape[0]} million rows, and {df.shape[1]} columns')"
   ]
  },
  {
   "cell_type": "code",
   "execution_count": 12,
   "id": "69e09a39",
   "metadata": {},
   "outputs": [
    {
     "name": "stdout",
     "output_type": "stream",
     "text": [
      "<class 'pandas.core.frame.DataFrame'>\n",
      "RangeIndex: 1600000 entries, 0 to 1599999\n",
      "Data columns (total 6 columns):\n",
      " #   Column     Non-Null Count    Dtype \n",
      "---  ------     --------------    ----- \n",
      " 0   Sentiment  1600000 non-null  int64 \n",
      " 1   Id         1600000 non-null  int64 \n",
      " 2   Date       1600000 non-null  object\n",
      " 3   Flag       1600000 non-null  object\n",
      " 4   User       1600000 non-null  object\n",
      " 5   Tweet      1600000 non-null  object\n",
      "dtypes: int64(2), object(4)\n",
      "memory usage: 73.2+ MB\n"
     ]
    }
   ],
   "source": [
    "# check the column names and datatypes \n",
    "df.info()"
   ]
  },
  {
   "cell_type": "code",
   "execution_count": 13,
   "id": "a1c6dfa9",
   "metadata": {
    "scrolled": true
   },
   "outputs": [
    {
     "data": {
      "text/plain": [
       "Sentiment    0\n",
       "Id           0\n",
       "Date         0\n",
       "Flag         0\n",
       "User         0\n",
       "Tweet        0\n",
       "dtype: int64"
      ]
     },
     "execution_count": 13,
     "metadata": {},
     "output_type": "execute_result"
    }
   ],
   "source": [
    "# check null values\n",
    "df.isna().sum()"
   ]
  },
  {
   "attachments": {},
   "cell_type": "markdown",
   "id": "98f0cffb",
   "metadata": {},
   "source": [
    "**We don't see any Null Values**"
   ]
  },
  {
   "cell_type": "code",
   "execution_count": 14,
   "id": "f12eb134",
   "metadata": {},
   "outputs": [
    {
     "data": {
      "text/plain": [
       "0"
      ]
     },
     "execution_count": 14,
     "metadata": {},
     "output_type": "execute_result"
    }
   ],
   "source": [
    "# check duplicates\n",
    "df.duplicated().sum()"
   ]
  },
  {
   "attachments": {},
   "cell_type": "markdown",
   "id": "080abd4a",
   "metadata": {},
   "source": [
    "We don't see any duplicate values. We can further explore in our data."
   ]
  },
  {
   "attachments": {},
   "cell_type": "markdown",
   "id": "bdf87873",
   "metadata": {},
   "source": [
    "Let's check our data for every column "
   ]
  },
  {
   "cell_type": "code",
   "execution_count": 15,
   "id": "da011054",
   "metadata": {},
   "outputs": [
    {
     "data": {
      "text/plain": [
       "User\n",
       "lost_dog           549\n",
       "webwoke            345\n",
       "tweetpet           310\n",
       "SallytheShizzle    281\n",
       "VioletsCRUK        279\n",
       "                  ... \n",
       "67trinity            1\n",
       "Sibby                1\n",
       "mAnyA_15             1\n",
       "49ersfan111          1\n",
       "bpbabe               1\n",
       "Name: count, Length: 659775, dtype: int64"
      ]
     },
     "execution_count": 15,
     "metadata": {},
     "output_type": "execute_result"
    }
   ],
   "source": [
    "df['User'].value_counts()"
   ]
  },
  {
   "cell_type": "code",
   "execution_count": 49,
   "id": "f1fa3c1f",
   "metadata": {},
   "outputs": [
    {
     "data": {
      "image/png": "[encoded data removed]",
      "text/plain": [
       "<Figure size 1000x600 with 1 Axes>"
      ]
     },
     "metadata": {},
     "output_type": "display_data"
    }
   ],
   "source": [
    "plt.figure(figsize=(10,6))\n",
    "df['User'].value_counts().head(10).plot(kind='bar', rot=45) # bar chart\n",
    "plt.title('User Number of Tweets') # title\n",
    "plt.xlabel('Username') # labeling x-axis\n",
    "plt.ylabel('Tweet Count') # labeling y-axis\n",
    "plt.show()"
   ]
  },
  {
   "attachments": {},
   "cell_type": "markdown",
   "id": "a20efa68",
   "metadata": {},
   "source": [
    "We can observe that `lost_dog` user has tweeted the most with 549 tweets, than other users who tweeted. Second came `webwoke` user with 345.\n",
    "\n",
    "Let's have a look at `Date` column"
   ]
  },
  {
   "cell_type": "code",
   "execution_count": 50,
   "id": "32d1c06c",
   "metadata": {},
   "outputs": [
    {
     "data": {
      "text/plain": [
       "0          Mon Apr 06 22:19:45 PDT 2009\n",
       "1          Mon Apr 06 22:19:49 PDT 2009\n",
       "2          Mon Apr 06 22:19:53 PDT 2009\n",
       "3          Mon Apr 06 22:19:57 PDT 2009\n",
       "4          Mon Apr 06 22:19:57 PDT 2009\n",
       "                       ...             \n",
       "1599995    Tue Jun 16 08:40:49 PDT 2009\n",
       "1599996    Tue Jun 16 08:40:49 PDT 2009\n",
       "1599997    Tue Jun 16 08:40:49 PDT 2009\n",
       "1599998    Tue Jun 16 08:40:49 PDT 2009\n",
       "1599999    Tue Jun 16 08:40:50 PDT 2009\n",
       "Name: Date, Length: 1600000, dtype: object"
      ]
     },
     "execution_count": 50,
     "metadata": {},
     "output_type": "execute_result"
    }
   ],
   "source": [
    "df['Date']"
   ]
  },
  {
   "attachments": {},
   "cell_type": "markdown",
   "id": "56ee9d56",
   "metadata": {},
   "source": [
    "The date shows it's an `object`, we can change the data type to a `datetime` format and remove PDT from the date field"
   ]
  },
  {
   "cell_type": "code",
   "execution_count": 52,
   "id": "75a8a3be",
   "metadata": {},
   "outputs": [],
   "source": [
    "# removed PDT from the Date column\n",
    "df['Date'] = df['Date'].str.replace('PDT', '')"
   ]
  },
  {
   "cell_type": "code",
   "execution_count": 53,
   "id": "0ac1f928",
   "metadata": {},
   "outputs": [
    {
     "data": {
      "text/plain": [
       "0          Mon Apr 06 22:19:45  2009\n",
       "1          Mon Apr 06 22:19:49  2009\n",
       "2          Mon Apr 06 22:19:53  2009\n",
       "3          Mon Apr 06 22:19:57  2009\n",
       "4          Mon Apr 06 22:19:57  2009\n",
       "                     ...            \n",
       "1599995    Tue Jun 16 08:40:49  2009\n",
       "1599996    Tue Jun 16 08:40:49  2009\n",
       "1599997    Tue Jun 16 08:40:49  2009\n",
       "1599998    Tue Jun 16 08:40:49  2009\n",
       "1599999    Tue Jun 16 08:40:50  2009\n",
       "Name: Date, Length: 1600000, dtype: object"
      ]
     },
     "execution_count": 53,
     "metadata": {},
     "output_type": "execute_result"
    }
   ],
   "source": [
    "# sanity check\n",
    "df['Date']"
   ]
  },
  {
   "attachments": {},
   "cell_type": "markdown",
   "id": "82ab2bb9",
   "metadata": {},
   "source": [
    "All good `PDT` are removed from the value. Let's change the data type"
   ]
  },
  {
   "cell_type": "code",
   "execution_count": 54,
   "id": "564ff41d",
   "metadata": {},
   "outputs": [],
   "source": [
    "# converts to date and time\n",
    "df[\"Date\"] = pd.to_datetime(df[\"Date\"])"
   ]
  },
  {
   "cell_type": "code",
   "execution_count": 55,
   "id": "36aaeca9",
   "metadata": {},
   "outputs": [
    {
     "name": "stdout",
     "output_type": "stream",
     "text": [
      "<class 'pandas.core.frame.DataFrame'>\n",
      "RangeIndex: 1600000 entries, 0 to 1599999\n",
      "Data columns (total 6 columns):\n",
      " #   Column     Non-Null Count    Dtype         \n",
      "---  ------     --------------    -----         \n",
      " 0   Sentiment  1600000 non-null  int64         \n",
      " 1   Id         1600000 non-null  int64         \n",
      " 2   Date       1600000 non-null  datetime64[ns]\n",
      " 3   Flag       1600000 non-null  object        \n",
      " 4   User       1600000 non-null  object        \n",
      " 5   Tweet      1600000 non-null  object        \n",
      "dtypes: datetime64[ns](1), int64(2), object(3)\n",
      "memory usage: 73.2+ MB\n"
     ]
    }
   ],
   "source": [
    "# sanity check converted to date and time\n",
    "df.info()"
   ]
  },
  {
   "attachments": {},
   "cell_type": "markdown",
   "id": "8a57b73e",
   "metadata": {},
   "source": [
    "Since we have a 1.6 million of rows data, let's have a look at how many years the data consist of"
   ]
  },
  {
   "cell_type": "code",
   "execution_count": 92,
   "id": "c8e0b05a",
   "metadata": {},
   "outputs": [
    {
     "data": {
      "text/plain": [
       "2009    1600000\n",
       "Name: Date, dtype: int64"
      ]
     },
     "execution_count": 92,
     "metadata": {},
     "output_type": "execute_result"
    }
   ],
   "source": [
    "df['Date'].dt.year.value_counts()"
   ]
  },
  {
   "attachments": {},
   "cell_type": "markdown",
   "id": "acad7ad4",
   "metadata": {},
   "source": [
    "It seem's our data only consist in year `2009`\n",
    "\n",
    "Let's have a look at `Flag` column"
   ]
  },
  {
   "cell_type": "code",
   "execution_count": 56,
   "id": "4fa7dbdd",
   "metadata": {},
   "outputs": [
    {
     "data": {
      "text/plain": [
       "Flag\n",
       "NO_QUERY    1600000\n",
       "Name: count, dtype: int64"
      ]
     },
     "execution_count": 56,
     "metadata": {},
     "output_type": "execute_result"
    }
   ],
   "source": [
    "df['Flag'].value_counts()"
   ]
  },
  {
   "attachments": {},
   "cell_type": "markdown",
   "id": "13053f6b",
   "metadata": {},
   "source": [
    "`Flag` column doesn't seem to have any value. So we can drop the column"
   ]
  },
  {
   "cell_type": "code",
   "execution_count": 57,
   "id": "146fd2d9",
   "metadata": {},
   "outputs": [],
   "source": [
    "# dropping column Flag\n",
    "df = df.drop(columns='Flag')"
   ]
  },
  {
   "cell_type": "code",
   "execution_count": 68,
   "id": "a1897462",
   "metadata": {
    "scrolled": true
   },
   "outputs": [
    {
     "data": {
      "text/html": [
       "<div>\n",
       "<style scoped>\n",
       "    .dataframe tbody tr th:only-of-type {\n",
       "        vertical-align: middle;\n",
       "    }\n",
       "\n",
       "    .dataframe tbody tr th {\n",
       "        vertical-align: top;\n",
       "    }\n",
       "\n",
       "    .dataframe thead th {\n",
       "        text-align: right;\n",
       "    }\n",
       "</style>\n",
       "<table border=\"1\" class=\"dataframe\">\n",
       "  <thead>\n",
       "    <tr style=\"text-align: right;\">\n",
       "      <th></th>\n",
       "      <th>Sentiment</th>\n",
       "      <th>Id</th>\n",
       "      <th>Date</th>\n",
       "      <th>User</th>\n",
       "      <th>Tweet</th>\n",
       "    </tr>\n",
       "  </thead>\n",
       "  <tbody>\n",
       "    <tr>\n",
       "      <th>0</th>\n",
       "      <td>0</td>\n",
       "      <td>1467810369</td>\n",
       "      <td>2009-04-06 22:19:45</td>\n",
       "      <td>_TheSpecialOne_</td>\n",
       "      <td>@switchfoot http://twitpic.com/2y1zl - Awww, that's a bummer.  You shoulda got David Carr of Third Day to do it. ;D</td>\n",
       "    </tr>\n",
       "  </tbody>\n",
       "</table>\n",
       "</div>"
      ],
      "text/plain": [
       "   Sentiment          Id                Date             User  \\\n",
       "0          0  1467810369 2009-04-06 22:19:45  _TheSpecialOne_   \n",
       "\n",
       "                                                                                                                 Tweet  \n",
       "0  @switchfoot http://twitpic.com/2y1zl - Awww, that's a bummer.  You shoulda got David Carr of Third Day to do it. ;D  "
      ]
     },
     "execution_count": 68,
     "metadata": {},
     "output_type": "execute_result"
    }
   ],
   "source": [
    "# sanity check\n",
    "df.head(1)"
   ]
  },
  {
   "attachments": {},
   "cell_type": "markdown",
   "id": "d987808a",
   "metadata": {},
   "source": [
    "By checking the data frame, we have successfully dropped the `Flag` column\n",
    "\n",
    "Let's have a look at `Sentiment` column and see if our data is balanced or imbalance"
   ]
  },
  {
   "cell_type": "code",
   "execution_count": 60,
   "id": "85693552",
   "metadata": {},
   "outputs": [
    {
     "data": {
      "text/plain": [
       "Sentiment\n",
       "0    800000\n",
       "4    800000\n",
       "Name: count, dtype: int64"
      ]
     },
     "execution_count": 60,
     "metadata": {},
     "output_type": "execute_result"
    }
   ],
   "source": [
    "df['Sentiment'].value_counts()"
   ]
  },
  {
   "attachments": {},
   "cell_type": "markdown",
   "id": "77bac69d",
   "metadata": {},
   "source": [
    "WOW!! we have a balanced dataset, Let's change the value to binary `1` and `0`"
   ]
  },
  {
   "cell_type": "code",
   "execution_count": 61,
   "id": "65d5e1da",
   "metadata": {},
   "outputs": [],
   "source": [
    "df[\"Sentiment\"] = np.where(df[\"Sentiment\"] == 4, 1, 0)"
   ]
  },
  {
   "cell_type": "code",
   "execution_count": 62,
   "id": "e033d099",
   "metadata": {
    "scrolled": false
   },
   "outputs": [
    {
     "data": {
      "image/png": "[encoded data removed]",
      "text/plain": [
       "<Figure size 1000x400 with 1 Axes>"
      ]
     },
     "metadata": {},
     "output_type": "display_data"
    }
   ],
   "source": [
    "plt.figure(figsize=(10,4))\n",
    "df['Sentiment'].value_counts().plot(kind='bar', rot=0, color=['#FF7F0E', '#3685BC'])\n",
    "plt.title(\"Target Distirbution\")\n",
    "plt.xlabel(\"Sentiment\")\n",
    "plt.ylabel(\"Count\")\n",
    "\n",
    "plt.show()"
   ]
  },
  {
   "attachments": {},
   "cell_type": "markdown",
   "id": "feb46ddf",
   "metadata": {},
   "source": [
    "As we observe the graph above we have a balanced data set.\n",
    "\n",
    "Let's have a look at `Id` column"
   ]
  },
  {
   "cell_type": "code",
   "execution_count": 94,
   "id": "fd935132",
   "metadata": {},
   "outputs": [
    {
     "data": {
      "text/plain": [
       "2190457769    2\n",
       "1972193428    2\n",
       "1989776729    2\n",
       "1989776908    2\n",
       "1564543229    2\n",
       "             ..\n",
       "2197311196    1\n",
       "2197311146    1\n",
       "2197310899    1\n",
       "2197310477    1\n",
       "2193602129    1\n",
       "Name: Id, Length: 1598315, dtype: int64"
      ]
     },
     "execution_count": 94,
     "metadata": {},
     "output_type": "execute_result"
    }
   ],
   "source": [
    "df['Id'].value_counts()"
   ]
  },
  {
   "attachments": {},
   "cell_type": "markdown",
   "id": "f0ee5e50",
   "metadata": {},
   "source": [
    "It might seem some tweets are duplicated. Let's proof that and show if there are any duplicated Tweet."
   ]
  },
  {
   "cell_type": "code",
   "execution_count": 96,
   "id": "fc43d125",
   "metadata": {},
   "outputs": [
    {
     "name": "stdout",
     "output_type": "stream",
     "text": [
      "Id columns duplicate values: 1685\n",
      "User columns duplicate values: 940225\n",
      "Tweet columns duplicate values: 18534\n"
     ]
    }
   ],
   "source": [
    "print(f'Id columns duplicate values: {df[\"Id\"].duplicated().sum()}')\n",
    "print(f'User columns duplicate values: {df[\"User\"].duplicated().sum()}')\n",
    "print(f'Tweet columns duplicate values: {df[\"Tweet\"].duplicated().sum()}')"
   ]
  },
  {
   "attachments": {},
   "cell_type": "markdown",
   "id": "3dd71a0c",
   "metadata": {},
   "source": [
    "We can see there are `1,685` duplicated tweets as per `Id` column"
   ]
  },
  {
   "cell_type": "code",
   "execution_count": 84,
   "id": "7018ee79",
   "metadata": {
    "scrolled": true
   },
   "outputs": [
    {
     "data": {
      "text/html": [
       "<div>\n",
       "<style scoped>\n",
       "    .dataframe tbody tr th:only-of-type {\n",
       "        vertical-align: middle;\n",
       "    }\n",
       "\n",
       "    .dataframe tbody tr th {\n",
       "        vertical-align: top;\n",
       "    }\n",
       "\n",
       "    .dataframe thead th {\n",
       "        text-align: right;\n",
       "    }\n",
       "</style>\n",
       "<table border=\"1\" class=\"dataframe\">\n",
       "  <thead>\n",
       "    <tr style=\"text-align: right;\">\n",
       "      <th></th>\n",
       "      <th>Sentiment</th>\n",
       "      <th>Id</th>\n",
       "      <th>Date</th>\n",
       "      <th>User</th>\n",
       "      <th>Tweet</th>\n",
       "    </tr>\n",
       "  </thead>\n",
       "  <tbody>\n",
       "    <tr>\n",
       "      <th>213</th>\n",
       "      <td>0</td>\n",
       "      <td>1467863684</td>\n",
       "      <td>2009-04-06 22:33:35</td>\n",
       "      <td>DjGundam</td>\n",
       "      <td>Awwh babs... you look so sad underneith that shop entrance of &amp;quot;Yesterday's Musik&amp;quot;  O-: I like the look of the new transformer movie</td>\n",
       "    </tr>\n",
       "    <tr>\n",
       "      <th>275</th>\n",
       "      <td>0</td>\n",
       "      <td>1467880442</td>\n",
       "      <td>2009-04-06 22:38:04</td>\n",
       "      <td>iCalvin</td>\n",
       "      <td>Haven't tweeted nearly all day  Posted my website tonight, hopefully that goes well  Night time!</td>\n",
       "    </tr>\n",
       "    <tr>\n",
       "      <th>989</th>\n",
       "      <td>0</td>\n",
       "      <td>1468053611</td>\n",
       "      <td>2009-04-06 23:28:09</td>\n",
       "      <td>mariejamora</td>\n",
       "      <td>@hellobebe I also send some updates in plurk but i upload photos on twitter!  you didnt see any of my updates on plurk? Zero?</td>\n",
       "    </tr>\n",
       "    <tr>\n",
       "      <th>1177</th>\n",
       "      <td>0</td>\n",
       "      <td>1468100580</td>\n",
       "      <td>2009-04-06 23:42:57</td>\n",
       "      <td>cristygarza</td>\n",
       "      <td>good night swetdreamss to everyonee   and jared never chat in kyte puff</td>\n",
       "    </tr>\n",
       "    <tr>\n",
       "      <th>1254</th>\n",
       "      <td>0</td>\n",
       "      <td>1468115720</td>\n",
       "      <td>2009-04-06 23:48:00</td>\n",
       "      <td>WarholGirl</td>\n",
       "      <td>@ientje89 aw i'm fine too thanks! yeah i miss you so much on the MFC  but hope we can talk later on today  kisses :huglove:</td>\n",
       "    </tr>\n",
       "    <tr>\n",
       "      <th>...</th>\n",
       "      <td>...</td>\n",
       "      <td>...</td>\n",
       "      <td>...</td>\n",
       "      <td>...</td>\n",
       "      <td>...</td>\n",
       "    </tr>\n",
       "    <tr>\n",
       "      <th>1598780</th>\n",
       "      <td>1</td>\n",
       "      <td>2193278017</td>\n",
       "      <td>2009-06-16 08:14:22</td>\n",
       "      <td>janiecwales</td>\n",
       "      <td>oh dear HH is back   please twitter do something about her.  I'm begging you, please pretty please</td>\n",
       "    </tr>\n",
       "    <tr>\n",
       "      <th>1599298</th>\n",
       "      <td>1</td>\n",
       "      <td>2193403830</td>\n",
       "      <td>2009-06-16 08:24:44</td>\n",
       "      <td>lauren__x33</td>\n",
       "      <td>english exam went okay        revising for french, r.e and geography now, urrff</td>\n",
       "    </tr>\n",
       "    <tr>\n",
       "      <th>1599385</th>\n",
       "      <td>1</td>\n",
       "      <td>2193428118</td>\n",
       "      <td>2009-06-16 08:26:44</td>\n",
       "      <td>bubbles00</td>\n",
       "      <td>finally finished typing!!!! Woohoooo  , still need to add graphs though</td>\n",
       "    </tr>\n",
       "    <tr>\n",
       "      <th>1599440</th>\n",
       "      <td>1</td>\n",
       "      <td>2193451289</td>\n",
       "      <td>2009-06-16 08:28:37</td>\n",
       "      <td>faiznurdavid</td>\n",
       "      <td>@fanafatin see, @misschimichanga tweet u to join us!! u really cant?  so if thurs, when &amp;amp; where?</td>\n",
       "    </tr>\n",
       "    <tr>\n",
       "      <th>1599931</th>\n",
       "      <td>1</td>\n",
       "      <td>2193576442</td>\n",
       "      <td>2009-06-16 08:38:45</td>\n",
       "      <td>emma_b_xox</td>\n",
       "      <td>Had an injection today. Not fun  the rrst of the school day has been good. Tonight i am going dancing yey</td>\n",
       "    </tr>\n",
       "  </tbody>\n",
       "</table>\n",
       "<p>3370 rows × 5 columns</p>\n",
       "</div>"
      ],
      "text/plain": [
       "         Sentiment          Id                Date          User  \\\n",
       "213              0  1467863684 2009-04-06 22:33:35      DjGundam   \n",
       "275              0  1467880442 2009-04-06 22:38:04       iCalvin   \n",
       "989              0  1468053611 2009-04-06 23:28:09   mariejamora   \n",
       "1177             0  1468100580 2009-04-06 23:42:57   cristygarza   \n",
       "1254             0  1468115720 2009-04-06 23:48:00    WarholGirl   \n",
       "...            ...         ...                 ...           ...   \n",
       "1598780          1  2193278017 2009-06-16 08:14:22   janiecwales   \n",
       "1599298          1  2193403830 2009-06-16 08:24:44   lauren__x33   \n",
       "1599385          1  2193428118 2009-06-16 08:26:44     bubbles00   \n",
       "1599440          1  2193451289 2009-06-16 08:28:37  faiznurdavid   \n",
       "1599931          1  2193576442 2009-06-16 08:38:45    emma_b_xox   \n",
       "\n",
       "                                                                                                                                                  Tweet  \n",
       "213      Awwh babs... you look so sad underneith that shop entrance of &quot;Yesterday's Musik&quot;  O-: I like the look of the new transformer movie   \n",
       "275                                                    Haven't tweeted nearly all day  Posted my website tonight, hopefully that goes well  Night time!  \n",
       "989                      @hellobebe I also send some updates in plurk but i upload photos on twitter!  you didnt see any of my updates on plurk? Zero?   \n",
       "1177                                                                           good night swetdreamss to everyonee   and jared never chat in kyte puff   \n",
       "1254                        @ientje89 aw i'm fine too thanks! yeah i miss you so much on the MFC  but hope we can talk later on today  kisses :huglove:  \n",
       "...                                                                                                                                                 ...  \n",
       "1598780                                             oh dear HH is back   please twitter do something about her.  I'm begging you, please pretty please   \n",
       "1599298                                                                english exam went okay        revising for french, r.e and geography now, urrff   \n",
       "1599385                                                                        finally finished typing!!!! Woohoooo  , still need to add graphs though   \n",
       "1599440                                           @fanafatin see, @misschimichanga tweet u to join us!! u really cant?  so if thurs, when &amp; where?   \n",
       "1599931                                      Had an injection today. Not fun  the rrst of the school day has been good. Tonight i am going dancing yey   \n",
       "\n",
       "[3370 rows x 5 columns]"
      ]
     },
     "execution_count": 84,
     "metadata": {},
     "output_type": "execute_result"
    }
   ],
   "source": [
    "df[df.duplicated(subset=['Id', 'Tweet'], keep=False)]"
   ]
  },
  {
   "attachments": {},
   "cell_type": "markdown",
   "id": "cc915955",
   "metadata": {},
   "source": [
    "The dataframe above pulls out all the duplicated `Tweets` We can take a closer look by selecting one `Id` => `1467863684`"
   ]
  },
  {
   "cell_type": "code",
   "execution_count": 80,
   "id": "b592d49a",
   "metadata": {},
   "outputs": [
    {
     "data": {
      "text/html": [
       "<div>\n",
       "<style scoped>\n",
       "    .dataframe tbody tr th:only-of-type {\n",
       "        vertical-align: middle;\n",
       "    }\n",
       "\n",
       "    .dataframe tbody tr th {\n",
       "        vertical-align: top;\n",
       "    }\n",
       "\n",
       "    .dataframe thead th {\n",
       "        text-align: right;\n",
       "    }\n",
       "</style>\n",
       "<table border=\"1\" class=\"dataframe\">\n",
       "  <thead>\n",
       "    <tr style=\"text-align: right;\">\n",
       "      <th></th>\n",
       "      <th>Sentiment</th>\n",
       "      <th>Id</th>\n",
       "      <th>Date</th>\n",
       "      <th>User</th>\n",
       "      <th>Tweet</th>\n",
       "    </tr>\n",
       "  </thead>\n",
       "  <tbody>\n",
       "    <tr>\n",
       "      <th>1177</th>\n",
       "      <td>0</td>\n",
       "      <td>1468100580</td>\n",
       "      <td>2009-04-06 23:42:57</td>\n",
       "      <td>cristygarza</td>\n",
       "      <td>good night swetdreamss to everyonee   and jared never chat in kyte puff</td>\n",
       "    </tr>\n",
       "    <tr>\n",
       "      <th>801573</th>\n",
       "      <td>1</td>\n",
       "      <td>1468100580</td>\n",
       "      <td>2009-04-06 23:42:57</td>\n",
       "      <td>cristygarza</td>\n",
       "      <td>good night swetdreamss to everyonee   and jared never chat in kyte puff</td>\n",
       "    </tr>\n",
       "  </tbody>\n",
       "</table>\n",
       "</div>"
      ],
      "text/plain": [
       "        Sentiment          Id                Date         User  \\\n",
       "1177            0  1468100580 2009-04-06 23:42:57  cristygarza   \n",
       "801573          1  1468100580 2009-04-06 23:42:57  cristygarza   \n",
       "\n",
       "                                                                           Tweet  \n",
       "1177    good night swetdreamss to everyonee   and jared never chat in kyte puff   \n",
       "801573  good night swetdreamss to everyonee   and jared never chat in kyte puff   "
      ]
     },
     "execution_count": 80,
     "metadata": {},
     "output_type": "execute_result"
    }
   ],
   "source": [
    "df[df['Id'] == 1468100580]"
   ]
  },
  {
   "attachments": {},
   "cell_type": "markdown",
   "id": "05e28316",
   "metadata": {},
   "source": [
    "We can see there are duplicate tweets but having different `sentiment`. Based on the duplication of tweets above we can drop the duplicated tweet as some tweets are positive and some are negative\n",
    "\n",
    "We can go ahead and drop the duplicated tweet"
   ]
  },
  {
   "cell_type": "code",
   "execution_count": 85,
   "id": "d5e45c36",
   "metadata": {},
   "outputs": [],
   "source": [
    "df.drop_duplicates(subset=['Id', 'Tweet'], inplace=True)"
   ]
  },
  {
   "cell_type": "code",
   "execution_count": 87,
   "id": "572cd567",
   "metadata": {},
   "outputs": [
    {
     "data": {
      "text/plain": [
       "0"
      ]
     },
     "execution_count": 87,
     "metadata": {},
     "output_type": "execute_result"
    }
   ],
   "source": [
    "# sanity check\n",
    "df[\"Id\"].duplicated().sum()"
   ]
  },
  {
   "attachments": {},
   "cell_type": "markdown",
   "id": "81ed0b1f",
   "metadata": {},
   "source": [
    "We successfully dropped the duplicated `Tweets`\n",
    "\n",
    "Let's further check the `Id` column"
   ]
  },
  {
   "cell_type": "code",
   "execution_count": 92,
   "id": "4c35d50b",
   "metadata": {},
   "outputs": [
    {
     "data": {
      "text/plain": [
       "Id\n",
       "1467810369    1\n",
       "1965217307    1\n",
       "1965217986    1\n",
       "1965217981    1\n",
       "1965217921    1\n",
       "             ..\n",
       "2196889890    1\n",
       "2196879563    1\n",
       "2196878643    1\n",
       "2196878471    1\n",
       "2193602129    1\n",
       "Name: count, Length: 1598315, dtype: int64"
      ]
     },
     "execution_count": 92,
     "metadata": {},
     "output_type": "execute_result"
    }
   ],
   "source": [
    "df['Id'].value_counts()"
   ]
  },
  {
   "attachments": {},
   "cell_type": "markdown",
   "id": "6de3f075",
   "metadata": {},
   "source": [
    "We can ensure that we don't have any duplicate tweets as every Tweet is unique"
   ]
  },
  {
   "cell_type": "code",
   "execution_count": 93,
   "id": "51fa539e",
   "metadata": {
    "scrolled": true
   },
   "outputs": [
    {
     "name": "stdout",
     "output_type": "stream",
     "text": [
      "Id columns duplicate values: 0\n",
      "User columns duplicate values: 938540\n",
      "Tweet columns duplicate values: 16849\n"
     ]
    }
   ],
   "source": [
    "print(f'Id columns duplicate values: {df[\"Id\"].duplicated().sum()}')\n",
    "print(f'User columns duplicate values: {df[\"User\"].duplicated().sum()}')\n",
    "print(f'Tweet columns duplicate values: {df[\"Tweet\"].duplicated().sum()}')"
   ]
  },
  {
   "attachments": {},
   "cell_type": "markdown",
   "id": "b7cef07c",
   "metadata": {},
   "source": [
    "We can check the duplicate values in terms of a User who tweeted "
   ]
  },
  {
   "cell_type": "code",
   "execution_count": 95,
   "id": "280386bd",
   "metadata": {},
   "outputs": [
    {
     "data": {
      "text/plain": [
       "False    1594745\n",
       "True        3570\n",
       "Name: count, dtype: int64"
      ]
     },
     "execution_count": 95,
     "metadata": {},
     "output_type": "execute_result"
    }
   ],
   "source": [
    "user_tweet_dup = df.duplicated(subset=['User', 'Tweet']).value_counts()\n",
    "user_tweet_dup"
   ]
  },
  {
   "cell_type": "code",
   "execution_count": 100,
   "id": "3661fe72",
   "metadata": {},
   "outputs": [
    {
     "data": {
      "text/html": [
       "<div>\n",
       "<style scoped>\n",
       "    .dataframe tbody tr th:only-of-type {\n",
       "        vertical-align: middle;\n",
       "    }\n",
       "\n",
       "    .dataframe tbody tr th {\n",
       "        vertical-align: top;\n",
       "    }\n",
       "\n",
       "    .dataframe thead th {\n",
       "        text-align: right;\n",
       "    }\n",
       "</style>\n",
       "<table border=\"1\" class=\"dataframe\">\n",
       "  <thead>\n",
       "    <tr style=\"text-align: right;\">\n",
       "      <th></th>\n",
       "      <th>Sentiment</th>\n",
       "      <th>Id</th>\n",
       "      <th>Date</th>\n",
       "      <th>User</th>\n",
       "      <th>Tweet</th>\n",
       "    </tr>\n",
       "  </thead>\n",
       "  <tbody>\n",
       "    <tr>\n",
       "      <th>1598959</th>\n",
       "      <td>1</td>\n",
       "      <td>2193318357</td>\n",
       "      <td>2009-06-16 08:17:40</td>\n",
       "      <td>ummsistweets</td>\n",
       "      <td>cedar point with my biffs</td>\n",
       "    </tr>\n",
       "    <tr>\n",
       "      <th>1599353</th>\n",
       "      <td>1</td>\n",
       "      <td>2193427113</td>\n",
       "      <td>2009-06-16 08:26:38</td>\n",
       "      <td>parawhore182</td>\n",
       "      <td>Im busy. Drooling. Over this video. ;)  but yeahh it does work captain!  @lostducky0013</td>\n",
       "    </tr>\n",
       "    <tr>\n",
       "      <th>1599354</th>\n",
       "      <td>1</td>\n",
       "      <td>2193427134</td>\n",
       "      <td>2009-06-16 08:26:38</td>\n",
       "      <td>parawhore182</td>\n",
       "      <td>Im busy. Drooling. Over this video. ;)  but yeahh it does work captain!  @lostducky0013</td>\n",
       "    </tr>\n",
       "    <tr>\n",
       "      <th>1599377</th>\n",
       "      <td>1</td>\n",
       "      <td>2193427910</td>\n",
       "      <td>2009-06-16 08:26:43</td>\n",
       "      <td>ummsistweets</td>\n",
       "      <td>cedar point with my biffs</td>\n",
       "    </tr>\n",
       "    <tr>\n",
       "      <th>1599531</th>\n",
       "      <td>1</td>\n",
       "      <td>2193474515</td>\n",
       "      <td>2009-06-16 08:30:28</td>\n",
       "      <td>majaricious</td>\n",
       "      <td>@KhloeKardashian Definitely my Mom. And Angelina Jolie</td>\n",
       "    </tr>\n",
       "  </tbody>\n",
       "</table>\n",
       "</div>"
      ],
      "text/plain": [
       "         Sentiment          Id                Date          User  \\\n",
       "1598959          1  2193318357 2009-06-16 08:17:40  ummsistweets   \n",
       "1599353          1  2193427113 2009-06-16 08:26:38  parawhore182   \n",
       "1599354          1  2193427134 2009-06-16 08:26:38  parawhore182   \n",
       "1599377          1  2193427910 2009-06-16 08:26:43  ummsistweets   \n",
       "1599531          1  2193474515 2009-06-16 08:30:28   majaricious   \n",
       "\n",
       "                                                                                           Tweet  \n",
       "1598959                                                               cedar point with my biffs   \n",
       "1599353  Im busy. Drooling. Over this video. ;)  but yeahh it does work captain!  @lostducky0013  \n",
       "1599354  Im busy. Drooling. Over this video. ;)  but yeahh it does work captain!  @lostducky0013  \n",
       "1599377                                                               cedar point with my biffs   \n",
       "1599531                                  @KhloeKardashian Definitely my Mom. And Angelina Jolie   "
      ]
     },
     "execution_count": 100,
     "metadata": {},
     "output_type": "execute_result"
    }
   ],
   "source": [
    "df[df.duplicated(subset=['User', 'Tweet'], keep=False)].tail(5)"
   ]
  },
  {
   "attachments": {},
   "cell_type": "markdown",
   "id": "01bf625a",
   "metadata": {},
   "source": [
    "We can see from the dataframe above there are some duplicate Tweets"
   ]
  },
  {
   "cell_type": "code",
   "execution_count": 97,
   "id": "fc4196f5",
   "metadata": {},
   "outputs": [
    {
     "data": {
      "text/plain": [
       "0.2233602262382572"
      ]
     },
     "execution_count": 97,
     "metadata": {},
     "output_type": "execute_result"
    }
   ],
   "source": [
    "user_tweet_dup[1]/df.shape[0]*100"
   ]
  },
  {
   "attachments": {},
   "cell_type": "markdown",
   "id": "e5ba945e",
   "metadata": {},
   "source": [
    "There are around `3570` duplicates that can be removed, and it's less than 1%, so we can drop it"
   ]
  },
  {
   "cell_type": "code",
   "execution_count": 101,
   "id": "0fd016a8",
   "metadata": {},
   "outputs": [],
   "source": [
    "df.drop_duplicates(subset=['User', 'Tweet'], inplace=True)"
   ]
  },
  {
   "cell_type": "code",
   "execution_count": 102,
   "id": "38e6ff70",
   "metadata": {},
   "outputs": [
    {
     "data": {
      "text/plain": [
       "False    1594745\n",
       "Name: count, dtype: int64"
      ]
     },
     "execution_count": 102,
     "metadata": {},
     "output_type": "execute_result"
    }
   ],
   "source": [
    "# sanity check\n",
    "df.duplicated(subset=['User', 'Tweet']).value_counts()"
   ]
  },
  {
   "attachments": {},
   "cell_type": "markdown",
   "id": "1326b368",
   "metadata": {},
   "source": [
    "**Nice!** We dropped the duplicate tweets"
   ]
  },
  {
   "attachments": {},
   "cell_type": "markdown",
   "id": "6aee26d6",
   "metadata": {},
   "source": [
    "Next steps, let's look at `Tweet` column"
   ]
  },
  {
   "cell_type": "code",
   "execution_count": 217,
   "id": "c0c5ea66",
   "metadata": {},
   "outputs": [],
   "source": [
    "df_clean = df.copy()"
   ]
  },
  {
   "cell_type": "code",
   "execution_count": 218,
   "id": "ef2f19ad",
   "metadata": {},
   "outputs": [
    {
     "name": "stdout",
     "output_type": "stream",
     "text": [
      "True: The dataframe are copied correctly\n"
     ]
    }
   ],
   "source": [
    "#sanity check - copied correctly\n",
    "print(f'{df_clean.shape[0] == df.shape[0]}: The dataframe are copied correctly')"
   ]
  },
  {
   "cell_type": "code",
   "execution_count": 219,
   "id": "7bf96551",
   "metadata": {},
   "outputs": [
    {
     "data": {
      "text/html": [
       "<div>\n",
       "<style scoped>\n",
       "    .dataframe tbody tr th:only-of-type {\n",
       "        vertical-align: middle;\n",
       "    }\n",
       "\n",
       "    .dataframe tbody tr th {\n",
       "        vertical-align: top;\n",
       "    }\n",
       "\n",
       "    .dataframe thead th {\n",
       "        text-align: right;\n",
       "    }\n",
       "</style>\n",
       "<table border=\"1\" class=\"dataframe\">\n",
       "  <thead>\n",
       "    <tr style=\"text-align: right;\">\n",
       "      <th></th>\n",
       "      <th>Sentiment</th>\n",
       "      <th>Id</th>\n",
       "      <th>Date</th>\n",
       "      <th>User</th>\n",
       "      <th>Tweet</th>\n",
       "    </tr>\n",
       "  </thead>\n",
       "  <tbody>\n",
       "    <tr>\n",
       "      <th>0</th>\n",
       "      <td>0</td>\n",
       "      <td>1467810369</td>\n",
       "      <td>2009-04-06 22:19:45</td>\n",
       "      <td>_TheSpecialOne_</td>\n",
       "      <td>@switchfoot http://twitpic.com/2y1zl - Awww, that's a bummer.  You shoulda got David Carr of Third Day to do it. ;D</td>\n",
       "    </tr>\n",
       "  </tbody>\n",
       "</table>\n",
       "</div>"
      ],
      "text/plain": [
       "   Sentiment          Id                Date             User  \\\n",
       "0          0  1467810369 2009-04-06 22:19:45  _TheSpecialOne_   \n",
       "\n",
       "                                                                                                                 Tweet  \n",
       "0  @switchfoot http://twitpic.com/2y1zl - Awww, that's a bummer.  You shoulda got David Carr of Third Day to do it. ;D  "
      ]
     },
     "execution_count": 219,
     "metadata": {},
     "output_type": "execute_result"
    }
   ],
   "source": [
    "df_clean.head(1)"
   ]
  },
  {
   "cell_type": "code",
   "execution_count": 220,
   "id": "3bdd7d36",
   "metadata": {},
   "outputs": [
    {
     "data": {
      "text/html": [
       "<div>\n",
       "<style scoped>\n",
       "    .dataframe tbody tr th:only-of-type {\n",
       "        vertical-align: middle;\n",
       "    }\n",
       "\n",
       "    .dataframe tbody tr th {\n",
       "        vertical-align: top;\n",
       "    }\n",
       "\n",
       "    .dataframe thead th {\n",
       "        text-align: right;\n",
       "    }\n",
       "</style>\n",
       "<table border=\"1\" class=\"dataframe\">\n",
       "  <thead>\n",
       "    <tr style=\"text-align: right;\">\n",
       "      <th></th>\n",
       "      <th>Sentiment</th>\n",
       "      <th>Id</th>\n",
       "    </tr>\n",
       "  </thead>\n",
       "  <tbody>\n",
       "    <tr>\n",
       "      <th>Sentiment</th>\n",
       "      <td>1.000000</td>\n",
       "      <td>-0.261886</td>\n",
       "    </tr>\n",
       "    <tr>\n",
       "      <th>Id</th>\n",
       "      <td>-0.261886</td>\n",
       "      <td>1.000000</td>\n",
       "    </tr>\n",
       "  </tbody>\n",
       "</table>\n",
       "</div>"
      ],
      "text/plain": [
       "           Sentiment        Id\n",
       "Sentiment   1.000000 -0.261886\n",
       "Id         -0.261886  1.000000"
      ]
     },
     "execution_count": 220,
     "metadata": {},
     "output_type": "execute_result"
    }
   ],
   "source": [
    "df_clean[['Sentiment', 'Id']].corr()"
   ]
  },
  {
   "attachments": {},
   "cell_type": "markdown",
   "id": "84c55149",
   "metadata": {},
   "source": [
    "We observe the correlation between `Id` and `Sentiment` is not that high. Though, we can drop the column as our main focus on `Tweet` column"
   ]
  },
  {
   "cell_type": "code",
   "execution_count": 221,
   "id": "912bd3f7",
   "metadata": {},
   "outputs": [],
   "source": [
    "# dropping ID column\n",
    "df_clean.drop(columns='Id', inplace=True)"
   ]
  },
  {
   "cell_type": "code",
   "execution_count": 222,
   "id": "b34c4a4e",
   "metadata": {},
   "outputs": [
    {
     "data": {
      "text/html": [
       "<div>\n",
       "<style scoped>\n",
       "    .dataframe tbody tr th:only-of-type {\n",
       "        vertical-align: middle;\n",
       "    }\n",
       "\n",
       "    .dataframe tbody tr th {\n",
       "        vertical-align: top;\n",
       "    }\n",
       "\n",
       "    .dataframe thead th {\n",
       "        text-align: right;\n",
       "    }\n",
       "</style>\n",
       "<table border=\"1\" class=\"dataframe\">\n",
       "  <thead>\n",
       "    <tr style=\"text-align: right;\">\n",
       "      <th></th>\n",
       "      <th>Sentiment</th>\n",
       "      <th>Date</th>\n",
       "      <th>User</th>\n",
       "      <th>Tweet</th>\n",
       "    </tr>\n",
       "  </thead>\n",
       "  <tbody>\n",
       "    <tr>\n",
       "      <th>540052</th>\n",
       "      <td>0</td>\n",
       "      <td>2009-06-16 17:45:39</td>\n",
       "      <td>pastryqueen</td>\n",
       "      <td>@bitterbiscuit   breathe.  I was thinking how I want a big bowl of pasta but it has to be eaten in front of your dining room window.</td>\n",
       "    </tr>\n",
       "    <tr>\n",
       "      <th>1199288</th>\n",
       "      <td>1</td>\n",
       "      <td>2009-05-31 16:48:11</td>\n",
       "      <td>indie_rockbaby</td>\n",
       "      <td>@tiffy3603 buy me purple and i will sallys is at eastland center</td>\n",
       "    </tr>\n",
       "    <tr>\n",
       "      <th>1474580</th>\n",
       "      <td>1</td>\n",
       "      <td>2009-06-07 09:13:09</td>\n",
       "      <td>Laiinne</td>\n",
       "      <td>@tommcfly But u guys had to stay married for about a month I guess, otherwise u won't have good memories enough Tom!</td>\n",
       "    </tr>\n",
       "    <tr>\n",
       "      <th>908908</th>\n",
       "      <td>1</td>\n",
       "      <td>2009-05-09 18:30:34</td>\n",
       "      <td>ohdamitzrany</td>\n",
       "      <td>KMF going smoothly so far. Free stuff is always a plus.</td>\n",
       "    </tr>\n",
       "    <tr>\n",
       "      <th>754206</th>\n",
       "      <td>0</td>\n",
       "      <td>2009-06-22 18:27:28</td>\n",
       "      <td>sniiitch_x3</td>\n",
       "      <td>WOWOW. way to act like you like me then ignore me. awesome.</td>\n",
       "    </tr>\n",
       "  </tbody>\n",
       "</table>\n",
       "</div>"
      ],
      "text/plain": [
       "         Sentiment                Date            User  \\\n",
       "540052           0 2009-06-16 17:45:39     pastryqueen   \n",
       "1199288          1 2009-05-31 16:48:11  indie_rockbaby   \n",
       "1474580          1 2009-06-07 09:13:09         Laiinne   \n",
       "908908           1 2009-05-09 18:30:34    ohdamitzrany   \n",
       "754206           0 2009-06-22 18:27:28     sniiitch_x3   \n",
       "\n",
       "                                                                                                                                          Tweet  \n",
       "540052   @bitterbiscuit   breathe.  I was thinking how I want a big bowl of pasta but it has to be eaten in front of your dining room window.    \n",
       "1199288                                                                       @tiffy3603 buy me purple and i will sallys is at eastland center   \n",
       "1474580                   @tommcfly But u guys had to stay married for about a month I guess, otherwise u won't have good memories enough Tom!   \n",
       "908908                                                                                 KMF going smoothly so far. Free stuff is always a plus.   \n",
       "754206                                                                             WOWOW. way to act like you like me then ignore me. awesome.   "
      ]
     },
     "execution_count": 222,
     "metadata": {},
     "output_type": "execute_result"
    }
   ],
   "source": [
    "# sanity check\n",
    "df_clean.sample(5)"
   ]
  },
  {
   "attachments": {},
   "cell_type": "markdown",
   "id": "bcefb127",
   "metadata": {},
   "source": [
    "We successfully dropped `Id` column\n",
    "\n",
    "After looking at the `Tweet` column from the dataset. There are some cleaning steps we have to proceed in order for our model to work well:\n",
    "\n",
    "    1. Lower casing the `Tweet`\n",
    "    2. Filtering out and create a new column `Tagging`, `Hashtags`, `Emojis` \n",
    "    3. Removing punctuations, special characters (%,^,&,*), non-wording characters (ñ, ð, °, ð) and numerical values"
   ]
  },
  {
   "attachments": {},
   "cell_type": "markdown",
   "id": "f717165d",
   "metadata": {},
   "source": [
    "Convert to lowercase `Tweet`"
   ]
  },
  {
   "cell_type": "code",
   "execution_count": 223,
   "id": "ed5f0af9",
   "metadata": {},
   "outputs": [],
   "source": [
    "# Convert tweets to lower case\n",
    "df_clean['Tweet'] = df_clean['Tweet'].str.lower()"
   ]
  },
  {
   "cell_type": "code",
   "execution_count": 224,
   "id": "d3b5f62e",
   "metadata": {},
   "outputs": [
    {
     "data": {
      "text/plain": [
       "0          @switchfoot http://twitpic.com/2y1zl - awww, that's a bummer.  you shoulda got david carr of third day to do it. ;d\n",
       "1              is upset that he can't update his facebook by texting it... and might cry as a result  school today also. blah!\n",
       "2                                    @kenichan i dived many times for the ball. managed to save 50%  the rest go out of bounds\n",
       "3                                                                              my whole body feels itchy and like its on fire \n",
       "4              @nationwideclass no, it's not behaving at all. i'm mad. why am i here? because i can't see you all over there. \n",
       "                                                                  ...                                                         \n",
       "1599995                                                               just woke up. having no school is the best feeling ever \n",
       "1599996                                         thewdb.com - very cool to hear old walt interviews!  â« http://blip.fm/~8bmta\n",
       "1599997                                                              are you ready for your mojo makeover? ask me for details \n",
       "1599998                                                      happy 38th birthday to my boo of alll time!!! tupac amaru shakur \n",
       "1599999                                                         happy #charitytuesday @thenspcc @sparkscharity @speakinguph4h \n",
       "Name: Tweet, Length: 1594745, dtype: object"
      ]
     },
     "execution_count": 224,
     "metadata": {},
     "output_type": "execute_result"
    }
   ],
   "source": [
    "# sanity check\n",
    "df_clean['Tweet']"
   ]
  },
  {
   "attachments": {},
   "cell_type": "markdown",
   "id": "52198e12",
   "metadata": {},
   "source": [
    "Filtering out `Tagging` and `Hastags` by creating a new column"
   ]
  },
  {
   "cell_type": "code",
   "execution_count": 225,
   "id": "85e7b6c8",
   "metadata": {},
   "outputs": [],
   "source": [
    "# Tagging and hastags in new column\n",
    "df_clean['Tagging'] = df_clean['Tweet']\\\n",
    "    .apply(lambda x: ', '.join([mention.strip('@') for mention in x.split() if mention.startswith('@')]))\n",
    "df_clean['Hashtags'] = df_clean['Tweet']\\\n",
    "    .apply(lambda x: ', '.join([hashtag.strip('#') for hashtag in x.split() if hashtag.startswith('#')]))"
   ]
  },
  {
   "cell_type": "code",
   "execution_count": 226,
   "id": "3d9b1a30",
   "metadata": {},
   "outputs": [],
   "source": [
    "# replace an empty field to None\n",
    "df_clean['Tagging'] = df_clean['Tagging'].fillna('None').replace('', None)\n",
    "df_clean['Hashtags'] = df_clean['Hashtags'].fillna('None').replace('', None)"
   ]
  },
  {
   "attachments": {},
   "cell_type": "markdown",
   "id": "a5a26ed8",
   "metadata": {},
   "source": [
    "Filtering out `emojis` by creating a new column"
   ]
  },
  {
   "cell_type": "code",
   "execution_count": 227,
   "id": "230ea11b",
   "metadata": {},
   "outputs": [],
   "source": [
    "# Define the emojis pattern\n",
    "emojis_pattern = r'(:\\) |:\\]|: \\)|=\\)|:d|;d|:\\(|:\\[|:- \\))'\n",
    "\n",
    "# Add a new column to store the presence of emojis\n",
    "emojis = df_clean['Tweet'].str.extractall(emojis_pattern).groupby(level=0).agg(','.join)\n",
    "df_clean['Emojis'] = emojis if not emojis.empty else None\n",
    "df_clean['Emojis'] = df_clean['Emojis'].fillna('None')"
   ]
  },
  {
   "cell_type": "code",
   "execution_count": 228,
   "id": "e4dc0f46",
   "metadata": {
    "scrolled": true
   },
   "outputs": [
    {
     "data": {
      "text/html": [
       "<div>\n",
       "<style scoped>\n",
       "    .dataframe tbody tr th:only-of-type {\n",
       "        vertical-align: middle;\n",
       "    }\n",
       "\n",
       "    .dataframe tbody tr th {\n",
       "        vertical-align: top;\n",
       "    }\n",
       "\n",
       "    .dataframe thead th {\n",
       "        text-align: right;\n",
       "    }\n",
       "</style>\n",
       "<table border=\"1\" class=\"dataframe\">\n",
       "  <thead>\n",
       "    <tr style=\"text-align: right;\">\n",
       "      <th></th>\n",
       "      <th>Sentiment</th>\n",
       "      <th>Date</th>\n",
       "      <th>User</th>\n",
       "      <th>Tweet</th>\n",
       "      <th>Tagging</th>\n",
       "      <th>Hashtags</th>\n",
       "      <th>Emojis</th>\n",
       "    </tr>\n",
       "  </thead>\n",
       "  <tbody>\n",
       "    <tr>\n",
       "      <th>0</th>\n",
       "      <td>0</td>\n",
       "      <td>2009-04-06 22:19:45</td>\n",
       "      <td>_TheSpecialOne_</td>\n",
       "      <td>@switchfoot http://twitpic.com/2y1zl - awww, that's a bummer.  you shoulda got david carr of third day to do it. ;d</td>\n",
       "      <td>switchfoot</td>\n",
       "      <td>None</td>\n",
       "      <td>;d</td>\n",
       "    </tr>\n",
       "    <tr>\n",
       "      <th>1</th>\n",
       "      <td>0</td>\n",
       "      <td>2009-04-06 22:19:49</td>\n",
       "      <td>scotthamilton</td>\n",
       "      <td>is upset that he can't update his facebook by texting it... and might cry as a result  school today also. blah!</td>\n",
       "      <td>None</td>\n",
       "      <td>None</td>\n",
       "      <td>None</td>\n",
       "    </tr>\n",
       "    <tr>\n",
       "      <th>2</th>\n",
       "      <td>0</td>\n",
       "      <td>2009-04-06 22:19:53</td>\n",
       "      <td>mattycus</td>\n",
       "      <td>@kenichan i dived many times for the ball. managed to save 50%  the rest go out of bounds</td>\n",
       "      <td>kenichan</td>\n",
       "      <td>None</td>\n",
       "      <td>None</td>\n",
       "    </tr>\n",
       "    <tr>\n",
       "      <th>3</th>\n",
       "      <td>0</td>\n",
       "      <td>2009-04-06 22:19:57</td>\n",
       "      <td>ElleCTF</td>\n",
       "      <td>my whole body feels itchy and like its on fire</td>\n",
       "      <td>None</td>\n",
       "      <td>None</td>\n",
       "      <td>None</td>\n",
       "    </tr>\n",
       "    <tr>\n",
       "      <th>4</th>\n",
       "      <td>0</td>\n",
       "      <td>2009-04-06 22:19:57</td>\n",
       "      <td>Karoli</td>\n",
       "      <td>@nationwideclass no, it's not behaving at all. i'm mad. why am i here? because i can't see you all over there.</td>\n",
       "      <td>nationwideclass</td>\n",
       "      <td>None</td>\n",
       "      <td>None</td>\n",
       "    </tr>\n",
       "  </tbody>\n",
       "</table>\n",
       "</div>"
      ],
      "text/plain": [
       "   Sentiment                Date             User  \\\n",
       "0          0 2009-04-06 22:19:45  _TheSpecialOne_   \n",
       "1          0 2009-04-06 22:19:49    scotthamilton   \n",
       "2          0 2009-04-06 22:19:53         mattycus   \n",
       "3          0 2009-04-06 22:19:57          ElleCTF   \n",
       "4          0 2009-04-06 22:19:57           Karoli   \n",
       "\n",
       "                                                                                                                 Tweet  \\\n",
       "0  @switchfoot http://twitpic.com/2y1zl - awww, that's a bummer.  you shoulda got david carr of third day to do it. ;d   \n",
       "1      is upset that he can't update his facebook by texting it... and might cry as a result  school today also. blah!   \n",
       "2                            @kenichan i dived many times for the ball. managed to save 50%  the rest go out of bounds   \n",
       "3                                                                      my whole body feels itchy and like its on fire    \n",
       "4      @nationwideclass no, it's not behaving at all. i'm mad. why am i here? because i can't see you all over there.    \n",
       "\n",
       "           Tagging Hashtags Emojis  \n",
       "0       switchfoot     None     ;d  \n",
       "1             None     None   None  \n",
       "2         kenichan     None   None  \n",
       "3             None     None   None  \n",
       "4  nationwideclass     None   None  "
      ]
     },
     "execution_count": 228,
     "metadata": {},
     "output_type": "execute_result"
    }
   ],
   "source": [
    "# sanity check\n",
    "df_clean.head(5)"
   ]
  },
  {
   "attachments": {},
   "cell_type": "markdown",
   "id": "9ccf4fd3",
   "metadata": {},
   "source": [
    "We successfully created new columns. We can observe some None fields, which we will discover later in this notebook\n",
    "\n",
    "We will start by cleaning special characters"
   ]
  },
  {
   "cell_type": "code",
   "execution_count": 229,
   "id": "ec65b0ea",
   "metadata": {},
   "outputs": [],
   "source": [
    "df_clean['Tweet'] = df_clean['Tweet'].str.replace(r\"&quot;\", ' ', regex=True)\n",
    "df_clean['Tweet'] = df_clean['Tweet'].str.replace(r\"&amp;\", ' ', regex=True)\n",
    "df_clean['Tweet'] = df_clean['Tweet'].str.replace(r\"&gt;\", ' ', regex=True)\n",
    "df_clean['Tweet'] = df_clean['Tweet'].str.replace(r\"&lt;\", ' ', regex=True)"
   ]
  },
  {
   "cell_type": "code",
   "execution_count": 230,
   "id": "26193950",
   "metadata": {},
   "outputs": [
    {
     "data": {
      "text/html": [
       "<div>\n",
       "<style scoped>\n",
       "    .dataframe tbody tr th:only-of-type {\n",
       "        vertical-align: middle;\n",
       "    }\n",
       "\n",
       "    .dataframe tbody tr th {\n",
       "        vertical-align: top;\n",
       "    }\n",
       "\n",
       "    .dataframe thead th {\n",
       "        text-align: right;\n",
       "    }\n",
       "</style>\n",
       "<table border=\"1\" class=\"dataframe\">\n",
       "  <thead>\n",
       "    <tr style=\"text-align: right;\">\n",
       "      <th></th>\n",
       "      <th>Sentiment</th>\n",
       "      <th>Date</th>\n",
       "      <th>User</th>\n",
       "      <th>Tweet</th>\n",
       "      <th>Tagging</th>\n",
       "      <th>Hashtags</th>\n",
       "      <th>Emojis</th>\n",
       "    </tr>\n",
       "  </thead>\n",
       "  <tbody>\n",
       "    <tr>\n",
       "      <th>1471948</th>\n",
       "      <td>1</td>\n",
       "      <td>2009-06-07 08:18:30</td>\n",
       "      <td>c0der</td>\n",
       "      <td>ð³ñ. twitter ñð°ð±ð¾ñð°ðµñ ð¸ ð¿ð¾ https</td>\n",
       "      <td>None</td>\n",
       "      <td>None</td>\n",
       "      <td>None</td>\n",
       "    </tr>\n",
       "  </tbody>\n",
       "</table>\n",
       "</div>"
      ],
      "text/plain": [
       "         Sentiment                Date   User  \\\n",
       "1471948          1 2009-06-07 08:18:30  c0der   \n",
       "\n",
       "                                                 Tweet Tagging Hashtags Emojis  \n",
       "1471948  ð³ñ. twitter ñð°ð±ð¾ñð°ðµñ ð¸ ð¿ð¾ https     None     None   None  "
      ]
     },
     "execution_count": 230,
     "metadata": {},
     "output_type": "execute_result"
    }
   ],
   "source": [
    "df_clean[df_clean['User'] == 'c0der']"
   ]
  },
  {
   "attachments": {},
   "cell_type": "markdown",
   "id": "7c983051",
   "metadata": {},
   "source": [
    "It seems there are alot of unknown characters which might be in another language or an emojis. I have gathered all the special characters, we can start filtering out the characters. "
   ]
  },
  {
   "cell_type": "code",
   "execution_count": 231,
   "id": "38fd8710",
   "metadata": {},
   "outputs": [],
   "source": [
    "df_clean.drop(df_clean[df_clean['Tweet'].str.contains(r'ñ||å||§|ù||¹|¡|³|ã|©|®|â|¬|î|±|ä|°|ð|ç||é|ì|²|\\\n",
    "                                    ¢|×|¨|æ|¸|ë|ê|»|¶|à|¼|¾||£|')].index, inplace=True)"
   ]
  },
  {
   "cell_type": "code",
   "execution_count": 232,
   "id": "84ca60ce",
   "metadata": {},
   "outputs": [
    {
     "data": {
      "text/html": [
       "<div>\n",
       "<style scoped>\n",
       "    .dataframe tbody tr th:only-of-type {\n",
       "        vertical-align: middle;\n",
       "    }\n",
       "\n",
       "    .dataframe tbody tr th {\n",
       "        vertical-align: top;\n",
       "    }\n",
       "\n",
       "    .dataframe thead th {\n",
       "        text-align: right;\n",
       "    }\n",
       "</style>\n",
       "<table border=\"1\" class=\"dataframe\">\n",
       "  <thead>\n",
       "    <tr style=\"text-align: right;\">\n",
       "      <th></th>\n",
       "      <th>Sentiment</th>\n",
       "      <th>Date</th>\n",
       "      <th>User</th>\n",
       "      <th>Tweet</th>\n",
       "      <th>Tagging</th>\n",
       "      <th>Hashtags</th>\n",
       "      <th>Emojis</th>\n",
       "    </tr>\n",
       "  </thead>\n",
       "  <tbody>\n",
       "    <tr>\n",
       "      <th>618333</th>\n",
       "      <td>0</td>\n",
       "      <td>2009-06-18 13:15:11</td>\n",
       "      <td>CharlesMurphyVI</td>\n",
       "      <td>sorry  this is the article http://tinyurl.com/mewdm3</td>\n",
       "      <td>None</td>\n",
       "      <td>None</td>\n",
       "      <td>None</td>\n",
       "    </tr>\n",
       "    <tr>\n",
       "      <th>623739</th>\n",
       "      <td>0</td>\n",
       "      <td>2009-06-18 16:01:58</td>\n",
       "      <td>Canterk2008</td>\n",
       "      <td>just got back from taking my little chihuahua to the vet. poor little guy was bit by a rattlesnake and has to spend the night at the vets</td>\n",
       "      <td>None</td>\n",
       "      <td>None</td>\n",
       "      <td>None</td>\n",
       "    </tr>\n",
       "    <tr>\n",
       "      <th>503136</th>\n",
       "      <td>0</td>\n",
       "      <td>2009-06-15 20:44:17</td>\n",
       "      <td>Geo31107</td>\n",
       "      <td>so many problems right now, first her doubt and now two friends that i care about hate me.  i wanna die right now!</td>\n",
       "      <td>None</td>\n",
       "      <td>None</td>\n",
       "      <td>None</td>\n",
       "    </tr>\n",
       "    <tr>\n",
       "      <th>702905</th>\n",
       "      <td>0</td>\n",
       "      <td>2009-06-20 11:25:10</td>\n",
       "      <td>mamakin915</td>\n",
       "      <td>@slayerofman happy father's day sweetee...mama misses you too much.</td>\n",
       "      <td>slayerofman</td>\n",
       "      <td>None</td>\n",
       "      <td>None</td>\n",
       "    </tr>\n",
       "    <tr>\n",
       "      <th>512795</th>\n",
       "      <td>0</td>\n",
       "      <td>2009-06-16 02:07:11</td>\n",
       "      <td>goober925</td>\n",
       "      <td>i guess i'm not driving my car for awhile</td>\n",
       "      <td>None</td>\n",
       "      <td>None</td>\n",
       "      <td>None</td>\n",
       "    </tr>\n",
       "  </tbody>\n",
       "</table>\n",
       "</div>"
      ],
      "text/plain": [
       "        Sentiment                Date             User  \\\n",
       "618333          0 2009-06-18 13:15:11  CharlesMurphyVI   \n",
       "623739          0 2009-06-18 16:01:58      Canterk2008   \n",
       "503136          0 2009-06-15 20:44:17         Geo31107   \n",
       "702905          0 2009-06-20 11:25:10       mamakin915   \n",
       "512795          0 2009-06-16 02:07:11        goober925   \n",
       "\n",
       "                                                                                                                                             Tweet  \\\n",
       "618333                                                                                        sorry  this is the article http://tinyurl.com/mewdm3   \n",
       "623739  just got back from taking my little chihuahua to the vet. poor little guy was bit by a rattlesnake and has to spend the night at the vets    \n",
       "503136                         so many problems right now, first her doubt and now two friends that i care about hate me.  i wanna die right now!    \n",
       "702905                                                                        @slayerofman happy father's day sweetee...mama misses you too much.    \n",
       "512795                                                                                                  i guess i'm not driving my car for awhile    \n",
       "\n",
       "            Tagging Hashtags Emojis  \n",
       "618333         None     None   None  \n",
       "623739         None     None   None  \n",
       "503136         None     None   None  \n",
       "702905  slayerofman     None   None  \n",
       "512795         None     None   None  "
      ]
     },
     "execution_count": 232,
     "metadata": {},
     "output_type": "execute_result"
    }
   ],
   "source": [
    "# sanity check using regex \n",
    "df_clean[df_clean['Tweet'].str.contains(r'\\W')].sample(5)"
   ]
  },
  {
   "attachments": {},
   "cell_type": "markdown",
   "id": "355e227a",
   "metadata": {},
   "source": [
    "We got successfully removed the non-wording characters, applied by using a regex command `\\W`."
   ]
  },
  {
   "cell_type": "code",
   "execution_count": 233,
   "id": "559bc156",
   "metadata": {},
   "outputs": [
    {
     "data": {
      "text/html": [
       "<div>\n",
       "<style scoped>\n",
       "    .dataframe tbody tr th:only-of-type {\n",
       "        vertical-align: middle;\n",
       "    }\n",
       "\n",
       "    .dataframe tbody tr th {\n",
       "        vertical-align: top;\n",
       "    }\n",
       "\n",
       "    .dataframe thead th {\n",
       "        text-align: right;\n",
       "    }\n",
       "</style>\n",
       "<table border=\"1\" class=\"dataframe\">\n",
       "  <thead>\n",
       "    <tr style=\"text-align: right;\">\n",
       "      <th></th>\n",
       "      <th>Sentiment</th>\n",
       "      <th>Date</th>\n",
       "      <th>User</th>\n",
       "      <th>Tweet</th>\n",
       "      <th>Tagging</th>\n",
       "      <th>Hashtags</th>\n",
       "      <th>Emojis</th>\n",
       "    </tr>\n",
       "  </thead>\n",
       "  <tbody>\n",
       "    <tr>\n",
       "      <th>1252364</th>\n",
       "      <td>1</td>\n",
       "      <td>2009-06-01 15:31:19</td>\n",
       "      <td>marienborg</td>\n",
       "      <td>man i would kill for a banana right about now  to much sweet break snacks #atlassiansummit</td>\n",
       "      <td>None</td>\n",
       "      <td>atlassiansummit</td>\n",
       "      <td>None</td>\n",
       "    </tr>\n",
       "    <tr>\n",
       "      <th>962819</th>\n",
       "      <td>1</td>\n",
       "      <td>2009-05-17 10:36:28</td>\n",
       "      <td>ShaynaMarisa_24</td>\n",
       "      <td>@ptswagga heeeyyyy whats up</td>\n",
       "      <td>ptswagga</td>\n",
       "      <td>None</td>\n",
       "      <td>None</td>\n",
       "    </tr>\n",
       "  </tbody>\n",
       "</table>\n",
       "</div>"
      ],
      "text/plain": [
       "         Sentiment                Date             User  \\\n",
       "1252364          1 2009-06-01 15:31:19       marienborg   \n",
       "962819           1 2009-05-17 10:36:28  ShaynaMarisa_24   \n",
       "\n",
       "                                                                                              Tweet  \\\n",
       "1252364  man i would kill for a banana right about now  to much sweet break snacks #atlassiansummit   \n",
       "962819                                                                 @ptswagga heeeyyyy whats up    \n",
       "\n",
       "          Tagging         Hashtags Emojis  \n",
       "1252364      None  atlassiansummit   None  \n",
       "962819   ptswagga             None   None  "
      ]
     },
     "execution_count": 233,
     "metadata": {},
     "output_type": "execute_result"
    }
   ],
   "source": [
    "df_clean[df_clean['Tweet'].str.contains(r'[^a-z ]')].sample(2)"
   ]
  },
  {
   "attachments": {},
   "cell_type": "markdown",
   "id": "f489248d",
   "metadata": {},
   "source": [
    "Let's create a function in order to remove the special characters, Urls, and hastags"
   ]
  },
  {
   "cell_type": "code",
   "execution_count": 234,
   "id": "e7fdbb6b",
   "metadata": {},
   "outputs": [],
   "source": [
    "# Importing a library\n",
    "import string\n",
    "import preprocessor as p\n",
    "\n",
    "# Defining the function\n",
    "def clean_tweets(df_clean):\n",
    "    # Set up punctuations we want to be replaced\n",
    "    removal_punctuation = re.compile(\"(\\.)|(\\;)|(\\:)|(\\!)|(\\')|(\\?)|(\\,)|(\\\")|(\\|)|(\\()|(\\))|(\\[)|(\\])|(\\%)|(\\$)|(\\>)|(\\<)|(\\{)|(\\})|(\\*)|(\\$)|(\\=)\")\n",
    "    pair_words = re.compile(\"(-)|(/)|(:).\")\n",
    "    tokenized_sentence = []\n",
    "    for line in df_clean:\n",
    "        # Send to tweet_processor\n",
    "        p.set_options(p.OPT.URL, p.OPT.MENTION, p.OPT.HASHTAG)\n",
    "        tmpL = p.clean(line)\n",
    "        # Removing special characters\n",
    "        tmpL = removal_punctuation.sub(\"\", tmpL.lower()) # convert all tweets to lower cases\n",
    "        tmpL = pair_words.sub(\" \", tmpL)\n",
    "        tokenized_sentence.append(tmpL)\n",
    "    return tokenized_sentence"
   ]
  },
  {
   "cell_type": "code",
   "execution_count": 235,
   "id": "86b3c5b7",
   "metadata": {},
   "outputs": [],
   "source": [
    "# calling the function above\n",
    "df_clean['Tweet'] = clean_tweets(df_clean['Tweet'])"
   ]
  },
  {
   "cell_type": "code",
   "execution_count": 236,
   "id": "ed8fa0ad",
   "metadata": {},
   "outputs": [
    {
     "data": {
      "text/html": [
       "<div>\n",
       "<style scoped>\n",
       "    .dataframe tbody tr th:only-of-type {\n",
       "        vertical-align: middle;\n",
       "    }\n",
       "\n",
       "    .dataframe tbody tr th {\n",
       "        vertical-align: top;\n",
       "    }\n",
       "\n",
       "    .dataframe thead th {\n",
       "        text-align: right;\n",
       "    }\n",
       "</style>\n",
       "<table border=\"1\" class=\"dataframe\">\n",
       "  <thead>\n",
       "    <tr style=\"text-align: right;\">\n",
       "      <th></th>\n",
       "      <th>Sentiment</th>\n",
       "      <th>Date</th>\n",
       "      <th>User</th>\n",
       "      <th>Tweet</th>\n",
       "      <th>Tagging</th>\n",
       "      <th>Hashtags</th>\n",
       "      <th>Emojis</th>\n",
       "    </tr>\n",
       "  </thead>\n",
       "  <tbody>\n",
       "    <tr>\n",
       "      <th>1042871</th>\n",
       "      <td>1</td>\n",
       "      <td>2009-05-28 23:57:23</td>\n",
       "      <td>enamoredsoul</td>\n",
       "      <td>thank u so muchi didnt see ur tweet until nowhave no idea how i missed itthanx 4 the followhope 2 interact w  u in the future</td>\n",
       "      <td>moble</td>\n",
       "      <td>None</td>\n",
       "      <td>None</td>\n",
       "    </tr>\n",
       "    <tr>\n",
       "      <th>14912</th>\n",
       "      <td>0</td>\n",
       "      <td>2009-04-18 15:33:51</td>\n",
       "      <td>anclag</td>\n",
       "      <td>noooooo family guy on bbc3 for the next 3 hoursi should really go to bed at somepoint soon though and ill miss new fg tomorrow grrr</td>\n",
       "      <td>None</td>\n",
       "      <td>None</td>\n",
       "      <td>None</td>\n",
       "    </tr>\n",
       "    <tr>\n",
       "      <th>857251</th>\n",
       "      <td>1</td>\n",
       "      <td>2009-04-21 03:21:53</td>\n",
       "      <td>bitman</td>\n",
       "      <td>presenting a comedy show having just woken up may have been a bad idea + todays news hasnt happened yet   wrap uptv</td>\n",
       "      <td>heatherstewart</td>\n",
       "      <td>None</td>\n",
       "      <td>None</td>\n",
       "    </tr>\n",
       "    <tr>\n",
       "      <th>1317752</th>\n",
       "      <td>1</td>\n",
       "      <td>2009-06-03 01:04:18</td>\n",
       "      <td>jahredLS</td>\n",
       "      <td>i would like to be 500000th follower but what the heck im just too star strucked to wait</td>\n",
       "      <td>neilhimself</td>\n",
       "      <td>None</td>\n",
       "      <td>None</td>\n",
       "    </tr>\n",
       "    <tr>\n",
       "      <th>919527</th>\n",
       "      <td>1</td>\n",
       "      <td>2009-05-10 03:42:24</td>\n",
       "      <td>tapatmywindow</td>\n",
       "      <td>keep forgetting we only need to revise one topic for the 116 exam its a nice surprise every time i remember though</td>\n",
       "      <td>None</td>\n",
       "      <td>None</td>\n",
       "      <td>None</td>\n",
       "    </tr>\n",
       "  </tbody>\n",
       "</table>\n",
       "</div>"
      ],
      "text/plain": [
       "         Sentiment                Date           User  \\\n",
       "1042871          1 2009-05-28 23:57:23   enamoredsoul   \n",
       "14912            0 2009-04-18 15:33:51         anclag   \n",
       "857251           1 2009-04-21 03:21:53         bitman   \n",
       "1317752          1 2009-06-03 01:04:18       jahredLS   \n",
       "919527           1 2009-05-10 03:42:24  tapatmywindow   \n",
       "\n",
       "                                                                                                                                       Tweet  \\\n",
       "1042871        thank u so muchi didnt see ur tweet until nowhave no idea how i missed itthanx 4 the followhope 2 interact w  u in the future   \n",
       "14912    noooooo family guy on bbc3 for the next 3 hoursi should really go to bed at somepoint soon though and ill miss new fg tomorrow grrr   \n",
       "857251                   presenting a comedy show having just woken up may have been a bad idea + todays news hasnt happened yet   wrap uptv   \n",
       "1317752                                             i would like to be 500000th follower but what the heck im just too star strucked to wait   \n",
       "919527                    keep forgetting we only need to revise one topic for the 116 exam its a nice surprise every time i remember though   \n",
       "\n",
       "                Tagging Hashtags Emojis  \n",
       "1042871           moble     None   None  \n",
       "14912              None     None   None  \n",
       "857251   heatherstewart     None   None  \n",
       "1317752     neilhimself     None   None  \n",
       "919527             None     None   None  "
      ]
     },
     "execution_count": 236,
     "metadata": {},
     "output_type": "execute_result"
    }
   ],
   "source": [
    "# sanity check - removed most of punctuation, mentions, urls, and hashtags\n",
    "df_clean[df_clean['Tweet'].str.contains(r'[^a-z ]')].sample(5)"
   ]
  },
  {
   "attachments": {},
   "cell_type": "markdown",
   "id": "2e31d77d",
   "metadata": {},
   "source": [
    "We can still see some special characters and numerical values which we can replace with an empty field"
   ]
  },
  {
   "cell_type": "code",
   "execution_count": 237,
   "id": "673cd6ae",
   "metadata": {},
   "outputs": [],
   "source": [
    "# replacing rest of special characters and numerical\n",
    "df_clean['Tweet'] = df_clean.loc[:, 'Tweet'].str.replace(r'[^a-z ]', ' ')"
   ]
  },
  {
   "attachments": {},
   "cell_type": "markdown",
   "id": "da6e80ba",
   "metadata": {},
   "source": [
    "Let's have a look if our `Tweets`"
   ]
  },
  {
   "cell_type": "code",
   "execution_count": 238,
   "id": "793dc862",
   "metadata": {},
   "outputs": [
    {
     "data": {
      "text/plain": [
       "990309     lots of beach time yesterday rain and wind came in late clouds today but wont dampen our spirits going to state park for snorkeling\n",
       "1567425                                                                                 its going on every red blooded american males wishlist\n",
       "1344510                                                                                       amy is here gonna make another video later yeeee\n",
       "1104259                                                                still trying to finish patricia cornwell book back to sunny garden i go\n",
       "656058                                                                           i reaalllyyy need to call but i doubt shell be awake at 235am\n",
       "Name: Tweet, dtype: object"
      ]
     },
     "execution_count": 238,
     "metadata": {},
     "output_type": "execute_result"
    }
   ],
   "source": [
    "df_clean['Tweet'].sample(5)"
   ]
  },
  {
   "attachments": {},
   "cell_type": "markdown",
   "id": "d360637c",
   "metadata": {},
   "source": [
    "It seems most are cleaned, let's double check if there are any empty tweets"
   ]
  },
  {
   "cell_type": "code",
   "execution_count": 239,
   "id": "4e154112",
   "metadata": {},
   "outputs": [
    {
     "data": {
      "text/html": [
       "<div>\n",
       "<style scoped>\n",
       "    .dataframe tbody tr th:only-of-type {\n",
       "        vertical-align: middle;\n",
       "    }\n",
       "\n",
       "    .dataframe tbody tr th {\n",
       "        vertical-align: top;\n",
       "    }\n",
       "\n",
       "    .dataframe thead th {\n",
       "        text-align: right;\n",
       "    }\n",
       "</style>\n",
       "<table border=\"1\" class=\"dataframe\">\n",
       "  <thead>\n",
       "    <tr style=\"text-align: right;\">\n",
       "      <th></th>\n",
       "      <th>Sentiment</th>\n",
       "      <th>Date</th>\n",
       "      <th>User</th>\n",
       "      <th>Tweet</th>\n",
       "      <th>Tagging</th>\n",
       "      <th>Hashtags</th>\n",
       "      <th>Emojis</th>\n",
       "    </tr>\n",
       "  </thead>\n",
       "  <tbody>\n",
       "    <tr>\n",
       "      <th>208</th>\n",
       "      <td>0</td>\n",
       "      <td>2009-04-06 22:33:25</td>\n",
       "      <td>Artiel87</td>\n",
       "      <td></td>\n",
       "      <td>mandayyy</td>\n",
       "      <td>None</td>\n",
       "      <td>None</td>\n",
       "    </tr>\n",
       "    <tr>\n",
       "      <th>249</th>\n",
       "      <td>0</td>\n",
       "      <td>2009-04-06 22:36:27</td>\n",
       "      <td>Artiel87</td>\n",
       "      <td></td>\n",
       "      <td>mandayyy</td>\n",
       "      <td>None</td>\n",
       "      <td>None</td>\n",
       "    </tr>\n",
       "    <tr>\n",
       "      <th>398</th>\n",
       "      <td>0</td>\n",
       "      <td>2009-04-06 22:46:53</td>\n",
       "      <td>KimberlyKane</td>\n",
       "      <td></td>\n",
       "      <td>danadearmond</td>\n",
       "      <td>None</td>\n",
       "      <td>None</td>\n",
       "    </tr>\n",
       "    <tr>\n",
       "      <th>430</th>\n",
       "      <td>0</td>\n",
       "      <td>2009-04-06 22:48:48</td>\n",
       "      <td>jtmal0723</td>\n",
       "      <td></td>\n",
       "      <td>anistorm</td>\n",
       "      <td>None</td>\n",
       "      <td>None</td>\n",
       "    </tr>\n",
       "    <tr>\n",
       "      <th>1011</th>\n",
       "      <td>0</td>\n",
       "      <td>2009-04-06 23:30:23</td>\n",
       "      <td>gabysslave</td>\n",
       "      <td></td>\n",
       "      <td>citizensheep</td>\n",
       "      <td>None</td>\n",
       "      <td>None</td>\n",
       "    </tr>\n",
       "    <tr>\n",
       "      <th>...</th>\n",
       "      <td>...</td>\n",
       "      <td>...</td>\n",
       "      <td>...</td>\n",
       "      <td>...</td>\n",
       "      <td>...</td>\n",
       "      <td>...</td>\n",
       "      <td>...</td>\n",
       "    </tr>\n",
       "    <tr>\n",
       "      <th>1596542</th>\n",
       "      <td>1</td>\n",
       "      <td>2009-06-16 07:23:20</td>\n",
       "      <td>carlos_teran</td>\n",
       "      <td></td>\n",
       "      <td>sary_chan</td>\n",
       "      <td>None</td>\n",
       "      <td>None</td>\n",
       "    </tr>\n",
       "    <tr>\n",
       "      <th>1596670</th>\n",
       "      <td>1</td>\n",
       "      <td>2009-06-16 07:29:14</td>\n",
       "      <td>vmslive</td>\n",
       "      <td></td>\n",
       "      <td>catherine_smith</td>\n",
       "      <td>None</td>\n",
       "      <td>None</td>\n",
       "    </tr>\n",
       "    <tr>\n",
       "      <th>1597326</th>\n",
       "      <td>1</td>\n",
       "      <td>2009-06-16 07:43:42</td>\n",
       "      <td>senoritaperdida</td>\n",
       "      <td></td>\n",
       "      <td>ashtonshay00</td>\n",
       "      <td>None</td>\n",
       "      <td>None</td>\n",
       "    </tr>\n",
       "    <tr>\n",
       "      <th>1599494</th>\n",
       "      <td>1</td>\n",
       "      <td>2009-06-16 08:28:48</td>\n",
       "      <td>RobNice24</td>\n",
       "      <td></td>\n",
       "      <td>sworn4dabosses</td>\n",
       "      <td>None</td>\n",
       "      <td>None</td>\n",
       "    </tr>\n",
       "    <tr>\n",
       "      <th>1599993</th>\n",
       "      <td>1</td>\n",
       "      <td>2009-06-16 08:39:00</td>\n",
       "      <td>ChloeAmisha</td>\n",
       "      <td></td>\n",
       "      <td>scooby_gritboys</td>\n",
       "      <td>None</td>\n",
       "      <td>None</td>\n",
       "    </tr>\n",
       "  </tbody>\n",
       "</table>\n",
       "<p>3079 rows × 7 columns</p>\n",
       "</div>"
      ],
      "text/plain": [
       "         Sentiment                Date             User Tweet  \\\n",
       "208              0 2009-04-06 22:33:25         Artiel87         \n",
       "249              0 2009-04-06 22:36:27         Artiel87         \n",
       "398              0 2009-04-06 22:46:53     KimberlyKane         \n",
       "430              0 2009-04-06 22:48:48        jtmal0723         \n",
       "1011             0 2009-04-06 23:30:23       gabysslave         \n",
       "...            ...                 ...              ...   ...   \n",
       "1596542          1 2009-06-16 07:23:20     carlos_teran         \n",
       "1596670          1 2009-06-16 07:29:14          vmslive         \n",
       "1597326          1 2009-06-16 07:43:42  senoritaperdida         \n",
       "1599494          1 2009-06-16 08:28:48        RobNice24         \n",
       "1599993          1 2009-06-16 08:39:00      ChloeAmisha         \n",
       "\n",
       "                 Tagging Hashtags Emojis  \n",
       "208             mandayyy     None   None  \n",
       "249             mandayyy     None   None  \n",
       "398         danadearmond     None   None  \n",
       "430             anistorm     None   None  \n",
       "1011        citizensheep     None   None  \n",
       "...                  ...      ...    ...  \n",
       "1596542        sary_chan     None   None  \n",
       "1596670  catherine_smith     None   None  \n",
       "1597326     ashtonshay00     None   None  \n",
       "1599494   sworn4dabosses     None   None  \n",
       "1599993  scooby_gritboys     None   None  \n",
       "\n",
       "[3079 rows x 7 columns]"
      ]
     },
     "execution_count": 239,
     "metadata": {},
     "output_type": "execute_result"
    }
   ],
   "source": [
    "# check for empty Tweets\n",
    "df_clean[df_clean['Tweet'] == '']"
   ]
  },
  {
   "attachments": {},
   "cell_type": "markdown",
   "id": "f71eed8f",
   "metadata": {},
   "source": [
    "It looks like after cleaning the Tweets some of the Tweets are missing values. There are around `3079` empty Tweets, so we can drop it."
   ]
  },
  {
   "cell_type": "code",
   "execution_count": 240,
   "id": "24e0cd99",
   "metadata": {},
   "outputs": [],
   "source": [
    "df_clean = df_clean[df_clean['Tweet'] != '']"
   ]
  },
  {
   "cell_type": "code",
   "execution_count": 241,
   "id": "9c6b8df3",
   "metadata": {},
   "outputs": [
    {
     "data": {
      "text/html": [
       "<div>\n",
       "<style scoped>\n",
       "    .dataframe tbody tr th:only-of-type {\n",
       "        vertical-align: middle;\n",
       "    }\n",
       "\n",
       "    .dataframe tbody tr th {\n",
       "        vertical-align: top;\n",
       "    }\n",
       "\n",
       "    .dataframe thead th {\n",
       "        text-align: right;\n",
       "    }\n",
       "</style>\n",
       "<table border=\"1\" class=\"dataframe\">\n",
       "  <thead>\n",
       "    <tr style=\"text-align: right;\">\n",
       "      <th></th>\n",
       "      <th>Sentiment</th>\n",
       "      <th>Date</th>\n",
       "      <th>User</th>\n",
       "      <th>Tweet</th>\n",
       "      <th>Tagging</th>\n",
       "      <th>Hashtags</th>\n",
       "      <th>Emojis</th>\n",
       "    </tr>\n",
       "  </thead>\n",
       "  <tbody>\n",
       "  </tbody>\n",
       "</table>\n",
       "</div>"
      ],
      "text/plain": [
       "Empty DataFrame\n",
       "Columns: [Sentiment, Date, User, Tweet, Tagging, Hashtags, Emojis]\n",
       "Index: []"
      ]
     },
     "execution_count": 241,
     "metadata": {},
     "output_type": "execute_result"
    }
   ],
   "source": [
    "# sanity check\n",
    "df_clean[df_clean['Tweet'] == '']"
   ]
  },
  {
   "attachments": {},
   "cell_type": "markdown",
   "id": "40066e50",
   "metadata": {},
   "source": [
    "Great! We managed to removed them\n",
    "\n",
    "***We successfully cleaned our data***"
   ]
  },
  {
   "attachments": {},
   "cell_type": "markdown",
   "id": "3d558a14",
   "metadata": {},
   "source": [
    "----\n",
    "## 4. EDA"
   ]
  },
  {
   "cell_type": "code",
   "execution_count": 242,
   "id": "5a289293",
   "metadata": {
    "scrolled": false
   },
   "outputs": [
    {
     "data": {
      "text/html": [
       "<div>\n",
       "<style scoped>\n",
       "    .dataframe tbody tr th:only-of-type {\n",
       "        vertical-align: middle;\n",
       "    }\n",
       "\n",
       "    .dataframe tbody tr th {\n",
       "        vertical-align: top;\n",
       "    }\n",
       "\n",
       "    .dataframe thead th {\n",
       "        text-align: right;\n",
       "    }\n",
       "</style>\n",
       "<table border=\"1\" class=\"dataframe\">\n",
       "  <thead>\n",
       "    <tr style=\"text-align: right;\">\n",
       "      <th></th>\n",
       "      <th>Sentiment</th>\n",
       "      <th>Date</th>\n",
       "      <th>User</th>\n",
       "      <th>Tweet</th>\n",
       "      <th>Tagging</th>\n",
       "      <th>Hashtags</th>\n",
       "      <th>Emojis</th>\n",
       "    </tr>\n",
       "  </thead>\n",
       "  <tbody>\n",
       "    <tr>\n",
       "      <th>1421422</th>\n",
       "      <td>1</td>\n",
       "      <td>2009-06-06 14:41:43</td>\n",
       "      <td>HelloEli</td>\n",
       "      <td>shopping with my mum for my bar b q</td>\n",
       "      <td>None</td>\n",
       "      <td>None</td>\n",
       "      <td>None</td>\n",
       "    </tr>\n",
       "    <tr>\n",
       "      <th>155037</th>\n",
       "      <td>0</td>\n",
       "      <td>2009-05-27 07:25:22</td>\n",
       "      <td>BrotherReggie</td>\n",
       "      <td>hey sistah do you ever check your phone messages</td>\n",
       "      <td>dawnka</td>\n",
       "      <td>None</td>\n",
       "      <td>None</td>\n",
       "    </tr>\n",
       "  </tbody>\n",
       "</table>\n",
       "</div>"
      ],
      "text/plain": [
       "         Sentiment                Date           User  \\\n",
       "1421422          1 2009-06-06 14:41:43       HelloEli   \n",
       "155037           0 2009-05-27 07:25:22  BrotherReggie   \n",
       "\n",
       "                                                    Tweet Tagging Hashtags  \\\n",
       "1421422               shopping with my mum for my bar b q    None     None   \n",
       "155037   hey sistah do you ever check your phone messages  dawnka     None   \n",
       "\n",
       "        Emojis  \n",
       "1421422   None  \n",
       "155037    None  "
      ]
     },
     "execution_count": 242,
     "metadata": {},
     "output_type": "execute_result"
    }
   ],
   "source": [
    "df_clean.sample(2)"
   ]
  },
  {
   "attachments": {},
   "cell_type": "markdown",
   "id": "a53ec620",
   "metadata": {},
   "source": [
    "Check the shape of the data after cleaning"
   ]
  },
  {
   "cell_type": "code",
   "execution_count": 243,
   "id": "d61c37f2",
   "metadata": {},
   "outputs": [
    {
     "name": "stdout",
     "output_type": "stream",
     "text": [
      "The dataframe consists of 1594745 million rows, and 5 columns\n"
     ]
    }
   ],
   "source": [
    "print(f'The dataframe consists of {df.shape[0]} million rows, and {df.shape[1]} columns')"
   ]
  },
  {
   "attachments": {},
   "cell_type": "markdown",
   "id": "6cdab3ad",
   "metadata": {},
   "source": [
    "### Data Distribution:\n",
    "\n",
    "Let's check the data distirbution for each column to see if there are any interesting trends\n",
    "\n",
    "First thing, will have a look at the distribution of the `Sentiment` class"
   ]
  },
  {
   "cell_type": "code",
   "execution_count": 244,
   "id": "8d75803c",
   "metadata": {},
   "outputs": [
    {
     "data": {
      "text/plain": [
       "Sentiment\n",
       "0    792078\n",
       "1    789169\n",
       "Name: count, dtype: int64"
      ]
     },
     "execution_count": 244,
     "metadata": {},
     "output_type": "execute_result"
    }
   ],
   "source": [
    "df_clean['Sentiment'].value_counts()"
   ]
  },
  {
   "cell_type": "code",
   "execution_count": 245,
   "id": "9048ff84",
   "metadata": {},
   "outputs": [
    {
     "data": {
      "text/plain": [
       "Sentiment\n",
       "0    0.50092\n",
       "1    0.49908\n",
       "Name: proportion, dtype: float64"
      ]
     },
     "execution_count": 245,
     "metadata": {},
     "output_type": "execute_result"
    }
   ],
   "source": [
    "df_clean['Sentiment'].value_counts(normalize=True)"
   ]
  },
  {
   "attachments": {},
   "cell_type": "markdown",
   "id": "833e3b92",
   "metadata": {},
   "source": [
    "Looks like we have a normal distribution on our dataset. Let's plot the distribution as a bar graph"
   ]
  },
  {
   "cell_type": "code",
   "execution_count": 271,
   "id": "d5d6aac6",
   "metadata": {
    "scrolled": false
   },
   "outputs": [
    {
     "data": {
      "image/png": "[encoded data removed]",
      "text/plain": [
       "<Figure size 1000x400 with 1 Axes>"
      ]
     },
     "metadata": {},
     "output_type": "display_data"
    }
   ],
   "source": [
    "plt.figure(figsize=(10,4))\n",
    "colors = ['#FF7F0E', '#3685BC']\n",
    "labels = ['Negative', 'Positive']\n",
    "df_clean['Sentiment'].value_counts().plot(kind='bar', rot=0, color=colors )\n",
    "plt.title(\"Target Distirbution\")\n",
    "plt.xlabel(\"Sentiment\")\n",
    "plt.ylabel(\"Count\")\n",
    "plt.legend(labels)\n",
    "plt.show()"
   ]
  },
  {
   "attachments": {},
   "cell_type": "markdown",
   "id": "3bb34d6f",
   "metadata": {},
   "source": [
    "Based on the visual above, as indicated we have a normal distribution, with 50% of the data as class 1, and 49.9% as class 0.\n",
    "\n",
    "Let's have a look at the `Date` column and see the distribution that happends during the months, day and time"
   ]
  },
  {
   "cell_type": "code",
   "execution_count": 247,
   "id": "220b2581",
   "metadata": {},
   "outputs": [
    {
     "data": {
      "text/plain": [
       "0         2009-04-06 22:19:45\n",
       "1         2009-04-06 22:19:49\n",
       "2         2009-04-06 22:19:53\n",
       "3         2009-04-06 22:19:57\n",
       "4         2009-04-06 22:19:57\n",
       "                  ...        \n",
       "1599994   2009-06-16 08:39:00\n",
       "1599995   2009-06-16 08:40:49\n",
       "1599997   2009-06-16 08:40:49\n",
       "1599998   2009-06-16 08:40:49\n",
       "1599999   2009-06-16 08:40:50\n",
       "Name: Date, Length: 1581247, dtype: datetime64[ns]"
      ]
     },
     "execution_count": 247,
     "metadata": {},
     "output_type": "execute_result"
    }
   ],
   "source": [
    "df_clean['Date']"
   ]
  },
  {
   "cell_type": "code",
   "execution_count": 248,
   "id": "b05f34b6",
   "metadata": {},
   "outputs": [],
   "source": [
    "# Setting Month, Day, and Year column\n",
    "df_clean['Month'] = df_clean['Date'].dt.month\n",
    "df_clean['Day'] = df_clean['Date'].dt.day\n",
    "df_clean['Year'] = df_clean['Date'].dt.year\n",
    "\n",
    "# setting Hour, Minutes and Seconds column\n",
    "df_clean['Hour'] = df_clean['Date'].dt.hour\n",
    "df_clean['Minutes'] = df_clean['Date'].dt.minute\n",
    "df_clean['Seconds'] = df_clean['Date'].dt.second\n",
    "\n",
    "# added a day of the week column\n",
    "df_clean['DayOfWeek'] = df_clean['Date'].dt.day_name()"
   ]
  },
  {
   "cell_type": "code",
   "execution_count": 249,
   "id": "f8f4142a",
   "metadata": {
    "scrolled": true
   },
   "outputs": [
    {
     "data": {
      "text/html": [
       "<div>\n",
       "<style scoped>\n",
       "    .dataframe tbody tr th:only-of-type {\n",
       "        vertical-align: middle;\n",
       "    }\n",
       "\n",
       "    .dataframe tbody tr th {\n",
       "        vertical-align: top;\n",
       "    }\n",
       "\n",
       "    .dataframe thead th {\n",
       "        text-align: right;\n",
       "    }\n",
       "</style>\n",
       "<table border=\"1\" class=\"dataframe\">\n",
       "  <thead>\n",
       "    <tr style=\"text-align: right;\">\n",
       "      <th></th>\n",
       "      <th>Sentiment</th>\n",
       "      <th>Date</th>\n",
       "      <th>User</th>\n",
       "      <th>Tweet</th>\n",
       "      <th>Tagging</th>\n",
       "      <th>Hashtags</th>\n",
       "      <th>Emojis</th>\n",
       "      <th>Month</th>\n",
       "      <th>Day</th>\n",
       "      <th>Year</th>\n",
       "      <th>Hour</th>\n",
       "      <th>Minutes</th>\n",
       "      <th>Seconds</th>\n",
       "      <th>DayOfWeek</th>\n",
       "    </tr>\n",
       "  </thead>\n",
       "  <tbody>\n",
       "    <tr>\n",
       "      <th>135320</th>\n",
       "      <td>0</td>\n",
       "      <td>2009-05-18 08:06:12</td>\n",
       "      <td>dontcallmedotty</td>\n",
       "      <td>i hate mondays i hate dropping michael off to go back to tims</td>\n",
       "      <td>None</td>\n",
       "      <td>None</td>\n",
       "      <td>None</td>\n",
       "      <td>5</td>\n",
       "      <td>18</td>\n",
       "      <td>2009</td>\n",
       "      <td>8</td>\n",
       "      <td>6</td>\n",
       "      <td>12</td>\n",
       "      <td>Monday</td>\n",
       "    </tr>\n",
       "    <tr>\n",
       "      <th>1578129</th>\n",
       "      <td>1</td>\n",
       "      <td>2009-06-16 00:52:19</td>\n",
       "      <td>MissHoejris</td>\n",
       "      <td>wish i was the one to get a hug hih you to are so cute together</td>\n",
       "      <td>darrenhayes</td>\n",
       "      <td>None</td>\n",
       "      <td>None</td>\n",
       "      <td>6</td>\n",
       "      <td>16</td>\n",
       "      <td>2009</td>\n",
       "      <td>0</td>\n",
       "      <td>52</td>\n",
       "      <td>19</td>\n",
       "      <td>Tuesday</td>\n",
       "    </tr>\n",
       "  </tbody>\n",
       "</table>\n",
       "</div>"
      ],
      "text/plain": [
       "         Sentiment                Date             User  \\\n",
       "135320           0 2009-05-18 08:06:12  dontcallmedotty   \n",
       "1578129          1 2009-06-16 00:52:19      MissHoejris   \n",
       "\n",
       "                                                                     Tweet  \\\n",
       "135320       i hate mondays i hate dropping michael off to go back to tims   \n",
       "1578129    wish i was the one to get a hug hih you to are so cute together   \n",
       "\n",
       "             Tagging Hashtags Emojis  Month  Day  Year  Hour  Minutes  \\\n",
       "135320          None     None   None      5   18  2009     8        6   \n",
       "1578129  darrenhayes     None   None      6   16  2009     0       52   \n",
       "\n",
       "         Seconds DayOfWeek  \n",
       "135320        12    Monday  \n",
       "1578129       19   Tuesday  "
      ]
     },
     "execution_count": 249,
     "metadata": {},
     "output_type": "execute_result"
    }
   ],
   "source": [
    "# sanity check - making sure the columns are created\n",
    "df_clean.sample(2)"
   ]
  },
  {
   "attachments": {},
   "cell_type": "markdown",
   "id": "55b0b2cd",
   "metadata": {},
   "source": [
    "We can go ahead and drop date column"
   ]
  },
  {
   "cell_type": "code",
   "execution_count": 250,
   "id": "148ac98f",
   "metadata": {
    "scrolled": true
   },
   "outputs": [],
   "source": [
    "df_clean.drop(columns=['Date'], inplace=True)"
   ]
  },
  {
   "cell_type": "code",
   "execution_count": 251,
   "id": "f670e0fc",
   "metadata": {},
   "outputs": [
    {
     "data": {
      "text/html": [
       "<div>\n",
       "<style scoped>\n",
       "    .dataframe tbody tr th:only-of-type {\n",
       "        vertical-align: middle;\n",
       "    }\n",
       "\n",
       "    .dataframe tbody tr th {\n",
       "        vertical-align: top;\n",
       "    }\n",
       "\n",
       "    .dataframe thead th {\n",
       "        text-align: right;\n",
       "    }\n",
       "</style>\n",
       "<table border=\"1\" class=\"dataframe\">\n",
       "  <thead>\n",
       "    <tr style=\"text-align: right;\">\n",
       "      <th></th>\n",
       "      <th>Sentiment</th>\n",
       "      <th>User</th>\n",
       "      <th>Tweet</th>\n",
       "      <th>Tagging</th>\n",
       "      <th>Hashtags</th>\n",
       "      <th>Emojis</th>\n",
       "      <th>Month</th>\n",
       "      <th>Day</th>\n",
       "      <th>Year</th>\n",
       "      <th>Hour</th>\n",
       "      <th>Minutes</th>\n",
       "      <th>Seconds</th>\n",
       "      <th>DayOfWeek</th>\n",
       "    </tr>\n",
       "  </thead>\n",
       "  <tbody>\n",
       "    <tr>\n",
       "      <th>61037</th>\n",
       "      <td>0</td>\n",
       "      <td>ghoulscout</td>\n",
       "      <td>dropped my blackberry on the pavement ball is gone no mobile twitter for me for a hot minute</td>\n",
       "      <td>None</td>\n",
       "      <td>None</td>\n",
       "      <td>None</td>\n",
       "      <td>5</td>\n",
       "      <td>3</td>\n",
       "      <td>2009</td>\n",
       "      <td>6</td>\n",
       "      <td>2</td>\n",
       "      <td>53</td>\n",
       "      <td>Sunday</td>\n",
       "    </tr>\n",
       "    <tr>\n",
       "      <th>1023280</th>\n",
       "      <td>1</td>\n",
       "      <td>glodbcom</td>\n",
       "      <td>im no supperman ~ this song so cute</td>\n",
       "      <td>None</td>\n",
       "      <td>None</td>\n",
       "      <td>None</td>\n",
       "      <td>5</td>\n",
       "      <td>22</td>\n",
       "      <td>2009</td>\n",
       "      <td>7</td>\n",
       "      <td>48</td>\n",
       "      <td>0</td>\n",
       "      <td>Friday</td>\n",
       "    </tr>\n",
       "  </tbody>\n",
       "</table>\n",
       "</div>"
      ],
      "text/plain": [
       "         Sentiment        User  \\\n",
       "61037            0  ghoulscout   \n",
       "1023280          1    glodbcom   \n",
       "\n",
       "                                                                                                Tweet  \\\n",
       "61037    dropped my blackberry on the pavement ball is gone no mobile twitter for me for a hot minute   \n",
       "1023280                                                           im no supperman ~ this song so cute   \n",
       "\n",
       "        Tagging Hashtags Emojis  Month  Day  Year  Hour  Minutes  Seconds  \\\n",
       "61037      None     None   None      5    3  2009     6        2       53   \n",
       "1023280    None     None   None      5   22  2009     7       48        0   \n",
       "\n",
       "        DayOfWeek  \n",
       "61037      Sunday  \n",
       "1023280    Friday  "
      ]
     },
     "execution_count": 251,
     "metadata": {},
     "output_type": "execute_result"
    }
   ],
   "source": [
    "# sanity check \n",
    "df_clean.sample(2)"
   ]
  },
  {
   "cell_type": "code",
   "execution_count": 229,
   "id": "24677c3d",
   "metadata": {},
   "outputs": [
    {
     "data": {
      "image/png": "[encoded data removed]",
      "text/plain": [
       "<Figure size 1000x400 with 1 Axes>"
      ]
     },
     "metadata": {},
     "output_type": "display_data"
    }
   ],
   "source": [
    "plt.figure(figsize=(10,4))\n",
    "plt.hist(df_clean['Day'], bins=70) # histogram\n",
    "plt.title('Distribution of the Day') # title\n",
    "plt.xlabel('Day') # labeling x-axis\n",
    "plt.ylabel('Frequency') # labeling y-axis\n",
    "plt.show()"
   ]
  },
  {
   "attachments": {},
   "cell_type": "markdown",
   "id": "3bcba2e2",
   "metadata": {},
   "source": [
    "We observe in the bar chart the distribution of the days during the month. Based on the graph above the highest frequency seems around the weekends. We can look further by plotting a distribution of the `DayOfWeek` column"
   ]
  },
  {
   "cell_type": "code",
   "execution_count": 254,
   "id": "53cbbb26",
   "metadata": {},
   "outputs": [
    {
     "data": {
      "image/png": "[encoded data removed]",
      "text/plain": [
       "<Figure size 1000x400 with 1 Axes>"
      ]
     },
     "metadata": {},
     "output_type": "display_data"
    }
   ],
   "source": [
    "plt.figure(figsize=(10,4))\n",
    "plt.hist(df_clean['DayOfWeek'], bins=20) # histogram\n",
    "plt.title('Distribution of the Week') # title\n",
    "plt.xlabel('Day of the Week') # labeling x-axis\n",
    "plt.ylabel('Frequency') # labeling y-axis\n",
    "plt.show()"
   ]
  },
  {
   "attachments": {},
   "cell_type": "markdown",
   "id": "53f2758d",
   "metadata": {},
   "source": [
    "As we observed from the bar chart above that Saturday, Sunday and Monday are the highest compare to the rest of the days of the week.\n",
    "\n",
    "We can explore the relationship between the `DayOfWeek` and `Sentiment` columns by plotting a bar graph."
   ]
  },
  {
   "cell_type": "code",
   "execution_count": 261,
   "id": "b3b85cce",
   "metadata": {},
   "outputs": [
    {
     "data": {
      "text/html": [
       "<div>\n",
       "<style scoped>\n",
       "    .dataframe tbody tr th:only-of-type {\n",
       "        vertical-align: middle;\n",
       "    }\n",
       "\n",
       "    .dataframe tbody tr th {\n",
       "        vertical-align: top;\n",
       "    }\n",
       "\n",
       "    .dataframe thead th {\n",
       "        text-align: right;\n",
       "    }\n",
       "</style>\n",
       "<table border=\"1\" class=\"dataframe\">\n",
       "  <thead>\n",
       "    <tr style=\"text-align: right;\">\n",
       "      <th>Sentiment</th>\n",
       "      <th>0</th>\n",
       "      <th>1</th>\n",
       "    </tr>\n",
       "    <tr>\n",
       "      <th>DayOfWeek</th>\n",
       "      <th></th>\n",
       "      <th></th>\n",
       "    </tr>\n",
       "  </thead>\n",
       "  <tbody>\n",
       "    <tr>\n",
       "      <th>Friday</th>\n",
       "      <td>113607</td>\n",
       "      <td>109861</td>\n",
       "    </tr>\n",
       "    <tr>\n",
       "      <th>Monday</th>\n",
       "      <td>131299</td>\n",
       "      <td>174831</td>\n",
       "    </tr>\n",
       "    <tr>\n",
       "      <th>Saturday</th>\n",
       "      <td>156222</td>\n",
       "      <td>171290</td>\n",
       "    </tr>\n",
       "    <tr>\n",
       "      <th>Sunday</th>\n",
       "      <td>144184</td>\n",
       "      <td>196421</td>\n",
       "    </tr>\n",
       "    <tr>\n",
       "      <th>Thursday</th>\n",
       "      <td>79227</td>\n",
       "      <td>25694</td>\n",
       "    </tr>\n",
       "    <tr>\n",
       "      <th>Tuesday</th>\n",
       "      <td>99924</td>\n",
       "      <td>83314</td>\n",
       "    </tr>\n",
       "    <tr>\n",
       "      <th>Wednesday</th>\n",
       "      <td>67615</td>\n",
       "      <td>27758</td>\n",
       "    </tr>\n",
       "  </tbody>\n",
       "</table>\n",
       "</div>"
      ],
      "text/plain": [
       "Sentiment       0       1\n",
       "DayOfWeek                \n",
       "Friday     113607  109861\n",
       "Monday     131299  174831\n",
       "Saturday   156222  171290\n",
       "Sunday     144184  196421\n",
       "Thursday    79227   25694\n",
       "Tuesday     99924   83314\n",
       "Wednesday   67615   27758"
      ]
     },
     "execution_count": 261,
     "metadata": {},
     "output_type": "execute_result"
    }
   ],
   "source": [
    "grouped.pivot(index='DayOfWeek', columns='Sentiment', values='Count')"
   ]
  },
  {
   "cell_type": "code",
   "execution_count": 272,
   "id": "60815796",
   "metadata": {},
   "outputs": [
    {
     "data": {
      "text/plain": [
       "<Figure size 3500x600 with 0 Axes>"
      ]
     },
     "metadata": {},
     "output_type": "display_data"
    },
    {
     "data": {
      "image/png": "[encoded data removed]",
      "text/plain": [
       "<Figure size 640x480 with 1 Axes>"
      ]
     },
     "metadata": {},
     "output_type": "display_data"
    }
   ],
   "source": [
    "plt.figure(figsize=(35, 6))\n",
    "grouped = df_clean.groupby(['DayOfWeek', 'Sentiment']).size().reset_index(name='Count')\n",
    "colors = ['#FF7F0E', '#3685BC']\n",
    "labels = ['Negative', 'Positive']\n",
    "grouped.pivot(index='DayOfWeek', columns='Sentiment', values='Count').plot(kind='bar', rot=0, color=colors)\n",
    "plt.title(\"Distribution Of the Week\")\n",
    "plt.xlabel(\"Day Of Week\")\n",
    "plt.ylabel(\"Count\")\n",
    "plt.legend(labels)\n",
    "plt.show()"
   ]
  },
  {
   "attachments": {},
   "cell_type": "markdown",
   "id": "1c9c85e4",
   "metadata": {},
   "source": [
    "We can look from the graph that Saturday, Sunday and Monday has the highest positive sentiment compare to Friday, it shows that negative sentiment surpases, same goes with Tuesday, Wednesday and Thursday. \n",
    "\n",
    "It seems that Wednesday and Thursday there has been has high negative sentiment."
   ]
  },
  {
   "cell_type": "code",
   "execution_count": 273,
   "id": "7c3d5d72",
   "metadata": {
    "scrolled": true
   },
   "outputs": [
    {
     "data": {
      "text/plain": [
       "Tagging\n",
       "mileycyrus                                3900\n",
       "tommcfly                                  3336\n",
       "ddlovato                                  2922\n",
       "jonasbrothers                             2053\n",
       "davidarchie                               1214\n",
       "                                          ... \n",
       "julieand                                     1\n",
       "ruby225                                      1\n",
       "mpits                                        1\n",
       "shantymanfan                                 1\n",
       "thenspcc, sparkscharity, speakinguph4h       1\n",
       "Name: count, Length: 355943, dtype: int64"
      ]
     },
     "execution_count": 273,
     "metadata": {},
     "output_type": "execute_result"
    }
   ],
   "source": [
    "df_clean['Tagging'].value_counts()"
   ]
  },
  {
   "attachments": {},
   "cell_type": "markdown",
   "id": "18decc57",
   "metadata": {},
   "source": [
    "Let's plot the distribution of `Tagging`, to see who got tagged the most through tweets"
   ]
  },
  {
   "cell_type": "code",
   "execution_count": 274,
   "id": "bf956b65",
   "metadata": {},
   "outputs": [
    {
     "data": {
      "image/png": "[encoded data removed]",
      "text/plain": [
       "<Figure size 1000x500 with 1 Axes>"
      ]
     },
     "metadata": {},
     "output_type": "display_data"
    }
   ],
   "source": [
    "plt.figure(figsize=(10, 5))\n",
    "\n",
    "df_clean['Tagging'].value_counts().head(10).plot(kind='bar', rot=45)\n",
    "plt.title('Distribution of Tagging')\n",
    "plt.ylabel('Counts')\n",
    "plt.xlabel('Tagging')\n",
    "sns.despine()\n",
    "\n",
    "plt.show()"
   ]
  },
  {
   "attachments": {},
   "cell_type": "markdown",
   "id": "4b62b59f",
   "metadata": {},
   "source": [
    "We can observe some celebreties that got tagged the most such as `mileycyrus` with 3,900 second came `tommcfly` who is a singer Tom Fletcher 3,336. Additional, to other celebreties `ddlovato` as Demi Lovato and Jonas Brother, Taylor Swift."
   ]
  },
  {
   "cell_type": "code",
   "execution_count": 275,
   "id": "f212ad7f",
   "metadata": {},
   "outputs": [
    {
     "data": {
      "text/plain": [
       "Hashtags\n",
       "followfriday                                                 2032\n",
       "fb                                                           1669\n",
       "squarespace                                                   742\n",
       "ff                                                            704\n",
       "iranelection                                                  374\n",
       "                                                             ... \n",
       "screwf1                                                         1\n",
       "inaperfectworld, iranelection, goodpussy., gokeyisadouche       1\n",
       "epicmeat, jergensmaterial                                       1\n",
       "100, 37.                                                        1\n",
       "bigrun                                                          1\n",
       "Name: count, Length: 13959, dtype: int64"
      ]
     },
     "execution_count": 275,
     "metadata": {},
     "output_type": "execute_result"
    }
   ],
   "source": [
    "df_clean['Hashtags'].value_counts()"
   ]
  },
  {
   "cell_type": "code",
   "execution_count": 278,
   "id": "a5eff0a1",
   "metadata": {},
   "outputs": [
    {
     "data": {
      "text/html": [
       "<div>\n",
       "<style scoped>\n",
       "    .dataframe tbody tr th:only-of-type {\n",
       "        vertical-align: middle;\n",
       "    }\n",
       "\n",
       "    .dataframe tbody tr th {\n",
       "        vertical-align: top;\n",
       "    }\n",
       "\n",
       "    .dataframe thead th {\n",
       "        text-align: right;\n",
       "    }\n",
       "</style>\n",
       "<table border=\"1\" class=\"dataframe\">\n",
       "  <thead>\n",
       "    <tr style=\"text-align: right;\">\n",
       "      <th></th>\n",
       "      <th>Hashtags</th>\n",
       "      <th>Count</th>\n",
       "    </tr>\n",
       "  </thead>\n",
       "  <tbody>\n",
       "    <tr>\n",
       "      <th>4496</th>\n",
       "      <td>followfriday</td>\n",
       "      <td>2032</td>\n",
       "    </tr>\n",
       "    <tr>\n",
       "      <th>4156</th>\n",
       "      <td>fb</td>\n",
       "      <td>1669</td>\n",
       "    </tr>\n",
       "    <tr>\n",
       "      <th>11208</th>\n",
       "      <td>squarespace</td>\n",
       "      <td>742</td>\n",
       "    </tr>\n",
       "    <tr>\n",
       "      <th>4221</th>\n",
       "      <td>ff</td>\n",
       "      <td>704</td>\n",
       "    </tr>\n",
       "    <tr>\n",
       "      <th>6447</th>\n",
       "      <td>iranelection</td>\n",
       "      <td>374</td>\n",
       "    </tr>\n",
       "    <tr>\n",
       "      <th>...</th>\n",
       "      <td>...</td>\n",
       "      <td>...</td>\n",
       "    </tr>\n",
       "    <tr>\n",
       "      <th>5180</th>\n",
       "      <td>gluttonforpunishment</td>\n",
       "      <td>1</td>\n",
       "    </tr>\n",
       "    <tr>\n",
       "      <th>5181</th>\n",
       "      <td>glxp</td>\n",
       "      <td>1</td>\n",
       "    </tr>\n",
       "    <tr>\n",
       "      <th>5182</th>\n",
       "      <td>glyps, 30stmglyphs</td>\n",
       "      <td>1</td>\n",
       "    </tr>\n",
       "    <tr>\n",
       "      <th>5186</th>\n",
       "      <td>gmail, google</td>\n",
       "      <td>1</td>\n",
       "    </tr>\n",
       "    <tr>\n",
       "      <th>13958</th>\n",
       "      <td>ï¿½bertwitter, blackberry, rocks!</td>\n",
       "      <td>1</td>\n",
       "    </tr>\n",
       "  </tbody>\n",
       "</table>\n",
       "<p>13959 rows × 2 columns</p>\n",
       "</div>"
      ],
      "text/plain": [
       "                                Hashtags  Count\n",
       "4496                        followfriday   2032\n",
       "4156                                  fb   1669\n",
       "11208                        squarespace    742\n",
       "4221                                  ff    704\n",
       "6447                        iranelection    374\n",
       "...                                  ...    ...\n",
       "5180                gluttonforpunishment      1\n",
       "5181                                glxp      1\n",
       "5182                  glyps, 30stmglyphs      1\n",
       "5186                       gmail, google      1\n",
       "13958  ï¿½bertwitter, blackberry, rocks!      1\n",
       "\n",
       "[13959 rows x 2 columns]"
      ]
     },
     "execution_count": 278,
     "metadata": {},
     "output_type": "execute_result"
    }
   ],
   "source": [
    "df_clean.groupby(['Hashtags']).size().reset_index(name='Count').sort_values(by='Count', ascending=False)"
   ]
  },
  {
   "cell_type": "code",
   "execution_count": 257,
   "id": "ce9598f9",
   "metadata": {},
   "outputs": [
    {
     "data": {
      "image/png": "[encoded data removed]",
      "text/plain": [
       "<Figure size 1000x500 with 1 Axes>"
      ]
     },
     "metadata": {},
     "output_type": "display_data"
    }
   ],
   "source": [
    "plt.figure(figsize=(10, 5))\n",
    "\n",
    "df_clean['Hashtags'].value_counts().head(10).plot(kind='bar', rot=45)\n",
    "plt.title('Distribution of Hashtags')\n",
    "plt.ylabel('Counts')\n",
    "plt.xlabel('Hashtags')\n",
    "sns.despine()\n",
    "\n",
    "plt.show()"
   ]
  },
  {
   "attachments": {},
   "cell_type": "markdown",
   "id": "e3edff57",
   "metadata": {},
   "source": [
    "`followfriday` Hashtags were used the most with 1590 tags, comes second `fb` which refers to Facebook 1669."
   ]
  },
  {
   "attachments": {},
   "cell_type": "markdown",
   "id": "a40df01d",
   "metadata": {},
   "source": [
    "### Save Cleaned Dataset\n",
    "\n",
    "Now that we have spent the time cleaning and working with EDA. We are going to save it to a CSV file."
   ]
  },
  {
   "cell_type": "code",
   "execution_count": 284,
   "id": "54e093cc",
   "metadata": {},
   "outputs": [],
   "source": [
    "df_clean.to_csv('cleaned_twitter_data.csv', index=False)"
   ]
  },
  {
   "cell_type": "code",
   "execution_count": 285,
   "id": "7666e6b8",
   "metadata": {},
   "outputs": [
    {
     "data": {
      "text/html": [
       "<div>\n",
       "<style scoped>\n",
       "    .dataframe tbody tr th:only-of-type {\n",
       "        vertical-align: middle;\n",
       "    }\n",
       "\n",
       "    .dataframe tbody tr th {\n",
       "        vertical-align: top;\n",
       "    }\n",
       "\n",
       "    .dataframe thead th {\n",
       "        text-align: right;\n",
       "    }\n",
       "</style>\n",
       "<table border=\"1\" class=\"dataframe\">\n",
       "  <thead>\n",
       "    <tr style=\"text-align: right;\">\n",
       "      <th></th>\n",
       "      <th>Sentiment</th>\n",
       "      <th>User</th>\n",
       "      <th>Tweet</th>\n",
       "      <th>Tagging</th>\n",
       "      <th>Hashtags</th>\n",
       "      <th>Emojis</th>\n",
       "      <th>Month</th>\n",
       "      <th>Day</th>\n",
       "      <th>Year</th>\n",
       "      <th>Hour</th>\n",
       "      <th>Minutes</th>\n",
       "      <th>Seconds</th>\n",
       "      <th>DayOfWeek</th>\n",
       "    </tr>\n",
       "  </thead>\n",
       "  <tbody>\n",
       "    <tr>\n",
       "      <th>168120</th>\n",
       "      <td>0</td>\n",
       "      <td>zellyboo</td>\n",
       "      <td>lol girl that video disturbed me and i love the hk theme too cute</td>\n",
       "      <td>sheszladii</td>\n",
       "      <td>NaN</td>\n",
       "      <td>NaN</td>\n",
       "      <td>5</td>\n",
       "      <td>29</td>\n",
       "      <td>2009</td>\n",
       "      <td>10</td>\n",
       "      <td>57</td>\n",
       "      <td>42</td>\n",
       "      <td>Friday</td>\n",
       "    </tr>\n",
       "    <tr>\n",
       "      <th>933194</th>\n",
       "      <td>1</td>\n",
       "      <td>nikkijonas</td>\n",
       "      <td>just got done with my religion final</td>\n",
       "      <td>NaN</td>\n",
       "      <td>NaN</td>\n",
       "      <td>NaN</td>\n",
       "      <td>5</td>\n",
       "      <td>14</td>\n",
       "      <td>2009</td>\n",
       "      <td>5</td>\n",
       "      <td>47</td>\n",
       "      <td>29</td>\n",
       "      <td>Thursday</td>\n",
       "    </tr>\n",
       "    <tr>\n",
       "      <th>62952</th>\n",
       "      <td>0</td>\n",
       "      <td>theteamcolours</td>\n",
       "      <td>low quality speakers ruin everything</td>\n",
       "      <td>NaN</td>\n",
       "      <td>NaN</td>\n",
       "      <td>NaN</td>\n",
       "      <td>5</td>\n",
       "      <td>3</td>\n",
       "      <td>2009</td>\n",
       "      <td>8</td>\n",
       "      <td>51</td>\n",
       "      <td>25</td>\n",
       "      <td>Sunday</td>\n",
       "    </tr>\n",
       "    <tr>\n",
       "      <th>549557</th>\n",
       "      <td>0</td>\n",
       "      <td>ratusyura</td>\n",
       "      <td>sandwich i miss rice havent had rice in two weeks another two weeks to go~</td>\n",
       "      <td>zalyazid</td>\n",
       "      <td>NaN</td>\n",
       "      <td>NaN</td>\n",
       "      <td>6</td>\n",
       "      <td>17</td>\n",
       "      <td>2009</td>\n",
       "      <td>0</td>\n",
       "      <td>42</td>\n",
       "      <td>51</td>\n",
       "      <td>Wednesday</td>\n",
       "    </tr>\n",
       "    <tr>\n",
       "      <th>102317</th>\n",
       "      <td>0</td>\n",
       "      <td>lseibs</td>\n",
       "      <td>another stormy day in the mb</td>\n",
       "      <td>NaN</td>\n",
       "      <td>NaN</td>\n",
       "      <td>NaN</td>\n",
       "      <td>5</td>\n",
       "      <td>14</td>\n",
       "      <td>2009</td>\n",
       "      <td>7</td>\n",
       "      <td>27</td>\n",
       "      <td>34</td>\n",
       "      <td>Thursday</td>\n",
       "    </tr>\n",
       "  </tbody>\n",
       "</table>\n",
       "</div>"
      ],
      "text/plain": [
       "        Sentiment            User  \\\n",
       "168120          0        zellyboo   \n",
       "933194          1      nikkijonas   \n",
       "62952           0  theteamcolours   \n",
       "549557          0       ratusyura   \n",
       "102317          0          lseibs   \n",
       "\n",
       "                                                                             Tweet  \\\n",
       "168120           lol girl that video disturbed me and i love the hk theme too cute   \n",
       "933194                                        just got done with my religion final   \n",
       "62952                                         low quality speakers ruin everything   \n",
       "549557  sandwich i miss rice havent had rice in two weeks another two weeks to go~   \n",
       "102317                                                another stormy day in the mb   \n",
       "\n",
       "           Tagging Hashtags Emojis  Month  Day  Year  Hour  Minutes  Seconds  \\\n",
       "168120  sheszladii      NaN    NaN      5   29  2009    10       57       42   \n",
       "933194         NaN      NaN    NaN      5   14  2009     5       47       29   \n",
       "62952          NaN      NaN    NaN      5    3  2009     8       51       25   \n",
       "549557    zalyazid      NaN    NaN      6   17  2009     0       42       51   \n",
       "102317         NaN      NaN    NaN      5   14  2009     7       27       34   \n",
       "\n",
       "        DayOfWeek  \n",
       "168120     Friday  \n",
       "933194   Thursday  \n",
       "62952      Sunday  \n",
       "549557  Wednesday  \n",
       "102317   Thursday  "
      ]
     },
     "execution_count": 285,
     "metadata": {},
     "output_type": "execute_result"
    }
   ],
   "source": [
    "# Sanity check\n",
    "pd.read_csv('cleaned_twitter_data.csv').sample(5)"
   ]
  },
  {
   "attachments": {},
   "cell_type": "markdown",
   "id": "543fdfdf",
   "metadata": {},
   "source": [
    "## 5. Conclusion\n",
    "\n",
    "To conclude this notebook, it involves data collection, cleaning and some preliminary exploration of dataset by going through EDA techniques in order to understand the data and plot meaningful insights. \n",
    "\n",
    "In my next notebook, I will be going for a preprocessing and set a base model using Logistic Regression"
   ]
  }
 ],
 "metadata": {
  "kernelspec": {
   "display_name": "capstone",
   "language": "python",
   "name": "capstone"
  },
  "language_info": {
   "codemirror_mode": {
    "name": "ipython",
    "version": 3
   },
   "file_extension": ".py",
   "mimetype": "text/x-python",
   "name": "python",
   "nbconvert_exporter": "python",
   "pygments_lexer": "ipython3",
   "version": "3.8.16"
  }
 },
 "nbformat": 4,
 "nbformat_minor": 5
}
