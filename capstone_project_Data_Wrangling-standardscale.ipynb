{
  "cells": [
    {
      "attachments": {},
      "cell_type": "markdown",
      "id": "cb6b73a8",
      "metadata": {
        "id": "cb6b73a8"
      },
      "source": [
        "## Introduction"
      ]
    },
    {
      "cell_type": "code",
      "execution_count": null,
      "id": "e9dd4919",
      "metadata": {
        "id": "e9dd4919"
      },
      "outputs": [],
      "source": []
    },
    {
      "cell_type": "code",
      "execution_count": null,
      "id": "303d2017",
      "metadata": {
        "id": "303d2017"
      },
      "outputs": [],
      "source": []
    },
    {
      "cell_type": "code",
      "execution_count": 1,
      "id": "1d875aec",
      "metadata": {
        "id": "1d875aec"
      },
      "outputs": [],
      "source": [
        "import pandas as pd\n",
        "import numpy as np\n",
        "import seaborn as sns\n",
        "import matplotlib.pyplot as plt\n",
        "import re\n",
        "\n",
        "# Importing library in order to see the progress bar\n",
        "from tqdm.notebook import tnrange, tqdm_notebook\n",
        "from tqdm import tqdm\n",
        "import warnings\n",
        "warnings.filterwarnings(\"ignore\")\n",
        "\n",
        "from sklearn.pipeline import Pipeline\n",
        "from sklearn.preprocessing import MinMaxScaler, StandardScaler\n",
        "from sklearn.decomposition import PCA"
      ]
    },
    {
      "cell_type": "code",
      "execution_count": 2,
      "id": "6f5d2485",
      "metadata": {
        "id": "6f5d2485"
      },
      "outputs": [],
      "source": [
        "df = pd.read_csv('cleaned_twitter_data.csv')"
      ]
    },
    {
      "cell_type": "code",
      "execution_count": 3,
      "id": "8d97d54a",
      "metadata": {
        "colab": {
          "base_uri": "https://localhost:8080/"
        },
        "id": "8d97d54a",
        "outputId": "a3b8a59d-8e7a-4f7a-df63-739ca2c5581a"
      },
      "outputs": [
        {
          "data": {
            "text/plain": [
              "(1581247, 13)"
            ]
          },
          "execution_count": 3,
          "metadata": {},
          "output_type": "execute_result"
        }
      ],
      "source": [
        "df.shape"
      ]
    },
    {
      "cell_type": "code",
      "execution_count": 4,
      "id": "e13cc124",
      "metadata": {
        "colab": {
          "base_uri": "https://localhost:8080/",
          "height": 337
        },
        "id": "e13cc124",
        "outputId": "52f84029-b959-4f66-cd31-70b3b89d62e8"
      },
      "outputs": [
        {
          "data": {
            "text/html": [
              "<div>\n",
              "<style scoped>\n",
              "    .dataframe tbody tr th:only-of-type {\n",
              "        vertical-align: middle;\n",
              "    }\n",
              "\n",
              "    .dataframe tbody tr th {\n",
              "        vertical-align: top;\n",
              "    }\n",
              "\n",
              "    .dataframe thead th {\n",
              "        text-align: right;\n",
              "    }\n",
              "</style>\n",
              "<table border=\"1\" class=\"dataframe\">\n",
              "  <thead>\n",
              "    <tr style=\"text-align: right;\">\n",
              "      <th></th>\n",
              "      <th>Sentiment</th>\n",
              "      <th>User</th>\n",
              "      <th>Tweet</th>\n",
              "      <th>Tagging</th>\n",
              "      <th>Hashtags</th>\n",
              "      <th>Emojis</th>\n",
              "      <th>Month</th>\n",
              "      <th>Day</th>\n",
              "      <th>Year</th>\n",
              "      <th>Hour</th>\n",
              "      <th>Minutes</th>\n",
              "      <th>Seconds</th>\n",
              "      <th>DayOfWeek</th>\n",
              "    </tr>\n",
              "  </thead>\n",
              "  <tbody>\n",
              "    <tr>\n",
              "      <th>0</th>\n",
              "      <td>0</td>\n",
              "      <td>_TheSpecialOne_</td>\n",
              "      <td>awww thats a bummer you shoulda got david ca...</td>\n",
              "      <td>switchfoot</td>\n",
              "      <td>NaN</td>\n",
              "      <td>;d</td>\n",
              "      <td>4</td>\n",
              "      <td>6</td>\n",
              "      <td>2009</td>\n",
              "      <td>22</td>\n",
              "      <td>19</td>\n",
              "      <td>45</td>\n",
              "      <td>Monday</td>\n",
              "    </tr>\n",
              "    <tr>\n",
              "      <th>1</th>\n",
              "      <td>0</td>\n",
              "      <td>scotthamilton</td>\n",
              "      <td>is upset that he cant update his facebook by t...</td>\n",
              "      <td>NaN</td>\n",
              "      <td>NaN</td>\n",
              "      <td>None</td>\n",
              "      <td>4</td>\n",
              "      <td>6</td>\n",
              "      <td>2009</td>\n",
              "      <td>22</td>\n",
              "      <td>19</td>\n",
              "      <td>49</td>\n",
              "      <td>Monday</td>\n",
              "    </tr>\n",
              "  </tbody>\n",
              "</table>\n",
              "</div>"
            ],
            "text/plain": [
              "   Sentiment             User  \\\n",
              "0          0  _TheSpecialOne_   \n",
              "1          0    scotthamilton   \n",
              "\n",
              "                                               Tweet     Tagging Hashtags  \\\n",
              "0    awww thats a bummer you shoulda got david ca...  switchfoot      NaN   \n",
              "1  is upset that he cant update his facebook by t...         NaN      NaN   \n",
              "\n",
              "  Emojis  Month  Day  Year  Hour  Minutes  Seconds DayOfWeek  \n",
              "0     ;d      4    6  2009    22       19       45    Monday  \n",
              "1   None      4    6  2009    22       19       49    Monday  "
            ]
          },
          "execution_count": 4,
          "metadata": {},
          "output_type": "execute_result"
        }
      ],
      "source": [
        "df.head(2)"
      ]
    },
    {
      "cell_type": "code",
      "execution_count": 5,
      "id": "54dd2be1",
      "metadata": {
        "colab": {
          "base_uri": "https://localhost:8080/"
        },
        "id": "54dd2be1",
        "outputId": "7e8eaae3-048b-494a-a2c9-624b204a24a0"
      },
      "outputs": [
        {
          "data": {
            "text/plain": [
              "Sentiment          0\n",
              "User               0\n",
              "Tweet              0\n",
              "Tagging       854040\n",
              "Hashtags     1546447\n",
              "Emojis             0\n",
              "Month              0\n",
              "Day                0\n",
              "Year               0\n",
              "Hour               0\n",
              "Minutes            0\n",
              "Seconds            0\n",
              "DayOfWeek          0\n",
              "dtype: int64"
            ]
          },
          "execution_count": 5,
          "metadata": {},
          "output_type": "execute_result"
        }
      ],
      "source": [
        "df.isna().sum()"
      ]
    },
    {
      "cell_type": "code",
      "execution_count": 6,
      "id": "a92571d2",
      "metadata": {
        "id": "a92571d2"
      },
      "outputs": [],
      "source": [
        "df['Tagging'] = df['Tagging'].fillna('None')\n",
        "df['Hashtags'] = df['Hashtags'].fillna('None')"
      ]
    },
    {
      "cell_type": "code",
      "execution_count": 7,
      "id": "279c22d9",
      "metadata": {
        "colab": {
          "base_uri": "https://localhost:8080/"
        },
        "id": "279c22d9",
        "outputId": "b5730f2a-d120-4d6c-d8b1-fd05a5f2dd2e"
      },
      "outputs": [
        {
          "data": {
            "text/plain": [
              "Sentiment    0\n",
              "User         0\n",
              "Tweet        0\n",
              "Tagging      0\n",
              "Hashtags     0\n",
              "Emojis       0\n",
              "Month        0\n",
              "Day          0\n",
              "Year         0\n",
              "Hour         0\n",
              "Minutes      0\n",
              "Seconds      0\n",
              "DayOfWeek    0\n",
              "dtype: int64"
            ]
          },
          "execution_count": 7,
          "metadata": {},
          "output_type": "execute_result"
        }
      ],
      "source": [
        "df.isna().sum()"
      ]
    },
    {
      "cell_type": "code",
      "execution_count": 8,
      "id": "512ff0ee",
      "metadata": {
        "colab": {
          "base_uri": "https://localhost:8080/"
        },
        "id": "512ff0ee",
        "outputId": "351a6095-5b00-4c5c-e334-c8beb6f97324"
      },
      "outputs": [
        {
          "data": {
            "text/plain": [
              "(1581247, 13)"
            ]
          },
          "execution_count": 8,
          "metadata": {},
          "output_type": "execute_result"
        }
      ],
      "source": [
        "df.shape"
      ]
    },
    {
      "attachments": {},
      "cell_type": "markdown",
      "id": "4843d1da",
      "metadata": {
        "id": "4843d1da"
      },
      "source": [
        "### Taking a Sample data"
      ]
    },
    {
      "cell_type": "code",
      "execution_count": 9,
      "id": "8b711937",
      "metadata": {
        "id": "8b711937"
      },
      "outputs": [],
      "source": [
        "# copying 10% of data\n",
        "df_chunk = df.sample(frac=0.05).copy()"
      ]
    },
    {
      "cell_type": "code",
      "execution_count": 10,
      "id": "fd978a4c",
      "metadata": {
        "colab": {
          "base_uri": "https://localhost:8080/"
        },
        "id": "fd978a4c",
        "outputId": "914908f0-277c-4245-c47d-566ead91f07e"
      },
      "outputs": [
        {
          "data": {
            "text/plain": [
              "(79062, 13)"
            ]
          },
          "execution_count": 10,
          "metadata": {},
          "output_type": "execute_result"
        }
      ],
      "source": [
        "df_chunk.shape"
      ]
    },
    {
      "cell_type": "code",
      "execution_count": 11,
      "id": "e29feb60",
      "metadata": {
        "colab": {
          "base_uri": "https://localhost:8080/"
        },
        "id": "e29feb60",
        "outputId": "caf5ee06-7434-4e2b-8c8f-4585ab897973"
      },
      "outputs": [
        {
          "data": {
            "text/plain": [
              "79062"
            ]
          },
          "execution_count": 11,
          "metadata": {},
          "output_type": "execute_result"
        }
      ],
      "source": [
        "df_chunk['Sentiment'].value_counts().sum()"
      ]
    },
    {
      "cell_type": "code",
      "execution_count": 12,
      "id": "81523bad",
      "metadata": {
        "colab": {
          "base_uri": "https://localhost:8080/"
        },
        "id": "81523bad",
        "outputId": "045dbdfc-9401-42fa-cf30-fd9d83bd9d07"
      },
      "outputs": [
        {
          "data": {
            "text/plain": [
              "0    39685\n",
              "1    39377\n",
              "Name: Sentiment, dtype: int64"
            ]
          },
          "execution_count": 12,
          "metadata": {},
          "output_type": "execute_result"
        }
      ],
      "source": [
        "df_chunk['Sentiment'].value_counts()"
      ]
    },
    {
      "cell_type": "code",
      "execution_count": 13,
      "id": "abdf02af",
      "metadata": {},
      "outputs": [],
      "source": [
        "df_chunk = df_chunk.reset_index(drop=True)"
      ]
    },
    {
      "cell_type": "code",
      "execution_count": 14,
      "id": "b16c446c",
      "metadata": {},
      "outputs": [
        {
          "data": {
            "text/html": [
              "<div>\n",
              "<style scoped>\n",
              "    .dataframe tbody tr th:only-of-type {\n",
              "        vertical-align: middle;\n",
              "    }\n",
              "\n",
              "    .dataframe tbody tr th {\n",
              "        vertical-align: top;\n",
              "    }\n",
              "\n",
              "    .dataframe thead th {\n",
              "        text-align: right;\n",
              "    }\n",
              "</style>\n",
              "<table border=\"1\" class=\"dataframe\">\n",
              "  <thead>\n",
              "    <tr style=\"text-align: right;\">\n",
              "      <th></th>\n",
              "      <th>Sentiment</th>\n",
              "      <th>User</th>\n",
              "      <th>Tweet</th>\n",
              "      <th>Tagging</th>\n",
              "      <th>Hashtags</th>\n",
              "      <th>Emojis</th>\n",
              "      <th>Month</th>\n",
              "      <th>Day</th>\n",
              "      <th>Year</th>\n",
              "      <th>Hour</th>\n",
              "      <th>Minutes</th>\n",
              "      <th>Seconds</th>\n",
              "      <th>DayOfWeek</th>\n",
              "    </tr>\n",
              "  </thead>\n",
              "  <tbody>\n",
              "    <tr>\n",
              "      <th>62859</th>\n",
              "      <td>0</td>\n",
              "      <td>sexxysnoopy</td>\n",
              "      <td>layin n bed by my lonesome</td>\n",
              "      <td>None</td>\n",
              "      <td>None</td>\n",
              "      <td>None</td>\n",
              "      <td>6</td>\n",
              "      <td>20</td>\n",
              "      <td>2009</td>\n",
              "      <td>22</td>\n",
              "      <td>29</td>\n",
              "      <td>0</td>\n",
              "      <td>Saturday</td>\n",
              "    </tr>\n",
              "    <tr>\n",
              "      <th>56253</th>\n",
              "      <td>0</td>\n",
              "      <td>mlovesociety</td>\n",
              "      <td>carl taylor   grand ideas like are against a...</td>\n",
              "      <td>None</td>\n",
              "      <td>maduk, mlove, esoou</td>\n",
              "      <td>None</td>\n",
              "      <td>6</td>\n",
              "      <td>15</td>\n",
              "      <td>2009</td>\n",
              "      <td>2</td>\n",
              "      <td>36</td>\n",
              "      <td>10</td>\n",
              "      <td>Monday</td>\n",
              "    </tr>\n",
              "  </tbody>\n",
              "</table>\n",
              "</div>"
            ],
            "text/plain": [
              "       Sentiment          User  \\\n",
              "62859          0   sexxysnoopy   \n",
              "56253          0  mlovesociety   \n",
              "\n",
              "                                                   Tweet Tagging  \\\n",
              "62859                         layin n bed by my lonesome    None   \n",
              "56253    carl taylor   grand ideas like are against a...    None   \n",
              "\n",
              "                  Hashtags Emojis  Month  Day  Year  Hour  Minutes  Seconds  \\\n",
              "62859                 None   None      6   20  2009    22       29        0   \n",
              "56253  maduk, mlove, esoou   None      6   15  2009     2       36       10   \n",
              "\n",
              "      DayOfWeek  \n",
              "62859  Saturday  \n",
              "56253    Monday  "
            ]
          },
          "execution_count": 14,
          "metadata": {},
          "output_type": "execute_result"
        }
      ],
      "source": [
        "df_chunk.sample(2)"
      ]
    },
    {
      "attachments": {},
      "cell_type": "markdown",
      "id": "d265bfd7",
      "metadata": {
        "id": "d265bfd7"
      },
      "source": [
        "### working with sample data"
      ]
    },
    {
      "cell_type": "code",
      "execution_count": 15,
      "id": "22fb6d0d",
      "metadata": {
        "colab": {
          "base_uri": "https://localhost:8080/",
          "height": 410
        },
        "id": "22fb6d0d",
        "outputId": "1485903e-b632-43ef-b47e-c1e2f87e92e0"
      },
      "outputs": [],
      "source": [
        "# plt.figure(figsize=(10,4))\n",
        "# df_chunk['Sentiment'].value_counts().plot(kind='bar', rot=0, color=['#FF7F0E', '#3685BC'])\n",
        "# plt.title(\"Target Distirbution\")\n",
        "# plt.xlabel(\"Sentiment\")\n",
        "# plt.ylabel(\"Count\")\n",
        "\n",
        "# plt.show()"
      ]
    },
    {
      "attachments": {},
      "cell_type": "markdown",
      "id": "177d0fbb",
      "metadata": {
        "id": "177d0fbb"
      },
      "source": [
        "---\n",
        "### Data Wrangling"
      ]
    },
    {
      "cell_type": "code",
      "execution_count": 16,
      "id": "cd176cb6",
      "metadata": {
        "id": "cd176cb6"
      },
      "outputs": [],
      "source": [
        "# splitting our data into train and test sets\n",
        "from sklearn.model_selection import train_test_split, GridSearchCV, cross_val_score\n",
        "from sklearn.feature_extraction.text import CountVectorizer"
      ]
    },
    {
      "cell_type": "code",
      "execution_count": 17,
      "id": "2c69f2fc",
      "metadata": {
        "colab": {
          "base_uri": "https://localhost:8080/",
          "height": 191
        },
        "id": "2c69f2fc",
        "outputId": "405c1482-65c7-4ee4-d85d-9f43db9f0b10"
      },
      "outputs": [
        {
          "data": {
            "text/html": [
              "<div>\n",
              "<style scoped>\n",
              "    .dataframe tbody tr th:only-of-type {\n",
              "        vertical-align: middle;\n",
              "    }\n",
              "\n",
              "    .dataframe tbody tr th {\n",
              "        vertical-align: top;\n",
              "    }\n",
              "\n",
              "    .dataframe thead th {\n",
              "        text-align: right;\n",
              "    }\n",
              "</style>\n",
              "<table border=\"1\" class=\"dataframe\">\n",
              "  <thead>\n",
              "    <tr style=\"text-align: right;\">\n",
              "      <th></th>\n",
              "      <th>Sentiment</th>\n",
              "      <th>User</th>\n",
              "      <th>Tweet</th>\n",
              "      <th>Tagging</th>\n",
              "      <th>Hashtags</th>\n",
              "      <th>Emojis</th>\n",
              "      <th>Month</th>\n",
              "      <th>Day</th>\n",
              "      <th>Year</th>\n",
              "      <th>Hour</th>\n",
              "      <th>Minutes</th>\n",
              "      <th>Seconds</th>\n",
              "      <th>DayOfWeek</th>\n",
              "    </tr>\n",
              "  </thead>\n",
              "  <tbody>\n",
              "    <tr>\n",
              "      <th>0</th>\n",
              "      <td>0</td>\n",
              "      <td>adorableD</td>\n",
              "      <td>huuu mau padusssss nynyi were all in this toge...</td>\n",
              "      <td>amandakirana</td>\n",
              "      <td>None</td>\n",
              "      <td>None</td>\n",
              "      <td>6</td>\n",
              "      <td>19</td>\n",
              "      <td>2009</td>\n",
              "      <td>17</td>\n",
              "      <td>2</td>\n",
              "      <td>17</td>\n",
              "      <td>Friday</td>\n",
              "    </tr>\n",
              "    <tr>\n",
              "      <th>1</th>\n",
              "      <td>1</td>\n",
              "      <td>Jacks18</td>\n",
              "      <td>theres only   days to go til hes home xx</td>\n",
              "      <td>None</td>\n",
              "      <td>None</td>\n",
              "      <td>None</td>\n",
              "      <td>6</td>\n",
              "      <td>15</td>\n",
              "      <td>2009</td>\n",
              "      <td>22</td>\n",
              "      <td>59</td>\n",
              "      <td>49</td>\n",
              "      <td>Monday</td>\n",
              "    </tr>\n",
              "  </tbody>\n",
              "</table>\n",
              "</div>"
            ],
            "text/plain": [
              "   Sentiment       User                                              Tweet  \\\n",
              "0          0  adorableD  huuu mau padusssss nynyi were all in this toge...   \n",
              "1          1    Jacks18           theres only   days to go til hes home xx   \n",
              "\n",
              "        Tagging Hashtags Emojis  Month  Day  Year  Hour  Minutes  Seconds  \\\n",
              "0  amandakirana     None   None      6   19  2009    17        2       17   \n",
              "1          None     None   None      6   15  2009    22       59       49   \n",
              "\n",
              "  DayOfWeek  \n",
              "0    Friday  \n",
              "1    Monday  "
            ]
          },
          "execution_count": 17,
          "metadata": {},
          "output_type": "execute_result"
        }
      ],
      "source": [
        "df_chunk.head(2)"
      ]
    },
    {
      "cell_type": "code",
      "execution_count": 18,
      "id": "6172598a",
      "metadata": {
        "id": "6172598a"
      },
      "outputs": [],
      "source": [
        "X = pd.DataFrame(df_chunk['Tweet']) # indep\n",
        "y = df_chunk[\"Sentiment\"] # dep"
      ]
    },
    {
      "cell_type": "code",
      "execution_count": 19,
      "id": "671eb77d",
      "metadata": {},
      "outputs": [
        {
          "data": {
            "text/html": [
              "<div>\n",
              "<style scoped>\n",
              "    .dataframe tbody tr th:only-of-type {\n",
              "        vertical-align: middle;\n",
              "    }\n",
              "\n",
              "    .dataframe tbody tr th {\n",
              "        vertical-align: top;\n",
              "    }\n",
              "\n",
              "    .dataframe thead th {\n",
              "        text-align: right;\n",
              "    }\n",
              "</style>\n",
              "<table border=\"1\" class=\"dataframe\">\n",
              "  <thead>\n",
              "    <tr style=\"text-align: right;\">\n",
              "      <th></th>\n",
              "      <th>Tweet</th>\n",
              "    </tr>\n",
              "  </thead>\n",
              "  <tbody>\n",
              "    <tr>\n",
              "      <th>0</th>\n",
              "      <td>huuu mau padusssss nynyi were all in this toge...</td>\n",
              "    </tr>\n",
              "    <tr>\n",
              "      <th>1</th>\n",
              "      <td>theres only   days to go til hes home xx</td>\n",
              "    </tr>\n",
              "    <tr>\n",
              "      <th>2</th>\n",
              "      <td>no their album comes out in the us in   days</td>\n",
              "    </tr>\n",
              "    <tr>\n",
              "      <th>3</th>\n",
              "      <td>was a nice calm weekend all   babybirds finall...</td>\n",
              "    </tr>\n",
              "    <tr>\n",
              "      <th>4</th>\n",
              "      <td>wishing i really could build dee t</td>\n",
              "    </tr>\n",
              "  </tbody>\n",
              "</table>\n",
              "</div>"
            ],
            "text/plain": [
              "                                               Tweet\n",
              "0  huuu mau padusssss nynyi were all in this toge...\n",
              "1           theres only   days to go til hes home xx\n",
              "2       no their album comes out in the us in   days\n",
              "3  was a nice calm weekend all   babybirds finall...\n",
              "4             wishing i really could build dee t    "
            ]
          },
          "execution_count": 19,
          "metadata": {},
          "output_type": "execute_result"
        }
      ],
      "source": [
        "X.head()"
      ]
    },
    {
      "attachments": {},
      "cell_type": "markdown",
      "id": "55989636",
      "metadata": {},
      "source": [
        "#### Check the shape of the Data"
      ]
    },
    {
      "cell_type": "code",
      "execution_count": 20,
      "id": "f4893c1f",
      "metadata": {},
      "outputs": [
        {
          "data": {
            "text/plain": [
              "(79062, 1)"
            ]
          },
          "execution_count": 20,
          "metadata": {},
          "output_type": "execute_result"
        }
      ],
      "source": [
        "X.shape"
      ]
    },
    {
      "cell_type": "code",
      "execution_count": 21,
      "id": "9074b8f2",
      "metadata": {},
      "outputs": [
        {
          "data": {
            "text/plain": [
              "(79062,)"
            ]
          },
          "execution_count": 21,
          "metadata": {},
          "output_type": "execute_result"
        }
      ],
      "source": [
        "y.shape"
      ]
    },
    {
      "cell_type": "code",
      "execution_count": 22,
      "id": "b52a072a",
      "metadata": {
        "id": "b52a072a"
      },
      "outputs": [],
      "source": [
        "# Test set 20 percent\n",
        "X_rem, X_test, y_rem, y_test = train_test_split(X, y, stratify=y, test_size = 0.2, random_state=1)"
      ]
    },
    {
      "cell_type": "code",
      "execution_count": 23,
      "id": "fXgfm-TkV1Cj",
      "metadata": {
        "id": "fXgfm-TkV1Cj"
      },
      "outputs": [],
      "source": [
        "# Splitting the remainder in two chunks\n",
        "X_train, X_val, y_train, y_val = train_test_split(X_rem, y_rem, test_size = 0.3, stratify=y_rem, random_state=1)"
      ]
    },
    {
      "cell_type": "code",
      "execution_count": 24,
      "id": "9EniotSkWC3I",
      "metadata": {
        "colab": {
          "base_uri": "https://localhost:8080/"
        },
        "id": "9EniotSkWC3I",
        "outputId": "fcbc7e3c-099f-41de-8994-964666c57906"
      },
      "outputs": [
        {
          "name": "stdout",
          "output_type": "stream",
          "text": [
            "Shape of X-test set: (15813, 1)\n",
            "Shape of X remainder set: (63249, 1)\n",
            "Shape of validation set: (18975, 1)\n",
            "Shape of train set: (44274, 1)\n"
          ]
        }
      ],
      "source": [
        "print(f'Shape of X-test set: {X_test.shape}')\n",
        "print(f'Shape of X remainder set: {X_rem.shape}')\n",
        "\n",
        "print(f'Shape of validation set: {X_val.shape}')\n",
        "print(f'Shape of train set: {X_train.shape}')"
      ]
    },
    {
      "attachments": {},
      "cell_type": "markdown",
      "id": "h_znkg7iYWKo",
      "metadata": {
        "id": "h_znkg7iYWKo"
      },
      "source": [
        "Our final proportions end up being\n",
        "* Test Set: *0.2*\n",
        "* Validation Set:  0.8 * 0.3 = *0.24*\n",
        "* Training Set: 0.8 * 0.7 = *0.56*"
      ]
    },
    {
      "cell_type": "code",
      "execution_count": 25,
      "id": "9bc2f262",
      "metadata": {
        "id": "9bc2f262"
      },
      "outputs": [],
      "source": [
        "bagofwords_vector = CountVectorizer(stop_words=\"english\")\n",
        "\n",
        "bagofwords_vector.fit(X_train['Tweet'])\n",
        "\n",
        "X_train_transform = bagofwords_vector.transform(X_train['Tweet'])\n",
        "X_val_transform = bagofwords_vector.transform(X_val['Tweet'])\n",
        "X_test_transform = bagofwords_vector.transform(X_test['Tweet'])"
      ]
    },
    {
      "cell_type": "code",
      "execution_count": 26,
      "id": "2717fd74",
      "metadata": {},
      "outputs": [
        {
          "data": {
            "text/plain": [
              "<44274x34648 sparse matrix of type '<class 'numpy.int64'>'\n",
              "\twith 276613 stored elements in Compressed Sparse Row format>"
            ]
          },
          "execution_count": 26,
          "metadata": {},
          "output_type": "execute_result"
        }
      ],
      "source": [
        "X_train_transform"
      ]
    },
    {
      "cell_type": "code",
      "execution_count": 27,
      "id": "ae5a9167",
      "metadata": {},
      "outputs": [
        {
          "data": {
            "text/plain": [
              "34648"
            ]
          },
          "execution_count": 27,
          "metadata": {},
          "output_type": "execute_result"
        }
      ],
      "source": [
        "len(bagofwords_vector.get_feature_names_out())"
      ]
    },
    {
      "cell_type": "code",
      "execution_count": 28,
      "id": "862009ea",
      "metadata": {},
      "outputs": [
        {
          "data": {
            "text/plain": [
              "8.163963287924267"
            ]
          },
          "execution_count": 28,
          "metadata": {},
          "output_type": "execute_result"
        }
      ],
      "source": [
        "np.mean(X_train_transform.toarray().sum(axis=0))\n"
      ]
    },
    {
      "attachments": {},
      "cell_type": "markdown",
      "id": "d20b0d84",
      "metadata": {},
      "source": [
        "Based on the mean we try min_df of ~8"
      ]
    },
    {
      "cell_type": "code",
      "execution_count": 29,
      "id": "fb66a4d0",
      "metadata": {},
      "outputs": [],
      "source": [
        "bagofwords_vector = CountVectorizer(stop_words=\"english\", min_df=8)\n",
        "\n",
        "bagofwords_vector.fit(X_train['Tweet'])\n",
        "\n",
        "X_train_transform = bagofwords_vector.transform(X_train['Tweet'])\n",
        "X_val_transform = bagofwords_vector.transform(X_val['Tweet'])\n",
        "X_test_transform = bagofwords_vector.transform(X_test['Tweet'])"
      ]
    },
    {
      "cell_type": "code",
      "execution_count": 30,
      "id": "87c8af00",
      "metadata": {},
      "outputs": [
        {
          "data": {
            "text/plain": [
              "<44274x3926 sparse matrix of type '<class 'numpy.int64'>'\n",
              "\twith 225628 stored elements in Compressed Sparse Row format>"
            ]
          },
          "execution_count": 30,
          "metadata": {},
          "output_type": "execute_result"
        }
      ],
      "source": [
        "X_train_transform"
      ]
    },
    {
      "cell_type": "code",
      "execution_count": 31,
      "id": "c92866e0",
      "metadata": {},
      "outputs": [
        {
          "data": {
            "text/plain": [
              "3926"
            ]
          },
          "execution_count": 31,
          "metadata": {},
          "output_type": "execute_result"
        }
      ],
      "source": [
        "len(bagofwords_vector.get_feature_names_out())"
      ]
    },
    {
      "cell_type": "code",
      "execution_count": 32,
      "id": "accf0396",
      "metadata": {},
      "outputs": [
        {
          "data": {
            "text/html": [
              "<div>\n",
              "<style scoped>\n",
              "    .dataframe tbody tr th:only-of-type {\n",
              "        vertical-align: middle;\n",
              "    }\n",
              "\n",
              "    .dataframe tbody tr th {\n",
              "        vertical-align: top;\n",
              "    }\n",
              "\n",
              "    .dataframe thead th {\n",
              "        text-align: right;\n",
              "    }\n",
              "</style>\n",
              "<table border=\"1\" class=\"dataframe\">\n",
              "  <thead>\n",
              "    <tr style=\"text-align: right;\">\n",
              "      <th></th>\n",
              "      <th>aaah</th>\n",
              "      <th>aaron</th>\n",
              "      <th>ab</th>\n",
              "      <th>abandoned</th>\n",
              "      <th>abc</th>\n",
              "      <th>abit</th>\n",
              "      <th>able</th>\n",
              "      <th>absolutely</th>\n",
              "      <th>abt</th>\n",
              "      <th>abuse</th>\n",
              "      <th>...</th>\n",
              "      <th>yucky</th>\n",
              "      <th>yum</th>\n",
              "      <th>yummy</th>\n",
              "      <th>yup</th>\n",
              "      <th>zac</th>\n",
              "      <th>zealand</th>\n",
              "      <th>zero</th>\n",
              "      <th>zombie</th>\n",
              "      <th>zone</th>\n",
              "      <th>zoo</th>\n",
              "    </tr>\n",
              "  </thead>\n",
              "  <tbody>\n",
              "    <tr>\n",
              "      <th>0</th>\n",
              "      <td>0</td>\n",
              "      <td>0</td>\n",
              "      <td>0</td>\n",
              "      <td>0</td>\n",
              "      <td>0</td>\n",
              "      <td>0</td>\n",
              "      <td>0</td>\n",
              "      <td>0</td>\n",
              "      <td>0</td>\n",
              "      <td>0</td>\n",
              "      <td>...</td>\n",
              "      <td>0</td>\n",
              "      <td>0</td>\n",
              "      <td>0</td>\n",
              "      <td>0</td>\n",
              "      <td>0</td>\n",
              "      <td>0</td>\n",
              "      <td>0</td>\n",
              "      <td>0</td>\n",
              "      <td>0</td>\n",
              "      <td>0</td>\n",
              "    </tr>\n",
              "    <tr>\n",
              "      <th>1</th>\n",
              "      <td>0</td>\n",
              "      <td>0</td>\n",
              "      <td>0</td>\n",
              "      <td>0</td>\n",
              "      <td>0</td>\n",
              "      <td>0</td>\n",
              "      <td>0</td>\n",
              "      <td>0</td>\n",
              "      <td>0</td>\n",
              "      <td>0</td>\n",
              "      <td>...</td>\n",
              "      <td>0</td>\n",
              "      <td>0</td>\n",
              "      <td>0</td>\n",
              "      <td>0</td>\n",
              "      <td>0</td>\n",
              "      <td>0</td>\n",
              "      <td>0</td>\n",
              "      <td>0</td>\n",
              "      <td>0</td>\n",
              "      <td>0</td>\n",
              "    </tr>\n",
              "    <tr>\n",
              "      <th>2</th>\n",
              "      <td>0</td>\n",
              "      <td>0</td>\n",
              "      <td>0</td>\n",
              "      <td>0</td>\n",
              "      <td>0</td>\n",
              "      <td>0</td>\n",
              "      <td>0</td>\n",
              "      <td>0</td>\n",
              "      <td>0</td>\n",
              "      <td>0</td>\n",
              "      <td>...</td>\n",
              "      <td>0</td>\n",
              "      <td>0</td>\n",
              "      <td>0</td>\n",
              "      <td>0</td>\n",
              "      <td>0</td>\n",
              "      <td>0</td>\n",
              "      <td>0</td>\n",
              "      <td>0</td>\n",
              "      <td>0</td>\n",
              "      <td>0</td>\n",
              "    </tr>\n",
              "    <tr>\n",
              "      <th>3</th>\n",
              "      <td>0</td>\n",
              "      <td>0</td>\n",
              "      <td>0</td>\n",
              "      <td>0</td>\n",
              "      <td>0</td>\n",
              "      <td>0</td>\n",
              "      <td>0</td>\n",
              "      <td>0</td>\n",
              "      <td>0</td>\n",
              "      <td>0</td>\n",
              "      <td>...</td>\n",
              "      <td>0</td>\n",
              "      <td>0</td>\n",
              "      <td>0</td>\n",
              "      <td>0</td>\n",
              "      <td>0</td>\n",
              "      <td>0</td>\n",
              "      <td>0</td>\n",
              "      <td>0</td>\n",
              "      <td>0</td>\n",
              "      <td>0</td>\n",
              "    </tr>\n",
              "    <tr>\n",
              "      <th>4</th>\n",
              "      <td>0</td>\n",
              "      <td>0</td>\n",
              "      <td>0</td>\n",
              "      <td>0</td>\n",
              "      <td>0</td>\n",
              "      <td>0</td>\n",
              "      <td>0</td>\n",
              "      <td>0</td>\n",
              "      <td>0</td>\n",
              "      <td>0</td>\n",
              "      <td>...</td>\n",
              "      <td>0</td>\n",
              "      <td>0</td>\n",
              "      <td>0</td>\n",
              "      <td>0</td>\n",
              "      <td>0</td>\n",
              "      <td>0</td>\n",
              "      <td>0</td>\n",
              "      <td>0</td>\n",
              "      <td>0</td>\n",
              "      <td>0</td>\n",
              "    </tr>\n",
              "    <tr>\n",
              "      <th>...</th>\n",
              "      <td>...</td>\n",
              "      <td>...</td>\n",
              "      <td>...</td>\n",
              "      <td>...</td>\n",
              "      <td>...</td>\n",
              "      <td>...</td>\n",
              "      <td>...</td>\n",
              "      <td>...</td>\n",
              "      <td>...</td>\n",
              "      <td>...</td>\n",
              "      <td>...</td>\n",
              "      <td>...</td>\n",
              "      <td>...</td>\n",
              "      <td>...</td>\n",
              "      <td>...</td>\n",
              "      <td>...</td>\n",
              "      <td>...</td>\n",
              "      <td>...</td>\n",
              "      <td>...</td>\n",
              "      <td>...</td>\n",
              "      <td>...</td>\n",
              "    </tr>\n",
              "    <tr>\n",
              "      <th>44269</th>\n",
              "      <td>0</td>\n",
              "      <td>0</td>\n",
              "      <td>0</td>\n",
              "      <td>0</td>\n",
              "      <td>0</td>\n",
              "      <td>0</td>\n",
              "      <td>0</td>\n",
              "      <td>0</td>\n",
              "      <td>0</td>\n",
              "      <td>0</td>\n",
              "      <td>...</td>\n",
              "      <td>0</td>\n",
              "      <td>0</td>\n",
              "      <td>0</td>\n",
              "      <td>0</td>\n",
              "      <td>0</td>\n",
              "      <td>0</td>\n",
              "      <td>0</td>\n",
              "      <td>0</td>\n",
              "      <td>0</td>\n",
              "      <td>0</td>\n",
              "    </tr>\n",
              "    <tr>\n",
              "      <th>44270</th>\n",
              "      <td>0</td>\n",
              "      <td>0</td>\n",
              "      <td>0</td>\n",
              "      <td>0</td>\n",
              "      <td>0</td>\n",
              "      <td>0</td>\n",
              "      <td>0</td>\n",
              "      <td>0</td>\n",
              "      <td>0</td>\n",
              "      <td>0</td>\n",
              "      <td>...</td>\n",
              "      <td>0</td>\n",
              "      <td>0</td>\n",
              "      <td>0</td>\n",
              "      <td>0</td>\n",
              "      <td>0</td>\n",
              "      <td>0</td>\n",
              "      <td>0</td>\n",
              "      <td>0</td>\n",
              "      <td>0</td>\n",
              "      <td>0</td>\n",
              "    </tr>\n",
              "    <tr>\n",
              "      <th>44271</th>\n",
              "      <td>0</td>\n",
              "      <td>0</td>\n",
              "      <td>0</td>\n",
              "      <td>0</td>\n",
              "      <td>0</td>\n",
              "      <td>0</td>\n",
              "      <td>0</td>\n",
              "      <td>0</td>\n",
              "      <td>0</td>\n",
              "      <td>0</td>\n",
              "      <td>...</td>\n",
              "      <td>0</td>\n",
              "      <td>0</td>\n",
              "      <td>0</td>\n",
              "      <td>0</td>\n",
              "      <td>0</td>\n",
              "      <td>0</td>\n",
              "      <td>0</td>\n",
              "      <td>0</td>\n",
              "      <td>0</td>\n",
              "      <td>0</td>\n",
              "    </tr>\n",
              "    <tr>\n",
              "      <th>44272</th>\n",
              "      <td>0</td>\n",
              "      <td>0</td>\n",
              "      <td>0</td>\n",
              "      <td>0</td>\n",
              "      <td>0</td>\n",
              "      <td>0</td>\n",
              "      <td>0</td>\n",
              "      <td>0</td>\n",
              "      <td>0</td>\n",
              "      <td>0</td>\n",
              "      <td>...</td>\n",
              "      <td>0</td>\n",
              "      <td>0</td>\n",
              "      <td>0</td>\n",
              "      <td>0</td>\n",
              "      <td>0</td>\n",
              "      <td>0</td>\n",
              "      <td>0</td>\n",
              "      <td>0</td>\n",
              "      <td>0</td>\n",
              "      <td>0</td>\n",
              "    </tr>\n",
              "    <tr>\n",
              "      <th>44273</th>\n",
              "      <td>0</td>\n",
              "      <td>0</td>\n",
              "      <td>0</td>\n",
              "      <td>0</td>\n",
              "      <td>0</td>\n",
              "      <td>0</td>\n",
              "      <td>0</td>\n",
              "      <td>0</td>\n",
              "      <td>0</td>\n",
              "      <td>0</td>\n",
              "      <td>...</td>\n",
              "      <td>0</td>\n",
              "      <td>0</td>\n",
              "      <td>0</td>\n",
              "      <td>0</td>\n",
              "      <td>0</td>\n",
              "      <td>0</td>\n",
              "      <td>0</td>\n",
              "      <td>0</td>\n",
              "      <td>0</td>\n",
              "      <td>0</td>\n",
              "    </tr>\n",
              "  </tbody>\n",
              "</table>\n",
              "<p>44274 rows × 3926 columns</p>\n",
              "</div>"
            ],
            "text/plain": [
              "       aaah  aaron  ab  abandoned  abc  abit  able  absolutely  abt  abuse  \\\n",
              "0         0      0   0          0    0     0     0           0    0      0   \n",
              "1         0      0   0          0    0     0     0           0    0      0   \n",
              "2         0      0   0          0    0     0     0           0    0      0   \n",
              "3         0      0   0          0    0     0     0           0    0      0   \n",
              "4         0      0   0          0    0     0     0           0    0      0   \n",
              "...     ...    ...  ..        ...  ...   ...   ...         ...  ...    ...   \n",
              "44269     0      0   0          0    0     0     0           0    0      0   \n",
              "44270     0      0   0          0    0     0     0           0    0      0   \n",
              "44271     0      0   0          0    0     0     0           0    0      0   \n",
              "44272     0      0   0          0    0     0     0           0    0      0   \n",
              "44273     0      0   0          0    0     0     0           0    0      0   \n",
              "\n",
              "       ...  yucky  yum  yummy  yup  zac  zealand  zero  zombie  zone  zoo  \n",
              "0      ...      0    0      0    0    0        0     0       0     0    0  \n",
              "1      ...      0    0      0    0    0        0     0       0     0    0  \n",
              "2      ...      0    0      0    0    0        0     0       0     0    0  \n",
              "3      ...      0    0      0    0    0        0     0       0     0    0  \n",
              "4      ...      0    0      0    0    0        0     0       0     0    0  \n",
              "...    ...    ...  ...    ...  ...  ...      ...   ...     ...   ...  ...  \n",
              "44269  ...      0    0      0    0    0        0     0       0     0    0  \n",
              "44270  ...      0    0      0    0    0        0     0       0     0    0  \n",
              "44271  ...      0    0      0    0    0        0     0       0     0    0  \n",
              "44272  ...      0    0      0    0    0        0     0       0     0    0  \n",
              "44273  ...      0    0      0    0    0        0     0       0     0    0  \n",
              "\n",
              "[44274 rows x 3926 columns]"
            ]
          },
          "metadata": {},
          "output_type": "display_data"
        }
      ],
      "source": [
        "# We can extract the information and put it in a data frame to make it easier to see what has occured\n",
        "my_df = pd.DataFrame(columns=bagofwords_vector.get_feature_names_out(), data=X_train_transform.toarray())\n",
        "display(my_df)"
      ]
    },
    {
      "cell_type": "code",
      "execution_count": 33,
      "id": "f2c61e1c",
      "metadata": {},
      "outputs": [
        {
          "data": {
            "text/plain": [
              "True"
            ]
          },
          "execution_count": 33,
          "metadata": {},
          "output_type": "execute_result"
        }
      ],
      "source": [
        "my_df.shape[0] == X_train.shape[0]"
      ]
    },
    {
      "cell_type": "code",
      "execution_count": 34,
      "id": "f370c188",
      "metadata": {
        "id": "f370c188"
      },
      "outputs": [],
      "source": [
        "import nltk\n",
        "from nltk.stem import WordNetLemmatizer\n",
        "\n",
        "# Let's test it out\n",
        "# stemmer = nltk.stem.PorterStemmer()"
      ]
    },
    {
      "cell_type": "code",
      "execution_count": 35,
      "id": "b2ac251b",
      "metadata": {
        "colab": {
          "base_uri": "https://localhost:8080/"
        },
        "id": "b2ac251b",
        "outputId": "876aa2cb-d6a8-4b52-f950-b30f84bec170"
      },
      "outputs": [],
      "source": [
        "# nltk.download('wordnet')\n",
        "# nltk.download('omw-1.4')"
      ]
    },
    {
      "cell_type": "code",
      "execution_count": 36,
      "id": "b60f9fd5",
      "metadata": {
        "colab": {
          "base_uri": "https://localhost:8080/",
          "height": 216
        },
        "id": "b60f9fd5",
        "outputId": "64b97546-6d2f-4b16-8096-2215d3a75ee7"
      },
      "outputs": [
        {
          "data": {
            "text/html": [
              "<style>#sk-container-id-1 {color: black;background-color: white;}#sk-container-id-1 pre{padding: 0;}#sk-container-id-1 div.sk-toggleable {background-color: white;}#sk-container-id-1 label.sk-toggleable__label {cursor: pointer;display: block;width: 100%;margin-bottom: 0;padding: 0.3em;box-sizing: border-box;text-align: center;}#sk-container-id-1 label.sk-toggleable__label-arrow:before {content: \"▸\";float: left;margin-right: 0.25em;color: #696969;}#sk-container-id-1 label.sk-toggleable__label-arrow:hover:before {color: black;}#sk-container-id-1 div.sk-estimator:hover label.sk-toggleable__label-arrow:before {color: black;}#sk-container-id-1 div.sk-toggleable__content {max-height: 0;max-width: 0;overflow: hidden;text-align: left;background-color: #f0f8ff;}#sk-container-id-1 div.sk-toggleable__content pre {margin: 0.2em;color: black;border-radius: 0.25em;background-color: #f0f8ff;}#sk-container-id-1 input.sk-toggleable__control:checked~div.sk-toggleable__content {max-height: 200px;max-width: 100%;overflow: auto;}#sk-container-id-1 input.sk-toggleable__control:checked~label.sk-toggleable__label-arrow:before {content: \"▾\";}#sk-container-id-1 div.sk-estimator input.sk-toggleable__control:checked~label.sk-toggleable__label {background-color: #d4ebff;}#sk-container-id-1 div.sk-label input.sk-toggleable__control:checked~label.sk-toggleable__label {background-color: #d4ebff;}#sk-container-id-1 input.sk-hidden--visually {border: 0;clip: rect(1px 1px 1px 1px);clip: rect(1px, 1px, 1px, 1px);height: 1px;margin: -1px;overflow: hidden;padding: 0;position: absolute;width: 1px;}#sk-container-id-1 div.sk-estimator {font-family: monospace;background-color: #f0f8ff;border: 1px dotted black;border-radius: 0.25em;box-sizing: border-box;margin-bottom: 0.5em;}#sk-container-id-1 div.sk-estimator:hover {background-color: #d4ebff;}#sk-container-id-1 div.sk-parallel-item::after {content: \"\";width: 100%;border-bottom: 1px solid gray;flex-grow: 1;}#sk-container-id-1 div.sk-label:hover label.sk-toggleable__label {background-color: #d4ebff;}#sk-container-id-1 div.sk-serial::before {content: \"\";position: absolute;border-left: 1px solid gray;box-sizing: border-box;top: 0;bottom: 0;left: 50%;z-index: 0;}#sk-container-id-1 div.sk-serial {display: flex;flex-direction: column;align-items: center;background-color: white;padding-right: 0.2em;padding-left: 0.2em;position: relative;}#sk-container-id-1 div.sk-item {position: relative;z-index: 1;}#sk-container-id-1 div.sk-parallel {display: flex;align-items: stretch;justify-content: center;background-color: white;position: relative;}#sk-container-id-1 div.sk-item::before, #sk-container-id-1 div.sk-parallel-item::before {content: \"\";position: absolute;border-left: 1px solid gray;box-sizing: border-box;top: 0;bottom: 0;left: 50%;z-index: -1;}#sk-container-id-1 div.sk-parallel-item {display: flex;flex-direction: column;z-index: 1;position: relative;background-color: white;}#sk-container-id-1 div.sk-parallel-item:first-child::after {align-self: flex-end;width: 50%;}#sk-container-id-1 div.sk-parallel-item:last-child::after {align-self: flex-start;width: 50%;}#sk-container-id-1 div.sk-parallel-item:only-child::after {width: 0;}#sk-container-id-1 div.sk-dashed-wrapped {border: 1px dashed gray;margin: 0 0.4em 0.5em 0.4em;box-sizing: border-box;padding-bottom: 0.4em;background-color: white;}#sk-container-id-1 div.sk-label label {font-family: monospace;font-weight: bold;display: inline-block;line-height: 1.2em;}#sk-container-id-1 div.sk-label-container {text-align: center;}#sk-container-id-1 div.sk-container {/* jupyter's `normalize.less` sets `[hidden] { display: none; }` but bootstrap.min.css set `[hidden] { display: none !important; }` so we also need the `!important` here to be able to override the default hidden behavior on the sphinx rendered scikit-learn.org. See: https://github.com/scikit-learn/scikit-learn/issues/21755 */display: inline-block !important;position: relative;}#sk-container-id-1 div.sk-text-repr-fallback {display: none;}</style><div id=\"sk-container-id-1\" class=\"sk-top-container\"><div class=\"sk-text-repr-fallback\"><pre>CountVectorizer(min_df=8, stop_words=&#x27;english&#x27;,\n",
              "                tokenizer=&lt;function &lt;lambda&gt; at 0x00000146E7635750&gt;)</pre><b>In a Jupyter environment, please rerun this cell to show the HTML representation or trust the notebook. <br />On GitHub, the HTML representation is unable to render, please try loading this page with nbviewer.org.</b></div><div class=\"sk-container\" hidden><div class=\"sk-item\"><div class=\"sk-estimator sk-toggleable\"><input class=\"sk-toggleable__control sk-hidden--visually\" id=\"sk-estimator-id-1\" type=\"checkbox\" checked><label for=\"sk-estimator-id-1\" class=\"sk-toggleable__label sk-toggleable__label-arrow\">CountVectorizer</label><div class=\"sk-toggleable__content\"><pre>CountVectorizer(min_df=8, stop_words=&#x27;english&#x27;,\n",
              "                tokenizer=&lt;function &lt;lambda&gt; at 0x00000146E7635750&gt;)</pre></div></div></div></div></div>"
            ],
            "text/plain": [
              "CountVectorizer(min_df=8, stop_words='english',\n",
              "                tokenizer=<function <lambda> at 0x00000146E7635750>)"
            ]
          },
          "execution_count": 36,
          "metadata": {},
          "output_type": "execute_result"
        }
      ],
      "source": [
        "lemmatizer = WordNetLemmatizer()\n",
        "\n",
        "# bagofwords_vector = CountVectorizer(stop_words=\"english\",\n",
        "#                                     tokenizer = lambda x: [stemmer.stem(i) for i in x.split(' ')],\n",
        "#                                     min_df=1000)\n",
        "\n",
        "bagofwords_vector = CountVectorizer(stop_words=\"english\",\n",
        "                                    tokenizer=lambda x: [lemmatizer.lemmatize(i) for i in x.split()], min_df=8)\n",
        "# 2. Fit\n",
        "bagofwords_vector.fit(X_train['Tweet'])"
      ]
    },
    {
      "cell_type": "code",
      "execution_count": 37,
      "id": "1682025b",
      "metadata": {
        "id": "1682025b"
      },
      "outputs": [],
      "source": [
        "# 3. Transform - tokenize (split to words) & count for each sentence how many times each occurs\n",
        "X_train_transform = bagofwords_vector.transform(X_train['Tweet'])\n",
        "X_val_transform = bagofwords_vector.transform(X_val['Tweet'])\n",
        "X_test_transform = bagofwords_vector.transform(X_test['Tweet'])"
      ]
    },
    {
      "cell_type": "code",
      "execution_count": 38,
      "id": "8e4253fa",
      "metadata": {
        "colab": {
          "base_uri": "https://localhost:8080/"
        },
        "id": "8e4253fa",
        "outputId": "b2026cd8-8809-4554-8481-8ea3f198146b"
      },
      "outputs": [
        {
          "data": {
            "text/plain": [
              "<44274x3746 sparse matrix of type '<class 'numpy.int64'>'\n",
              "\twith 236871 stored elements in Compressed Sparse Row format>"
            ]
          },
          "execution_count": 38,
          "metadata": {},
          "output_type": "execute_result"
        }
      ],
      "source": [
        "X_train_transform"
      ]
    },
    {
      "cell_type": "code",
      "execution_count": 39,
      "id": "IdX4S4s3d78Z",
      "metadata": {
        "colab": {
          "base_uri": "https://localhost:8080/"
        },
        "id": "IdX4S4s3d78Z",
        "outputId": "45317fed-0ce4-41a8-f81b-8e24012cf71d"
      },
      "outputs": [
        {
          "data": {
            "text/plain": [
              "<18975x3746 sparse matrix of type '<class 'numpy.int64'>'\n",
              "\twith 100453 stored elements in Compressed Sparse Row format>"
            ]
          },
          "execution_count": 39,
          "metadata": {},
          "output_type": "execute_result"
        }
      ],
      "source": [
        "X_val_transform"
      ]
    },
    {
      "cell_type": "code",
      "execution_count": 40,
      "id": "B53LHhtad9nc",
      "metadata": {
        "colab": {
          "base_uri": "https://localhost:8080/"
        },
        "id": "B53LHhtad9nc",
        "outputId": "5d81bb36-fb4c-438c-b2d9-53eff447fcd1"
      },
      "outputs": [
        {
          "data": {
            "text/plain": [
              "<15813x3746 sparse matrix of type '<class 'numpy.int64'>'\n",
              "\twith 83521 stored elements in Compressed Sparse Row format>"
            ]
          },
          "execution_count": 40,
          "metadata": {},
          "output_type": "execute_result"
        }
      ],
      "source": [
        "X_test_transform"
      ]
    },
    {
      "attachments": {},
      "cell_type": "markdown",
      "id": "qz3TgfaGPzFX",
      "metadata": {
        "id": "qz3TgfaGPzFX"
      },
      "source": [
        "15813 features to 4668 feature"
      ]
    },
    {
      "cell_type": "code",
      "execution_count": 41,
      "id": "Kh-rTgboPM6p",
      "metadata": {
        "colab": {
          "base_uri": "https://localhost:8080/",
          "height": 487
        },
        "id": "Kh-rTgboPM6p",
        "outputId": "c2955db1-7671-4768-8b00-08576d4fc299"
      },
      "outputs": [
        {
          "data": {
            "text/html": [
              "<div>\n",
              "<style scoped>\n",
              "    .dataframe tbody tr th:only-of-type {\n",
              "        vertical-align: middle;\n",
              "    }\n",
              "\n",
              "    .dataframe tbody tr th {\n",
              "        vertical-align: top;\n",
              "    }\n",
              "\n",
              "    .dataframe thead th {\n",
              "        text-align: right;\n",
              "    }\n",
              "</style>\n",
              "<table border=\"1\" class=\"dataframe\">\n",
              "  <thead>\n",
              "    <tr style=\"text-align: right;\">\n",
              "      <th></th>\n",
              "      <th>aaah</th>\n",
              "      <th>aaron</th>\n",
              "      <th>ab</th>\n",
              "      <th>abandoned</th>\n",
              "      <th>abc</th>\n",
              "      <th>ability</th>\n",
              "      <th>abit</th>\n",
              "      <th>able</th>\n",
              "      <th>absolutely</th>\n",
              "      <th>abt</th>\n",
              "      <th>...</th>\n",
              "      <th>yum</th>\n",
              "      <th>yummy</th>\n",
              "      <th>yup</th>\n",
              "      <th>z</th>\n",
              "      <th>zac</th>\n",
              "      <th>zealand</th>\n",
              "      <th>zero</th>\n",
              "      <th>zombie</th>\n",
              "      <th>zone</th>\n",
              "      <th>zoo</th>\n",
              "    </tr>\n",
              "  </thead>\n",
              "  <tbody>\n",
              "    <tr>\n",
              "      <th>0</th>\n",
              "      <td>0</td>\n",
              "      <td>0</td>\n",
              "      <td>0</td>\n",
              "      <td>0</td>\n",
              "      <td>0</td>\n",
              "      <td>0</td>\n",
              "      <td>0</td>\n",
              "      <td>0</td>\n",
              "      <td>0</td>\n",
              "      <td>0</td>\n",
              "      <td>...</td>\n",
              "      <td>0</td>\n",
              "      <td>0</td>\n",
              "      <td>0</td>\n",
              "      <td>0</td>\n",
              "      <td>0</td>\n",
              "      <td>0</td>\n",
              "      <td>0</td>\n",
              "      <td>0</td>\n",
              "      <td>0</td>\n",
              "      <td>0</td>\n",
              "    </tr>\n",
              "    <tr>\n",
              "      <th>1</th>\n",
              "      <td>0</td>\n",
              "      <td>0</td>\n",
              "      <td>0</td>\n",
              "      <td>0</td>\n",
              "      <td>0</td>\n",
              "      <td>0</td>\n",
              "      <td>0</td>\n",
              "      <td>0</td>\n",
              "      <td>0</td>\n",
              "      <td>0</td>\n",
              "      <td>...</td>\n",
              "      <td>0</td>\n",
              "      <td>0</td>\n",
              "      <td>0</td>\n",
              "      <td>0</td>\n",
              "      <td>0</td>\n",
              "      <td>0</td>\n",
              "      <td>0</td>\n",
              "      <td>0</td>\n",
              "      <td>0</td>\n",
              "      <td>0</td>\n",
              "    </tr>\n",
              "    <tr>\n",
              "      <th>2</th>\n",
              "      <td>0</td>\n",
              "      <td>0</td>\n",
              "      <td>0</td>\n",
              "      <td>0</td>\n",
              "      <td>0</td>\n",
              "      <td>0</td>\n",
              "      <td>0</td>\n",
              "      <td>0</td>\n",
              "      <td>0</td>\n",
              "      <td>0</td>\n",
              "      <td>...</td>\n",
              "      <td>0</td>\n",
              "      <td>0</td>\n",
              "      <td>0</td>\n",
              "      <td>0</td>\n",
              "      <td>0</td>\n",
              "      <td>0</td>\n",
              "      <td>0</td>\n",
              "      <td>0</td>\n",
              "      <td>0</td>\n",
              "      <td>0</td>\n",
              "    </tr>\n",
              "    <tr>\n",
              "      <th>3</th>\n",
              "      <td>0</td>\n",
              "      <td>0</td>\n",
              "      <td>0</td>\n",
              "      <td>0</td>\n",
              "      <td>0</td>\n",
              "      <td>0</td>\n",
              "      <td>0</td>\n",
              "      <td>0</td>\n",
              "      <td>0</td>\n",
              "      <td>0</td>\n",
              "      <td>...</td>\n",
              "      <td>0</td>\n",
              "      <td>0</td>\n",
              "      <td>0</td>\n",
              "      <td>0</td>\n",
              "      <td>0</td>\n",
              "      <td>0</td>\n",
              "      <td>0</td>\n",
              "      <td>0</td>\n",
              "      <td>0</td>\n",
              "      <td>0</td>\n",
              "    </tr>\n",
              "    <tr>\n",
              "      <th>4</th>\n",
              "      <td>0</td>\n",
              "      <td>0</td>\n",
              "      <td>0</td>\n",
              "      <td>0</td>\n",
              "      <td>0</td>\n",
              "      <td>0</td>\n",
              "      <td>0</td>\n",
              "      <td>0</td>\n",
              "      <td>0</td>\n",
              "      <td>0</td>\n",
              "      <td>...</td>\n",
              "      <td>0</td>\n",
              "      <td>0</td>\n",
              "      <td>0</td>\n",
              "      <td>0</td>\n",
              "      <td>0</td>\n",
              "      <td>0</td>\n",
              "      <td>0</td>\n",
              "      <td>0</td>\n",
              "      <td>0</td>\n",
              "      <td>0</td>\n",
              "    </tr>\n",
              "    <tr>\n",
              "      <th>...</th>\n",
              "      <td>...</td>\n",
              "      <td>...</td>\n",
              "      <td>...</td>\n",
              "      <td>...</td>\n",
              "      <td>...</td>\n",
              "      <td>...</td>\n",
              "      <td>...</td>\n",
              "      <td>...</td>\n",
              "      <td>...</td>\n",
              "      <td>...</td>\n",
              "      <td>...</td>\n",
              "      <td>...</td>\n",
              "      <td>...</td>\n",
              "      <td>...</td>\n",
              "      <td>...</td>\n",
              "      <td>...</td>\n",
              "      <td>...</td>\n",
              "      <td>...</td>\n",
              "      <td>...</td>\n",
              "      <td>...</td>\n",
              "      <td>...</td>\n",
              "    </tr>\n",
              "    <tr>\n",
              "      <th>44269</th>\n",
              "      <td>0</td>\n",
              "      <td>0</td>\n",
              "      <td>0</td>\n",
              "      <td>0</td>\n",
              "      <td>0</td>\n",
              "      <td>0</td>\n",
              "      <td>0</td>\n",
              "      <td>0</td>\n",
              "      <td>0</td>\n",
              "      <td>0</td>\n",
              "      <td>...</td>\n",
              "      <td>0</td>\n",
              "      <td>0</td>\n",
              "      <td>0</td>\n",
              "      <td>0</td>\n",
              "      <td>0</td>\n",
              "      <td>0</td>\n",
              "      <td>0</td>\n",
              "      <td>0</td>\n",
              "      <td>0</td>\n",
              "      <td>0</td>\n",
              "    </tr>\n",
              "    <tr>\n",
              "      <th>44270</th>\n",
              "      <td>0</td>\n",
              "      <td>0</td>\n",
              "      <td>0</td>\n",
              "      <td>0</td>\n",
              "      <td>0</td>\n",
              "      <td>0</td>\n",
              "      <td>0</td>\n",
              "      <td>0</td>\n",
              "      <td>0</td>\n",
              "      <td>0</td>\n",
              "      <td>...</td>\n",
              "      <td>0</td>\n",
              "      <td>0</td>\n",
              "      <td>0</td>\n",
              "      <td>0</td>\n",
              "      <td>0</td>\n",
              "      <td>0</td>\n",
              "      <td>0</td>\n",
              "      <td>0</td>\n",
              "      <td>0</td>\n",
              "      <td>0</td>\n",
              "    </tr>\n",
              "    <tr>\n",
              "      <th>44271</th>\n",
              "      <td>0</td>\n",
              "      <td>0</td>\n",
              "      <td>0</td>\n",
              "      <td>0</td>\n",
              "      <td>0</td>\n",
              "      <td>0</td>\n",
              "      <td>0</td>\n",
              "      <td>0</td>\n",
              "      <td>0</td>\n",
              "      <td>0</td>\n",
              "      <td>...</td>\n",
              "      <td>0</td>\n",
              "      <td>0</td>\n",
              "      <td>0</td>\n",
              "      <td>0</td>\n",
              "      <td>0</td>\n",
              "      <td>0</td>\n",
              "      <td>0</td>\n",
              "      <td>0</td>\n",
              "      <td>0</td>\n",
              "      <td>0</td>\n",
              "    </tr>\n",
              "    <tr>\n",
              "      <th>44272</th>\n",
              "      <td>0</td>\n",
              "      <td>0</td>\n",
              "      <td>0</td>\n",
              "      <td>0</td>\n",
              "      <td>0</td>\n",
              "      <td>0</td>\n",
              "      <td>0</td>\n",
              "      <td>0</td>\n",
              "      <td>0</td>\n",
              "      <td>0</td>\n",
              "      <td>...</td>\n",
              "      <td>0</td>\n",
              "      <td>0</td>\n",
              "      <td>0</td>\n",
              "      <td>0</td>\n",
              "      <td>0</td>\n",
              "      <td>0</td>\n",
              "      <td>0</td>\n",
              "      <td>0</td>\n",
              "      <td>0</td>\n",
              "      <td>0</td>\n",
              "    </tr>\n",
              "    <tr>\n",
              "      <th>44273</th>\n",
              "      <td>0</td>\n",
              "      <td>0</td>\n",
              "      <td>0</td>\n",
              "      <td>0</td>\n",
              "      <td>0</td>\n",
              "      <td>0</td>\n",
              "      <td>0</td>\n",
              "      <td>0</td>\n",
              "      <td>0</td>\n",
              "      <td>0</td>\n",
              "      <td>...</td>\n",
              "      <td>0</td>\n",
              "      <td>0</td>\n",
              "      <td>0</td>\n",
              "      <td>0</td>\n",
              "      <td>0</td>\n",
              "      <td>0</td>\n",
              "      <td>0</td>\n",
              "      <td>0</td>\n",
              "      <td>0</td>\n",
              "      <td>0</td>\n",
              "    </tr>\n",
              "  </tbody>\n",
              "</table>\n",
              "<p>44274 rows × 3746 columns</p>\n",
              "</div>"
            ],
            "text/plain": [
              "       aaah  aaron  ab  abandoned  abc  ability  abit  able  absolutely  abt  \\\n",
              "0         0      0   0          0    0        0     0     0           0    0   \n",
              "1         0      0   0          0    0        0     0     0           0    0   \n",
              "2         0      0   0          0    0        0     0     0           0    0   \n",
              "3         0      0   0          0    0        0     0     0           0    0   \n",
              "4         0      0   0          0    0        0     0     0           0    0   \n",
              "...     ...    ...  ..        ...  ...      ...   ...   ...         ...  ...   \n",
              "44269     0      0   0          0    0        0     0     0           0    0   \n",
              "44270     0      0   0          0    0        0     0     0           0    0   \n",
              "44271     0      0   0          0    0        0     0     0           0    0   \n",
              "44272     0      0   0          0    0        0     0     0           0    0   \n",
              "44273     0      0   0          0    0        0     0     0           0    0   \n",
              "\n",
              "       ...  yum  yummy  yup  z  zac  zealand  zero  zombie  zone  zoo  \n",
              "0      ...    0      0    0  0    0        0     0       0     0    0  \n",
              "1      ...    0      0    0  0    0        0     0       0     0    0  \n",
              "2      ...    0      0    0  0    0        0     0       0     0    0  \n",
              "3      ...    0      0    0  0    0        0     0       0     0    0  \n",
              "4      ...    0      0    0  0    0        0     0       0     0    0  \n",
              "...    ...  ...    ...  ... ..  ...      ...   ...     ...   ...  ...  \n",
              "44269  ...    0      0    0  0    0        0     0       0     0    0  \n",
              "44270  ...    0      0    0  0    0        0     0       0     0    0  \n",
              "44271  ...    0      0    0  0    0        0     0       0     0    0  \n",
              "44272  ...    0      0    0  0    0        0     0       0     0    0  \n",
              "44273  ...    0      0    0  0    0        0     0       0     0    0  \n",
              "\n",
              "[44274 rows x 3746 columns]"
            ]
          },
          "execution_count": 41,
          "metadata": {},
          "output_type": "execute_result"
        }
      ],
      "source": [
        "# We can extract the information and put it in a data frame to make it easier to see what has occured\n",
        "X_train_df_vect = pd.DataFrame(columns=bagofwords_vector.get_feature_names_out(), data=X_train_transform.toarray())\n",
        "X_train_df_vect"
      ]
    },
    {
      "cell_type": "code",
      "execution_count": 42,
      "id": "c1ab8d97",
      "metadata": {},
      "outputs": [
        {
          "data": {
            "text/html": [
              "<div>\n",
              "<style scoped>\n",
              "    .dataframe tbody tr th:only-of-type {\n",
              "        vertical-align: middle;\n",
              "    }\n",
              "\n",
              "    .dataframe tbody tr th {\n",
              "        vertical-align: top;\n",
              "    }\n",
              "\n",
              "    .dataframe thead th {\n",
              "        text-align: right;\n",
              "    }\n",
              "</style>\n",
              "<table border=\"1\" class=\"dataframe\">\n",
              "  <thead>\n",
              "    <tr style=\"text-align: right;\">\n",
              "      <th></th>\n",
              "      <th>aaah</th>\n",
              "      <th>aaron</th>\n",
              "      <th>ab</th>\n",
              "      <th>abandoned</th>\n",
              "      <th>abc</th>\n",
              "      <th>ability</th>\n",
              "      <th>abit</th>\n",
              "      <th>able</th>\n",
              "      <th>absolutely</th>\n",
              "      <th>abt</th>\n",
              "      <th>...</th>\n",
              "      <th>yum</th>\n",
              "      <th>yummy</th>\n",
              "      <th>yup</th>\n",
              "      <th>z</th>\n",
              "      <th>zac</th>\n",
              "      <th>zealand</th>\n",
              "      <th>zero</th>\n",
              "      <th>zombie</th>\n",
              "      <th>zone</th>\n",
              "      <th>zoo</th>\n",
              "    </tr>\n",
              "  </thead>\n",
              "  <tbody>\n",
              "    <tr>\n",
              "      <th>0</th>\n",
              "      <td>0</td>\n",
              "      <td>0</td>\n",
              "      <td>0</td>\n",
              "      <td>0</td>\n",
              "      <td>0</td>\n",
              "      <td>0</td>\n",
              "      <td>0</td>\n",
              "      <td>0</td>\n",
              "      <td>0</td>\n",
              "      <td>0</td>\n",
              "      <td>...</td>\n",
              "      <td>0</td>\n",
              "      <td>0</td>\n",
              "      <td>0</td>\n",
              "      <td>0</td>\n",
              "      <td>0</td>\n",
              "      <td>0</td>\n",
              "      <td>0</td>\n",
              "      <td>0</td>\n",
              "      <td>0</td>\n",
              "      <td>0</td>\n",
              "    </tr>\n",
              "    <tr>\n",
              "      <th>1</th>\n",
              "      <td>0</td>\n",
              "      <td>0</td>\n",
              "      <td>0</td>\n",
              "      <td>0</td>\n",
              "      <td>0</td>\n",
              "      <td>0</td>\n",
              "      <td>0</td>\n",
              "      <td>0</td>\n",
              "      <td>0</td>\n",
              "      <td>0</td>\n",
              "      <td>...</td>\n",
              "      <td>0</td>\n",
              "      <td>0</td>\n",
              "      <td>0</td>\n",
              "      <td>0</td>\n",
              "      <td>0</td>\n",
              "      <td>0</td>\n",
              "      <td>0</td>\n",
              "      <td>0</td>\n",
              "      <td>0</td>\n",
              "      <td>0</td>\n",
              "    </tr>\n",
              "    <tr>\n",
              "      <th>2</th>\n",
              "      <td>0</td>\n",
              "      <td>0</td>\n",
              "      <td>0</td>\n",
              "      <td>0</td>\n",
              "      <td>0</td>\n",
              "      <td>0</td>\n",
              "      <td>0</td>\n",
              "      <td>0</td>\n",
              "      <td>0</td>\n",
              "      <td>0</td>\n",
              "      <td>...</td>\n",
              "      <td>0</td>\n",
              "      <td>0</td>\n",
              "      <td>0</td>\n",
              "      <td>0</td>\n",
              "      <td>0</td>\n",
              "      <td>0</td>\n",
              "      <td>0</td>\n",
              "      <td>0</td>\n",
              "      <td>0</td>\n",
              "      <td>0</td>\n",
              "    </tr>\n",
              "    <tr>\n",
              "      <th>3</th>\n",
              "      <td>0</td>\n",
              "      <td>0</td>\n",
              "      <td>0</td>\n",
              "      <td>0</td>\n",
              "      <td>0</td>\n",
              "      <td>0</td>\n",
              "      <td>0</td>\n",
              "      <td>0</td>\n",
              "      <td>0</td>\n",
              "      <td>0</td>\n",
              "      <td>...</td>\n",
              "      <td>0</td>\n",
              "      <td>0</td>\n",
              "      <td>0</td>\n",
              "      <td>0</td>\n",
              "      <td>0</td>\n",
              "      <td>0</td>\n",
              "      <td>0</td>\n",
              "      <td>0</td>\n",
              "      <td>0</td>\n",
              "      <td>0</td>\n",
              "    </tr>\n",
              "    <tr>\n",
              "      <th>4</th>\n",
              "      <td>0</td>\n",
              "      <td>0</td>\n",
              "      <td>0</td>\n",
              "      <td>0</td>\n",
              "      <td>0</td>\n",
              "      <td>0</td>\n",
              "      <td>0</td>\n",
              "      <td>0</td>\n",
              "      <td>0</td>\n",
              "      <td>0</td>\n",
              "      <td>...</td>\n",
              "      <td>0</td>\n",
              "      <td>0</td>\n",
              "      <td>0</td>\n",
              "      <td>0</td>\n",
              "      <td>0</td>\n",
              "      <td>0</td>\n",
              "      <td>0</td>\n",
              "      <td>0</td>\n",
              "      <td>0</td>\n",
              "      <td>0</td>\n",
              "    </tr>\n",
              "    <tr>\n",
              "      <th>...</th>\n",
              "      <td>...</td>\n",
              "      <td>...</td>\n",
              "      <td>...</td>\n",
              "      <td>...</td>\n",
              "      <td>...</td>\n",
              "      <td>...</td>\n",
              "      <td>...</td>\n",
              "      <td>...</td>\n",
              "      <td>...</td>\n",
              "      <td>...</td>\n",
              "      <td>...</td>\n",
              "      <td>...</td>\n",
              "      <td>...</td>\n",
              "      <td>...</td>\n",
              "      <td>...</td>\n",
              "      <td>...</td>\n",
              "      <td>...</td>\n",
              "      <td>...</td>\n",
              "      <td>...</td>\n",
              "      <td>...</td>\n",
              "      <td>...</td>\n",
              "    </tr>\n",
              "    <tr>\n",
              "      <th>18970</th>\n",
              "      <td>0</td>\n",
              "      <td>0</td>\n",
              "      <td>0</td>\n",
              "      <td>0</td>\n",
              "      <td>0</td>\n",
              "      <td>0</td>\n",
              "      <td>0</td>\n",
              "      <td>0</td>\n",
              "      <td>0</td>\n",
              "      <td>0</td>\n",
              "      <td>...</td>\n",
              "      <td>0</td>\n",
              "      <td>0</td>\n",
              "      <td>0</td>\n",
              "      <td>0</td>\n",
              "      <td>0</td>\n",
              "      <td>0</td>\n",
              "      <td>0</td>\n",
              "      <td>0</td>\n",
              "      <td>0</td>\n",
              "      <td>0</td>\n",
              "    </tr>\n",
              "    <tr>\n",
              "      <th>18971</th>\n",
              "      <td>0</td>\n",
              "      <td>0</td>\n",
              "      <td>0</td>\n",
              "      <td>0</td>\n",
              "      <td>0</td>\n",
              "      <td>0</td>\n",
              "      <td>0</td>\n",
              "      <td>0</td>\n",
              "      <td>0</td>\n",
              "      <td>0</td>\n",
              "      <td>...</td>\n",
              "      <td>0</td>\n",
              "      <td>0</td>\n",
              "      <td>0</td>\n",
              "      <td>0</td>\n",
              "      <td>0</td>\n",
              "      <td>0</td>\n",
              "      <td>0</td>\n",
              "      <td>0</td>\n",
              "      <td>0</td>\n",
              "      <td>0</td>\n",
              "    </tr>\n",
              "    <tr>\n",
              "      <th>18972</th>\n",
              "      <td>0</td>\n",
              "      <td>0</td>\n",
              "      <td>0</td>\n",
              "      <td>0</td>\n",
              "      <td>0</td>\n",
              "      <td>0</td>\n",
              "      <td>0</td>\n",
              "      <td>0</td>\n",
              "      <td>0</td>\n",
              "      <td>0</td>\n",
              "      <td>...</td>\n",
              "      <td>0</td>\n",
              "      <td>0</td>\n",
              "      <td>0</td>\n",
              "      <td>0</td>\n",
              "      <td>0</td>\n",
              "      <td>0</td>\n",
              "      <td>0</td>\n",
              "      <td>0</td>\n",
              "      <td>0</td>\n",
              "      <td>0</td>\n",
              "    </tr>\n",
              "    <tr>\n",
              "      <th>18973</th>\n",
              "      <td>0</td>\n",
              "      <td>0</td>\n",
              "      <td>0</td>\n",
              "      <td>0</td>\n",
              "      <td>0</td>\n",
              "      <td>0</td>\n",
              "      <td>0</td>\n",
              "      <td>0</td>\n",
              "      <td>0</td>\n",
              "      <td>0</td>\n",
              "      <td>...</td>\n",
              "      <td>0</td>\n",
              "      <td>0</td>\n",
              "      <td>0</td>\n",
              "      <td>0</td>\n",
              "      <td>0</td>\n",
              "      <td>0</td>\n",
              "      <td>0</td>\n",
              "      <td>0</td>\n",
              "      <td>0</td>\n",
              "      <td>0</td>\n",
              "    </tr>\n",
              "    <tr>\n",
              "      <th>18974</th>\n",
              "      <td>0</td>\n",
              "      <td>0</td>\n",
              "      <td>0</td>\n",
              "      <td>0</td>\n",
              "      <td>0</td>\n",
              "      <td>0</td>\n",
              "      <td>0</td>\n",
              "      <td>0</td>\n",
              "      <td>0</td>\n",
              "      <td>0</td>\n",
              "      <td>...</td>\n",
              "      <td>0</td>\n",
              "      <td>0</td>\n",
              "      <td>0</td>\n",
              "      <td>0</td>\n",
              "      <td>0</td>\n",
              "      <td>0</td>\n",
              "      <td>0</td>\n",
              "      <td>0</td>\n",
              "      <td>0</td>\n",
              "      <td>0</td>\n",
              "    </tr>\n",
              "  </tbody>\n",
              "</table>\n",
              "<p>18975 rows × 3746 columns</p>\n",
              "</div>"
            ],
            "text/plain": [
              "       aaah  aaron  ab  abandoned  abc  ability  abit  able  absolutely  abt  \\\n",
              "0         0      0   0          0    0        0     0     0           0    0   \n",
              "1         0      0   0          0    0        0     0     0           0    0   \n",
              "2         0      0   0          0    0        0     0     0           0    0   \n",
              "3         0      0   0          0    0        0     0     0           0    0   \n",
              "4         0      0   0          0    0        0     0     0           0    0   \n",
              "...     ...    ...  ..        ...  ...      ...   ...   ...         ...  ...   \n",
              "18970     0      0   0          0    0        0     0     0           0    0   \n",
              "18971     0      0   0          0    0        0     0     0           0    0   \n",
              "18972     0      0   0          0    0        0     0     0           0    0   \n",
              "18973     0      0   0          0    0        0     0     0           0    0   \n",
              "18974     0      0   0          0    0        0     0     0           0    0   \n",
              "\n",
              "       ...  yum  yummy  yup  z  zac  zealand  zero  zombie  zone  zoo  \n",
              "0      ...    0      0    0  0    0        0     0       0     0    0  \n",
              "1      ...    0      0    0  0    0        0     0       0     0    0  \n",
              "2      ...    0      0    0  0    0        0     0       0     0    0  \n",
              "3      ...    0      0    0  0    0        0     0       0     0    0  \n",
              "4      ...    0      0    0  0    0        0     0       0     0    0  \n",
              "...    ...  ...    ...  ... ..  ...      ...   ...     ...   ...  ...  \n",
              "18970  ...    0      0    0  0    0        0     0       0     0    0  \n",
              "18971  ...    0      0    0  0    0        0     0       0     0    0  \n",
              "18972  ...    0      0    0  0    0        0     0       0     0    0  \n",
              "18973  ...    0      0    0  0    0        0     0       0     0    0  \n",
              "18974  ...    0      0    0  0    0        0     0       0     0    0  \n",
              "\n",
              "[18975 rows x 3746 columns]"
            ]
          },
          "execution_count": 42,
          "metadata": {},
          "output_type": "execute_result"
        }
      ],
      "source": [
        "# We can extract the information and put it in a data frame to make it easier to see what has occured\n",
        "X_val_df_vect = pd.DataFrame(columns=bagofwords_vector.get_feature_names_out(), data=X_val_transform.toarray())\n",
        "X_val_df_vect"
      ]
    },
    {
      "cell_type": "code",
      "execution_count": 43,
      "id": "cea4fd52",
      "metadata": {
        "colab": {
          "base_uri": "https://localhost:8080/"
        },
        "id": "cea4fd52",
        "outputId": "aa0c55e3-10b8-44c5-fd9a-4a4a68a685d5"
      },
      "outputs": [
        {
          "name": "stdout",
          "output_type": "stream",
          "text": [
            "['aaron', 'borrow', 'create', 'fair', 'heart', 'legend', 'novel', 'record', 'south', 'truly']\n"
          ]
        }
      ],
      "source": [
        "words = bagofwords_vector.get_feature_names_out()\n",
        "some_indices = range(1, 3739, round(3739/10))\n",
        "samples = [words[i] for i in some_indices]\n",
        "print(samples)"
      ]
    },
    {
      "cell_type": "code",
      "execution_count": 44,
      "id": "09843376",
      "metadata": {
        "colab": {
          "base_uri": "https://localhost:8080/",
          "height": 81
        },
        "id": "09843376",
        "outputId": "1fe35d98-be7b-4e8e-b51b-cb6ac6f16e2f"
      },
      "outputs": [
        {
          "data": {
            "text/html": [
              "<div>\n",
              "<style scoped>\n",
              "    .dataframe tbody tr th:only-of-type {\n",
              "        vertical-align: middle;\n",
              "    }\n",
              "\n",
              "    .dataframe tbody tr th {\n",
              "        vertical-align: top;\n",
              "    }\n",
              "\n",
              "    .dataframe thead th {\n",
              "        text-align: right;\n",
              "    }\n",
              "</style>\n",
              "<table border=\"1\" class=\"dataframe\">\n",
              "  <thead>\n",
              "    <tr style=\"text-align: right;\">\n",
              "      <th></th>\n",
              "      <th>aaron</th>\n",
              "      <th>borrow</th>\n",
              "      <th>create</th>\n",
              "      <th>fair</th>\n",
              "      <th>heart</th>\n",
              "      <th>legend</th>\n",
              "      <th>novel</th>\n",
              "      <th>record</th>\n",
              "      <th>south</th>\n",
              "      <th>truly</th>\n",
              "    </tr>\n",
              "  </thead>\n",
              "  <tbody>\n",
              "    <tr>\n",
              "      <th>total_corpus_count</th>\n",
              "      <td>11</td>\n",
              "      <td>12</td>\n",
              "      <td>22</td>\n",
              "      <td>81</td>\n",
              "      <td>150</td>\n",
              "      <td>10</td>\n",
              "      <td>8</td>\n",
              "      <td>47</td>\n",
              "      <td>45</td>\n",
              "      <td>24</td>\n",
              "    </tr>\n",
              "  </tbody>\n",
              "</table>\n",
              "</div>"
            ],
            "text/plain": [
              "                    aaron  borrow  create  fair  heart  legend  novel  record  \\\n",
              "total_corpus_count     11      12      22    81    150      10      8      47   \n",
              "\n",
              "                    south  truly  \n",
              "total_corpus_count     45     24  "
            ]
          },
          "metadata": {},
          "output_type": "display_data"
        }
      ],
      "source": [
        "counts = np.array(X_train_transform[:, some_indices].sum(axis = 0))\n",
        "\n",
        "display(pd.DataFrame({\"total_corpus_count\": counts[0]}, index=samples).T)"
      ]
    },
    {
      "cell_type": "code",
      "execution_count": 52,
      "id": "8d6576f9",
      "metadata": {
        "colab": {
          "base_uri": "https://localhost:8080/"
        },
        "id": "8d6576f9",
        "outputId": "29b1bf5f-a826-4534-8893-967d2baa2e65"
      },
      "outputs": [
        {
          "data": {
            "text/plain": [
              "array(['aaah', 'aaron', 'ab', ..., 'zombie', 'zone', 'zoo'], dtype=object)"
            ]
          },
          "execution_count": 52,
          "metadata": {},
          "output_type": "execute_result"
        }
      ],
      "source": [
        "bagofwords_vector.get_feature_names_out()"
      ]
    },
    {
      "cell_type": "code",
      "execution_count": 53,
      "id": "da8acb44",
      "metadata": {
        "colab": {
          "base_uri": "https://localhost:8080/",
          "height": 391
        },
        "id": "da8acb44",
        "outputId": "a6e1e96d-eb80-4944-e947-76ae74f84f79"
      },
      "outputs": [],
      "source": [
        "word_counts = pd.DataFrame(\n",
        "    {\"counts\": X_train_transform.toarray().sum(axis=0)},\n",
        "    index=bagofwords_vector.get_feature_names_out()\n",
        ").sort_values(\"counts\", ascending=False)"
      ]
    },
    {
      "cell_type": "code",
      "execution_count": 54,
      "id": "baf0ca82",
      "metadata": {},
      "outputs": [
        {
          "data": {
            "image/png": "[encoded data removed]",
            "text/plain": [
              "<Figure size 1500x500 with 1 Axes>"
            ]
          },
          "metadata": {},
          "output_type": "display_data"
        }
      ],
      "source": [
        "word_counts.head(20).plot(kind=\"bar\", figsize=(15, 5), legend=False)\n",
        "plt.title(\"Top 20 most frequently occurring words\")\n",
        "plt.ylabel(\"Count\")\n",
        "plt.xticks(rotation=45)\n",
        "plt.show()"
      ]
    },
    {
      "attachments": {},
      "cell_type": "markdown",
      "id": "82ae2361",
      "metadata": {
        "id": "82ae2361"
      },
      "source": [
        "### Modeling"
      ]
    },
    {
      "cell_type": "code",
      "execution_count": 55,
      "id": "b107d285",
      "metadata": {
        "id": "b107d285"
      },
      "outputs": [],
      "source": [
        "from sklearn.linear_model import LogisticRegression"
      ]
    },
    {
      "cell_type": "code",
      "execution_count": 66,
      "id": "8299af0d",
      "metadata": {},
      "outputs": [],
      "source": [
        "# Initializing Scale\n",
        "scaler = StandardScaler()\n",
        "\n",
        "# Fitting scale\n",
        "scaler.fit(X_train_df_vect)\n",
        "\n",
        "# Transform scale\n",
        "X_train_scaled = scaler.transform(X_train_df_vect)\n",
        "X_validation_scaled = scaler.transform(X_val_df_vect)"
      ]
    },
    {
      "cell_type": "code",
      "execution_count": 67,
      "id": "8bd665d3",
      "metadata": {
        "colab": {
          "base_uri": "https://localhost:8080/",
          "height": 109
        },
        "id": "8bd665d3",
        "outputId": "e7f3a0ff-31fd-4dde-93ce-214203d88564"
      },
      "outputs": [
        {
          "data": {
            "text/html": [
              "<style>#sk-container-id-3 {color: black;background-color: white;}#sk-container-id-3 pre{padding: 0;}#sk-container-id-3 div.sk-toggleable {background-color: white;}#sk-container-id-3 label.sk-toggleable__label {cursor: pointer;display: block;width: 100%;margin-bottom: 0;padding: 0.3em;box-sizing: border-box;text-align: center;}#sk-container-id-3 label.sk-toggleable__label-arrow:before {content: \"▸\";float: left;margin-right: 0.25em;color: #696969;}#sk-container-id-3 label.sk-toggleable__label-arrow:hover:before {color: black;}#sk-container-id-3 div.sk-estimator:hover label.sk-toggleable__label-arrow:before {color: black;}#sk-container-id-3 div.sk-toggleable__content {max-height: 0;max-width: 0;overflow: hidden;text-align: left;background-color: #f0f8ff;}#sk-container-id-3 div.sk-toggleable__content pre {margin: 0.2em;color: black;border-radius: 0.25em;background-color: #f0f8ff;}#sk-container-id-3 input.sk-toggleable__control:checked~div.sk-toggleable__content {max-height: 200px;max-width: 100%;overflow: auto;}#sk-container-id-3 input.sk-toggleable__control:checked~label.sk-toggleable__label-arrow:before {content: \"▾\";}#sk-container-id-3 div.sk-estimator input.sk-toggleable__control:checked~label.sk-toggleable__label {background-color: #d4ebff;}#sk-container-id-3 div.sk-label input.sk-toggleable__control:checked~label.sk-toggleable__label {background-color: #d4ebff;}#sk-container-id-3 input.sk-hidden--visually {border: 0;clip: rect(1px 1px 1px 1px);clip: rect(1px, 1px, 1px, 1px);height: 1px;margin: -1px;overflow: hidden;padding: 0;position: absolute;width: 1px;}#sk-container-id-3 div.sk-estimator {font-family: monospace;background-color: #f0f8ff;border: 1px dotted black;border-radius: 0.25em;box-sizing: border-box;margin-bottom: 0.5em;}#sk-container-id-3 div.sk-estimator:hover {background-color: #d4ebff;}#sk-container-id-3 div.sk-parallel-item::after {content: \"\";width: 100%;border-bottom: 1px solid gray;flex-grow: 1;}#sk-container-id-3 div.sk-label:hover label.sk-toggleable__label {background-color: #d4ebff;}#sk-container-id-3 div.sk-serial::before {content: \"\";position: absolute;border-left: 1px solid gray;box-sizing: border-box;top: 0;bottom: 0;left: 50%;z-index: 0;}#sk-container-id-3 div.sk-serial {display: flex;flex-direction: column;align-items: center;background-color: white;padding-right: 0.2em;padding-left: 0.2em;position: relative;}#sk-container-id-3 div.sk-item {position: relative;z-index: 1;}#sk-container-id-3 div.sk-parallel {display: flex;align-items: stretch;justify-content: center;background-color: white;position: relative;}#sk-container-id-3 div.sk-item::before, #sk-container-id-3 div.sk-parallel-item::before {content: \"\";position: absolute;border-left: 1px solid gray;box-sizing: border-box;top: 0;bottom: 0;left: 50%;z-index: -1;}#sk-container-id-3 div.sk-parallel-item {display: flex;flex-direction: column;z-index: 1;position: relative;background-color: white;}#sk-container-id-3 div.sk-parallel-item:first-child::after {align-self: flex-end;width: 50%;}#sk-container-id-3 div.sk-parallel-item:last-child::after {align-self: flex-start;width: 50%;}#sk-container-id-3 div.sk-parallel-item:only-child::after {width: 0;}#sk-container-id-3 div.sk-dashed-wrapped {border: 1px dashed gray;margin: 0 0.4em 0.5em 0.4em;box-sizing: border-box;padding-bottom: 0.4em;background-color: white;}#sk-container-id-3 div.sk-label label {font-family: monospace;font-weight: bold;display: inline-block;line-height: 1.2em;}#sk-container-id-3 div.sk-label-container {text-align: center;}#sk-container-id-3 div.sk-container {/* jupyter's `normalize.less` sets `[hidden] { display: none; }` but bootstrap.min.css set `[hidden] { display: none !important; }` so we also need the `!important` here to be able to override the default hidden behavior on the sphinx rendered scikit-learn.org. See: https://github.com/scikit-learn/scikit-learn/issues/21755 */display: inline-block !important;position: relative;}#sk-container-id-3 div.sk-text-repr-fallback {display: none;}</style><div id=\"sk-container-id-3\" class=\"sk-top-container\"><div class=\"sk-text-repr-fallback\"><pre>LogisticRegression(max_iter=100000, random_state=1)</pre><b>In a Jupyter environment, please rerun this cell to show the HTML representation or trust the notebook. <br />On GitHub, the HTML representation is unable to render, please try loading this page with nbviewer.org.</b></div><div class=\"sk-container\" hidden><div class=\"sk-item\"><div class=\"sk-estimator sk-toggleable\"><input class=\"sk-toggleable__control sk-hidden--visually\" id=\"sk-estimator-id-3\" type=\"checkbox\" checked><label for=\"sk-estimator-id-3\" class=\"sk-toggleable__label sk-toggleable__label-arrow\">LogisticRegression</label><div class=\"sk-toggleable__content\"><pre>LogisticRegression(max_iter=100000, random_state=1)</pre></div></div></div></div></div>"
            ],
            "text/plain": [
              "LogisticRegression(max_iter=100000, random_state=1)"
            ]
          },
          "execution_count": 67,
          "metadata": {},
          "output_type": "execute_result"
        }
      ],
      "source": [
        "# instantiate model\n",
        "logreg_model = LogisticRegression(max_iter=100000, random_state=1)\n",
        "\n",
        "# fit the model\n",
        "logreg_model.fit(X_train_scaled, y_train)"
      ]
    },
    {
      "cell_type": "code",
      "execution_count": 68,
      "id": "3fbe366b",
      "metadata": {
        "colab": {
          "base_uri": "https://localhost:8080/"
        },
        "id": "3fbe366b",
        "outputId": "5a077c10-cf7f-4846-fd52-0a02df00a960"
      },
      "outputs": [
        {
          "name": "stdout",
          "output_type": "stream",
          "text": [
            "Train score: 0.7920901657857885\n",
            "Validation score: 0.7371805006587615\n"
          ]
        }
      ],
      "source": [
        "# Training and test score\n",
        "print(f\"Train score: {logreg_model.score(X_train_scaled, y_train)}\")\n",
        "print(f\"Validation score: {logreg_model.score(X_validation_scaled, y_val)}\")"
      ]
    },
    {
      "cell_type": "code",
      "execution_count": 69,
      "id": "-Eb_wVEjltwv",
      "metadata": {
        "colab": {
          "base_uri": "https://localhost:8080/"
        },
        "id": "-Eb_wVEjltwv",
        "outputId": "16fb6870-228a-49a1-b6d9-bfdcc074e550"
      },
      "outputs": [
        {
          "data": {
            "text/plain": [
              "array([ 0.00925892, -0.00482672,  0.01788228, ...,  0.04029379,\n",
              "       -0.00483724, -0.00739628])"
            ]
          },
          "execution_count": 69,
          "metadata": {},
          "output_type": "execute_result"
        }
      ],
      "source": [
        "logreg_model.coef_[0]"
      ]
    },
    {
      "cell_type": "code",
      "execution_count": 70,
      "id": "d-iff96Al6GD",
      "metadata": {
        "colab": {
          "base_uri": "https://localhost:8080/",
          "height": 432
        },
        "id": "d-iff96Al6GD",
        "outputId": "5b2f859e-89eb-4fa6-fb69-b624c6217e26"
      },
      "outputs": [],
      "source": [
        "word_coefficients = pd.DataFrame(\n",
        "    {\"coefficients\": logreg_model.coef_[0]},\n",
        "    index=bagofwords_vector.get_feature_names_out()\n",
        ").sort_values(\"coefficients\", ascending=False)"
      ]
    },
    {
      "cell_type": "code",
      "execution_count": 71,
      "id": "bbda5edd",
      "metadata": {},
      "outputs": [
        {
          "data": {
            "image/png": "[encoded data removed]",
            "text/plain": [
              "<Figure size 1500x500 with 1 Axes>"
            ]
          },
          "metadata": {},
          "output_type": "display_data"
        }
      ],
      "source": [
        "word_coefficients.head(20).plot(kind=\"bar\", figsize=(15, 5), legend=False)\n",
        "plt.title(\"The 20 highest model coefficients indicating positive sentiment\")\n",
        "plt.ylabel(\"Coefficients\")\n",
        "plt.xticks(rotation=45)\n",
        "plt.show()"
      ]
    },
    {
      "cell_type": "code",
      "execution_count": 72,
      "id": "yk-nifijmFBh",
      "metadata": {
        "colab": {
          "base_uri": "https://localhost:8080/",
          "height": 424
        },
        "id": "yk-nifijmFBh",
        "outputId": "4a38f21e-80a9-40f4-dfa1-98a5c11d2bea"
      },
      "outputs": [
        {
          "data": {
            "image/png": "[encoded data removed]",
            "text/plain": [
              "<Figure size 1500x500 with 1 Axes>"
            ]
          },
          "metadata": {},
          "output_type": "display_data"
        }
      ],
      "source": [
        "word_coefficients.sort_values(\"coefficients\", ascending=True).head(20).plot(kind=\"bar\", figsize=(15, 5), legend=False)\n",
        "plt.title(\"The 20 lowest model coefficients indicating negative sentiment\")\n",
        "plt.ylabel(\"Coefficients\")\n",
        "plt.xticks(rotation=45)\n",
        "plt.show()"
      ]
    },
    {
      "cell_type": "code",
      "execution_count": 73,
      "id": "2ecbe2a6",
      "metadata": {},
      "outputs": [
        {
          "data": {
            "text/html": [
              "<div>\n",
              "<style scoped>\n",
              "    .dataframe tbody tr th:only-of-type {\n",
              "        vertical-align: middle;\n",
              "    }\n",
              "\n",
              "    .dataframe tbody tr th {\n",
              "        vertical-align: top;\n",
              "    }\n",
              "\n",
              "    .dataframe thead th {\n",
              "        text-align: right;\n",
              "    }\n",
              "</style>\n",
              "<table border=\"1\" class=\"dataframe\">\n",
              "  <thead>\n",
              "    <tr style=\"text-align: right;\">\n",
              "      <th></th>\n",
              "      <th>coefficients</th>\n",
              "    </tr>\n",
              "  </thead>\n",
              "  <tbody>\n",
              "    <tr>\n",
              "      <th>thanks</th>\n",
              "      <td>0.276955</td>\n",
              "    </tr>\n",
              "    <tr>\n",
              "      <th>thank</th>\n",
              "      <td>0.252466</td>\n",
              "    </tr>\n",
              "    <tr>\n",
              "      <th>lyric</th>\n",
              "      <td>0.229467</td>\n",
              "    </tr>\n",
              "    <tr>\n",
              "      <th>wwwtweeteraddercom</th>\n",
              "      <td>0.209410</td>\n",
              "    </tr>\n",
              "    <tr>\n",
              "      <th>love</th>\n",
              "      <td>0.209251</td>\n",
              "    </tr>\n",
              "    <tr>\n",
              "      <th>...</th>\n",
              "      <td>...</td>\n",
              "    </tr>\n",
              "    <tr>\n",
              "      <th>sick</th>\n",
              "      <td>-0.246575</td>\n",
              "    </tr>\n",
              "    <tr>\n",
              "      <th>wish</th>\n",
              "      <td>-0.265712</td>\n",
              "    </tr>\n",
              "    <tr>\n",
              "      <th>poor</th>\n",
              "      <td>-0.277243</td>\n",
              "    </tr>\n",
              "    <tr>\n",
              "      <th>miss</th>\n",
              "      <td>-0.376406</td>\n",
              "    </tr>\n",
              "    <tr>\n",
              "      <th>sad</th>\n",
              "      <td>-0.486188</td>\n",
              "    </tr>\n",
              "  </tbody>\n",
              "</table>\n",
              "<p>3746 rows × 1 columns</p>\n",
              "</div>"
            ],
            "text/plain": [
              "                    coefficients\n",
              "thanks                  0.276955\n",
              "thank                   0.252466\n",
              "lyric                   0.229467\n",
              "wwwtweeteraddercom      0.209410\n",
              "love                    0.209251\n",
              "...                          ...\n",
              "sick                   -0.246575\n",
              "wish                   -0.265712\n",
              "poor                   -0.277243\n",
              "miss                   -0.376406\n",
              "sad                    -0.486188\n",
              "\n",
              "[3746 rows x 1 columns]"
            ]
          },
          "execution_count": 73,
          "metadata": {},
          "output_type": "execute_result"
        }
      ],
      "source": [
        "word_coefficients"
      ]
    },
    {
      "cell_type": "code",
      "execution_count": 78,
      "id": "fe19a340",
      "metadata": {},
      "outputs": [
        {
          "name": "stdout",
          "output_type": "stream",
          "text": [
            "Train score: 0.7920901657857885\n",
            "Validation score: 0.7371805006587615\n"
          ]
        }
      ],
      "source": [
        "# instantiate model\n",
        "logreg = LogisticRegression(solver='lbfgs', max_iter=100000, random_state=1)# saga different regularization and try out\n",
        "\n",
        "# fit the model\n",
        "logreg.fit(X_train_scaled, y_train)\n",
        "# Training and test score\n",
        "print(f\"Train score: {logreg.score(X_train_scaled, y_train)}\")\n",
        "print(f\"Validation score: {logreg.score(X_validation_scaled, y_val)}\")"
      ]
    },
    {
      "cell_type": "code",
      "execution_count": 79,
      "id": "olhgtF2BAGd1",
      "metadata": {
        "colab": {
          "base_uri": "https://localhost:8080/"
        },
        "id": "olhgtF2BAGd1",
        "outputId": "c4da4ed3-ca97-4d67-c7f5-85fe2816ab8c"
      },
      "outputs": [
        {
          "name": "stdout",
          "output_type": "stream",
          "text": [
            "Train score: 0.792112752405475\n",
            "Validation score: 0.7371277997364953\n",
            "CPU times: total: 16min 6s\n",
            "Wall time: 16min 7s\n"
          ]
        }
      ],
      "source": [
        "%%time\n",
        "# instantiate model\n",
        "logreg = LogisticRegression(solver='saga', max_iter=100000, random_state=1)# saga different regularization and try out\n",
        "\n",
        "# fit the model\n",
        "logreg.fit(X_train_scaled, y_train)\n",
        "# Training and test score\n",
        "print(f\"Train score: {logreg.score(X_train_scaled, y_train)}\")\n",
        "print(f\"Validation score: {logreg.score(X_validation_scaled, y_val)}\")"
      ]
    },
    {
      "cell_type": "code",
      "execution_count": 80,
      "id": "TBbErX4yEO9M",
      "metadata": {
        "colab": {
          "base_uri": "https://localhost:8080/"
        },
        "id": "TBbErX4yEO9M",
        "outputId": "908c5810-2d2c-4a51-b829-120bb79ad705"
      },
      "outputs": [
        {
          "name": "stdout",
          "output_type": "stream",
          "text": [
            "Train score: 0.7920901657857885\n",
            "Validation score: 0.7371805006587615\n",
            "CPU times: total: 1min 7s\n",
            "Wall time: 1min 7s\n"
          ]
        }
      ],
      "source": [
        "%%time\n",
        "# instantiate model\n",
        "logreg = LogisticRegression(solver='liblinear', max_iter=100000, random_state=1)# saga different regularization and try out\n",
        "\n",
        "# fit the model\n",
        "logreg.fit(X_train_scaled, y_train)\n",
        "# Training and test score\n",
        "print(f\"Train score: {logreg.score(X_train_scaled, y_train)}\")\n",
        "print(f\"Validation score: {logreg.score(X_validation_scaled, y_val)}\")"
      ]
    },
    {
      "cell_type": "code",
      "execution_count": 61,
      "id": "FvYW12O-o5wW",
      "metadata": {
        "id": "FvYW12O-o5wW"
      },
      "outputs": [],
      "source": [
        "# estimators = [('reduce_dim', PCA()),\n",
        "#             ('logreg_model', LogisticRegression())]\n",
        "estimators = [\n",
        "    ('reduce_dim', PCA()),\n",
        "    ('logreg_model', LogisticRegression())\n",
        "]\n",
        "pipe = Pipeline(estimators)"
      ]
    },
    {
      "cell_type": "code",
      "execution_count": 100,
      "id": "gA6NhfPeg1Ep",
      "metadata": {
        "id": "gA6NhfPeg1Ep"
      },
      "outputs": [],
      "source": [
        "# params = {\n",
        "#     'reduce_dim__n_components': [1, 10],\n",
        "#     'logreg_model__solver': ['lbfgs','saga', 'liblinear']\n",
        "# }\n",
        "\n",
        "# grid_search_gbc = GridSearchCV(pipe, param_grid=params, cv = 5, n_jobs = -1, verbose = 1)\n",
        "# grid_search_gbc.fit(X_train_scaled, y_train)\n",
        "# Wrap grid_search_gbc in tqdm to show progress bar\n",
        "# grid_search_gbc = tqdm(grid_search_gbc, total=len(grid_search_gbc.cv))"
      ]
    },
    {
      "cell_type": "code",
      "execution_count": 95,
      "id": "Mp71Y2-yptGM",
      "metadata": {
        "colab": {
          "base_uri": "https://localhost:8080/",
          "height": 165
        },
        "id": "Mp71Y2-yptGM",
        "outputId": "8b43187a-83a9-45bc-845c-f16df012ca8a"
      },
      "outputs": [],
      "source": [
        "# grid_search_gbc.fit(X_train_transform.todense(), y_train)"
      ]
    },
    {
      "cell_type": "code",
      "execution_count": 46,
      "id": "bS9fSmtC51Ov",
      "metadata": {
        "colab": {
          "base_uri": "https://localhost:8080/",
          "height": 235
        },
        "id": "bS9fSmtC51Ov",
        "outputId": "e220fff5-a170-4bb7-92e1-e4bb694a06fd"
      },
      "outputs": [],
      "source": [
        "# # best score\n",
        "# print(f\"best score: {grid_search.best_score_}\")\n",
        "\n",
        "# # best parameters\n",
        "# print(f\"best parameters: {grid_search.best_params_}\")"
      ]
    },
    {
      "cell_type": "code",
      "execution_count": 59,
      "id": "298c7f10",
      "metadata": {},
      "outputs": [
        {
          "data": {
            "application/vnd.jupyter.widget-view+json": {
              "model_id": "edb239a0bf174822a6ebafaf453d3928",
              "version_major": 2,
              "version_minor": 0
            },
            "text/plain": [
              "  0%|          | 0/10 [00:00<?, ?it/s]"
            ]
          },
          "metadata": {},
          "output_type": "display_data"
        },
        {
          "name": "stdout",
          "output_type": "stream",
          "text": [
            "C: 0.001\n",
            "cv_score 0.7014014746440029\n",
            "C: 0.01\n",
            "cv_score 0.7359824393538583\n",
            "C: 0.1\n",
            "cv_score 0.7539370743513255\n",
            "C: 0.5\n",
            "cv_score 0.7534305172510836\n",
            "C: 1.0\n",
            "cv_score 0.7501998086339843\n",
            "C: 10.0\n",
            "cv_score 0.7354533686047166\n",
            "C: 30.0\n",
            "cv_score 0.7299150109754038\n",
            "C: 60.0\n",
            "cv_score 0.7269882366184499\n",
            "C: 80.0\n",
            "cv_score 0.725772499577869\n",
            "C: 100.0\n",
            "cv_score 0.7251533742331289\n"
          ]
        }
      ],
      "source": [
        "# setting array\n",
        "cross_validation_scores = []\n",
        "\n",
        "c_range = np.array([0.001, 0.01, 0.1, 0.5, 1, 10, 30, 60, 80, 100])\n",
        "\n",
        "# Do some cross validation\n",
        "for c in tqdm_notebook(c_range):\n",
        "    Logreg_model_fold = LogisticRegression(C=c, solver='lbfgs', max_iter=10000, random_state=1)\n",
        "    cv_score = np.mean(cross_val_score(Logreg_model_fold, X_train_transform, y_train, cv = 5, n_jobs=-1))\n",
        "    cross_validation_scores.append(cv_score)\n",
        "    \n",
        "    print(f'C: {c}')\n",
        "    print(f'cv_score {cv_score}')"
      ]
    },
    {
      "cell_type": "code",
      "execution_count": 60,
      "id": "yPKMI1c76Gym",
      "metadata": {
        "id": "yPKMI1c76Gym"
      },
      "outputs": [
        {
          "data": {
            "image/png": "[encoded data removed]",
            "text/plain": [
              "<Figure size 640x480 with 1 Axes>"
            ]
          },
          "metadata": {},
          "output_type": "display_data"
        }
      ],
      "source": [
        "plt.figure()\n",
        "plt.plot(c_range, cross_validation_scores,label=\"Cross Validation Score\",marker='.')\n",
        "plt.legend()\n",
        "plt.xscale(\"log\")\n",
        "plt.xlabel('Regularization Parameter: C')\n",
        "plt.ylabel('Cross Validation Score')\n",
        "plt.show()"
      ]
    },
    {
      "cell_type": "code",
      "execution_count": null,
      "id": "dcbe7f06",
      "metadata": {},
      "outputs": [],
      "source": []
    },
    {
      "cell_type": "code",
      "execution_count": null,
      "id": "1be69475",
      "metadata": {},
      "outputs": [],
      "source": []
    }
  ],
  "metadata": {
    "colab": {
      "provenance": []
    },
    "kernelspec": {
      "display_name": "base",
      "language": "python",
      "name": "python3"
    },
    "language_info": {
      "codemirror_mode": {
        "name": "ipython",
        "version": 3
      },
      "file_extension": ".py",
      "mimetype": "text/x-python",
      "name": "python",
      "nbconvert_exporter": "python",
      "pygments_lexer": "ipython3",
      "version": "3.10.9"
    }
  },
  "nbformat": 4,
  "nbformat_minor": 5
}
