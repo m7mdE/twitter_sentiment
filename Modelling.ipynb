{
 "cells": [
  {
   "attachments": {},
   "cell_type": "markdown",
   "id": "0d2c9509-b5e8-4d39-9800-2ea24541fc77",
   "metadata": {},
   "source": [
    "### Introduction"
   ]
  },
  {
   "cell_type": "code",
   "execution_count": null,
   "id": "b3714576-c675-40a1-9a62-e3914a6fc336",
   "metadata": {},
   "outputs": [],
   "source": []
  },
  {
   "cell_type": "code",
   "execution_count": null,
   "id": "b412542c-3eaa-4f02-8d52-d90f0d3718a6",
   "metadata": {},
   "outputs": [],
   "source": []
  },
  {
   "cell_type": "code",
   "execution_count": 22,
   "id": "10877469-571f-4598-9bef-9d66c2609204",
   "metadata": {},
   "outputs": [],
   "source": [
    "import pandas as pd\n",
    "import numpy as np\n",
    "import seaborn as sns\n",
    "import matplotlib.pyplot as plt\n",
    "import re\n",
    "\n",
    "# Importing library in order to see the progress bar\n",
    "from tqdm.notebook import tnrange, tqdm_notebook\n",
    "from tqdm import tqdm\n",
    "import warnings\n",
    "warnings.filterwarnings(\"ignore\")\n",
    "\n",
    "from sklearn.pipeline import Pipeline\n",
    "from sklearn.preprocessing import MinMaxScaler, StandardScaler, RobustScaler\n",
    "from sklearn.decomposition import PCA\n",
    "import time\n",
    "\n",
    "# splitting our data into train and test sets\n",
    "from sklearn.model_selection import train_test_split, GridSearchCV, cross_val_score, RandomizedSearchCV"
   ]
  },
  {
   "cell_type": "code",
   "execution_count": null,
   "id": "68e05497-0b00-4986-a4cf-302d45890e1f",
   "metadata": {},
   "outputs": [],
   "source": []
  },
  {
   "cell_type": "code",
   "execution_count": 23,
   "id": "7cd984cb-7e17-4819-b795-c24022bb61ab",
   "metadata": {},
   "outputs": [],
   "source": [
    "X_train = pd.read_csv('train_vectorized.csv')\n",
    "X_val = pd.read_csv('validation_vectorized.csv')\n",
    "X_test = pd.read_csv('test_vectorized.csv')"
   ]
  },
  {
   "cell_type": "code",
   "execution_count": 24,
   "id": "33d4f775-602c-48ff-bc85-60d8a2e066a3",
   "metadata": {},
   "outputs": [],
   "source": [
    "y_train = pd.read_csv('y_train.csv')\n",
    "y_test = pd.read_csv('y_test.csv')\n",
    "y_val = pd.read_csv('y_val.csv')"
   ]
  },
  {
   "cell_type": "code",
   "execution_count": 25,
   "id": "af5a5c92-ed1c-4866-8b1d-94b3c6c9f1d4",
   "metadata": {},
   "outputs": [
    {
     "data": {
      "text/plain": [
       "(44274, 2000)"
      ]
     },
     "execution_count": 25,
     "metadata": {},
     "output_type": "execute_result"
    }
   ],
   "source": [
    "X_train.shape"
   ]
  },
  {
   "cell_type": "code",
   "execution_count": 26,
   "id": "ed641ac9-3170-4b76-891b-2e589e5f2660",
   "metadata": {},
   "outputs": [
    {
     "data": {
      "text/plain": [
       "(18975, 2000)"
      ]
     },
     "execution_count": 26,
     "metadata": {},
     "output_type": "execute_result"
    }
   ],
   "source": [
    "X_val.shape"
   ]
  },
  {
   "cell_type": "code",
   "execution_count": 27,
   "id": "908ba098-2b81-4212-87ee-79a452fa8ea4",
   "metadata": {},
   "outputs": [
    {
     "data": {
      "text/plain": [
       "(15813, 2000)"
      ]
     },
     "execution_count": 27,
     "metadata": {},
     "output_type": "execute_result"
    }
   ],
   "source": [
    "X_test.shape"
   ]
  },
  {
   "cell_type": "code",
   "execution_count": 28,
   "id": "ea8fce2d-dd23-497d-bc9d-f8d48e959747",
   "metadata": {},
   "outputs": [
    {
     "data": {
      "text/plain": [
       "(18975, 1)"
      ]
     },
     "execution_count": 28,
     "metadata": {},
     "output_type": "execute_result"
    }
   ],
   "source": [
    "y_val.shape"
   ]
  },
  {
   "cell_type": "code",
   "execution_count": 29,
   "id": "9eaa6935-83f6-428f-ae74-d78271011004",
   "metadata": {},
   "outputs": [
    {
     "data": {
      "text/plain": [
       "(44274, 1)"
      ]
     },
     "execution_count": 29,
     "metadata": {},
     "output_type": "execute_result"
    }
   ],
   "source": [
    "y_train.shape"
   ]
  },
  {
   "cell_type": "code",
   "execution_count": 30,
   "id": "c2b3bd0a-228d-454f-8f94-d284ade30cca",
   "metadata": {},
   "outputs": [
    {
     "data": {
      "text/plain": [
       "(15813, 1)"
      ]
     },
     "execution_count": 30,
     "metadata": {},
     "output_type": "execute_result"
    }
   ],
   "source": [
    "y_test.shape"
   ]
  },
  {
   "attachments": {},
   "cell_type": "markdown",
   "id": "25d96766-c13f-4282-a18c-5d4387134034",
   "metadata": {},
   "source": [
    "### Logistic Regression"
   ]
  },
  {
   "cell_type": "code",
   "execution_count": 31,
   "id": "307c6323-2073-4d28-9ce3-44a7af6c2a82",
   "metadata": {},
   "outputs": [],
   "source": [
    "from sklearn.linear_model import LogisticRegression"
   ]
  },
  {
   "cell_type": "code",
   "execution_count": 32,
   "id": "e7bd817b-1336-484f-a11e-b73708f72824",
   "metadata": {},
   "outputs": [],
   "source": [
    "### Logistic Regression TF-IDF vectorizer after including n-grams\n",
    "\n",
    "# Initializing Scale\n",
    "scaler_tfidf = RobustScaler()\n",
    "\n",
    "# Fitting scale\n",
    "scaler_tfidf.fit(X_train)\n",
    "\n",
    "# Transform scale\n",
    "X_train_scaled = scaler_tfidf.transform(X_train)\n",
    "X_val_scaled = scaler_tfidf.transform(X_val)\n",
    "X_test_scaled = scaler_tfidf.transform(X_test)"
   ]
  },
  {
   "cell_type": "code",
   "execution_count": 33,
   "id": "c485ba65-9fe0-45c3-a86e-bf0063ecb4e4",
   "metadata": {},
   "outputs": [
    {
     "data": {
      "text/html": [
       "<style>#sk-container-id-2 {color: black;background-color: white;}#sk-container-id-2 pre{padding: 0;}#sk-container-id-2 div.sk-toggleable {background-color: white;}#sk-container-id-2 label.sk-toggleable__label {cursor: pointer;display: block;width: 100%;margin-bottom: 0;padding: 0.3em;box-sizing: border-box;text-align: center;}#sk-container-id-2 label.sk-toggleable__label-arrow:before {content: \"▸\";float: left;margin-right: 0.25em;color: #696969;}#sk-container-id-2 label.sk-toggleable__label-arrow:hover:before {color: black;}#sk-container-id-2 div.sk-estimator:hover label.sk-toggleable__label-arrow:before {color: black;}#sk-container-id-2 div.sk-toggleable__content {max-height: 0;max-width: 0;overflow: hidden;text-align: left;background-color: #f0f8ff;}#sk-container-id-2 div.sk-toggleable__content pre {margin: 0.2em;color: black;border-radius: 0.25em;background-color: #f0f8ff;}#sk-container-id-2 input.sk-toggleable__control:checked~div.sk-toggleable__content {max-height: 200px;max-width: 100%;overflow: auto;}#sk-container-id-2 input.sk-toggleable__control:checked~label.sk-toggleable__label-arrow:before {content: \"▾\";}#sk-container-id-2 div.sk-estimator input.sk-toggleable__control:checked~label.sk-toggleable__label {background-color: #d4ebff;}#sk-container-id-2 div.sk-label input.sk-toggleable__control:checked~label.sk-toggleable__label {background-color: #d4ebff;}#sk-container-id-2 input.sk-hidden--visually {border: 0;clip: rect(1px 1px 1px 1px);clip: rect(1px, 1px, 1px, 1px);height: 1px;margin: -1px;overflow: hidden;padding: 0;position: absolute;width: 1px;}#sk-container-id-2 div.sk-estimator {font-family: monospace;background-color: #f0f8ff;border: 1px dotted black;border-radius: 0.25em;box-sizing: border-box;margin-bottom: 0.5em;}#sk-container-id-2 div.sk-estimator:hover {background-color: #d4ebff;}#sk-container-id-2 div.sk-parallel-item::after {content: \"\";width: 100%;border-bottom: 1px solid gray;flex-grow: 1;}#sk-container-id-2 div.sk-label:hover label.sk-toggleable__label {background-color: #d4ebff;}#sk-container-id-2 div.sk-serial::before {content: \"\";position: absolute;border-left: 1px solid gray;box-sizing: border-box;top: 0;bottom: 0;left: 50%;z-index: 0;}#sk-container-id-2 div.sk-serial {display: flex;flex-direction: column;align-items: center;background-color: white;padding-right: 0.2em;padding-left: 0.2em;position: relative;}#sk-container-id-2 div.sk-item {position: relative;z-index: 1;}#sk-container-id-2 div.sk-parallel {display: flex;align-items: stretch;justify-content: center;background-color: white;position: relative;}#sk-container-id-2 div.sk-item::before, #sk-container-id-2 div.sk-parallel-item::before {content: \"\";position: absolute;border-left: 1px solid gray;box-sizing: border-box;top: 0;bottom: 0;left: 50%;z-index: -1;}#sk-container-id-2 div.sk-parallel-item {display: flex;flex-direction: column;z-index: 1;position: relative;background-color: white;}#sk-container-id-2 div.sk-parallel-item:first-child::after {align-self: flex-end;width: 50%;}#sk-container-id-2 div.sk-parallel-item:last-child::after {align-self: flex-start;width: 50%;}#sk-container-id-2 div.sk-parallel-item:only-child::after {width: 0;}#sk-container-id-2 div.sk-dashed-wrapped {border: 1px dashed gray;margin: 0 0.4em 0.5em 0.4em;box-sizing: border-box;padding-bottom: 0.4em;background-color: white;}#sk-container-id-2 div.sk-label label {font-family: monospace;font-weight: bold;display: inline-block;line-height: 1.2em;}#sk-container-id-2 div.sk-label-container {text-align: center;}#sk-container-id-2 div.sk-container {/* jupyter's `normalize.less` sets `[hidden] { display: none; }` but bootstrap.min.css set `[hidden] { display: none !important; }` so we also need the `!important` here to be able to override the default hidden behavior on the sphinx rendered scikit-learn.org. See: https://github.com/scikit-learn/scikit-learn/issues/21755 */display: inline-block !important;position: relative;}#sk-container-id-2 div.sk-text-repr-fallback {display: none;}</style><div id=\"sk-container-id-2\" class=\"sk-top-container\"><div class=\"sk-text-repr-fallback\"><pre>LogisticRegression(max_iter=10000, random_state=1)</pre><b>In a Jupyter environment, please rerun this cell to show the HTML representation or trust the notebook. <br />On GitHub, the HTML representation is unable to render, please try loading this page with nbviewer.org.</b></div><div class=\"sk-container\" hidden><div class=\"sk-item\"><div class=\"sk-estimator sk-toggleable\"><input class=\"sk-toggleable__control sk-hidden--visually\" id=\"sk-estimator-id-2\" type=\"checkbox\" checked><label for=\"sk-estimator-id-2\" class=\"sk-toggleable__label sk-toggleable__label-arrow\">LogisticRegression</label><div class=\"sk-toggleable__content\"><pre>LogisticRegression(max_iter=10000, random_state=1)</pre></div></div></div></div></div>"
      ],
      "text/plain": [
       "LogisticRegression(max_iter=10000, random_state=1)"
      ]
     },
     "execution_count": 33,
     "metadata": {},
     "output_type": "execute_result"
    }
   ],
   "source": [
    "# instantiate model\n",
    "logreg_model_tfidf = LogisticRegression(solver='lbfgs', max_iter=10000, random_state=1)\n",
    "\n",
    "# fit the model\n",
    "logreg_model_tfidf.fit(X_train_scaled, y_train)"
   ]
  },
  {
   "cell_type": "code",
   "execution_count": 34,
   "id": "d90b157e-ca63-4529-a95d-9c85f0a70e40",
   "metadata": {},
   "outputs": [
    {
     "name": "stdout",
     "output_type": "stream",
     "text": [
      "Train score: 0.7697745855355288\n",
      "Validation score: 0.7429249011857707\n"
     ]
    }
   ],
   "source": [
    "# Training and test score\n",
    "print(f\"Train score: {logreg_model_tfidf.score(X_train_scaled, y_train)}\")\n",
    "print(f\"Validation score: {logreg_model_tfidf.score(X_val_scaled, y_val)}\")"
   ]
  },
  {
   "attachments": {},
   "cell_type": "markdown",
   "id": "70211a50-17c7-414f-bb12-7b6eecbb5e67",
   "metadata": {},
   "source": [
    "## PCA Model"
   ]
  },
  {
   "cell_type": "code",
   "execution_count": 16,
   "id": "16682da0-779d-46f9-8ed9-fd373995ea05",
   "metadata": {},
   "outputs": [
    {
     "data": {
      "text/plain": [
       "range(0, 5000)"
      ]
     },
     "execution_count": 16,
     "metadata": {},
     "output_type": "execute_result"
    }
   ],
   "source": [
    "# Chosing the range value and setting the step\n",
    "range(0, X_train.shape[1])"
   ]
  },
  {
   "cell_type": "code",
   "execution_count": 18,
   "id": "d5b3858a",
   "metadata": {},
   "outputs": [
    {
     "data": {
      "text/plain": [
       "5000"
      ]
     },
     "execution_count": 18,
     "metadata": {},
     "output_type": "execute_result"
    }
   ],
   "source": [
    "X_train.shape[1]"
   ]
  },
  {
   "cell_type": "code",
   "execution_count": 15,
   "id": "6ffdee95-7b96-4e6b-866b-f61e7d32c49a",
   "metadata": {},
   "outputs": [],
   "source": [
    "estimators = [\n",
    "    ('reduce_dim', PCA()),\n",
    "    ('logreg_model', LogisticRegression())\n",
    "]\n",
    "pipe = Pipeline(estimators)\n",
    "\n",
    "params = {\n",
    "    'reduce_dim__n_components': [10, 1000],\n",
    "    'logreg_model__C': [0.1, 1, 10],\n",
    "    'logreg_model__solver': ['lbfgs']\n",
    "}"
   ]
  },
  {
   "cell_type": "code",
   "execution_count": 16,
   "id": "9324c00c-11cb-46fa-931b-bfbcaef4185f",
   "metadata": {},
   "outputs": [
    {
     "name": "stdout",
     "output_type": "stream",
     "text": [
      "Fitting 5 folds for each of 6 candidates, totalling 30 fits\n"
     ]
    },
    {
     "ename": "MemoryError",
     "evalue": "Unable to allocate 1.32 GiB for an array with shape (35419, 5000) and data type float64",
     "output_type": "error",
     "traceback": [
      "\u001b[1;31m---------------------------------------------------------------------------\u001b[0m",
      "\u001b[1;31m_RemoteTraceback\u001b[0m                          Traceback (most recent call last)",
      "\u001b[1;31m_RemoteTraceback\u001b[0m: \n\"\"\"\nTraceback (most recent call last):\n  File \"c:\\Users\\Emran\\anaconda3\\lib\\site-packages\\joblib\\externals\\loky\\process_executor.py\", line 436, in _process_worker\n    r = call_item()\n  File \"c:\\Users\\Emran\\anaconda3\\lib\\site-packages\\joblib\\externals\\loky\\process_executor.py\", line 288, in __call__\n    return self.fn(*self.args, **self.kwargs)\n  File \"c:\\Users\\Emran\\anaconda3\\lib\\site-packages\\joblib\\_parallel_backends.py\", line 595, in __call__\n    return self.func(*args, **kwargs)\n  File \"c:\\Users\\Emran\\anaconda3\\lib\\site-packages\\joblib\\parallel.py\", line 263, in __call__\n    return [func(*args, **kwargs)\n  File \"c:\\Users\\Emran\\anaconda3\\lib\\site-packages\\joblib\\parallel.py\", line 263, in <listcomp>\n    return [func(*args, **kwargs)\n  File \"c:\\Users\\Emran\\anaconda3\\lib\\site-packages\\sklearn\\utils\\parallel.py\", line 123, in __call__\n    return self.function(*args, **kwargs)\n  File \"c:\\Users\\Emran\\anaconda3\\lib\\site-packages\\sklearn\\model_selection\\_validation.py\", line 678, in _fit_and_score\n    X_train, y_train = _safe_split(estimator, X, y, train)\n  File \"c:\\Users\\Emran\\anaconda3\\lib\\site-packages\\sklearn\\utils\\metaestimators.py\", line 233, in _safe_split\n    X_subset = _safe_indexing(X, indices)\n  File \"c:\\Users\\Emran\\anaconda3\\lib\\site-packages\\sklearn\\utils\\__init__.py\", line 356, in _safe_indexing\n    return _array_indexing(X, indices, indices_dtype, axis=axis)\n  File \"c:\\Users\\Emran\\anaconda3\\lib\\site-packages\\sklearn\\utils\\__init__.py\", line 185, in _array_indexing\n    return array[key] if axis == 0 else array[:, key]\n  File \"c:\\Users\\Emran\\anaconda3\\lib\\site-packages\\numpy\\core\\memmap.py\", line 334, in __getitem__\n    res = super().__getitem__(index)\nnumpy.core._exceptions._ArrayMemoryError: Unable to allocate 1.32 GiB for an array with shape (35419, 5000) and data type float64\n\"\"\"",
      "\nThe above exception was the direct cause of the following exception:\n",
      "\u001b[1;31mMemoryError\u001b[0m                               Traceback (most recent call last)",
      "Cell \u001b[1;32mIn[16], line 2\u001b[0m\n\u001b[0;32m      1\u001b[0m grid_search_gbc \u001b[39m=\u001b[39m GridSearchCV(pipe, param_grid\u001b[39m=\u001b[39mparams, cv \u001b[39m=\u001b[39m \u001b[39m5\u001b[39m, n_jobs \u001b[39m=\u001b[39m \u001b[39m-\u001b[39m\u001b[39m1\u001b[39m, verbose \u001b[39m=\u001b[39m \u001b[39m2\u001b[39m)\n\u001b[1;32m----> 2\u001b[0m grid_search_gbc\u001b[39m.\u001b[39;49mfit(X_train_scaled, y_train)\n",
      "File \u001b[1;32mc:\\Users\\Emran\\anaconda3\\lib\\site-packages\\sklearn\\model_selection\\_search.py:874\u001b[0m, in \u001b[0;36mBaseSearchCV.fit\u001b[1;34m(self, X, y, groups, **fit_params)\u001b[0m\n\u001b[0;32m    868\u001b[0m     results \u001b[39m=\u001b[39m \u001b[39mself\u001b[39m\u001b[39m.\u001b[39m_format_results(\n\u001b[0;32m    869\u001b[0m         all_candidate_params, n_splits, all_out, all_more_results\n\u001b[0;32m    870\u001b[0m     )\n\u001b[0;32m    872\u001b[0m     \u001b[39mreturn\u001b[39;00m results\n\u001b[1;32m--> 874\u001b[0m \u001b[39mself\u001b[39;49m\u001b[39m.\u001b[39;49m_run_search(evaluate_candidates)\n\u001b[0;32m    876\u001b[0m \u001b[39m# multimetric is determined here because in the case of a callable\u001b[39;00m\n\u001b[0;32m    877\u001b[0m \u001b[39m# self.scoring the return type is only known after calling\u001b[39;00m\n\u001b[0;32m    878\u001b[0m first_test_score \u001b[39m=\u001b[39m all_out[\u001b[39m0\u001b[39m][\u001b[39m\"\u001b[39m\u001b[39mtest_scores\u001b[39m\u001b[39m\"\u001b[39m]\n",
      "File \u001b[1;32mc:\\Users\\Emran\\anaconda3\\lib\\site-packages\\sklearn\\model_selection\\_search.py:1388\u001b[0m, in \u001b[0;36mGridSearchCV._run_search\u001b[1;34m(self, evaluate_candidates)\u001b[0m\n\u001b[0;32m   1386\u001b[0m \u001b[39mdef\u001b[39;00m \u001b[39m_run_search\u001b[39m(\u001b[39mself\u001b[39m, evaluate_candidates):\n\u001b[0;32m   1387\u001b[0m     \u001b[39m\"\"\"Search all candidates in param_grid\"\"\"\u001b[39;00m\n\u001b[1;32m-> 1388\u001b[0m     evaluate_candidates(ParameterGrid(\u001b[39mself\u001b[39;49m\u001b[39m.\u001b[39;49mparam_grid))\n",
      "File \u001b[1;32mc:\\Users\\Emran\\anaconda3\\lib\\site-packages\\sklearn\\model_selection\\_search.py:821\u001b[0m, in \u001b[0;36mBaseSearchCV.fit.<locals>.evaluate_candidates\u001b[1;34m(candidate_params, cv, more_results)\u001b[0m\n\u001b[0;32m    813\u001b[0m \u001b[39mif\u001b[39;00m \u001b[39mself\u001b[39m\u001b[39m.\u001b[39mverbose \u001b[39m>\u001b[39m \u001b[39m0\u001b[39m:\n\u001b[0;32m    814\u001b[0m     \u001b[39mprint\u001b[39m(\n\u001b[0;32m    815\u001b[0m         \u001b[39m\"\u001b[39m\u001b[39mFitting \u001b[39m\u001b[39m{0}\u001b[39;00m\u001b[39m folds for each of \u001b[39m\u001b[39m{1}\u001b[39;00m\u001b[39m candidates,\u001b[39m\u001b[39m\"\u001b[39m\n\u001b[0;32m    816\u001b[0m         \u001b[39m\"\u001b[39m\u001b[39m totalling \u001b[39m\u001b[39m{2}\u001b[39;00m\u001b[39m fits\u001b[39m\u001b[39m\"\u001b[39m\u001b[39m.\u001b[39mformat(\n\u001b[0;32m    817\u001b[0m             n_splits, n_candidates, n_candidates \u001b[39m*\u001b[39m n_splits\n\u001b[0;32m    818\u001b[0m         )\n\u001b[0;32m    819\u001b[0m     )\n\u001b[1;32m--> 821\u001b[0m out \u001b[39m=\u001b[39m parallel(\n\u001b[0;32m    822\u001b[0m     delayed(_fit_and_score)(\n\u001b[0;32m    823\u001b[0m         clone(base_estimator),\n\u001b[0;32m    824\u001b[0m         X,\n\u001b[0;32m    825\u001b[0m         y,\n\u001b[0;32m    826\u001b[0m         train\u001b[39m=\u001b[39;49mtrain,\n\u001b[0;32m    827\u001b[0m         test\u001b[39m=\u001b[39;49mtest,\n\u001b[0;32m    828\u001b[0m         parameters\u001b[39m=\u001b[39;49mparameters,\n\u001b[0;32m    829\u001b[0m         split_progress\u001b[39m=\u001b[39;49m(split_idx, n_splits),\n\u001b[0;32m    830\u001b[0m         candidate_progress\u001b[39m=\u001b[39;49m(cand_idx, n_candidates),\n\u001b[0;32m    831\u001b[0m         \u001b[39m*\u001b[39;49m\u001b[39m*\u001b[39;49mfit_and_score_kwargs,\n\u001b[0;32m    832\u001b[0m     )\n\u001b[0;32m    833\u001b[0m     \u001b[39mfor\u001b[39;49;00m (cand_idx, parameters), (split_idx, (train, test)) \u001b[39min\u001b[39;49;00m product(\n\u001b[0;32m    834\u001b[0m         \u001b[39menumerate\u001b[39;49m(candidate_params), \u001b[39menumerate\u001b[39;49m(cv\u001b[39m.\u001b[39;49msplit(X, y, groups))\n\u001b[0;32m    835\u001b[0m     )\n\u001b[0;32m    836\u001b[0m )\n\u001b[0;32m    838\u001b[0m \u001b[39mif\u001b[39;00m \u001b[39mlen\u001b[39m(out) \u001b[39m<\u001b[39m \u001b[39m1\u001b[39m:\n\u001b[0;32m    839\u001b[0m     \u001b[39mraise\u001b[39;00m \u001b[39mValueError\u001b[39;00m(\n\u001b[0;32m    840\u001b[0m         \u001b[39m\"\u001b[39m\u001b[39mNo fits were performed. \u001b[39m\u001b[39m\"\u001b[39m\n\u001b[0;32m    841\u001b[0m         \u001b[39m\"\u001b[39m\u001b[39mWas the CV iterator empty? \u001b[39m\u001b[39m\"\u001b[39m\n\u001b[0;32m    842\u001b[0m         \u001b[39m\"\u001b[39m\u001b[39mWere there no candidates?\u001b[39m\u001b[39m\"\u001b[39m\n\u001b[0;32m    843\u001b[0m     )\n",
      "File \u001b[1;32mc:\\Users\\Emran\\anaconda3\\lib\\site-packages\\sklearn\\utils\\parallel.py:63\u001b[0m, in \u001b[0;36mParallel.__call__\u001b[1;34m(self, iterable)\u001b[0m\n\u001b[0;32m     58\u001b[0m config \u001b[39m=\u001b[39m get_config()\n\u001b[0;32m     59\u001b[0m iterable_with_config \u001b[39m=\u001b[39m (\n\u001b[0;32m     60\u001b[0m     (_with_config(delayed_func, config), args, kwargs)\n\u001b[0;32m     61\u001b[0m     \u001b[39mfor\u001b[39;00m delayed_func, args, kwargs \u001b[39min\u001b[39;00m iterable\n\u001b[0;32m     62\u001b[0m )\n\u001b[1;32m---> 63\u001b[0m \u001b[39mreturn\u001b[39;00m \u001b[39msuper\u001b[39;49m()\u001b[39m.\u001b[39;49m\u001b[39m__call__\u001b[39;49m(iterable_with_config)\n",
      "File \u001b[1;32mc:\\Users\\Emran\\anaconda3\\lib\\site-packages\\joblib\\parallel.py:1061\u001b[0m, in \u001b[0;36mParallel.__call__\u001b[1;34m(self, iterable)\u001b[0m\n\u001b[0;32m   1058\u001b[0m     \u001b[39mself\u001b[39m\u001b[39m.\u001b[39m_iterating \u001b[39m=\u001b[39m \u001b[39mFalse\u001b[39;00m\n\u001b[0;32m   1060\u001b[0m \u001b[39mwith\u001b[39;00m \u001b[39mself\u001b[39m\u001b[39m.\u001b[39m_backend\u001b[39m.\u001b[39mretrieval_context():\n\u001b[1;32m-> 1061\u001b[0m     \u001b[39mself\u001b[39;49m\u001b[39m.\u001b[39;49mretrieve()\n\u001b[0;32m   1062\u001b[0m \u001b[39m# Make sure that we get a last message telling us we are done\u001b[39;00m\n\u001b[0;32m   1063\u001b[0m elapsed_time \u001b[39m=\u001b[39m time\u001b[39m.\u001b[39mtime() \u001b[39m-\u001b[39m \u001b[39mself\u001b[39m\u001b[39m.\u001b[39m_start_time\n",
      "File \u001b[1;32mc:\\Users\\Emran\\anaconda3\\lib\\site-packages\\joblib\\parallel.py:938\u001b[0m, in \u001b[0;36mParallel.retrieve\u001b[1;34m(self)\u001b[0m\n\u001b[0;32m    936\u001b[0m \u001b[39mtry\u001b[39;00m:\n\u001b[0;32m    937\u001b[0m     \u001b[39mif\u001b[39;00m \u001b[39mgetattr\u001b[39m(\u001b[39mself\u001b[39m\u001b[39m.\u001b[39m_backend, \u001b[39m'\u001b[39m\u001b[39msupports_timeout\u001b[39m\u001b[39m'\u001b[39m, \u001b[39mFalse\u001b[39;00m):\n\u001b[1;32m--> 938\u001b[0m         \u001b[39mself\u001b[39m\u001b[39m.\u001b[39m_output\u001b[39m.\u001b[39mextend(job\u001b[39m.\u001b[39;49mget(timeout\u001b[39m=\u001b[39;49m\u001b[39mself\u001b[39;49m\u001b[39m.\u001b[39;49mtimeout))\n\u001b[0;32m    939\u001b[0m     \u001b[39melse\u001b[39;00m:\n\u001b[0;32m    940\u001b[0m         \u001b[39mself\u001b[39m\u001b[39m.\u001b[39m_output\u001b[39m.\u001b[39mextend(job\u001b[39m.\u001b[39mget())\n",
      "File \u001b[1;32mc:\\Users\\Emran\\anaconda3\\lib\\site-packages\\joblib\\_parallel_backends.py:542\u001b[0m, in \u001b[0;36mLokyBackend.wrap_future_result\u001b[1;34m(future, timeout)\u001b[0m\n\u001b[0;32m    539\u001b[0m \u001b[39m\"\"\"Wrapper for Future.result to implement the same behaviour as\u001b[39;00m\n\u001b[0;32m    540\u001b[0m \u001b[39mAsyncResults.get from multiprocessing.\"\"\"\u001b[39;00m\n\u001b[0;32m    541\u001b[0m \u001b[39mtry\u001b[39;00m:\n\u001b[1;32m--> 542\u001b[0m     \u001b[39mreturn\u001b[39;00m future\u001b[39m.\u001b[39;49mresult(timeout\u001b[39m=\u001b[39;49mtimeout)\n\u001b[0;32m    543\u001b[0m \u001b[39mexcept\u001b[39;00m CfTimeoutError \u001b[39mas\u001b[39;00m e:\n\u001b[0;32m    544\u001b[0m     \u001b[39mraise\u001b[39;00m \u001b[39mTimeoutError\u001b[39;00m \u001b[39mfrom\u001b[39;00m \u001b[39me\u001b[39;00m\n",
      "File \u001b[1;32mc:\\Users\\Emran\\anaconda3\\lib\\concurrent\\futures\\_base.py:451\u001b[0m, in \u001b[0;36mFuture.result\u001b[1;34m(self, timeout)\u001b[0m\n\u001b[0;32m    449\u001b[0m     \u001b[39mraise\u001b[39;00m CancelledError()\n\u001b[0;32m    450\u001b[0m \u001b[39melif\u001b[39;00m \u001b[39mself\u001b[39m\u001b[39m.\u001b[39m_state \u001b[39m==\u001b[39m FINISHED:\n\u001b[1;32m--> 451\u001b[0m     \u001b[39mreturn\u001b[39;00m \u001b[39mself\u001b[39;49m\u001b[39m.\u001b[39;49m__get_result()\n\u001b[0;32m    453\u001b[0m \u001b[39mself\u001b[39m\u001b[39m.\u001b[39m_condition\u001b[39m.\u001b[39mwait(timeout)\n\u001b[0;32m    455\u001b[0m \u001b[39mif\u001b[39;00m \u001b[39mself\u001b[39m\u001b[39m.\u001b[39m_state \u001b[39min\u001b[39;00m [CANCELLED, CANCELLED_AND_NOTIFIED]:\n",
      "File \u001b[1;32mc:\\Users\\Emran\\anaconda3\\lib\\concurrent\\futures\\_base.py:403\u001b[0m, in \u001b[0;36mFuture.__get_result\u001b[1;34m(self)\u001b[0m\n\u001b[0;32m    401\u001b[0m \u001b[39mif\u001b[39;00m \u001b[39mself\u001b[39m\u001b[39m.\u001b[39m_exception:\n\u001b[0;32m    402\u001b[0m     \u001b[39mtry\u001b[39;00m:\n\u001b[1;32m--> 403\u001b[0m         \u001b[39mraise\u001b[39;00m \u001b[39mself\u001b[39m\u001b[39m.\u001b[39m_exception\n\u001b[0;32m    404\u001b[0m     \u001b[39mfinally\u001b[39;00m:\n\u001b[0;32m    405\u001b[0m         \u001b[39m# Break a reference cycle with the exception in self._exception\u001b[39;00m\n\u001b[0;32m    406\u001b[0m         \u001b[39mself\u001b[39m \u001b[39m=\u001b[39m \u001b[39mNone\u001b[39;00m\n",
      "\u001b[1;31mMemoryError\u001b[0m: Unable to allocate 1.32 GiB for an array with shape (35419, 5000) and data type float64"
     ]
    }
   ],
   "source": [
    "grid_search_gbc = GridSearchCV(pipe, param_grid=params, cv = 5, n_jobs = -1, verbose = 2)\n",
    "grid_search_gbc.fit(X_train_scaled, y_train)\n",
    "# Wrap grid_search_gbc in tqdm to show progress bar\n",
    "# grid_search_gbc = tqdm(grid_search_gbc, total=len(grid_search_gbc.cv))"
   ]
  },
  {
   "cell_type": "code",
   "execution_count": 15,
   "id": "8036d3f9-f3f2-49b4-89c9-c1596d97e13d",
   "metadata": {},
   "outputs": [
    {
     "name": "stdout",
     "output_type": "stream",
     "text": [
      "best score: 0.6346385055413645\n",
      "best parameters: {'logreg_model__C': 0.1, 'logreg_model__solver': 'lbfgs', 'reduce_dim__n_components': 20}\n",
      "[CV] END logreg_model__C=0.1, logreg_model__solver=lbfgs, reduce_dim__n_components=20; total time=  34.9s\n",
      "[CV] END logreg_model__C=1, logreg_model__solver=liblinear, reduce_dim__n_components=10; total time=  29.8s\n",
      "[CV] END logreg_model__C=1, logreg_model__solver=liblinear, reduce_dim__n_components=20; total time=  34.8s\n",
      "[CV] END logreg_model__C=0.1, logreg_model__solver=lbfgs, reduce_dim__n_components=20; total time=  34.9s\n",
      "[CV] END logreg_model__C=1, logreg_model__solver=lbfgs, reduce_dim__n_components=20; total time=  34.3s\n",
      "[CV] END logreg_model__C=10, logreg_model__solver=lbfgs, reduce_dim__n_components=20; total time=  32.6s\n",
      "[CV] END logreg_model__C=0.1, logreg_model__solver=lbfgs, reduce_dim__n_components=20; total time=  34.8s\n",
      "[CV] END logreg_model__C=1, logreg_model__solver=lbfgs, reduce_dim__n_components=20; total time=  34.2s\n",
      "[CV] END logreg_model__C=10, logreg_model__solver=lbfgs, reduce_dim__n_components=20; total time=  34.0s\n",
      "[CV] END logreg_model__C=0.1, logreg_model__solver=lbfgs, reduce_dim__n_components=20; total time=  34.8s\n",
      "[CV] END logreg_model__C=1, logreg_model__solver=lbfgs, reduce_dim__n_components=20; total time=  34.2s\n",
      "[CV] END logreg_model__C=10, logreg_model__solver=lbfgs, reduce_dim__n_components=20; total time=  34.0s\n",
      "[CV] END logreg_model__C=0.1, logreg_model__solver=lbfgs, reduce_dim__n_components=10; total time=  31.4s\n",
      "[CV] END logreg_model__C=0.1, logreg_model__solver=liblinear, reduce_dim__n_components=20; total time=  34.4s\n",
      "[CV] END logreg_model__C=10, logreg_model__solver=lbfgs, reduce_dim__n_components=10; total time=  29.3s\n",
      "[CV] END logreg_model__C=10, logreg_model__solver=liblinear, reduce_dim__n_components=10; total time=  20.7s\n",
      "[CV] END logreg_model__C=0.1, logreg_model__solver=lbfgs, reduce_dim__n_components=10; total time=  31.4s\n",
      "[CV] END logreg_model__C=0.1, logreg_model__solver=liblinear, reduce_dim__n_components=20; total time=  33.5s\n",
      "[CV] END logreg_model__C=10, logreg_model__solver=lbfgs, reduce_dim__n_components=10; total time=  30.9s\n",
      "[CV] END logreg_model__C=10, logreg_model__solver=liblinear, reduce_dim__n_components=10; total time=  21.5s\n",
      "[CV] END logreg_model__C=0.1, logreg_model__solver=liblinear, reduce_dim__n_components=10; total time=  31.0s\n",
      "[CV] END logreg_model__C=0.1, logreg_model__solver=liblinear, reduce_dim__n_components=20; total time=  33.5s\n",
      "[CV] END logreg_model__C=1, logreg_model__solver=liblinear, reduce_dim__n_components=20; total time=  32.8s\n",
      "[CV] END logreg_model__C=10, logreg_model__solver=liblinear, reduce_dim__n_components=20; total time=  21.0s\n",
      "[CV] END logreg_model__C=0.1, logreg_model__solver=liblinear, reduce_dim__n_components=10; total time=  31.4s\n",
      "[CV] END logreg_model__C=0.1, logreg_model__solver=liblinear, reduce_dim__n_components=20; total time=  34.9s\n",
      "[CV] END logreg_model__C=10, logreg_model__solver=lbfgs, reduce_dim__n_components=10; total time=  30.8s\n",
      "[CV] END logreg_model__C=10, logreg_model__solver=liblinear, reduce_dim__n_components=20; total time=  23.0s\n",
      "[CV] END logreg_model__C=0.1, logreg_model__solver=lbfgs, reduce_dim__n_components=10; total time=  31.6s\n",
      "[CV] END logreg_model__C=1, logreg_model__solver=lbfgs, reduce_dim__n_components=10; total time=  31.9s\n",
      "[CV] END logreg_model__C=1, logreg_model__solver=liblinear, reduce_dim__n_components=10; total time=  29.0s\n",
      "[CV] END logreg_model__C=10, logreg_model__solver=lbfgs, reduce_dim__n_components=20; total time=  27.7s\n",
      "[CV] END logreg_model__C=0.1, logreg_model__solver=liblinear, reduce_dim__n_components=10; total time=  31.6s\n",
      "[CV] END logreg_model__C=1, logreg_model__solver=lbfgs, reduce_dim__n_components=10; total time=  32.1s\n",
      "[CV] END logreg_model__C=1, logreg_model__solver=liblinear, reduce_dim__n_components=10; total time=  31.4s\n",
      "[CV] END logreg_model__C=10, logreg_model__solver=liblinear, reduce_dim__n_components=10; total time=  27.3s\n",
      "[CV] END logreg_model__C=0.1, logreg_model__solver=liblinear, reduce_dim__n_components=10; total time=  31.7s\n",
      "[CV] END logreg_model__C=1, logreg_model__solver=lbfgs, reduce_dim__n_components=20; total time=  35.0s\n",
      "[CV] END logreg_model__C=10, logreg_model__solver=lbfgs, reduce_dim__n_components=10; total time=  30.1s\n",
      "[CV] END logreg_model__C=10, logreg_model__solver=liblinear, reduce_dim__n_components=10; total time=  27.3s\n",
      "[CV] END logreg_model__C=0.1, logreg_model__solver=lbfgs, reduce_dim__n_components=10; total time=  31.7s\n",
      "[CV] END logreg_model__C=1, logreg_model__solver=lbfgs, reduce_dim__n_components=10; total time=  32.1s\n",
      "[CV] END logreg_model__C=1, logreg_model__solver=liblinear, reduce_dim__n_components=20; total time=  33.1s\n",
      "[CV] END logreg_model__C=10, logreg_model__solver=liblinear, reduce_dim__n_components=10; total time=  27.3s\n",
      "[CV] END logreg_model__C=0.1, logreg_model__solver=lbfgs, reduce_dim__n_components=20; total time=  34.7s\n",
      "[CV] END logreg_model__C=1, logreg_model__solver=lbfgs, reduce_dim__n_components=20; total time=  34.2s\n",
      "[CV] END logreg_model__C=10, logreg_model__solver=lbfgs, reduce_dim__n_components=10; total time=  29.1s\n",
      "[CV] END logreg_model__C=10, logreg_model__solver=liblinear, reduce_dim__n_components=20; total time=  26.9s\n",
      "[CV] END logreg_model__C=0.1, logreg_model__solver=liblinear, reduce_dim__n_components=10; total time=  31.5s\n",
      "[CV] END logreg_model__C=1, logreg_model__solver=lbfgs, reduce_dim__n_components=10; total time=  31.6s\n",
      "[CV] END logreg_model__C=1, logreg_model__solver=liblinear, reduce_dim__n_components=10; total time=  31.3s\n",
      "[CV] END logreg_model__C=10, logreg_model__solver=lbfgs, reduce_dim__n_components=20; total time=  31.2s\n",
      "[CV] END logreg_model__C=0.1, logreg_model__solver=lbfgs, reduce_dim__n_components=10; total time=  31.6s\n",
      "[CV] END logreg_model__C=1, logreg_model__solver=lbfgs, reduce_dim__n_components=10; total time=  32.2s\n",
      "[CV] END logreg_model__C=1, logreg_model__solver=liblinear, reduce_dim__n_components=20; total time=  35.1s\n",
      "[CV] END logreg_model__C=10, logreg_model__solver=liblinear, reduce_dim__n_components=20; total time=  28.5s\n",
      "[CV] END logreg_model__C=0.1, logreg_model__solver=liblinear, reduce_dim__n_components=20; total time=  35.0s\n",
      "[CV] END logreg_model__C=1, logreg_model__solver=liblinear, reduce_dim__n_components=10; total time=  29.5s\n",
      "[CV] END logreg_model__C=1, logreg_model__solver=liblinear, reduce_dim__n_components=20; total time=  34.8s\n",
      "[CV] END logreg_model__C=10, logreg_model__solver=liblinear, reduce_dim__n_components=20; total time=  29.1s\n"
     ]
    }
   ],
   "source": [
    "# best score\n",
    "print(f\"best score: {grid_search_gbc.best_score_}\")\n",
    "\n",
    "# best parameters\n",
    "print(f\"best parameters: {grid_search_gbc.best_params_}\")"
   ]
  },
  {
   "cell_type": "code",
   "execution_count": null,
   "id": "aa31c2b4-1f28-445d-a24d-db442727b86c",
   "metadata": {},
   "outputs": [],
   "source": [
    "# Initialize PCA\n",
    "PCA_model = PCA()"
   ]
  },
  {
   "cell_type": "code",
   "execution_count": null,
   "id": "8bbda900-faf6-4239-9e34-c7fc1ea07f7c",
   "metadata": {},
   "outputs": [],
   "source": [
    "# Fit PCA\n",
    "PCA_model.fit(X_train_tfidf_scaled)"
   ]
  },
  {
   "cell_type": "code",
   "execution_count": null,
   "id": "6bf6ee7b-980b-4caa-92d5-87608af6cc2d",
   "metadata": {},
   "outputs": [],
   "source": [
    "# Transform data\n",
    "X_train_PCA_transform = PCA_model.transform(X_train_tfidf_scaled)\n",
    "X_test_PCA_transform = PCA_model.transform(X_validation_tfidf_scaled)"
   ]
  },
  {
   "cell_type": "code",
   "execution_count": null,
   "id": "6568ba5b-1e8d-40d0-b7f4-a6d16e323fbd",
   "metadata": {},
   "outputs": [],
   "source": [
    "for i in range(5):\n",
    "    print(f\"Variance captured by PC{i}: {PCA_model.explained_variance_[i]: 0.3f}\")\n",
    "    print(f\"Proportion of variance captured by PC{i}: {PCA_model.explained_variance_ratio_[i]: 0.3f}\")"
   ]
  },
  {
   "attachments": {},
   "cell_type": "markdown",
   "id": "c2659514-9cc6-4224-b99f-e55c90700ff0",
   "metadata": {},
   "source": [
    "### optimal number of Principal components"
   ]
  },
  {
   "cell_type": "code",
   "execution_count": null,
   "id": "96617119-284d-4ff2-b3d0-546ac7f202a6",
   "metadata": {},
   "outputs": [],
   "source": [
    "X_train_PCA_transform.shape"
   ]
  },
  {
   "cell_type": "code",
   "execution_count": null,
   "id": "f470af48-348e-498f-b023-61a0c688e4eb",
   "metadata": {},
   "outputs": [],
   "source": [
    "# Pull out the explained variance ratio for the BoW PCA Model\n",
    "PCA_model_var = PCA_model.explained_variance_ratio_\n",
    "\n",
    "# Calculate the cumulative sum of this array using the \n",
    "cumulative_sum = np.cumsum(PCA_model_var)\n",
    "\n",
    "cumulative_sum"
   ]
  },
  {
   "cell_type": "code",
   "execution_count": null,
   "id": "67ad0ed6-b872-4dd0-9c06-48d1ddfaa4d1",
   "metadata": {},
   "outputs": [],
   "source": [
    "print(f'PC1: {PCA_model_var[0]: 0.3f}')\n",
    "print(f'PC2: {PCA_model_var[1]: 0.3f}')"
   ]
  },
  {
   "cell_type": "code",
   "execution_count": null,
   "id": "663ddb36-ca75-4214-9d29-481ddc9cf271",
   "metadata": {},
   "outputs": [],
   "source": [
    "print(f'Optimal number of components {np.argmax(cumulative_sum > 0.9)}')"
   ]
  },
  {
   "cell_type": "code",
   "execution_count": null,
   "id": "77275558-42e5-432f-8b89-aa9c038727a2",
   "metadata": {},
   "outputs": [],
   "source": [
    "# Plot out the cumulative sum graph for the BoW PCA Model\n",
    "plt.figure(figsize=(10,6))\n",
    "plt.plot(range(0,3723), var_sum, marker='.')\n",
    "plt.axhline(0.9, c='r', linestyle='--')\n",
    "plt.axvline(1641, c='r', linestyle='--')\n",
    "plt.xlabel('Number of PCs')\n",
    "plt.ylabel('Cumulative Sum of Explained Variance - PCA Model')\n",
    "plt.xticks(range(0,4000,300))\n",
    "plt.show()"
   ]
  },
  {
   "cell_type": "code",
   "execution_count": null,
   "id": "f3c7ceef-724d-4558-a497-49d7e7b1c878",
   "metadata": {},
   "outputs": [],
   "source": [
    "# Initialize PCA\n",
    "base_PCA = PCA(n_components=0.9)\n",
    "\n",
    "# Fit PCA\n",
    "base_PCA.fit(X_train_scaled)"
   ]
  },
  {
   "cell_type": "code",
   "execution_count": null,
   "id": "a8df9135-1e58-4854-b14f-ef5e3a05761b",
   "metadata": {},
   "outputs": [],
   "source": [
    "# Transform data\n",
    "X_train_PCA_transform = base_PCA.transform(X_train_scaled)\n",
    "X_val_PCA_transform = base_PCA.transform(X_validation_scaled)"
   ]
  },
  {
   "cell_type": "code",
   "execution_count": null,
   "id": "2f50f66d-fe13-4e46-bb19-f3b141e54d18",
   "metadata": {},
   "outputs": [],
   "source": [
    "#Lets check the shape of the PCA Transformed\n",
    "print(f'Original: {X_train_scaled.shape}')\n",
    "print(f'PCA Transformed: {X_train_PCA_transform.shape}')"
   ]
  },
  {
   "attachments": {},
   "cell_type": "markdown",
   "id": "30737643-bd8e-48e2-b279-d4fdc2b21cb6",
   "metadata": {},
   "source": [
    "Let's fit our logistic regression model and compare it with out baseline model"
   ]
  },
  {
   "cell_type": "code",
   "execution_count": null,
   "id": "eb111c93-2138-4522-8a77-3f9c4864fef9",
   "metadata": {},
   "outputs": [],
   "source": [
    "logreg_PCA_model = LogisticRegression()\n",
    "\n",
    "logreg_PCA_model.fit(X_train_PCA_transform, y_train)"
   ]
  },
  {
   "cell_type": "code",
   "execution_count": null,
   "id": "38aca499-b614-4eb2-b19d-839cc056d379",
   "metadata": {},
   "outputs": [],
   "source": [
    "# Training and test score\n",
    "print(f\"Train score: {logreg_PCA_model.score(X_train_PCA_transform, y_train)}\")\n",
    "print(f\"Validation score: {logreg_PCA_model.score(X_val_PCA_transform, y_val)}\")"
   ]
  },
  {
   "cell_type": "code",
   "execution_count": null,
   "id": "fcf6264c-9605-4dee-b6b0-82598999e800",
   "metadata": {},
   "outputs": [],
   "source": [
    "# Training and test score\n",
    "print(f\"Train score: {logreg.score(X_train_scaled, y_train)}\")\n",
    "print(f\"Validation score: {logreg.score(X_validation_scaled, y_val)}\")"
   ]
  },
  {
   "attachments": {},
   "cell_type": "markdown",
   "id": "d727d4f1-a52d-4674-8b53-60d6234f7a55",
   "metadata": {},
   "source": [
    "### Manual Optimization\n",
    "\n",
    "    1- LogisticRegression\n",
    "    2- SVM (Support Vector Machines)\n",
    "    3- Random Forrest (Decision Trees)\n",
    "    4- XGBoost"
   ]
  },
  {
   "cell_type": "code",
   "execution_count": null,
   "id": "b802430b-ec1b-44f5-864e-d24985ffd0a2",
   "metadata": {},
   "outputs": [],
   "source": [
    "# estimators = [('reduce_dim', PCA()),\n",
    "#             ('logreg_model', LogisticRegression())]\n",
    "# estimators = [\n",
    "#     ('reduce_dim', PCA()),\n",
    "#     ('logreg_model', LogisticRegression())\n",
    "# ]\n",
    "# pipe = Pipeline(estimators)"
   ]
  },
  {
   "cell_type": "code",
   "execution_count": null,
   "id": "2dee95a5-7b39-464d-bff6-48a853699b57",
   "metadata": {},
   "outputs": [],
   "source": [
    "# grid_search_gbc.fit(X_train_transform.todense(), y_train)"
   ]
  },
  {
   "cell_type": "code",
   "execution_count": 35,
   "id": "fb574666-93d8-4e56-bf61-27c66c598f0a",
   "metadata": {},
   "outputs": [],
   "source": [
    "# Setting up the estimators and pipeline\n",
    "estimators = [\n",
    "    ('scaler', RobustScaler()),\n",
    "    ('model', LogisticRegression())\n",
    "]"
   ]
  },
  {
   "cell_type": "code",
   "execution_count": 36,
   "id": "3d70a6dc",
   "metadata": {},
   "outputs": [],
   "source": [
    "# Set up a directory to cache the pipeline results\n",
    "from tempfile import mkdtemp\n",
    "cachedir = mkdtemp()\n",
    "\n",
    "# Instantiate the pipeline\n",
    "my_pipe = Pipeline(estimators, memory=cachedir)"
   ]
  },
  {
   "cell_type": "code",
   "execution_count": 37,
   "id": "3463edd7",
   "metadata": {},
   "outputs": [],
   "source": [
    "# logistic Regression\n",
    "logreg_param_grid = {\n",
    "    'scaler': [RobustScaler()],\n",
    "    'model': [LogisticRegression(penalty = 'l1', random_state = 1)],\n",
    "    'model__C': [0.1, 1, 10],\n",
    "    'model__solver': ['liblinear', 'saga'],\n",
    "    'model__max_iter': [10000]\n",
    "}"
   ]
  },
  {
   "cell_type": "code",
   "execution_count": 38,
   "id": "199228d0",
   "metadata": {},
   "outputs": [],
   "source": [
    "# Instantiate the grid search for each model\n",
    "logreg_grid = GridSearchCV(my_pipe, param_grid = logreg_param_grid, cv = 5, verbose = 2)"
   ]
  },
  {
   "cell_type": "code",
   "execution_count": 39,
   "id": "d29ab411",
   "metadata": {},
   "outputs": [
    {
     "name": "stdout",
     "output_type": "stream",
     "text": [
      "Fitting 5 folds for each of 6 candidates, totalling 30 fits\n",
      "[CV] END model=LogisticRegression(penalty='l1', random_state=1), model__C=0.1, model__max_iter=10000, model__solver=liblinear, scaler=RobustScaler(); total time=  16.8s\n",
      "[CV] END model=LogisticRegression(penalty='l1', random_state=1), model__C=0.1, model__max_iter=10000, model__solver=liblinear, scaler=RobustScaler(); total time=  17.3s\n",
      "[CV] END model=LogisticRegression(penalty='l1', random_state=1), model__C=0.1, model__max_iter=10000, model__solver=liblinear, scaler=RobustScaler(); total time=  18.3s\n",
      "[CV] END model=LogisticRegression(penalty='l1', random_state=1), model__C=0.1, model__max_iter=10000, model__solver=liblinear, scaler=RobustScaler(); total time=  16.2s\n",
      "[CV] END model=LogisticRegression(penalty='l1', random_state=1), model__C=0.1, model__max_iter=10000, model__solver=liblinear, scaler=RobustScaler(); total time=  16.0s\n",
      "[CV] END model=LogisticRegression(penalty='l1', random_state=1), model__C=0.1, model__max_iter=10000, model__solver=saga, scaler=RobustScaler(); total time= 1.1min\n",
      "[CV] END model=LogisticRegression(penalty='l1', random_state=1), model__C=0.1, model__max_iter=10000, model__solver=saga, scaler=RobustScaler(); total time= 1.1min\n",
      "[CV] END model=LogisticRegression(penalty='l1', random_state=1), model__C=0.1, model__max_iter=10000, model__solver=saga, scaler=RobustScaler(); total time= 1.2min\n",
      "[CV] END model=LogisticRegression(penalty='l1', random_state=1), model__C=0.1, model__max_iter=10000, model__solver=saga, scaler=RobustScaler(); total time= 1.3min\n",
      "[CV] END model=LogisticRegression(penalty='l1', random_state=1), model__C=0.1, model__max_iter=10000, model__solver=saga, scaler=RobustScaler(); total time= 1.2min\n",
      "[CV] END model=LogisticRegression(penalty='l1', random_state=1), model__C=1, model__max_iter=10000, model__solver=liblinear, scaler=RobustScaler(); total time=  10.2s\n",
      "[CV] END model=LogisticRegression(penalty='l1', random_state=1), model__C=1, model__max_iter=10000, model__solver=liblinear, scaler=RobustScaler(); total time=   8.2s\n",
      "[CV] END model=LogisticRegression(penalty='l1', random_state=1), model__C=1, model__max_iter=10000, model__solver=liblinear, scaler=RobustScaler(); total time=   8.5s\n",
      "[CV] END model=LogisticRegression(penalty='l1', random_state=1), model__C=1, model__max_iter=10000, model__solver=liblinear, scaler=RobustScaler(); total time=   7.4s\n",
      "[CV] END model=LogisticRegression(penalty='l1', random_state=1), model__C=1, model__max_iter=10000, model__solver=liblinear, scaler=RobustScaler(); total time=   9.6s\n",
      "[CV] END model=LogisticRegression(penalty='l1', random_state=1), model__C=1, model__max_iter=10000, model__solver=saga, scaler=RobustScaler(); total time= 3.1min\n",
      "[CV] END model=LogisticRegression(penalty='l1', random_state=1), model__C=1, model__max_iter=10000, model__solver=saga, scaler=RobustScaler(); total time= 2.7min\n",
      "[CV] END model=LogisticRegression(penalty='l1', random_state=1), model__C=1, model__max_iter=10000, model__solver=saga, scaler=RobustScaler(); total time= 3.2min\n",
      "[CV] END model=LogisticRegression(penalty='l1', random_state=1), model__C=1, model__max_iter=10000, model__solver=saga, scaler=RobustScaler(); total time= 2.3min\n",
      "[CV] END model=LogisticRegression(penalty='l1', random_state=1), model__C=1, model__max_iter=10000, model__solver=saga, scaler=RobustScaler(); total time=12.3min\n",
      "[CV] END model=LogisticRegression(penalty='l1', random_state=1), model__C=10, model__max_iter=10000, model__solver=liblinear, scaler=RobustScaler(); total time=   3.9s\n",
      "[CV] END model=LogisticRegression(penalty='l1', random_state=1), model__C=10, model__max_iter=10000, model__solver=liblinear, scaler=RobustScaler(); total time=   3.6s\n",
      "[CV] END model=LogisticRegression(penalty='l1', random_state=1), model__C=10, model__max_iter=10000, model__solver=liblinear, scaler=RobustScaler(); total time=   3.4s\n",
      "[CV] END model=LogisticRegression(penalty='l1', random_state=1), model__C=10, model__max_iter=10000, model__solver=liblinear, scaler=RobustScaler(); total time=   3.3s\n",
      "[CV] END model=LogisticRegression(penalty='l1', random_state=1), model__C=10, model__max_iter=10000, model__solver=liblinear, scaler=RobustScaler(); total time=   3.5s\n"
     ]
    }
   ],
   "source": [
    "# Fit the grid search for all models\n",
    "logreg_fitted_grid = logreg_grid.fit(X_train, y_train.values.ravel())"
   ]
  },
  {
   "cell_type": "code",
   "execution_count": null,
   "id": "a6a6ab80",
   "metadata": {},
   "outputs": [],
   "source": [
    "# SVM\n",
    "svm_param_grid = {\n",
    "    'scaler': [RobustScaler()],\n",
    "    'model': [LinearSVC(random_state = 1)],\n",
    "    'model__C': [0.01, 0.1, 1],\n",
    "    'model__penalty': ['l1', 'l2'],\n",
    "    'model__max_iter': [10000]\n",
    "}"
   ]
  },
  {
   "cell_type": "code",
   "execution_count": null,
   "id": "f8af840e",
   "metadata": {},
   "outputs": [],
   "source": [
    "# Instantiate the grid search for each model\n",
    "svm_grid = GridSearchCV(my_pipe, param_grid =svm_param_grid, cv = 5, verbose = 2)"
   ]
  },
  {
   "cell_type": "code",
   "execution_count": null,
   "id": "09024593",
   "metadata": {},
   "outputs": [],
   "source": [
    "# Fit the grid search for all models\n",
    "svm_fitted_grid = svm_grid.fit(X_train, y_train.values.ravel())"
   ]
  },
  {
   "cell_type": "code",
   "execution_count": null,
   "id": "63279244",
   "metadata": {},
   "outputs": [],
   "source": [
    "# Random Forest\n",
    "rf_param_grid = {\n",
    "    'scaler': [RobustScaler()],\n",
    "    'model': [RandomForestClassifier(random_state = 1)],\n",
    "    'model__n_estimators': range(5, 10),\n",
    "    'model__max_depth': range(10, 20, 2),\n",
    "    'model__max_iter': [10000]\n",
    "}"
   ]
  },
  {
   "cell_type": "code",
   "execution_count": null,
   "id": "0bda342f",
   "metadata": {},
   "outputs": [],
   "source": [
    "# Instantiate the grid search for each model\n",
    "rf_grid = GridSearchCV(my_pipe, param_grid=rf_param_grid, cv = 5, verbose = 2)"
   ]
  },
  {
   "cell_type": "code",
   "execution_count": null,
   "id": "9adccdde",
   "metadata": {},
   "outputs": [],
   "source": [
    "# Fit the grid search \n",
    "rf_fitted_grid = rf_grid.fit(X_train, y_train.values.ravel())"
   ]
  },
  {
   "cell_type": "code",
   "execution_count": null,
   "id": "5f2ff8fb",
   "metadata": {},
   "outputs": [],
   "source": [
    "# XGBoost\n",
    "xgb_param_grid = {\n",
    "    'scaler': [RobustScaler()],\n",
    "    'model': [XGBClassifier(random_state = 1)],\n",
    "    'model__n_estimators': range(50, 53, 2),\n",
    "    'model__max_depth': range(8, 11, 2),\n",
    "    'model__learning_rate': [0.5, 1],\n",
    "    'model__max_iter': [10000]\n",
    "}"
   ]
  },
  {
   "cell_type": "code",
   "execution_count": null,
   "id": "07d574ff",
   "metadata": {},
   "outputs": [],
   "source": [
    "# Instantiate the grid search for each model\n",
    "xgb_grid = GridSearchCV(my_pipe, param_grid =xgb_param_grid, cv = 5, verbose = 2)"
   ]
  },
  {
   "cell_type": "code",
   "execution_count": null,
   "id": "f71bb7f8",
   "metadata": {},
   "outputs": [],
   "source": [
    "# Fit the grid search for all models\n",
    "xgb_fitted_grid = xgb_grid.fit(X_train, y_train.values.ravel())"
   ]
  },
  {
   "cell_type": "code",
   "execution_count": null,
   "id": "d4ba0575",
   "metadata": {},
   "outputs": [],
   "source": []
  }
 ],
 "metadata": {
  "environment": {
   "kernel": "python3",
   "name": "common-cpu.m109",
   "type": "gcloud",
   "uri": "gcr.io/deeplearning-platform-release/base-cpu:m109"
  },
  "kernelspec": {
   "display_name": "Python 3",
   "language": "python",
   "name": "python3"
  },
  "language_info": {
   "codemirror_mode": {
    "name": "ipython",
    "version": 3
   },
   "file_extension": ".py",
   "mimetype": "text/x-python",
   "name": "python",
   "nbconvert_exporter": "python",
   "pygments_lexer": "ipython3",
   "version": "3.10.9"
  }
 },
 "nbformat": 4,
 "nbformat_minor": 5
}
