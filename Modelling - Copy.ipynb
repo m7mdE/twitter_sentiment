{
 "cells": [
  {
   "cell_type": "markdown",
   "id": "0d2c9509-b5e8-4d39-9800-2ea24541fc77",
   "metadata": {},
   "source": [
    "### Introduction"
   ]
  },
  {
   "cell_type": "code",
   "execution_count": null,
   "id": "b3714576-c675-40a1-9a62-e3914a6fc336",
   "metadata": {},
   "outputs": [],
   "source": []
  },
  {
   "cell_type": "code",
   "execution_count": null,
   "id": "b412542c-3eaa-4f02-8d52-d90f0d3718a6",
   "metadata": {},
   "outputs": [],
   "source": []
  },
  {
   "cell_type": "code",
   "execution_count": 1,
   "id": "10877469-571f-4598-9bef-9d66c2609204",
   "metadata": {},
   "outputs": [],
   "source": [
    "import pandas as pd\n",
    "import numpy as np\n",
    "import seaborn as sns\n",
    "import matplotlib.pyplot as plt\n",
    "import re\n",
    "\n",
    "# Importing library in order to see the progress bar\n",
    "from tqdm.notebook import tnrange, tqdm_notebook\n",
    "from tqdm import tqdm\n",
    "import warnings\n",
    "warnings.filterwarnings(\"ignore\")\n",
    "\n",
    "from sklearn.pipeline import Pipeline\n",
    "from sklearn.preprocessing import MinMaxScaler, StandardScaler, RobustScaler\n",
    "from sklearn.decomposition import PCA\n",
    "from sklearn.svm import SVC\n",
    "from sklearn.svm import LinearSVC\n",
    "from sklearn.ensemble import RandomForestClassifier\n",
    "from xgboost import XGBClassifier\n",
    "import time\n",
    "\n",
    "# splitting our data into train and test sets\n",
    "from sklearn.model_selection import train_test_split, GridSearchCV, cross_val_score, RandomizedSearchCV"
   ]
  },
  {
   "cell_type": "code",
   "execution_count": null,
   "id": "68e05497-0b00-4986-a4cf-302d45890e1f",
   "metadata": {},
   "outputs": [],
   "source": []
  },
  {
   "cell_type": "code",
   "execution_count": 2,
   "id": "7cd984cb-7e17-4819-b795-c24022bb61ab",
   "metadata": {},
   "outputs": [],
   "source": [
    "X_train = pd.read_csv('train_vectorized.csv')\n",
    "X_val = pd.read_csv('validation_vectorized.csv')\n",
    "X_test = pd.read_csv('test_vectorized.csv')"
   ]
  },
  {
   "cell_type": "code",
   "execution_count": 3,
   "id": "33d4f775-602c-48ff-bc85-60d8a2e066a3",
   "metadata": {},
   "outputs": [],
   "source": [
    "y_train = pd.read_csv('y_train.csv')\n",
    "y_test = pd.read_csv('y_test.csv')\n",
    "y_val = pd.read_csv('y_val.csv')"
   ]
  },
  {
   "cell_type": "code",
   "execution_count": 4,
   "id": "af5a5c92-ed1c-4866-8b1d-94b3c6c9f1d4",
   "metadata": {},
   "outputs": [
    {
     "data": {
      "text/plain": [
       "(44274, 2000)"
      ]
     },
     "execution_count": 4,
     "metadata": {},
     "output_type": "execute_result"
    }
   ],
   "source": [
    "X_train.shape"
   ]
  },
  {
   "cell_type": "code",
   "execution_count": 5,
   "id": "ed641ac9-3170-4b76-891b-2e589e5f2660",
   "metadata": {},
   "outputs": [
    {
     "data": {
      "text/plain": [
       "(18975, 2000)"
      ]
     },
     "execution_count": 5,
     "metadata": {},
     "output_type": "execute_result"
    }
   ],
   "source": [
    "X_val.shape"
   ]
  },
  {
   "cell_type": "code",
   "execution_count": 6,
   "id": "908ba098-2b81-4212-87ee-79a452fa8ea4",
   "metadata": {},
   "outputs": [
    {
     "data": {
      "text/plain": [
       "(15813, 2000)"
      ]
     },
     "execution_count": 6,
     "metadata": {},
     "output_type": "execute_result"
    }
   ],
   "source": [
    "X_test.shape"
   ]
  },
  {
   "cell_type": "code",
   "execution_count": 7,
   "id": "ea8fce2d-dd23-497d-bc9d-f8d48e959747",
   "metadata": {},
   "outputs": [
    {
     "data": {
      "text/plain": [
       "(18975, 1)"
      ]
     },
     "execution_count": 7,
     "metadata": {},
     "output_type": "execute_result"
    }
   ],
   "source": [
    "y_val.shape"
   ]
  },
  {
   "cell_type": "code",
   "execution_count": 8,
   "id": "9eaa6935-83f6-428f-ae74-d78271011004",
   "metadata": {},
   "outputs": [
    {
     "data": {
      "text/plain": [
       "(44274, 1)"
      ]
     },
     "execution_count": 8,
     "metadata": {},
     "output_type": "execute_result"
    }
   ],
   "source": [
    "y_train.shape"
   ]
  },
  {
   "cell_type": "code",
   "execution_count": 9,
   "id": "c2b3bd0a-228d-454f-8f94-d284ade30cca",
   "metadata": {},
   "outputs": [
    {
     "data": {
      "text/plain": [
       "(15813, 1)"
      ]
     },
     "execution_count": 9,
     "metadata": {},
     "output_type": "execute_result"
    }
   ],
   "source": [
    "y_test.shape"
   ]
  },
  {
   "cell_type": "markdown",
   "id": "25d96766-c13f-4282-a18c-5d4387134034",
   "metadata": {},
   "source": [
    "### Logistic Regression"
   ]
  },
  {
   "cell_type": "code",
   "execution_count": 10,
   "id": "307c6323-2073-4d28-9ce3-44a7af6c2a82",
   "metadata": {},
   "outputs": [],
   "source": [
    "from sklearn.linear_model import LogisticRegression"
   ]
  },
  {
   "cell_type": "code",
   "execution_count": 11,
   "id": "e7bd817b-1336-484f-a11e-b73708f72824",
   "metadata": {},
   "outputs": [],
   "source": [
    "### Logistic Regression TF-IDF vectorizer after including n-grams\n",
    "\n",
    "# Initializing Scale\n",
    "scaler_tfidf = RobustScaler()\n",
    "\n",
    "# Fitting scale\n",
    "scaler_tfidf.fit(X_train)\n",
    "\n",
    "# Transform scale\n",
    "X_train_scaled = scaler_tfidf.transform(X_train)\n",
    "X_val_scaled = scaler_tfidf.transform(X_val)\n",
    "X_test_scaled = scaler_tfidf.transform(X_test)"
   ]
  },
  {
   "cell_type": "code",
   "execution_count": 12,
   "id": "c485ba65-9fe0-45c3-a86e-bf0063ecb4e4",
   "metadata": {},
   "outputs": [
    {
     "data": {
      "text/html": [
       "<style>#sk-container-id-1 {color: black;background-color: white;}#sk-container-id-1 pre{padding: 0;}#sk-container-id-1 div.sk-toggleable {background-color: white;}#sk-container-id-1 label.sk-toggleable__label {cursor: pointer;display: block;width: 100%;margin-bottom: 0;padding: 0.3em;box-sizing: border-box;text-align: center;}#sk-container-id-1 label.sk-toggleable__label-arrow:before {content: \"▸\";float: left;margin-right: 0.25em;color: #696969;}#sk-container-id-1 label.sk-toggleable__label-arrow:hover:before {color: black;}#sk-container-id-1 div.sk-estimator:hover label.sk-toggleable__label-arrow:before {color: black;}#sk-container-id-1 div.sk-toggleable__content {max-height: 0;max-width: 0;overflow: hidden;text-align: left;background-color: #f0f8ff;}#sk-container-id-1 div.sk-toggleable__content pre {margin: 0.2em;color: black;border-radius: 0.25em;background-color: #f0f8ff;}#sk-container-id-1 input.sk-toggleable__control:checked~div.sk-toggleable__content {max-height: 200px;max-width: 100%;overflow: auto;}#sk-container-id-1 input.sk-toggleable__control:checked~label.sk-toggleable__label-arrow:before {content: \"▾\";}#sk-container-id-1 div.sk-estimator input.sk-toggleable__control:checked~label.sk-toggleable__label {background-color: #d4ebff;}#sk-container-id-1 div.sk-label input.sk-toggleable__control:checked~label.sk-toggleable__label {background-color: #d4ebff;}#sk-container-id-1 input.sk-hidden--visually {border: 0;clip: rect(1px 1px 1px 1px);clip: rect(1px, 1px, 1px, 1px);height: 1px;margin: -1px;overflow: hidden;padding: 0;position: absolute;width: 1px;}#sk-container-id-1 div.sk-estimator {font-family: monospace;background-color: #f0f8ff;border: 1px dotted black;border-radius: 0.25em;box-sizing: border-box;margin-bottom: 0.5em;}#sk-container-id-1 div.sk-estimator:hover {background-color: #d4ebff;}#sk-container-id-1 div.sk-parallel-item::after {content: \"\";width: 100%;border-bottom: 1px solid gray;flex-grow: 1;}#sk-container-id-1 div.sk-label:hover label.sk-toggleable__label {background-color: #d4ebff;}#sk-container-id-1 div.sk-serial::before {content: \"\";position: absolute;border-left: 1px solid gray;box-sizing: border-box;top: 0;bottom: 0;left: 50%;z-index: 0;}#sk-container-id-1 div.sk-serial {display: flex;flex-direction: column;align-items: center;background-color: white;padding-right: 0.2em;padding-left: 0.2em;position: relative;}#sk-container-id-1 div.sk-item {position: relative;z-index: 1;}#sk-container-id-1 div.sk-parallel {display: flex;align-items: stretch;justify-content: center;background-color: white;position: relative;}#sk-container-id-1 div.sk-item::before, #sk-container-id-1 div.sk-parallel-item::before {content: \"\";position: absolute;border-left: 1px solid gray;box-sizing: border-box;top: 0;bottom: 0;left: 50%;z-index: -1;}#sk-container-id-1 div.sk-parallel-item {display: flex;flex-direction: column;z-index: 1;position: relative;background-color: white;}#sk-container-id-1 div.sk-parallel-item:first-child::after {align-self: flex-end;width: 50%;}#sk-container-id-1 div.sk-parallel-item:last-child::after {align-self: flex-start;width: 50%;}#sk-container-id-1 div.sk-parallel-item:only-child::after {width: 0;}#sk-container-id-1 div.sk-dashed-wrapped {border: 1px dashed gray;margin: 0 0.4em 0.5em 0.4em;box-sizing: border-box;padding-bottom: 0.4em;background-color: white;}#sk-container-id-1 div.sk-label label {font-family: monospace;font-weight: bold;display: inline-block;line-height: 1.2em;}#sk-container-id-1 div.sk-label-container {text-align: center;}#sk-container-id-1 div.sk-container {/* jupyter's `normalize.less` sets `[hidden] { display: none; }` but bootstrap.min.css set `[hidden] { display: none !important; }` so we also need the `!important` here to be able to override the default hidden behavior on the sphinx rendered scikit-learn.org. See: https://github.com/scikit-learn/scikit-learn/issues/21755 */display: inline-block !important;position: relative;}#sk-container-id-1 div.sk-text-repr-fallback {display: none;}</style><div id=\"sk-container-id-1\" class=\"sk-top-container\"><div class=\"sk-text-repr-fallback\"><pre>LogisticRegression(max_iter=10000, random_state=1)</pre><b>In a Jupyter environment, please rerun this cell to show the HTML representation or trust the notebook. <br />On GitHub, the HTML representation is unable to render, please try loading this page with nbviewer.org.</b></div><div class=\"sk-container\" hidden><div class=\"sk-item\"><div class=\"sk-estimator sk-toggleable\"><input class=\"sk-toggleable__control sk-hidden--visually\" id=\"sk-estimator-id-1\" type=\"checkbox\" checked><label for=\"sk-estimator-id-1\" class=\"sk-toggleable__label sk-toggleable__label-arrow\">LogisticRegression</label><div class=\"sk-toggleable__content\"><pre>LogisticRegression(max_iter=10000, random_state=1)</pre></div></div></div></div></div>"
      ],
      "text/plain": [
       "LogisticRegression(max_iter=10000, random_state=1)"
      ]
     },
     "execution_count": 12,
     "metadata": {},
     "output_type": "execute_result"
    }
   ],
   "source": [
    "# instantiate model\n",
    "logreg_model_tfidf = LogisticRegression(solver='lbfgs', max_iter=10000, random_state=1)\n",
    "\n",
    "# fit the model\n",
    "logreg_model_tfidf.fit(X_train_scaled, y_train)"
   ]
  },
  {
   "cell_type": "code",
   "execution_count": 13,
   "id": "d90b157e-ca63-4529-a95d-9c85f0a70e40",
   "metadata": {},
   "outputs": [
    {
     "name": "stdout",
     "output_type": "stream",
     "text": [
      "Train score: 0.7697745855355288\n",
      "Validation score: 0.7429249011857707\n"
     ]
    }
   ],
   "source": [
    "# Training and test score\n",
    "print(f\"Train score: {logreg_model_tfidf.score(X_train_scaled, y_train)}\")\n",
    "print(f\"Validation score: {logreg_model_tfidf.score(X_val_scaled, y_val)}\")"
   ]
  },
  {
   "cell_type": "markdown",
   "id": "70211a50-17c7-414f-bb12-7b6eecbb5e67",
   "metadata": {},
   "source": [
    "## PCA Model"
   ]
  },
  {
   "cell_type": "code",
   "execution_count": 16,
   "id": "16682da0-779d-46f9-8ed9-fd373995ea05",
   "metadata": {},
   "outputs": [
    {
     "data": {
      "text/plain": [
       "range(0, 5000)"
      ]
     },
     "execution_count": 16,
     "metadata": {},
     "output_type": "execute_result"
    }
   ],
   "source": [
    "# Chosing the range value and setting the step\n",
    "range(0, X_train.shape[1])"
   ]
  },
  {
   "cell_type": "code",
   "execution_count": 18,
   "id": "d5b3858a",
   "metadata": {},
   "outputs": [
    {
     "data": {
      "text/plain": [
       "5000"
      ]
     },
     "execution_count": 18,
     "metadata": {},
     "output_type": "execute_result"
    }
   ],
   "source": [
    "X_train.shape[1]"
   ]
  },
  {
   "cell_type": "code",
   "execution_count": 15,
   "id": "6ffdee95-7b96-4e6b-866b-f61e7d32c49a",
   "metadata": {},
   "outputs": [],
   "source": [
    "estimators = [\n",
    "    ('reduce_dim', PCA()),\n",
    "    ('logreg_model', LogisticRegression())\n",
    "]\n",
    "pipe = Pipeline(estimators)\n",
    "\n",
    "params = {\n",
    "    'reduce_dim__n_components': [10, 1000],\n",
    "    'logreg_model__C': [0.1, 1, 10],\n",
    "    'logreg_model__solver': ['lbfgs']\n",
    "}"
   ]
  },
  {
   "cell_type": "code",
   "execution_count": 14,
   "id": "9324c00c-11cb-46fa-931b-bfbcaef4185f",
   "metadata": {},
   "outputs": [],
   "source": [
    "# grid_search_gbc = GridSearchCV(pipe, param_grid=params, cv = 5, n_jobs = -1, verbose = 2)\n",
    "# grid_search_gbc.fit(X_train_scaled, y_train)\n",
    "# Wrap grid_search_gbc in tqdm to show progress bar\n",
    "# grid_search_gbc = tqdm(grid_search_gbc, total=len(grid_search_gbc.cv))"
   ]
  },
  {
   "cell_type": "code",
   "execution_count": 15,
   "id": "8036d3f9-f3f2-49b4-89c9-c1596d97e13d",
   "metadata": {},
   "outputs": [
    {
     "name": "stdout",
     "output_type": "stream",
     "text": [
      "best score: 0.6346385055413645\n",
      "best parameters: {'logreg_model__C': 0.1, 'logreg_model__solver': 'lbfgs', 'reduce_dim__n_components': 20}\n",
      "[CV] END logreg_model__C=0.1, logreg_model__solver=lbfgs, reduce_dim__n_components=20; total time=  34.9s\n",
      "[CV] END logreg_model__C=1, logreg_model__solver=liblinear, reduce_dim__n_components=10; total time=  29.8s\n",
      "[CV] END logreg_model__C=1, logreg_model__solver=liblinear, reduce_dim__n_components=20; total time=  34.8s\n",
      "[CV] END logreg_model__C=0.1, logreg_model__solver=lbfgs, reduce_dim__n_components=20; total time=  34.9s\n",
      "[CV] END logreg_model__C=1, logreg_model__solver=lbfgs, reduce_dim__n_components=20; total time=  34.3s\n",
      "[CV] END logreg_model__C=10, logreg_model__solver=lbfgs, reduce_dim__n_components=20; total time=  32.6s\n",
      "[CV] END logreg_model__C=0.1, logreg_model__solver=lbfgs, reduce_dim__n_components=20; total time=  34.8s\n",
      "[CV] END logreg_model__C=1, logreg_model__solver=lbfgs, reduce_dim__n_components=20; total time=  34.2s\n",
      "[CV] END logreg_model__C=10, logreg_model__solver=lbfgs, reduce_dim__n_components=20; total time=  34.0s\n",
      "[CV] END logreg_model__C=0.1, logreg_model__solver=lbfgs, reduce_dim__n_components=20; total time=  34.8s\n",
      "[CV] END logreg_model__C=1, logreg_model__solver=lbfgs, reduce_dim__n_components=20; total time=  34.2s\n",
      "[CV] END logreg_model__C=10, logreg_model__solver=lbfgs, reduce_dim__n_components=20; total time=  34.0s\n",
      "[CV] END logreg_model__C=0.1, logreg_model__solver=lbfgs, reduce_dim__n_components=10; total time=  31.4s\n",
      "[CV] END logreg_model__C=0.1, logreg_model__solver=liblinear, reduce_dim__n_components=20; total time=  34.4s\n",
      "[CV] END logreg_model__C=10, logreg_model__solver=lbfgs, reduce_dim__n_components=10; total time=  29.3s\n",
      "[CV] END logreg_model__C=10, logreg_model__solver=liblinear, reduce_dim__n_components=10; total time=  20.7s\n",
      "[CV] END logreg_model__C=0.1, logreg_model__solver=lbfgs, reduce_dim__n_components=10; total time=  31.4s\n",
      "[CV] END logreg_model__C=0.1, logreg_model__solver=liblinear, reduce_dim__n_components=20; total time=  33.5s\n",
      "[CV] END logreg_model__C=10, logreg_model__solver=lbfgs, reduce_dim__n_components=10; total time=  30.9s\n",
      "[CV] END logreg_model__C=10, logreg_model__solver=liblinear, reduce_dim__n_components=10; total time=  21.5s\n",
      "[CV] END logreg_model__C=0.1, logreg_model__solver=liblinear, reduce_dim__n_components=10; total time=  31.0s\n",
      "[CV] END logreg_model__C=0.1, logreg_model__solver=liblinear, reduce_dim__n_components=20; total time=  33.5s\n",
      "[CV] END logreg_model__C=1, logreg_model__solver=liblinear, reduce_dim__n_components=20; total time=  32.8s\n",
      "[CV] END logreg_model__C=10, logreg_model__solver=liblinear, reduce_dim__n_components=20; total time=  21.0s\n",
      "[CV] END logreg_model__C=0.1, logreg_model__solver=liblinear, reduce_dim__n_components=10; total time=  31.4s\n",
      "[CV] END logreg_model__C=0.1, logreg_model__solver=liblinear, reduce_dim__n_components=20; total time=  34.9s\n",
      "[CV] END logreg_model__C=10, logreg_model__solver=lbfgs, reduce_dim__n_components=10; total time=  30.8s\n",
      "[CV] END logreg_model__C=10, logreg_model__solver=liblinear, reduce_dim__n_components=20; total time=  23.0s\n",
      "[CV] END logreg_model__C=0.1, logreg_model__solver=lbfgs, reduce_dim__n_components=10; total time=  31.6s\n",
      "[CV] END logreg_model__C=1, logreg_model__solver=lbfgs, reduce_dim__n_components=10; total time=  31.9s\n",
      "[CV] END logreg_model__C=1, logreg_model__solver=liblinear, reduce_dim__n_components=10; total time=  29.0s\n",
      "[CV] END logreg_model__C=10, logreg_model__solver=lbfgs, reduce_dim__n_components=20; total time=  27.7s\n",
      "[CV] END logreg_model__C=0.1, logreg_model__solver=liblinear, reduce_dim__n_components=10; total time=  31.6s\n",
      "[CV] END logreg_model__C=1, logreg_model__solver=lbfgs, reduce_dim__n_components=10; total time=  32.1s\n",
      "[CV] END logreg_model__C=1, logreg_model__solver=liblinear, reduce_dim__n_components=10; total time=  31.4s\n",
      "[CV] END logreg_model__C=10, logreg_model__solver=liblinear, reduce_dim__n_components=10; total time=  27.3s\n",
      "[CV] END logreg_model__C=0.1, logreg_model__solver=liblinear, reduce_dim__n_components=10; total time=  31.7s\n",
      "[CV] END logreg_model__C=1, logreg_model__solver=lbfgs, reduce_dim__n_components=20; total time=  35.0s\n",
      "[CV] END logreg_model__C=10, logreg_model__solver=lbfgs, reduce_dim__n_components=10; total time=  30.1s\n",
      "[CV] END logreg_model__C=10, logreg_model__solver=liblinear, reduce_dim__n_components=10; total time=  27.3s\n",
      "[CV] END logreg_model__C=0.1, logreg_model__solver=lbfgs, reduce_dim__n_components=10; total time=  31.7s\n",
      "[CV] END logreg_model__C=1, logreg_model__solver=lbfgs, reduce_dim__n_components=10; total time=  32.1s\n",
      "[CV] END logreg_model__C=1, logreg_model__solver=liblinear, reduce_dim__n_components=20; total time=  33.1s\n",
      "[CV] END logreg_model__C=10, logreg_model__solver=liblinear, reduce_dim__n_components=10; total time=  27.3s\n",
      "[CV] END logreg_model__C=0.1, logreg_model__solver=lbfgs, reduce_dim__n_components=20; total time=  34.7s\n",
      "[CV] END logreg_model__C=1, logreg_model__solver=lbfgs, reduce_dim__n_components=20; total time=  34.2s\n",
      "[CV] END logreg_model__C=10, logreg_model__solver=lbfgs, reduce_dim__n_components=10; total time=  29.1s\n",
      "[CV] END logreg_model__C=10, logreg_model__solver=liblinear, reduce_dim__n_components=20; total time=  26.9s\n",
      "[CV] END logreg_model__C=0.1, logreg_model__solver=liblinear, reduce_dim__n_components=10; total time=  31.5s\n",
      "[CV] END logreg_model__C=1, logreg_model__solver=lbfgs, reduce_dim__n_components=10; total time=  31.6s\n",
      "[CV] END logreg_model__C=1, logreg_model__solver=liblinear, reduce_dim__n_components=10; total time=  31.3s\n",
      "[CV] END logreg_model__C=10, logreg_model__solver=lbfgs, reduce_dim__n_components=20; total time=  31.2s\n",
      "[CV] END logreg_model__C=0.1, logreg_model__solver=lbfgs, reduce_dim__n_components=10; total time=  31.6s\n",
      "[CV] END logreg_model__C=1, logreg_model__solver=lbfgs, reduce_dim__n_components=10; total time=  32.2s\n",
      "[CV] END logreg_model__C=1, logreg_model__solver=liblinear, reduce_dim__n_components=20; total time=  35.1s\n",
      "[CV] END logreg_model__C=10, logreg_model__solver=liblinear, reduce_dim__n_components=20; total time=  28.5s\n",
      "[CV] END logreg_model__C=0.1, logreg_model__solver=liblinear, reduce_dim__n_components=20; total time=  35.0s\n",
      "[CV] END logreg_model__C=1, logreg_model__solver=liblinear, reduce_dim__n_components=10; total time=  29.5s\n",
      "[CV] END logreg_model__C=1, logreg_model__solver=liblinear, reduce_dim__n_components=20; total time=  34.8s\n",
      "[CV] END logreg_model__C=10, logreg_model__solver=liblinear, reduce_dim__n_components=20; total time=  29.1s\n"
     ]
    }
   ],
   "source": [
    "# best score\n",
    "print(f\"best score: {grid_search_gbc.best_score_}\")\n",
    "\n",
    "# best parameters\n",
    "print(f\"best parameters: {grid_search_gbc.best_params_}\")"
   ]
  },
  {
   "cell_type": "code",
   "execution_count": null,
   "id": "aa31c2b4-1f28-445d-a24d-db442727b86c",
   "metadata": {},
   "outputs": [],
   "source": [
    "# Initialize PCA\n",
    "PCA_model = PCA()"
   ]
  },
  {
   "cell_type": "code",
   "execution_count": null,
   "id": "8bbda900-faf6-4239-9e34-c7fc1ea07f7c",
   "metadata": {},
   "outputs": [],
   "source": [
    "# Fit PCA\n",
    "PCA_model.fit(X_train_tfidf_scaled)"
   ]
  },
  {
   "cell_type": "code",
   "execution_count": null,
   "id": "6bf6ee7b-980b-4caa-92d5-87608af6cc2d",
   "metadata": {},
   "outputs": [],
   "source": [
    "# Transform data\n",
    "X_train_PCA_transform = PCA_model.transform(X_train_tfidf_scaled)\n",
    "X_test_PCA_transform = PCA_model.transform(X_validation_tfidf_scaled)"
   ]
  },
  {
   "cell_type": "code",
   "execution_count": null,
   "id": "6568ba5b-1e8d-40d0-b7f4-a6d16e323fbd",
   "metadata": {},
   "outputs": [],
   "source": [
    "for i in range(5):\n",
    "    print(f\"Variance captured by PC{i}: {PCA_model.explained_variance_[i]: 0.3f}\")\n",
    "    print(f\"Proportion of variance captured by PC{i}: {PCA_model.explained_variance_ratio_[i]: 0.3f}\")"
   ]
  },
  {
   "cell_type": "markdown",
   "id": "c2659514-9cc6-4224-b99f-e55c90700ff0",
   "metadata": {},
   "source": [
    "### optimal number of Principal components"
   ]
  },
  {
   "cell_type": "code",
   "execution_count": null,
   "id": "96617119-284d-4ff2-b3d0-546ac7f202a6",
   "metadata": {},
   "outputs": [],
   "source": [
    "X_train_PCA_transform.shape"
   ]
  },
  {
   "cell_type": "code",
   "execution_count": null,
   "id": "f470af48-348e-498f-b023-61a0c688e4eb",
   "metadata": {},
   "outputs": [],
   "source": [
    "# Pull out the explained variance ratio for the BoW PCA Model\n",
    "PCA_model_var = PCA_model.explained_variance_ratio_\n",
    "\n",
    "# Calculate the cumulative sum of this array using the \n",
    "cumulative_sum = np.cumsum(PCA_model_var)\n",
    "\n",
    "cumulative_sum"
   ]
  },
  {
   "cell_type": "code",
   "execution_count": null,
   "id": "67ad0ed6-b872-4dd0-9c06-48d1ddfaa4d1",
   "metadata": {},
   "outputs": [],
   "source": [
    "print(f'PC1: {PCA_model_var[0]: 0.3f}')\n",
    "print(f'PC2: {PCA_model_var[1]: 0.3f}')"
   ]
  },
  {
   "cell_type": "code",
   "execution_count": null,
   "id": "663ddb36-ca75-4214-9d29-481ddc9cf271",
   "metadata": {},
   "outputs": [],
   "source": [
    "print(f'Optimal number of components {np.argmax(cumulative_sum > 0.9)}')"
   ]
  },
  {
   "cell_type": "code",
   "execution_count": null,
   "id": "77275558-42e5-432f-8b89-aa9c038727a2",
   "metadata": {},
   "outputs": [],
   "source": [
    "# Plot out the cumulative sum graph for the BoW PCA Model\n",
    "plt.figure(figsize=(10,6))\n",
    "plt.plot(range(0,3723), var_sum, marker='.')\n",
    "plt.axhline(0.9, c='r', linestyle='--')\n",
    "plt.axvline(1641, c='r', linestyle='--')\n",
    "plt.xlabel('Number of PCs')\n",
    "plt.ylabel('Cumulative Sum of Explained Variance - PCA Model')\n",
    "plt.xticks(range(0,4000,300))\n",
    "plt.show()"
   ]
  },
  {
   "cell_type": "code",
   "execution_count": null,
   "id": "f3c7ceef-724d-4558-a497-49d7e7b1c878",
   "metadata": {},
   "outputs": [],
   "source": [
    "# Initialize PCA\n",
    "base_PCA = PCA(n_components=0.9)\n",
    "\n",
    "# Fit PCA\n",
    "base_PCA.fit(X_train_scaled)"
   ]
  },
  {
   "cell_type": "code",
   "execution_count": null,
   "id": "a8df9135-1e58-4854-b14f-ef5e3a05761b",
   "metadata": {},
   "outputs": [],
   "source": [
    "# Transform data\n",
    "X_train_PCA_transform = base_PCA.transform(X_train_scaled)\n",
    "X_val_PCA_transform = base_PCA.transform(X_validation_scaled)"
   ]
  },
  {
   "cell_type": "code",
   "execution_count": null,
   "id": "2f50f66d-fe13-4e46-bb19-f3b141e54d18",
   "metadata": {},
   "outputs": [],
   "source": [
    "#Lets check the shape of the PCA Transformed\n",
    "print(f'Original: {X_train_scaled.shape}')\n",
    "print(f'PCA Transformed: {X_train_PCA_transform.shape}')"
   ]
  },
  {
   "cell_type": "markdown",
   "id": "30737643-bd8e-48e2-b279-d4fdc2b21cb6",
   "metadata": {},
   "source": [
    "Let's fit our logistic regression model and compare it with out baseline model"
   ]
  },
  {
   "cell_type": "code",
   "execution_count": null,
   "id": "eb111c93-2138-4522-8a77-3f9c4864fef9",
   "metadata": {},
   "outputs": [],
   "source": [
    "logreg_PCA_model = LogisticRegression()\n",
    "\n",
    "logreg_PCA_model.fit(X_train_PCA_transform, y_train)"
   ]
  },
  {
   "cell_type": "code",
   "execution_count": null,
   "id": "38aca499-b614-4eb2-b19d-839cc056d379",
   "metadata": {},
   "outputs": [],
   "source": [
    "# Training and test score\n",
    "print(f\"Train score: {logreg_PCA_model.score(X_train_PCA_transform, y_train)}\")\n",
    "print(f\"Validation score: {logreg_PCA_model.score(X_val_PCA_transform, y_val)}\")"
   ]
  },
  {
   "cell_type": "code",
   "execution_count": null,
   "id": "fcf6264c-9605-4dee-b6b0-82598999e800",
   "metadata": {},
   "outputs": [],
   "source": [
    "# Training and test score\n",
    "print(f\"Train score: {logreg.score(X_train_scaled, y_train)}\")\n",
    "print(f\"Validation score: {logreg.score(X_validation_scaled, y_val)}\")"
   ]
  },
  {
   "cell_type": "markdown",
   "id": "d727d4f1-a52d-4674-8b53-60d6234f7a55",
   "metadata": {},
   "source": [
    "### Manual Optimization\n",
    "\n",
    "    1- LogisticRegression\n",
    "    2- SVM (Support Vector Machines)\n",
    "    3- Random Forrest (Decision Trees)\n",
    "    4- XGBoost"
   ]
  },
  {
   "cell_type": "code",
   "execution_count": 14,
   "id": "fb574666-93d8-4e56-bf61-27c66c598f0a",
   "metadata": {},
   "outputs": [],
   "source": [
    "# Setting up the estimators and pipeline\n",
    "estimators = [\n",
    "    ('scaler', RobustScaler()),\n",
    "    ('model', LogisticRegression())\n",
    "]"
   ]
  },
  {
   "cell_type": "code",
   "execution_count": 15,
   "id": "3d70a6dc",
   "metadata": {},
   "outputs": [],
   "source": [
    "# Set up a directory to cache the pipeline results\n",
    "from tempfile import mkdtemp\n",
    "cachedir = mkdtemp()\n",
    "\n",
    "# Instantiate the pipeline\n",
    "my_pipe = Pipeline(estimators, memory=cachedir)"
   ]
  },
  {
   "cell_type": "code",
   "execution_count": 16,
   "id": "3463edd7",
   "metadata": {},
   "outputs": [],
   "source": [
    "# logistic Regression\n",
    "logreg_param_grid = {\n",
    "    'scaler': [RobustScaler()],\n",
    "    'model': [LogisticRegression(penalty = 'l1', random_state = 1)],\n",
    "    'model__C': [0.1, 1, 10],\n",
    "    'model__solver': ['liblinear', 'saga'],\n",
    "    'model__max_iter': [10000]\n",
    "}"
   ]
  },
  {
   "cell_type": "code",
   "execution_count": 38,
   "id": "199228d0",
   "metadata": {},
   "outputs": [],
   "source": [
    "# Instantiate the grid search for each model\n",
    "logreg_grid = GridSearchCV(my_pipe, param_grid = logreg_param_grid, cv = 5, verbose = 2)"
   ]
  },
  {
   "cell_type": "code",
   "execution_count": 39,
   "id": "d29ab411",
   "metadata": {},
   "outputs": [
    {
     "name": "stdout",
     "output_type": "stream",
     "text": [
      "Fitting 5 folds for each of 6 candidates, totalling 30 fits\n",
      "[CV] END model=LogisticRegression(penalty='l1', random_state=1), model__C=0.1, model__max_iter=10000, model__solver=liblinear, scaler=RobustScaler(); total time=  16.8s\n",
      "[CV] END model=LogisticRegression(penalty='l1', random_state=1), model__C=0.1, model__max_iter=10000, model__solver=liblinear, scaler=RobustScaler(); total time=  17.3s\n",
      "[CV] END model=LogisticRegression(penalty='l1', random_state=1), model__C=0.1, model__max_iter=10000, model__solver=liblinear, scaler=RobustScaler(); total time=  18.3s\n",
      "[CV] END model=LogisticRegression(penalty='l1', random_state=1), model__C=0.1, model__max_iter=10000, model__solver=liblinear, scaler=RobustScaler(); total time=  16.2s\n",
      "[CV] END model=LogisticRegression(penalty='l1', random_state=1), model__C=0.1, model__max_iter=10000, model__solver=liblinear, scaler=RobustScaler(); total time=  16.0s\n",
      "[CV] END model=LogisticRegression(penalty='l1', random_state=1), model__C=0.1, model__max_iter=10000, model__solver=saga, scaler=RobustScaler(); total time= 1.1min\n",
      "[CV] END model=LogisticRegression(penalty='l1', random_state=1), model__C=0.1, model__max_iter=10000, model__solver=saga, scaler=RobustScaler(); total time= 1.1min\n",
      "[CV] END model=LogisticRegression(penalty='l1', random_state=1), model__C=0.1, model__max_iter=10000, model__solver=saga, scaler=RobustScaler(); total time= 1.2min\n",
      "[CV] END model=LogisticRegression(penalty='l1', random_state=1), model__C=0.1, model__max_iter=10000, model__solver=saga, scaler=RobustScaler(); total time= 1.3min\n",
      "[CV] END model=LogisticRegression(penalty='l1', random_state=1), model__C=0.1, model__max_iter=10000, model__solver=saga, scaler=RobustScaler(); total time= 1.2min\n",
      "[CV] END model=LogisticRegression(penalty='l1', random_state=1), model__C=1, model__max_iter=10000, model__solver=liblinear, scaler=RobustScaler(); total time=  10.2s\n",
      "[CV] END model=LogisticRegression(penalty='l1', random_state=1), model__C=1, model__max_iter=10000, model__solver=liblinear, scaler=RobustScaler(); total time=   8.2s\n",
      "[CV] END model=LogisticRegression(penalty='l1', random_state=1), model__C=1, model__max_iter=10000, model__solver=liblinear, scaler=RobustScaler(); total time=   8.5s\n",
      "[CV] END model=LogisticRegression(penalty='l1', random_state=1), model__C=1, model__max_iter=10000, model__solver=liblinear, scaler=RobustScaler(); total time=   7.4s\n",
      "[CV] END model=LogisticRegression(penalty='l1', random_state=1), model__C=1, model__max_iter=10000, model__solver=liblinear, scaler=RobustScaler(); total time=   9.6s\n",
      "[CV] END model=LogisticRegression(penalty='l1', random_state=1), model__C=1, model__max_iter=10000, model__solver=saga, scaler=RobustScaler(); total time= 3.1min\n",
      "[CV] END model=LogisticRegression(penalty='l1', random_state=1), model__C=1, model__max_iter=10000, model__solver=saga, scaler=RobustScaler(); total time= 2.7min\n",
      "[CV] END model=LogisticRegression(penalty='l1', random_state=1), model__C=1, model__max_iter=10000, model__solver=saga, scaler=RobustScaler(); total time= 3.2min\n",
      "[CV] END model=LogisticRegression(penalty='l1', random_state=1), model__C=1, model__max_iter=10000, model__solver=saga, scaler=RobustScaler(); total time= 2.3min\n",
      "[CV] END model=LogisticRegression(penalty='l1', random_state=1), model__C=1, model__max_iter=10000, model__solver=saga, scaler=RobustScaler(); total time=12.3min\n",
      "[CV] END model=LogisticRegression(penalty='l1', random_state=1), model__C=10, model__max_iter=10000, model__solver=liblinear, scaler=RobustScaler(); total time=   3.9s\n",
      "[CV] END model=LogisticRegression(penalty='l1', random_state=1), model__C=10, model__max_iter=10000, model__solver=liblinear, scaler=RobustScaler(); total time=   3.6s\n",
      "[CV] END model=LogisticRegression(penalty='l1', random_state=1), model__C=10, model__max_iter=10000, model__solver=liblinear, scaler=RobustScaler(); total time=   3.4s\n",
      "[CV] END model=LogisticRegression(penalty='l1', random_state=1), model__C=10, model__max_iter=10000, model__solver=liblinear, scaler=RobustScaler(); total time=   3.3s\n",
      "[CV] END model=LogisticRegression(penalty='l1', random_state=1), model__C=10, model__max_iter=10000, model__solver=liblinear, scaler=RobustScaler(); total time=   3.5s\n"
     ]
    }
   ],
   "source": [
    "# Fit the grid search for all models\n",
    "logreg_fitted_grid = logreg_grid.fit(X_train, y_train.values.ravel())"
   ]
  },
  {
   "cell_type": "code",
   "execution_count": 17,
   "id": "a6a6ab80",
   "metadata": {},
   "outputs": [],
   "source": [
    "# SVM\n",
    "svm_param_grid = {\n",
    "    'scaler': [RobustScaler()],\n",
    "    'model': [LinearSVC(random_state = 1)],\n",
    "    'model__C': [0.01, 0.1, 1],\n",
    "    'model__penalty': ['l1', 'l2'],\n",
    "    'model__max_iter': [10000]\n",
    "}"
   ]
  },
  {
   "cell_type": "code",
   "execution_count": 18,
   "id": "f8af840e",
   "metadata": {},
   "outputs": [],
   "source": [
    "# Instantiate the grid search for each model\n",
    "svm_grid = GridSearchCV(my_pipe, param_grid =svm_param_grid, cv = 5, verbose = 2)"
   ]
  },
  {
   "cell_type": "code",
   "execution_count": 19,
   "id": "09024593",
   "metadata": {},
   "outputs": [
    {
     "name": "stdout",
     "output_type": "stream",
     "text": [
      "Fitting 5 folds for each of 6 candidates, totalling 30 fits\n",
      "[CV] END model=LinearSVC(random_state=1), model__C=0.01, model__max_iter=10000, model__penalty=l1, scaler=RobustScaler(); total time=   6.4s\n",
      "[CV] END model=LinearSVC(random_state=1), model__C=0.01, model__max_iter=10000, model__penalty=l1, scaler=RobustScaler(); total time=   6.2s\n",
      "[CV] END model=LinearSVC(random_state=1), model__C=0.01, model__max_iter=10000, model__penalty=l1, scaler=RobustScaler(); total time=   6.7s\n",
      "[CV] END model=LinearSVC(random_state=1), model__C=0.01, model__max_iter=10000, model__penalty=l1, scaler=RobustScaler(); total time=   6.0s\n",
      "[CV] END model=LinearSVC(random_state=1), model__C=0.01, model__max_iter=10000, model__penalty=l1, scaler=RobustScaler(); total time=   6.5s\n",
      "[CV] END model=LinearSVC(random_state=1), model__C=0.01, model__max_iter=10000, model__penalty=l2, scaler=RobustScaler(); total time=   3.8s\n",
      "[CV] END model=LinearSVC(random_state=1), model__C=0.01, model__max_iter=10000, model__penalty=l2, scaler=RobustScaler(); total time=   3.7s\n",
      "[CV] END model=LinearSVC(random_state=1), model__C=0.01, model__max_iter=10000, model__penalty=l2, scaler=RobustScaler(); total time=   3.6s\n",
      "[CV] END model=LinearSVC(random_state=1), model__C=0.01, model__max_iter=10000, model__penalty=l2, scaler=RobustScaler(); total time=   3.8s\n",
      "[CV] END model=LinearSVC(random_state=1), model__C=0.01, model__max_iter=10000, model__penalty=l2, scaler=RobustScaler(); total time=   4.2s\n",
      "[CV] END model=LinearSVC(random_state=1), model__C=0.1, model__max_iter=10000, model__penalty=l1, scaler=RobustScaler(); total time=   3.8s\n",
      "[CV] END model=LinearSVC(random_state=1), model__C=0.1, model__max_iter=10000, model__penalty=l1, scaler=RobustScaler(); total time=   4.1s\n",
      "[CV] END model=LinearSVC(random_state=1), model__C=0.1, model__max_iter=10000, model__penalty=l1, scaler=RobustScaler(); total time=   3.6s\n",
      "[CV] END model=LinearSVC(random_state=1), model__C=0.1, model__max_iter=10000, model__penalty=l1, scaler=RobustScaler(); total time=   3.3s\n",
      "[CV] END model=LinearSVC(random_state=1), model__C=0.1, model__max_iter=10000, model__penalty=l1, scaler=RobustScaler(); total time=   3.1s\n",
      "[CV] END model=LinearSVC(random_state=1), model__C=0.1, model__max_iter=10000, model__penalty=l2, scaler=RobustScaler(); total time=   3.9s\n",
      "[CV] END model=LinearSVC(random_state=1), model__C=0.1, model__max_iter=10000, model__penalty=l2, scaler=RobustScaler(); total time=   3.9s\n",
      "[CV] END model=LinearSVC(random_state=1), model__C=0.1, model__max_iter=10000, model__penalty=l2, scaler=RobustScaler(); total time=   3.9s\n",
      "[CV] END model=LinearSVC(random_state=1), model__C=0.1, model__max_iter=10000, model__penalty=l2, scaler=RobustScaler(); total time=   3.7s\n",
      "[CV] END model=LinearSVC(random_state=1), model__C=0.1, model__max_iter=10000, model__penalty=l2, scaler=RobustScaler(); total time=   3.7s\n",
      "[CV] END model=LinearSVC(random_state=1), model__C=1, model__max_iter=10000, model__penalty=l1, scaler=RobustScaler(); total time=   3.2s\n",
      "[CV] END model=LinearSVC(random_state=1), model__C=1, model__max_iter=10000, model__penalty=l1, scaler=RobustScaler(); total time=   3.5s\n",
      "[CV] END model=LinearSVC(random_state=1), model__C=1, model__max_iter=10000, model__penalty=l1, scaler=RobustScaler(); total time=   3.1s\n",
      "[CV] END model=LinearSVC(random_state=1), model__C=1, model__max_iter=10000, model__penalty=l1, scaler=RobustScaler(); total time=   3.1s\n",
      "[CV] END model=LinearSVC(random_state=1), model__C=1, model__max_iter=10000, model__penalty=l1, scaler=RobustScaler(); total time=   3.1s\n",
      "[CV] END model=LinearSVC(random_state=1), model__C=1, model__max_iter=10000, model__penalty=l2, scaler=RobustScaler(); total time=   4.2s\n",
      "[CV] END model=LinearSVC(random_state=1), model__C=1, model__max_iter=10000, model__penalty=l2, scaler=RobustScaler(); total time=   4.0s\n",
      "[CV] END model=LinearSVC(random_state=1), model__C=1, model__max_iter=10000, model__penalty=l2, scaler=RobustScaler(); total time=   3.8s\n",
      "[CV] END model=LinearSVC(random_state=1), model__C=1, model__max_iter=10000, model__penalty=l2, scaler=RobustScaler(); total time=   4.1s\n",
      "[CV] END model=LinearSVC(random_state=1), model__C=1, model__max_iter=10000, model__penalty=l2, scaler=RobustScaler(); total time=   4.3s\n"
     ]
    }
   ],
   "source": [
    "# Fit the grid search for all models\n",
    "svm_fitted_grid = svm_grid.fit(X_train, y_train.values.ravel())"
   ]
  },
  {
   "cell_type": "code",
   "execution_count": 20,
   "id": "8a52c9e7",
   "metadata": {},
   "outputs": [
    {
     "name": "stdout",
     "output_type": "stream",
     "text": [
      "best score: 0.7422868550704655\n",
      "best parameters: {'model': LinearSVC(C=0.1, max_iter=10000, random_state=1), 'model__C': 0.1, 'model__max_iter': 10000, 'model__penalty': 'l2', 'scaler': RobustScaler()}\n"
     ]
    }
   ],
   "source": [
    "# best score\n",
    "print(f\"best score: {svm_fitted_grid.best_score_}\")\n",
    "\n",
    "# best parameters\n",
    "print(f\"best parameters: {svm_fitted_grid.best_params_}\")"
   ]
  },
  {
   "cell_type": "code",
   "execution_count": 24,
   "id": "63279244",
   "metadata": {},
   "outputs": [],
   "source": [
    "# Random Forest\n",
    "rf_param_grid = {\n",
    "    'scaler': [RobustScaler()],\n",
    "    'model': [RandomForestClassifier(random_state = 1)],\n",
    "    'model__n_estimators': range(5, 10),\n",
    "    'model__max_depth': range(10, 20, 2)\n",
    "}"
   ]
  },
  {
   "cell_type": "code",
   "execution_count": 25,
   "id": "0bda342f",
   "metadata": {},
   "outputs": [],
   "source": [
    "# Instantiate the grid search for each model\n",
    "rf_grid = GridSearchCV(my_pipe, param_grid=rf_param_grid, cv = 5, verbose = 2)"
   ]
  },
  {
   "cell_type": "code",
   "execution_count": 26,
   "id": "9adccdde",
   "metadata": {
    "scrolled": true
   },
   "outputs": [
    {
     "name": "stdout",
     "output_type": "stream",
     "text": [
      "Fitting 5 folds for each of 25 candidates, totalling 125 fits\n",
      "[CV] END model=RandomForestClassifier(random_state=1), model__max_depth=10, model__n_estimators=5, scaler=RobustScaler(); total time=   2.7s\n",
      "[CV] END model=RandomForestClassifier(random_state=1), model__max_depth=10, model__n_estimators=5, scaler=RobustScaler(); total time=   2.6s\n",
      "[CV] END model=RandomForestClassifier(random_state=1), model__max_depth=10, model__n_estimators=5, scaler=RobustScaler(); total time=   2.5s\n",
      "[CV] END model=RandomForestClassifier(random_state=1), model__max_depth=10, model__n_estimators=5, scaler=RobustScaler(); total time=   2.4s\n",
      "[CV] END model=RandomForestClassifier(random_state=1), model__max_depth=10, model__n_estimators=5, scaler=RobustScaler(); total time=   2.4s\n",
      "[CV] END model=RandomForestClassifier(random_state=1), model__max_depth=10, model__n_estimators=6, scaler=RobustScaler(); total time=   2.6s\n",
      "[CV] END model=RandomForestClassifier(random_state=1), model__max_depth=10, model__n_estimators=6, scaler=RobustScaler(); total time=   2.6s\n",
      "[CV] END model=RandomForestClassifier(random_state=1), model__max_depth=10, model__n_estimators=6, scaler=RobustScaler(); total time=   2.7s\n",
      "[CV] END model=RandomForestClassifier(random_state=1), model__max_depth=10, model__n_estimators=6, scaler=RobustScaler(); total time=   2.6s\n",
      "[CV] END model=RandomForestClassifier(random_state=1), model__max_depth=10, model__n_estimators=6, scaler=RobustScaler(); total time=   2.6s\n",
      "[CV] END model=RandomForestClassifier(random_state=1), model__max_depth=10, model__n_estimators=7, scaler=RobustScaler(); total time=   2.6s\n",
      "[CV] END model=RandomForestClassifier(random_state=1), model__max_depth=10, model__n_estimators=7, scaler=RobustScaler(); total time=   2.8s\n",
      "[CV] END model=RandomForestClassifier(random_state=1), model__max_depth=10, model__n_estimators=7, scaler=RobustScaler(); total time=   3.0s\n",
      "[CV] END model=RandomForestClassifier(random_state=1), model__max_depth=10, model__n_estimators=7, scaler=RobustScaler(); total time=   2.8s\n",
      "[CV] END model=RandomForestClassifier(random_state=1), model__max_depth=10, model__n_estimators=7, scaler=RobustScaler(); total time=   2.7s\n",
      "[CV] END model=RandomForestClassifier(random_state=1), model__max_depth=10, model__n_estimators=8, scaler=RobustScaler(); total time=   2.8s\n",
      "[CV] END model=RandomForestClassifier(random_state=1), model__max_depth=10, model__n_estimators=8, scaler=RobustScaler(); total time=   2.9s\n",
      "[CV] END model=RandomForestClassifier(random_state=1), model__max_depth=10, model__n_estimators=8, scaler=RobustScaler(); total time=   2.9s\n",
      "[CV] END model=RandomForestClassifier(random_state=1), model__max_depth=10, model__n_estimators=8, scaler=RobustScaler(); total time=   2.8s\n",
      "[CV] END model=RandomForestClassifier(random_state=1), model__max_depth=10, model__n_estimators=8, scaler=RobustScaler(); total time=   2.7s\n",
      "[CV] END model=RandomForestClassifier(random_state=1), model__max_depth=10, model__n_estimators=9, scaler=RobustScaler(); total time=   2.8s\n",
      "[CV] END model=RandomForestClassifier(random_state=1), model__max_depth=10, model__n_estimators=9, scaler=RobustScaler(); total time=   2.8s\n",
      "[CV] END model=RandomForestClassifier(random_state=1), model__max_depth=10, model__n_estimators=9, scaler=RobustScaler(); total time=   3.0s\n",
      "[CV] END model=RandomForestClassifier(random_state=1), model__max_depth=10, model__n_estimators=9, scaler=RobustScaler(); total time=   3.0s\n",
      "[CV] END model=RandomForestClassifier(random_state=1), model__max_depth=10, model__n_estimators=9, scaler=RobustScaler(); total time=   2.8s\n",
      "[CV] END model=RandomForestClassifier(random_state=1), model__max_depth=12, model__n_estimators=5, scaler=RobustScaler(); total time=   2.6s\n",
      "[CV] END model=RandomForestClassifier(random_state=1), model__max_depth=12, model__n_estimators=5, scaler=RobustScaler(); total time=   2.5s\n",
      "[CV] END model=RandomForestClassifier(random_state=1), model__max_depth=12, model__n_estimators=5, scaler=RobustScaler(); total time=   2.8s\n",
      "[CV] END model=RandomForestClassifier(random_state=1), model__max_depth=12, model__n_estimators=5, scaler=RobustScaler(); total time=   2.8s\n",
      "[CV] END model=RandomForestClassifier(random_state=1), model__max_depth=12, model__n_estimators=5, scaler=RobustScaler(); total time=   2.7s\n",
      "[CV] END model=RandomForestClassifier(random_state=1), model__max_depth=12, model__n_estimators=6, scaler=RobustScaler(); total time=   3.0s\n",
      "[CV] END model=RandomForestClassifier(random_state=1), model__max_depth=12, model__n_estimators=6, scaler=RobustScaler(); total time=   2.8s\n",
      "[CV] END model=RandomForestClassifier(random_state=1), model__max_depth=12, model__n_estimators=6, scaler=RobustScaler(); total time=   2.8s\n",
      "[CV] END model=RandomForestClassifier(random_state=1), model__max_depth=12, model__n_estimators=6, scaler=RobustScaler(); total time=   3.0s\n",
      "[CV] END model=RandomForestClassifier(random_state=1), model__max_depth=12, model__n_estimators=6, scaler=RobustScaler(); total time=   2.9s\n",
      "[CV] END model=RandomForestClassifier(random_state=1), model__max_depth=12, model__n_estimators=7, scaler=RobustScaler(); total time=   4.0s\n",
      "[CV] END model=RandomForestClassifier(random_state=1), model__max_depth=12, model__n_estimators=7, scaler=RobustScaler(); total time=   3.4s\n",
      "[CV] END model=RandomForestClassifier(random_state=1), model__max_depth=12, model__n_estimators=7, scaler=RobustScaler(); total time=   3.2s\n",
      "[CV] END model=RandomForestClassifier(random_state=1), model__max_depth=12, model__n_estimators=7, scaler=RobustScaler(); total time=   3.5s\n",
      "[CV] END model=RandomForestClassifier(random_state=1), model__max_depth=12, model__n_estimators=7, scaler=RobustScaler(); total time=   3.2s\n",
      "[CV] END model=RandomForestClassifier(random_state=1), model__max_depth=12, model__n_estimators=8, scaler=RobustScaler(); total time=   3.1s\n",
      "[CV] END model=RandomForestClassifier(random_state=1), model__max_depth=12, model__n_estimators=8, scaler=RobustScaler(); total time=   3.0s\n",
      "[CV] END model=RandomForestClassifier(random_state=1), model__max_depth=12, model__n_estimators=8, scaler=RobustScaler(); total time=   3.3s\n",
      "[CV] END model=RandomForestClassifier(random_state=1), model__max_depth=12, model__n_estimators=8, scaler=RobustScaler(); total time=   3.0s\n",
      "[CV] END model=RandomForestClassifier(random_state=1), model__max_depth=12, model__n_estimators=8, scaler=RobustScaler(); total time=   2.7s\n",
      "[CV] END model=RandomForestClassifier(random_state=1), model__max_depth=12, model__n_estimators=9, scaler=RobustScaler(); total time=   2.7s\n",
      "[CV] END model=RandomForestClassifier(random_state=1), model__max_depth=12, model__n_estimators=9, scaler=RobustScaler(); total time=   2.8s\n",
      "[CV] END model=RandomForestClassifier(random_state=1), model__max_depth=12, model__n_estimators=9, scaler=RobustScaler(); total time=   2.9s\n",
      "[CV] END model=RandomForestClassifier(random_state=1), model__max_depth=12, model__n_estimators=9, scaler=RobustScaler(); total time=   2.7s\n",
      "[CV] END model=RandomForestClassifier(random_state=1), model__max_depth=12, model__n_estimators=9, scaler=RobustScaler(); total time=   2.4s\n",
      "[CV] END model=RandomForestClassifier(random_state=1), model__max_depth=14, model__n_estimators=5, scaler=RobustScaler(); total time=   2.0s\n",
      "[CV] END model=RandomForestClassifier(random_state=1), model__max_depth=14, model__n_estimators=5, scaler=RobustScaler(); total time=   2.0s\n",
      "[CV] END model=RandomForestClassifier(random_state=1), model__max_depth=14, model__n_estimators=5, scaler=RobustScaler(); total time=   2.0s\n",
      "[CV] END model=RandomForestClassifier(random_state=1), model__max_depth=14, model__n_estimators=5, scaler=RobustScaler(); total time=   2.1s\n",
      "[CV] END model=RandomForestClassifier(random_state=1), model__max_depth=14, model__n_estimators=5, scaler=RobustScaler(); total time=   2.3s\n",
      "[CV] END model=RandomForestClassifier(random_state=1), model__max_depth=14, model__n_estimators=6, scaler=RobustScaler(); total time=   2.4s\n",
      "[CV] END model=RandomForestClassifier(random_state=1), model__max_depth=14, model__n_estimators=6, scaler=RobustScaler(); total time=   2.3s\n",
      "[CV] END model=RandomForestClassifier(random_state=1), model__max_depth=14, model__n_estimators=6, scaler=RobustScaler(); total time=   2.2s\n"
     ]
    },
    {
     "name": "stdout",
     "output_type": "stream",
     "text": [
      "[CV] END model=RandomForestClassifier(random_state=1), model__max_depth=14, model__n_estimators=6, scaler=RobustScaler(); total time=   2.1s\n",
      "[CV] END model=RandomForestClassifier(random_state=1), model__max_depth=14, model__n_estimators=6, scaler=RobustScaler(); total time=   2.2s\n",
      "[CV] END model=RandomForestClassifier(random_state=1), model__max_depth=14, model__n_estimators=7, scaler=RobustScaler(); total time=   2.2s\n",
      "[CV] END model=RandomForestClassifier(random_state=1), model__max_depth=14, model__n_estimators=7, scaler=RobustScaler(); total time=   2.3s\n",
      "[CV] END model=RandomForestClassifier(random_state=1), model__max_depth=14, model__n_estimators=7, scaler=RobustScaler(); total time=   2.4s\n",
      "[CV] END model=RandomForestClassifier(random_state=1), model__max_depth=14, model__n_estimators=7, scaler=RobustScaler(); total time=   2.2s\n",
      "[CV] END model=RandomForestClassifier(random_state=1), model__max_depth=14, model__n_estimators=7, scaler=RobustScaler(); total time=   2.4s\n",
      "[CV] END model=RandomForestClassifier(random_state=1), model__max_depth=14, model__n_estimators=8, scaler=RobustScaler(); total time=   2.4s\n",
      "[CV] END model=RandomForestClassifier(random_state=1), model__max_depth=14, model__n_estimators=8, scaler=RobustScaler(); total time=   2.3s\n",
      "[CV] END model=RandomForestClassifier(random_state=1), model__max_depth=14, model__n_estimators=8, scaler=RobustScaler(); total time=   2.5s\n",
      "[CV] END model=RandomForestClassifier(random_state=1), model__max_depth=14, model__n_estimators=8, scaler=RobustScaler(); total time=   2.5s\n",
      "[CV] END model=RandomForestClassifier(random_state=1), model__max_depth=14, model__n_estimators=8, scaler=RobustScaler(); total time=   2.4s\n",
      "[CV] END model=RandomForestClassifier(random_state=1), model__max_depth=14, model__n_estimators=9, scaler=RobustScaler(); total time=   2.5s\n",
      "[CV] END model=RandomForestClassifier(random_state=1), model__max_depth=14, model__n_estimators=9, scaler=RobustScaler(); total time=   2.5s\n",
      "[CV] END model=RandomForestClassifier(random_state=1), model__max_depth=14, model__n_estimators=9, scaler=RobustScaler(); total time=   2.5s\n",
      "[CV] END model=RandomForestClassifier(random_state=1), model__max_depth=14, model__n_estimators=9, scaler=RobustScaler(); total time=   2.7s\n",
      "[CV] END model=RandomForestClassifier(random_state=1), model__max_depth=14, model__n_estimators=9, scaler=RobustScaler(); total time=   2.6s\n",
      "[CV] END model=RandomForestClassifier(random_state=1), model__max_depth=16, model__n_estimators=5, scaler=RobustScaler(); total time=   2.2s\n",
      "[CV] END model=RandomForestClassifier(random_state=1), model__max_depth=16, model__n_estimators=5, scaler=RobustScaler(); total time=   2.0s\n",
      "[CV] END model=RandomForestClassifier(random_state=1), model__max_depth=16, model__n_estimators=5, scaler=RobustScaler(); total time=   2.1s\n",
      "[CV] END model=RandomForestClassifier(random_state=1), model__max_depth=16, model__n_estimators=5, scaler=RobustScaler(); total time=   2.0s\n",
      "[CV] END model=RandomForestClassifier(random_state=1), model__max_depth=16, model__n_estimators=5, scaler=RobustScaler(); total time=   2.2s\n",
      "[CV] END model=RandomForestClassifier(random_state=1), model__max_depth=16, model__n_estimators=6, scaler=RobustScaler(); total time=   2.3s\n",
      "[CV] END model=RandomForestClassifier(random_state=1), model__max_depth=16, model__n_estimators=6, scaler=RobustScaler(); total time=   2.4s\n",
      "[CV] END model=RandomForestClassifier(random_state=1), model__max_depth=16, model__n_estimators=6, scaler=RobustScaler(); total time=   2.1s\n",
      "[CV] END model=RandomForestClassifier(random_state=1), model__max_depth=16, model__n_estimators=6, scaler=RobustScaler(); total time=   2.1s\n",
      "[CV] END model=RandomForestClassifier(random_state=1), model__max_depth=16, model__n_estimators=6, scaler=RobustScaler(); total time=   2.1s\n",
      "[CV] END model=RandomForestClassifier(random_state=1), model__max_depth=16, model__n_estimators=7, scaler=RobustScaler(); total time=   2.3s\n",
      "[CV] END model=RandomForestClassifier(random_state=1), model__max_depth=16, model__n_estimators=7, scaler=RobustScaler(); total time=   2.3s\n",
      "[CV] END model=RandomForestClassifier(random_state=1), model__max_depth=16, model__n_estimators=7, scaler=RobustScaler(); total time=   2.5s\n",
      "[CV] END model=RandomForestClassifier(random_state=1), model__max_depth=16, model__n_estimators=7, scaler=RobustScaler(); total time=   2.3s\n",
      "[CV] END model=RandomForestClassifier(random_state=1), model__max_depth=16, model__n_estimators=7, scaler=RobustScaler(); total time=   2.2s\n",
      "[CV] END model=RandomForestClassifier(random_state=1), model__max_depth=16, model__n_estimators=8, scaler=RobustScaler(); total time=   2.3s\n",
      "[CV] END model=RandomForestClassifier(random_state=1), model__max_depth=16, model__n_estimators=8, scaler=RobustScaler(); total time=   2.3s\n",
      "[CV] END model=RandomForestClassifier(random_state=1), model__max_depth=16, model__n_estimators=8, scaler=RobustScaler(); total time=   2.3s\n",
      "[CV] END model=RandomForestClassifier(random_state=1), model__max_depth=16, model__n_estimators=8, scaler=RobustScaler(); total time=   2.7s\n",
      "[CV] END model=RandomForestClassifier(random_state=1), model__max_depth=16, model__n_estimators=8, scaler=RobustScaler(); total time=   2.6s\n",
      "[CV] END model=RandomForestClassifier(random_state=1), model__max_depth=16, model__n_estimators=9, scaler=RobustScaler(); total time=   2.4s\n",
      "[CV] END model=RandomForestClassifier(random_state=1), model__max_depth=16, model__n_estimators=9, scaler=RobustScaler(); total time=   2.4s\n",
      "[CV] END model=RandomForestClassifier(random_state=1), model__max_depth=16, model__n_estimators=9, scaler=RobustScaler(); total time=   2.4s\n",
      "[CV] END model=RandomForestClassifier(random_state=1), model__max_depth=16, model__n_estimators=9, scaler=RobustScaler(); total time=   2.5s\n",
      "[CV] END model=RandomForestClassifier(random_state=1), model__max_depth=16, model__n_estimators=9, scaler=RobustScaler(); total time=   2.7s\n",
      "[CV] END model=RandomForestClassifier(random_state=1), model__max_depth=18, model__n_estimators=5, scaler=RobustScaler(); total time=   2.2s\n",
      "[CV] END model=RandomForestClassifier(random_state=1), model__max_depth=18, model__n_estimators=5, scaler=RobustScaler(); total time=   2.3s\n",
      "[CV] END model=RandomForestClassifier(random_state=1), model__max_depth=18, model__n_estimators=5, scaler=RobustScaler(); total time=   2.1s\n",
      "[CV] END model=RandomForestClassifier(random_state=1), model__max_depth=18, model__n_estimators=5, scaler=RobustScaler(); total time=   2.2s\n",
      "[CV] END model=RandomForestClassifier(random_state=1), model__max_depth=18, model__n_estimators=5, scaler=RobustScaler(); total time=   2.2s\n",
      "[CV] END model=RandomForestClassifier(random_state=1), model__max_depth=18, model__n_estimators=6, scaler=RobustScaler(); total time=   2.4s\n",
      "[CV] END model=RandomForestClassifier(random_state=1), model__max_depth=18, model__n_estimators=6, scaler=RobustScaler(); total time=   2.6s\n",
      "[CV] END model=RandomForestClassifier(random_state=1), model__max_depth=18, model__n_estimators=6, scaler=RobustScaler(); total time=   2.3s\n",
      "[CV] END model=RandomForestClassifier(random_state=1), model__max_depth=18, model__n_estimators=6, scaler=RobustScaler(); total time=   2.3s\n",
      "[CV] END model=RandomForestClassifier(random_state=1), model__max_depth=18, model__n_estimators=6, scaler=RobustScaler(); total time=   2.2s\n",
      "[CV] END model=RandomForestClassifier(random_state=1), model__max_depth=18, model__n_estimators=7, scaler=RobustScaler(); total time=   2.3s\n",
      "[CV] END model=RandomForestClassifier(random_state=1), model__max_depth=18, model__n_estimators=7, scaler=RobustScaler(); total time=   3.3s\n",
      "[CV] END model=RandomForestClassifier(random_state=1), model__max_depth=18, model__n_estimators=7, scaler=RobustScaler(); total time=   4.5s\n",
      "[CV] END model=RandomForestClassifier(random_state=1), model__max_depth=18, model__n_estimators=7, scaler=RobustScaler(); total time=   4.4s\n",
      "[CV] END model=RandomForestClassifier(random_state=1), model__max_depth=18, model__n_estimators=7, scaler=RobustScaler(); total time=   4.2s\n",
      "[CV] END model=RandomForestClassifier(random_state=1), model__max_depth=18, model__n_estimators=8, scaler=RobustScaler(); total time=   4.5s\n",
      "[CV] END model=RandomForestClassifier(random_state=1), model__max_depth=18, model__n_estimators=8, scaler=RobustScaler(); total time=   4.2s\n"
     ]
    },
    {
     "name": "stdout",
     "output_type": "stream",
     "text": [
      "[CV] END model=RandomForestClassifier(random_state=1), model__max_depth=18, model__n_estimators=8, scaler=RobustScaler(); total time=   3.5s\n",
      "[CV] END model=RandomForestClassifier(random_state=1), model__max_depth=18, model__n_estimators=8, scaler=RobustScaler(); total time=   3.3s\n",
      "[CV] END model=RandomForestClassifier(random_state=1), model__max_depth=18, model__n_estimators=8, scaler=RobustScaler(); total time=   3.5s\n",
      "[CV] END model=RandomForestClassifier(random_state=1), model__max_depth=18, model__n_estimators=9, scaler=RobustScaler(); total time=   3.3s\n",
      "[CV] END model=RandomForestClassifier(random_state=1), model__max_depth=18, model__n_estimators=9, scaler=RobustScaler(); total time=   3.4s\n",
      "[CV] END model=RandomForestClassifier(random_state=1), model__max_depth=18, model__n_estimators=9, scaler=RobustScaler(); total time=   4.1s\n",
      "[CV] END model=RandomForestClassifier(random_state=1), model__max_depth=18, model__n_estimators=9, scaler=RobustScaler(); total time=   4.0s\n",
      "[CV] END model=RandomForestClassifier(random_state=1), model__max_depth=18, model__n_estimators=9, scaler=RobustScaler(); total time=   3.2s\n"
     ]
    }
   ],
   "source": [
    "# Fit the grid search \n",
    "rf_fitted_grid = rf_grid.fit(X_train, y_train.values.ravel())"
   ]
  },
  {
   "cell_type": "code",
   "execution_count": 27,
   "id": "30e10a6a",
   "metadata": {},
   "outputs": [
    {
     "name": "stdout",
     "output_type": "stream",
     "text": [
      "best score: 0.6684513273038234\n",
      "best parameters: {'model': RandomForestClassifier(max_depth=18, n_estimators=9, random_state=1), 'model__max_depth': 18, 'model__n_estimators': 9, 'scaler': RobustScaler()}\n"
     ]
    }
   ],
   "source": [
    "# best score\n",
    "print(f\"best score: {rf_fitted_grid.best_score_}\")\n",
    "\n",
    "# best parameters\n",
    "print(f\"best parameters: {rf_fitted_grid.best_params_}\")"
   ]
  },
  {
   "cell_type": "code",
   "execution_count": 28,
   "id": "5f2ff8fb",
   "metadata": {},
   "outputs": [],
   "source": [
    "# XGBoost\n",
    "xgb_param_grid = {\n",
    "    'scaler': [RobustScaler()],\n",
    "    'model': [XGBClassifier(random_state = 1)],\n",
    "    'model__n_estimators': range(50, 53, 2),\n",
    "    'model__max_depth': range(8, 11, 2),\n",
    "    'model__learning_rate': [0.5, 1]\n",
    "}"
   ]
  },
  {
   "cell_type": "code",
   "execution_count": 29,
   "id": "07d574ff",
   "metadata": {},
   "outputs": [],
   "source": [
    "# Instantiate the grid search for each model\n",
    "xgb_grid = GridSearchCV(my_pipe, param_grid =xgb_param_grid, cv = 5, verbose = 2)"
   ]
  },
  {
   "cell_type": "code",
   "execution_count": null,
   "id": "f71bb7f8",
   "metadata": {},
   "outputs": [
    {
     "name": "stdout",
     "output_type": "stream",
     "text": [
      "Fitting 5 folds for each of 8 candidates, totalling 40 fits\n",
      "[CV] END model=XGBClassifier(base_score=None, booster=None, colsample_bylevel=None,\n",
      "              colsample_bynode=None, colsample_bytree=None, gamma=None,\n",
      "              gpu_id=None, importance_type='gain', interaction_constraints=None,\n",
      "              learning_rate=None, max_delta_step=None, max_depth=None,\n",
      "              min_child_weight=None, missing=nan, monotone_constraints=None,\n",
      "              n_estimators=100, n_jobs=None, num_parallel_tree=None,\n",
      "              random_state=1, reg_alpha=None, reg_lambda=None,\n",
      "              scale_pos_weight=None, subsample=None, tree_method=None,\n",
      "              validate_parameters=None, verbosity=None), model__learning_rate=0.5, model__max_depth=8, model__n_estimators=50, scaler=RobustScaler(); total time= 1.1min\n",
      "[CV] END model=XGBClassifier(base_score=None, booster=None, colsample_bylevel=None,\n",
      "              colsample_bynode=None, colsample_bytree=None, gamma=None,\n",
      "              gpu_id=None, importance_type='gain', interaction_constraints=None,\n",
      "              learning_rate=None, max_delta_step=None, max_depth=None,\n",
      "              min_child_weight=None, missing=nan, monotone_constraints=None,\n",
      "              n_estimators=100, n_jobs=None, num_parallel_tree=None,\n",
      "              random_state=1, reg_alpha=None, reg_lambda=None,\n",
      "              scale_pos_weight=None, subsample=None, tree_method=None,\n",
      "              validate_parameters=None, verbosity=None), model__learning_rate=0.5, model__max_depth=8, model__n_estimators=50, scaler=RobustScaler(); total time= 1.1min\n",
      "[CV] END model=XGBClassifier(base_score=None, booster=None, colsample_bylevel=None,\n",
      "              colsample_bynode=None, colsample_bytree=None, gamma=None,\n",
      "              gpu_id=None, importance_type='gain', interaction_constraints=None,\n",
      "              learning_rate=None, max_delta_step=None, max_depth=None,\n",
      "              min_child_weight=None, missing=nan, monotone_constraints=None,\n",
      "              n_estimators=100, n_jobs=None, num_parallel_tree=None,\n",
      "              random_state=1, reg_alpha=None, reg_lambda=None,\n",
      "              scale_pos_weight=None, subsample=None, tree_method=None,\n",
      "              validate_parameters=None, verbosity=None), model__learning_rate=0.5, model__max_depth=8, model__n_estimators=50, scaler=RobustScaler(); total time= 1.1min\n",
      "[CV] END model=XGBClassifier(base_score=None, booster=None, colsample_bylevel=None,\n",
      "              colsample_bynode=None, colsample_bytree=None, gamma=None,\n",
      "              gpu_id=None, importance_type='gain', interaction_constraints=None,\n",
      "              learning_rate=None, max_delta_step=None, max_depth=None,\n",
      "              min_child_weight=None, missing=nan, monotone_constraints=None,\n",
      "              n_estimators=100, n_jobs=None, num_parallel_tree=None,\n",
      "              random_state=1, reg_alpha=None, reg_lambda=None,\n",
      "              scale_pos_weight=None, subsample=None, tree_method=None,\n",
      "              validate_parameters=None, verbosity=None), model__learning_rate=0.5, model__max_depth=8, model__n_estimators=50, scaler=RobustScaler(); total time= 1.1min\n",
      "[CV] END model=XGBClassifier(base_score=None, booster=None, colsample_bylevel=None,\n",
      "              colsample_bynode=None, colsample_bytree=None, gamma=None,\n",
      "              gpu_id=None, importance_type='gain', interaction_constraints=None,\n",
      "              learning_rate=None, max_delta_step=None, max_depth=None,\n",
      "              min_child_weight=None, missing=nan, monotone_constraints=None,\n",
      "              n_estimators=100, n_jobs=None, num_parallel_tree=None,\n",
      "              random_state=1, reg_alpha=None, reg_lambda=None,\n",
      "              scale_pos_weight=None, subsample=None, tree_method=None,\n",
      "              validate_parameters=None, verbosity=None), model__learning_rate=0.5, model__max_depth=8, model__n_estimators=50, scaler=RobustScaler(); total time= 1.2min\n",
      "[CV] END model=XGBClassifier(base_score=None, booster=None, colsample_bylevel=None,\n",
      "              colsample_bynode=None, colsample_bytree=None, gamma=None,\n",
      "              gpu_id=None, importance_type='gain', interaction_constraints=None,\n",
      "              learning_rate=None, max_delta_step=None, max_depth=None,\n",
      "              min_child_weight=None, missing=nan, monotone_constraints=None,\n",
      "              n_estimators=100, n_jobs=None, num_parallel_tree=None,\n",
      "              random_state=1, reg_alpha=None, reg_lambda=None,\n",
      "              scale_pos_weight=None, subsample=None, tree_method=None,\n",
      "              validate_parameters=None, verbosity=None), model__learning_rate=0.5, model__max_depth=8, model__n_estimators=52, scaler=RobustScaler(); total time= 1.2min\n",
      "[CV] END model=XGBClassifier(base_score=None, booster=None, colsample_bylevel=None,\n",
      "              colsample_bynode=None, colsample_bytree=None, gamma=None,\n",
      "              gpu_id=None, importance_type='gain', interaction_constraints=None,\n",
      "              learning_rate=None, max_delta_step=None, max_depth=None,\n",
      "              min_child_weight=None, missing=nan, monotone_constraints=None,\n",
      "              n_estimators=100, n_jobs=None, num_parallel_tree=None,\n",
      "              random_state=1, reg_alpha=None, reg_lambda=None,\n",
      "              scale_pos_weight=None, subsample=None, tree_method=None,\n",
      "              validate_parameters=None, verbosity=None), model__learning_rate=0.5, model__max_depth=8, model__n_estimators=52, scaler=RobustScaler(); total time= 1.2min\n",
      "[CV] END model=XGBClassifier(base_score=None, booster=None, colsample_bylevel=None,\n",
      "              colsample_bynode=None, colsample_bytree=None, gamma=None,\n",
      "              gpu_id=None, importance_type='gain', interaction_constraints=None,\n",
      "              learning_rate=None, max_delta_step=None, max_depth=None,\n",
      "              min_child_weight=None, missing=nan, monotone_constraints=None,\n",
      "              n_estimators=100, n_jobs=None, num_parallel_tree=None,\n",
      "              random_state=1, reg_alpha=None, reg_lambda=None,\n",
      "              scale_pos_weight=None, subsample=None, tree_method=None,\n",
      "              validate_parameters=None, verbosity=None), model__learning_rate=0.5, model__max_depth=8, model__n_estimators=52, scaler=RobustScaler(); total time= 1.1min\n",
      "[CV] END model=XGBClassifier(base_score=None, booster=None, colsample_bylevel=None,\n",
      "              colsample_bynode=None, colsample_bytree=None, gamma=None,\n",
      "              gpu_id=None, importance_type='gain', interaction_constraints=None,\n",
      "              learning_rate=None, max_delta_step=None, max_depth=None,\n",
      "              min_child_weight=None, missing=nan, monotone_constraints=None,\n",
      "              n_estimators=100, n_jobs=None, num_parallel_tree=None,\n",
      "              random_state=1, reg_alpha=None, reg_lambda=None,\n",
      "              scale_pos_weight=None, subsample=None, tree_method=None,\n",
      "              validate_parameters=None, verbosity=None), model__learning_rate=0.5, model__max_depth=8, model__n_estimators=52, scaler=RobustScaler(); total time= 1.2min\n",
      "[CV] END model=XGBClassifier(base_score=None, booster=None, colsample_bylevel=None,\n",
      "              colsample_bynode=None, colsample_bytree=None, gamma=None,\n",
      "              gpu_id=None, importance_type='gain', interaction_constraints=None,\n",
      "              learning_rate=None, max_delta_step=None, max_depth=None,\n",
      "              min_child_weight=None, missing=nan, monotone_constraints=None,\n",
      "              n_estimators=100, n_jobs=None, num_parallel_tree=None,\n",
      "              random_state=1, reg_alpha=None, reg_lambda=None,\n",
      "              scale_pos_weight=None, subsample=None, tree_method=None,\n",
      "              validate_parameters=None, verbosity=None), model__learning_rate=0.5, model__max_depth=8, model__n_estimators=52, scaler=RobustScaler(); total time= 1.2min\n",
      "[CV] END model=XGBClassifier(base_score=None, booster=None, colsample_bylevel=None,\n",
      "              colsample_bynode=None, colsample_bytree=None, gamma=None,\n",
      "              gpu_id=None, importance_type='gain', interaction_constraints=None,\n",
      "              learning_rate=None, max_delta_step=None, max_depth=None,\n",
      "              min_child_weight=None, missing=nan, monotone_constraints=None,\n",
      "              n_estimators=100, n_jobs=None, num_parallel_tree=None,\n",
      "              random_state=1, reg_alpha=None, reg_lambda=None,\n",
      "              scale_pos_weight=None, subsample=None, tree_method=None,\n",
      "              validate_parameters=None, verbosity=None), model__learning_rate=0.5, model__max_depth=10, model__n_estimators=50, scaler=RobustScaler(); total time= 1.3min\n"
     ]
    },
    {
     "name": "stdout",
     "output_type": "stream",
     "text": [
      "[CV] END model=XGBClassifier(base_score=None, booster=None, colsample_bylevel=None,\n",
      "              colsample_bynode=None, colsample_bytree=None, gamma=None,\n",
      "              gpu_id=None, importance_type='gain', interaction_constraints=None,\n",
      "              learning_rate=None, max_delta_step=None, max_depth=None,\n",
      "              min_child_weight=None, missing=nan, monotone_constraints=None,\n",
      "              n_estimators=100, n_jobs=None, num_parallel_tree=None,\n",
      "              random_state=1, reg_alpha=None, reg_lambda=None,\n",
      "              scale_pos_weight=None, subsample=None, tree_method=None,\n",
      "              validate_parameters=None, verbosity=None), model__learning_rate=0.5, model__max_depth=10, model__n_estimators=50, scaler=RobustScaler(); total time= 1.3min\n",
      "[CV] END model=XGBClassifier(base_score=None, booster=None, colsample_bylevel=None,\n",
      "              colsample_bynode=None, colsample_bytree=None, gamma=None,\n",
      "              gpu_id=None, importance_type='gain', interaction_constraints=None,\n",
      "              learning_rate=None, max_delta_step=None, max_depth=None,\n",
      "              min_child_weight=None, missing=nan, monotone_constraints=None,\n",
      "              n_estimators=100, n_jobs=None, num_parallel_tree=None,\n",
      "              random_state=1, reg_alpha=None, reg_lambda=None,\n",
      "              scale_pos_weight=None, subsample=None, tree_method=None,\n",
      "              validate_parameters=None, verbosity=None), model__learning_rate=0.5, model__max_depth=10, model__n_estimators=50, scaler=RobustScaler(); total time= 1.3min\n",
      "[CV] END model=XGBClassifier(base_score=None, booster=None, colsample_bylevel=None,\n",
      "              colsample_bynode=None, colsample_bytree=None, gamma=None,\n",
      "              gpu_id=None, importance_type='gain', interaction_constraints=None,\n",
      "              learning_rate=None, max_delta_step=None, max_depth=None,\n",
      "              min_child_weight=None, missing=nan, monotone_constraints=None,\n",
      "              n_estimators=100, n_jobs=None, num_parallel_tree=None,\n",
      "              random_state=1, reg_alpha=None, reg_lambda=None,\n",
      "              scale_pos_weight=None, subsample=None, tree_method=None,\n",
      "              validate_parameters=None, verbosity=None), model__learning_rate=0.5, model__max_depth=10, model__n_estimators=50, scaler=RobustScaler(); total time= 1.4min\n",
      "[CV] END model=XGBClassifier(base_score=None, booster=None, colsample_bylevel=None,\n",
      "              colsample_bynode=None, colsample_bytree=None, gamma=None,\n",
      "              gpu_id=None, importance_type='gain', interaction_constraints=None,\n",
      "              learning_rate=None, max_delta_step=None, max_depth=None,\n",
      "              min_child_weight=None, missing=nan, monotone_constraints=None,\n",
      "              n_estimators=100, n_jobs=None, num_parallel_tree=None,\n",
      "              random_state=1, reg_alpha=None, reg_lambda=None,\n",
      "              scale_pos_weight=None, subsample=None, tree_method=None,\n",
      "              validate_parameters=None, verbosity=None), model__learning_rate=0.5, model__max_depth=10, model__n_estimators=50, scaler=RobustScaler(); total time= 1.3min\n",
      "[CV] END model=XGBClassifier(base_score=None, booster=None, colsample_bylevel=None,\n",
      "              colsample_bynode=None, colsample_bytree=None, gamma=None,\n",
      "              gpu_id=None, importance_type='gain', interaction_constraints=None,\n",
      "              learning_rate=None, max_delta_step=None, max_depth=None,\n",
      "              min_child_weight=None, missing=nan, monotone_constraints=None,\n",
      "              n_estimators=100, n_jobs=None, num_parallel_tree=None,\n",
      "              random_state=1, reg_alpha=None, reg_lambda=None,\n",
      "              scale_pos_weight=None, subsample=None, tree_method=None,\n",
      "              validate_parameters=None, verbosity=None), model__learning_rate=0.5, model__max_depth=10, model__n_estimators=52, scaler=RobustScaler(); total time= 1.4min\n",
      "[CV] END model=XGBClassifier(base_score=None, booster=None, colsample_bylevel=None,\n",
      "              colsample_bynode=None, colsample_bytree=None, gamma=None,\n",
      "              gpu_id=None, importance_type='gain', interaction_constraints=None,\n",
      "              learning_rate=None, max_delta_step=None, max_depth=None,\n",
      "              min_child_weight=None, missing=nan, monotone_constraints=None,\n",
      "              n_estimators=100, n_jobs=None, num_parallel_tree=None,\n",
      "              random_state=1, reg_alpha=None, reg_lambda=None,\n",
      "              scale_pos_weight=None, subsample=None, tree_method=None,\n",
      "              validate_parameters=None, verbosity=None), model__learning_rate=0.5, model__max_depth=10, model__n_estimators=52, scaler=RobustScaler(); total time= 1.3min\n",
      "[CV] END model=XGBClassifier(base_score=None, booster=None, colsample_bylevel=None,\n",
      "              colsample_bynode=None, colsample_bytree=None, gamma=None,\n",
      "              gpu_id=None, importance_type='gain', interaction_constraints=None,\n",
      "              learning_rate=None, max_delta_step=None, max_depth=None,\n",
      "              min_child_weight=None, missing=nan, monotone_constraints=None,\n",
      "              n_estimators=100, n_jobs=None, num_parallel_tree=None,\n",
      "              random_state=1, reg_alpha=None, reg_lambda=None,\n",
      "              scale_pos_weight=None, subsample=None, tree_method=None,\n",
      "              validate_parameters=None, verbosity=None), model__learning_rate=0.5, model__max_depth=10, model__n_estimators=52, scaler=RobustScaler(); total time= 1.4min\n",
      "[CV] END model=XGBClassifier(base_score=None, booster=None, colsample_bylevel=None,\n",
      "              colsample_bynode=None, colsample_bytree=None, gamma=None,\n",
      "              gpu_id=None, importance_type='gain', interaction_constraints=None,\n",
      "              learning_rate=None, max_delta_step=None, max_depth=None,\n",
      "              min_child_weight=None, missing=nan, monotone_constraints=None,\n",
      "              n_estimators=100, n_jobs=None, num_parallel_tree=None,\n",
      "              random_state=1, reg_alpha=None, reg_lambda=None,\n",
      "              scale_pos_weight=None, subsample=None, tree_method=None,\n",
      "              validate_parameters=None, verbosity=None), model__learning_rate=0.5, model__max_depth=10, model__n_estimators=52, scaler=RobustScaler(); total time= 1.4min\n",
      "[CV] END model=XGBClassifier(base_score=None, booster=None, colsample_bylevel=None,\n",
      "              colsample_bynode=None, colsample_bytree=None, gamma=None,\n",
      "              gpu_id=None, importance_type='gain', interaction_constraints=None,\n",
      "              learning_rate=None, max_delta_step=None, max_depth=None,\n",
      "              min_child_weight=None, missing=nan, monotone_constraints=None,\n",
      "              n_estimators=100, n_jobs=None, num_parallel_tree=None,\n",
      "              random_state=1, reg_alpha=None, reg_lambda=None,\n",
      "              scale_pos_weight=None, subsample=None, tree_method=None,\n",
      "              validate_parameters=None, verbosity=None), model__learning_rate=0.5, model__max_depth=10, model__n_estimators=52, scaler=RobustScaler(); total time= 1.4min\n",
      "[CV] END model=XGBClassifier(base_score=None, booster=None, colsample_bylevel=None,\n",
      "              colsample_bynode=None, colsample_bytree=None, gamma=None,\n",
      "              gpu_id=None, importance_type='gain', interaction_constraints=None,\n",
      "              learning_rate=None, max_delta_step=None, max_depth=None,\n",
      "              min_child_weight=None, missing=nan, monotone_constraints=None,\n",
      "              n_estimators=100, n_jobs=None, num_parallel_tree=None,\n",
      "              random_state=1, reg_alpha=None, reg_lambda=None,\n",
      "              scale_pos_weight=None, subsample=None, tree_method=None,\n",
      "              validate_parameters=None, verbosity=None), model__learning_rate=1, model__max_depth=8, model__n_estimators=50, scaler=RobustScaler(); total time= 1.1min\n",
      "[CV] END model=XGBClassifier(base_score=None, booster=None, colsample_bylevel=None,\n",
      "              colsample_bynode=None, colsample_bytree=None, gamma=None,\n",
      "              gpu_id=None, importance_type='gain', interaction_constraints=None,\n",
      "              learning_rate=None, max_delta_step=None, max_depth=None,\n",
      "              min_child_weight=None, missing=nan, monotone_constraints=None,\n",
      "              n_estimators=100, n_jobs=None, num_parallel_tree=None,\n",
      "              random_state=1, reg_alpha=None, reg_lambda=None,\n",
      "              scale_pos_weight=None, subsample=None, tree_method=None,\n",
      "              validate_parameters=None, verbosity=None), model__learning_rate=1, model__max_depth=8, model__n_estimators=50, scaler=RobustScaler(); total time= 1.1min\n"
     ]
    },
    {
     "name": "stdout",
     "output_type": "stream",
     "text": [
      "[CV] END model=XGBClassifier(base_score=None, booster=None, colsample_bylevel=None,\n",
      "              colsample_bynode=None, colsample_bytree=None, gamma=None,\n",
      "              gpu_id=None, importance_type='gain', interaction_constraints=None,\n",
      "              learning_rate=None, max_delta_step=None, max_depth=None,\n",
      "              min_child_weight=None, missing=nan, monotone_constraints=None,\n",
      "              n_estimators=100, n_jobs=None, num_parallel_tree=None,\n",
      "              random_state=1, reg_alpha=None, reg_lambda=None,\n",
      "              scale_pos_weight=None, subsample=None, tree_method=None,\n",
      "              validate_parameters=None, verbosity=None), model__learning_rate=1, model__max_depth=8, model__n_estimators=50, scaler=RobustScaler(); total time=  59.8s\n",
      "[CV] END model=XGBClassifier(base_score=None, booster=None, colsample_bylevel=None,\n",
      "              colsample_bynode=None, colsample_bytree=None, gamma=None,\n",
      "              gpu_id=None, importance_type='gain', interaction_constraints=None,\n",
      "              learning_rate=None, max_delta_step=None, max_depth=None,\n",
      "              min_child_weight=None, missing=nan, monotone_constraints=None,\n",
      "              n_estimators=100, n_jobs=None, num_parallel_tree=None,\n",
      "              random_state=1, reg_alpha=None, reg_lambda=None,\n",
      "              scale_pos_weight=None, subsample=None, tree_method=None,\n",
      "              validate_parameters=None, verbosity=None), model__learning_rate=1, model__max_depth=8, model__n_estimators=50, scaler=RobustScaler(); total time= 1.0min\n",
      "[CV] END model=XGBClassifier(base_score=None, booster=None, colsample_bylevel=None,\n",
      "              colsample_bynode=None, colsample_bytree=None, gamma=None,\n",
      "              gpu_id=None, importance_type='gain', interaction_constraints=None,\n",
      "              learning_rate=None, max_delta_step=None, max_depth=None,\n",
      "              min_child_weight=None, missing=nan, monotone_constraints=None,\n",
      "              n_estimators=100, n_jobs=None, num_parallel_tree=None,\n",
      "              random_state=1, reg_alpha=None, reg_lambda=None,\n",
      "              scale_pos_weight=None, subsample=None, tree_method=None,\n",
      "              validate_parameters=None, verbosity=None), model__learning_rate=1, model__max_depth=8, model__n_estimators=50, scaler=RobustScaler(); total time= 1.0min\n",
      "[CV] END model=XGBClassifier(base_score=None, booster=None, colsample_bylevel=None,\n",
      "              colsample_bynode=None, colsample_bytree=None, gamma=None,\n",
      "              gpu_id=None, importance_type='gain', interaction_constraints=None,\n",
      "              learning_rate=None, max_delta_step=None, max_depth=None,\n",
      "              min_child_weight=None, missing=nan, monotone_constraints=None,\n",
      "              n_estimators=100, n_jobs=None, num_parallel_tree=None,\n",
      "              random_state=1, reg_alpha=None, reg_lambda=None,\n",
      "              scale_pos_weight=None, subsample=None, tree_method=None,\n",
      "              validate_parameters=None, verbosity=None), model__learning_rate=1, model__max_depth=8, model__n_estimators=52, scaler=RobustScaler(); total time= 1.0min\n",
      "[CV] END model=XGBClassifier(base_score=None, booster=None, colsample_bylevel=None,\n",
      "              colsample_bynode=None, colsample_bytree=None, gamma=None,\n",
      "              gpu_id=None, importance_type='gain', interaction_constraints=None,\n",
      "              learning_rate=None, max_delta_step=None, max_depth=None,\n",
      "              min_child_weight=None, missing=nan, monotone_constraints=None,\n",
      "              n_estimators=100, n_jobs=None, num_parallel_tree=None,\n",
      "              random_state=1, reg_alpha=None, reg_lambda=None,\n",
      "              scale_pos_weight=None, subsample=None, tree_method=None,\n",
      "              validate_parameters=None, verbosity=None), model__learning_rate=1, model__max_depth=8, model__n_estimators=52, scaler=RobustScaler(); total time= 1.1min\n",
      "[CV] END model=XGBClassifier(base_score=None, booster=None, colsample_bylevel=None,\n",
      "              colsample_bynode=None, colsample_bytree=None, gamma=None,\n",
      "              gpu_id=None, importance_type='gain', interaction_constraints=None,\n",
      "              learning_rate=None, max_delta_step=None, max_depth=None,\n",
      "              min_child_weight=None, missing=nan, monotone_constraints=None,\n",
      "              n_estimators=100, n_jobs=None, num_parallel_tree=None,\n",
      "              random_state=1, reg_alpha=None, reg_lambda=None,\n",
      "              scale_pos_weight=None, subsample=None, tree_method=None,\n",
      "              validate_parameters=None, verbosity=None), model__learning_rate=1, model__max_depth=8, model__n_estimators=52, scaler=RobustScaler(); total time= 1.0min\n",
      "[CV] END model=XGBClassifier(base_score=None, booster=None, colsample_bylevel=None,\n",
      "              colsample_bynode=None, colsample_bytree=None, gamma=None,\n",
      "              gpu_id=None, importance_type='gain', interaction_constraints=None,\n",
      "              learning_rate=None, max_delta_step=None, max_depth=None,\n",
      "              min_child_weight=None, missing=nan, monotone_constraints=None,\n",
      "              n_estimators=100, n_jobs=None, num_parallel_tree=None,\n",
      "              random_state=1, reg_alpha=None, reg_lambda=None,\n",
      "              scale_pos_weight=None, subsample=None, tree_method=None,\n",
      "              validate_parameters=None, verbosity=None), model__learning_rate=1, model__max_depth=8, model__n_estimators=52, scaler=RobustScaler(); total time= 1.0min\n",
      "[CV] END model=XGBClassifier(base_score=None, booster=None, colsample_bylevel=None,\n",
      "              colsample_bynode=None, colsample_bytree=None, gamma=None,\n",
      "              gpu_id=None, importance_type='gain', interaction_constraints=None,\n",
      "              learning_rate=None, max_delta_step=None, max_depth=None,\n",
      "              min_child_weight=None, missing=nan, monotone_constraints=None,\n",
      "              n_estimators=100, n_jobs=None, num_parallel_tree=None,\n",
      "              random_state=1, reg_alpha=None, reg_lambda=None,\n",
      "              scale_pos_weight=None, subsample=None, tree_method=None,\n",
      "              validate_parameters=None, verbosity=None), model__learning_rate=1, model__max_depth=8, model__n_estimators=52, scaler=RobustScaler(); total time= 1.0min\n",
      "[CV] END model=XGBClassifier(base_score=None, booster=None, colsample_bylevel=None,\n",
      "              colsample_bynode=None, colsample_bytree=None, gamma=None,\n",
      "              gpu_id=None, importance_type='gain', interaction_constraints=None,\n",
      "              learning_rate=None, max_delta_step=None, max_depth=None,\n",
      "              min_child_weight=None, missing=nan, monotone_constraints=None,\n",
      "              n_estimators=100, n_jobs=None, num_parallel_tree=None,\n",
      "              random_state=1, reg_alpha=None, reg_lambda=None,\n",
      "              scale_pos_weight=None, subsample=None, tree_method=None,\n",
      "              validate_parameters=None, verbosity=None), model__learning_rate=1, model__max_depth=10, model__n_estimators=50, scaler=RobustScaler(); total time= 1.2min\n",
      "[CV] END model=XGBClassifier(base_score=None, booster=None, colsample_bylevel=None,\n",
      "              colsample_bynode=None, colsample_bytree=None, gamma=None,\n",
      "              gpu_id=None, importance_type='gain', interaction_constraints=None,\n",
      "              learning_rate=None, max_delta_step=None, max_depth=None,\n",
      "              min_child_weight=None, missing=nan, monotone_constraints=None,\n",
      "              n_estimators=100, n_jobs=None, num_parallel_tree=None,\n",
      "              random_state=1, reg_alpha=None, reg_lambda=None,\n",
      "              scale_pos_weight=None, subsample=None, tree_method=None,\n",
      "              validate_parameters=None, verbosity=None), model__learning_rate=1, model__max_depth=10, model__n_estimators=50, scaler=RobustScaler(); total time= 1.2min\n",
      "[CV] END model=XGBClassifier(base_score=None, booster=None, colsample_bylevel=None,\n",
      "              colsample_bynode=None, colsample_bytree=None, gamma=None,\n",
      "              gpu_id=None, importance_type='gain', interaction_constraints=None,\n",
      "              learning_rate=None, max_delta_step=None, max_depth=None,\n",
      "              min_child_weight=None, missing=nan, monotone_constraints=None,\n",
      "              n_estimators=100, n_jobs=None, num_parallel_tree=None,\n",
      "              random_state=1, reg_alpha=None, reg_lambda=None,\n",
      "              scale_pos_weight=None, subsample=None, tree_method=None,\n",
      "              validate_parameters=None, verbosity=None), model__learning_rate=1, model__max_depth=10, model__n_estimators=50, scaler=RobustScaler(); total time= 1.2min\n"
     ]
    },
    {
     "name": "stdout",
     "output_type": "stream",
     "text": [
      "[CV] END model=XGBClassifier(base_score=None, booster=None, colsample_bylevel=None,\n",
      "              colsample_bynode=None, colsample_bytree=None, gamma=None,\n",
      "              gpu_id=None, importance_type='gain', interaction_constraints=None,\n",
      "              learning_rate=None, max_delta_step=None, max_depth=None,\n",
      "              min_child_weight=None, missing=nan, monotone_constraints=None,\n",
      "              n_estimators=100, n_jobs=None, num_parallel_tree=None,\n",
      "              random_state=1, reg_alpha=None, reg_lambda=None,\n",
      "              scale_pos_weight=None, subsample=None, tree_method=None,\n",
      "              validate_parameters=None, verbosity=None), model__learning_rate=1, model__max_depth=10, model__n_estimators=50, scaler=RobustScaler(); total time= 1.2min\n"
     ]
    }
   ],
   "source": [
    "# Fit the grid search for all models\n",
    "xgb_fitted_grid = xgb_grid.fit(X_train, y_train.values.ravel())"
   ]
  },
  {
   "cell_type": "code",
   "execution_count": null,
   "id": "d4ba0575",
   "metadata": {},
   "outputs": [],
   "source": [
    "# best score\n",
    "print(f\"best score: {xgb_fitted_grid.best_score_}\")\n",
    "\n",
    "# best parameters\n",
    "print(f\"best parameters: {xgb_fitted_grid.best_params_}\")"
   ]
  }
 ],
 "metadata": {
  "environment": {
   "kernel": "python3",
   "name": "common-cpu.m109",
   "type": "gcloud",
   "uri": "gcr.io/deeplearning-platform-release/base-cpu:m109"
  },
  "kernelspec": {
   "display_name": "capstone",
   "language": "python",
   "name": "capstone"
  },
  "language_info": {
   "codemirror_mode": {
    "name": "ipython",
    "version": 3
   },
   "file_extension": ".py",
   "mimetype": "text/x-python",
   "name": "python",
   "nbconvert_exporter": "python",
   "pygments_lexer": "ipython3",
   "version": "3.8.16"
  }
 },
 "nbformat": 4,
 "nbformat_minor": 5
}
