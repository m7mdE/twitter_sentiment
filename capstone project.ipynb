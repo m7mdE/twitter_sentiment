{
 "cells": [
  {
   "cell_type": "markdown",
   "id": "301f8149",
   "metadata": {},
   "source": [
    "# Twitter Sentiment Capstone\n",
    "\n",
    "**Author: Mohamed Emran**\n",
    "\n",
    "**Date: 6/26/2023**"
   ]
  },
  {
   "cell_type": "markdown",
   "id": "ac189c8b",
   "metadata": {},
   "source": [
    "# Notebook 1 - Clean-Up and EDA"
   ]
  },
  {
   "cell_type": "markdown",
   "id": "ca7449ce",
   "metadata": {},
   "source": [
    "## Table of Contents\n",
    "\n",
    "1. [Introduction](#Introduction) <br>"
   ]
  },
  {
   "cell_type": "code",
   "execution_count": null,
   "id": "fb4816ae",
   "metadata": {},
   "outputs": [],
   "source": []
  },
  {
   "cell_type": "markdown",
   "id": "f5236dd1",
   "metadata": {},
   "source": [
    "## 1. Introduction\n",
    "\n",
    "### Objective of project:\n",
    "\n",
    "I aim to build an effective machine learning model to identify any negative tweets posted on Twitter\n",
    "\n",
    "### What potential business value does this project bring?\n",
    "\n",
    "This project aims to reduce the negative feedback in real-time in a very short manner. By addressing the negative feedback, which demonstrate their commitment to customer service and satisfaction.\n",
    "\n",
    "### How will this project help/have an impact:\n",
    "\n",
    "- Help to save time and effort by addressing issues in a quickly manner.\n",
    "- Hopefully to be able to integrate the model to training to identify the negative reviews and address it to a customer service."
   ]
  },
  {
   "cell_type": "markdown",
   "id": "3671b4a0",
   "metadata": {},
   "source": [
    "---\n",
    "## 2 - Data Collection\n",
    "\n",
    "#### Source of the data\n",
    "\n",
    "http://help.sentiment140.com/for-students/\n",
    "\n",
    "\"Sentiment140 was created by Alec Go, Richa Bhayani, and Lei Huang, who were Computer Science graduate students at Stanford University.\""
   ]
  },
  {
   "cell_type": "markdown",
   "id": "23681381",
   "metadata": {},
   "source": [
    "#### Data Dictionary:\n",
    "\n",
    "| Column Name |                      Description                     | Data Type |\n",
    "|:-----------:|:----------------------------------------------------:|-----------|\n",
    "|      Id     |              The id of the tweet (2087)              |   int64   |\n",
    "|     Date    | The date of the tweet (Mon Apr 06 22:19:45 UTC 2009) |   object  |\n",
    "|     Flag    |  If there is no query, then this value is NO_QUERY.  |   object  |\n",
    "|     User    |        The user that tweeted (robotickilldozr)       |   object  |\n",
    "|    Tweet    |          The text of the tweet (Lyx is cool)         |   object  |\n",
    "|  Sentiment  |   Sentiment Identifier (0 = Negative, 4 = Positive)  |   int64   |"
   ]
  },
  {
   "cell_type": "code",
   "execution_count": 2,
   "id": "181108a7",
   "metadata": {},
   "outputs": [],
   "source": [
    "# Importing several libraries\n",
    "import pandas as pd\n",
    "import numpy as np\n",
    "import seaborn as sns\n",
    "import matplotlib.pyplot as plt\n",
    "import re"
   ]
  },
  {
   "cell_type": "code",
   "execution_count": 2,
   "id": "ded5f5d1",
   "metadata": {},
   "outputs": [],
   "source": [
    "# df = pd.read_csv(\"twitter_data_emotions.csv\", chunksize=2000000)\n",
    "pd.options.display.max_colwidth = 1000"
   ]
  },
  {
   "cell_type": "markdown",
   "id": "8407d8b3",
   "metadata": {},
   "source": [
    "---\n",
    "## 3 - Data Wrangling"
   ]
  },
  {
   "cell_type": "markdown",
   "id": "beb591da",
   "metadata": {},
   "source": [
    "### Load the data:"
   ]
  },
  {
   "cell_type": "code",
   "execution_count": 3,
   "id": "42d3b0b3",
   "metadata": {},
   "outputs": [],
   "source": [
    "# Read the data file\n",
    "df = pd.read_csv(\"twitter_data_emotions.csv\", header=None, encoding='latin-1')"
   ]
  },
  {
   "cell_type": "code",
   "execution_count": 4,
   "id": "1aae7ede",
   "metadata": {},
   "outputs": [
    {
     "data": {
      "text/html": [
       "<div>\n",
       "<style scoped>\n",
       "    .dataframe tbody tr th:only-of-type {\n",
       "        vertical-align: middle;\n",
       "    }\n",
       "\n",
       "    .dataframe tbody tr th {\n",
       "        vertical-align: top;\n",
       "    }\n",
       "\n",
       "    .dataframe thead th {\n",
       "        text-align: right;\n",
       "    }\n",
       "</style>\n",
       "<table border=\"1\" class=\"dataframe\">\n",
       "  <thead>\n",
       "    <tr style=\"text-align: right;\">\n",
       "      <th></th>\n",
       "      <th>0</th>\n",
       "      <th>1</th>\n",
       "      <th>2</th>\n",
       "      <th>3</th>\n",
       "      <th>4</th>\n",
       "      <th>5</th>\n",
       "    </tr>\n",
       "  </thead>\n",
       "  <tbody>\n",
       "    <tr>\n",
       "      <th>0</th>\n",
       "      <td>0</td>\n",
       "      <td>1467810369</td>\n",
       "      <td>Mon Apr 06 22:19:45 PDT 2009</td>\n",
       "      <td>NO_QUERY</td>\n",
       "      <td>_TheSpecialOne_</td>\n",
       "      <td>@switchfoot http://twitpic.com/2y1zl - Awww, t...</td>\n",
       "    </tr>\n",
       "    <tr>\n",
       "      <th>1</th>\n",
       "      <td>0</td>\n",
       "      <td>1467810672</td>\n",
       "      <td>Mon Apr 06 22:19:49 PDT 2009</td>\n",
       "      <td>NO_QUERY</td>\n",
       "      <td>scotthamilton</td>\n",
       "      <td>is upset that he can't update his Facebook by ...</td>\n",
       "    </tr>\n",
       "  </tbody>\n",
       "</table>\n",
       "</div>"
      ],
      "text/plain": [
       "   0           1                             2         3                4  \\\n",
       "0  0  1467810369  Mon Apr 06 22:19:45 PDT 2009  NO_QUERY  _TheSpecialOne_   \n",
       "1  0  1467810672  Mon Apr 06 22:19:49 PDT 2009  NO_QUERY    scotthamilton   \n",
       "\n",
       "                                                   5  \n",
       "0  @switchfoot http://twitpic.com/2y1zl - Awww, t...  \n",
       "1  is upset that he can't update his Facebook by ...  "
      ]
     },
     "execution_count": 4,
     "metadata": {},
     "output_type": "execute_result"
    }
   ],
   "source": [
    "# sanity check - data after \n",
    "df.head(2)"
   ]
  },
  {
   "cell_type": "markdown",
   "id": "3920a06c",
   "metadata": {},
   "source": [
    "### Data Exploration:"
   ]
  },
  {
   "cell_type": "code",
   "execution_count": 5,
   "id": "0375342f",
   "metadata": {
    "scrolled": true
   },
   "outputs": [
    {
     "data": {
      "text/html": [
       "<div>\n",
       "<style scoped>\n",
       "    .dataframe tbody tr th:only-of-type {\n",
       "        vertical-align: middle;\n",
       "    }\n",
       "\n",
       "    .dataframe tbody tr th {\n",
       "        vertical-align: top;\n",
       "    }\n",
       "\n",
       "    .dataframe thead th {\n",
       "        text-align: right;\n",
       "    }\n",
       "</style>\n",
       "<table border=\"1\" class=\"dataframe\">\n",
       "  <thead>\n",
       "    <tr style=\"text-align: right;\">\n",
       "      <th></th>\n",
       "      <th>Sentiment</th>\n",
       "      <th>Id</th>\n",
       "      <th>Date</th>\n",
       "      <th>Flag</th>\n",
       "      <th>User</th>\n",
       "      <th>Tweet</th>\n",
       "    </tr>\n",
       "  </thead>\n",
       "  <tbody>\n",
       "    <tr>\n",
       "      <th>0</th>\n",
       "      <td>0</td>\n",
       "      <td>1467810369</td>\n",
       "      <td>Mon Apr 06 22:19:45 PDT 2009</td>\n",
       "      <td>NO_QUERY</td>\n",
       "      <td>_TheSpecialOne_</td>\n",
       "      <td>@switchfoot http://twitpic.com/2y1zl - Awww, t...</td>\n",
       "    </tr>\n",
       "    <tr>\n",
       "      <th>1</th>\n",
       "      <td>0</td>\n",
       "      <td>1467810672</td>\n",
       "      <td>Mon Apr 06 22:19:49 PDT 2009</td>\n",
       "      <td>NO_QUERY</td>\n",
       "      <td>scotthamilton</td>\n",
       "      <td>is upset that he can't update his Facebook by ...</td>\n",
       "    </tr>\n",
       "    <tr>\n",
       "      <th>2</th>\n",
       "      <td>0</td>\n",
       "      <td>1467810917</td>\n",
       "      <td>Mon Apr 06 22:19:53 PDT 2009</td>\n",
       "      <td>NO_QUERY</td>\n",
       "      <td>mattycus</td>\n",
       "      <td>@Kenichan I dived many times for the ball. Man...</td>\n",
       "    </tr>\n",
       "    <tr>\n",
       "      <th>3</th>\n",
       "      <td>0</td>\n",
       "      <td>1467811184</td>\n",
       "      <td>Mon Apr 06 22:19:57 PDT 2009</td>\n",
       "      <td>NO_QUERY</td>\n",
       "      <td>ElleCTF</td>\n",
       "      <td>my whole body feels itchy and like its on fire</td>\n",
       "    </tr>\n",
       "    <tr>\n",
       "      <th>4</th>\n",
       "      <td>0</td>\n",
       "      <td>1467811193</td>\n",
       "      <td>Mon Apr 06 22:19:57 PDT 2009</td>\n",
       "      <td>NO_QUERY</td>\n",
       "      <td>Karoli</td>\n",
       "      <td>@nationwideclass no, it's not behaving at all....</td>\n",
       "    </tr>\n",
       "  </tbody>\n",
       "</table>\n",
       "</div>"
      ],
      "text/plain": [
       "   Sentiment          Id                          Date      Flag  \\\n",
       "0          0  1467810369  Mon Apr 06 22:19:45 PDT 2009  NO_QUERY   \n",
       "1          0  1467810672  Mon Apr 06 22:19:49 PDT 2009  NO_QUERY   \n",
       "2          0  1467810917  Mon Apr 06 22:19:53 PDT 2009  NO_QUERY   \n",
       "3          0  1467811184  Mon Apr 06 22:19:57 PDT 2009  NO_QUERY   \n",
       "4          0  1467811193  Mon Apr 06 22:19:57 PDT 2009  NO_QUERY   \n",
       "\n",
       "              User                                              Tweet  \n",
       "0  _TheSpecialOne_  @switchfoot http://twitpic.com/2y1zl - Awww, t...  \n",
       "1    scotthamilton  is upset that he can't update his Facebook by ...  \n",
       "2         mattycus  @Kenichan I dived many times for the ball. Man...  \n",
       "3          ElleCTF    my whole body feels itchy and like its on fire   \n",
       "4           Karoli  @nationwideclass no, it's not behaving at all....  "
      ]
     },
     "execution_count": 5,
     "metadata": {},
     "output_type": "execute_result"
    }
   ],
   "source": [
    "# lets explore the data\n",
    "df.columns = ['Sentiment', 'Id', 'Date', 'Flag', 'User', 'Tweet']\n",
    "df.head()"
   ]
  },
  {
   "cell_type": "code",
   "execution_count": 9,
   "id": "900ae5fa",
   "metadata": {},
   "outputs": [
    {
     "data": {
      "text/html": [
       "<div>\n",
       "<style scoped>\n",
       "    .dataframe tbody tr th:only-of-type {\n",
       "        vertical-align: middle;\n",
       "    }\n",
       "\n",
       "    .dataframe tbody tr th {\n",
       "        vertical-align: top;\n",
       "    }\n",
       "\n",
       "    .dataframe thead th {\n",
       "        text-align: right;\n",
       "    }\n",
       "</style>\n",
       "<table border=\"1\" class=\"dataframe\">\n",
       "  <thead>\n",
       "    <tr style=\"text-align: right;\">\n",
       "      <th></th>\n",
       "      <th>Sentiment</th>\n",
       "      <th>Id</th>\n",
       "      <th>Date</th>\n",
       "      <th>Flag</th>\n",
       "      <th>User</th>\n",
       "      <th>Tweet</th>\n",
       "    </tr>\n",
       "  </thead>\n",
       "  <tbody>\n",
       "    <tr>\n",
       "      <th>1599995</th>\n",
       "      <td>4</td>\n",
       "      <td>2193601966</td>\n",
       "      <td>Tue Jun 16 08:40:49 PDT 2009</td>\n",
       "      <td>NO_QUERY</td>\n",
       "      <td>AmandaMarie1028</td>\n",
       "      <td>Just woke up. Having no school is the best fee...</td>\n",
       "    </tr>\n",
       "    <tr>\n",
       "      <th>1599996</th>\n",
       "      <td>4</td>\n",
       "      <td>2193601969</td>\n",
       "      <td>Tue Jun 16 08:40:49 PDT 2009</td>\n",
       "      <td>NO_QUERY</td>\n",
       "      <td>TheWDBoards</td>\n",
       "      <td>TheWDB.com - Very cool to hear old Walt interv...</td>\n",
       "    </tr>\n",
       "    <tr>\n",
       "      <th>1599997</th>\n",
       "      <td>4</td>\n",
       "      <td>2193601991</td>\n",
       "      <td>Tue Jun 16 08:40:49 PDT 2009</td>\n",
       "      <td>NO_QUERY</td>\n",
       "      <td>bpbabe</td>\n",
       "      <td>Are you ready for your MoJo Makeover? Ask me f...</td>\n",
       "    </tr>\n",
       "    <tr>\n",
       "      <th>1599998</th>\n",
       "      <td>4</td>\n",
       "      <td>2193602064</td>\n",
       "      <td>Tue Jun 16 08:40:49 PDT 2009</td>\n",
       "      <td>NO_QUERY</td>\n",
       "      <td>tinydiamondz</td>\n",
       "      <td>Happy 38th Birthday to my boo of alll time!!! ...</td>\n",
       "    </tr>\n",
       "    <tr>\n",
       "      <th>1599999</th>\n",
       "      <td>4</td>\n",
       "      <td>2193602129</td>\n",
       "      <td>Tue Jun 16 08:40:50 PDT 2009</td>\n",
       "      <td>NO_QUERY</td>\n",
       "      <td>RyanTrevMorris</td>\n",
       "      <td>happy #charitytuesday @theNSPCC @SparksCharity...</td>\n",
       "    </tr>\n",
       "  </tbody>\n",
       "</table>\n",
       "</div>"
      ],
      "text/plain": [
       "         Sentiment          Id                          Date      Flag  \\\n",
       "1599995          4  2193601966  Tue Jun 16 08:40:49 PDT 2009  NO_QUERY   \n",
       "1599996          4  2193601969  Tue Jun 16 08:40:49 PDT 2009  NO_QUERY   \n",
       "1599997          4  2193601991  Tue Jun 16 08:40:49 PDT 2009  NO_QUERY   \n",
       "1599998          4  2193602064  Tue Jun 16 08:40:49 PDT 2009  NO_QUERY   \n",
       "1599999          4  2193602129  Tue Jun 16 08:40:50 PDT 2009  NO_QUERY   \n",
       "\n",
       "                    User                                              Tweet  \n",
       "1599995  AmandaMarie1028  Just woke up. Having no school is the best fee...  \n",
       "1599996      TheWDBoards  TheWDB.com - Very cool to hear old Walt interv...  \n",
       "1599997           bpbabe  Are you ready for your MoJo Makeover? Ask me f...  \n",
       "1599998     tinydiamondz  Happy 38th Birthday to my boo of alll time!!! ...  \n",
       "1599999   RyanTrevMorris  happy #charitytuesday @theNSPCC @SparksCharity...  "
      ]
     },
     "execution_count": 9,
     "metadata": {},
     "output_type": "execute_result"
    }
   ],
   "source": [
    "df.tail()"
   ]
  },
  {
   "cell_type": "code",
   "execution_count": 8,
   "id": "11843475",
   "metadata": {},
   "outputs": [
    {
     "name": "stdout",
     "output_type": "stream",
     "text": [
      "The datafram consists of 1600000 rows, and 6 columns\n"
     ]
    }
   ],
   "source": [
    "print(f'The datafram consists of {df.shape[0]} rows, and {df.shape[1]} columns')"
   ]
  },
  {
   "cell_type": "code",
   "execution_count": 76,
   "id": "69e09a39",
   "metadata": {},
   "outputs": [
    {
     "name": "stdout",
     "output_type": "stream",
     "text": [
      "<class 'pandas.core.frame.DataFrame'>\n",
      "RangeIndex: 1600000 entries, 0 to 1599999\n",
      "Data columns (total 6 columns):\n",
      " #   Column     Non-Null Count    Dtype \n",
      "---  ------     --------------    ----- \n",
      " 0   Sentiment  1600000 non-null  int64 \n",
      " 1   Id         1600000 non-null  int64 \n",
      " 2   Date       1600000 non-null  object\n",
      " 3   Flag       1600000 non-null  object\n",
      " 4   User       1600000 non-null  object\n",
      " 5   Tweet      1600000 non-null  object\n",
      "dtypes: int64(2), object(4)\n",
      "memory usage: 73.2+ MB\n"
     ]
    }
   ],
   "source": [
    "# check the column names and datatypes \n",
    "df.info()"
   ]
  },
  {
   "cell_type": "code",
   "execution_count": 77,
   "id": "a1c6dfa9",
   "metadata": {},
   "outputs": [
    {
     "data": {
      "text/plain": [
       "Sentiment    0\n",
       "Id           0\n",
       "Date         0\n",
       "Flag         0\n",
       "User         0\n",
       "Tweet        0\n",
       "dtype: int64"
      ]
     },
     "execution_count": 77,
     "metadata": {},
     "output_type": "execute_result"
    }
   ],
   "source": [
    "# check null values\n",
    "df.isna().sum()"
   ]
  },
  {
   "cell_type": "markdown",
   "id": "bdf87873",
   "metadata": {},
   "source": [
    "**We don't see any Null Values**"
   ]
  },
  {
   "cell_type": "code",
   "execution_count": 78,
   "id": "da011054",
   "metadata": {},
   "outputs": [
    {
     "data": {
      "text/plain": [
       "lost_dog           549\n",
       "webwoke            345\n",
       "tweetpet           310\n",
       "SallytheShizzle    281\n",
       "VioletsCRUK        279\n",
       "                  ... \n",
       "67trinity            1\n",
       "Sibby                1\n",
       "mAnyA_15             1\n",
       "49ersfan111          1\n",
       "bpbabe               1\n",
       "Name: User, Length: 659775, dtype: int64"
      ]
     },
     "execution_count": 78,
     "metadata": {},
     "output_type": "execute_result"
    }
   ],
   "source": [
    "df['User'].value_counts()"
   ]
  },
  {
   "cell_type": "code",
   "execution_count": 79,
   "id": "32d1c06c",
   "metadata": {},
   "outputs": [
    {
     "data": {
      "text/plain": [
       "Mon Jun 15 12:53:14 PDT 2009    20\n",
       "Fri May 29 13:40:04 PDT 2009    17\n",
       "Fri May 22 05:10:17 PDT 2009    17\n",
       "Mon Jun 15 13:39:50 PDT 2009    17\n",
       "Fri Jun 05 14:13:07 PDT 2009    16\n",
       "                                ..\n",
       "Sun Jun 07 12:36:07 PDT 2009     1\n",
       "Sun Jun 07 12:36:04 PDT 2009     1\n",
       "Sun Jun 07 12:36:03 PDT 2009     1\n",
       "Sun Jun 07 12:36:02 PDT 2009     1\n",
       "Tue Jun 16 08:40:50 PDT 2009     1\n",
       "Name: Date, Length: 774363, dtype: int64"
      ]
     },
     "execution_count": 79,
     "metadata": {},
     "output_type": "execute_result"
    }
   ],
   "source": [
    "df['Date'].value_counts()"
   ]
  },
  {
   "cell_type": "code",
   "execution_count": 80,
   "id": "4fa7dbdd",
   "metadata": {},
   "outputs": [
    {
     "data": {
      "text/plain": [
       "NO_QUERY    1600000\n",
       "Name: Flag, dtype: int64"
      ]
     },
     "execution_count": 80,
     "metadata": {},
     "output_type": "execute_result"
    }
   ],
   "source": [
    "df['Flag'].value_counts()"
   ]
  },
  {
   "cell_type": "markdown",
   "id": "13053f6b",
   "metadata": {},
   "source": [
    "`Flag` column doesn't seem to have any value. So we can drop the column"
   ]
  },
  {
   "cell_type": "code",
   "execution_count": 81,
   "id": "146fd2d9",
   "metadata": {},
   "outputs": [],
   "source": [
    "#dropping column Flag\n",
    "df = df.drop(columns='Flag')"
   ]
  },
  {
   "cell_type": "code",
   "execution_count": 82,
   "id": "85693552",
   "metadata": {},
   "outputs": [
    {
     "data": {
      "text/plain": [
       "0    800000\n",
       "4    800000\n",
       "Name: Sentiment, dtype: int64"
      ]
     },
     "execution_count": 82,
     "metadata": {},
     "output_type": "execute_result"
    }
   ],
   "source": [
    "df['Sentiment'].value_counts()"
   ]
  },
  {
   "cell_type": "markdown",
   "id": "77bac69d",
   "metadata": {},
   "source": [
    "We can change the value to binary 1 and 0"
   ]
  },
  {
   "cell_type": "code",
   "execution_count": 83,
   "id": "65d5e1da",
   "metadata": {},
   "outputs": [],
   "source": [
    "df[\"Sentiment\"] = np.where(df[\"Sentiment\"] == 4, 1, 0)"
   ]
  },
  {
   "cell_type": "code",
   "execution_count": 84,
   "id": "e033d099",
   "metadata": {
    "scrolled": false
   },
   "outputs": [
    {
     "data": {
      "image/png": "[encoded data removed]",
      "text/plain": [
       "<Figure size 1000x400 with 1 Axes>"
      ]
     },
     "metadata": {},
     "output_type": "display_data"
    }
   ],
   "source": [
    "plt.figure(figsize=(10,4))\n",
    "df['Sentiment'].value_counts().plot(kind='bar', rot=0, color=['#FF7F0E', '#3685BC'])\n",
    "plt.title(\"Target Distirbution\")\n",
    "plt.xlabel(\"Sentiment\")\n",
    "plt.ylabel(\"Count\")\n",
    "\n",
    "plt.show()"
   ]
  },
  {
   "cell_type": "markdown",
   "id": "6aee26d6",
   "metadata": {},
   "source": [
    "As we observe the graph above we have a balanced data set"
   ]
  },
  {
   "cell_type": "code",
   "execution_count": 85,
   "id": "d4a71177",
   "metadata": {},
   "outputs": [
    {
     "data": {
      "text/plain": [
       "0"
      ]
     },
     "execution_count": 85,
     "metadata": {},
     "output_type": "execute_result"
    }
   ],
   "source": [
    "df.duplicated().sum()"
   ]
  },
  {
   "cell_type": "markdown",
   "id": "5679d4b3",
   "metadata": {},
   "source": [
    "We don't see any duplicate values. We can further explore in our data."
   ]
  },
  {
   "cell_type": "code",
   "execution_count": 86,
   "id": "7bf96551",
   "metadata": {},
   "outputs": [
    {
     "data": {
      "text/html": [
       "<div>\n",
       "<style scoped>\n",
       "    .dataframe tbody tr th:only-of-type {\n",
       "        vertical-align: middle;\n",
       "    }\n",
       "\n",
       "    .dataframe tbody tr th {\n",
       "        vertical-align: top;\n",
       "    }\n",
       "\n",
       "    .dataframe thead th {\n",
       "        text-align: right;\n",
       "    }\n",
       "</style>\n",
       "<table border=\"1\" class=\"dataframe\">\n",
       "  <thead>\n",
       "    <tr style=\"text-align: right;\">\n",
       "      <th></th>\n",
       "      <th>Sentiment</th>\n",
       "      <th>Id</th>\n",
       "      <th>Date</th>\n",
       "      <th>User</th>\n",
       "      <th>Tweet</th>\n",
       "    </tr>\n",
       "  </thead>\n",
       "  <tbody>\n",
       "    <tr>\n",
       "      <th>0</th>\n",
       "      <td>0</td>\n",
       "      <td>1467810369</td>\n",
       "      <td>Mon Apr 06 22:19:45 PDT 2009</td>\n",
       "      <td>_TheSpecialOne_</td>\n",
       "      <td>@switchfoot http://twitpic.com/2y1zl - Awww, that's a bummer.  You shoulda got David Carr of Third Day to do it. ;D</td>\n",
       "    </tr>\n",
       "    <tr>\n",
       "      <th>1</th>\n",
       "      <td>0</td>\n",
       "      <td>1467810672</td>\n",
       "      <td>Mon Apr 06 22:19:49 PDT 2009</td>\n",
       "      <td>scotthamilton</td>\n",
       "      <td>is upset that he can't update his Facebook by texting it... and might cry as a result  School today also. Blah!</td>\n",
       "    </tr>\n",
       "  </tbody>\n",
       "</table>\n",
       "</div>"
      ],
      "text/plain": [
       "   Sentiment          Id                          Date             User  \\\n",
       "0          0  1467810369  Mon Apr 06 22:19:45 PDT 2009  _TheSpecialOne_   \n",
       "1          0  1467810672  Mon Apr 06 22:19:49 PDT 2009    scotthamilton   \n",
       "\n",
       "                                                                                                                 Tweet  \n",
       "0  @switchfoot http://twitpic.com/2y1zl - Awww, that's a bummer.  You shoulda got David Carr of Third Day to do it. ;D  \n",
       "1      is upset that he can't update his Facebook by texting it... and might cry as a result  School today also. Blah!  "
      ]
     },
     "execution_count": 86,
     "metadata": {},
     "output_type": "execute_result"
    }
   ],
   "source": [
    "df.head(2)"
   ]
  },
  {
   "cell_type": "code",
   "execution_count": 87,
   "id": "b7d8b49a",
   "metadata": {},
   "outputs": [
    {
     "data": {
      "text/html": [
       "<div>\n",
       "<style scoped>\n",
       "    .dataframe tbody tr th:only-of-type {\n",
       "        vertical-align: middle;\n",
       "    }\n",
       "\n",
       "    .dataframe tbody tr th {\n",
       "        vertical-align: top;\n",
       "    }\n",
       "\n",
       "    .dataframe thead th {\n",
       "        text-align: right;\n",
       "    }\n",
       "</style>\n",
       "<table border=\"1\" class=\"dataframe\">\n",
       "  <thead>\n",
       "    <tr style=\"text-align: right;\">\n",
       "      <th></th>\n",
       "      <th>Sentiment</th>\n",
       "      <th>Id</th>\n",
       "      <th>Date</th>\n",
       "      <th>User</th>\n",
       "      <th>Tweet</th>\n",
       "    </tr>\n",
       "  </thead>\n",
       "  <tbody>\n",
       "    <tr>\n",
       "      <th>1599998</th>\n",
       "      <td>1</td>\n",
       "      <td>2193602064</td>\n",
       "      <td>Tue Jun 16 08:40:49 PDT 2009</td>\n",
       "      <td>tinydiamondz</td>\n",
       "      <td>Happy 38th Birthday to my boo of alll time!!! Tupac Amaru Shakur</td>\n",
       "    </tr>\n",
       "    <tr>\n",
       "      <th>1599999</th>\n",
       "      <td>1</td>\n",
       "      <td>2193602129</td>\n",
       "      <td>Tue Jun 16 08:40:50 PDT 2009</td>\n",
       "      <td>RyanTrevMorris</td>\n",
       "      <td>happy #charitytuesday @theNSPCC @SparksCharity @SpeakingUpH4H</td>\n",
       "    </tr>\n",
       "  </tbody>\n",
       "</table>\n",
       "</div>"
      ],
      "text/plain": [
       "         Sentiment          Id                          Date            User  \\\n",
       "1599998          1  2193602064  Tue Jun 16 08:40:49 PDT 2009    tinydiamondz   \n",
       "1599999          1  2193602129  Tue Jun 16 08:40:50 PDT 2009  RyanTrevMorris   \n",
       "\n",
       "                                                                     Tweet  \n",
       "1599998  Happy 38th Birthday to my boo of alll time!!! Tupac Amaru Shakur   \n",
       "1599999     happy #charitytuesday @theNSPCC @SparksCharity @SpeakingUpH4H   "
      ]
     },
     "execution_count": 87,
     "metadata": {},
     "output_type": "execute_result"
    }
   ],
   "source": [
    "df.tail(2)"
   ]
  },
  {
   "cell_type": "code",
   "execution_count": 88,
   "id": "e4a36a17",
   "metadata": {},
   "outputs": [],
   "source": [
    "# removed PDT from the Date\n",
    "df['Date'] = df['Date'].str.replace('PDT', '')"
   ]
  },
  {
   "cell_type": "code",
   "execution_count": 89,
   "id": "a9574e38",
   "metadata": {},
   "outputs": [
    {
     "data": {
      "text/plain": [
       "0          Mon Apr 06 22:19:45  2009\n",
       "1          Mon Apr 06 22:19:49  2009\n",
       "2          Mon Apr 06 22:19:53  2009\n",
       "3          Mon Apr 06 22:19:57  2009\n",
       "4          Mon Apr 06 22:19:57  2009\n",
       "                     ...            \n",
       "1599995    Tue Jun 16 08:40:49  2009\n",
       "1599996    Tue Jun 16 08:40:49  2009\n",
       "1599997    Tue Jun 16 08:40:49  2009\n",
       "1599998    Tue Jun 16 08:40:49  2009\n",
       "1599999    Tue Jun 16 08:40:50  2009\n",
       "Name: Date, Length: 1600000, dtype: object"
      ]
     },
     "execution_count": 89,
     "metadata": {},
     "output_type": "execute_result"
    }
   ],
   "source": [
    "# sanity check\n",
    "df['Date']"
   ]
  },
  {
   "cell_type": "code",
   "execution_count": 90,
   "id": "ebb51484",
   "metadata": {},
   "outputs": [],
   "source": [
    "# converts to date and time - Don't run takes longer time to finish executing******\n",
    "df[\"Date\"] = pd.to_datetime(df[\"Date\"])"
   ]
  },
  {
   "cell_type": "code",
   "execution_count": 91,
   "id": "37f8c5a3",
   "metadata": {},
   "outputs": [
    {
     "name": "stdout",
     "output_type": "stream",
     "text": [
      "<class 'pandas.core.frame.DataFrame'>\n",
      "RangeIndex: 1600000 entries, 0 to 1599999\n",
      "Data columns (total 5 columns):\n",
      " #   Column     Non-Null Count    Dtype         \n",
      "---  ------     --------------    -----         \n",
      " 0   Sentiment  1600000 non-null  int32         \n",
      " 1   Id         1600000 non-null  int64         \n",
      " 2   Date       1600000 non-null  datetime64[ns]\n",
      " 3   User       1600000 non-null  object        \n",
      " 4   Tweet      1600000 non-null  object        \n",
      "dtypes: datetime64[ns](1), int32(1), int64(1), object(2)\n",
      "memory usage: 54.9+ MB\n"
     ]
    }
   ],
   "source": [
    "# sanity check converted to date and time\n",
    "df.info()"
   ]
  },
  {
   "cell_type": "markdown",
   "id": "540ac512",
   "metadata": {},
   "source": [
    "### Cleaning Data"
   ]
  },
  {
   "cell_type": "markdown",
   "id": "1c0acb94",
   "metadata": {},
   "source": [
    "- Check duplicate values\n",
    "- Check Null Values"
   ]
  },
  {
   "cell_type": "code",
   "execution_count": 92,
   "id": "f72e191d",
   "metadata": {},
   "outputs": [
    {
     "data": {
      "text/plain": [
       "2009    1600000\n",
       "Name: Date, dtype: int64"
      ]
     },
     "execution_count": 92,
     "metadata": {},
     "output_type": "execute_result"
    }
   ],
   "source": [
    "df['Date'].dt.year.value_counts()"
   ]
  },
  {
   "cell_type": "markdown",
   "id": "bd6e50bc",
   "metadata": {},
   "source": [
    "It seem's our data only consist in year 2009"
   ]
  },
  {
   "cell_type": "code",
   "execution_count": 93,
   "id": "97307b29",
   "metadata": {},
   "outputs": [
    {
     "data": {
      "text/plain": [
       "lost_dog           549\n",
       "webwoke            345\n",
       "tweetpet           310\n",
       "SallytheShizzle    281\n",
       "VioletsCRUK        279\n",
       "                  ... \n",
       "67trinity            1\n",
       "Sibby                1\n",
       "mAnyA_15             1\n",
       "49ersfan111          1\n",
       "bpbabe               1\n",
       "Name: User, Length: 659775, dtype: int64"
      ]
     },
     "execution_count": 93,
     "metadata": {},
     "output_type": "execute_result"
    }
   ],
   "source": [
    "df['User'].value_counts()"
   ]
  },
  {
   "cell_type": "code",
   "execution_count": 94,
   "id": "b47e859b",
   "metadata": {},
   "outputs": [
    {
     "data": {
      "text/plain": [
       "2190457769    2\n",
       "1972193428    2\n",
       "1989776729    2\n",
       "1989776908    2\n",
       "1564543229    2\n",
       "             ..\n",
       "2197311196    1\n",
       "2197311146    1\n",
       "2197310899    1\n",
       "2197310477    1\n",
       "2193602129    1\n",
       "Name: Id, Length: 1598315, dtype: int64"
      ]
     },
     "execution_count": 94,
     "metadata": {},
     "output_type": "execute_result"
    }
   ],
   "source": [
    "df['Id'].value_counts()"
   ]
  },
  {
   "cell_type": "markdown",
   "id": "19239bfd",
   "metadata": {},
   "source": [
    "Let's find out if there are any duplicates"
   ]
  },
  {
   "cell_type": "code",
   "execution_count": 95,
   "id": "76ffee70",
   "metadata": {},
   "outputs": [
    {
     "data": {
      "text/plain": [
       "0"
      ]
     },
     "execution_count": 95,
     "metadata": {},
     "output_type": "execute_result"
    }
   ],
   "source": [
    "df.duplicated().sum()"
   ]
  },
  {
   "cell_type": "code",
   "execution_count": 96,
   "id": "58458d3d",
   "metadata": {},
   "outputs": [
    {
     "name": "stdout",
     "output_type": "stream",
     "text": [
      "Id columns duplicate values: 1685\n",
      "User columns duplicate values: 940225\n",
      "Tweet columns duplicate values: 18534\n"
     ]
    }
   ],
   "source": [
    "print(f'Id columns duplicate values: {df[\"Id\"].duplicated().sum()}')\n",
    "print(f'User columns duplicate values: {df[\"User\"].duplicated().sum()}')\n",
    "print(f'Tweet columns duplicate values: {df[\"Tweet\"].duplicated().sum()}')"
   ]
  },
  {
   "cell_type": "markdown",
   "id": "73e6ad35",
   "metadata": {},
   "source": [
    "We can see there are 1,685 duplicated tweets as per Id column"
   ]
  },
  {
   "cell_type": "code",
   "execution_count": 97,
   "id": "490fd9d6",
   "metadata": {},
   "outputs": [
    {
     "data": {
      "text/html": [
       "<div>\n",
       "<style scoped>\n",
       "    .dataframe tbody tr th:only-of-type {\n",
       "        vertical-align: middle;\n",
       "    }\n",
       "\n",
       "    .dataframe tbody tr th {\n",
       "        vertical-align: top;\n",
       "    }\n",
       "\n",
       "    .dataframe thead th {\n",
       "        text-align: right;\n",
       "    }\n",
       "</style>\n",
       "<table border=\"1\" class=\"dataframe\">\n",
       "  <thead>\n",
       "    <tr style=\"text-align: right;\">\n",
       "      <th></th>\n",
       "      <th>Sentiment</th>\n",
       "      <th>Id</th>\n",
       "      <th>Date</th>\n",
       "      <th>User</th>\n",
       "      <th>Tweet</th>\n",
       "    </tr>\n",
       "  </thead>\n",
       "  <tbody>\n",
       "    <tr>\n",
       "      <th>270201</th>\n",
       "      <td>0</td>\n",
       "      <td>1989776729</td>\n",
       "      <td>2009-06-01 02:46:20</td>\n",
       "      <td>mam1cutie</td>\n",
       "      <td>@Dog_Crazy Sorry yest was bad day for your mom!   I hope today is a better day for her!  I gotta go get ready for work - blah. lol</td>\n",
       "    </tr>\n",
       "    <tr>\n",
       "      <th>1217853</th>\n",
       "      <td>1</td>\n",
       "      <td>1989776729</td>\n",
       "      <td>2009-06-01 02:46:20</td>\n",
       "      <td>mam1cutie</td>\n",
       "      <td>@Dog_Crazy Sorry yest was bad day for your mom!   I hope today is a better day for her!  I gotta go get ready for work - blah. lol</td>\n",
       "    </tr>\n",
       "  </tbody>\n",
       "</table>\n",
       "</div>"
      ],
      "text/plain": [
       "         Sentiment          Id                Date       User  \\\n",
       "270201           0  1989776729 2009-06-01 02:46:20  mam1cutie   \n",
       "1217853          1  1989776729 2009-06-01 02:46:20  mam1cutie   \n",
       "\n",
       "                                                                                                                                       Tweet  \n",
       "270201   @Dog_Crazy Sorry yest was bad day for your mom!   I hope today is a better day for her!  I gotta go get ready for work - blah. lol   \n",
       "1217853  @Dog_Crazy Sorry yest was bad day for your mom!   I hope today is a better day for her!  I gotta go get ready for work - blah. lol   "
      ]
     },
     "execution_count": 97,
     "metadata": {},
     "output_type": "execute_result"
    }
   ],
   "source": [
    "df[df['Id'] == 1989776729]"
   ]
  },
  {
   "cell_type": "markdown",
   "id": "47ce5642",
   "metadata": {},
   "source": [
    "It turns out there are duplicates in tweets"
   ]
  },
  {
   "cell_type": "code",
   "execution_count": 107,
   "id": "86ad5ff8",
   "metadata": {},
   "outputs": [
    {
     "data": {
      "text/html": [
       "<div>\n",
       "<style scoped>\n",
       "    .dataframe tbody tr th:only-of-type {\n",
       "        vertical-align: middle;\n",
       "    }\n",
       "\n",
       "    .dataframe tbody tr th {\n",
       "        vertical-align: top;\n",
       "    }\n",
       "\n",
       "    .dataframe thead th {\n",
       "        text-align: right;\n",
       "    }\n",
       "</style>\n",
       "<table border=\"1\" class=\"dataframe\">\n",
       "  <thead>\n",
       "    <tr style=\"text-align: right;\">\n",
       "      <th></th>\n",
       "      <th>Sentiment</th>\n",
       "      <th>Id</th>\n",
       "      <th>Date</th>\n",
       "      <th>User</th>\n",
       "      <th>Tweet</th>\n",
       "    </tr>\n",
       "  </thead>\n",
       "  <tbody>\n",
       "    <tr>\n",
       "      <th>800261</th>\n",
       "      <td>1</td>\n",
       "      <td>1467863684</td>\n",
       "      <td>2009-04-06 22:33:35</td>\n",
       "      <td>DjGundam</td>\n",
       "      <td>Awwh babs... you look so sad underneith that shop entrance of &amp;quot;Yesterday's Musik&amp;quot;  O-: I like the look of the new transformer movie</td>\n",
       "    </tr>\n",
       "    <tr>\n",
       "      <th>800300</th>\n",
       "      <td>1</td>\n",
       "      <td>1467880442</td>\n",
       "      <td>2009-04-06 22:38:04</td>\n",
       "      <td>iCalvin</td>\n",
       "      <td>Haven't tweeted nearly all day  Posted my website tonight, hopefully that goes well  Night time!</td>\n",
       "    </tr>\n",
       "    <tr>\n",
       "      <th>801280</th>\n",
       "      <td>1</td>\n",
       "      <td>1468053611</td>\n",
       "      <td>2009-04-06 23:28:09</td>\n",
       "      <td>mariejamora</td>\n",
       "      <td>@hellobebe I also send some updates in plurk but i upload photos on twitter!  you didnt see any of my updates on plurk? Zero?</td>\n",
       "    </tr>\n",
       "    <tr>\n",
       "      <th>801573</th>\n",
       "      <td>1</td>\n",
       "      <td>1468100580</td>\n",
       "      <td>2009-04-06 23:42:57</td>\n",
       "      <td>cristygarza</td>\n",
       "      <td>good night swetdreamss to everyonee   and jared never chat in kyte puff</td>\n",
       "    </tr>\n",
       "    <tr>\n",
       "      <th>801650</th>\n",
       "      <td>1</td>\n",
       "      <td>1468115720</td>\n",
       "      <td>2009-04-06 23:48:00</td>\n",
       "      <td>WarholGirl</td>\n",
       "      <td>@ientje89 aw i'm fine too thanks! yeah i miss you so much on the MFC  but hope we can talk later on today  kisses :huglove:</td>\n",
       "    </tr>\n",
       "    <tr>\n",
       "      <th>801794</th>\n",
       "      <td>1</td>\n",
       "      <td>1468131748</td>\n",
       "      <td>2009-04-06 23:53:22</td>\n",
       "      <td>steveslee</td>\n",
       "      <td>@gordonchiu You're one letter alway!    Koreans don't use &amp;quot;X&amp;quot; so there's no hope for me.</td>\n",
       "    </tr>\n",
       "  </tbody>\n",
       "</table>\n",
       "</div>"
      ],
      "text/plain": [
       "        Sentiment          Id                Date         User  \\\n",
       "800261          1  1467863684 2009-04-06 22:33:35     DjGundam   \n",
       "800300          1  1467880442 2009-04-06 22:38:04      iCalvin   \n",
       "801280          1  1468053611 2009-04-06 23:28:09  mariejamora   \n",
       "801573          1  1468100580 2009-04-06 23:42:57  cristygarza   \n",
       "801650          1  1468115720 2009-04-06 23:48:00   WarholGirl   \n",
       "801794          1  1468131748 2009-04-06 23:53:22    steveslee   \n",
       "\n",
       "                                                                                                                                                 Tweet  \n",
       "800261  Awwh babs... you look so sad underneith that shop entrance of &quot;Yesterday's Musik&quot;  O-: I like the look of the new transformer movie   \n",
       "800300                                                Haven't tweeted nearly all day  Posted my website tonight, hopefully that goes well  Night time!  \n",
       "801280                  @hellobebe I also send some updates in plurk but i upload photos on twitter!  you didnt see any of my updates on plurk? Zero?   \n",
       "801573                                                                        good night swetdreamss to everyonee   and jared never chat in kyte puff   \n",
       "801650                     @ientje89 aw i'm fine too thanks! yeah i miss you so much on the MFC  but hope we can talk later on today  kisses :huglove:  \n",
       "801794                                             @gordonchiu You're one letter alway!    Koreans don't use &quot;X&quot; so there's no hope for me.   "
      ]
     },
     "execution_count": 107,
     "metadata": {},
     "output_type": "execute_result"
    }
   ],
   "source": [
    "df[df.duplicated(subset=['Id', 'Tweet'])].head(6)"
   ]
  },
  {
   "cell_type": "markdown",
   "id": "a0a572f6",
   "metadata": {},
   "source": [
    "Let's drop the duplicated tweets"
   ]
  },
  {
   "cell_type": "code",
   "execution_count": 102,
   "id": "81ae26b5",
   "metadata": {},
   "outputs": [],
   "source": [
    "df_clean = df.copy()"
   ]
  },
  {
   "cell_type": "code",
   "execution_count": 105,
   "id": "77ceb4db",
   "metadata": {},
   "outputs": [],
   "source": [
    "df_clean.drop_duplicates(subset=['Id', 'Tweet'], inplace=True)"
   ]
  },
  {
   "cell_type": "code",
   "execution_count": 106,
   "id": "6ad36883",
   "metadata": {},
   "outputs": [
    {
     "data": {
      "text/plain": [
       "0"
      ]
     },
     "execution_count": 106,
     "metadata": {},
     "output_type": "execute_result"
    }
   ],
   "source": [
    "# sanity check\n",
    "df_clean[\"Id\"].duplicated().sum()"
   ]
  },
  {
   "cell_type": "code",
   "execution_count": 109,
   "id": "f40ec60d",
   "metadata": {},
   "outputs": [
    {
     "data": {
      "text/plain": [
       "1467810369    1\n",
       "1965217307    1\n",
       "1965217986    1\n",
       "1965217981    1\n",
       "1965217921    1\n",
       "             ..\n",
       "2196889890    1\n",
       "2196879563    1\n",
       "2196878643    1\n",
       "2196878471    1\n",
       "2193602129    1\n",
       "Name: Id, Length: 1598315, dtype: int64"
      ]
     },
     "execution_count": 109,
     "metadata": {},
     "output_type": "execute_result"
    }
   ],
   "source": [
    "df_clean['Id'].value_counts()"
   ]
  },
  {
   "cell_type": "markdown",
   "id": "2dd5c06d",
   "metadata": {},
   "source": [
    "We can ensure that we don't have any duplicate tweets as Id tweets are unique"
   ]
  },
  {
   "cell_type": "code",
   "execution_count": 125,
   "id": "2f3f66d9",
   "metadata": {},
   "outputs": [
    {
     "data": {
      "text/plain": [
       "938540"
      ]
     },
     "execution_count": 125,
     "metadata": {},
     "output_type": "execute_result"
    }
   ],
   "source": [
    "df_clean['User'].duplicated().sum()"
   ]
  },
  {
   "cell_type": "code",
   "execution_count": null,
   "id": "fb1b16ab",
   "metadata": {},
   "outputs": [
    {
     "data": {
      "text/plain": [
       "lost_dog           549\n",
       "webwoke            345\n",
       "tweetpet           310\n",
       "SallytheShizzle    281\n",
       "VioletsCRUK        279\n",
       "                  ... \n",
       "sleeping_gypsy       1\n",
       "alannamalyn          1\n",
       "robertreset          1\n",
       "juicybabyyy          1\n",
       "bpbabe               1\n",
       "Name: User, Length: 659775, dtype: int64"
      ]
     },
     "metadata": {},
     "output_type": "display_data"
    }
   ],
   "source": [
    "df_clean['User'].value_counts()"
   ]
  },
  {
   "cell_type": "code",
   "execution_count": 152,
   "id": "a91723c0",
   "metadata": {},
   "outputs": [
    {
     "data": {
      "text/plain": [
       "False    1594745\n",
       "True        3570\n",
       "dtype: int64"
      ]
     },
     "execution_count": 152,
     "metadata": {},
     "output_type": "execute_result"
    }
   ],
   "source": [
    "user_tweet_dup = df_clean.duplicated(subset=['User', 'Tweet']).value_counts()\n",
    "user_tweet_dup"
   ]
  },
  {
   "cell_type": "code",
   "execution_count": 153,
   "id": "9225a1b9",
   "metadata": {},
   "outputs": [
    {
     "data": {
      "text/plain": [
       "0.2233602262382572"
      ]
     },
     "execution_count": 153,
     "metadata": {},
     "output_type": "execute_result"
    }
   ],
   "source": [
    "user_tweet_dup[1]/df_clean.shape[0]*100"
   ]
  },
  {
   "cell_type": "markdown",
   "id": "a940a063",
   "metadata": {},
   "source": [
    "It's less than 1% of duplicate values, so we can drop it"
   ]
  },
  {
   "cell_type": "code",
   "execution_count": 156,
   "id": "aceaaf23",
   "metadata": {},
   "outputs": [
    {
     "data": {
      "text/html": [
       "<div>\n",
       "<style scoped>\n",
       "    .dataframe tbody tr th:only-of-type {\n",
       "        vertical-align: middle;\n",
       "    }\n",
       "\n",
       "    .dataframe tbody tr th {\n",
       "        vertical-align: top;\n",
       "    }\n",
       "\n",
       "    .dataframe thead th {\n",
       "        text-align: right;\n",
       "    }\n",
       "</style>\n",
       "<table border=\"1\" class=\"dataframe\">\n",
       "  <thead>\n",
       "    <tr style=\"text-align: right;\">\n",
       "      <th></th>\n",
       "      <th>Sentiment</th>\n",
       "      <th>Id</th>\n",
       "      <th>Date</th>\n",
       "      <th>User</th>\n",
       "      <th>Tweet</th>\n",
       "    </tr>\n",
       "  </thead>\n",
       "  <tbody>\n",
       "    <tr>\n",
       "      <th>1597584</th>\n",
       "      <td>1</td>\n",
       "      <td>2192960960</td>\n",
       "      <td>2009-06-16 07:48:04</td>\n",
       "      <td>cereal_bars</td>\n",
       "      <td>@staring_girl waaa, suerte con eso!</td>\n",
       "    </tr>\n",
       "    <tr>\n",
       "      <th>1597608</th>\n",
       "      <td>1</td>\n",
       "      <td>2192961892</td>\n",
       "      <td>2009-06-16 07:48:09</td>\n",
       "      <td>CaraNinaMcfly</td>\n",
       "      <td>@Brantanamo Ant please can you say hey to cara and nina!! Your so awesomee!!  x</td>\n",
       "    </tr>\n",
       "    <tr>\n",
       "      <th>1598287</th>\n",
       "      <td>1</td>\n",
       "      <td>2193152928</td>\n",
       "      <td>2009-06-16 08:04:06</td>\n",
       "      <td>SuPeR_mEgAn</td>\n",
       "      <td>@mikeyway http://twitpic.com/7j4ra - where can you buy this??? i wont drink the pop i just want the bottle!</td>\n",
       "    </tr>\n",
       "    <tr>\n",
       "      <th>1598289</th>\n",
       "      <td>1</td>\n",
       "      <td>2193152976</td>\n",
       "      <td>2009-06-16 08:04:07</td>\n",
       "      <td>SuPeR_mEgAn</td>\n",
       "      <td>@mikeyway http://twitpic.com/7j4ra - where can you buy this??? i wont drink the pop i just want the bottle!</td>\n",
       "    </tr>\n",
       "    <tr>\n",
       "      <th>1598957</th>\n",
       "      <td>1</td>\n",
       "      <td>2193318305</td>\n",
       "      <td>2009-06-16 08:17:40</td>\n",
       "      <td>majaricious</td>\n",
       "      <td>@KhloeKardashian Definitely my Mom. And Angelina Jolie</td>\n",
       "    </tr>\n",
       "    <tr>\n",
       "      <th>1598959</th>\n",
       "      <td>1</td>\n",
       "      <td>2193318357</td>\n",
       "      <td>2009-06-16 08:17:40</td>\n",
       "      <td>ummsistweets</td>\n",
       "      <td>cedar point with my biffs</td>\n",
       "    </tr>\n",
       "    <tr>\n",
       "      <th>1599353</th>\n",
       "      <td>1</td>\n",
       "      <td>2193427113</td>\n",
       "      <td>2009-06-16 08:26:38</td>\n",
       "      <td>parawhore182</td>\n",
       "      <td>Im busy. Drooling. Over this video. ;)  but yeahh it does work captain!  @lostducky0013</td>\n",
       "    </tr>\n",
       "    <tr>\n",
       "      <th>1599354</th>\n",
       "      <td>1</td>\n",
       "      <td>2193427134</td>\n",
       "      <td>2009-06-16 08:26:38</td>\n",
       "      <td>parawhore182</td>\n",
       "      <td>Im busy. Drooling. Over this video. ;)  but yeahh it does work captain!  @lostducky0013</td>\n",
       "    </tr>\n",
       "    <tr>\n",
       "      <th>1599377</th>\n",
       "      <td>1</td>\n",
       "      <td>2193427910</td>\n",
       "      <td>2009-06-16 08:26:43</td>\n",
       "      <td>ummsistweets</td>\n",
       "      <td>cedar point with my biffs</td>\n",
       "    </tr>\n",
       "    <tr>\n",
       "      <th>1599531</th>\n",
       "      <td>1</td>\n",
       "      <td>2193474515</td>\n",
       "      <td>2009-06-16 08:30:28</td>\n",
       "      <td>majaricious</td>\n",
       "      <td>@KhloeKardashian Definitely my Mom. And Angelina Jolie</td>\n",
       "    </tr>\n",
       "  </tbody>\n",
       "</table>\n",
       "</div>"
      ],
      "text/plain": [
       "         Sentiment          Id                Date           User  \\\n",
       "1597584          1  2192960960 2009-06-16 07:48:04    cereal_bars   \n",
       "1597608          1  2192961892 2009-06-16 07:48:09  CaraNinaMcfly   \n",
       "1598287          1  2193152928 2009-06-16 08:04:06    SuPeR_mEgAn   \n",
       "1598289          1  2193152976 2009-06-16 08:04:07    SuPeR_mEgAn   \n",
       "1598957          1  2193318305 2009-06-16 08:17:40    majaricious   \n",
       "1598959          1  2193318357 2009-06-16 08:17:40   ummsistweets   \n",
       "1599353          1  2193427113 2009-06-16 08:26:38   parawhore182   \n",
       "1599354          1  2193427134 2009-06-16 08:26:38   parawhore182   \n",
       "1599377          1  2193427910 2009-06-16 08:26:43   ummsistweets   \n",
       "1599531          1  2193474515 2009-06-16 08:30:28    majaricious   \n",
       "\n",
       "                                                                                                                Tweet  \n",
       "1597584                                                                          @staring_girl waaa, suerte con eso!   \n",
       "1597608                               @Brantanamo Ant please can you say hey to cara and nina!! Your so awesomee!!  x  \n",
       "1598287  @mikeyway http://twitpic.com/7j4ra - where can you buy this??? i wont drink the pop i just want the bottle!   \n",
       "1598289  @mikeyway http://twitpic.com/7j4ra - where can you buy this??? i wont drink the pop i just want the bottle!   \n",
       "1598957                                                       @KhloeKardashian Definitely my Mom. And Angelina Jolie   \n",
       "1598959                                                                                    cedar point with my biffs   \n",
       "1599353                       Im busy. Drooling. Over this video. ;)  but yeahh it does work captain!  @lostducky0013  \n",
       "1599354                       Im busy. Drooling. Over this video. ;)  but yeahh it does work captain!  @lostducky0013  \n",
       "1599377                                                                                    cedar point with my biffs   \n",
       "1599531                                                       @KhloeKardashian Definitely my Mom. And Angelina Jolie   "
      ]
     },
     "execution_count": 156,
     "metadata": {},
     "output_type": "execute_result"
    }
   ],
   "source": [
    "df_clean[df_clean.duplicated(subset=['User', 'Tweet'], keep=False)].tail(10)"
   ]
  },
  {
   "cell_type": "markdown",
   "id": "089f02dd",
   "metadata": {},
   "source": [
    "We found out a duplicate tweets per user, we can drop the duplicates"
   ]
  },
  {
   "cell_type": "code",
   "execution_count": 157,
   "id": "1efb3f50",
   "metadata": {},
   "outputs": [],
   "source": [
    "df_clean.drop_duplicates(subset=['User', 'Tweet'], inplace=True)"
   ]
  },
  {
   "cell_type": "code",
   "execution_count": 158,
   "id": "9ede72d8",
   "metadata": {},
   "outputs": [
    {
     "data": {
      "text/plain": [
       "False    1594745\n",
       "dtype: int64"
      ]
     },
     "execution_count": 158,
     "metadata": {},
     "output_type": "execute_result"
    }
   ],
   "source": [
    "df_clean.duplicated(subset=['User', 'Tweet']).value_counts()"
   ]
  },
  {
   "cell_type": "markdown",
   "id": "c476b187",
   "metadata": {},
   "source": [
    "Nice! We dropped the duplicate tweets"
   ]
  },
  {
   "cell_type": "code",
   "execution_count": 159,
   "id": "9a579571",
   "metadata": {},
   "outputs": [
    {
     "name": "stderr",
     "output_type": "stream",
     "text": [
      "C:\\Users\\Emran\\AppData\\Local\\Temp\\ipykernel_8992\\1863484124.py:1: FutureWarning: The default value of numeric_only in DataFrame.corr is deprecated. In a future version, it will default to False. Select only valid columns or specify the value of numeric_only to silence this warning.\n",
      "  df_clean.corr()\n"
     ]
    },
    {
     "data": {
      "text/html": [
       "<div>\n",
       "<style scoped>\n",
       "    .dataframe tbody tr th:only-of-type {\n",
       "        vertical-align: middle;\n",
       "    }\n",
       "\n",
       "    .dataframe tbody tr th {\n",
       "        vertical-align: top;\n",
       "    }\n",
       "\n",
       "    .dataframe thead th {\n",
       "        text-align: right;\n",
       "    }\n",
       "</style>\n",
       "<table border=\"1\" class=\"dataframe\">\n",
       "  <thead>\n",
       "    <tr style=\"text-align: right;\">\n",
       "      <th></th>\n",
       "      <th>Sentiment</th>\n",
       "      <th>Id</th>\n",
       "    </tr>\n",
       "  </thead>\n",
       "  <tbody>\n",
       "    <tr>\n",
       "      <th>Sentiment</th>\n",
       "      <td>1.000000</td>\n",
       "      <td>-0.261886</td>\n",
       "    </tr>\n",
       "    <tr>\n",
       "      <th>Id</th>\n",
       "      <td>-0.261886</td>\n",
       "      <td>1.000000</td>\n",
       "    </tr>\n",
       "  </tbody>\n",
       "</table>\n",
       "</div>"
      ],
      "text/plain": [
       "           Sentiment        Id\n",
       "Sentiment   1.000000 -0.261886\n",
       "Id         -0.261886  1.000000"
      ]
     },
     "execution_count": 159,
     "metadata": {},
     "output_type": "execute_result"
    }
   ],
   "source": [
    "df_clean.corr()"
   ]
  },
  {
   "cell_type": "markdown",
   "id": "6ff1b6b5",
   "metadata": {},
   "source": [
    "We observe the correlate Id and sentiment is not that high so we can drop the column"
   ]
  },
  {
   "cell_type": "code",
   "execution_count": 160,
   "id": "67e6452b",
   "metadata": {},
   "outputs": [],
   "source": [
    "# dropping ID column\n",
    "df_clean.drop(columns='Id', inplace=True)"
   ]
  },
  {
   "cell_type": "code",
   "execution_count": 161,
   "id": "05014550",
   "metadata": {},
   "outputs": [
    {
     "data": {
      "text/html": [
       "<div>\n",
       "<style scoped>\n",
       "    .dataframe tbody tr th:only-of-type {\n",
       "        vertical-align: middle;\n",
       "    }\n",
       "\n",
       "    .dataframe tbody tr th {\n",
       "        vertical-align: top;\n",
       "    }\n",
       "\n",
       "    .dataframe thead th {\n",
       "        text-align: right;\n",
       "    }\n",
       "</style>\n",
       "<table border=\"1\" class=\"dataframe\">\n",
       "  <thead>\n",
       "    <tr style=\"text-align: right;\">\n",
       "      <th></th>\n",
       "      <th>Sentiment</th>\n",
       "      <th>Date</th>\n",
       "      <th>User</th>\n",
       "      <th>Tweet</th>\n",
       "    </tr>\n",
       "  </thead>\n",
       "  <tbody>\n",
       "    <tr>\n",
       "      <th>0</th>\n",
       "      <td>0</td>\n",
       "      <td>2009-04-06 22:19:45</td>\n",
       "      <td>_TheSpecialOne_</td>\n",
       "      <td>@switchfoot http://twitpic.com/2y1zl - Awww, that's a bummer.  You shoulda got David Carr of Third Day to do it. ;D</td>\n",
       "    </tr>\n",
       "    <tr>\n",
       "      <th>1</th>\n",
       "      <td>0</td>\n",
       "      <td>2009-04-06 22:19:49</td>\n",
       "      <td>scotthamilton</td>\n",
       "      <td>is upset that he can't update his Facebook by texting it... and might cry as a result  School today also. Blah!</td>\n",
       "    </tr>\n",
       "    <tr>\n",
       "      <th>2</th>\n",
       "      <td>0</td>\n",
       "      <td>2009-04-06 22:19:53</td>\n",
       "      <td>mattycus</td>\n",
       "      <td>@Kenichan I dived many times for the ball. Managed to save 50%  The rest go out of bounds</td>\n",
       "    </tr>\n",
       "    <tr>\n",
       "      <th>3</th>\n",
       "      <td>0</td>\n",
       "      <td>2009-04-06 22:19:57</td>\n",
       "      <td>ElleCTF</td>\n",
       "      <td>my whole body feels itchy and like its on fire</td>\n",
       "    </tr>\n",
       "    <tr>\n",
       "      <th>4</th>\n",
       "      <td>0</td>\n",
       "      <td>2009-04-06 22:19:57</td>\n",
       "      <td>Karoli</td>\n",
       "      <td>@nationwideclass no, it's not behaving at all. i'm mad. why am i here? because I can't see you all over there.</td>\n",
       "    </tr>\n",
       "  </tbody>\n",
       "</table>\n",
       "</div>"
      ],
      "text/plain": [
       "   Sentiment                Date             User  \\\n",
       "0          0 2009-04-06 22:19:45  _TheSpecialOne_   \n",
       "1          0 2009-04-06 22:19:49    scotthamilton   \n",
       "2          0 2009-04-06 22:19:53         mattycus   \n",
       "3          0 2009-04-06 22:19:57          ElleCTF   \n",
       "4          0 2009-04-06 22:19:57           Karoli   \n",
       "\n",
       "                                                                                                                 Tweet  \n",
       "0  @switchfoot http://twitpic.com/2y1zl - Awww, that's a bummer.  You shoulda got David Carr of Third Day to do it. ;D  \n",
       "1      is upset that he can't update his Facebook by texting it... and might cry as a result  School today also. Blah!  \n",
       "2                            @Kenichan I dived many times for the ball. Managed to save 50%  The rest go out of bounds  \n",
       "3                                                                      my whole body feels itchy and like its on fire   \n",
       "4      @nationwideclass no, it's not behaving at all. i'm mad. why am i here? because I can't see you all over there.   "
      ]
     },
     "execution_count": 161,
     "metadata": {},
     "output_type": "execute_result"
    }
   ],
   "source": [
    "# sanity check\n",
    "df_clean.head()"
   ]
  },
  {
   "cell_type": "code",
   "execution_count": 162,
   "id": "ed5f0af9",
   "metadata": {},
   "outputs": [],
   "source": [
    "# Convert tweets to lower case\n",
    "df_clean['Tweet'] = df_clean['Tweet'].str.lower()"
   ]
  },
  {
   "cell_type": "code",
   "execution_count": 164,
   "id": "d3b5f62e",
   "metadata": {},
   "outputs": [
    {
     "data": {
      "text/plain": [
       "0          @switchfoot http://twitpic.com/2y1zl - awww, that's a bummer.  you shoulda got david carr of third day to do it. ;d\n",
       "1              is upset that he can't update his facebook by texting it... and might cry as a result  school today also. blah!\n",
       "2                                    @kenichan i dived many times for the ball. managed to save 50%  the rest go out of bounds\n",
       "3                                                                              my whole body feels itchy and like its on fire \n",
       "4              @nationwideclass no, it's not behaving at all. i'm mad. why am i here? because i can't see you all over there. \n",
       "                                                                  ...                                                         \n",
       "1599995                                                               just woke up. having no school is the best feeling ever \n",
       "1599996                                         thewdb.com - very cool to hear old walt interviews!  â« http://blip.fm/~8bmta\n",
       "1599997                                                              are you ready for your mojo makeover? ask me for details \n",
       "1599998                                                      happy 38th birthday to my boo of alll time!!! tupac amaru shakur \n",
       "1599999                                                         happy #charitytuesday @thenspcc @sparkscharity @speakinguph4h \n",
       "Name: Tweet, Length: 1594745, dtype: object"
      ]
     },
     "execution_count": 164,
     "metadata": {},
     "output_type": "execute_result"
    }
   ],
   "source": [
    "# sanity check\n",
    "df_clean['Tweet']"
   ]
  },
  {
   "cell_type": "code",
   "execution_count": 165,
   "id": "85e7b6c8",
   "metadata": {},
   "outputs": [],
   "source": [
    "# tagging and hastags in new column\n",
    "df_clean['Tagging'] = df_clean['Tweet']\\\n",
    "    .apply(lambda x: ', '.join([mention.strip('@') for mention in x.split() if mention.startswith('@')]))\n",
    "df_clean['Hashtags'] = df_clean['Tweet']\\\n",
    "    .apply(lambda x: ', '.join([hashtag.strip('#') for hashtag in x.split() if hashtag.startswith('#')]))"
   ]
  },
  {
   "cell_type": "code",
   "execution_count": 166,
   "id": "230ea11b",
   "metadata": {},
   "outputs": [],
   "source": [
    "# Define the emojis pattern\n",
    "emojis_pattern = r'(:\\) |:\\]|: \\)|=\\)|:d|;d|:\\(|:\\[|:- \\))'\n",
    "\n",
    "# Add a new column to store the presence of emojis\n",
    "emojis = df_clean['Tweet'].str.extractall(emojis_pattern).groupby(level=0).agg(','.join)\n",
    "df_clean['Emojis'] = emojis if not emojis.empty else None\n",
    "df_clean['Emojis'] = df_clean['Emojis'].fillna('None')"
   ]
  },
  {
   "cell_type": "code",
   "execution_count": 167,
   "id": "e4dc0f46",
   "metadata": {},
   "outputs": [
    {
     "data": {
      "text/html": [
       "<div>\n",
       "<style scoped>\n",
       "    .dataframe tbody tr th:only-of-type {\n",
       "        vertical-align: middle;\n",
       "    }\n",
       "\n",
       "    .dataframe tbody tr th {\n",
       "        vertical-align: top;\n",
       "    }\n",
       "\n",
       "    .dataframe thead th {\n",
       "        text-align: right;\n",
       "    }\n",
       "</style>\n",
       "<table border=\"1\" class=\"dataframe\">\n",
       "  <thead>\n",
       "    <tr style=\"text-align: right;\">\n",
       "      <th></th>\n",
       "      <th>Sentiment</th>\n",
       "      <th>Date</th>\n",
       "      <th>User</th>\n",
       "      <th>Tweet</th>\n",
       "      <th>Tagging</th>\n",
       "      <th>Hashtags</th>\n",
       "      <th>Emojis</th>\n",
       "    </tr>\n",
       "  </thead>\n",
       "  <tbody>\n",
       "    <tr>\n",
       "      <th>0</th>\n",
       "      <td>0</td>\n",
       "      <td>2009-04-06 22:19:45</td>\n",
       "      <td>_TheSpecialOne_</td>\n",
       "      <td>@switchfoot http://twitpic.com/2y1zl - awww, that's a bummer.  you shoulda got david carr of third day to do it. ;d</td>\n",
       "      <td>switchfoot</td>\n",
       "      <td></td>\n",
       "      <td>;d</td>\n",
       "    </tr>\n",
       "  </tbody>\n",
       "</table>\n",
       "</div>"
      ],
      "text/plain": [
       "   Sentiment                Date             User  \\\n",
       "0          0 2009-04-06 22:19:45  _TheSpecialOne_   \n",
       "\n",
       "                                                                                                                 Tweet  \\\n",
       "0  @switchfoot http://twitpic.com/2y1zl - awww, that's a bummer.  you shoulda got david carr of third day to do it. ;d   \n",
       "\n",
       "      Tagging Hashtags Emojis  \n",
       "0  switchfoot              ;d  "
      ]
     },
     "execution_count": 167,
     "metadata": {},
     "output_type": "execute_result"
    }
   ],
   "source": [
    "df_clean.head(1)"
   ]
  },
  {
   "cell_type": "code",
   "execution_count": 168,
   "id": "ec65b0ea",
   "metadata": {},
   "outputs": [],
   "source": [
    "# cleaning the special characters\n",
    "df_clean['Tweet'] = df_clean['Tweet'].str.replace(r\"&quot;\", ' ', regex=True)\n",
    "df_clean['Tweet'] = df_clean['Tweet'].str.replace(r\"&amp;\", ' ', regex=True)\n",
    "df_clean['Tweet'] = df_clean['Tweet'].str.replace(r\"&gt;\", ' ', regex=True)\n",
    "df_clean['Tweet'] = df_clean['Tweet'].str.replace(r\"&lt;\", ' ', regex=True)"
   ]
  },
  {
   "cell_type": "code",
   "execution_count": 169,
   "id": "26193950",
   "metadata": {},
   "outputs": [
    {
     "data": {
      "text/html": [
       "<div>\n",
       "<style scoped>\n",
       "    .dataframe tbody tr th:only-of-type {\n",
       "        vertical-align: middle;\n",
       "    }\n",
       "\n",
       "    .dataframe tbody tr th {\n",
       "        vertical-align: top;\n",
       "    }\n",
       "\n",
       "    .dataframe thead th {\n",
       "        text-align: right;\n",
       "    }\n",
       "</style>\n",
       "<table border=\"1\" class=\"dataframe\">\n",
       "  <thead>\n",
       "    <tr style=\"text-align: right;\">\n",
       "      <th></th>\n",
       "      <th>Sentiment</th>\n",
       "      <th>Date</th>\n",
       "      <th>User</th>\n",
       "      <th>Tweet</th>\n",
       "      <th>Tagging</th>\n",
       "      <th>Hashtags</th>\n",
       "      <th>Emojis</th>\n",
       "    </tr>\n",
       "  </thead>\n",
       "  <tbody>\n",
       "    <tr>\n",
       "      <th>1471948</th>\n",
       "      <td>1</td>\n",
       "      <td>2009-06-07 08:18:30</td>\n",
       "      <td>c0der</td>\n",
       "      <td>ð³ñ. twitter ñð°ð±ð¾ñð°ðµñ ð¸ ð¿ð¾ https</td>\n",
       "      <td></td>\n",
       "      <td></td>\n",
       "      <td>None</td>\n",
       "    </tr>\n",
       "  </tbody>\n",
       "</table>\n",
       "</div>"
      ],
      "text/plain": [
       "         Sentiment                Date   User  \\\n",
       "1471948          1 2009-06-07 08:18:30  c0der   \n",
       "\n",
       "                                                 Tweet Tagging Hashtags Emojis  \n",
       "1471948  ð³ñ. twitter ñð°ð±ð¾ñð°ðµñ ð¸ ð¿ð¾ https                     None  "
      ]
     },
     "execution_count": 169,
     "metadata": {},
     "output_type": "execute_result"
    }
   ],
   "source": [
    "df_clean[df_clean['User'] == 'c0der']"
   ]
  },
  {
   "cell_type": "code",
   "execution_count": 170,
   "id": "38fd8710",
   "metadata": {},
   "outputs": [],
   "source": [
    "df_clean.drop(df_clean[df_clean['Tweet'].str.contains(r'ñ||å||§|ù||¹|¡|³|ã|©|®|â|¬|î|±|ä|°|ð|ç||é|ì|²|\\\n",
    "                                    ¢|×|¨|æ|¸|ë|ê|»|¶|à|¼|¾||£|')].index, inplace=True)"
   ]
  },
  {
   "cell_type": "code",
   "execution_count": null,
   "id": "f6673019",
   "metadata": {},
   "outputs": [],
   "source": [
    "df_clean['Emojis'] = emojis if not emojis.empty else None"
   ]
  },
  {
   "cell_type": "code",
   "execution_count": 179,
   "id": "62048c98",
   "metadata": {},
   "outputs": [],
   "source": [
    "df_clean['Tagging'] = df_clean['Tagging'].fillna('None').replace('', None)\n",
    "df_clean['Hashtags'] = df_clean['Hashtags'].fillna('None').replace('', None)"
   ]
  },
  {
   "cell_type": "code",
   "execution_count": 186,
   "id": "84ca60ce",
   "metadata": {},
   "outputs": [
    {
     "data": {
      "text/html": [
       "<div>\n",
       "<style scoped>\n",
       "    .dataframe tbody tr th:only-of-type {\n",
       "        vertical-align: middle;\n",
       "    }\n",
       "\n",
       "    .dataframe tbody tr th {\n",
       "        vertical-align: top;\n",
       "    }\n",
       "\n",
       "    .dataframe thead th {\n",
       "        text-align: right;\n",
       "    }\n",
       "</style>\n",
       "<table border=\"1\" class=\"dataframe\">\n",
       "  <thead>\n",
       "    <tr style=\"text-align: right;\">\n",
       "      <th></th>\n",
       "      <th>Sentiment</th>\n",
       "      <th>Date</th>\n",
       "      <th>User</th>\n",
       "      <th>Tweet</th>\n",
       "      <th>Tagging</th>\n",
       "      <th>Hashtags</th>\n",
       "      <th>Emojis</th>\n",
       "    </tr>\n",
       "  </thead>\n",
       "  <tbody>\n",
       "    <tr>\n",
       "      <th>904835</th>\n",
       "      <td>1</td>\n",
       "      <td>2009-05-04 04:38:34</td>\n",
       "      <td>HarryR</td>\n",
       "      <td>@lisadamast and he really doesn't like shiny happy people. i'm a local rem expert btw. saw them for the first time in 1986.</td>\n",
       "      <td>lisadamast</td>\n",
       "      <td>None</td>\n",
       "      <td>None</td>\n",
       "    </tr>\n",
       "    <tr>\n",
       "      <th>553166</th>\n",
       "      <td>0</td>\n",
       "      <td>2009-06-17 00:01:39</td>\n",
       "      <td>jeannemariepics</td>\n",
       "      <td>@diecasthawaii a few more years for what? i had another twitter time out</td>\n",
       "      <td>diecasthawaii</td>\n",
       "      <td>None</td>\n",
       "      <td>None</td>\n",
       "    </tr>\n",
       "    <tr>\n",
       "      <th>1187824</th>\n",
       "      <td>1</td>\n",
       "      <td>2009-05-31 12:44:41</td>\n",
       "      <td>ddlovato__</td>\n",
       "      <td>i found this picture that i love it  http://twitgoo.com/d7gg</td>\n",
       "      <td>None</td>\n",
       "      <td>None</td>\n",
       "      <td>None</td>\n",
       "    </tr>\n",
       "    <tr>\n",
       "      <th>1262639</th>\n",
       "      <td>1</td>\n",
       "      <td>2009-06-01 19:15:49</td>\n",
       "      <td>lsmith77</td>\n",
       "      <td>@kirstiealley i like fb diet, includes dk chocolate  have had good results  http://bit.ly/jp9ye</td>\n",
       "      <td>kirstiealley</td>\n",
       "      <td>None</td>\n",
       "      <td>None</td>\n",
       "    </tr>\n",
       "    <tr>\n",
       "      <th>164314</th>\n",
       "      <td>0</td>\n",
       "      <td>2009-05-29 07:46:54</td>\n",
       "      <td>monaah</td>\n",
       "      <td>contemplating borrowing one of my moms dogs just for today..i want to take care of someone.</td>\n",
       "      <td>None</td>\n",
       "      <td>None</td>\n",
       "      <td>None</td>\n",
       "    </tr>\n",
       "  </tbody>\n",
       "</table>\n",
       "</div>"
      ],
      "text/plain": [
       "         Sentiment                Date             User  \\\n",
       "904835           1 2009-05-04 04:38:34           HarryR   \n",
       "553166           0 2009-06-17 00:01:39  jeannemariepics   \n",
       "1187824          1 2009-05-31 12:44:41       ddlovato__   \n",
       "1262639          1 2009-06-01 19:15:49         lsmith77   \n",
       "164314           0 2009-05-29 07:46:54           monaah   \n",
       "\n",
       "                                                                                                                                Tweet  \\\n",
       "904835   @lisadamast and he really doesn't like shiny happy people. i'm a local rem expert btw. saw them for the first time in 1986.    \n",
       "553166                                                      @diecasthawaii a few more years for what? i had another twitter time out    \n",
       "1187824                                                                  i found this picture that i love it  http://twitgoo.com/d7gg   \n",
       "1262639                               @kirstiealley i like fb diet, includes dk chocolate  have had good results  http://bit.ly/jp9ye   \n",
       "164314                                   contemplating borrowing one of my moms dogs just for today..i want to take care of someone.    \n",
       "\n",
       "               Tagging Hashtags Emojis  \n",
       "904835      lisadamast     None   None  \n",
       "553166   diecasthawaii     None   None  \n",
       "1187824           None     None   None  \n",
       "1262639   kirstiealley     None   None  \n",
       "164314            None     None   None  "
      ]
     },
     "execution_count": 186,
     "metadata": {},
     "output_type": "execute_result"
    }
   ],
   "source": [
    "df_clean[df_clean['Tweet'].str.contains(r'\\W')].sample(5)"
   ]
  },
  {
   "cell_type": "code",
   "execution_count": 187,
   "id": "559bc156",
   "metadata": {},
   "outputs": [
    {
     "data": {
      "text/html": [
       "<div>\n",
       "<style scoped>\n",
       "    .dataframe tbody tr th:only-of-type {\n",
       "        vertical-align: middle;\n",
       "    }\n",
       "\n",
       "    .dataframe tbody tr th {\n",
       "        vertical-align: top;\n",
       "    }\n",
       "\n",
       "    .dataframe thead th {\n",
       "        text-align: right;\n",
       "    }\n",
       "</style>\n",
       "<table border=\"1\" class=\"dataframe\">\n",
       "  <thead>\n",
       "    <tr style=\"text-align: right;\">\n",
       "      <th></th>\n",
       "      <th>Sentiment</th>\n",
       "      <th>Date</th>\n",
       "      <th>User</th>\n",
       "      <th>Tweet</th>\n",
       "      <th>Tagging</th>\n",
       "      <th>Hashtags</th>\n",
       "      <th>Emojis</th>\n",
       "    </tr>\n",
       "  </thead>\n",
       "  <tbody>\n",
       "    <tr>\n",
       "      <th>0</th>\n",
       "      <td>0</td>\n",
       "      <td>2009-04-06 22:19:45</td>\n",
       "      <td>_TheSpecialOne_</td>\n",
       "      <td>@switchfoot http://twitpic.com/2y1zl - awww, that's a bummer.  you shoulda got david carr of third day to do it. ;d</td>\n",
       "      <td>switchfoot</td>\n",
       "      <td>None</td>\n",
       "      <td>;d</td>\n",
       "    </tr>\n",
       "    <tr>\n",
       "      <th>1</th>\n",
       "      <td>0</td>\n",
       "      <td>2009-04-06 22:19:49</td>\n",
       "      <td>scotthamilton</td>\n",
       "      <td>is upset that he can't update his facebook by texting it... and might cry as a result  school today also. blah!</td>\n",
       "      <td>None</td>\n",
       "      <td>None</td>\n",
       "      <td>None</td>\n",
       "    </tr>\n",
       "    <tr>\n",
       "      <th>2</th>\n",
       "      <td>0</td>\n",
       "      <td>2009-04-06 22:19:53</td>\n",
       "      <td>mattycus</td>\n",
       "      <td>@kenichan i dived many times for the ball. managed to save 50%  the rest go out of bounds</td>\n",
       "      <td>kenichan</td>\n",
       "      <td>None</td>\n",
       "      <td>None</td>\n",
       "    </tr>\n",
       "    <tr>\n",
       "      <th>4</th>\n",
       "      <td>0</td>\n",
       "      <td>2009-04-06 22:19:57</td>\n",
       "      <td>Karoli</td>\n",
       "      <td>@nationwideclass no, it's not behaving at all. i'm mad. why am i here? because i can't see you all over there.</td>\n",
       "      <td>nationwideclass</td>\n",
       "      <td>None</td>\n",
       "      <td>None</td>\n",
       "    </tr>\n",
       "    <tr>\n",
       "      <th>5</th>\n",
       "      <td>0</td>\n",
       "      <td>2009-04-06 22:20:00</td>\n",
       "      <td>joy_wolf</td>\n",
       "      <td>@kwesidei not the whole crew</td>\n",
       "      <td>kwesidei</td>\n",
       "      <td>None</td>\n",
       "      <td>None</td>\n",
       "    </tr>\n",
       "    <tr>\n",
       "      <th>...</th>\n",
       "      <td>...</td>\n",
       "      <td>...</td>\n",
       "      <td>...</td>\n",
       "      <td>...</td>\n",
       "      <td>...</td>\n",
       "      <td>...</td>\n",
       "      <td>...</td>\n",
       "    </tr>\n",
       "    <tr>\n",
       "      <th>1599994</th>\n",
       "      <td>1</td>\n",
       "      <td>2009-06-16 08:39:00</td>\n",
       "      <td>EvolveTom</td>\n",
       "      <td>@cliff_forster yeah, that does work better than just waiting for it  in the end i just wonder if i have time to keep up a good blog.</td>\n",
       "      <td>cliff_forster</td>\n",
       "      <td>None</td>\n",
       "      <td>None</td>\n",
       "    </tr>\n",
       "    <tr>\n",
       "      <th>1599995</th>\n",
       "      <td>1</td>\n",
       "      <td>2009-06-16 08:40:49</td>\n",
       "      <td>AmandaMarie1028</td>\n",
       "      <td>just woke up. having no school is the best feeling ever</td>\n",
       "      <td>None</td>\n",
       "      <td>None</td>\n",
       "      <td>None</td>\n",
       "    </tr>\n",
       "    <tr>\n",
       "      <th>1599997</th>\n",
       "      <td>1</td>\n",
       "      <td>2009-06-16 08:40:49</td>\n",
       "      <td>bpbabe</td>\n",
       "      <td>are you ready for your mojo makeover? ask me for details</td>\n",
       "      <td>None</td>\n",
       "      <td>None</td>\n",
       "      <td>None</td>\n",
       "    </tr>\n",
       "    <tr>\n",
       "      <th>1599998</th>\n",
       "      <td>1</td>\n",
       "      <td>2009-06-16 08:40:49</td>\n",
       "      <td>tinydiamondz</td>\n",
       "      <td>happy 38th birthday to my boo of alll time!!! tupac amaru shakur</td>\n",
       "      <td>None</td>\n",
       "      <td>None</td>\n",
       "      <td>None</td>\n",
       "    </tr>\n",
       "    <tr>\n",
       "      <th>1599999</th>\n",
       "      <td>1</td>\n",
       "      <td>2009-06-16 08:40:50</td>\n",
       "      <td>RyanTrevMorris</td>\n",
       "      <td>happy #charitytuesday @thenspcc @sparkscharity @speakinguph4h</td>\n",
       "      <td>thenspcc, sparkscharity, speakinguph4h</td>\n",
       "      <td>charitytuesday</td>\n",
       "      <td>None</td>\n",
       "    </tr>\n",
       "  </tbody>\n",
       "</table>\n",
       "<p>1443013 rows × 7 columns</p>\n",
       "</div>"
      ],
      "text/plain": [
       "         Sentiment                Date             User  \\\n",
       "0                0 2009-04-06 22:19:45  _TheSpecialOne_   \n",
       "1                0 2009-04-06 22:19:49    scotthamilton   \n",
       "2                0 2009-04-06 22:19:53         mattycus   \n",
       "4                0 2009-04-06 22:19:57           Karoli   \n",
       "5                0 2009-04-06 22:20:00         joy_wolf   \n",
       "...            ...                 ...              ...   \n",
       "1599994          1 2009-06-16 08:39:00        EvolveTom   \n",
       "1599995          1 2009-06-16 08:40:49  AmandaMarie1028   \n",
       "1599997          1 2009-06-16 08:40:49           bpbabe   \n",
       "1599998          1 2009-06-16 08:40:49     tinydiamondz   \n",
       "1599999          1 2009-06-16 08:40:50   RyanTrevMorris   \n",
       "\n",
       "                                                                                                                                        Tweet  \\\n",
       "0                         @switchfoot http://twitpic.com/2y1zl - awww, that's a bummer.  you shoulda got david carr of third day to do it. ;d   \n",
       "1                             is upset that he can't update his facebook by texting it... and might cry as a result  school today also. blah!   \n",
       "2                                                   @kenichan i dived many times for the ball. managed to save 50%  the rest go out of bounds   \n",
       "4                             @nationwideclass no, it's not behaving at all. i'm mad. why am i here? because i can't see you all over there.    \n",
       "5                                                                                                               @kwesidei not the whole crew    \n",
       "...                                                                                                                                       ...   \n",
       "1599994  @cliff_forster yeah, that does work better than just waiting for it  in the end i just wonder if i have time to keep up a good blog.   \n",
       "1599995                                                                              just woke up. having no school is the best feeling ever    \n",
       "1599997                                                                             are you ready for your mojo makeover? ask me for details    \n",
       "1599998                                                                     happy 38th birthday to my boo of alll time!!! tupac amaru shakur    \n",
       "1599999                                                                        happy #charitytuesday @thenspcc @sparkscharity @speakinguph4h    \n",
       "\n",
       "                                        Tagging        Hashtags Emojis  \n",
       "0                                    switchfoot            None     ;d  \n",
       "1                                          None            None   None  \n",
       "2                                      kenichan            None   None  \n",
       "4                               nationwideclass            None   None  \n",
       "5                                      kwesidei            None   None  \n",
       "...                                         ...             ...    ...  \n",
       "1599994                           cliff_forster            None   None  \n",
       "1599995                                    None            None   None  \n",
       "1599997                                    None            None   None  \n",
       "1599998                                    None            None   None  \n",
       "1599999  thenspcc, sparkscharity, speakinguph4h  charitytuesday   None  \n",
       "\n",
       "[1443013 rows x 7 columns]"
      ]
     },
     "execution_count": 187,
     "metadata": {},
     "output_type": "execute_result"
    }
   ],
   "source": [
    "df_clean[df_clean['Tweet'].str.contains(r'[^a-z ]')]"
   ]
  },
  {
   "cell_type": "code",
   "execution_count": 189,
   "id": "e7fdbb6b",
   "metadata": {},
   "outputs": [],
   "source": [
    "import string\n",
    "import preprocessor as p\n",
    "\n",
    "def clean_tweets(df_clean):\n",
    "    #set up punctuations we want to be replaced\n",
    "    removal_punctuation = re.compile(\"(\\.)|(\\;)|(\\:)|(\\!)|(\\')|(\\?)|(\\,)|(\\\")|(\\|)|(\\()|(\\))|(\\[)|(\\])|(\\%)|(\\$)|(\\>)|(\\<)|(\\{)|(\\})|(\\*)|(\\$)|(\\=)\")\n",
    "    pair_words = re.compile(\"(-)|(/)|(:).\")\n",
    "    tokenized_sentence = []\n",
    "    for line in df_clean:\n",
    "        # send to tweet_processor\n",
    "        p.set_options(p.OPT.URL, p.OPT.MENTION, p.OPT.HASHTAG)\n",
    "        tmpL = p.clean(line)\n",
    "        # remove puctuation\n",
    "        tmpL = removal_punctuation.sub(\"\", tmpL.lower()) # convert all tweets to lower cases\n",
    "        tmpL = pair_words.sub(\" \", tmpL)\n",
    "        tokenized_sentence.append(tmpL)\n",
    "    return tokenized_sentence"
   ]
  },
  {
   "cell_type": "code",
   "execution_count": null,
   "id": "4909c7db",
   "metadata": {},
   "outputs": [
    {
     "name": "stdout",
     "output_type": "stream",
     "text": [
      "!\"#$%&'()*+,-./:;<=>?@[\\]^_`{|}~\n"
     ]
    }
   ],
   "source": [
    "print(string.punctuation)"
   ]
  },
  {
   "cell_type": "code",
   "execution_count": 191,
   "id": "86b3c5b7",
   "metadata": {},
   "outputs": [],
   "source": [
    "df_clean['Tweet'] = clean_tweets(df_clean['Tweet'])"
   ]
  },
  {
   "cell_type": "code",
   "execution_count": 192,
   "id": "ed8fa0ad",
   "metadata": {},
   "outputs": [
    {
     "data": {
      "text/html": [
       "<div>\n",
       "<style scoped>\n",
       "    .dataframe tbody tr th:only-of-type {\n",
       "        vertical-align: middle;\n",
       "    }\n",
       "\n",
       "    .dataframe tbody tr th {\n",
       "        vertical-align: top;\n",
       "    }\n",
       "\n",
       "    .dataframe thead th {\n",
       "        text-align: right;\n",
       "    }\n",
       "</style>\n",
       "<table border=\"1\" class=\"dataframe\">\n",
       "  <thead>\n",
       "    <tr style=\"text-align: right;\">\n",
       "      <th></th>\n",
       "      <th>Sentiment</th>\n",
       "      <th>Date</th>\n",
       "      <th>User</th>\n",
       "      <th>Tweet</th>\n",
       "      <th>Tagging</th>\n",
       "      <th>Hashtags</th>\n",
       "      <th>Emojis</th>\n",
       "    </tr>\n",
       "  </thead>\n",
       "  <tbody>\n",
       "    <tr>\n",
       "      <th>2</th>\n",
       "      <td>0</td>\n",
       "      <td>2009-04-06 22:19:53</td>\n",
       "      <td>mattycus</td>\n",
       "      <td>i dived many times for the ball managed to save 50 the rest go out of bounds</td>\n",
       "      <td>kenichan</td>\n",
       "      <td>None</td>\n",
       "      <td>None</td>\n",
       "    </tr>\n",
       "    <tr>\n",
       "      <th>24</th>\n",
       "      <td>0</td>\n",
       "      <td>2009-04-06 22:20:41</td>\n",
       "      <td>Ljelli3166</td>\n",
       "      <td>blagh class at 8 tomorrow</td>\n",
       "      <td>None</td>\n",
       "      <td>None</td>\n",
       "      <td>None</td>\n",
       "    </tr>\n",
       "    <tr>\n",
       "      <th>30</th>\n",
       "      <td>0</td>\n",
       "      <td>2009-04-06 22:21:07</td>\n",
       "      <td>fatkat309</td>\n",
       "      <td>some1 hacked my account on aim now i have to make a new one</td>\n",
       "      <td>None</td>\n",
       "      <td>None</td>\n",
       "      <td>None</td>\n",
       "    </tr>\n",
       "    <tr>\n",
       "      <th>33</th>\n",
       "      <td>0</td>\n",
       "      <td>2009-04-06 22:21:11</td>\n",
       "      <td>Pbearfox</td>\n",
       "      <td>awe i love you too 1 am here i miss you</td>\n",
       "      <td>julieebaby</td>\n",
       "      <td>None</td>\n",
       "      <td>None</td>\n",
       "    </tr>\n",
       "    <tr>\n",
       "      <th>37</th>\n",
       "      <td>0</td>\n",
       "      <td>2009-04-06 22:21:30</td>\n",
       "      <td>ajaxpro</td>\n",
       "      <td>sorry bed time came here gmt+1</td>\n",
       "      <td>missxu</td>\n",
       "      <td>None</td>\n",
       "      <td>None</td>\n",
       "    </tr>\n",
       "    <tr>\n",
       "      <th>...</th>\n",
       "      <td>...</td>\n",
       "      <td>...</td>\n",
       "      <td>...</td>\n",
       "      <td>...</td>\n",
       "      <td>...</td>\n",
       "      <td>...</td>\n",
       "      <td>...</td>\n",
       "    </tr>\n",
       "    <tr>\n",
       "      <th>1599906</th>\n",
       "      <td>1</td>\n",
       "      <td>2009-06-16 08:38:39</td>\n",
       "      <td>Gregor_Boyd</td>\n",
       "      <td>been playing big surf island and ive unlocked 5 trophies already hah</td>\n",
       "      <td>None</td>\n",
       "      <td>None</td>\n",
       "      <td>None</td>\n",
       "    </tr>\n",
       "    <tr>\n",
       "      <th>1599927</th>\n",
       "      <td>1</td>\n",
       "      <td>2009-06-16 08:38:44</td>\n",
       "      <td>taylorbeckett</td>\n",
       "      <td>wow 840 am is pretty early for me to wake up lol</td>\n",
       "      <td>None</td>\n",
       "      <td>None</td>\n",
       "      <td>None</td>\n",
       "    </tr>\n",
       "    <tr>\n",
       "      <th>1599945</th>\n",
       "      <td>1</td>\n",
       "      <td>2009-06-16 08:38:49</td>\n",
       "      <td>kcnitt</td>\n",
       "      <td>oh yes and btw 800</td>\n",
       "      <td>None</td>\n",
       "      <td>None</td>\n",
       "      <td>None</td>\n",
       "    </tr>\n",
       "    <tr>\n",
       "      <th>1599966</th>\n",
       "      <td>1</td>\n",
       "      <td>2009-06-16 08:38:53</td>\n",
       "      <td>lexi234</td>\n",
       "      <td>got home an hour ago ate lunch watched some tv and now i listening to kelly clarkson no exam tomorrow yay 3 down 4 to go</td>\n",
       "      <td>None</td>\n",
       "      <td>None</td>\n",
       "      <td>None</td>\n",
       "    </tr>\n",
       "    <tr>\n",
       "      <th>1599998</th>\n",
       "      <td>1</td>\n",
       "      <td>2009-06-16 08:40:49</td>\n",
       "      <td>tinydiamondz</td>\n",
       "      <td>happy 38th birthday to my boo of alll time tupac amaru shakur</td>\n",
       "      <td>None</td>\n",
       "      <td>None</td>\n",
       "      <td>None</td>\n",
       "    </tr>\n",
       "  </tbody>\n",
       "</table>\n",
       "<p>232712 rows × 7 columns</p>\n",
       "</div>"
      ],
      "text/plain": [
       "         Sentiment                Date           User  \\\n",
       "2                0 2009-04-06 22:19:53       mattycus   \n",
       "24               0 2009-04-06 22:20:41     Ljelli3166   \n",
       "30               0 2009-04-06 22:21:07      fatkat309   \n",
       "33               0 2009-04-06 22:21:11       Pbearfox   \n",
       "37               0 2009-04-06 22:21:30        ajaxpro   \n",
       "...            ...                 ...            ...   \n",
       "1599906          1 2009-06-16 08:38:39    Gregor_Boyd   \n",
       "1599927          1 2009-06-16 08:38:44  taylorbeckett   \n",
       "1599945          1 2009-06-16 08:38:49         kcnitt   \n",
       "1599966          1 2009-06-16 08:38:53        lexi234   \n",
       "1599998          1 2009-06-16 08:40:49   tinydiamondz   \n",
       "\n",
       "                                                                                                                            Tweet  \\\n",
       "2                                                    i dived many times for the ball managed to save 50 the rest go out of bounds   \n",
       "24                                                                                                      blagh class at 8 tomorrow   \n",
       "30                                                                    some1 hacked my account on aim now i have to make a new one   \n",
       "33                                                                                        awe i love you too 1 am here i miss you   \n",
       "37                                                                                                 sorry bed time came here gmt+1   \n",
       "...                                                                                                                           ...   \n",
       "1599906                                                      been playing big surf island and ive unlocked 5 trophies already hah   \n",
       "1599927                                                                          wow 840 am is pretty early for me to wake up lol   \n",
       "1599945                                                                                                        oh yes and btw 800   \n",
       "1599966  got home an hour ago ate lunch watched some tv and now i listening to kelly clarkson no exam tomorrow yay 3 down 4 to go   \n",
       "1599998                                                             happy 38th birthday to my boo of alll time tupac amaru shakur   \n",
       "\n",
       "            Tagging Hashtags Emojis  \n",
       "2          kenichan     None   None  \n",
       "24             None     None   None  \n",
       "30             None     None   None  \n",
       "33       julieebaby     None   None  \n",
       "37           missxu     None   None  \n",
       "...             ...      ...    ...  \n",
       "1599906        None     None   None  \n",
       "1599927        None     None   None  \n",
       "1599945        None     None   None  \n",
       "1599966        None     None   None  \n",
       "1599998        None     None   None  \n",
       "\n",
       "[232712 rows x 7 columns]"
      ]
     },
     "execution_count": 192,
     "metadata": {},
     "output_type": "execute_result"
    }
   ],
   "source": [
    "# sanity check - removed most of punctuation, mentions, urls, and hashtags\n",
    "df_clean[df_clean['Tweet'].str.contains(r'[^a-z ]')]"
   ]
  },
  {
   "cell_type": "code",
   "execution_count": 193,
   "id": "673cd6ae",
   "metadata": {},
   "outputs": [
    {
     "name": "stderr",
     "output_type": "stream",
     "text": [
      "C:\\Users\\Emran\\AppData\\Local\\Temp\\ipykernel_8992\\4207419134.py:1: FutureWarning: The default value of regex will change from True to False in a future version.\n",
      "  df_clean['Tweet'] = df_clean.loc[:, 'Tweet'].str.replace(r'[^a-z ]', ' ')\n"
     ]
    }
   ],
   "source": [
    "df_clean['Tweet'] = df_clean.loc[:, 'Tweet'].str.replace(r'[^a-z ]', ' ')"
   ]
  },
  {
   "cell_type": "code",
   "execution_count": 208,
   "id": "4e154112",
   "metadata": {},
   "outputs": [
    {
     "data": {
      "text/html": [
       "<div>\n",
       "<style scoped>\n",
       "    .dataframe tbody tr th:only-of-type {\n",
       "        vertical-align: middle;\n",
       "    }\n",
       "\n",
       "    .dataframe tbody tr th {\n",
       "        vertical-align: top;\n",
       "    }\n",
       "\n",
       "    .dataframe thead th {\n",
       "        text-align: right;\n",
       "    }\n",
       "</style>\n",
       "<table border=\"1\" class=\"dataframe\">\n",
       "  <thead>\n",
       "    <tr style=\"text-align: right;\">\n",
       "      <th></th>\n",
       "      <th>Sentiment</th>\n",
       "      <th>Date</th>\n",
       "      <th>User</th>\n",
       "      <th>Tweet</th>\n",
       "      <th>Tagging</th>\n",
       "      <th>Hashtags</th>\n",
       "      <th>Emojis</th>\n",
       "    </tr>\n",
       "  </thead>\n",
       "  <tbody>\n",
       "    <tr>\n",
       "      <th>208</th>\n",
       "      <td>0</td>\n",
       "      <td>2009-04-06 22:33:25</td>\n",
       "      <td>Artiel87</td>\n",
       "      <td></td>\n",
       "      <td>mandayyy</td>\n",
       "      <td>None</td>\n",
       "      <td>None</td>\n",
       "    </tr>\n",
       "    <tr>\n",
       "      <th>249</th>\n",
       "      <td>0</td>\n",
       "      <td>2009-04-06 22:36:27</td>\n",
       "      <td>Artiel87</td>\n",
       "      <td></td>\n",
       "      <td>mandayyy</td>\n",
       "      <td>None</td>\n",
       "      <td>None</td>\n",
       "    </tr>\n",
       "    <tr>\n",
       "      <th>398</th>\n",
       "      <td>0</td>\n",
       "      <td>2009-04-06 22:46:53</td>\n",
       "      <td>KimberlyKane</td>\n",
       "      <td></td>\n",
       "      <td>danadearmond</td>\n",
       "      <td>None</td>\n",
       "      <td>None</td>\n",
       "    </tr>\n",
       "    <tr>\n",
       "      <th>430</th>\n",
       "      <td>0</td>\n",
       "      <td>2009-04-06 22:48:48</td>\n",
       "      <td>jtmal0723</td>\n",
       "      <td></td>\n",
       "      <td>anistorm</td>\n",
       "      <td>None</td>\n",
       "      <td>None</td>\n",
       "    </tr>\n",
       "    <tr>\n",
       "      <th>1011</th>\n",
       "      <td>0</td>\n",
       "      <td>2009-04-06 23:30:23</td>\n",
       "      <td>gabysslave</td>\n",
       "      <td></td>\n",
       "      <td>citizensheep</td>\n",
       "      <td>None</td>\n",
       "      <td>None</td>\n",
       "    </tr>\n",
       "  </tbody>\n",
       "</table>\n",
       "</div>"
      ],
      "text/plain": [
       "      Sentiment                Date          User Tweet       Tagging  \\\n",
       "208           0 2009-04-06 22:33:25      Artiel87            mandayyy   \n",
       "249           0 2009-04-06 22:36:27      Artiel87            mandayyy   \n",
       "398           0 2009-04-06 22:46:53  KimberlyKane        danadearmond   \n",
       "430           0 2009-04-06 22:48:48     jtmal0723            anistorm   \n",
       "1011          0 2009-04-06 23:30:23    gabysslave        citizensheep   \n",
       "\n",
       "     Hashtags Emojis  \n",
       "208      None   None  \n",
       "249      None   None  \n",
       "398      None   None  \n",
       "430      None   None  \n",
       "1011     None   None  "
      ]
     },
     "execution_count": 208,
     "metadata": {},
     "output_type": "execute_result"
    }
   ],
   "source": [
    "# check for empty Tweets\n",
    "df_clean[df_clean['Tweet'] == ''].head()"
   ]
  },
  {
   "cell_type": "markdown",
   "id": "f71eed8f",
   "metadata": {},
   "source": [
    "There is an empty tweets we can remove"
   ]
  },
  {
   "cell_type": "code",
   "execution_count": 209,
   "id": "24e0cd99",
   "metadata": {},
   "outputs": [],
   "source": [
    "df_clean = df_clean[df_clean['Tweet'] != '']"
   ]
  },
  {
   "cell_type": "code",
   "execution_count": 210,
   "id": "9c6b8df3",
   "metadata": {},
   "outputs": [
    {
     "data": {
      "text/html": [
       "<div>\n",
       "<style scoped>\n",
       "    .dataframe tbody tr th:only-of-type {\n",
       "        vertical-align: middle;\n",
       "    }\n",
       "\n",
       "    .dataframe tbody tr th {\n",
       "        vertical-align: top;\n",
       "    }\n",
       "\n",
       "    .dataframe thead th {\n",
       "        text-align: right;\n",
       "    }\n",
       "</style>\n",
       "<table border=\"1\" class=\"dataframe\">\n",
       "  <thead>\n",
       "    <tr style=\"text-align: right;\">\n",
       "      <th></th>\n",
       "      <th>Sentiment</th>\n",
       "      <th>Date</th>\n",
       "      <th>User</th>\n",
       "      <th>Tweet</th>\n",
       "      <th>Tagging</th>\n",
       "      <th>Hashtags</th>\n",
       "      <th>Emojis</th>\n",
       "    </tr>\n",
       "  </thead>\n",
       "  <tbody>\n",
       "  </tbody>\n",
       "</table>\n",
       "</div>"
      ],
      "text/plain": [
       "Empty DataFrame\n",
       "Columns: [Sentiment, Date, User, Tweet, Tagging, Hashtags, Emojis]\n",
       "Index: []"
      ]
     },
     "execution_count": 210,
     "metadata": {},
     "output_type": "execute_result"
    }
   ],
   "source": [
    "# sanity check\n",
    "df_clean[df_clean['Tweet'] == '']"
   ]
  },
  {
   "cell_type": "markdown",
   "id": "c3d42471",
   "metadata": {},
   "source": [
    "----"
   ]
  },
  {
   "cell_type": "markdown",
   "id": "887e5e0e",
   "metadata": {},
   "source": [
    "### End Cleaning"
   ]
  },
  {
   "cell_type": "markdown",
   "id": "3d558a14",
   "metadata": {},
   "source": [
    "## EDA"
   ]
  },
  {
   "cell_type": "code",
   "execution_count": 221,
   "id": "5a289293",
   "metadata": {},
   "outputs": [
    {
     "data": {
      "text/html": [
       "<div>\n",
       "<style scoped>\n",
       "    .dataframe tbody tr th:only-of-type {\n",
       "        vertical-align: middle;\n",
       "    }\n",
       "\n",
       "    .dataframe tbody tr th {\n",
       "        vertical-align: top;\n",
       "    }\n",
       "\n",
       "    .dataframe thead th {\n",
       "        text-align: right;\n",
       "    }\n",
       "</style>\n",
       "<table border=\"1\" class=\"dataframe\">\n",
       "  <thead>\n",
       "    <tr style=\"text-align: right;\">\n",
       "      <th></th>\n",
       "      <th>Sentiment</th>\n",
       "      <th>Date</th>\n",
       "      <th>User</th>\n",
       "      <th>Tweet</th>\n",
       "      <th>Tagging</th>\n",
       "      <th>Hashtags</th>\n",
       "      <th>Emojis</th>\n",
       "      <th>Month</th>\n",
       "      <th>Day</th>\n",
       "      <th>Year</th>\n",
       "    </tr>\n",
       "  </thead>\n",
       "  <tbody>\n",
       "    <tr>\n",
       "      <th>68060</th>\n",
       "      <td>0</td>\n",
       "      <td>2009-05-03 20:30:28</td>\n",
       "      <td>AndreaDSol</td>\n",
       "      <td>just checking my email sooo boring</td>\n",
       "      <td>None</td>\n",
       "      <td>None</td>\n",
       "      <td>None</td>\n",
       "      <td>5</td>\n",
       "      <td>3</td>\n",
       "      <td>2009</td>\n",
       "    </tr>\n",
       "    <tr>\n",
       "      <th>783207</th>\n",
       "      <td>0</td>\n",
       "      <td>2009-06-25 01:39:42</td>\n",
       "      <td>dincandela</td>\n",
       "      <td>tried to give up seat for lhr iad flight for perks fell through now in a broken economy  seat</td>\n",
       "      <td>unitedairlines</td>\n",
       "      <td>None</td>\n",
       "      <td>None</td>\n",
       "      <td>6</td>\n",
       "      <td>25</td>\n",
       "      <td>2009</td>\n",
       "    </tr>\n",
       "  </tbody>\n",
       "</table>\n",
       "</div>"
      ],
      "text/plain": [
       "        Sentiment                Date        User  \\\n",
       "68060           0 2009-05-03 20:30:28  AndreaDSol   \n",
       "783207          0 2009-06-25 01:39:42  dincandela   \n",
       "\n",
       "                                                                                                Tweet  \\\n",
       "68060                                                              just checking my email sooo boring   \n",
       "783207  tried to give up seat for lhr iad flight for perks fell through now in a broken economy  seat   \n",
       "\n",
       "               Tagging Hashtags Emojis  Month  Day  Year  \n",
       "68060             None     None   None      5    3  2009  \n",
       "783207  unitedairlines     None   None      6   25  2009  "
      ]
     },
     "execution_count": 221,
     "metadata": {},
     "output_type": "execute_result"
    }
   ],
   "source": [
    "df_clean.sample(2)"
   ]
  },
  {
   "cell_type": "code",
   "execution_count": 211,
   "id": "7c3d5d72",
   "metadata": {
    "scrolled": true
   },
   "outputs": [
    {
     "data": {
      "text/plain": [
       "mileycyrus                                3900\n",
       "tommcfly                                  3336\n",
       "ddlovato                                  2922\n",
       "jonasbrothers                             2053\n",
       "davidarchie                               1214\n",
       "                                          ... \n",
       "julieand                                     1\n",
       "ruby225                                      1\n",
       "mpits                                        1\n",
       "shantymanfan                                 1\n",
       "thenspcc, sparkscharity, speakinguph4h       1\n",
       "Name: Tagging, Length: 355943, dtype: int64"
      ]
     },
     "execution_count": 211,
     "metadata": {},
     "output_type": "execute_result"
    }
   ],
   "source": [
    "df_clean['Tagging'].value_counts()"
   ]
  },
  {
   "cell_type": "code",
   "execution_count": 212,
   "id": "f212ad7f",
   "metadata": {},
   "outputs": [
    {
     "data": {
      "text/plain": [
       "followfriday                                                 2032\n",
       "fb                                                           1669\n",
       "squarespace                                                   742\n",
       "ff                                                            704\n",
       "iranelection                                                  374\n",
       "                                                             ... \n",
       "screwf1                                                         1\n",
       "inaperfectworld, iranelection, goodpussy., gokeyisadouche       1\n",
       "epicmeat, jergensmaterial                                       1\n",
       "100, 37.                                                        1\n",
       "bigrun                                                          1\n",
       "Name: Hashtags, Length: 13959, dtype: int64"
      ]
     },
     "execution_count": 212,
     "metadata": {},
     "output_type": "execute_result"
    }
   ],
   "source": [
    "df_clean['Hashtags'].value_counts()"
   ]
  },
  {
   "cell_type": "code",
   "execution_count": 213,
   "id": "815c2609",
   "metadata": {},
   "outputs": [
    {
     "data": {
      "text/plain": [
       "None        1577427\n",
       ";d             2456\n",
       ":]              973\n",
       ":[              204\n",
       ":d              109\n",
       ";d,;d            28\n",
       ":],:]            19\n",
       ":(                6\n",
       ":],;d             5\n",
       ":- )              3\n",
       ";d,;d,;d          3\n",
       ";d,:]             3\n",
       ":[,:]             2\n",
       ":[,:[             2\n",
       ":],:],:]          2\n",
       ":],:[             1\n",
       ":d,:d             1\n",
       ";d,:[             1\n",
       ": )               1\n",
       ":d,;d             1\n",
       "Name: Emojis, dtype: int64"
      ]
     },
     "execution_count": 213,
     "metadata": {},
     "output_type": "execute_result"
    }
   ],
   "source": [
    "df_clean['Emojis'].value_counts()"
   ]
  },
  {
   "cell_type": "code",
   "execution_count": null,
   "id": "e5bc49ed",
   "metadata": {},
   "outputs": [
    {
     "data": {
      "text/plain": [
       "(1581247, 7)"
      ]
     },
     "metadata": {},
     "output_type": "display_data"
    }
   ],
   "source": [
    "df_clean.shape"
   ]
  },
  {
   "cell_type": "code",
   "execution_count": 214,
   "id": "7d74203c",
   "metadata": {},
   "outputs": [
    {
     "data": {
      "text/plain": [
       "0    792078\n",
       "1    789169\n",
       "Name: Sentiment, dtype: int64"
      ]
     },
     "execution_count": 214,
     "metadata": {},
     "output_type": "execute_result"
    }
   ],
   "source": [
    "df_clean['Sentiment'].value_counts()"
   ]
  },
  {
   "cell_type": "code",
   "execution_count": 215,
   "id": "a3e7bae3",
   "metadata": {},
   "outputs": [
    {
     "data": {
      "image/png": "[encoded data removed]",
      "text/plain": [
       "<Figure size 1000x400 with 1 Axes>"
      ]
     },
     "metadata": {},
     "output_type": "display_data"
    }
   ],
   "source": [
    "plt.figure(figsize=(10,4))\n",
    "df_clean['Sentiment'].value_counts().plot(kind='bar', rot=0, color=['#FF7F0E', '#3685BC'])\n",
    "plt.title(\"Target Distirbution\")\n",
    "plt.xlabel(\"Sentiment\")\n",
    "plt.ylabel(\"Count\")\n",
    "\n",
    "plt.show()"
   ]
  },
  {
   "cell_type": "code",
   "execution_count": 219,
   "id": "8ed1dde2",
   "metadata": {},
   "outputs": [
    {
     "name": "stderr",
     "output_type": "stream",
     "text": [
      "C:\\Users\\Emran\\AppData\\Local\\Temp\\ipykernel_8992\\1554326582.py:1: SettingWithCopyWarning: \n",
      "A value is trying to be set on a copy of a slice from a DataFrame.\n",
      "Try using .loc[row_indexer,col_indexer] = value instead\n",
      "\n",
      "See the caveats in the documentation: https://pandas.pydata.org/pandas-docs/stable/user_guide/indexing.html#returning-a-view-versus-a-copy\n",
      "  df_clean['Month'] = df_clean['Date'].dt.month\n",
      "C:\\Users\\Emran\\AppData\\Local\\Temp\\ipykernel_8992\\1554326582.py:2: SettingWithCopyWarning: \n",
      "A value is trying to be set on a copy of a slice from a DataFrame.\n",
      "Try using .loc[row_indexer,col_indexer] = value instead\n",
      "\n",
      "See the caveats in the documentation: https://pandas.pydata.org/pandas-docs/stable/user_guide/indexing.html#returning-a-view-versus-a-copy\n",
      "  df_clean['Day'] = df_clean['Date'].dt.day\n"
     ]
    }
   ],
   "source": [
    "df_clean['Month'] = df_clean['Date'].dt.month\n",
    "df_clean['Day'] = df_clean['Date'].dt.day\n",
    "df_clean['Year'] = df_clean['Date'].dt.year"
   ]
  },
  {
   "cell_type": "code",
   "execution_count": 222,
   "id": "cd7cf6dd",
   "metadata": {},
   "outputs": [
    {
     "name": "stderr",
     "output_type": "stream",
     "text": [
      "C:\\Users\\Emran\\AppData\\Local\\Temp\\ipykernel_8992\\1492955426.py:1: SettingWithCopyWarning: \n",
      "A value is trying to be set on a copy of a slice from a DataFrame.\n",
      "Try using .loc[row_indexer,col_indexer] = value instead\n",
      "\n",
      "See the caveats in the documentation: https://pandas.pydata.org/pandas-docs/stable/user_guide/indexing.html#returning-a-view-versus-a-copy\n",
      "  df_clean['Hour'] = df_clean['Date'].dt.hour\n",
      "C:\\Users\\Emran\\AppData\\Local\\Temp\\ipykernel_8992\\1492955426.py:2: SettingWithCopyWarning: \n",
      "A value is trying to be set on a copy of a slice from a DataFrame.\n",
      "Try using .loc[row_indexer,col_indexer] = value instead\n",
      "\n",
      "See the caveats in the documentation: https://pandas.pydata.org/pandas-docs/stable/user_guide/indexing.html#returning-a-view-versus-a-copy\n",
      "  df_clean['Minutes'] = df_clean['Date'].dt.minute\n",
      "C:\\Users\\Emran\\AppData\\Local\\Temp\\ipykernel_8992\\1492955426.py:3: SettingWithCopyWarning: \n",
      "A value is trying to be set on a copy of a slice from a DataFrame.\n",
      "Try using .loc[row_indexer,col_indexer] = value instead\n",
      "\n",
      "See the caveats in the documentation: https://pandas.pydata.org/pandas-docs/stable/user_guide/indexing.html#returning-a-view-versus-a-copy\n",
      "  df_clean['Seconds'] = df_clean['Date'].dt.second\n"
     ]
    }
   ],
   "source": [
    "df_clean['Hour'] = df_clean['Date'].dt.hour\n",
    "df_clean['Minutes'] = df_clean['Date'].dt.minute\n",
    "df_clean['Seconds'] = df_clean['Date'].dt.second"
   ]
  },
  {
   "cell_type": "code",
   "execution_count": 223,
   "id": "f204eda0",
   "metadata": {},
   "outputs": [
    {
     "name": "stderr",
     "output_type": "stream",
     "text": [
      "C:\\Users\\Emran\\AppData\\Local\\Temp\\ipykernel_8992\\1255036111.py:2: SettingWithCopyWarning: \n",
      "A value is trying to be set on a copy of a slice from a DataFrame.\n",
      "Try using .loc[row_indexer,col_indexer] = value instead\n",
      "\n",
      "See the caveats in the documentation: https://pandas.pydata.org/pandas-docs/stable/user_guide/indexing.html#returning-a-view-versus-a-copy\n",
      "  df_clean['DayOfWeek'] = df_clean['Date'].dt.day_name()\n"
     ]
    }
   ],
   "source": [
    "# added a day of the week column\n",
    "df_clean['DayOfWeek'] = df_clean['Date'].dt.day_name()"
   ]
  },
  {
   "cell_type": "code",
   "execution_count": 225,
   "id": "ebf3ddcb",
   "metadata": {
    "scrolled": true
   },
   "outputs": [
    {
     "data": {
      "text/html": [
       "<div>\n",
       "<style scoped>\n",
       "    .dataframe tbody tr th:only-of-type {\n",
       "        vertical-align: middle;\n",
       "    }\n",
       "\n",
       "    .dataframe tbody tr th {\n",
       "        vertical-align: top;\n",
       "    }\n",
       "\n",
       "    .dataframe thead th {\n",
       "        text-align: right;\n",
       "    }\n",
       "</style>\n",
       "<table border=\"1\" class=\"dataframe\">\n",
       "  <thead>\n",
       "    <tr style=\"text-align: right;\">\n",
       "      <th></th>\n",
       "      <th>Sentiment</th>\n",
       "      <th>Date</th>\n",
       "      <th>User</th>\n",
       "      <th>Tweet</th>\n",
       "      <th>Tagging</th>\n",
       "      <th>Hashtags</th>\n",
       "      <th>Emojis</th>\n",
       "      <th>Month</th>\n",
       "      <th>Day</th>\n",
       "      <th>Year</th>\n",
       "      <th>Hour</th>\n",
       "      <th>Minutes</th>\n",
       "      <th>Seconds</th>\n",
       "      <th>DayOfWeek</th>\n",
       "    </tr>\n",
       "  </thead>\n",
       "  <tbody>\n",
       "    <tr>\n",
       "      <th>0</th>\n",
       "      <td>0</td>\n",
       "      <td>2009-04-06 22:19:45</td>\n",
       "      <td>_TheSpecialOne_</td>\n",
       "      <td>awww thats a bummer you shoulda got david carr of third day to do it d</td>\n",
       "      <td>switchfoot</td>\n",
       "      <td>None</td>\n",
       "      <td>;d</td>\n",
       "      <td>4</td>\n",
       "      <td>6</td>\n",
       "      <td>2009</td>\n",
       "      <td>22</td>\n",
       "      <td>19</td>\n",
       "      <td>45</td>\n",
       "      <td>Monday</td>\n",
       "    </tr>\n",
       "    <tr>\n",
       "      <th>1</th>\n",
       "      <td>0</td>\n",
       "      <td>2009-04-06 22:19:49</td>\n",
       "      <td>scotthamilton</td>\n",
       "      <td>is upset that he cant update his facebook by texting it and might cry as a result school today also blah</td>\n",
       "      <td>None</td>\n",
       "      <td>None</td>\n",
       "      <td>None</td>\n",
       "      <td>4</td>\n",
       "      <td>6</td>\n",
       "      <td>2009</td>\n",
       "      <td>22</td>\n",
       "      <td>19</td>\n",
       "      <td>49</td>\n",
       "      <td>Monday</td>\n",
       "    </tr>\n",
       "    <tr>\n",
       "      <th>2</th>\n",
       "      <td>0</td>\n",
       "      <td>2009-04-06 22:19:53</td>\n",
       "      <td>mattycus</td>\n",
       "      <td>i dived many times for the ball managed to save    the rest go out of bounds</td>\n",
       "      <td>kenichan</td>\n",
       "      <td>None</td>\n",
       "      <td>None</td>\n",
       "      <td>4</td>\n",
       "      <td>6</td>\n",
       "      <td>2009</td>\n",
       "      <td>22</td>\n",
       "      <td>19</td>\n",
       "      <td>53</td>\n",
       "      <td>Monday</td>\n",
       "    </tr>\n",
       "    <tr>\n",
       "      <th>3</th>\n",
       "      <td>0</td>\n",
       "      <td>2009-04-06 22:19:57</td>\n",
       "      <td>ElleCTF</td>\n",
       "      <td>my whole body feels itchy and like its on fire</td>\n",
       "      <td>None</td>\n",
       "      <td>None</td>\n",
       "      <td>None</td>\n",
       "      <td>4</td>\n",
       "      <td>6</td>\n",
       "      <td>2009</td>\n",
       "      <td>22</td>\n",
       "      <td>19</td>\n",
       "      <td>57</td>\n",
       "      <td>Monday</td>\n",
       "    </tr>\n",
       "    <tr>\n",
       "      <th>4</th>\n",
       "      <td>0</td>\n",
       "      <td>2009-04-06 22:19:57</td>\n",
       "      <td>Karoli</td>\n",
       "      <td>no its not behaving at all im mad why am i here because i cant see you all over there</td>\n",
       "      <td>nationwideclass</td>\n",
       "      <td>None</td>\n",
       "      <td>None</td>\n",
       "      <td>4</td>\n",
       "      <td>6</td>\n",
       "      <td>2009</td>\n",
       "      <td>22</td>\n",
       "      <td>19</td>\n",
       "      <td>57</td>\n",
       "      <td>Monday</td>\n",
       "    </tr>\n",
       "  </tbody>\n",
       "</table>\n",
       "</div>"
      ],
      "text/plain": [
       "   Sentiment                Date             User  \\\n",
       "0          0 2009-04-06 22:19:45  _TheSpecialOne_   \n",
       "1          0 2009-04-06 22:19:49    scotthamilton   \n",
       "2          0 2009-04-06 22:19:53         mattycus   \n",
       "3          0 2009-04-06 22:19:57          ElleCTF   \n",
       "4          0 2009-04-06 22:19:57           Karoli   \n",
       "\n",
       "                                                                                                      Tweet  \\\n",
       "0                                    awww thats a bummer you shoulda got david carr of third day to do it d   \n",
       "1  is upset that he cant update his facebook by texting it and might cry as a result school today also blah   \n",
       "2                              i dived many times for the ball managed to save    the rest go out of bounds   \n",
       "3                                                            my whole body feels itchy and like its on fire   \n",
       "4                     no its not behaving at all im mad why am i here because i cant see you all over there   \n",
       "\n",
       "           Tagging Hashtags Emojis  Month  Day  Year  Hour  Minutes  Seconds  \\\n",
       "0       switchfoot     None     ;d      4    6  2009    22       19       45   \n",
       "1             None     None   None      4    6  2009    22       19       49   \n",
       "2         kenichan     None   None      4    6  2009    22       19       53   \n",
       "3             None     None   None      4    6  2009    22       19       57   \n",
       "4  nationwideclass     None   None      4    6  2009    22       19       57   \n",
       "\n",
       "  DayOfWeek  \n",
       "0    Monday  \n",
       "1    Monday  \n",
       "2    Monday  \n",
       "3    Monday  \n",
       "4    Monday  "
      ]
     },
     "execution_count": 225,
     "metadata": {},
     "output_type": "execute_result"
    }
   ],
   "source": [
    "df_clean.head(5)"
   ]
  },
  {
   "cell_type": "markdown",
   "id": "1220f3c4",
   "metadata": {},
   "source": [
    "We can drop date column"
   ]
  },
  {
   "cell_type": "code",
   "execution_count": 227,
   "id": "da4adca9",
   "metadata": {},
   "outputs": [
    {
     "name": "stderr",
     "output_type": "stream",
     "text": [
      "C:\\Users\\Emran\\AppData\\Local\\Temp\\ipykernel_8992\\846303259.py:1: SettingWithCopyWarning: \n",
      "A value is trying to be set on a copy of a slice from a DataFrame\n",
      "\n",
      "See the caveats in the documentation: https://pandas.pydata.org/pandas-docs/stable/user_guide/indexing.html#returning-a-view-versus-a-copy\n",
      "  df_clean.drop(columns=['Date'], inplace=True)\n"
     ]
    }
   ],
   "source": [
    "df_clean.drop(columns=['Date'], inplace=True)"
   ]
  },
  {
   "cell_type": "code",
   "execution_count": 228,
   "id": "247e3fd8",
   "metadata": {},
   "outputs": [
    {
     "data": {
      "text/html": [
       "<div>\n",
       "<style scoped>\n",
       "    .dataframe tbody tr th:only-of-type {\n",
       "        vertical-align: middle;\n",
       "    }\n",
       "\n",
       "    .dataframe tbody tr th {\n",
       "        vertical-align: top;\n",
       "    }\n",
       "\n",
       "    .dataframe thead th {\n",
       "        text-align: right;\n",
       "    }\n",
       "</style>\n",
       "<table border=\"1\" class=\"dataframe\">\n",
       "  <thead>\n",
       "    <tr style=\"text-align: right;\">\n",
       "      <th></th>\n",
       "      <th>Sentiment</th>\n",
       "      <th>User</th>\n",
       "      <th>Tweet</th>\n",
       "      <th>Tagging</th>\n",
       "      <th>Hashtags</th>\n",
       "      <th>Emojis</th>\n",
       "      <th>Month</th>\n",
       "      <th>Day</th>\n",
       "      <th>Year</th>\n",
       "      <th>Hour</th>\n",
       "      <th>Minutes</th>\n",
       "      <th>Seconds</th>\n",
       "      <th>DayOfWeek</th>\n",
       "    </tr>\n",
       "  </thead>\n",
       "  <tbody>\n",
       "    <tr>\n",
       "      <th>885488</th>\n",
       "      <td>1</td>\n",
       "      <td>drexar</td>\n",
       "      <td>wow just watch a movie called push very nice</td>\n",
       "      <td>None</td>\n",
       "      <td>None</td>\n",
       "      <td>None</td>\n",
       "      <td>5</td>\n",
       "      <td>3</td>\n",
       "      <td>2009</td>\n",
       "      <td>5</td>\n",
       "      <td>43</td>\n",
       "      <td>56</td>\n",
       "      <td>Sunday</td>\n",
       "    </tr>\n",
       "    <tr>\n",
       "      <th>90003</th>\n",
       "      <td>0</td>\n",
       "      <td>camillewadd37</td>\n",
       "      <td>im super tired at work im considering sleeping on my desk i slept terrible last night time for a new bed</td>\n",
       "      <td>None</td>\n",
       "      <td>None</td>\n",
       "      <td>None</td>\n",
       "      <td>5</td>\n",
       "      <td>10</td>\n",
       "      <td>2009</td>\n",
       "      <td>9</td>\n",
       "      <td>33</td>\n",
       "      <td>33</td>\n",
       "      <td>Sunday</td>\n",
       "    </tr>\n",
       "  </tbody>\n",
       "</table>\n",
       "</div>"
      ],
      "text/plain": [
       "        Sentiment           User  \\\n",
       "885488          1         drexar   \n",
       "90003           0  camillewadd37   \n",
       "\n",
       "                                                                                                           Tweet  \\\n",
       "885488                                                              wow just watch a movie called push very nice   \n",
       "90003   im super tired at work im considering sleeping on my desk i slept terrible last night time for a new bed   \n",
       "\n",
       "       Tagging Hashtags Emojis  Month  Day  Year  Hour  Minutes  Seconds  \\\n",
       "885488    None     None   None      5    3  2009     5       43       56   \n",
       "90003     None     None   None      5   10  2009     9       33       33   \n",
       "\n",
       "       DayOfWeek  \n",
       "885488    Sunday  \n",
       "90003     Sunday  "
      ]
     },
     "execution_count": 228,
     "metadata": {},
     "output_type": "execute_result"
    }
   ],
   "source": [
    "df_clean.sample(2)"
   ]
  },
  {
   "cell_type": "code",
   "execution_count": 229,
   "id": "68f52074",
   "metadata": {},
   "outputs": [
    {
     "data": {
      "image/png": "[encoded data removed]",
      "text/plain": [
       "<Figure size 1000x400 with 1 Axes>"
      ]
     },
     "metadata": {},
     "output_type": "display_data"
    }
   ],
   "source": [
    "plt.figure(figsize=(10,4))\n",
    "plt.hist(df_clean['Day'], bins=70) # histogram\n",
    "plt.title('Distribution of the Day') # title\n",
    "plt.xlabel('Day') # labeling x-axis\n",
    "plt.ylabel('Frequency') # labeling y-axis\n",
    "plt.show()"
   ]
  },
  {
   "cell_type": "code",
   "execution_count": 230,
   "id": "23ca9bba",
   "metadata": {},
   "outputs": [
    {
     "data": {
      "image/png": "[encoded data removed]",
      "text/plain": [
       "<Figure size 1000x400 with 1 Axes>"
      ]
     },
     "metadata": {},
     "output_type": "display_data"
    }
   ],
   "source": [
    "plt.figure(figsize=(10,4))\n",
    "plt.hist(df_clean['DayOfWeek'], bins=20) # histogram\n",
    "plt.title('Distribution of the Week') # title\n",
    "plt.xlabel('Day of the Week') # labeling x-axis\n",
    "plt.ylabel('Frequency') # labeling y-axis\n",
    "plt.show()"
   ]
  },
  {
   "cell_type": "code",
   "execution_count": 231,
   "id": "a039eb32",
   "metadata": {},
   "outputs": [
    {
     "data": {
      "text/html": [
       "<div>\n",
       "<style scoped>\n",
       "    .dataframe tbody tr th:only-of-type {\n",
       "        vertical-align: middle;\n",
       "    }\n",
       "\n",
       "    .dataframe tbody tr th {\n",
       "        vertical-align: top;\n",
       "    }\n",
       "\n",
       "    .dataframe thead th {\n",
       "        text-align: right;\n",
       "    }\n",
       "</style>\n",
       "<table border=\"1\" class=\"dataframe\">\n",
       "  <thead>\n",
       "    <tr style=\"text-align: right;\">\n",
       "      <th></th>\n",
       "      <th>DayOfWeek</th>\n",
       "      <th>Sentiment</th>\n",
       "      <th>Count</th>\n",
       "    </tr>\n",
       "  </thead>\n",
       "  <tbody>\n",
       "    <tr>\n",
       "      <th>0</th>\n",
       "      <td>Friday</td>\n",
       "      <td>0</td>\n",
       "      <td>113607</td>\n",
       "    </tr>\n",
       "    <tr>\n",
       "      <th>1</th>\n",
       "      <td>Friday</td>\n",
       "      <td>1</td>\n",
       "      <td>109861</td>\n",
       "    </tr>\n",
       "    <tr>\n",
       "      <th>2</th>\n",
       "      <td>Monday</td>\n",
       "      <td>0</td>\n",
       "      <td>131299</td>\n",
       "    </tr>\n",
       "    <tr>\n",
       "      <th>3</th>\n",
       "      <td>Monday</td>\n",
       "      <td>1</td>\n",
       "      <td>174831</td>\n",
       "    </tr>\n",
       "    <tr>\n",
       "      <th>4</th>\n",
       "      <td>Saturday</td>\n",
       "      <td>0</td>\n",
       "      <td>156222</td>\n",
       "    </tr>\n",
       "    <tr>\n",
       "      <th>5</th>\n",
       "      <td>Saturday</td>\n",
       "      <td>1</td>\n",
       "      <td>171290</td>\n",
       "    </tr>\n",
       "    <tr>\n",
       "      <th>6</th>\n",
       "      <td>Sunday</td>\n",
       "      <td>0</td>\n",
       "      <td>144184</td>\n",
       "    </tr>\n",
       "    <tr>\n",
       "      <th>7</th>\n",
       "      <td>Sunday</td>\n",
       "      <td>1</td>\n",
       "      <td>196421</td>\n",
       "    </tr>\n",
       "    <tr>\n",
       "      <th>8</th>\n",
       "      <td>Thursday</td>\n",
       "      <td>0</td>\n",
       "      <td>79227</td>\n",
       "    </tr>\n",
       "    <tr>\n",
       "      <th>9</th>\n",
       "      <td>Thursday</td>\n",
       "      <td>1</td>\n",
       "      <td>25694</td>\n",
       "    </tr>\n",
       "    <tr>\n",
       "      <th>10</th>\n",
       "      <td>Tuesday</td>\n",
       "      <td>0</td>\n",
       "      <td>99924</td>\n",
       "    </tr>\n",
       "    <tr>\n",
       "      <th>11</th>\n",
       "      <td>Tuesday</td>\n",
       "      <td>1</td>\n",
       "      <td>83314</td>\n",
       "    </tr>\n",
       "    <tr>\n",
       "      <th>12</th>\n",
       "      <td>Wednesday</td>\n",
       "      <td>0</td>\n",
       "      <td>67615</td>\n",
       "    </tr>\n",
       "    <tr>\n",
       "      <th>13</th>\n",
       "      <td>Wednesday</td>\n",
       "      <td>1</td>\n",
       "      <td>27758</td>\n",
       "    </tr>\n",
       "  </tbody>\n",
       "</table>\n",
       "</div>"
      ],
      "text/plain": [
       "    DayOfWeek  Sentiment   Count\n",
       "0      Friday          0  113607\n",
       "1      Friday          1  109861\n",
       "2      Monday          0  131299\n",
       "3      Monday          1  174831\n",
       "4    Saturday          0  156222\n",
       "5    Saturday          1  171290\n",
       "6      Sunday          0  144184\n",
       "7      Sunday          1  196421\n",
       "8    Thursday          0   79227\n",
       "9    Thursday          1   25694\n",
       "10    Tuesday          0   99924\n",
       "11    Tuesday          1   83314\n",
       "12  Wednesday          0   67615\n",
       "13  Wednesday          1   27758"
      ]
     },
     "execution_count": 231,
     "metadata": {},
     "output_type": "execute_result"
    }
   ],
   "source": [
    "df_clean.groupby(['DayOfWeek', 'Sentiment']).size().reset_index(name='Count')"
   ]
  },
  {
   "cell_type": "code",
   "execution_count": 232,
   "id": "a0e36f8b",
   "metadata": {},
   "outputs": [
    {
     "data": {
      "text/plain": [
       "<Figure size 3500x600 with 0 Axes>"
      ]
     },
     "metadata": {},
     "output_type": "display_data"
    },
    {
     "data": {
      "image/png": "[encoded data removed]",
      "text/plain": [
       "<Figure size 640x480 with 1 Axes>"
      ]
     },
     "metadata": {},
     "output_type": "display_data"
    }
   ],
   "source": [
    "plt.figure(figsize=(35,6)) # setting a figure size \n",
    "grouped = df_clean.groupby(['DayOfWeek', 'Sentiment']).size().reset_index(name='Count')\n",
    "# setting or pivoting Species as index, WNV as a column, and the total count as a value and using barh as a plot\n",
    "grouped.pivot(index='DayOfWeek', columns='Sentiment', values='Count').plot(kind='bar', rot=0, color=['#FF7F0E', '#3685BC']) \n",
    "plt.title(\"Distribution Of Week\") # title\n",
    "plt.xlabel(\"Day Of Week\") # labeling x-axis\n",
    "plt.ylabel(\"Count\") # labeling y-axis\n",
    "#updating legend\n",
    "label_map = {0: 'Negative', 1: 'Positive'}\n",
    "legend_labels = [label_map[val] for val in df_clean['Sentiment']]\n",
    "plt.legend(legend_labels)\n",
    "plt.show()"
   ]
  },
  {
   "cell_type": "code",
   "execution_count": 233,
   "id": "c9e8880e",
   "metadata": {},
   "outputs": [
    {
     "data": {
      "text/plain": [
       "Sunday       340605\n",
       "Saturday     327512\n",
       "Monday       306130\n",
       "Friday       223468\n",
       "Tuesday      183238\n",
       "Thursday     104921\n",
       "Wednesday     95373\n",
       "Name: DayOfWeek, dtype: int64"
      ]
     },
     "execution_count": 233,
     "metadata": {},
     "output_type": "execute_result"
    }
   ],
   "source": [
    "df_clean['DayOfWeek'].value_counts()"
   ]
  },
  {
   "cell_type": "markdown",
   "id": "a40df01d",
   "metadata": {},
   "source": [
    "### Saving the data\n",
    "\n",
    "Now that we have spent the time cleaning and working with EDA. We are going to save it to a CSV file and begin to work with Data Wrangling"
   ]
  },
  {
   "cell_type": "code",
   "execution_count": 235,
   "id": "54e093cc",
   "metadata": {},
   "outputs": [],
   "source": [
    "df_clean.to_csv('cleaned_twitter_data.csv', index=False)"
   ]
  },
  {
   "cell_type": "code",
   "execution_count": 236,
   "id": "7666e6b8",
   "metadata": {},
   "outputs": [
    {
     "data": {
      "text/html": [
       "<div>\n",
       "<style scoped>\n",
       "    .dataframe tbody tr th:only-of-type {\n",
       "        vertical-align: middle;\n",
       "    }\n",
       "\n",
       "    .dataframe tbody tr th {\n",
       "        vertical-align: top;\n",
       "    }\n",
       "\n",
       "    .dataframe thead th {\n",
       "        text-align: right;\n",
       "    }\n",
       "</style>\n",
       "<table border=\"1\" class=\"dataframe\">\n",
       "  <thead>\n",
       "    <tr style=\"text-align: right;\">\n",
       "      <th></th>\n",
       "      <th>Sentiment</th>\n",
       "      <th>User</th>\n",
       "      <th>Tweet</th>\n",
       "      <th>Tagging</th>\n",
       "      <th>Hashtags</th>\n",
       "      <th>Emojis</th>\n",
       "      <th>Month</th>\n",
       "      <th>Day</th>\n",
       "      <th>Year</th>\n",
       "      <th>Hour</th>\n",
       "      <th>Minutes</th>\n",
       "      <th>Seconds</th>\n",
       "      <th>DayOfWeek</th>\n",
       "    </tr>\n",
       "  </thead>\n",
       "  <tbody>\n",
       "    <tr>\n",
       "      <th>175953</th>\n",
       "      <td>0</td>\n",
       "      <td>SunshineBoat</td>\n",
       "      <td>yes they are and now theyre all gone did you enjoy yours</td>\n",
       "      <td>asdquefty</td>\n",
       "      <td>NaN</td>\n",
       "      <td>None</td>\n",
       "      <td>5</td>\n",
       "      <td>29</td>\n",
       "      <td>2009</td>\n",
       "      <td>15</td>\n",
       "      <td>57</td>\n",
       "      <td>29</td>\n",
       "      <td>Friday</td>\n",
       "    </tr>\n",
       "    <tr>\n",
       "      <th>458769</th>\n",
       "      <td>0</td>\n",
       "      <td>jab_baller</td>\n",
       "      <td>no</td>\n",
       "      <td>ejgwapings</td>\n",
       "      <td>NaN</td>\n",
       "      <td>None</td>\n",
       "      <td>6</td>\n",
       "      <td>14</td>\n",
       "      <td>2009</td>\n",
       "      <td>23</td>\n",
       "      <td>13</td>\n",
       "      <td>33</td>\n",
       "      <td>Sunday</td>\n",
       "    </tr>\n",
       "    <tr>\n",
       "      <th>520440</th>\n",
       "      <td>0</td>\n",
       "      <td>dani_panic</td>\n",
       "      <td>ugh feel ill swine flu maybe</td>\n",
       "      <td>NaN</td>\n",
       "      <td>NaN</td>\n",
       "      <td>None</td>\n",
       "      <td>6</td>\n",
       "      <td>16</td>\n",
       "      <td>2009</td>\n",
       "      <td>8</td>\n",
       "      <td>48</td>\n",
       "      <td>54</td>\n",
       "      <td>Tuesday</td>\n",
       "    </tr>\n",
       "    <tr>\n",
       "      <th>1309514</th>\n",
       "      <td>1</td>\n",
       "      <td>Divineshe</td>\n",
       "      <td>i hate the calories love the ice creams</td>\n",
       "      <td>sangfroid</td>\n",
       "      <td>NaN</td>\n",
       "      <td>None</td>\n",
       "      <td>6</td>\n",
       "      <td>3</td>\n",
       "      <td>2009</td>\n",
       "      <td>2</td>\n",
       "      <td>52</td>\n",
       "      <td>35</td>\n",
       "      <td>Wednesday</td>\n",
       "    </tr>\n",
       "    <tr>\n",
       "      <th>1129509</th>\n",
       "      <td>1</td>\n",
       "      <td>LeliaK</td>\n",
       "      <td>we got the cookout in and a couple of games of cornhole before the rain   all is well hope those in wilmington r ok</td>\n",
       "      <td>richwirdzek</td>\n",
       "      <td>NaN</td>\n",
       "      <td>None</td>\n",
       "      <td>5</td>\n",
       "      <td>30</td>\n",
       "      <td>2009</td>\n",
       "      <td>19</td>\n",
       "      <td>38</td>\n",
       "      <td>44</td>\n",
       "      <td>Saturday</td>\n",
       "    </tr>\n",
       "  </tbody>\n",
       "</table>\n",
       "</div>"
      ],
      "text/plain": [
       "         Sentiment          User  \\\n",
       "175953           0  SunshineBoat   \n",
       "458769           0    jab_baller   \n",
       "520440           0    dani_panic   \n",
       "1309514          1     Divineshe   \n",
       "1129509          1        LeliaK   \n",
       "\n",
       "                                                                                                                       Tweet  \\\n",
       "175953                                                              yes they are and now theyre all gone did you enjoy yours   \n",
       "458769                                                                                                                    no   \n",
       "520440                                                                                          ugh feel ill swine flu maybe   \n",
       "1309514                                                                              i hate the calories love the ice creams   \n",
       "1129509  we got the cookout in and a couple of games of cornhole before the rain   all is well hope those in wilmington r ok   \n",
       "\n",
       "             Tagging Hashtags Emojis  Month  Day  Year  Hour  Minutes  \\\n",
       "175953     asdquefty      NaN   None      5   29  2009    15       57   \n",
       "458769    ejgwapings      NaN   None      6   14  2009    23       13   \n",
       "520440           NaN      NaN   None      6   16  2009     8       48   \n",
       "1309514    sangfroid      NaN   None      6    3  2009     2       52   \n",
       "1129509  richwirdzek      NaN   None      5   30  2009    19       38   \n",
       "\n",
       "         Seconds  DayOfWeek  \n",
       "175953        29     Friday  \n",
       "458769        33     Sunday  \n",
       "520440        54    Tuesday  \n",
       "1309514       35  Wednesday  \n",
       "1129509       44   Saturday  "
      ]
     },
     "execution_count": 236,
     "metadata": {},
     "output_type": "execute_result"
    }
   ],
   "source": [
    "#sanity check\n",
    "pd.read_csv('cleaned_twitter_data.csv').sample(5)"
   ]
  },
  {
   "cell_type": "markdown",
   "id": "2180de05",
   "metadata": {},
   "source": [
    "---"
   ]
  },
  {
   "cell_type": "markdown",
   "id": "543fdfdf",
   "metadata": {},
   "source": [
    "## Conclusion"
   ]
  }
 ],
 "metadata": {
  "kernelspec": {
   "display_name": "capstone",
   "language": "python",
   "name": "capstone"
  },
  "language_info": {
   "codemirror_mode": {
    "name": "ipython",
    "version": 3
   },
   "file_extension": ".py",
   "mimetype": "text/x-python",
   "name": "python",
   "nbconvert_exporter": "python",
   "pygments_lexer": "ipython3",
   "version": "3.8.16"
  }
 },
 "nbformat": 4,
 "nbformat_minor": 5
}
