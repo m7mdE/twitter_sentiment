{
 "cells": [
  {
   "cell_type": "markdown",
   "id": "301f8149",
   "metadata": {},
   "source": [
    "# Twitter Sentiment Capstone\n",
    "\n",
    "**Author: Mohamed Emran**\n",
    "\n",
    "**Date: 6/26/2023**"
   ]
  },
  {
   "cell_type": "markdown",
   "id": "cbcf7ac5",
   "metadata": {},
   "source": [
    "# Notebook 1 - Clean-Up and EDA"
   ]
  },
  {
   "cell_type": "markdown",
   "id": "c56d3d3e",
   "metadata": {},
   "source": [
    "## Table of Contents\n",
    "\n",
    "1. [Introduction](#Introduction) <br>"
   ]
  },
  {
   "cell_type": "code",
   "execution_count": null,
   "id": "65436636",
   "metadata": {},
   "outputs": [],
   "source": []
  },
  {
   "cell_type": "markdown",
   "id": "2f3f1851",
   "metadata": {},
   "source": [
    "## 1. Introduction\n",
    "\n",
    "### Objective of project:\n",
    "\n",
    "I aim to build an effective machine learning model to identify any negative tweets posted on Twitter\n",
    "\n",
    "### What potential business value does this project bring?\n",
    "\n",
    "This project aims to reduce the negative feedback in real-time in a very short manner. By addressing the negative feedback, which demonstrate their commitment to customer service and satisfaction.\n",
    "\n",
    "### How will this project help/have an impact:\n",
    "\n",
    "- Help to save time and effort by addressing issues in a quickly manner.\n",
    "- Hopefully to be able to integrate the model to training to identify the negative reviews and address it to a customer service."
   ]
  },
  {
   "cell_type": "markdown",
   "id": "d105631e",
   "metadata": {},
   "source": [
    "---\n",
    "## 2 - Data Collection\n",
    "\n",
    "#### Source of the data\n",
    "\n",
    "http://help.sentiment140.com/for-students/\n",
    "\n",
    "\"Sentiment140 was created by Alec Go, Richa Bhayani, and Lei Huang, who were Computer Science graduate students at Stanford University.\""
   ]
  },
  {
   "cell_type": "markdown",
   "id": "1d418315",
   "metadata": {},
   "source": [
    "#### Data dictionary:\n",
    "\n",
    "| Column Name |                      Description                     | Data Type |\n",
    "|:-----------:|:----------------------------------------------------:|-----------|\n",
    "|      Id     |              The id of the tweet (2087)              |   int64   |\n",
    "|     Date    | The date of the tweet (Mon Apr 06 22:19:45 UTC 2009) |   object  |\n",
    "|     Flag    |  If there is no query, then this value is NO_QUERY.  |   object  |\n",
    "|     User    |        The user that tweeted (robotickilldozr)       |   object  |\n",
    "|    Tweet    |          The text of the tweet (Lyx is cool)         |   object  |\n",
    "|  Sentiment  |   Sentiment Identifier (0 = Negative, 4 = Positive)  |   int64   |"
   ]
  },
  {
   "cell_type": "code",
   "execution_count": 170,
   "id": "cfdba585",
   "metadata": {},
   "outputs": [],
   "source": [
    "# Importing several libraries\n",
    "import pandas as pd\n",
    "import numpy as np\n",
    "import seaborn as sns\n",
    "import matplotlib.pyplot as plt\n",
    "import re\n",
    "\n",
    "import warnings\n",
    "warnings.filterwarnings(\"ignore\")"
   ]
  },
  {
   "cell_type": "code",
   "execution_count": 65,
   "id": "332a3071",
   "metadata": {},
   "outputs": [],
   "source": [
    "pd.options.display.max_colwidth = 1000"
   ]
  },
  {
   "cell_type": "markdown",
   "id": "508b6dad",
   "metadata": {},
   "source": [
    "---\n",
    "## 3 - Data Wrangling"
   ]
  },
  {
   "cell_type": "markdown",
   "id": "7c13d006",
   "metadata": {},
   "source": [
    "### Load the data:"
   ]
  },
  {
   "cell_type": "code",
   "execution_count": 3,
   "id": "42d3b0b3",
   "metadata": {},
   "outputs": [],
   "source": [
    "# Read the data file\n",
    "df = pd.read_csv(\"twitter_data_emotions.csv\", header=None, encoding='latin-1')"
   ]
  },
  {
   "cell_type": "code",
   "execution_count": 66,
   "id": "09195ab9",
   "metadata": {},
   "outputs": [
    {
     "data": {
      "text/html": [
       "<div>\n",
       "<style scoped>\n",
       "    .dataframe tbody tr th:only-of-type {\n",
       "        vertical-align: middle;\n",
       "    }\n",
       "\n",
       "    .dataframe tbody tr th {\n",
       "        vertical-align: top;\n",
       "    }\n",
       "\n",
       "    .dataframe thead th {\n",
       "        text-align: right;\n",
       "    }\n",
       "</style>\n",
       "<table border=\"1\" class=\"dataframe\">\n",
       "  <thead>\n",
       "    <tr style=\"text-align: right;\">\n",
       "      <th></th>\n",
       "      <th>Sentiment</th>\n",
       "      <th>Id</th>\n",
       "      <th>Date</th>\n",
       "      <th>User</th>\n",
       "      <th>Tweet</th>\n",
       "    </tr>\n",
       "  </thead>\n",
       "  <tbody>\n",
       "    <tr>\n",
       "      <th>0</th>\n",
       "      <td>0</td>\n",
       "      <td>1467810369</td>\n",
       "      <td>2009-04-06 22:19:45</td>\n",
       "      <td>_TheSpecialOne_</td>\n",
       "      <td>@switchfoot http://twitpic.com/2y1zl - Awww, that's a bummer.  You shoulda got David Carr of Third Day to do it. ;D</td>\n",
       "    </tr>\n",
       "    <tr>\n",
       "      <th>1</th>\n",
       "      <td>0</td>\n",
       "      <td>1467810672</td>\n",
       "      <td>2009-04-06 22:19:49</td>\n",
       "      <td>scotthamilton</td>\n",
       "      <td>is upset that he can't update his Facebook by texting it... and might cry as a result  School today also. Blah!</td>\n",
       "    </tr>\n",
       "  </tbody>\n",
       "</table>\n",
       "</div>"
      ],
      "text/plain": [
       "   Sentiment          Id                Date             User  \\\n",
       "0          0  1467810369 2009-04-06 22:19:45  _TheSpecialOne_   \n",
       "1          0  1467810672 2009-04-06 22:19:49    scotthamilton   \n",
       "\n",
       "                                                                                                                 Tweet  \n",
       "0  @switchfoot http://twitpic.com/2y1zl - Awww, that's a bummer.  You shoulda got David Carr of Third Day to do it. ;D  \n",
       "1      is upset that he can't update his Facebook by texting it... and might cry as a result  School today also. Blah!  "
      ]
     },
     "execution_count": 66,
     "metadata": {},
     "output_type": "execute_result"
    }
   ],
   "source": [
    "# sanity check - data after \n",
    "df.head(2)"
   ]
  },
  {
   "cell_type": "markdown",
   "id": "c855f2e7",
   "metadata": {},
   "source": [
    "### Data Exploration and EDA:\n",
    "\n",
    "    - Check Shape of the data (rows and columns)\n",
    "    - Check info (column names and data types)\n",
    "    - Check null values\n",
    "    - check duplicate values"
   ]
  },
  {
   "cell_type": "code",
   "execution_count": 46,
   "id": "f932c152",
   "metadata": {},
   "outputs": [
    {
     "data": {
      "text/html": [
       "<div>\n",
       "<style scoped>\n",
       "    .dataframe tbody tr th:only-of-type {\n",
       "        vertical-align: middle;\n",
       "    }\n",
       "\n",
       "    .dataframe tbody tr th {\n",
       "        vertical-align: top;\n",
       "    }\n",
       "\n",
       "    .dataframe thead th {\n",
       "        text-align: right;\n",
       "    }\n",
       "</style>\n",
       "<table border=\"1\" class=\"dataframe\">\n",
       "  <thead>\n",
       "    <tr style=\"text-align: right;\">\n",
       "      <th></th>\n",
       "      <th>Sentiment</th>\n",
       "      <th>Id</th>\n",
       "      <th>Date</th>\n",
       "      <th>Flag</th>\n",
       "      <th>User</th>\n",
       "      <th>Tweet</th>\n",
       "    </tr>\n",
       "  </thead>\n",
       "  <tbody>\n",
       "    <tr>\n",
       "      <th>0</th>\n",
       "      <td>0</td>\n",
       "      <td>1467810369</td>\n",
       "      <td>Mon Apr 06 22:19:45 PDT 2009</td>\n",
       "      <td>NO_QUERY</td>\n",
       "      <td>_TheSpecialOne_</td>\n",
       "      <td>@switchfoot http://twitpic.com/2y1zl - Awww, t...</td>\n",
       "    </tr>\n",
       "    <tr>\n",
       "      <th>1</th>\n",
       "      <td>0</td>\n",
       "      <td>1467810672</td>\n",
       "      <td>Mon Apr 06 22:19:49 PDT 2009</td>\n",
       "      <td>NO_QUERY</td>\n",
       "      <td>scotthamilton</td>\n",
       "      <td>is upset that he can't update his Facebook by ...</td>\n",
       "    </tr>\n",
       "    <tr>\n",
       "      <th>2</th>\n",
       "      <td>0</td>\n",
       "      <td>1467810917</td>\n",
       "      <td>Mon Apr 06 22:19:53 PDT 2009</td>\n",
       "      <td>NO_QUERY</td>\n",
       "      <td>mattycus</td>\n",
       "      <td>@Kenichan I dived many times for the ball. Man...</td>\n",
       "    </tr>\n",
       "    <tr>\n",
       "      <th>3</th>\n",
       "      <td>0</td>\n",
       "      <td>1467811184</td>\n",
       "      <td>Mon Apr 06 22:19:57 PDT 2009</td>\n",
       "      <td>NO_QUERY</td>\n",
       "      <td>ElleCTF</td>\n",
       "      <td>my whole body feels itchy and like its on fire</td>\n",
       "    </tr>\n",
       "    <tr>\n",
       "      <th>4</th>\n",
       "      <td>0</td>\n",
       "      <td>1467811193</td>\n",
       "      <td>Mon Apr 06 22:19:57 PDT 2009</td>\n",
       "      <td>NO_QUERY</td>\n",
       "      <td>Karoli</td>\n",
       "      <td>@nationwideclass no, it's not behaving at all....</td>\n",
       "    </tr>\n",
       "  </tbody>\n",
       "</table>\n",
       "</div>"
      ],
      "text/plain": [
       "   Sentiment          Id                          Date      Flag  \\\n",
       "0          0  1467810369  Mon Apr 06 22:19:45 PDT 2009  NO_QUERY   \n",
       "1          0  1467810672  Mon Apr 06 22:19:49 PDT 2009  NO_QUERY   \n",
       "2          0  1467810917  Mon Apr 06 22:19:53 PDT 2009  NO_QUERY   \n",
       "3          0  1467811184  Mon Apr 06 22:19:57 PDT 2009  NO_QUERY   \n",
       "4          0  1467811193  Mon Apr 06 22:19:57 PDT 2009  NO_QUERY   \n",
       "\n",
       "              User                                              Tweet  \n",
       "0  _TheSpecialOne_  @switchfoot http://twitpic.com/2y1zl - Awww, t...  \n",
       "1    scotthamilton  is upset that he can't update his Facebook by ...  \n",
       "2         mattycus  @Kenichan I dived many times for the ball. Man...  \n",
       "3          ElleCTF    my whole body feels itchy and like its on fire   \n",
       "4           Karoli  @nationwideclass no, it's not behaving at all....  "
      ]
     },
     "execution_count": 46,
     "metadata": {},
     "output_type": "execute_result"
    }
   ],
   "source": [
    "# lets explore the data\n",
    "df.columns = ['Sentiment', 'Id', 'Date', 'Flag', 'User', 'Tweet']\n",
    "df.head()"
   ]
  },
  {
   "cell_type": "code",
   "execution_count": 67,
   "id": "34359d75",
   "metadata": {},
   "outputs": [
    {
     "data": {
      "text/html": [
       "<div>\n",
       "<style scoped>\n",
       "    .dataframe tbody tr th:only-of-type {\n",
       "        vertical-align: middle;\n",
       "    }\n",
       "\n",
       "    .dataframe tbody tr th {\n",
       "        vertical-align: top;\n",
       "    }\n",
       "\n",
       "    .dataframe thead th {\n",
       "        text-align: right;\n",
       "    }\n",
       "</style>\n",
       "<table border=\"1\" class=\"dataframe\">\n",
       "  <thead>\n",
       "    <tr style=\"text-align: right;\">\n",
       "      <th></th>\n",
       "      <th>Sentiment</th>\n",
       "      <th>Id</th>\n",
       "      <th>Date</th>\n",
       "      <th>User</th>\n",
       "      <th>Tweet</th>\n",
       "    </tr>\n",
       "  </thead>\n",
       "  <tbody>\n",
       "    <tr>\n",
       "      <th>1599995</th>\n",
       "      <td>1</td>\n",
       "      <td>2193601966</td>\n",
       "      <td>2009-06-16 08:40:49</td>\n",
       "      <td>AmandaMarie1028</td>\n",
       "      <td>Just woke up. Having no school is the best feeling ever</td>\n",
       "    </tr>\n",
       "    <tr>\n",
       "      <th>1599996</th>\n",
       "      <td>1</td>\n",
       "      <td>2193601969</td>\n",
       "      <td>2009-06-16 08:40:49</td>\n",
       "      <td>TheWDBoards</td>\n",
       "      <td>TheWDB.com - Very cool to hear old Walt interviews!  â« http://blip.fm/~8bmta</td>\n",
       "    </tr>\n",
       "    <tr>\n",
       "      <th>1599997</th>\n",
       "      <td>1</td>\n",
       "      <td>2193601991</td>\n",
       "      <td>2009-06-16 08:40:49</td>\n",
       "      <td>bpbabe</td>\n",
       "      <td>Are you ready for your MoJo Makeover? Ask me for details</td>\n",
       "    </tr>\n",
       "    <tr>\n",
       "      <th>1599998</th>\n",
       "      <td>1</td>\n",
       "      <td>2193602064</td>\n",
       "      <td>2009-06-16 08:40:49</td>\n",
       "      <td>tinydiamondz</td>\n",
       "      <td>Happy 38th Birthday to my boo of alll time!!! Tupac Amaru Shakur</td>\n",
       "    </tr>\n",
       "    <tr>\n",
       "      <th>1599999</th>\n",
       "      <td>1</td>\n",
       "      <td>2193602129</td>\n",
       "      <td>2009-06-16 08:40:50</td>\n",
       "      <td>RyanTrevMorris</td>\n",
       "      <td>happy #charitytuesday @theNSPCC @SparksCharity @SpeakingUpH4H</td>\n",
       "    </tr>\n",
       "  </tbody>\n",
       "</table>\n",
       "</div>"
      ],
      "text/plain": [
       "         Sentiment          Id                Date             User  \\\n",
       "1599995          1  2193601966 2009-06-16 08:40:49  AmandaMarie1028   \n",
       "1599996          1  2193601969 2009-06-16 08:40:49      TheWDBoards   \n",
       "1599997          1  2193601991 2009-06-16 08:40:49           bpbabe   \n",
       "1599998          1  2193602064 2009-06-16 08:40:49     tinydiamondz   \n",
       "1599999          1  2193602129 2009-06-16 08:40:50   RyanTrevMorris   \n",
       "\n",
       "                                                                                  Tweet  \n",
       "1599995                        Just woke up. Having no school is the best feeling ever   \n",
       "1599996  TheWDB.com - Very cool to hear old Walt interviews!  â« http://blip.fm/~8bmta  \n",
       "1599997                       Are you ready for your MoJo Makeover? Ask me for details   \n",
       "1599998               Happy 38th Birthday to my boo of alll time!!! Tupac Amaru Shakur   \n",
       "1599999                  happy #charitytuesday @theNSPCC @SparksCharity @SpeakingUpH4H   "
      ]
     },
     "execution_count": 67,
     "metadata": {},
     "output_type": "execute_result"
    }
   ],
   "source": [
    "df.tail()"
   ]
  },
  {
   "cell_type": "markdown",
   "id": "cb5ec297",
   "metadata": {},
   "source": [
    "Check the shape of the data"
   ]
  },
  {
   "cell_type": "code",
   "execution_count": 72,
   "id": "11843475",
   "metadata": {},
   "outputs": [
    {
     "name": "stdout",
     "output_type": "stream",
     "text": [
      "The dataframe consists of 1600000 million rows, and 5 columns\n"
     ]
    }
   ],
   "source": [
    "print(f'The dataframe consists of {df.shape[0]} million rows, and {df.shape[1]} columns')"
   ]
  },
  {
   "cell_type": "code",
   "execution_count": 12,
   "id": "69e09a39",
   "metadata": {},
   "outputs": [
    {
     "name": "stdout",
     "output_type": "stream",
     "text": [
      "<class 'pandas.core.frame.DataFrame'>\n",
      "RangeIndex: 1600000 entries, 0 to 1599999\n",
      "Data columns (total 6 columns):\n",
      " #   Column     Non-Null Count    Dtype \n",
      "---  ------     --------------    ----- \n",
      " 0   Sentiment  1600000 non-null  int64 \n",
      " 1   Id         1600000 non-null  int64 \n",
      " 2   Date       1600000 non-null  object\n",
      " 3   Flag       1600000 non-null  object\n",
      " 4   User       1600000 non-null  object\n",
      " 5   Tweet      1600000 non-null  object\n",
      "dtypes: int64(2), object(4)\n",
      "memory usage: 73.2+ MB\n"
     ]
    }
   ],
   "source": [
    "# check the column names and datatypes \n",
    "df.info()"
   ]
  },
  {
   "cell_type": "code",
   "execution_count": 13,
   "id": "a1c6dfa9",
   "metadata": {
    "scrolled": true
   },
   "outputs": [
    {
     "data": {
      "text/plain": [
       "Sentiment    0\n",
       "Id           0\n",
       "Date         0\n",
       "Flag         0\n",
       "User         0\n",
       "Tweet        0\n",
       "dtype: int64"
      ]
     },
     "execution_count": 13,
     "metadata": {},
     "output_type": "execute_result"
    }
   ],
   "source": [
    "# check null values\n",
    "df.isna().sum()"
   ]
  },
  {
   "cell_type": "markdown",
   "id": "749bf215",
   "metadata": {},
   "source": [
    "**We don't see any Null Values**"
   ]
  },
  {
   "cell_type": "code",
   "execution_count": 14,
   "id": "4a482bdb",
   "metadata": {},
   "outputs": [
    {
     "data": {
      "text/plain": [
       "0"
      ]
     },
     "execution_count": 14,
     "metadata": {},
     "output_type": "execute_result"
    }
   ],
   "source": [
    "# check duplicates\n",
    "df.duplicated().sum()"
   ]
  },
  {
   "cell_type": "markdown",
   "id": "bcf63338",
   "metadata": {},
   "source": [
    "We don't see any duplicate values. We can further explore in our data."
   ]
  },
  {
   "cell_type": "markdown",
   "id": "bdf87873",
   "metadata": {},
   "source": [
    "Let's check our data for every column "
   ]
  },
  {
   "cell_type": "code",
   "execution_count": 15,
   "id": "da011054",
   "metadata": {},
   "outputs": [
    {
     "data": {
      "text/plain": [
       "User\n",
       "lost_dog           549\n",
       "webwoke            345\n",
       "tweetpet           310\n",
       "SallytheShizzle    281\n",
       "VioletsCRUK        279\n",
       "                  ... \n",
       "67trinity            1\n",
       "Sibby                1\n",
       "mAnyA_15             1\n",
       "49ersfan111          1\n",
       "bpbabe               1\n",
       "Name: count, Length: 659775, dtype: int64"
      ]
     },
     "execution_count": 15,
     "metadata": {},
     "output_type": "execute_result"
    }
   ],
   "source": [
    "df['User'].value_counts()"
   ]
  },
  {
   "cell_type": "code",
   "execution_count": 49,
   "id": "b49d85b7",
   "metadata": {},
   "outputs": [
    {
     "data": {
      "image/png": "[encoded data removed]",
      "text/plain": [
       "<Figure size 1000x600 with 1 Axes>"
      ]
     },
     "metadata": {},
     "output_type": "display_data"
    }
   ],
   "source": [
    "plt.figure(figsize=(10,6))\n",
    "df['User'].value_counts().head(10).plot(kind='bar', rot=45) # bar chart\n",
    "plt.title('User Number of Tweets') # title\n",
    "plt.xlabel('Username') # labeling x-axis\n",
    "plt.ylabel('Tweet Count') # labeling y-axis\n",
    "plt.show()"
   ]
  },
  {
   "cell_type": "markdown",
   "id": "56630c53",
   "metadata": {},
   "source": [
    "We can observe that `lost_dog` user has tweeted the most with 549 tweets, than other users who tweeted. Second came `webwoke` user with 345.\n",
    "\n",
    "Let's have a look at `Date` column"
   ]
  },
  {
   "cell_type": "code",
   "execution_count": 50,
   "id": "32d1c06c",
   "metadata": {},
   "outputs": [
    {
     "data": {
      "text/plain": [
       "0          Mon Apr 06 22:19:45 PDT 2009\n",
       "1          Mon Apr 06 22:19:49 PDT 2009\n",
       "2          Mon Apr 06 22:19:53 PDT 2009\n",
       "3          Mon Apr 06 22:19:57 PDT 2009\n",
       "4          Mon Apr 06 22:19:57 PDT 2009\n",
       "                       ...             \n",
       "1599995    Tue Jun 16 08:40:49 PDT 2009\n",
       "1599996    Tue Jun 16 08:40:49 PDT 2009\n",
       "1599997    Tue Jun 16 08:40:49 PDT 2009\n",
       "1599998    Tue Jun 16 08:40:49 PDT 2009\n",
       "1599999    Tue Jun 16 08:40:50 PDT 2009\n",
       "Name: Date, Length: 1600000, dtype: object"
      ]
     },
     "execution_count": 50,
     "metadata": {},
     "output_type": "execute_result"
    }
   ],
   "source": [
    "df['Date']"
   ]
  },
  {
   "cell_type": "markdown",
   "id": "eafcdcd1",
   "metadata": {},
   "source": [
    "The date shows it's an `object`, we can change the data type to a `datetime` format and remove PDT from the date field"
   ]
  },
  {
   "cell_type": "code",
   "execution_count": 52,
   "id": "38ba619a",
   "metadata": {},
   "outputs": [],
   "source": [
    "# removed PDT from the Date column\n",
    "df['Date'] = df['Date'].str.replace('PDT', '')"
   ]
  },
  {
   "cell_type": "code",
   "execution_count": 53,
   "id": "1a82a774",
   "metadata": {},
   "outputs": [
    {
     "data": {
      "text/plain": [
       "0          Mon Apr 06 22:19:45  2009\n",
       "1          Mon Apr 06 22:19:49  2009\n",
       "2          Mon Apr 06 22:19:53  2009\n",
       "3          Mon Apr 06 22:19:57  2009\n",
       "4          Mon Apr 06 22:19:57  2009\n",
       "                     ...            \n",
       "1599995    Tue Jun 16 08:40:49  2009\n",
       "1599996    Tue Jun 16 08:40:49  2009\n",
       "1599997    Tue Jun 16 08:40:49  2009\n",
       "1599998    Tue Jun 16 08:40:49  2009\n",
       "1599999    Tue Jun 16 08:40:50  2009\n",
       "Name: Date, Length: 1600000, dtype: object"
      ]
     },
     "execution_count": 53,
     "metadata": {},
     "output_type": "execute_result"
    }
   ],
   "source": [
    "# sanity check\n",
    "df['Date']"
   ]
  },
  {
   "cell_type": "markdown",
   "id": "8f508b6b",
   "metadata": {},
   "source": [
    "All good `PDT` are removed from the value. Let's change the data type"
   ]
  },
  {
   "cell_type": "code",
   "execution_count": 54,
   "id": "ad042d23",
   "metadata": {},
   "outputs": [],
   "source": [
    "# converts to date and time\n",
    "df[\"Date\"] = pd.to_datetime(df[\"Date\"])"
   ]
  },
  {
   "cell_type": "code",
   "execution_count": 55,
   "id": "9b6c51ad",
   "metadata": {},
   "outputs": [
    {
     "name": "stdout",
     "output_type": "stream",
     "text": [
      "<class 'pandas.core.frame.DataFrame'>\n",
      "RangeIndex: 1600000 entries, 0 to 1599999\n",
      "Data columns (total 6 columns):\n",
      " #   Column     Non-Null Count    Dtype         \n",
      "---  ------     --------------    -----         \n",
      " 0   Sentiment  1600000 non-null  int64         \n",
      " 1   Id         1600000 non-null  int64         \n",
      " 2   Date       1600000 non-null  datetime64[ns]\n",
      " 3   Flag       1600000 non-null  object        \n",
      " 4   User       1600000 non-null  object        \n",
      " 5   Tweet      1600000 non-null  object        \n",
      "dtypes: datetime64[ns](1), int64(2), object(3)\n",
      "memory usage: 73.2+ MB\n"
     ]
    }
   ],
   "source": [
    "# sanity check converted to date and time\n",
    "df.info()"
   ]
  },
  {
   "cell_type": "markdown",
   "id": "905c374e",
   "metadata": {},
   "source": [
    "Since we have a 1.6 million of rows data, let's have a look at how many years the data consist of"
   ]
  },
  {
   "cell_type": "code",
   "execution_count": 92,
   "id": "2d571bd9",
   "metadata": {},
   "outputs": [
    {
     "data": {
      "text/plain": [
       "2009    1600000\n",
       "Name: Date, dtype: int64"
      ]
     },
     "execution_count": 92,
     "metadata": {},
     "output_type": "execute_result"
    }
   ],
   "source": [
    "df['Date'].dt.year.value_counts()"
   ]
  },
  {
   "cell_type": "markdown",
   "id": "c1c584a9",
   "metadata": {},
   "source": [
    "It seem's our data only consist in year `2009`\n",
    "\n",
    "Let's have a look at `Flag` column"
   ]
  },
  {
   "cell_type": "code",
   "execution_count": 56,
   "id": "4fa7dbdd",
   "metadata": {},
   "outputs": [
    {
     "data": {
      "text/plain": [
       "Flag\n",
       "NO_QUERY    1600000\n",
       "Name: count, dtype: int64"
      ]
     },
     "execution_count": 56,
     "metadata": {},
     "output_type": "execute_result"
    }
   ],
   "source": [
    "df['Flag'].value_counts()"
   ]
  },
  {
   "cell_type": "markdown",
   "id": "13053f6b",
   "metadata": {},
   "source": [
    "`Flag` column doesn't seem to have any value. So we can drop the column"
   ]
  },
  {
   "cell_type": "code",
   "execution_count": 57,
   "id": "146fd2d9",
   "metadata": {},
   "outputs": [],
   "source": [
    "# dropping column Flag\n",
    "df = df.drop(columns='Flag')"
   ]
  },
  {
   "cell_type": "code",
   "execution_count": 68,
   "id": "6fc337d5",
   "metadata": {
    "scrolled": true
   },
   "outputs": [
    {
     "data": {
      "text/html": [
       "<div>\n",
       "<style scoped>\n",
       "    .dataframe tbody tr th:only-of-type {\n",
       "        vertical-align: middle;\n",
       "    }\n",
       "\n",
       "    .dataframe tbody tr th {\n",
       "        vertical-align: top;\n",
       "    }\n",
       "\n",
       "    .dataframe thead th {\n",
       "        text-align: right;\n",
       "    }\n",
       "</style>\n",
       "<table border=\"1\" class=\"dataframe\">\n",
       "  <thead>\n",
       "    <tr style=\"text-align: right;\">\n",
       "      <th></th>\n",
       "      <th>Sentiment</th>\n",
       "      <th>Id</th>\n",
       "      <th>Date</th>\n",
       "      <th>User</th>\n",
       "      <th>Tweet</th>\n",
       "    </tr>\n",
       "  </thead>\n",
       "  <tbody>\n",
       "    <tr>\n",
       "      <th>0</th>\n",
       "      <td>0</td>\n",
       "      <td>1467810369</td>\n",
       "      <td>2009-04-06 22:19:45</td>\n",
       "      <td>_TheSpecialOne_</td>\n",
       "      <td>@switchfoot http://twitpic.com/2y1zl - Awww, that's a bummer.  You shoulda got David Carr of Third Day to do it. ;D</td>\n",
       "    </tr>\n",
       "  </tbody>\n",
       "</table>\n",
       "</div>"
      ],
      "text/plain": [
       "   Sentiment          Id                Date             User  \\\n",
       "0          0  1467810369 2009-04-06 22:19:45  _TheSpecialOne_   \n",
       "\n",
       "                                                                                                                 Tweet  \n",
       "0  @switchfoot http://twitpic.com/2y1zl - Awww, that's a bummer.  You shoulda got David Carr of Third Day to do it. ;D  "
      ]
     },
     "execution_count": 68,
     "metadata": {},
     "output_type": "execute_result"
    }
   ],
   "source": [
    "# sanity check\n",
    "df.head(1)"
   ]
  },
  {
   "cell_type": "markdown",
   "id": "dbf5f40c",
   "metadata": {},
   "source": [
    "By checking the data frame, we have successfully dropped the `Flag` column\n",
    "\n",
    "Let's have a look at `Sentiment` column and see if our data is balanced or imbalance"
   ]
  },
  {
   "cell_type": "code",
   "execution_count": 60,
   "id": "85693552",
   "metadata": {},
   "outputs": [
    {
     "data": {
      "text/plain": [
       "Sentiment\n",
       "0    800000\n",
       "4    800000\n",
       "Name: count, dtype: int64"
      ]
     },
     "execution_count": 60,
     "metadata": {},
     "output_type": "execute_result"
    }
   ],
   "source": [
    "df['Sentiment'].value_counts()"
   ]
  },
  {
   "cell_type": "markdown",
   "id": "77bac69d",
   "metadata": {},
   "source": [
    "WOW!! we have a balanced dataset, Let's change the value to binary `1` and `0`"
   ]
  },
  {
   "cell_type": "code",
   "execution_count": 61,
   "id": "65d5e1da",
   "metadata": {},
   "outputs": [],
   "source": [
    "df[\"Sentiment\"] = np.where(df[\"Sentiment\"] == 4, 1, 0)"
   ]
  },
  {
   "cell_type": "code",
   "execution_count": 62,
   "id": "e033d099",
   "metadata": {
    "scrolled": false
   },
   "outputs": [
    {
     "data": {
      "image/png": "[encoded data removed]",
      "text/plain": [
       "<Figure size 1000x400 with 1 Axes>"
      ]
     },
     "metadata": {},
     "output_type": "display_data"
    }
   ],
   "source": [
    "plt.figure(figsize=(10,4))\n",
    "df['Sentiment'].value_counts().plot(kind='bar', rot=0, color=['#FF7F0E', '#3685BC'])\n",
    "plt.title(\"Target Distirbution\")\n",
    "plt.xlabel(\"Sentiment\")\n",
    "plt.ylabel(\"Count\")\n",
    "\n",
    "plt.show()"
   ]
  },
  {
   "cell_type": "markdown",
   "id": "99eca15e",
   "metadata": {},
   "source": [
    "As we observe the graph above we have a balanced data set.\n",
    "\n",
    "Let's have a look at `Id` column"
   ]
  },
  {
   "cell_type": "code",
   "execution_count": 94,
   "id": "14a818ed",
   "metadata": {},
   "outputs": [
    {
     "data": {
      "text/plain": [
       "2190457769    2\n",
       "1972193428    2\n",
       "1989776729    2\n",
       "1989776908    2\n",
       "1564543229    2\n",
       "             ..\n",
       "2197311196    1\n",
       "2197311146    1\n",
       "2197310899    1\n",
       "2197310477    1\n",
       "2193602129    1\n",
       "Name: Id, Length: 1598315, dtype: int64"
      ]
     },
     "execution_count": 94,
     "metadata": {},
     "output_type": "execute_result"
    }
   ],
   "source": [
    "df['Id'].value_counts()"
   ]
  },
  {
   "cell_type": "markdown",
   "id": "71d702a8",
   "metadata": {},
   "source": [
    "It might seem some tweets are duplicated. Let's proof that and show if there are any duplicated Tweet."
   ]
  },
  {
   "cell_type": "code",
   "execution_count": 96,
   "id": "6cedbe68",
   "metadata": {},
   "outputs": [
    {
     "name": "stdout",
     "output_type": "stream",
     "text": [
      "Id columns duplicate values: 1685\n",
      "User columns duplicate values: 940225\n",
      "Tweet columns duplicate values: 18534\n"
     ]
    }
   ],
   "source": [
    "print(f'Id columns duplicate values: {df[\"Id\"].duplicated().sum()}')\n",
    "print(f'User columns duplicate values: {df[\"User\"].duplicated().sum()}')\n",
    "print(f'Tweet columns duplicate values: {df[\"Tweet\"].duplicated().sum()}')"
   ]
  },
  {
   "cell_type": "markdown",
   "id": "1af4eff9",
   "metadata": {},
   "source": [
    "We can see there are `1,685` duplicated tweets as per `Id` column"
   ]
  },
  {
   "cell_type": "code",
   "execution_count": 84,
   "id": "4132a863",
   "metadata": {
    "scrolled": true
   },
   "outputs": [
    {
     "data": {
      "text/html": [
       "<div>\n",
       "<style scoped>\n",
       "    .dataframe tbody tr th:only-of-type {\n",
       "        vertical-align: middle;\n",
       "    }\n",
       "\n",
       "    .dataframe tbody tr th {\n",
       "        vertical-align: top;\n",
       "    }\n",
       "\n",
       "    .dataframe thead th {\n",
       "        text-align: right;\n",
       "    }\n",
       "</style>\n",
       "<table border=\"1\" class=\"dataframe\">\n",
       "  <thead>\n",
       "    <tr style=\"text-align: right;\">\n",
       "      <th></th>\n",
       "      <th>Sentiment</th>\n",
       "      <th>Id</th>\n",
       "      <th>Date</th>\n",
       "      <th>User</th>\n",
       "      <th>Tweet</th>\n",
       "    </tr>\n",
       "  </thead>\n",
       "  <tbody>\n",
       "    <tr>\n",
       "      <th>213</th>\n",
       "      <td>0</td>\n",
       "      <td>1467863684</td>\n",
       "      <td>2009-04-06 22:33:35</td>\n",
       "      <td>DjGundam</td>\n",
       "      <td>Awwh babs... you look so sad underneith that shop entrance of &amp;quot;Yesterday's Musik&amp;quot;  O-: I like the look of the new transformer movie</td>\n",
       "    </tr>\n",
       "    <tr>\n",
       "      <th>275</th>\n",
       "      <td>0</td>\n",
       "      <td>1467880442</td>\n",
       "      <td>2009-04-06 22:38:04</td>\n",
       "      <td>iCalvin</td>\n",
       "      <td>Haven't tweeted nearly all day  Posted my website tonight, hopefully that goes well  Night time!</td>\n",
       "    </tr>\n",
       "    <tr>\n",
       "      <th>989</th>\n",
       "      <td>0</td>\n",
       "      <td>1468053611</td>\n",
       "      <td>2009-04-06 23:28:09</td>\n",
       "      <td>mariejamora</td>\n",
       "      <td>@hellobebe I also send some updates in plurk but i upload photos on twitter!  you didnt see any of my updates on plurk? Zero?</td>\n",
       "    </tr>\n",
       "    <tr>\n",
       "      <th>1177</th>\n",
       "      <td>0</td>\n",
       "      <td>1468100580</td>\n",
       "      <td>2009-04-06 23:42:57</td>\n",
       "      <td>cristygarza</td>\n",
       "      <td>good night swetdreamss to everyonee   and jared never chat in kyte puff</td>\n",
       "    </tr>\n",
       "    <tr>\n",
       "      <th>1254</th>\n",
       "      <td>0</td>\n",
       "      <td>1468115720</td>\n",
       "      <td>2009-04-06 23:48:00</td>\n",
       "      <td>WarholGirl</td>\n",
       "      <td>@ientje89 aw i'm fine too thanks! yeah i miss you so much on the MFC  but hope we can talk later on today  kisses :huglove:</td>\n",
       "    </tr>\n",
       "    <tr>\n",
       "      <th>...</th>\n",
       "      <td>...</td>\n",
       "      <td>...</td>\n",
       "      <td>...</td>\n",
       "      <td>...</td>\n",
       "      <td>...</td>\n",
       "    </tr>\n",
       "    <tr>\n",
       "      <th>1598780</th>\n",
       "      <td>1</td>\n",
       "      <td>2193278017</td>\n",
       "      <td>2009-06-16 08:14:22</td>\n",
       "      <td>janiecwales</td>\n",
       "      <td>oh dear HH is back   please twitter do something about her.  I'm begging you, please pretty please</td>\n",
       "    </tr>\n",
       "    <tr>\n",
       "      <th>1599298</th>\n",
       "      <td>1</td>\n",
       "      <td>2193403830</td>\n",
       "      <td>2009-06-16 08:24:44</td>\n",
       "      <td>lauren__x33</td>\n",
       "      <td>english exam went okay        revising for french, r.e and geography now, urrff</td>\n",
       "    </tr>\n",
       "    <tr>\n",
       "      <th>1599385</th>\n",
       "      <td>1</td>\n",
       "      <td>2193428118</td>\n",
       "      <td>2009-06-16 08:26:44</td>\n",
       "      <td>bubbles00</td>\n",
       "      <td>finally finished typing!!!! Woohoooo  , still need to add graphs though</td>\n",
       "    </tr>\n",
       "    <tr>\n",
       "      <th>1599440</th>\n",
       "      <td>1</td>\n",
       "      <td>2193451289</td>\n",
       "      <td>2009-06-16 08:28:37</td>\n",
       "      <td>faiznurdavid</td>\n",
       "      <td>@fanafatin see, @misschimichanga tweet u to join us!! u really cant?  so if thurs, when &amp;amp; where?</td>\n",
       "    </tr>\n",
       "    <tr>\n",
       "      <th>1599931</th>\n",
       "      <td>1</td>\n",
       "      <td>2193576442</td>\n",
       "      <td>2009-06-16 08:38:45</td>\n",
       "      <td>emma_b_xox</td>\n",
       "      <td>Had an injection today. Not fun  the rrst of the school day has been good. Tonight i am going dancing yey</td>\n",
       "    </tr>\n",
       "  </tbody>\n",
       "</table>\n",
       "<p>3370 rows × 5 columns</p>\n",
       "</div>"
      ],
      "text/plain": [
       "         Sentiment          Id                Date          User  \\\n",
       "213              0  1467863684 2009-04-06 22:33:35      DjGundam   \n",
       "275              0  1467880442 2009-04-06 22:38:04       iCalvin   \n",
       "989              0  1468053611 2009-04-06 23:28:09   mariejamora   \n",
       "1177             0  1468100580 2009-04-06 23:42:57   cristygarza   \n",
       "1254             0  1468115720 2009-04-06 23:48:00    WarholGirl   \n",
       "...            ...         ...                 ...           ...   \n",
       "1598780          1  2193278017 2009-06-16 08:14:22   janiecwales   \n",
       "1599298          1  2193403830 2009-06-16 08:24:44   lauren__x33   \n",
       "1599385          1  2193428118 2009-06-16 08:26:44     bubbles00   \n",
       "1599440          1  2193451289 2009-06-16 08:28:37  faiznurdavid   \n",
       "1599931          1  2193576442 2009-06-16 08:38:45    emma_b_xox   \n",
       "\n",
       "                                                                                                                                                  Tweet  \n",
       "213      Awwh babs... you look so sad underneith that shop entrance of &quot;Yesterday's Musik&quot;  O-: I like the look of the new transformer movie   \n",
       "275                                                    Haven't tweeted nearly all day  Posted my website tonight, hopefully that goes well  Night time!  \n",
       "989                      @hellobebe I also send some updates in plurk but i upload photos on twitter!  you didnt see any of my updates on plurk? Zero?   \n",
       "1177                                                                           good night swetdreamss to everyonee   and jared never chat in kyte puff   \n",
       "1254                        @ientje89 aw i'm fine too thanks! yeah i miss you so much on the MFC  but hope we can talk later on today  kisses :huglove:  \n",
       "...                                                                                                                                                 ...  \n",
       "1598780                                             oh dear HH is back   please twitter do something about her.  I'm begging you, please pretty please   \n",
       "1599298                                                                english exam went okay        revising for french, r.e and geography now, urrff   \n",
       "1599385                                                                        finally finished typing!!!! Woohoooo  , still need to add graphs though   \n",
       "1599440                                           @fanafatin see, @misschimichanga tweet u to join us!! u really cant?  so if thurs, when &amp; where?   \n",
       "1599931                                      Had an injection today. Not fun  the rrst of the school day has been good. Tonight i am going dancing yey   \n",
       "\n",
       "[3370 rows x 5 columns]"
      ]
     },
     "execution_count": 84,
     "metadata": {},
     "output_type": "execute_result"
    }
   ],
   "source": [
    "df[df.duplicated(subset=['Id', 'Tweet'], keep=False)]"
   ]
  },
  {
   "cell_type": "markdown",
   "id": "1fac8931",
   "metadata": {},
   "source": [
    "The dataframe above pulls out all the duplicated `Tweets` We can take a closer look by selecting one `Id` => `1467863684`"
   ]
  },
  {
   "cell_type": "code",
   "execution_count": 80,
   "id": "67018708",
   "metadata": {},
   "outputs": [
    {
     "data": {
      "text/html": [
       "<div>\n",
       "<style scoped>\n",
       "    .dataframe tbody tr th:only-of-type {\n",
       "        vertical-align: middle;\n",
       "    }\n",
       "\n",
       "    .dataframe tbody tr th {\n",
       "        vertical-align: top;\n",
       "    }\n",
       "\n",
       "    .dataframe thead th {\n",
       "        text-align: right;\n",
       "    }\n",
       "</style>\n",
       "<table border=\"1\" class=\"dataframe\">\n",
       "  <thead>\n",
       "    <tr style=\"text-align: right;\">\n",
       "      <th></th>\n",
       "      <th>Sentiment</th>\n",
       "      <th>Id</th>\n",
       "      <th>Date</th>\n",
       "      <th>User</th>\n",
       "      <th>Tweet</th>\n",
       "    </tr>\n",
       "  </thead>\n",
       "  <tbody>\n",
       "    <tr>\n",
       "      <th>1177</th>\n",
       "      <td>0</td>\n",
       "      <td>1468100580</td>\n",
       "      <td>2009-04-06 23:42:57</td>\n",
       "      <td>cristygarza</td>\n",
       "      <td>good night swetdreamss to everyonee   and jared never chat in kyte puff</td>\n",
       "    </tr>\n",
       "    <tr>\n",
       "      <th>801573</th>\n",
       "      <td>1</td>\n",
       "      <td>1468100580</td>\n",
       "      <td>2009-04-06 23:42:57</td>\n",
       "      <td>cristygarza</td>\n",
       "      <td>good night swetdreamss to everyonee   and jared never chat in kyte puff</td>\n",
       "    </tr>\n",
       "  </tbody>\n",
       "</table>\n",
       "</div>"
      ],
      "text/plain": [
       "        Sentiment          Id                Date         User  \\\n",
       "1177            0  1468100580 2009-04-06 23:42:57  cristygarza   \n",
       "801573          1  1468100580 2009-04-06 23:42:57  cristygarza   \n",
       "\n",
       "                                                                           Tweet  \n",
       "1177    good night swetdreamss to everyonee   and jared never chat in kyte puff   \n",
       "801573  good night swetdreamss to everyonee   and jared never chat in kyte puff   "
      ]
     },
     "execution_count": 80,
     "metadata": {},
     "output_type": "execute_result"
    }
   ],
   "source": [
    "df[df['Id'] == 1468100580]"
   ]
  },
  {
   "cell_type": "markdown",
   "id": "01e06acd",
   "metadata": {},
   "source": [
    "We can see there are duplicate tweets but having different `sentiment`. Based on the duplication of tweets above we can drop the duplicated tweet as some tweets are positive and some are negative\n",
    "\n",
    "We can go ahead and drop the duplicated tweet"
   ]
  },
  {
   "cell_type": "code",
   "execution_count": 85,
   "id": "568cf844",
   "metadata": {},
   "outputs": [],
   "source": [
    "df.drop_duplicates(subset=['Id', 'Tweet'], inplace=True)"
   ]
  },
  {
   "cell_type": "code",
   "execution_count": 87,
   "id": "edf189d0",
   "metadata": {},
   "outputs": [
    {
     "data": {
      "text/plain": [
       "0"
      ]
     },
     "execution_count": 87,
     "metadata": {},
     "output_type": "execute_result"
    }
   ],
   "source": [
    "# sanity check\n",
    "df[\"Id\"].duplicated().sum()"
   ]
  },
  {
   "cell_type": "markdown",
   "id": "00ff8a62",
   "metadata": {},
   "source": [
    "We successfully dropped the duplicated `Tweets`\n",
    "\n",
    "Let's further check the `Id` column"
   ]
  },
  {
   "cell_type": "code",
   "execution_count": 92,
   "id": "412cb1a3",
   "metadata": {},
   "outputs": [
    {
     "data": {
      "text/plain": [
       "Id\n",
       "1467810369    1\n",
       "1965217307    1\n",
       "1965217986    1\n",
       "1965217981    1\n",
       "1965217921    1\n",
       "             ..\n",
       "2196889890    1\n",
       "2196879563    1\n",
       "2196878643    1\n",
       "2196878471    1\n",
       "2193602129    1\n",
       "Name: count, Length: 1598315, dtype: int64"
      ]
     },
     "execution_count": 92,
     "metadata": {},
     "output_type": "execute_result"
    }
   ],
   "source": [
    "df['Id'].value_counts()"
   ]
  },
  {
   "cell_type": "markdown",
   "id": "abd57c8e",
   "metadata": {},
   "source": [
    "We can ensure that we don't have any duplicate tweets as every Tweet is unique"
   ]
  },
  {
   "cell_type": "code",
   "execution_count": 93,
   "id": "e7cedc17",
   "metadata": {
    "scrolled": true
   },
   "outputs": [
    {
     "name": "stdout",
     "output_type": "stream",
     "text": [
      "Id columns duplicate values: 0\n",
      "User columns duplicate values: 938540\n",
      "Tweet columns duplicate values: 16849\n"
     ]
    }
   ],
   "source": [
    "print(f'Id columns duplicate values: {df[\"Id\"].duplicated().sum()}')\n",
    "print(f'User columns duplicate values: {df[\"User\"].duplicated().sum()}')\n",
    "print(f'Tweet columns duplicate values: {df[\"Tweet\"].duplicated().sum()}')"
   ]
  },
  {
   "cell_type": "markdown",
   "id": "c080e6bf",
   "metadata": {},
   "source": [
    "We can check the duplicate values in terms of a User who tweeted "
   ]
  },
  {
   "cell_type": "code",
   "execution_count": 95,
   "id": "8e681347",
   "metadata": {},
   "outputs": [
    {
     "data": {
      "text/plain": [
       "False    1594745\n",
       "True        3570\n",
       "Name: count, dtype: int64"
      ]
     },
     "execution_count": 95,
     "metadata": {},
     "output_type": "execute_result"
    }
   ],
   "source": [
    "user_tweet_dup = df.duplicated(subset=['User', 'Tweet']).value_counts()\n",
    "user_tweet_dup"
   ]
  },
  {
   "cell_type": "code",
   "execution_count": 100,
   "id": "817a3a9b",
   "metadata": {},
   "outputs": [
    {
     "data": {
      "text/html": [
       "<div>\n",
       "<style scoped>\n",
       "    .dataframe tbody tr th:only-of-type {\n",
       "        vertical-align: middle;\n",
       "    }\n",
       "\n",
       "    .dataframe tbody tr th {\n",
       "        vertical-align: top;\n",
       "    }\n",
       "\n",
       "    .dataframe thead th {\n",
       "        text-align: right;\n",
       "    }\n",
       "</style>\n",
       "<table border=\"1\" class=\"dataframe\">\n",
       "  <thead>\n",
       "    <tr style=\"text-align: right;\">\n",
       "      <th></th>\n",
       "      <th>Sentiment</th>\n",
       "      <th>Id</th>\n",
       "      <th>Date</th>\n",
       "      <th>User</th>\n",
       "      <th>Tweet</th>\n",
       "    </tr>\n",
       "  </thead>\n",
       "  <tbody>\n",
       "    <tr>\n",
       "      <th>1598959</th>\n",
       "      <td>1</td>\n",
       "      <td>2193318357</td>\n",
       "      <td>2009-06-16 08:17:40</td>\n",
       "      <td>ummsistweets</td>\n",
       "      <td>cedar point with my biffs</td>\n",
       "    </tr>\n",
       "    <tr>\n",
       "      <th>1599353</th>\n",
       "      <td>1</td>\n",
       "      <td>2193427113</td>\n",
       "      <td>2009-06-16 08:26:38</td>\n",
       "      <td>parawhore182</td>\n",
       "      <td>Im busy. Drooling. Over this video. ;)  but yeahh it does work captain!  @lostducky0013</td>\n",
       "    </tr>\n",
       "    <tr>\n",
       "      <th>1599354</th>\n",
       "      <td>1</td>\n",
       "      <td>2193427134</td>\n",
       "      <td>2009-06-16 08:26:38</td>\n",
       "      <td>parawhore182</td>\n",
       "      <td>Im busy. Drooling. Over this video. ;)  but yeahh it does work captain!  @lostducky0013</td>\n",
       "    </tr>\n",
       "    <tr>\n",
       "      <th>1599377</th>\n",
       "      <td>1</td>\n",
       "      <td>2193427910</td>\n",
       "      <td>2009-06-16 08:26:43</td>\n",
       "      <td>ummsistweets</td>\n",
       "      <td>cedar point with my biffs</td>\n",
       "    </tr>\n",
       "    <tr>\n",
       "      <th>1599531</th>\n",
       "      <td>1</td>\n",
       "      <td>2193474515</td>\n",
       "      <td>2009-06-16 08:30:28</td>\n",
       "      <td>majaricious</td>\n",
       "      <td>@KhloeKardashian Definitely my Mom. And Angelina Jolie</td>\n",
       "    </tr>\n",
       "  </tbody>\n",
       "</table>\n",
       "</div>"
      ],
      "text/plain": [
       "         Sentiment          Id                Date          User  \\\n",
       "1598959          1  2193318357 2009-06-16 08:17:40  ummsistweets   \n",
       "1599353          1  2193427113 2009-06-16 08:26:38  parawhore182   \n",
       "1599354          1  2193427134 2009-06-16 08:26:38  parawhore182   \n",
       "1599377          1  2193427910 2009-06-16 08:26:43  ummsistweets   \n",
       "1599531          1  2193474515 2009-06-16 08:30:28   majaricious   \n",
       "\n",
       "                                                                                           Tweet  \n",
       "1598959                                                               cedar point with my biffs   \n",
       "1599353  Im busy. Drooling. Over this video. ;)  but yeahh it does work captain!  @lostducky0013  \n",
       "1599354  Im busy. Drooling. Over this video. ;)  but yeahh it does work captain!  @lostducky0013  \n",
       "1599377                                                               cedar point with my biffs   \n",
       "1599531                                  @KhloeKardashian Definitely my Mom. And Angelina Jolie   "
      ]
     },
     "execution_count": 100,
     "metadata": {},
     "output_type": "execute_result"
    }
   ],
   "source": [
    "df[df.duplicated(subset=['User', 'Tweet'], keep=False)].tail(5)"
   ]
  },
  {
   "cell_type": "markdown",
   "id": "2efe92b1",
   "metadata": {},
   "source": [
    "We can see from the dataframe above there are some duplicate Tweets"
   ]
  },
  {
   "cell_type": "code",
   "execution_count": 97,
   "id": "72b4e36c",
   "metadata": {},
   "outputs": [
    {
     "data": {
      "text/plain": [
       "0.2233602262382572"
      ]
     },
     "execution_count": 97,
     "metadata": {},
     "output_type": "execute_result"
    }
   ],
   "source": [
    "user_tweet_dup[1]/df.shape[0]*100"
   ]
  },
  {
   "cell_type": "markdown",
   "id": "06df8f95",
   "metadata": {},
   "source": [
    "There are around `3570` duplicates that can be removed, and it's less than 1%, so we can drop it"
   ]
  },
  {
   "cell_type": "code",
   "execution_count": 101,
   "id": "c4d7b061",
   "metadata": {},
   "outputs": [],
   "source": [
    "df.drop_duplicates(subset=['User', 'Tweet'], inplace=True)"
   ]
  },
  {
   "cell_type": "code",
   "execution_count": 102,
   "id": "3341d9eb",
   "metadata": {},
   "outputs": [
    {
     "data": {
      "text/plain": [
       "False    1594745\n",
       "Name: count, dtype: int64"
      ]
     },
     "execution_count": 102,
     "metadata": {},
     "output_type": "execute_result"
    }
   ],
   "source": [
    "# sanity check\n",
    "df.duplicated(subset=['User', 'Tweet']).value_counts()"
   ]
  },
  {
   "cell_type": "markdown",
   "id": "732c36d9",
   "metadata": {},
   "source": [
    "**Nice!** We dropped the duplicate tweets"
   ]
  },
  {
   "cell_type": "markdown",
   "id": "6aee26d6",
   "metadata": {},
   "source": [
    "### Data Cleaning\n",
    "\n",
    "Next steps, let's look at `Tweet` column"
   ]
  },
  {
   "cell_type": "code",
   "execution_count": 104,
   "id": "ef337416",
   "metadata": {},
   "outputs": [],
   "source": [
    "df_clean = df.copy()"
   ]
  },
  {
   "cell_type": "code",
   "execution_count": 108,
   "id": "f42c81ca",
   "metadata": {},
   "outputs": [
    {
     "name": "stdout",
     "output_type": "stream",
     "text": [
      "True: The dataframe are copied correctly\n"
     ]
    }
   ],
   "source": [
    "#sanity check - copied correctly\n",
    "print(f'{df_clean.shape[0] == df.shape[0]}: The dataframe are copied correctly')"
   ]
  },
  {
   "cell_type": "code",
   "execution_count": 114,
   "id": "7bf96551",
   "metadata": {},
   "outputs": [
    {
     "data": {
      "text/html": [
       "<div>\n",
       "<style scoped>\n",
       "    .dataframe tbody tr th:only-of-type {\n",
       "        vertical-align: middle;\n",
       "    }\n",
       "\n",
       "    .dataframe tbody tr th {\n",
       "        vertical-align: top;\n",
       "    }\n",
       "\n",
       "    .dataframe thead th {\n",
       "        text-align: right;\n",
       "    }\n",
       "</style>\n",
       "<table border=\"1\" class=\"dataframe\">\n",
       "  <thead>\n",
       "    <tr style=\"text-align: right;\">\n",
       "      <th></th>\n",
       "      <th>Sentiment</th>\n",
       "      <th>Id</th>\n",
       "      <th>Date</th>\n",
       "      <th>User</th>\n",
       "      <th>Tweet</th>\n",
       "    </tr>\n",
       "  </thead>\n",
       "  <tbody>\n",
       "    <tr>\n",
       "      <th>0</th>\n",
       "      <td>0</td>\n",
       "      <td>1467810369</td>\n",
       "      <td>2009-04-06 22:19:45</td>\n",
       "      <td>_TheSpecialOne_</td>\n",
       "      <td>@switchfoot http://twitpic.com/2y1zl - Awww, that's a bummer.  You shoulda got David Carr of Third Day to do it. ;D</td>\n",
       "    </tr>\n",
       "  </tbody>\n",
       "</table>\n",
       "</div>"
      ],
      "text/plain": [
       "   Sentiment          Id                Date             User  \\\n",
       "0          0  1467810369 2009-04-06 22:19:45  _TheSpecialOne_   \n",
       "\n",
       "                                                                                                                 Tweet  \n",
       "0  @switchfoot http://twitpic.com/2y1zl - Awww, that's a bummer.  You shoulda got David Carr of Third Day to do it. ;D  "
      ]
     },
     "execution_count": 114,
     "metadata": {},
     "output_type": "execute_result"
    }
   ],
   "source": [
    "df_clean.head(1)"
   ]
  },
  {
   "cell_type": "code",
   "execution_count": 115,
   "id": "87e0d5b8",
   "metadata": {},
   "outputs": [
    {
     "data": {
      "text/html": [
       "<div>\n",
       "<style scoped>\n",
       "    .dataframe tbody tr th:only-of-type {\n",
       "        vertical-align: middle;\n",
       "    }\n",
       "\n",
       "    .dataframe tbody tr th {\n",
       "        vertical-align: top;\n",
       "    }\n",
       "\n",
       "    .dataframe thead th {\n",
       "        text-align: right;\n",
       "    }\n",
       "</style>\n",
       "<table border=\"1\" class=\"dataframe\">\n",
       "  <thead>\n",
       "    <tr style=\"text-align: right;\">\n",
       "      <th></th>\n",
       "      <th>Sentiment</th>\n",
       "      <th>Id</th>\n",
       "    </tr>\n",
       "  </thead>\n",
       "  <tbody>\n",
       "    <tr>\n",
       "      <th>Sentiment</th>\n",
       "      <td>1.000000</td>\n",
       "      <td>-0.261886</td>\n",
       "    </tr>\n",
       "    <tr>\n",
       "      <th>Id</th>\n",
       "      <td>-0.261886</td>\n",
       "      <td>1.000000</td>\n",
       "    </tr>\n",
       "  </tbody>\n",
       "</table>\n",
       "</div>"
      ],
      "text/plain": [
       "           Sentiment        Id\n",
       "Sentiment   1.000000 -0.261886\n",
       "Id         -0.261886  1.000000"
      ]
     },
     "execution_count": 115,
     "metadata": {},
     "output_type": "execute_result"
    }
   ],
   "source": [
    "df_clean[['Sentiment', 'Id']].corr()"
   ]
  },
  {
   "cell_type": "markdown",
   "id": "6680ea7a",
   "metadata": {},
   "source": [
    "We observe the correlation between `Id` and `Sentiment` is not that high. Though, we can drop the column as our main focus on `Tweet` column"
   ]
  },
  {
   "cell_type": "code",
   "execution_count": 116,
   "id": "67b3368c",
   "metadata": {},
   "outputs": [],
   "source": [
    "# dropping ID column\n",
    "df_clean.drop(columns='Id', inplace=True)"
   ]
  },
  {
   "cell_type": "code",
   "execution_count": 130,
   "id": "451a007a",
   "metadata": {},
   "outputs": [
    {
     "data": {
      "text/html": [
       "<div>\n",
       "<style scoped>\n",
       "    .dataframe tbody tr th:only-of-type {\n",
       "        vertical-align: middle;\n",
       "    }\n",
       "\n",
       "    .dataframe tbody tr th {\n",
       "        vertical-align: top;\n",
       "    }\n",
       "\n",
       "    .dataframe thead th {\n",
       "        text-align: right;\n",
       "    }\n",
       "</style>\n",
       "<table border=\"1\" class=\"dataframe\">\n",
       "  <thead>\n",
       "    <tr style=\"text-align: right;\">\n",
       "      <th></th>\n",
       "      <th>Sentiment</th>\n",
       "      <th>Date</th>\n",
       "      <th>User</th>\n",
       "      <th>Tweet</th>\n",
       "    </tr>\n",
       "  </thead>\n",
       "  <tbody>\n",
       "    <tr>\n",
       "      <th>523630</th>\n",
       "      <td>0</td>\n",
       "      <td>2009-06-16 08:07:50</td>\n",
       "      <td>irishblood1975</td>\n",
       "      <td>That would be an expensive concert for me. Airfare, ticket to concert... Hmmm. Hotel room. No FNM for me</td>\n",
       "    </tr>\n",
       "    <tr>\n",
       "      <th>1176824</th>\n",
       "      <td>1</td>\n",
       "      <td>2009-05-31 08:53:26</td>\n",
       "      <td>Natasja_Cupcake</td>\n",
       "      <td>@jordanknight Wow you're fast ! Enjoy your lunch</td>\n",
       "    </tr>\n",
       "    <tr>\n",
       "      <th>967243</th>\n",
       "      <td>1</td>\n",
       "      <td>2009-05-17 11:23:42</td>\n",
       "      <td>alexandra_xo</td>\n",
       "      <td>Off to see Star Trek with my mum.</td>\n",
       "    </tr>\n",
       "    <tr>\n",
       "      <th>1031016</th>\n",
       "      <td>1</td>\n",
       "      <td>2009-05-26 22:45:08</td>\n",
       "      <td>raamki</td>\n",
       "      <td>8 days to the t20 cricket world cup and 17 days to my vacation!!</td>\n",
       "    </tr>\n",
       "    <tr>\n",
       "      <th>774444</th>\n",
       "      <td>0</td>\n",
       "      <td>2009-06-24 21:10:06</td>\n",
       "      <td>realchrissystar</td>\n",
       "      <td>arms burnnn ahh so much pain today..will be takin another perk when I crash out..ouchies  xx</td>\n",
       "    </tr>\n",
       "  </tbody>\n",
       "</table>\n",
       "</div>"
      ],
      "text/plain": [
       "         Sentiment                Date             User  \\\n",
       "523630           0 2009-06-16 08:07:50   irishblood1975   \n",
       "1176824          1 2009-05-31 08:53:26  Natasja_Cupcake   \n",
       "967243           1 2009-05-17 11:23:42     alexandra_xo   \n",
       "1031016          1 2009-05-26 22:45:08           raamki   \n",
       "774444           0 2009-06-24 21:10:06  realchrissystar   \n",
       "\n",
       "                                                                                                             Tweet  \n",
       "523630   That would be an expensive concert for me. Airfare, ticket to concert... Hmmm. Hotel room. No FNM for me   \n",
       "1176824                                                          @jordanknight Wow you're fast ! Enjoy your lunch   \n",
       "967243                                                                          Off to see Star Trek with my mum.   \n",
       "1031016                                          8 days to the t20 cricket world cup and 17 days to my vacation!!   \n",
       "774444                arms burnnn ahh so much pain today..will be takin another perk when I crash out..ouchies  xx  "
      ]
     },
     "execution_count": 130,
     "metadata": {},
     "output_type": "execute_result"
    }
   ],
   "source": [
    "# sanity check\n",
    "df_clean.sample(5)"
   ]
  },
  {
   "cell_type": "markdown",
   "id": "afa7da29",
   "metadata": {},
   "source": [
    "We successfully dropped `Id` column\n",
    "\n",
    "After looking at the `Tweet` column from the dataset. There are some cleaning steps we have to proceed in order for our model to work well:\n",
    "\n",
    "    1. Lower casing the `Tweet`\n",
    "    2. Filtering out and create a new column `Tagging`, `Hashtags`, `Emojis` \n",
    "    3. Removing punctuations, special characters (%,^,&,*), non-wording characters (ñ, ð, °, ð) and numerical values"
   ]
  },
  {
   "cell_type": "markdown",
   "id": "e398f057",
   "metadata": {},
   "source": [
    "Convert to lowercase `Tweet`"
   ]
  },
  {
   "cell_type": "code",
   "execution_count": 131,
   "id": "ed5f0af9",
   "metadata": {},
   "outputs": [],
   "source": [
    "# Convert tweets to lower case\n",
    "df_clean['Tweet'] = df_clean['Tweet'].str.lower()"
   ]
  },
  {
   "cell_type": "code",
   "execution_count": 132,
   "id": "d3b5f62e",
   "metadata": {},
   "outputs": [
    {
     "data": {
      "text/plain": [
       "0          @switchfoot http://twitpic.com/2y1zl - awww, that's a bummer.  you shoulda got david carr of third day to do it. ;d\n",
       "1              is upset that he can't update his facebook by texting it... and might cry as a result  school today also. blah!\n",
       "2                                    @kenichan i dived many times for the ball. managed to save 50%  the rest go out of bounds\n",
       "3                                                                              my whole body feels itchy and like its on fire \n",
       "4              @nationwideclass no, it's not behaving at all. i'm mad. why am i here? because i can't see you all over there. \n",
       "                                                                  ...                                                         \n",
       "1599995                                                               just woke up. having no school is the best feeling ever \n",
       "1599996                                         thewdb.com - very cool to hear old walt interviews!  â« http://blip.fm/~8bmta\n",
       "1599997                                                              are you ready for your mojo makeover? ask me for details \n",
       "1599998                                                      happy 38th birthday to my boo of alll time!!! tupac amaru shakur \n",
       "1599999                                                         happy #charitytuesday @thenspcc @sparkscharity @speakinguph4h \n",
       "Name: Tweet, Length: 1594745, dtype: object"
      ]
     },
     "execution_count": 132,
     "metadata": {},
     "output_type": "execute_result"
    }
   ],
   "source": [
    "# sanity check\n",
    "df_clean['Tweet']"
   ]
  },
  {
   "cell_type": "markdown",
   "id": "04135e43",
   "metadata": {},
   "source": [
    "Filtering out `Tagging` and `Hastags` by creating a new column"
   ]
  },
  {
   "cell_type": "code",
   "execution_count": 134,
   "id": "85e7b6c8",
   "metadata": {},
   "outputs": [],
   "source": [
    "# Tagging and hastags in new column\n",
    "df_clean['Tagging'] = df_clean['Tweet']\\\n",
    "    .apply(lambda x: ', '.join([mention.strip('@') for mention in x.split() if mention.startswith('@')]))\n",
    "df_clean['Hashtags'] = df_clean['Tweet']\\\n",
    "    .apply(lambda x: ', '.join([hashtag.strip('#') for hashtag in x.split() if hashtag.startswith('#')]))"
   ]
  },
  {
   "cell_type": "code",
   "execution_count": 156,
   "id": "c95b5ea2",
   "metadata": {},
   "outputs": [],
   "source": [
    "# replace an empty field to None\n",
    "df_clean['Tagging'] = df_clean['Tagging'].fillna('None').replace('', None)\n",
    "df_clean['Hashtags'] = df_clean['Hashtags'].fillna('None').replace('', None)"
   ]
  },
  {
   "cell_type": "markdown",
   "id": "c824623a",
   "metadata": {},
   "source": [
    "Filtering out `emojis` by creating a new column"
   ]
  },
  {
   "cell_type": "code",
   "execution_count": 135,
   "id": "230ea11b",
   "metadata": {},
   "outputs": [],
   "source": [
    "# Define the emojis pattern\n",
    "emojis_pattern = r'(:\\) |:\\]|: \\)|=\\)|:d|;d|:\\(|:\\[|:- \\))'\n",
    "\n",
    "# Add a new column to store the presence of emojis\n",
    "emojis = df_clean['Tweet'].str.extractall(emojis_pattern).groupby(level=0).agg(','.join)\n",
    "df_clean['Emojis'] = emojis if not emojis.empty else None\n",
    "df_clean['Emojis'] = df_clean['Emojis'].fillna('None')"
   ]
  },
  {
   "cell_type": "code",
   "execution_count": 157,
   "id": "e4dc0f46",
   "metadata": {
    "scrolled": true
   },
   "outputs": [
    {
     "data": {
      "text/html": [
       "<div>\n",
       "<style scoped>\n",
       "    .dataframe tbody tr th:only-of-type {\n",
       "        vertical-align: middle;\n",
       "    }\n",
       "\n",
       "    .dataframe tbody tr th {\n",
       "        vertical-align: top;\n",
       "    }\n",
       "\n",
       "    .dataframe thead th {\n",
       "        text-align: right;\n",
       "    }\n",
       "</style>\n",
       "<table border=\"1\" class=\"dataframe\">\n",
       "  <thead>\n",
       "    <tr style=\"text-align: right;\">\n",
       "      <th></th>\n",
       "      <th>Sentiment</th>\n",
       "      <th>Date</th>\n",
       "      <th>User</th>\n",
       "      <th>Tweet</th>\n",
       "      <th>Tagging</th>\n",
       "      <th>Hashtags</th>\n",
       "      <th>Emojis</th>\n",
       "    </tr>\n",
       "  </thead>\n",
       "  <tbody>\n",
       "    <tr>\n",
       "      <th>0</th>\n",
       "      <td>0</td>\n",
       "      <td>2009-04-06 22:19:45</td>\n",
       "      <td>_TheSpecialOne_</td>\n",
       "      <td>@switchfoot http://twitpic.com/2y1zl - awww, that's a bummer.  you shoulda got david carr of third day to do it. ;d</td>\n",
       "      <td>switchfoot</td>\n",
       "      <td>None</td>\n",
       "      <td>;d</td>\n",
       "    </tr>\n",
       "    <tr>\n",
       "      <th>1</th>\n",
       "      <td>0</td>\n",
       "      <td>2009-04-06 22:19:49</td>\n",
       "      <td>scotthamilton</td>\n",
       "      <td>is upset that he can't update his facebook by texting it... and might cry as a result  school today also. blah!</td>\n",
       "      <td>None</td>\n",
       "      <td>None</td>\n",
       "      <td>None</td>\n",
       "    </tr>\n",
       "    <tr>\n",
       "      <th>2</th>\n",
       "      <td>0</td>\n",
       "      <td>2009-04-06 22:19:53</td>\n",
       "      <td>mattycus</td>\n",
       "      <td>@kenichan i dived many times for the ball. managed to save 50%  the rest go out of bounds</td>\n",
       "      <td>kenichan</td>\n",
       "      <td>None</td>\n",
       "      <td>None</td>\n",
       "    </tr>\n",
       "    <tr>\n",
       "      <th>3</th>\n",
       "      <td>0</td>\n",
       "      <td>2009-04-06 22:19:57</td>\n",
       "      <td>ElleCTF</td>\n",
       "      <td>my whole body feels itchy and like its on fire</td>\n",
       "      <td>None</td>\n",
       "      <td>None</td>\n",
       "      <td>None</td>\n",
       "    </tr>\n",
       "    <tr>\n",
       "      <th>4</th>\n",
       "      <td>0</td>\n",
       "      <td>2009-04-06 22:19:57</td>\n",
       "      <td>Karoli</td>\n",
       "      <td>@nationwideclass no, it's not behaving at all. i'm mad. why am i here? because i can't see you all over there.</td>\n",
       "      <td>nationwideclass</td>\n",
       "      <td>None</td>\n",
       "      <td>None</td>\n",
       "    </tr>\n",
       "  </tbody>\n",
       "</table>\n",
       "</div>"
      ],
      "text/plain": [
       "   Sentiment                Date             User  \\\n",
       "0          0 2009-04-06 22:19:45  _TheSpecialOne_   \n",
       "1          0 2009-04-06 22:19:49    scotthamilton   \n",
       "2          0 2009-04-06 22:19:53         mattycus   \n",
       "3          0 2009-04-06 22:19:57          ElleCTF   \n",
       "4          0 2009-04-06 22:19:57           Karoli   \n",
       "\n",
       "                                                                                                                 Tweet  \\\n",
       "0  @switchfoot http://twitpic.com/2y1zl - awww, that's a bummer.  you shoulda got david carr of third day to do it. ;d   \n",
       "1      is upset that he can't update his facebook by texting it... and might cry as a result  school today also. blah!   \n",
       "2                            @kenichan i dived many times for the ball. managed to save 50%  the rest go out of bounds   \n",
       "3                                                                      my whole body feels itchy and like its on fire    \n",
       "4      @nationwideclass no, it's not behaving at all. i'm mad. why am i here? because i can't see you all over there.    \n",
       "\n",
       "           Tagging Hashtags Emojis  \n",
       "0       switchfoot     None     ;d  \n",
       "1             None     None   None  \n",
       "2         kenichan     None   None  \n",
       "3             None     None   None  \n",
       "4  nationwideclass     None   None  "
      ]
     },
     "execution_count": 157,
     "metadata": {},
     "output_type": "execute_result"
    }
   ],
   "source": [
    "# sanity check\n",
    "df_clean.head(5)"
   ]
  },
  {
   "cell_type": "markdown",
   "id": "1574400c",
   "metadata": {},
   "source": [
    "We successfully created new columns. We can observe some None fields, which we will discover later in this notebook\n",
    "\n",
    "We will start by cleaning special characters"
   ]
  },
  {
   "cell_type": "code",
   "execution_count": 151,
   "id": "ec65b0ea",
   "metadata": {},
   "outputs": [],
   "source": [
    "df_clean['Tweet'] = df_clean['Tweet'].str.replace(r\"&quot;\", ' ', regex=True)\n",
    "df_clean['Tweet'] = df_clean['Tweet'].str.replace(r\"&amp;\", ' ', regex=True)\n",
    "df_clean['Tweet'] = df_clean['Tweet'].str.replace(r\"&gt;\", ' ', regex=True)\n",
    "df_clean['Tweet'] = df_clean['Tweet'].str.replace(r\"&lt;\", ' ', regex=True)"
   ]
  },
  {
   "cell_type": "code",
   "execution_count": 152,
   "id": "26193950",
   "metadata": {},
   "outputs": [
    {
     "data": {
      "text/html": [
       "<div>\n",
       "<style scoped>\n",
       "    .dataframe tbody tr th:only-of-type {\n",
       "        vertical-align: middle;\n",
       "    }\n",
       "\n",
       "    .dataframe tbody tr th {\n",
       "        vertical-align: top;\n",
       "    }\n",
       "\n",
       "    .dataframe thead th {\n",
       "        text-align: right;\n",
       "    }\n",
       "</style>\n",
       "<table border=\"1\" class=\"dataframe\">\n",
       "  <thead>\n",
       "    <tr style=\"text-align: right;\">\n",
       "      <th></th>\n",
       "      <th>Sentiment</th>\n",
       "      <th>Date</th>\n",
       "      <th>User</th>\n",
       "      <th>Tweet</th>\n",
       "      <th>Tagging</th>\n",
       "      <th>Hashtags</th>\n",
       "      <th>Emojis</th>\n",
       "    </tr>\n",
       "  </thead>\n",
       "  <tbody>\n",
       "    <tr>\n",
       "      <th>1471948</th>\n",
       "      <td>1</td>\n",
       "      <td>2009-06-07 08:18:30</td>\n",
       "      <td>c0der</td>\n",
       "      <td>ð³ñ. twitter ñð°ð±ð¾ñð°ðµñ ð¸ ð¿ð¾ https</td>\n",
       "      <td></td>\n",
       "      <td></td>\n",
       "      <td>None</td>\n",
       "    </tr>\n",
       "  </tbody>\n",
       "</table>\n",
       "</div>"
      ],
      "text/plain": [
       "         Sentiment                Date   User  \\\n",
       "1471948          1 2009-06-07 08:18:30  c0der   \n",
       "\n",
       "                                                 Tweet Tagging Hashtags Emojis  \n",
       "1471948  ð³ñ. twitter ñð°ð±ð¾ñð°ðµñ ð¸ ð¿ð¾ https                     None  "
      ]
     },
     "execution_count": 152,
     "metadata": {},
     "output_type": "execute_result"
    }
   ],
   "source": [
    "df_clean[df_clean['User'] == 'c0der']"
   ]
  },
  {
   "cell_type": "markdown",
   "id": "9b473080",
   "metadata": {},
   "source": [
    "It seems there are alot of unknown characters which might be in another language or an emojis. I have gathered all the special characters, we can start filtering out the characters. "
   ]
  },
  {
   "cell_type": "code",
   "execution_count": 158,
   "id": "38fd8710",
   "metadata": {},
   "outputs": [],
   "source": [
    "df_clean.drop(df_clean[df_clean['Tweet'].str.contains(r'ñ||å||§|ù||¹|¡|³|ã|©|®|â|¬|î|±|ä|°|ð|ç||é|ì|²|\\\n",
    "                                    ¢|×|¨|æ|¸|ë|ê|»|¶|à|¼|¾||£|')].index, inplace=True)"
   ]
  },
  {
   "cell_type": "code",
   "execution_count": 155,
   "id": "84ca60ce",
   "metadata": {},
   "outputs": [
    {
     "data": {
      "text/html": [
       "<div>\n",
       "<style scoped>\n",
       "    .dataframe tbody tr th:only-of-type {\n",
       "        vertical-align: middle;\n",
       "    }\n",
       "\n",
       "    .dataframe tbody tr th {\n",
       "        vertical-align: top;\n",
       "    }\n",
       "\n",
       "    .dataframe thead th {\n",
       "        text-align: right;\n",
       "    }\n",
       "</style>\n",
       "<table border=\"1\" class=\"dataframe\">\n",
       "  <thead>\n",
       "    <tr style=\"text-align: right;\">\n",
       "      <th></th>\n",
       "      <th>Sentiment</th>\n",
       "      <th>Date</th>\n",
       "      <th>User</th>\n",
       "      <th>Tweet</th>\n",
       "      <th>Tagging</th>\n",
       "      <th>Hashtags</th>\n",
       "      <th>Emojis</th>\n",
       "    </tr>\n",
       "  </thead>\n",
       "  <tbody>\n",
       "    <tr>\n",
       "      <th>1323182</th>\n",
       "      <td>1</td>\n",
       "      <td>2009-06-03 02:58:46</td>\n",
       "      <td>wendyhendrikse</td>\n",
       "      <td>@mutsaerts bah!</td>\n",
       "      <td>mutsaerts</td>\n",
       "      <td></td>\n",
       "      <td>None</td>\n",
       "    </tr>\n",
       "    <tr>\n",
       "      <th>1060285</th>\n",
       "      <td>1</td>\n",
       "      <td>2009-05-29 12:42:17</td>\n",
       "      <td>Lulu_Lime</td>\n",
       "      <td>licensing some vehicles at work.. genesis coupe anyone?!</td>\n",
       "      <td></td>\n",
       "      <td></td>\n",
       "      <td>None</td>\n",
       "    </tr>\n",
       "    <tr>\n",
       "      <th>930950</th>\n",
       "      <td>1</td>\n",
       "      <td>2009-05-11 21:53:39</td>\n",
       "      <td>niiiecy</td>\n",
       "      <td>@suckaproofhov i've been pretty good preparing my self for my vaca i'm going to be down in miami!  what bout you? how r you?</td>\n",
       "      <td>suckaproofhov</td>\n",
       "      <td></td>\n",
       "      <td>None</td>\n",
       "    </tr>\n",
       "    <tr>\n",
       "      <th>386794</th>\n",
       "      <td>0</td>\n",
       "      <td>2009-06-06 05:56:14</td>\n",
       "      <td>fundamellie</td>\n",
       "      <td>@1outside and no tweeting or bliping there either</td>\n",
       "      <td>1outside</td>\n",
       "      <td></td>\n",
       "      <td>None</td>\n",
       "    </tr>\n",
       "    <tr>\n",
       "      <th>221176</th>\n",
       "      <td>0</td>\n",
       "      <td>2009-05-30 19:02:40</td>\n",
       "      <td>Duckiepants</td>\n",
       "      <td>i want chicken</td>\n",
       "      <td></td>\n",
       "      <td></td>\n",
       "      <td>None</td>\n",
       "    </tr>\n",
       "  </tbody>\n",
       "</table>\n",
       "</div>"
      ],
      "text/plain": [
       "         Sentiment                Date            User  \\\n",
       "1323182          1 2009-06-03 02:58:46  wendyhendrikse   \n",
       "1060285          1 2009-05-29 12:42:17       Lulu_Lime   \n",
       "930950           1 2009-05-11 21:53:39         niiiecy   \n",
       "386794           0 2009-06-06 05:56:14     fundamellie   \n",
       "221176           0 2009-05-30 19:02:40     Duckiepants   \n",
       "\n",
       "                                                                                                                                Tweet  \\\n",
       "1323182                                                                                                              @mutsaerts bah!    \n",
       "1060285                                                                     licensing some vehicles at work.. genesis coupe anyone?!    \n",
       "930950   @suckaproofhov i've been pretty good preparing my self for my vaca i'm going to be down in miami!  what bout you? how r you?   \n",
       "386794                                                                             @1outside and no tweeting or bliping there either    \n",
       "221176                                                                                                                i want chicken    \n",
       "\n",
       "               Tagging Hashtags Emojis  \n",
       "1323182      mutsaerts            None  \n",
       "1060285                           None  \n",
       "930950   suckaproofhov            None  \n",
       "386794        1outside            None  \n",
       "221176                            None  "
      ]
     },
     "execution_count": 155,
     "metadata": {},
     "output_type": "execute_result"
    }
   ],
   "source": [
    "# sanity check using regex \n",
    "df_clean[df_clean['Tweet'].str.contains(r'\\W')].sample(5)"
   ]
  },
  {
   "cell_type": "markdown",
   "id": "4ac6e90b",
   "metadata": {},
   "source": [
    "We got successfully removed the non-wording characters, applied by using a regex command `\\W`."
   ]
  },
  {
   "cell_type": "code",
   "execution_count": 164,
   "id": "559bc156",
   "metadata": {},
   "outputs": [
    {
     "data": {
      "text/html": [
       "<div>\n",
       "<style scoped>\n",
       "    .dataframe tbody tr th:only-of-type {\n",
       "        vertical-align: middle;\n",
       "    }\n",
       "\n",
       "    .dataframe tbody tr th {\n",
       "        vertical-align: top;\n",
       "    }\n",
       "\n",
       "    .dataframe thead th {\n",
       "        text-align: right;\n",
       "    }\n",
       "</style>\n",
       "<table border=\"1\" class=\"dataframe\">\n",
       "  <thead>\n",
       "    <tr style=\"text-align: right;\">\n",
       "      <th></th>\n",
       "      <th>Sentiment</th>\n",
       "      <th>Date</th>\n",
       "      <th>User</th>\n",
       "      <th>Tweet</th>\n",
       "      <th>Tagging</th>\n",
       "      <th>Hashtags</th>\n",
       "      <th>Emojis</th>\n",
       "    </tr>\n",
       "  </thead>\n",
       "  <tbody>\n",
       "    <tr>\n",
       "      <th>582015</th>\n",
       "      <td>0</td>\n",
       "      <td>2009-06-17 16:47:07</td>\n",
       "      <td>twobeerqueers</td>\n",
       "      <td>@fatjeff @neenz i can honestly say i dont use my phone that much, now a macbookpro awwww yeeaah! $10 to upgrade ipod touch</td>\n",
       "      <td>fatjeff, neenz</td>\n",
       "      <td>None</td>\n",
       "      <td>None</td>\n",
       "    </tr>\n",
       "    <tr>\n",
       "      <th>1548524</th>\n",
       "      <td>1</td>\n",
       "      <td>2009-06-15 13:58:40</td>\n",
       "      <td>heartsbekah</td>\n",
       "      <td>writing a song.</td>\n",
       "      <td>None</td>\n",
       "      <td>None</td>\n",
       "      <td>None</td>\n",
       "    </tr>\n",
       "  </tbody>\n",
       "</table>\n",
       "</div>"
      ],
      "text/plain": [
       "         Sentiment                Date           User  \\\n",
       "582015           0 2009-06-17 16:47:07  twobeerqueers   \n",
       "1548524          1 2009-06-15 13:58:40    heartsbekah   \n",
       "\n",
       "                                                                                                                               Tweet  \\\n",
       "582015   @fatjeff @neenz i can honestly say i dont use my phone that much, now a macbookpro awwww yeeaah! $10 to upgrade ipod touch    \n",
       "1548524                                                                                                             writing a song.    \n",
       "\n",
       "                Tagging Hashtags Emojis  \n",
       "582015   fatjeff, neenz     None   None  \n",
       "1548524            None     None   None  "
      ]
     },
     "execution_count": 164,
     "metadata": {},
     "output_type": "execute_result"
    }
   ],
   "source": [
    "df_clean[df_clean['Tweet'].str.contains(r'[^a-z ]')].sample(2)"
   ]
  },
  {
   "cell_type": "markdown",
   "id": "9c10f4b0",
   "metadata": {},
   "source": [
    "Let's create a function in order to remove the special characters, Urls, and hastags"
   ]
  },
  {
   "cell_type": "code",
   "execution_count": 166,
   "id": "e7fdbb6b",
   "metadata": {},
   "outputs": [],
   "source": [
    "# Importing a library\n",
    "import string\n",
    "import preprocessor as p\n",
    "\n",
    "# Defining the function\n",
    "def clean_tweets(df_clean):\n",
    "    # Set up punctuations we want to be replaced\n",
    "    removal_punctuation = re.compile(\"(\\.)|(\\;)|(\\:)|(\\!)|(\\')|(\\?)|(\\,)|(\\\")|(\\|)|(\\()|(\\))|(\\[)|(\\])|(\\%)|(\\$)|(\\>)|(\\<)|(\\{)|(\\})|(\\*)|(\\$)|(\\=)\")\n",
    "    pair_words = re.compile(\"(-)|(/)|(:).\")\n",
    "    tokenized_sentence = []\n",
    "    for line in df_clean:\n",
    "        # Send to tweet_processor\n",
    "        p.set_options(p.OPT.URL, p.OPT.MENTION, p.OPT.HASHTAG)\n",
    "        tmpL = p.clean(line)\n",
    "        # Removing special characters\n",
    "        tmpL = removal_punctuation.sub(\"\", tmpL.lower()) # convert all tweets to lower cases\n",
    "        tmpL = pair_words.sub(\" \", tmpL)\n",
    "        tokenized_sentence.append(tmpL)\n",
    "    return tokenized_sentence"
   ]
  },
  {
   "cell_type": "code",
   "execution_count": 168,
   "id": "86b3c5b7",
   "metadata": {},
   "outputs": [],
   "source": [
    "# calling the function above\n",
    "df_clean['Tweet'] = clean_tweets(df_clean['Tweet'])"
   ]
  },
  {
   "cell_type": "code",
   "execution_count": 169,
   "id": "ed8fa0ad",
   "metadata": {},
   "outputs": [
    {
     "data": {
      "text/html": [
       "<div>\n",
       "<style scoped>\n",
       "    .dataframe tbody tr th:only-of-type {\n",
       "        vertical-align: middle;\n",
       "    }\n",
       "\n",
       "    .dataframe tbody tr th {\n",
       "        vertical-align: top;\n",
       "    }\n",
       "\n",
       "    .dataframe thead th {\n",
       "        text-align: right;\n",
       "    }\n",
       "</style>\n",
       "<table border=\"1\" class=\"dataframe\">\n",
       "  <thead>\n",
       "    <tr style=\"text-align: right;\">\n",
       "      <th></th>\n",
       "      <th>Sentiment</th>\n",
       "      <th>Date</th>\n",
       "      <th>User</th>\n",
       "      <th>Tweet</th>\n",
       "      <th>Tagging</th>\n",
       "      <th>Hashtags</th>\n",
       "      <th>Emojis</th>\n",
       "    </tr>\n",
       "  </thead>\n",
       "  <tbody>\n",
       "    <tr>\n",
       "      <th>1097974</th>\n",
       "      <td>1</td>\n",
       "      <td>2009-05-30 03:53:37</td>\n",
       "      <td>jruggiero</td>\n",
       "      <td>walking in downtown wilmington for an hr before body attack at 8 am good morning</td>\n",
       "      <td>None</td>\n",
       "      <td>None</td>\n",
       "      <td>None</td>\n",
       "    </tr>\n",
       "    <tr>\n",
       "      <th>1001807</th>\n",
       "      <td>1</td>\n",
       "      <td>2009-05-22 00:14:35</td>\n",
       "      <td>misssarah02</td>\n",
       "      <td>downloading some great music 4rm a great person</td>\n",
       "      <td>None</td>\n",
       "      <td>None</td>\n",
       "      <td>None</td>\n",
       "    </tr>\n",
       "    <tr>\n",
       "      <th>484732</th>\n",
       "      <td>0</td>\n",
       "      <td>2009-06-15 11:05:05</td>\n",
       "      <td>loammi</td>\n",
       "      <td>just landed in phxexcitedhavent seen kids in 3 weekswife in 1 however theyre leaving tom to hawaii for 6 weeks</td>\n",
       "      <td>None</td>\n",
       "      <td>None</td>\n",
       "      <td>None</td>\n",
       "    </tr>\n",
       "    <tr>\n",
       "      <th>1180399</th>\n",
       "      <td>1</td>\n",
       "      <td>2009-05-31 10:07:41</td>\n",
       "      <td>TheAffiliateGuy</td>\n",
       "      <td>i posted that article about the auto follow twitter tools today ~ ~ weekend family stuff got in the way</td>\n",
       "      <td>quantumpeach</td>\n",
       "      <td>None</td>\n",
       "      <td>None</td>\n",
       "    </tr>\n",
       "    <tr>\n",
       "      <th>286935</th>\n",
       "      <td>0</td>\n",
       "      <td>2009-06-01 11:20:14</td>\n",
       "      <td>SaulRom</td>\n",
       "      <td>lunch time no meat for 2 weeks i dont think i can do it</td>\n",
       "      <td>None</td>\n",
       "      <td>None</td>\n",
       "      <td>None</td>\n",
       "    </tr>\n",
       "  </tbody>\n",
       "</table>\n",
       "</div>"
      ],
      "text/plain": [
       "         Sentiment                Date             User  \\\n",
       "1097974          1 2009-05-30 03:53:37        jruggiero   \n",
       "1001807          1 2009-05-22 00:14:35      misssarah02   \n",
       "484732           0 2009-06-15 11:05:05           loammi   \n",
       "1180399          1 2009-05-31 10:07:41  TheAffiliateGuy   \n",
       "286935           0 2009-06-01 11:20:14          SaulRom   \n",
       "\n",
       "                                                                                                                  Tweet  \\\n",
       "1097974                                walking in downtown wilmington for an hr before body attack at 8 am good morning   \n",
       "1001807                                                                 downloading some great music 4rm a great person   \n",
       "484732   just landed in phxexcitedhavent seen kids in 3 weekswife in 1 however theyre leaving tom to hawaii for 6 weeks   \n",
       "1180399         i posted that article about the auto follow twitter tools today ~ ~ weekend family stuff got in the way   \n",
       "286935                                                          lunch time no meat for 2 weeks i dont think i can do it   \n",
       "\n",
       "              Tagging Hashtags Emojis  \n",
       "1097974          None     None   None  \n",
       "1001807          None     None   None  \n",
       "484732           None     None   None  \n",
       "1180399  quantumpeach     None   None  \n",
       "286935           None     None   None  "
      ]
     },
     "execution_count": 169,
     "metadata": {},
     "output_type": "execute_result"
    }
   ],
   "source": [
    "# sanity check - removed most of punctuation, mentions, urls, and hashtags\n",
    "df_clean[df_clean['Tweet'].str.contains(r'[^a-z ]')].sample(5)"
   ]
  },
  {
   "cell_type": "markdown",
   "id": "1cb6d564",
   "metadata": {},
   "source": [
    "We can still see some special characters and numerical values which we can replace with an empty field"
   ]
  },
  {
   "cell_type": "code",
   "execution_count": 171,
   "id": "673cd6ae",
   "metadata": {},
   "outputs": [],
   "source": [
    "# replacing rest of special characters and numerical\n",
    "df_clean['Tweet'] = df_clean.loc[:, 'Tweet'].str.replace(r'[^a-z ]', ' ')"
   ]
  },
  {
   "cell_type": "markdown",
   "id": "20af77a4",
   "metadata": {},
   "source": [
    "Let's have a look if our `Tweets`"
   ]
  },
  {
   "cell_type": "code",
   "execution_count": 173,
   "id": "2d9191b2",
   "metadata": {},
   "outputs": [
    {
     "data": {
      "text/plain": [
       "79175                           i lost of apart of my soul todayi love you and miss you like crazy sis rip tia\n",
       "1386894                                                                                just created an account\n",
       "887793     probably the best game next season in the championship will be leeds united vs newcastle united mot\n",
       "793097         i feel so sad since gavin needs to go back to the philippines soon its really breaking my heart\n",
       "103290                                                                     what check his retweet from earlier\n",
       "Name: Tweet, dtype: object"
      ]
     },
     "execution_count": 173,
     "metadata": {},
     "output_type": "execute_result"
    }
   ],
   "source": [
    "df_clean['Tweet'].sample(5)"
   ]
  },
  {
   "cell_type": "markdown",
   "id": "49a64edc",
   "metadata": {},
   "source": [
    "It seems most are cleaned, let's double check if there are any empty tweets"
   ]
  },
  {
   "cell_type": "code",
   "execution_count": 177,
   "id": "4e154112",
   "metadata": {},
   "outputs": [
    {
     "data": {
      "text/html": [
       "<div>\n",
       "<style scoped>\n",
       "    .dataframe tbody tr th:only-of-type {\n",
       "        vertical-align: middle;\n",
       "    }\n",
       "\n",
       "    .dataframe tbody tr th {\n",
       "        vertical-align: top;\n",
       "    }\n",
       "\n",
       "    .dataframe thead th {\n",
       "        text-align: right;\n",
       "    }\n",
       "</style>\n",
       "<table border=\"1\" class=\"dataframe\">\n",
       "  <thead>\n",
       "    <tr style=\"text-align: right;\">\n",
       "      <th></th>\n",
       "      <th>Sentiment</th>\n",
       "      <th>Date</th>\n",
       "      <th>User</th>\n",
       "      <th>Tweet</th>\n",
       "      <th>Tagging</th>\n",
       "      <th>Hashtags</th>\n",
       "      <th>Emojis</th>\n",
       "    </tr>\n",
       "  </thead>\n",
       "  <tbody>\n",
       "    <tr>\n",
       "      <th>208</th>\n",
       "      <td>0</td>\n",
       "      <td>2009-04-06 22:33:25</td>\n",
       "      <td>Artiel87</td>\n",
       "      <td></td>\n",
       "      <td>mandayyy</td>\n",
       "      <td>None</td>\n",
       "      <td>None</td>\n",
       "    </tr>\n",
       "    <tr>\n",
       "      <th>249</th>\n",
       "      <td>0</td>\n",
       "      <td>2009-04-06 22:36:27</td>\n",
       "      <td>Artiel87</td>\n",
       "      <td></td>\n",
       "      <td>mandayyy</td>\n",
       "      <td>None</td>\n",
       "      <td>None</td>\n",
       "    </tr>\n",
       "    <tr>\n",
       "      <th>398</th>\n",
       "      <td>0</td>\n",
       "      <td>2009-04-06 22:46:53</td>\n",
       "      <td>KimberlyKane</td>\n",
       "      <td></td>\n",
       "      <td>danadearmond</td>\n",
       "      <td>None</td>\n",
       "      <td>None</td>\n",
       "    </tr>\n",
       "    <tr>\n",
       "      <th>430</th>\n",
       "      <td>0</td>\n",
       "      <td>2009-04-06 22:48:48</td>\n",
       "      <td>jtmal0723</td>\n",
       "      <td></td>\n",
       "      <td>anistorm</td>\n",
       "      <td>None</td>\n",
       "      <td>None</td>\n",
       "    </tr>\n",
       "    <tr>\n",
       "      <th>1011</th>\n",
       "      <td>0</td>\n",
       "      <td>2009-04-06 23:30:23</td>\n",
       "      <td>gabysslave</td>\n",
       "      <td></td>\n",
       "      <td>citizensheep</td>\n",
       "      <td>None</td>\n",
       "      <td>None</td>\n",
       "    </tr>\n",
       "    <tr>\n",
       "      <th>...</th>\n",
       "      <td>...</td>\n",
       "      <td>...</td>\n",
       "      <td>...</td>\n",
       "      <td>...</td>\n",
       "      <td>...</td>\n",
       "      <td>...</td>\n",
       "      <td>...</td>\n",
       "    </tr>\n",
       "    <tr>\n",
       "      <th>1596542</th>\n",
       "      <td>1</td>\n",
       "      <td>2009-06-16 07:23:20</td>\n",
       "      <td>carlos_teran</td>\n",
       "      <td></td>\n",
       "      <td>sary_chan</td>\n",
       "      <td>None</td>\n",
       "      <td>None</td>\n",
       "    </tr>\n",
       "    <tr>\n",
       "      <th>1596670</th>\n",
       "      <td>1</td>\n",
       "      <td>2009-06-16 07:29:14</td>\n",
       "      <td>vmslive</td>\n",
       "      <td></td>\n",
       "      <td>catherine_smith</td>\n",
       "      <td>None</td>\n",
       "      <td>None</td>\n",
       "    </tr>\n",
       "    <tr>\n",
       "      <th>1597326</th>\n",
       "      <td>1</td>\n",
       "      <td>2009-06-16 07:43:42</td>\n",
       "      <td>senoritaperdida</td>\n",
       "      <td></td>\n",
       "      <td>ashtonshay00</td>\n",
       "      <td>None</td>\n",
       "      <td>None</td>\n",
       "    </tr>\n",
       "    <tr>\n",
       "      <th>1599494</th>\n",
       "      <td>1</td>\n",
       "      <td>2009-06-16 08:28:48</td>\n",
       "      <td>RobNice24</td>\n",
       "      <td></td>\n",
       "      <td>sworn4dabosses</td>\n",
       "      <td>None</td>\n",
       "      <td>None</td>\n",
       "    </tr>\n",
       "    <tr>\n",
       "      <th>1599993</th>\n",
       "      <td>1</td>\n",
       "      <td>2009-06-16 08:39:00</td>\n",
       "      <td>ChloeAmisha</td>\n",
       "      <td></td>\n",
       "      <td>scooby_gritboys</td>\n",
       "      <td>None</td>\n",
       "      <td>None</td>\n",
       "    </tr>\n",
       "  </tbody>\n",
       "</table>\n",
       "<p>3079 rows × 7 columns</p>\n",
       "</div>"
      ],
      "text/plain": [
       "         Sentiment                Date             User Tweet  \\\n",
       "208              0 2009-04-06 22:33:25         Artiel87         \n",
       "249              0 2009-04-06 22:36:27         Artiel87         \n",
       "398              0 2009-04-06 22:46:53     KimberlyKane         \n",
       "430              0 2009-04-06 22:48:48        jtmal0723         \n",
       "1011             0 2009-04-06 23:30:23       gabysslave         \n",
       "...            ...                 ...              ...   ...   \n",
       "1596542          1 2009-06-16 07:23:20     carlos_teran         \n",
       "1596670          1 2009-06-16 07:29:14          vmslive         \n",
       "1597326          1 2009-06-16 07:43:42  senoritaperdida         \n",
       "1599494          1 2009-06-16 08:28:48        RobNice24         \n",
       "1599993          1 2009-06-16 08:39:00      ChloeAmisha         \n",
       "\n",
       "                 Tagging Hashtags Emojis  \n",
       "208             mandayyy     None   None  \n",
       "249             mandayyy     None   None  \n",
       "398         danadearmond     None   None  \n",
       "430             anistorm     None   None  \n",
       "1011        citizensheep     None   None  \n",
       "...                  ...      ...    ...  \n",
       "1596542        sary_chan     None   None  \n",
       "1596670  catherine_smith     None   None  \n",
       "1597326     ashtonshay00     None   None  \n",
       "1599494   sworn4dabosses     None   None  \n",
       "1599993  scooby_gritboys     None   None  \n",
       "\n",
       "[3079 rows x 7 columns]"
      ]
     },
     "execution_count": 177,
     "metadata": {},
     "output_type": "execute_result"
    }
   ],
   "source": [
    "# check for empty Tweets\n",
    "df_clean[df_clean['Tweet'] == '']"
   ]
  },
  {
   "cell_type": "markdown",
   "id": "f71eed8f",
   "metadata": {},
   "source": [
    "It looks like after cleaning the Tweets some of the Tweets are missing values. There are around `3079` empty Tweets, so we can drop it."
   ]
  },
  {
   "cell_type": "code",
   "execution_count": 178,
   "id": "24e0cd99",
   "metadata": {},
   "outputs": [],
   "source": [
    "df_clean = df_clean[df_clean['Tweet'] != '']"
   ]
  },
  {
   "cell_type": "code",
   "execution_count": 179,
   "id": "9c6b8df3",
   "metadata": {},
   "outputs": [
    {
     "data": {
      "text/html": [
       "<div>\n",
       "<style scoped>\n",
       "    .dataframe tbody tr th:only-of-type {\n",
       "        vertical-align: middle;\n",
       "    }\n",
       "\n",
       "    .dataframe tbody tr th {\n",
       "        vertical-align: top;\n",
       "    }\n",
       "\n",
       "    .dataframe thead th {\n",
       "        text-align: right;\n",
       "    }\n",
       "</style>\n",
       "<table border=\"1\" class=\"dataframe\">\n",
       "  <thead>\n",
       "    <tr style=\"text-align: right;\">\n",
       "      <th></th>\n",
       "      <th>Sentiment</th>\n",
       "      <th>Date</th>\n",
       "      <th>User</th>\n",
       "      <th>Tweet</th>\n",
       "      <th>Tagging</th>\n",
       "      <th>Hashtags</th>\n",
       "      <th>Emojis</th>\n",
       "    </tr>\n",
       "  </thead>\n",
       "  <tbody>\n",
       "  </tbody>\n",
       "</table>\n",
       "</div>"
      ],
      "text/plain": [
       "Empty DataFrame\n",
       "Columns: [Sentiment, Date, User, Tweet, Tagging, Hashtags, Emojis]\n",
       "Index: []"
      ]
     },
     "execution_count": 179,
     "metadata": {},
     "output_type": "execute_result"
    }
   ],
   "source": [
    "# sanity check\n",
    "df_clean[df_clean['Tweet'] == '']"
   ]
  },
  {
   "cell_type": "markdown",
   "id": "ea0b1fdb",
   "metadata": {},
   "source": [
    "Great! We managed to removed them\n",
    "\n",
    "***We successfully cleaned our data***"
   ]
  },
  {
   "cell_type": "markdown",
   "id": "3d558a14",
   "metadata": {},
   "source": [
    "----\n",
    "## EDA"
   ]
  },
  {
   "cell_type": "code",
   "execution_count": 180,
   "id": "5a289293",
   "metadata": {
    "scrolled": false
   },
   "outputs": [
    {
     "data": {
      "text/html": [
       "<div>\n",
       "<style scoped>\n",
       "    .dataframe tbody tr th:only-of-type {\n",
       "        vertical-align: middle;\n",
       "    }\n",
       "\n",
       "    .dataframe tbody tr th {\n",
       "        vertical-align: top;\n",
       "    }\n",
       "\n",
       "    .dataframe thead th {\n",
       "        text-align: right;\n",
       "    }\n",
       "</style>\n",
       "<table border=\"1\" class=\"dataframe\">\n",
       "  <thead>\n",
       "    <tr style=\"text-align: right;\">\n",
       "      <th></th>\n",
       "      <th>Sentiment</th>\n",
       "      <th>Date</th>\n",
       "      <th>User</th>\n",
       "      <th>Tweet</th>\n",
       "      <th>Tagging</th>\n",
       "      <th>Hashtags</th>\n",
       "      <th>Emojis</th>\n",
       "    </tr>\n",
       "  </thead>\n",
       "  <tbody>\n",
       "    <tr>\n",
       "      <th>937935</th>\n",
       "      <td>1</td>\n",
       "      <td>2009-05-14 02:16:54</td>\n",
       "      <td>Eyglo</td>\n",
       "      <td>congrats on the mac feeling a little envious here</td>\n",
       "      <td>sarahjpin</td>\n",
       "      <td>None</td>\n",
       "      <td>None</td>\n",
       "    </tr>\n",
       "    <tr>\n",
       "      <th>280384</th>\n",
       "      <td>0</td>\n",
       "      <td>2009-06-01 08:05:42</td>\n",
       "      <td>lightweight22</td>\n",
       "      <td>im sad this is my last week babysitting</td>\n",
       "      <td>None</td>\n",
       "      <td>None</td>\n",
       "      <td>None</td>\n",
       "    </tr>\n",
       "  </tbody>\n",
       "</table>\n",
       "</div>"
      ],
      "text/plain": [
       "        Sentiment                Date           User  \\\n",
       "937935          1 2009-05-14 02:16:54          Eyglo   \n",
       "280384          0 2009-06-01 08:05:42  lightweight22   \n",
       "\n",
       "                                                    Tweet    Tagging Hashtags  \\\n",
       "937935  congrats on the mac feeling a little envious here  sarahjpin     None   \n",
       "280384            im sad this is my last week babysitting       None     None   \n",
       "\n",
       "       Emojis  \n",
       "937935   None  \n",
       "280384   None  "
      ]
     },
     "execution_count": 180,
     "metadata": {},
     "output_type": "execute_result"
    }
   ],
   "source": [
    "df_clean.sample(2)"
   ]
  },
  {
   "cell_type": "markdown",
   "id": "a6557177",
   "metadata": {},
   "source": [
    "Check the shape of the data after cleaning"
   ]
  },
  {
   "cell_type": "code",
   "execution_count": 189,
   "id": "71b0da81",
   "metadata": {},
   "outputs": [
    {
     "name": "stdout",
     "output_type": "stream",
     "text": [
      "The dataframe consists of 1594745 million rows, and 5 columns\n"
     ]
    }
   ],
   "source": [
    "print(f'The dataframe consists of {df.shape[0]} million rows, and {df.shape[1]} columns')"
   ]
  },
  {
   "cell_type": "markdown",
   "id": "2a700e8d",
   "metadata": {},
   "source": [
    "### Data Distribution:\n",
    "\n",
    "Let's check the data distirbution for each column to see if there are any interesting trends\n",
    "\n",
    "First thing, will have a look at the distribution of the `Sentiment` class"
   ]
  },
  {
   "cell_type": "code",
   "execution_count": 190,
   "id": "ada3a660",
   "metadata": {},
   "outputs": [
    {
     "data": {
      "text/plain": [
       "Sentiment\n",
       "0    792078\n",
       "1    789169\n",
       "Name: count, dtype: int64"
      ]
     },
     "execution_count": 190,
     "metadata": {},
     "output_type": "execute_result"
    }
   ],
   "source": [
    "df_clean['Sentiment'].value_counts()"
   ]
  },
  {
   "cell_type": "code",
   "execution_count": 191,
   "id": "541fe041",
   "metadata": {},
   "outputs": [
    {
     "data": {
      "text/plain": [
       "Sentiment\n",
       "0    0.50092\n",
       "1    0.49908\n",
       "Name: proportion, dtype: float64"
      ]
     },
     "execution_count": 191,
     "metadata": {},
     "output_type": "execute_result"
    }
   ],
   "source": [
    "df_clean['Sentiment'].value_counts(normalize=True)"
   ]
  },
  {
   "cell_type": "markdown",
   "id": "f5a8861a",
   "metadata": {},
   "source": [
    "After we cleaned our data our class a"
   ]
  },
  {
   "cell_type": "code",
   "execution_count": 215,
   "id": "4933cd4f",
   "metadata": {},
   "outputs": [
    {
     "data": {
      "image/png": "[encoded data removed]",
      "text/plain": [
       "<Figure size 1000x400 with 1 Axes>"
      ]
     },
     "metadata": {},
     "output_type": "display_data"
    }
   ],
   "source": [
    "plt.figure(figsize=(10,4))\n",
    "df_clean['Sentiment'].value_counts().plot(kind='bar', rot=0, color=['#FF7F0E', '#3685BC'])\n",
    "plt.title(\"Target Distirbution\")\n",
    "plt.xlabel(\"Sentiment\")\n",
    "plt.ylabel(\"Count\")\n",
    "\n",
    "plt.show()"
   ]
  },
  {
   "cell_type": "markdown",
   "id": "7ce5c9e8",
   "metadata": {},
   "source": [
    "Will beging to look at the `Date` column"
   ]
  },
  {
   "cell_type": "code",
   "execution_count": 211,
   "id": "7c3d5d72",
   "metadata": {
    "scrolled": true
   },
   "outputs": [
    {
     "data": {
      "text/plain": [
       "mileycyrus                                3900\n",
       "tommcfly                                  3336\n",
       "ddlovato                                  2922\n",
       "jonasbrothers                             2053\n",
       "davidarchie                               1214\n",
       "                                          ... \n",
       "julieand                                     1\n",
       "ruby225                                      1\n",
       "mpits                                        1\n",
       "shantymanfan                                 1\n",
       "thenspcc, sparkscharity, speakinguph4h       1\n",
       "Name: Tagging, Length: 355943, dtype: int64"
      ]
     },
     "execution_count": 211,
     "metadata": {},
     "output_type": "execute_result"
    }
   ],
   "source": [
    "df_clean['Tagging'].value_counts()"
   ]
  },
  {
   "cell_type": "markdown",
   "id": "47669952",
   "metadata": {},
   "source": [
    "Let's plot the distribution of `Tagging`, to see who got tagged the most through tweets"
   ]
  },
  {
   "cell_type": "code",
   "execution_count": 188,
   "id": "a825f78e",
   "metadata": {},
   "outputs": [
    {
     "data": {
      "image/png": "[encoded data removed]",
      "text/plain": [
       "<Figure size 1000x500 with 1 Axes>"
      ]
     },
     "metadata": {},
     "output_type": "display_data"
    }
   ],
   "source": [
    "plt.figure(figsize=(10, 5))\n",
    "\n",
    "df_clean['Tagging'].value_counts().head(10).plot(kind='bar', rot=45)\n",
    "plt.title('Distribution of Tagging')\n",
    "plt.ylabel('Counts')\n",
    "plt.xlabel('Tagging')\n",
    "sns.despine()\n",
    "\n",
    "plt.show()"
   ]
  },
  {
   "cell_type": "code",
   "execution_count": 212,
   "id": "f212ad7f",
   "metadata": {},
   "outputs": [
    {
     "data": {
      "text/plain": [
       "followfriday                                                 2032\n",
       "fb                                                           1669\n",
       "squarespace                                                   742\n",
       "ff                                                            704\n",
       "iranelection                                                  374\n",
       "                                                             ... \n",
       "screwf1                                                         1\n",
       "inaperfectworld, iranelection, goodpussy., gokeyisadouche       1\n",
       "epicmeat, jergensmaterial                                       1\n",
       "100, 37.                                                        1\n",
       "bigrun                                                          1\n",
       "Name: Hashtags, Length: 13959, dtype: int64"
      ]
     },
     "execution_count": 212,
     "metadata": {},
     "output_type": "execute_result"
    }
   ],
   "source": [
    "df_clean['Hashtags'].value_counts()"
   ]
  },
  {
   "cell_type": "code",
   "execution_count": 213,
   "id": "815c2609",
   "metadata": {},
   "outputs": [
    {
     "data": {
      "text/plain": [
       "None        1577427\n",
       ";d             2456\n",
       ":]              973\n",
       ":[              204\n",
       ":d              109\n",
       ";d,;d            28\n",
       ":],:]            19\n",
       ":(                6\n",
       ":],;d             5\n",
       ":- )              3\n",
       ";d,;d,;d          3\n",
       ";d,:]             3\n",
       ":[,:]             2\n",
       ":[,:[             2\n",
       ":],:],:]          2\n",
       ":],:[             1\n",
       ":d,:d             1\n",
       ";d,:[             1\n",
       ": )               1\n",
       ":d,;d             1\n",
       "Name: Emojis, dtype: int64"
      ]
     },
     "execution_count": 213,
     "metadata": {},
     "output_type": "execute_result"
    }
   ],
   "source": [
    "df_clean['Emojis'].value_counts()"
   ]
  },
  {
   "cell_type": "code",
   "execution_count": null,
   "id": "e5bc49ed",
   "metadata": {},
   "outputs": [
    {
     "data": {
      "text/plain": [
       "(1581247, 7)"
      ]
     },
     "metadata": {},
     "output_type": "display_data"
    }
   ],
   "source": [
    "df_clean.shape"
   ]
  },
  {
   "cell_type": "code",
   "execution_count": 219,
   "id": "8ed1dde2",
   "metadata": {},
   "outputs": [
    {
     "name": "stderr",
     "output_type": "stream",
     "text": [
      "C:\\Users\\Emran\\AppData\\Local\\Temp\\ipykernel_8992\\1554326582.py:1: SettingWithCopyWarning: \n",
      "A value is trying to be set on a copy of a slice from a DataFrame.\n",
      "Try using .loc[row_indexer,col_indexer] = value instead\n",
      "\n",
      "See the caveats in the documentation: https://pandas.pydata.org/pandas-docs/stable/user_guide/indexing.html#returning-a-view-versus-a-copy\n",
      "  df_clean['Month'] = df_clean['Date'].dt.month\n",
      "C:\\Users\\Emran\\AppData\\Local\\Temp\\ipykernel_8992\\1554326582.py:2: SettingWithCopyWarning: \n",
      "A value is trying to be set on a copy of a slice from a DataFrame.\n",
      "Try using .loc[row_indexer,col_indexer] = value instead\n",
      "\n",
      "See the caveats in the documentation: https://pandas.pydata.org/pandas-docs/stable/user_guide/indexing.html#returning-a-view-versus-a-copy\n",
      "  df_clean['Day'] = df_clean['Date'].dt.day\n"
     ]
    }
   ],
   "source": [
    "# Setting Month, Day, and Year column\n",
    "df_clean['Month'] = df_clean['Date'].dt.month\n",
    "df_clean['Day'] = df_clean['Date'].dt.day\n",
    "df_clean['Year'] = df_clean['Date'].dt.year\n",
    "\n",
    "# setting Hour, Minutes and Seconds column\n",
    "df_clean['Hour'] = df_clean['Date'].dt.hour\n",
    "df_clean['Minutes'] = df_clean['Date'].dt.minute\n",
    "df_clean['Seconds'] = df_clean['Date'].dt.second\n",
    "\n",
    "# added a day of the week column\n",
    "df_clean['DayOfWeek'] = df_clean['Date'].dt.day_name()"
   ]
  },
  {
   "cell_type": "code",
   "execution_count": 225,
   "id": "ebf3ddcb",
   "metadata": {
    "scrolled": true
   },
   "outputs": [
    {
     "data": {
      "text/html": [
       "<div>\n",
       "<style scoped>\n",
       "    .dataframe tbody tr th:only-of-type {\n",
       "        vertical-align: middle;\n",
       "    }\n",
       "\n",
       "    .dataframe tbody tr th {\n",
       "        vertical-align: top;\n",
       "    }\n",
       "\n",
       "    .dataframe thead th {\n",
       "        text-align: right;\n",
       "    }\n",
       "</style>\n",
       "<table border=\"1\" class=\"dataframe\">\n",
       "  <thead>\n",
       "    <tr style=\"text-align: right;\">\n",
       "      <th></th>\n",
       "      <th>Sentiment</th>\n",
       "      <th>Date</th>\n",
       "      <th>User</th>\n",
       "      <th>Tweet</th>\n",
       "      <th>Tagging</th>\n",
       "      <th>Hashtags</th>\n",
       "      <th>Emojis</th>\n",
       "      <th>Month</th>\n",
       "      <th>Day</th>\n",
       "      <th>Year</th>\n",
       "      <th>Hour</th>\n",
       "      <th>Minutes</th>\n",
       "      <th>Seconds</th>\n",
       "      <th>DayOfWeek</th>\n",
       "    </tr>\n",
       "  </thead>\n",
       "  <tbody>\n",
       "    <tr>\n",
       "      <th>0</th>\n",
       "      <td>0</td>\n",
       "      <td>2009-04-06 22:19:45</td>\n",
       "      <td>_TheSpecialOne_</td>\n",
       "      <td>awww thats a bummer you shoulda got david carr of third day to do it d</td>\n",
       "      <td>switchfoot</td>\n",
       "      <td>None</td>\n",
       "      <td>;d</td>\n",
       "      <td>4</td>\n",
       "      <td>6</td>\n",
       "      <td>2009</td>\n",
       "      <td>22</td>\n",
       "      <td>19</td>\n",
       "      <td>45</td>\n",
       "      <td>Monday</td>\n",
       "    </tr>\n",
       "    <tr>\n",
       "      <th>1</th>\n",
       "      <td>0</td>\n",
       "      <td>2009-04-06 22:19:49</td>\n",
       "      <td>scotthamilton</td>\n",
       "      <td>is upset that he cant update his facebook by texting it and might cry as a result school today also blah</td>\n",
       "      <td>None</td>\n",
       "      <td>None</td>\n",
       "      <td>None</td>\n",
       "      <td>4</td>\n",
       "      <td>6</td>\n",
       "      <td>2009</td>\n",
       "      <td>22</td>\n",
       "      <td>19</td>\n",
       "      <td>49</td>\n",
       "      <td>Monday</td>\n",
       "    </tr>\n",
       "    <tr>\n",
       "      <th>2</th>\n",
       "      <td>0</td>\n",
       "      <td>2009-04-06 22:19:53</td>\n",
       "      <td>mattycus</td>\n",
       "      <td>i dived many times for the ball managed to save    the rest go out of bounds</td>\n",
       "      <td>kenichan</td>\n",
       "      <td>None</td>\n",
       "      <td>None</td>\n",
       "      <td>4</td>\n",
       "      <td>6</td>\n",
       "      <td>2009</td>\n",
       "      <td>22</td>\n",
       "      <td>19</td>\n",
       "      <td>53</td>\n",
       "      <td>Monday</td>\n",
       "    </tr>\n",
       "    <tr>\n",
       "      <th>3</th>\n",
       "      <td>0</td>\n",
       "      <td>2009-04-06 22:19:57</td>\n",
       "      <td>ElleCTF</td>\n",
       "      <td>my whole body feels itchy and like its on fire</td>\n",
       "      <td>None</td>\n",
       "      <td>None</td>\n",
       "      <td>None</td>\n",
       "      <td>4</td>\n",
       "      <td>6</td>\n",
       "      <td>2009</td>\n",
       "      <td>22</td>\n",
       "      <td>19</td>\n",
       "      <td>57</td>\n",
       "      <td>Monday</td>\n",
       "    </tr>\n",
       "    <tr>\n",
       "      <th>4</th>\n",
       "      <td>0</td>\n",
       "      <td>2009-04-06 22:19:57</td>\n",
       "      <td>Karoli</td>\n",
       "      <td>no its not behaving at all im mad why am i here because i cant see you all over there</td>\n",
       "      <td>nationwideclass</td>\n",
       "      <td>None</td>\n",
       "      <td>None</td>\n",
       "      <td>4</td>\n",
       "      <td>6</td>\n",
       "      <td>2009</td>\n",
       "      <td>22</td>\n",
       "      <td>19</td>\n",
       "      <td>57</td>\n",
       "      <td>Monday</td>\n",
       "    </tr>\n",
       "  </tbody>\n",
       "</table>\n",
       "</div>"
      ],
      "text/plain": [
       "   Sentiment                Date             User  \\\n",
       "0          0 2009-04-06 22:19:45  _TheSpecialOne_   \n",
       "1          0 2009-04-06 22:19:49    scotthamilton   \n",
       "2          0 2009-04-06 22:19:53         mattycus   \n",
       "3          0 2009-04-06 22:19:57          ElleCTF   \n",
       "4          0 2009-04-06 22:19:57           Karoli   \n",
       "\n",
       "                                                                                                      Tweet  \\\n",
       "0                                    awww thats a bummer you shoulda got david carr of third day to do it d   \n",
       "1  is upset that he cant update his facebook by texting it and might cry as a result school today also blah   \n",
       "2                              i dived many times for the ball managed to save    the rest go out of bounds   \n",
       "3                                                            my whole body feels itchy and like its on fire   \n",
       "4                     no its not behaving at all im mad why am i here because i cant see you all over there   \n",
       "\n",
       "           Tagging Hashtags Emojis  Month  Day  Year  Hour  Minutes  Seconds  \\\n",
       "0       switchfoot     None     ;d      4    6  2009    22       19       45   \n",
       "1             None     None   None      4    6  2009    22       19       49   \n",
       "2         kenichan     None   None      4    6  2009    22       19       53   \n",
       "3             None     None   None      4    6  2009    22       19       57   \n",
       "4  nationwideclass     None   None      4    6  2009    22       19       57   \n",
       "\n",
       "  DayOfWeek  \n",
       "0    Monday  \n",
       "1    Monday  \n",
       "2    Monday  \n",
       "3    Monday  \n",
       "4    Monday  "
      ]
     },
     "execution_count": 225,
     "metadata": {},
     "output_type": "execute_result"
    }
   ],
   "source": [
    "df_clean.head(5)"
   ]
  },
  {
   "cell_type": "markdown",
   "id": "1220f3c4",
   "metadata": {},
   "source": [
    "We can drop date column"
   ]
  },
  {
   "cell_type": "code",
   "execution_count": 227,
   "id": "da4adca9",
   "metadata": {},
   "outputs": [
    {
     "name": "stderr",
     "output_type": "stream",
     "text": [
      "C:\\Users\\Emran\\AppData\\Local\\Temp\\ipykernel_8992\\846303259.py:1: SettingWithCopyWarning: \n",
      "A value is trying to be set on a copy of a slice from a DataFrame\n",
      "\n",
      "See the caveats in the documentation: https://pandas.pydata.org/pandas-docs/stable/user_guide/indexing.html#returning-a-view-versus-a-copy\n",
      "  df_clean.drop(columns=['Date'], inplace=True)\n"
     ]
    }
   ],
   "source": [
    "df_clean.drop(columns=['Date'], inplace=True)"
   ]
  },
  {
   "cell_type": "code",
   "execution_count": 228,
   "id": "247e3fd8",
   "metadata": {},
   "outputs": [
    {
     "data": {
      "text/html": [
       "<div>\n",
       "<style scoped>\n",
       "    .dataframe tbody tr th:only-of-type {\n",
       "        vertical-align: middle;\n",
       "    }\n",
       "\n",
       "    .dataframe tbody tr th {\n",
       "        vertical-align: top;\n",
       "    }\n",
       "\n",
       "    .dataframe thead th {\n",
       "        text-align: right;\n",
       "    }\n",
       "</style>\n",
       "<table border=\"1\" class=\"dataframe\">\n",
       "  <thead>\n",
       "    <tr style=\"text-align: right;\">\n",
       "      <th></th>\n",
       "      <th>Sentiment</th>\n",
       "      <th>User</th>\n",
       "      <th>Tweet</th>\n",
       "      <th>Tagging</th>\n",
       "      <th>Hashtags</th>\n",
       "      <th>Emojis</th>\n",
       "      <th>Month</th>\n",
       "      <th>Day</th>\n",
       "      <th>Year</th>\n",
       "      <th>Hour</th>\n",
       "      <th>Minutes</th>\n",
       "      <th>Seconds</th>\n",
       "      <th>DayOfWeek</th>\n",
       "    </tr>\n",
       "  </thead>\n",
       "  <tbody>\n",
       "    <tr>\n",
       "      <th>885488</th>\n",
       "      <td>1</td>\n",
       "      <td>drexar</td>\n",
       "      <td>wow just watch a movie called push very nice</td>\n",
       "      <td>None</td>\n",
       "      <td>None</td>\n",
       "      <td>None</td>\n",
       "      <td>5</td>\n",
       "      <td>3</td>\n",
       "      <td>2009</td>\n",
       "      <td>5</td>\n",
       "      <td>43</td>\n",
       "      <td>56</td>\n",
       "      <td>Sunday</td>\n",
       "    </tr>\n",
       "    <tr>\n",
       "      <th>90003</th>\n",
       "      <td>0</td>\n",
       "      <td>camillewadd37</td>\n",
       "      <td>im super tired at work im considering sleeping on my desk i slept terrible last night time for a new bed</td>\n",
       "      <td>None</td>\n",
       "      <td>None</td>\n",
       "      <td>None</td>\n",
       "      <td>5</td>\n",
       "      <td>10</td>\n",
       "      <td>2009</td>\n",
       "      <td>9</td>\n",
       "      <td>33</td>\n",
       "      <td>33</td>\n",
       "      <td>Sunday</td>\n",
       "    </tr>\n",
       "  </tbody>\n",
       "</table>\n",
       "</div>"
      ],
      "text/plain": [
       "        Sentiment           User  \\\n",
       "885488          1         drexar   \n",
       "90003           0  camillewadd37   \n",
       "\n",
       "                                                                                                           Tweet  \\\n",
       "885488                                                              wow just watch a movie called push very nice   \n",
       "90003   im super tired at work im considering sleeping on my desk i slept terrible last night time for a new bed   \n",
       "\n",
       "       Tagging Hashtags Emojis  Month  Day  Year  Hour  Minutes  Seconds  \\\n",
       "885488    None     None   None      5    3  2009     5       43       56   \n",
       "90003     None     None   None      5   10  2009     9       33       33   \n",
       "\n",
       "       DayOfWeek  \n",
       "885488    Sunday  \n",
       "90003     Sunday  "
      ]
     },
     "execution_count": 228,
     "metadata": {},
     "output_type": "execute_result"
    }
   ],
   "source": [
    "df_clean.sample(2)"
   ]
  },
  {
   "cell_type": "code",
   "execution_count": 229,
   "id": "68f52074",
   "metadata": {},
   "outputs": [
    {
     "data": {
      "image/png": "[encoded data removed]",
      "text/plain": [
       "<Figure size 1000x400 with 1 Axes>"
      ]
     },
     "metadata": {},
     "output_type": "display_data"
    }
   ],
   "source": [
    "plt.figure(figsize=(10,4))\n",
    "plt.hist(df_clean['Day'], bins=70) # histogram\n",
    "plt.title('Distribution of the Day') # title\n",
    "plt.xlabel('Day') # labeling x-axis\n",
    "plt.ylabel('Frequency') # labeling y-axis\n",
    "plt.show()"
   ]
  },
  {
   "cell_type": "code",
   "execution_count": 230,
   "id": "23ca9bba",
   "metadata": {},
   "outputs": [
    {
     "data": {
      "image/png": "[encoded data removed]",
      "text/plain": [
       "<Figure size 1000x400 with 1 Axes>"
      ]
     },
     "metadata": {},
     "output_type": "display_data"
    }
   ],
   "source": [
    "plt.figure(figsize=(10,4))\n",
    "plt.hist(df_clean['DayOfWeek'], bins=20) # histogram\n",
    "plt.title('Distribution of the Week') # title\n",
    "plt.xlabel('Day of the Week') # labeling x-axis\n",
    "plt.ylabel('Frequency') # labeling y-axis\n",
    "plt.show()"
   ]
  },
  {
   "cell_type": "code",
   "execution_count": 231,
   "id": "a039eb32",
   "metadata": {},
   "outputs": [
    {
     "data": {
      "text/html": [
       "<div>\n",
       "<style scoped>\n",
       "    .dataframe tbody tr th:only-of-type {\n",
       "        vertical-align: middle;\n",
       "    }\n",
       "\n",
       "    .dataframe tbody tr th {\n",
       "        vertical-align: top;\n",
       "    }\n",
       "\n",
       "    .dataframe thead th {\n",
       "        text-align: right;\n",
       "    }\n",
       "</style>\n",
       "<table border=\"1\" class=\"dataframe\">\n",
       "  <thead>\n",
       "    <tr style=\"text-align: right;\">\n",
       "      <th></th>\n",
       "      <th>DayOfWeek</th>\n",
       "      <th>Sentiment</th>\n",
       "      <th>Count</th>\n",
       "    </tr>\n",
       "  </thead>\n",
       "  <tbody>\n",
       "    <tr>\n",
       "      <th>0</th>\n",
       "      <td>Friday</td>\n",
       "      <td>0</td>\n",
       "      <td>113607</td>\n",
       "    </tr>\n",
       "    <tr>\n",
       "      <th>1</th>\n",
       "      <td>Friday</td>\n",
       "      <td>1</td>\n",
       "      <td>109861</td>\n",
       "    </tr>\n",
       "    <tr>\n",
       "      <th>2</th>\n",
       "      <td>Monday</td>\n",
       "      <td>0</td>\n",
       "      <td>131299</td>\n",
       "    </tr>\n",
       "    <tr>\n",
       "      <th>3</th>\n",
       "      <td>Monday</td>\n",
       "      <td>1</td>\n",
       "      <td>174831</td>\n",
       "    </tr>\n",
       "    <tr>\n",
       "      <th>4</th>\n",
       "      <td>Saturday</td>\n",
       "      <td>0</td>\n",
       "      <td>156222</td>\n",
       "    </tr>\n",
       "    <tr>\n",
       "      <th>5</th>\n",
       "      <td>Saturday</td>\n",
       "      <td>1</td>\n",
       "      <td>171290</td>\n",
       "    </tr>\n",
       "    <tr>\n",
       "      <th>6</th>\n",
       "      <td>Sunday</td>\n",
       "      <td>0</td>\n",
       "      <td>144184</td>\n",
       "    </tr>\n",
       "    <tr>\n",
       "      <th>7</th>\n",
       "      <td>Sunday</td>\n",
       "      <td>1</td>\n",
       "      <td>196421</td>\n",
       "    </tr>\n",
       "    <tr>\n",
       "      <th>8</th>\n",
       "      <td>Thursday</td>\n",
       "      <td>0</td>\n",
       "      <td>79227</td>\n",
       "    </tr>\n",
       "    <tr>\n",
       "      <th>9</th>\n",
       "      <td>Thursday</td>\n",
       "      <td>1</td>\n",
       "      <td>25694</td>\n",
       "    </tr>\n",
       "    <tr>\n",
       "      <th>10</th>\n",
       "      <td>Tuesday</td>\n",
       "      <td>0</td>\n",
       "      <td>99924</td>\n",
       "    </tr>\n",
       "    <tr>\n",
       "      <th>11</th>\n",
       "      <td>Tuesday</td>\n",
       "      <td>1</td>\n",
       "      <td>83314</td>\n",
       "    </tr>\n",
       "    <tr>\n",
       "      <th>12</th>\n",
       "      <td>Wednesday</td>\n",
       "      <td>0</td>\n",
       "      <td>67615</td>\n",
       "    </tr>\n",
       "    <tr>\n",
       "      <th>13</th>\n",
       "      <td>Wednesday</td>\n",
       "      <td>1</td>\n",
       "      <td>27758</td>\n",
       "    </tr>\n",
       "  </tbody>\n",
       "</table>\n",
       "</div>"
      ],
      "text/plain": [
       "    DayOfWeek  Sentiment   Count\n",
       "0      Friday          0  113607\n",
       "1      Friday          1  109861\n",
       "2      Monday          0  131299\n",
       "3      Monday          1  174831\n",
       "4    Saturday          0  156222\n",
       "5    Saturday          1  171290\n",
       "6      Sunday          0  144184\n",
       "7      Sunday          1  196421\n",
       "8    Thursday          0   79227\n",
       "9    Thursday          1   25694\n",
       "10    Tuesday          0   99924\n",
       "11    Tuesday          1   83314\n",
       "12  Wednesday          0   67615\n",
       "13  Wednesday          1   27758"
      ]
     },
     "execution_count": 231,
     "metadata": {},
     "output_type": "execute_result"
    }
   ],
   "source": [
    "df_clean.groupby(['DayOfWeek', 'Sentiment']).size().reset_index(name='Count')"
   ]
  },
  {
   "cell_type": "code",
   "execution_count": 232,
   "id": "a0e36f8b",
   "metadata": {},
   "outputs": [
    {
     "data": {
      "text/plain": [
       "<Figure size 3500x600 with 0 Axes>"
      ]
     },
     "metadata": {},
     "output_type": "display_data"
    },
    {
     "data": {
      "image/png": "[encoded data removed]",
      "text/plain": [
       "<Figure size 640x480 with 1 Axes>"
      ]
     },
     "metadata": {},
     "output_type": "display_data"
    }
   ],
   "source": [
    "plt.figure(figsize=(35,6)) # setting a figure size \n",
    "grouped = df_clean.groupby(['DayOfWeek', 'Sentiment']).size().reset_index(name='Count')\n",
    "# setting or pivoting Species as index, WNV as a column, and the total count as a value and using barh as a plot\n",
    "grouped.pivot(index='DayOfWeek', columns='Sentiment', values='Count').plot(kind='bar', rot=0, color=['#FF7F0E', '#3685BC']) \n",
    "plt.title(\"Distribution Of Week\") # title\n",
    "plt.xlabel(\"Day Of Week\") # labeling x-axis\n",
    "plt.ylabel(\"Count\") # labeling y-axis\n",
    "#updating legend\n",
    "label_map = {0: 'Negative', 1: 'Positive'}\n",
    "legend_labels = [label_map[val] for val in df_clean['Sentiment']]\n",
    "plt.legend(legend_labels)\n",
    "plt.show()"
   ]
  },
  {
   "cell_type": "code",
   "execution_count": 233,
   "id": "c9e8880e",
   "metadata": {},
   "outputs": [
    {
     "data": {
      "text/plain": [
       "Sunday       340605\n",
       "Saturday     327512\n",
       "Monday       306130\n",
       "Friday       223468\n",
       "Tuesday      183238\n",
       "Thursday     104921\n",
       "Wednesday     95373\n",
       "Name: DayOfWeek, dtype: int64"
      ]
     },
     "execution_count": 233,
     "metadata": {},
     "output_type": "execute_result"
    }
   ],
   "source": [
    "df_clean['DayOfWeek'].value_counts()"
   ]
  },
  {
   "cell_type": "markdown",
   "id": "a40df01d",
   "metadata": {},
   "source": [
    "### Saving the data\n",
    "\n",
    "Now that we have spent the time cleaning and working with EDA. We are going to save it to a CSV file and begin to work with Data Wrangling"
   ]
  },
  {
   "cell_type": "code",
   "execution_count": 235,
   "id": "54e093cc",
   "metadata": {},
   "outputs": [],
   "source": [
    "df_clean.to_csv('cleaned_twitter_data.csv', index=False)"
   ]
  },
  {
   "cell_type": "code",
   "execution_count": 236,
   "id": "7666e6b8",
   "metadata": {},
   "outputs": [
    {
     "data": {
      "text/html": [
       "<div>\n",
       "<style scoped>\n",
       "    .dataframe tbody tr th:only-of-type {\n",
       "        vertical-align: middle;\n",
       "    }\n",
       "\n",
       "    .dataframe tbody tr th {\n",
       "        vertical-align: top;\n",
       "    }\n",
       "\n",
       "    .dataframe thead th {\n",
       "        text-align: right;\n",
       "    }\n",
       "</style>\n",
       "<table border=\"1\" class=\"dataframe\">\n",
       "  <thead>\n",
       "    <tr style=\"text-align: right;\">\n",
       "      <th></th>\n",
       "      <th>Sentiment</th>\n",
       "      <th>User</th>\n",
       "      <th>Tweet</th>\n",
       "      <th>Tagging</th>\n",
       "      <th>Hashtags</th>\n",
       "      <th>Emojis</th>\n",
       "      <th>Month</th>\n",
       "      <th>Day</th>\n",
       "      <th>Year</th>\n",
       "      <th>Hour</th>\n",
       "      <th>Minutes</th>\n",
       "      <th>Seconds</th>\n",
       "      <th>DayOfWeek</th>\n",
       "    </tr>\n",
       "  </thead>\n",
       "  <tbody>\n",
       "    <tr>\n",
       "      <th>175953</th>\n",
       "      <td>0</td>\n",
       "      <td>SunshineBoat</td>\n",
       "      <td>yes they are and now theyre all gone did you enjoy yours</td>\n",
       "      <td>asdquefty</td>\n",
       "      <td>NaN</td>\n",
       "      <td>None</td>\n",
       "      <td>5</td>\n",
       "      <td>29</td>\n",
       "      <td>2009</td>\n",
       "      <td>15</td>\n",
       "      <td>57</td>\n",
       "      <td>29</td>\n",
       "      <td>Friday</td>\n",
       "    </tr>\n",
       "    <tr>\n",
       "      <th>458769</th>\n",
       "      <td>0</td>\n",
       "      <td>jab_baller</td>\n",
       "      <td>no</td>\n",
       "      <td>ejgwapings</td>\n",
       "      <td>NaN</td>\n",
       "      <td>None</td>\n",
       "      <td>6</td>\n",
       "      <td>14</td>\n",
       "      <td>2009</td>\n",
       "      <td>23</td>\n",
       "      <td>13</td>\n",
       "      <td>33</td>\n",
       "      <td>Sunday</td>\n",
       "    </tr>\n",
       "    <tr>\n",
       "      <th>520440</th>\n",
       "      <td>0</td>\n",
       "      <td>dani_panic</td>\n",
       "      <td>ugh feel ill swine flu maybe</td>\n",
       "      <td>NaN</td>\n",
       "      <td>NaN</td>\n",
       "      <td>None</td>\n",
       "      <td>6</td>\n",
       "      <td>16</td>\n",
       "      <td>2009</td>\n",
       "      <td>8</td>\n",
       "      <td>48</td>\n",
       "      <td>54</td>\n",
       "      <td>Tuesday</td>\n",
       "    </tr>\n",
       "    <tr>\n",
       "      <th>1309514</th>\n",
       "      <td>1</td>\n",
       "      <td>Divineshe</td>\n",
       "      <td>i hate the calories love the ice creams</td>\n",
       "      <td>sangfroid</td>\n",
       "      <td>NaN</td>\n",
       "      <td>None</td>\n",
       "      <td>6</td>\n",
       "      <td>3</td>\n",
       "      <td>2009</td>\n",
       "      <td>2</td>\n",
       "      <td>52</td>\n",
       "      <td>35</td>\n",
       "      <td>Wednesday</td>\n",
       "    </tr>\n",
       "    <tr>\n",
       "      <th>1129509</th>\n",
       "      <td>1</td>\n",
       "      <td>LeliaK</td>\n",
       "      <td>we got the cookout in and a couple of games of cornhole before the rain   all is well hope those in wilmington r ok</td>\n",
       "      <td>richwirdzek</td>\n",
       "      <td>NaN</td>\n",
       "      <td>None</td>\n",
       "      <td>5</td>\n",
       "      <td>30</td>\n",
       "      <td>2009</td>\n",
       "      <td>19</td>\n",
       "      <td>38</td>\n",
       "      <td>44</td>\n",
       "      <td>Saturday</td>\n",
       "    </tr>\n",
       "  </tbody>\n",
       "</table>\n",
       "</div>"
      ],
      "text/plain": [
       "         Sentiment          User  \\\n",
       "175953           0  SunshineBoat   \n",
       "458769           0    jab_baller   \n",
       "520440           0    dani_panic   \n",
       "1309514          1     Divineshe   \n",
       "1129509          1        LeliaK   \n",
       "\n",
       "                                                                                                                       Tweet  \\\n",
       "175953                                                              yes they are and now theyre all gone did you enjoy yours   \n",
       "458769                                                                                                                    no   \n",
       "520440                                                                                          ugh feel ill swine flu maybe   \n",
       "1309514                                                                              i hate the calories love the ice creams   \n",
       "1129509  we got the cookout in and a couple of games of cornhole before the rain   all is well hope those in wilmington r ok   \n",
       "\n",
       "             Tagging Hashtags Emojis  Month  Day  Year  Hour  Minutes  \\\n",
       "175953     asdquefty      NaN   None      5   29  2009    15       57   \n",
       "458769    ejgwapings      NaN   None      6   14  2009    23       13   \n",
       "520440           NaN      NaN   None      6   16  2009     8       48   \n",
       "1309514    sangfroid      NaN   None      6    3  2009     2       52   \n",
       "1129509  richwirdzek      NaN   None      5   30  2009    19       38   \n",
       "\n",
       "         Seconds  DayOfWeek  \n",
       "175953        29     Friday  \n",
       "458769        33     Sunday  \n",
       "520440        54    Tuesday  \n",
       "1309514       35  Wednesday  \n",
       "1129509       44   Saturday  "
      ]
     },
     "execution_count": 236,
     "metadata": {},
     "output_type": "execute_result"
    }
   ],
   "source": [
    "#sanity check\n",
    "pd.read_csv('cleaned_twitter_data.csv').sample(5)"
   ]
  },
  {
   "cell_type": "markdown",
   "id": "2180de05",
   "metadata": {},
   "source": [
    "---"
   ]
  },
  {
   "cell_type": "markdown",
   "id": "543fdfdf",
   "metadata": {},
   "source": [
    "## Conclusion"
   ]
  }
 ],
 "metadata": {
  "kernelspec": {
   "display_name": "capstone",
   "language": "python",
   "name": "capstone"
  },
  "language_info": {
   "codemirror_mode": {
    "name": "ipython",
    "version": 3
   },
   "file_extension": ".py",
   "mimetype": "text/x-python",
   "name": "python",
   "nbconvert_exporter": "python",
   "pygments_lexer": "ipython3",
   "version": "3.8.16"
  }
 },
 "nbformat": 4,
 "nbformat_minor": 5
}
