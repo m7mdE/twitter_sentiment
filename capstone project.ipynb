{
 "cells": [
  {
   "cell_type": "markdown",
   "id": "301f8149",
   "metadata": {},
   "source": [
    "# Twitter Sentiment Capstone\n",
    "\n",
    "**Author: Mohamed Emran**\n",
    "\n",
    "**Date: 5/31/2023**"
   ]
  },
  {
   "cell_type": "code",
   "execution_count": 1,
   "id": "778e903d",
   "metadata": {},
   "outputs": [],
   "source": [
    "import pandas as pd\n",
    "import numpy as np\n",
    "import seaborn as sns\n",
    "import matplotlib.pyplot as plt\n",
    "import plotly.express as px\n",
    "import re"
   ]
  },
  {
   "cell_type": "code",
   "execution_count": 2,
   "id": "6764cc28",
   "metadata": {},
   "outputs": [],
   "source": [
    "# df = pd.read_csv(\"twitter_data_emotions.csv\", chunksize=2000000)\n",
    "pd.options.display.max_colwidth = 1000"
   ]
  },
  {
   "cell_type": "code",
   "execution_count": 3,
   "id": "42d3b0b3",
   "metadata": {},
   "outputs": [],
   "source": [
    "# df = pd.read_csv(\"twitter_data_emotions.csv\", header=None, nrows=700000, encoding='latin-1')\n",
    "df = pd.read_csv(\"twitter_data_emotions.csv\", header=None, encoding='latin-1')"
   ]
  },
  {
   "cell_type": "code",
   "execution_count": 4,
   "id": "0375342f",
   "metadata": {
    "scrolled": true
   },
   "outputs": [
    {
     "data": {
      "text/html": [
       "<div>\n",
       "<style scoped>\n",
       "    .dataframe tbody tr th:only-of-type {\n",
       "        vertical-align: middle;\n",
       "    }\n",
       "\n",
       "    .dataframe tbody tr th {\n",
       "        vertical-align: top;\n",
       "    }\n",
       "\n",
       "    .dataframe thead th {\n",
       "        text-align: right;\n",
       "    }\n",
       "</style>\n",
       "<table border=\"1\" class=\"dataframe\">\n",
       "  <thead>\n",
       "    <tr style=\"text-align: right;\">\n",
       "      <th></th>\n",
       "      <th>Sentiment</th>\n",
       "      <th>Id</th>\n",
       "      <th>Date</th>\n",
       "      <th>Flag</th>\n",
       "      <th>User</th>\n",
       "      <th>Tweet</th>\n",
       "    </tr>\n",
       "  </thead>\n",
       "  <tbody>\n",
       "    <tr>\n",
       "      <th>0</th>\n",
       "      <td>0</td>\n",
       "      <td>1467810369</td>\n",
       "      <td>Mon Apr 06 22:19:45 PDT 2009</td>\n",
       "      <td>NO_QUERY</td>\n",
       "      <td>_TheSpecialOne_</td>\n",
       "      <td>@switchfoot http://twitpic.com/2y1zl - Awww, that's a bummer.  You shoulda got David Carr of Third Day to do it. ;D</td>\n",
       "    </tr>\n",
       "    <tr>\n",
       "      <th>1</th>\n",
       "      <td>0</td>\n",
       "      <td>1467810672</td>\n",
       "      <td>Mon Apr 06 22:19:49 PDT 2009</td>\n",
       "      <td>NO_QUERY</td>\n",
       "      <td>scotthamilton</td>\n",
       "      <td>is upset that he can't update his Facebook by texting it... and might cry as a result  School today also. Blah!</td>\n",
       "    </tr>\n",
       "    <tr>\n",
       "      <th>2</th>\n",
       "      <td>0</td>\n",
       "      <td>1467810917</td>\n",
       "      <td>Mon Apr 06 22:19:53 PDT 2009</td>\n",
       "      <td>NO_QUERY</td>\n",
       "      <td>mattycus</td>\n",
       "      <td>@Kenichan I dived many times for the ball. Managed to save 50%  The rest go out of bounds</td>\n",
       "    </tr>\n",
       "    <tr>\n",
       "      <th>3</th>\n",
       "      <td>0</td>\n",
       "      <td>1467811184</td>\n",
       "      <td>Mon Apr 06 22:19:57 PDT 2009</td>\n",
       "      <td>NO_QUERY</td>\n",
       "      <td>ElleCTF</td>\n",
       "      <td>my whole body feels itchy and like its on fire</td>\n",
       "    </tr>\n",
       "    <tr>\n",
       "      <th>4</th>\n",
       "      <td>0</td>\n",
       "      <td>1467811193</td>\n",
       "      <td>Mon Apr 06 22:19:57 PDT 2009</td>\n",
       "      <td>NO_QUERY</td>\n",
       "      <td>Karoli</td>\n",
       "      <td>@nationwideclass no, it's not behaving at all. i'm mad. why am i here? because I can't see you all over there.</td>\n",
       "    </tr>\n",
       "  </tbody>\n",
       "</table>\n",
       "</div>"
      ],
      "text/plain": [
       "   Sentiment          Id                          Date      Flag  \\\n",
       "0          0  1467810369  Mon Apr 06 22:19:45 PDT 2009  NO_QUERY   \n",
       "1          0  1467810672  Mon Apr 06 22:19:49 PDT 2009  NO_QUERY   \n",
       "2          0  1467810917  Mon Apr 06 22:19:53 PDT 2009  NO_QUERY   \n",
       "3          0  1467811184  Mon Apr 06 22:19:57 PDT 2009  NO_QUERY   \n",
       "4          0  1467811193  Mon Apr 06 22:19:57 PDT 2009  NO_QUERY   \n",
       "\n",
       "              User  \\\n",
       "0  _TheSpecialOne_   \n",
       "1    scotthamilton   \n",
       "2         mattycus   \n",
       "3          ElleCTF   \n",
       "4           Karoli   \n",
       "\n",
       "                                                                                                                 Tweet  \n",
       "0  @switchfoot http://twitpic.com/2y1zl - Awww, that's a bummer.  You shoulda got David Carr of Third Day to do it. ;D  \n",
       "1      is upset that he can't update his Facebook by texting it... and might cry as a result  School today also. Blah!  \n",
       "2                            @Kenichan I dived many times for the ball. Managed to save 50%  The rest go out of bounds  \n",
       "3                                                                      my whole body feels itchy and like its on fire   \n",
       "4      @nationwideclass no, it's not behaving at all. i'm mad. why am i here? because I can't see you all over there.   "
      ]
     },
     "execution_count": 4,
     "metadata": {},
     "output_type": "execute_result"
    }
   ],
   "source": [
    "df.columns = ['Sentiment', 'Id', 'Date', 'Flag', 'User', 'Tweet']\n",
    "df.head()"
   ]
  },
  {
   "cell_type": "code",
   "execution_count": 5,
   "id": "11843475",
   "metadata": {},
   "outputs": [
    {
     "data": {
      "text/plain": [
       "(1600000, 6)"
      ]
     },
     "execution_count": 5,
     "metadata": {},
     "output_type": "execute_result"
    }
   ],
   "source": [
    "df.shape"
   ]
  },
  {
   "cell_type": "code",
   "execution_count": 6,
   "id": "69e09a39",
   "metadata": {},
   "outputs": [
    {
     "name": "stdout",
     "output_type": "stream",
     "text": [
      "<class 'pandas.core.frame.DataFrame'>\n",
      "RangeIndex: 1600000 entries, 0 to 1599999\n",
      "Data columns (total 6 columns):\n",
      " #   Column     Non-Null Count    Dtype \n",
      "---  ------     --------------    ----- \n",
      " 0   Sentiment  1600000 non-null  int64 \n",
      " 1   Id         1600000 non-null  int64 \n",
      " 2   Date       1600000 non-null  object\n",
      " 3   Flag       1600000 non-null  object\n",
      " 4   User       1600000 non-null  object\n",
      " 5   Tweet      1600000 non-null  object\n",
      "dtypes: int64(2), object(4)\n",
      "memory usage: 73.2+ MB\n"
     ]
    }
   ],
   "source": [
    "df.info()"
   ]
  },
  {
   "cell_type": "code",
   "execution_count": 7,
   "id": "a1c6dfa9",
   "metadata": {},
   "outputs": [
    {
     "data": {
      "text/plain": [
       "Sentiment    0\n",
       "Id           0\n",
       "Date         0\n",
       "Flag         0\n",
       "User         0\n",
       "Tweet        0\n",
       "dtype: int64"
      ]
     },
     "execution_count": 7,
     "metadata": {},
     "output_type": "execute_result"
    }
   ],
   "source": [
    "df.isna().sum()"
   ]
  },
  {
   "cell_type": "markdown",
   "id": "bdf87873",
   "metadata": {},
   "source": [
    "**We don't see any Null Values**"
   ]
  },
  {
   "cell_type": "code",
   "execution_count": 8,
   "id": "da011054",
   "metadata": {},
   "outputs": [
    {
     "data": {
      "text/plain": [
       "lost_dog           549\n",
       "webwoke            345\n",
       "tweetpet           310\n",
       "SallytheShizzle    281\n",
       "VioletsCRUK        279\n",
       "                  ... \n",
       "67trinity            1\n",
       "Sibby                1\n",
       "mAnyA_15             1\n",
       "49ersfan111          1\n",
       "bpbabe               1\n",
       "Name: User, Length: 659775, dtype: int64"
      ]
     },
     "execution_count": 8,
     "metadata": {},
     "output_type": "execute_result"
    }
   ],
   "source": [
    "df['User'].value_counts()"
   ]
  },
  {
   "cell_type": "code",
   "execution_count": 9,
   "id": "32d1c06c",
   "metadata": {},
   "outputs": [
    {
     "data": {
      "text/plain": [
       "Mon Jun 15 12:53:14 PDT 2009    20\n",
       "Fri May 29 13:40:04 PDT 2009    17\n",
       "Fri May 22 05:10:17 PDT 2009    17\n",
       "Mon Jun 15 13:39:50 PDT 2009    17\n",
       "Fri Jun 05 14:13:07 PDT 2009    16\n",
       "                                ..\n",
       "Sun Jun 07 12:36:07 PDT 2009     1\n",
       "Sun Jun 07 12:36:04 PDT 2009     1\n",
       "Sun Jun 07 12:36:03 PDT 2009     1\n",
       "Sun Jun 07 12:36:02 PDT 2009     1\n",
       "Tue Jun 16 08:40:50 PDT 2009     1\n",
       "Name: Date, Length: 774363, dtype: int64"
      ]
     },
     "execution_count": 9,
     "metadata": {},
     "output_type": "execute_result"
    }
   ],
   "source": [
    "df['Date'].value_counts()"
   ]
  },
  {
   "cell_type": "code",
   "execution_count": 10,
   "id": "4fa7dbdd",
   "metadata": {},
   "outputs": [
    {
     "data": {
      "text/plain": [
       "NO_QUERY    1600000\n",
       "Name: Flag, dtype: int64"
      ]
     },
     "execution_count": 10,
     "metadata": {},
     "output_type": "execute_result"
    }
   ],
   "source": [
    "df['Flag'].value_counts()"
   ]
  },
  {
   "cell_type": "markdown",
   "id": "13053f6b",
   "metadata": {},
   "source": [
    "It doesn't seem to have any value. So we can drop the column"
   ]
  },
  {
   "cell_type": "code",
   "execution_count": 11,
   "id": "146fd2d9",
   "metadata": {},
   "outputs": [],
   "source": [
    "#dropping column Flag\n",
    "df = df.drop(columns='Flag')"
   ]
  },
  {
   "cell_type": "code",
   "execution_count": 12,
   "id": "85693552",
   "metadata": {},
   "outputs": [
    {
     "data": {
      "text/plain": [
       "0    800000\n",
       "4    800000\n",
       "Name: Sentiment, dtype: int64"
      ]
     },
     "execution_count": 12,
     "metadata": {},
     "output_type": "execute_result"
    }
   ],
   "source": [
    "df['Sentiment'].value_counts()"
   ]
  },
  {
   "cell_type": "code",
   "execution_count": 13,
   "id": "65d5e1da",
   "metadata": {},
   "outputs": [],
   "source": [
    "df[\"Sentiment\"] = np.where(df[\"Sentiment\"] == 4, 1, 0)"
   ]
  },
  {
   "cell_type": "code",
   "execution_count": 14,
   "id": "e033d099",
   "metadata": {
    "scrolled": false
   },
   "outputs": [
    {
     "data": {
      "image/png": "[encoded data removed]",
      "text/plain": [
       "<Figure size 1000x400 with 1 Axes>"
      ]
     },
     "metadata": {},
     "output_type": "display_data"
    }
   ],
   "source": [
    "plt.figure(figsize=(10,4))\n",
    "df['Sentiment'].value_counts().plot(kind='bar', rot=0, color=['#FF7F0E', '#3685BC'])\n",
    "plt.title(\"Target Distirbution\")\n",
    "plt.xlabel(\"Sentiment\")\n",
    "plt.ylabel(\"Count\")\n",
    "\n",
    "plt.show()"
   ]
  },
  {
   "cell_type": "markdown",
   "id": "6aee26d6",
   "metadata": {},
   "source": [
    "As we observe the graph above we have a balanced data set"
   ]
  },
  {
   "cell_type": "code",
   "execution_count": 15,
   "id": "d4a71177",
   "metadata": {},
   "outputs": [
    {
     "data": {
      "text/plain": [
       "0"
      ]
     },
     "execution_count": 15,
     "metadata": {},
     "output_type": "execute_result"
    }
   ],
   "source": [
    "df.duplicated().sum()"
   ]
  },
  {
   "cell_type": "markdown",
   "id": "5679d4b3",
   "metadata": {},
   "source": [
    "We don't see any duplicate values. We can further explore in our data."
   ]
  },
  {
   "cell_type": "code",
   "execution_count": 16,
   "id": "7bf96551",
   "metadata": {},
   "outputs": [
    {
     "data": {
      "text/html": [
       "<div>\n",
       "<style scoped>\n",
       "    .dataframe tbody tr th:only-of-type {\n",
       "        vertical-align: middle;\n",
       "    }\n",
       "\n",
       "    .dataframe tbody tr th {\n",
       "        vertical-align: top;\n",
       "    }\n",
       "\n",
       "    .dataframe thead th {\n",
       "        text-align: right;\n",
       "    }\n",
       "</style>\n",
       "<table border=\"1\" class=\"dataframe\">\n",
       "  <thead>\n",
       "    <tr style=\"text-align: right;\">\n",
       "      <th></th>\n",
       "      <th>Sentiment</th>\n",
       "      <th>Id</th>\n",
       "      <th>Date</th>\n",
       "      <th>User</th>\n",
       "      <th>Tweet</th>\n",
       "    </tr>\n",
       "  </thead>\n",
       "  <tbody>\n",
       "    <tr>\n",
       "      <th>0</th>\n",
       "      <td>0</td>\n",
       "      <td>1467810369</td>\n",
       "      <td>Mon Apr 06 22:19:45 PDT 2009</td>\n",
       "      <td>_TheSpecialOne_</td>\n",
       "      <td>@switchfoot http://twitpic.com/2y1zl - Awww, that's a bummer.  You shoulda got David Carr of Third Day to do it. ;D</td>\n",
       "    </tr>\n",
       "    <tr>\n",
       "      <th>1</th>\n",
       "      <td>0</td>\n",
       "      <td>1467810672</td>\n",
       "      <td>Mon Apr 06 22:19:49 PDT 2009</td>\n",
       "      <td>scotthamilton</td>\n",
       "      <td>is upset that he can't update his Facebook by texting it... and might cry as a result  School today also. Blah!</td>\n",
       "    </tr>\n",
       "  </tbody>\n",
       "</table>\n",
       "</div>"
      ],
      "text/plain": [
       "   Sentiment          Id                          Date             User  \\\n",
       "0          0  1467810369  Mon Apr 06 22:19:45 PDT 2009  _TheSpecialOne_   \n",
       "1          0  1467810672  Mon Apr 06 22:19:49 PDT 2009    scotthamilton   \n",
       "\n",
       "                                                                                                                 Tweet  \n",
       "0  @switchfoot http://twitpic.com/2y1zl - Awww, that's a bummer.  You shoulda got David Carr of Third Day to do it. ;D  \n",
       "1      is upset that he can't update his Facebook by texting it... and might cry as a result  School today also. Blah!  "
      ]
     },
     "execution_count": 16,
     "metadata": {},
     "output_type": "execute_result"
    }
   ],
   "source": [
    "df.head(2)"
   ]
  },
  {
   "cell_type": "code",
   "execution_count": 17,
   "id": "b7d8b49a",
   "metadata": {},
   "outputs": [
    {
     "data": {
      "text/html": [
       "<div>\n",
       "<style scoped>\n",
       "    .dataframe tbody tr th:only-of-type {\n",
       "        vertical-align: middle;\n",
       "    }\n",
       "\n",
       "    .dataframe tbody tr th {\n",
       "        vertical-align: top;\n",
       "    }\n",
       "\n",
       "    .dataframe thead th {\n",
       "        text-align: right;\n",
       "    }\n",
       "</style>\n",
       "<table border=\"1\" class=\"dataframe\">\n",
       "  <thead>\n",
       "    <tr style=\"text-align: right;\">\n",
       "      <th></th>\n",
       "      <th>Sentiment</th>\n",
       "      <th>Id</th>\n",
       "      <th>Date</th>\n",
       "      <th>User</th>\n",
       "      <th>Tweet</th>\n",
       "    </tr>\n",
       "  </thead>\n",
       "  <tbody>\n",
       "    <tr>\n",
       "      <th>1599998</th>\n",
       "      <td>1</td>\n",
       "      <td>2193602064</td>\n",
       "      <td>Tue Jun 16 08:40:49 PDT 2009</td>\n",
       "      <td>tinydiamondz</td>\n",
       "      <td>Happy 38th Birthday to my boo of alll time!!! Tupac Amaru Shakur</td>\n",
       "    </tr>\n",
       "    <tr>\n",
       "      <th>1599999</th>\n",
       "      <td>1</td>\n",
       "      <td>2193602129</td>\n",
       "      <td>Tue Jun 16 08:40:50 PDT 2009</td>\n",
       "      <td>RyanTrevMorris</td>\n",
       "      <td>happy #charitytuesday @theNSPCC @SparksCharity @SpeakingUpH4H</td>\n",
       "    </tr>\n",
       "  </tbody>\n",
       "</table>\n",
       "</div>"
      ],
      "text/plain": [
       "         Sentiment          Id                          Date            User  \\\n",
       "1599998          1  2193602064  Tue Jun 16 08:40:49 PDT 2009    tinydiamondz   \n",
       "1599999          1  2193602129  Tue Jun 16 08:40:50 PDT 2009  RyanTrevMorris   \n",
       "\n",
       "                                                                     Tweet  \n",
       "1599998  Happy 38th Birthday to my boo of alll time!!! Tupac Amaru Shakur   \n",
       "1599999     happy #charitytuesday @theNSPCC @SparksCharity @SpeakingUpH4H   "
      ]
     },
     "execution_count": 17,
     "metadata": {},
     "output_type": "execute_result"
    }
   ],
   "source": [
    "df.tail(2)"
   ]
  },
  {
   "cell_type": "code",
   "execution_count": 18,
   "id": "e4a36a17",
   "metadata": {},
   "outputs": [],
   "source": [
    "# removed PDT from the Date\n",
    "df['Date'] = df['Date'].str.replace('PDT', '')"
   ]
  },
  {
   "cell_type": "code",
   "execution_count": 19,
   "id": "a9574e38",
   "metadata": {},
   "outputs": [
    {
     "data": {
      "text/plain": [
       "0          Mon Apr 06 22:19:45  2009\n",
       "1          Mon Apr 06 22:19:49  2009\n",
       "2          Mon Apr 06 22:19:53  2009\n",
       "3          Mon Apr 06 22:19:57  2009\n",
       "4          Mon Apr 06 22:19:57  2009\n",
       "                     ...            \n",
       "1599995    Tue Jun 16 08:40:49  2009\n",
       "1599996    Tue Jun 16 08:40:49  2009\n",
       "1599997    Tue Jun 16 08:40:49  2009\n",
       "1599998    Tue Jun 16 08:40:49  2009\n",
       "1599999    Tue Jun 16 08:40:50  2009\n",
       "Name: Date, Length: 1600000, dtype: object"
      ]
     },
     "execution_count": 19,
     "metadata": {},
     "output_type": "execute_result"
    }
   ],
   "source": [
    "# sanity check\n",
    "df['Date']"
   ]
  },
  {
   "cell_type": "code",
   "execution_count": 20,
   "id": "ebb51484",
   "metadata": {},
   "outputs": [],
   "source": [
    "# converts to date and time - Don't run takes longer time to finish executing******\n",
    "df[\"Date\"] = pd.to_datetime(df[\"Date\"])"
   ]
  },
  {
   "cell_type": "code",
   "execution_count": 21,
   "id": "37f8c5a3",
   "metadata": {},
   "outputs": [
    {
     "name": "stdout",
     "output_type": "stream",
     "text": [
      "<class 'pandas.core.frame.DataFrame'>\n",
      "RangeIndex: 1600000 entries, 0 to 1599999\n",
      "Data columns (total 5 columns):\n",
      " #   Column     Non-Null Count    Dtype         \n",
      "---  ------     --------------    -----         \n",
      " 0   Sentiment  1600000 non-null  int32         \n",
      " 1   Id         1600000 non-null  int64         \n",
      " 2   Date       1600000 non-null  datetime64[ns]\n",
      " 3   User       1600000 non-null  object        \n",
      " 4   Tweet      1600000 non-null  object        \n",
      "dtypes: datetime64[ns](1), int32(1), int64(1), object(2)\n",
      "memory usage: 54.9+ MB\n"
     ]
    }
   ],
   "source": [
    "# sanity check converted to date and time\n",
    "df.info()"
   ]
  },
  {
   "cell_type": "code",
   "execution_count": 22,
   "id": "f72e191d",
   "metadata": {},
   "outputs": [
    {
     "data": {
      "text/plain": [
       "2009    1600000\n",
       "Name: Date, dtype: int64"
      ]
     },
     "execution_count": 22,
     "metadata": {},
     "output_type": "execute_result"
    }
   ],
   "source": [
    "df['Date'].dt.year.value_counts()"
   ]
  },
  {
   "cell_type": "code",
   "execution_count": 23,
   "id": "67e6452b",
   "metadata": {},
   "outputs": [],
   "source": [
    "# dropping ID column\n",
    "df = df.drop(columns='Id')"
   ]
  },
  {
   "cell_type": "code",
   "execution_count": 24,
   "id": "05014550",
   "metadata": {},
   "outputs": [
    {
     "data": {
      "text/html": [
       "<div>\n",
       "<style scoped>\n",
       "    .dataframe tbody tr th:only-of-type {\n",
       "        vertical-align: middle;\n",
       "    }\n",
       "\n",
       "    .dataframe tbody tr th {\n",
       "        vertical-align: top;\n",
       "    }\n",
       "\n",
       "    .dataframe thead th {\n",
       "        text-align: right;\n",
       "    }\n",
       "</style>\n",
       "<table border=\"1\" class=\"dataframe\">\n",
       "  <thead>\n",
       "    <tr style=\"text-align: right;\">\n",
       "      <th></th>\n",
       "      <th>Sentiment</th>\n",
       "      <th>Date</th>\n",
       "      <th>User</th>\n",
       "      <th>Tweet</th>\n",
       "    </tr>\n",
       "  </thead>\n",
       "  <tbody>\n",
       "    <tr>\n",
       "      <th>0</th>\n",
       "      <td>0</td>\n",
       "      <td>2009-04-06 22:19:45</td>\n",
       "      <td>_TheSpecialOne_</td>\n",
       "      <td>@switchfoot http://twitpic.com/2y1zl - Awww, that's a bummer.  You shoulda got David Carr of Third Day to do it. ;D</td>\n",
       "    </tr>\n",
       "    <tr>\n",
       "      <th>1</th>\n",
       "      <td>0</td>\n",
       "      <td>2009-04-06 22:19:49</td>\n",
       "      <td>scotthamilton</td>\n",
       "      <td>is upset that he can't update his Facebook by texting it... and might cry as a result  School today also. Blah!</td>\n",
       "    </tr>\n",
       "    <tr>\n",
       "      <th>2</th>\n",
       "      <td>0</td>\n",
       "      <td>2009-04-06 22:19:53</td>\n",
       "      <td>mattycus</td>\n",
       "      <td>@Kenichan I dived many times for the ball. Managed to save 50%  The rest go out of bounds</td>\n",
       "    </tr>\n",
       "    <tr>\n",
       "      <th>3</th>\n",
       "      <td>0</td>\n",
       "      <td>2009-04-06 22:19:57</td>\n",
       "      <td>ElleCTF</td>\n",
       "      <td>my whole body feels itchy and like its on fire</td>\n",
       "    </tr>\n",
       "    <tr>\n",
       "      <th>4</th>\n",
       "      <td>0</td>\n",
       "      <td>2009-04-06 22:19:57</td>\n",
       "      <td>Karoli</td>\n",
       "      <td>@nationwideclass no, it's not behaving at all. i'm mad. why am i here? because I can't see you all over there.</td>\n",
       "    </tr>\n",
       "  </tbody>\n",
       "</table>\n",
       "</div>"
      ],
      "text/plain": [
       "   Sentiment                Date             User  \\\n",
       "0          0 2009-04-06 22:19:45  _TheSpecialOne_   \n",
       "1          0 2009-04-06 22:19:49    scotthamilton   \n",
       "2          0 2009-04-06 22:19:53         mattycus   \n",
       "3          0 2009-04-06 22:19:57          ElleCTF   \n",
       "4          0 2009-04-06 22:19:57           Karoli   \n",
       "\n",
       "                                                                                                                 Tweet  \n",
       "0  @switchfoot http://twitpic.com/2y1zl - Awww, that's a bummer.  You shoulda got David Carr of Third Day to do it. ;D  \n",
       "1      is upset that he can't update his Facebook by texting it... and might cry as a result  School today also. Blah!  \n",
       "2                            @Kenichan I dived many times for the ball. Managed to save 50%  The rest go out of bounds  \n",
       "3                                                                      my whole body feels itchy and like its on fire   \n",
       "4      @nationwideclass no, it's not behaving at all. i'm mad. why am i here? because I can't see you all over there.   "
      ]
     },
     "execution_count": 24,
     "metadata": {},
     "output_type": "execute_result"
    }
   ],
   "source": [
    "df.head()"
   ]
  },
  {
   "cell_type": "markdown",
   "id": "7d093138",
   "metadata": {},
   "source": [
    "### Cleaning Data"
   ]
  },
  {
   "cell_type": "markdown",
   "id": "e011efb0",
   "metadata": {},
   "source": [
    "- EDA on links to see in 100 rows \n",
    "- Links column\n",
    "- emojis column"
   ]
  },
  {
   "cell_type": "code",
   "execution_count": 25,
   "id": "ed5f0af9",
   "metadata": {},
   "outputs": [],
   "source": [
    "# Convert tweets to lower case\n",
    "df['Tweet'] = df['Tweet'].str.lower()"
   ]
  },
  {
   "cell_type": "code",
   "execution_count": 75,
   "id": "0de054b2",
   "metadata": {},
   "outputs": [],
   "source": [
    "df_clean = df.copy()"
   ]
  },
  {
   "cell_type": "code",
   "execution_count": 76,
   "id": "5f752a6f",
   "metadata": {},
   "outputs": [
    {
     "data": {
      "text/plain": [
       "0          @switchfoot http://twitpic.com/2y1zl - awww, that's a bummer.  you shoulda got david carr of third day to do it. ;d\n",
       "1              is upset that he can't update his facebook by texting it... and might cry as a result  school today also. blah!\n",
       "2                                    @kenichan i dived many times for the ball. managed to save 50%  the rest go out of bounds\n",
       "3                                                                              my whole body feels itchy and like its on fire \n",
       "4              @nationwideclass no, it's not behaving at all. i'm mad. why am i here? because i can't see you all over there. \n",
       "                                                                  ...                                                         \n",
       "1599995                                                               just woke up. having no school is the best feeling ever \n",
       "1599996                                         thewdb.com - very cool to hear old walt interviews!  â« http://blip.fm/~8bmta\n",
       "1599997                                                              are you ready for your mojo makeover? ask me for details \n",
       "1599998                                                      happy 38th birthday to my boo of alll time!!! tupac amaru shakur \n",
       "1599999                                                         happy #charitytuesday @thenspcc @sparkscharity @speakinguph4h \n",
       "Name: Tweet, Length: 1600000, dtype: object"
      ]
     },
     "execution_count": 76,
     "metadata": {},
     "output_type": "execute_result"
    }
   ],
   "source": [
    "df_clean.loc[:, 'Tweet']"
   ]
  },
  {
   "cell_type": "code",
   "execution_count": 77,
   "id": "85e7b6c8",
   "metadata": {},
   "outputs": [],
   "source": [
    "# tagging and hastags in new column\n",
    "df_clean['Tagging'] = df_clean['Tweet'].apply(lambda x: ', '.join([mention.strip('@') for mention in x.split() if mention.startswith('@')]))\n",
    "df_clean['Hashtags'] = df_clean['Tweet'].apply(lambda x: ', '.join([hashtag.strip('#') for hashtag in x.split() if hashtag.startswith('#')]))"
   ]
  },
  {
   "cell_type": "code",
   "execution_count": 79,
   "id": "230ea11b",
   "metadata": {},
   "outputs": [],
   "source": [
    "# Define the emojis pattern\n",
    "emojis_pattern = r'(:\\) |:\\]|: \\)|=\\)|:d|;d|:\\(|:\\[|:- \\))'\n",
    "\n",
    "# Add a new column to store the presence of emojis\n",
    "emojis = df_clean['Tweet'].str.extractall(emojis_pattern).groupby(level=0).agg(','.join)\n",
    "df_clean['Emojis'] = emojis if not emojis.empty else None\n",
    "df_clean['Emojis'] = df_clean['Emojis'].fillna('None')"
   ]
  },
  {
   "cell_type": "code",
   "execution_count": 80,
   "id": "e4dc0f46",
   "metadata": {},
   "outputs": [
    {
     "data": {
      "text/html": [
       "<div>\n",
       "<style scoped>\n",
       "    .dataframe tbody tr th:only-of-type {\n",
       "        vertical-align: middle;\n",
       "    }\n",
       "\n",
       "    .dataframe tbody tr th {\n",
       "        vertical-align: top;\n",
       "    }\n",
       "\n",
       "    .dataframe thead th {\n",
       "        text-align: right;\n",
       "    }\n",
       "</style>\n",
       "<table border=\"1\" class=\"dataframe\">\n",
       "  <thead>\n",
       "    <tr style=\"text-align: right;\">\n",
       "      <th></th>\n",
       "      <th>Sentiment</th>\n",
       "      <th>Date</th>\n",
       "      <th>User</th>\n",
       "      <th>Tweet</th>\n",
       "      <th>Tagging</th>\n",
       "      <th>Hashtags</th>\n",
       "      <th>Emojis</th>\n",
       "    </tr>\n",
       "  </thead>\n",
       "  <tbody>\n",
       "    <tr>\n",
       "      <th>0</th>\n",
       "      <td>0</td>\n",
       "      <td>2009-04-06 22:19:45</td>\n",
       "      <td>_TheSpecialOne_</td>\n",
       "      <td>@switchfoot http://twitpic.com/2y1zl - awww, that's a bummer.  you shoulda got david carr of third day to do it. ;d</td>\n",
       "      <td>switchfoot</td>\n",
       "      <td></td>\n",
       "      <td>;d</td>\n",
       "    </tr>\n",
       "  </tbody>\n",
       "</table>\n",
       "</div>"
      ],
      "text/plain": [
       "   Sentiment                Date             User  \\\n",
       "0          0 2009-04-06 22:19:45  _TheSpecialOne_   \n",
       "\n",
       "                                                                                                                 Tweet  \\\n",
       "0  @switchfoot http://twitpic.com/2y1zl - awww, that's a bummer.  you shoulda got david carr of third day to do it. ;d   \n",
       "\n",
       "      Tagging Hashtags Emojis  \n",
       "0  switchfoot              ;d  "
      ]
     },
     "execution_count": 80,
     "metadata": {},
     "output_type": "execute_result"
    }
   ],
   "source": [
    "df_clean.head(1)"
   ]
  },
  {
   "cell_type": "code",
   "execution_count": 81,
   "id": "ec65b0ea",
   "metadata": {},
   "outputs": [],
   "source": [
    "# cleaning the special characters\n",
    "df_clean['Tweet'] = df_clean['Tweet'].str.replace(r\"&quot;\", ' ', regex=True)\n",
    "df_clean['Tweet'] = df_clean['Tweet'].str.replace(r\"&amp;\", ' ', regex=True)\n",
    "df_clean['Tweet'] = df_clean['Tweet'].str.replace(r\"&gt;\", ' ', regex=True)\n",
    "df_clean['Tweet'] = df_clean['Tweet'].str.replace(r\"&lt;\", ' ', regex=True)"
   ]
  },
  {
   "cell_type": "code",
   "execution_count": 82,
   "id": "26193950",
   "metadata": {},
   "outputs": [
    {
     "data": {
      "text/html": [
       "<div>\n",
       "<style scoped>\n",
       "    .dataframe tbody tr th:only-of-type {\n",
       "        vertical-align: middle;\n",
       "    }\n",
       "\n",
       "    .dataframe tbody tr th {\n",
       "        vertical-align: top;\n",
       "    }\n",
       "\n",
       "    .dataframe thead th {\n",
       "        text-align: right;\n",
       "    }\n",
       "</style>\n",
       "<table border=\"1\" class=\"dataframe\">\n",
       "  <thead>\n",
       "    <tr style=\"text-align: right;\">\n",
       "      <th></th>\n",
       "      <th>Sentiment</th>\n",
       "      <th>Date</th>\n",
       "      <th>User</th>\n",
       "      <th>Tweet</th>\n",
       "      <th>Tagging</th>\n",
       "      <th>Hashtags</th>\n",
       "      <th>Emojis</th>\n",
       "    </tr>\n",
       "  </thead>\n",
       "  <tbody>\n",
       "    <tr>\n",
       "      <th>1471948</th>\n",
       "      <td>1</td>\n",
       "      <td>2009-06-07 08:18:30</td>\n",
       "      <td>c0der</td>\n",
       "      <td>ð³ñ. twitter ñð°ð±ð¾ñð°ðµñ ð¸ ð¿ð¾ https</td>\n",
       "      <td></td>\n",
       "      <td></td>\n",
       "      <td>None</td>\n",
       "    </tr>\n",
       "  </tbody>\n",
       "</table>\n",
       "</div>"
      ],
      "text/plain": [
       "         Sentiment                Date   User  \\\n",
       "1471948          1 2009-06-07 08:18:30  c0der   \n",
       "\n",
       "                                                 Tweet Tagging Hashtags Emojis  \n",
       "1471948  ð³ñ. twitter ñð°ð±ð¾ñð°ðµñ ð¸ ð¿ð¾ https                     None  "
      ]
     },
     "execution_count": 82,
     "metadata": {},
     "output_type": "execute_result"
    }
   ],
   "source": [
    "df_clean[df_clean['User'] == 'c0der']"
   ]
  },
  {
   "cell_type": "code",
   "execution_count": 83,
   "id": "38fd8710",
   "metadata": {},
   "outputs": [],
   "source": [
    "df_clean.drop(df_clean[df_clean['Tweet'].str.contains(r'ñ||å||§|ù||¹|¡|³|ã|©|®|â|¬|î|±|ä|°|ð|ç||é|ì|²|\\\n",
    "                                    ¢|×|¨|æ|¸|ë|ê|»|¶|à|¼|¾||£|')].index, inplace=True)"
   ]
  },
  {
   "cell_type": "code",
   "execution_count": 84,
   "id": "84ca60ce",
   "metadata": {},
   "outputs": [
    {
     "data": {
      "text/html": [
       "<div>\n",
       "<style scoped>\n",
       "    .dataframe tbody tr th:only-of-type {\n",
       "        vertical-align: middle;\n",
       "    }\n",
       "\n",
       "    .dataframe tbody tr th {\n",
       "        vertical-align: top;\n",
       "    }\n",
       "\n",
       "    .dataframe thead th {\n",
       "        text-align: right;\n",
       "    }\n",
       "</style>\n",
       "<table border=\"1\" class=\"dataframe\">\n",
       "  <thead>\n",
       "    <tr style=\"text-align: right;\">\n",
       "      <th></th>\n",
       "      <th>Sentiment</th>\n",
       "      <th>Date</th>\n",
       "      <th>User</th>\n",
       "      <th>Tweet</th>\n",
       "    </tr>\n",
       "  </thead>\n",
       "  <tbody>\n",
       "    <tr>\n",
       "      <th>796471</th>\n",
       "      <td>0</td>\n",
       "      <td>2009-06-25 08:45:24</td>\n",
       "      <td>gemmaevans18</td>\n",
       "      <td>hi  feelin annoyed had a bad day worst of all been 2da hospital not good news peeps</td>\n",
       "    </tr>\n",
       "    <tr>\n",
       "      <th>1705</th>\n",
       "      <td>0</td>\n",
       "      <td>2009-04-07 00:20:20</td>\n",
       "      <td>debbiechong</td>\n",
       "      <td>@katerih how was the tj dinner tonight? my freezer melted down.</td>\n",
       "    </tr>\n",
       "    <tr>\n",
       "      <th>313270</th>\n",
       "      <td>0</td>\n",
       "      <td>2009-06-02 01:49:26</td>\n",
       "      <td>tornb4t2</td>\n",
       "      <td>back home ! lugano was so nice and i had a lot of fun with anna and tiz  hope to see u soon</td>\n",
       "    </tr>\n",
       "    <tr>\n",
       "      <th>1448640</th>\n",
       "      <td>1</td>\n",
       "      <td>2009-06-07 00:11:42</td>\n",
       "      <td>georgeann13</td>\n",
       "      <td>@youngq they got that power</td>\n",
       "    </tr>\n",
       "    <tr>\n",
       "      <th>158204</th>\n",
       "      <td>0</td>\n",
       "      <td>2009-05-28 22:08:05</td>\n",
       "      <td>rajonthemove</td>\n",
       "      <td>exploring twibble as a multi-account twitter manager, after seesmic suddenly gave up on me...</td>\n",
       "    </tr>\n",
       "  </tbody>\n",
       "</table>\n",
       "</div>"
      ],
      "text/plain": [
       "         Sentiment                Date          User  \\\n",
       "796471           0 2009-06-25 08:45:24  gemmaevans18   \n",
       "1705             0 2009-04-07 00:20:20   debbiechong   \n",
       "313270           0 2009-06-02 01:49:26      tornb4t2   \n",
       "1448640          1 2009-06-07 00:11:42   georgeann13   \n",
       "158204           0 2009-05-28 22:08:05  rajonthemove   \n",
       "\n",
       "                                                                                                   Tweet  \n",
       "796471              hi  feelin annoyed had a bad day worst of all been 2da hospital not good news peeps   \n",
       "1705                                    @katerih how was the tj dinner tonight? my freezer melted down.   \n",
       "313270       back home ! lugano was so nice and i had a lot of fun with anna and tiz  hope to see u soon  \n",
       "1448640                                                                     @youngq they got that power   \n",
       "158204   exploring twibble as a multi-account twitter manager, after seesmic suddenly gave up on me...    "
      ]
     },
     "execution_count": 84,
     "metadata": {},
     "output_type": "execute_result"
    }
   ],
   "source": [
    "df[df['Tweet'].str.contains(r'\\W')].sample(5)"
   ]
  },
  {
   "cell_type": "code",
   "execution_count": 32,
   "id": "2b8c9142",
   "metadata": {},
   "outputs": [],
   "source": [
    "# df_test = df_test.drop(columns=['Emojis'])"
   ]
  },
  {
   "cell_type": "code",
   "execution_count": 87,
   "id": "559bc156",
   "metadata": {},
   "outputs": [
    {
     "data": {
      "text/html": [
       "<div>\n",
       "<style scoped>\n",
       "    .dataframe tbody tr th:only-of-type {\n",
       "        vertical-align: middle;\n",
       "    }\n",
       "\n",
       "    .dataframe tbody tr th {\n",
       "        vertical-align: top;\n",
       "    }\n",
       "\n",
       "    .dataframe thead th {\n",
       "        text-align: right;\n",
       "    }\n",
       "</style>\n",
       "<table border=\"1\" class=\"dataframe\">\n",
       "  <thead>\n",
       "    <tr style=\"text-align: right;\">\n",
       "      <th></th>\n",
       "      <th>Sentiment</th>\n",
       "      <th>Date</th>\n",
       "      <th>User</th>\n",
       "      <th>Tweet</th>\n",
       "      <th>Tagging</th>\n",
       "      <th>Hashtags</th>\n",
       "      <th>Emojis</th>\n",
       "    </tr>\n",
       "  </thead>\n",
       "  <tbody>\n",
       "    <tr>\n",
       "      <th>0</th>\n",
       "      <td>0</td>\n",
       "      <td>2009-04-06 22:19:45</td>\n",
       "      <td>_TheSpecialOne_</td>\n",
       "      <td>@switchfoot http://twitpic.com/2y1zl - awww, that's a bummer.  you shoulda got david carr of third day to do it. ;d</td>\n",
       "      <td>switchfoot</td>\n",
       "      <td></td>\n",
       "      <td>;d</td>\n",
       "    </tr>\n",
       "    <tr>\n",
       "      <th>1</th>\n",
       "      <td>0</td>\n",
       "      <td>2009-04-06 22:19:49</td>\n",
       "      <td>scotthamilton</td>\n",
       "      <td>is upset that he can't update his facebook by texting it... and might cry as a result  school today also. blah!</td>\n",
       "      <td></td>\n",
       "      <td></td>\n",
       "      <td>None</td>\n",
       "    </tr>\n",
       "    <tr>\n",
       "      <th>2</th>\n",
       "      <td>0</td>\n",
       "      <td>2009-04-06 22:19:53</td>\n",
       "      <td>mattycus</td>\n",
       "      <td>@kenichan i dived many times for the ball. managed to save 50%  the rest go out of bounds</td>\n",
       "      <td>kenichan</td>\n",
       "      <td></td>\n",
       "      <td>None</td>\n",
       "    </tr>\n",
       "    <tr>\n",
       "      <th>4</th>\n",
       "      <td>0</td>\n",
       "      <td>2009-04-06 22:19:57</td>\n",
       "      <td>Karoli</td>\n",
       "      <td>@nationwideclass no, it's not behaving at all. i'm mad. why am i here? because i can't see you all over there.</td>\n",
       "      <td>nationwideclass</td>\n",
       "      <td></td>\n",
       "      <td>None</td>\n",
       "    </tr>\n",
       "    <tr>\n",
       "      <th>5</th>\n",
       "      <td>0</td>\n",
       "      <td>2009-04-06 22:20:00</td>\n",
       "      <td>joy_wolf</td>\n",
       "      <td>@kwesidei not the whole crew</td>\n",
       "      <td>kwesidei</td>\n",
       "      <td></td>\n",
       "      <td>None</td>\n",
       "    </tr>\n",
       "    <tr>\n",
       "      <th>...</th>\n",
       "      <td>...</td>\n",
       "      <td>...</td>\n",
       "      <td>...</td>\n",
       "      <td>...</td>\n",
       "      <td>...</td>\n",
       "      <td>...</td>\n",
       "      <td>...</td>\n",
       "    </tr>\n",
       "    <tr>\n",
       "      <th>1599994</th>\n",
       "      <td>1</td>\n",
       "      <td>2009-06-16 08:39:00</td>\n",
       "      <td>EvolveTom</td>\n",
       "      <td>@cliff_forster yeah, that does work better than just waiting for it  in the end i just wonder if i have time to keep up a good blog.</td>\n",
       "      <td>cliff_forster</td>\n",
       "      <td></td>\n",
       "      <td>None</td>\n",
       "    </tr>\n",
       "    <tr>\n",
       "      <th>1599995</th>\n",
       "      <td>1</td>\n",
       "      <td>2009-06-16 08:40:49</td>\n",
       "      <td>AmandaMarie1028</td>\n",
       "      <td>just woke up. having no school is the best feeling ever</td>\n",
       "      <td></td>\n",
       "      <td></td>\n",
       "      <td>None</td>\n",
       "    </tr>\n",
       "    <tr>\n",
       "      <th>1599997</th>\n",
       "      <td>1</td>\n",
       "      <td>2009-06-16 08:40:49</td>\n",
       "      <td>bpbabe</td>\n",
       "      <td>are you ready for your mojo makeover? ask me for details</td>\n",
       "      <td></td>\n",
       "      <td></td>\n",
       "      <td>None</td>\n",
       "    </tr>\n",
       "    <tr>\n",
       "      <th>1599998</th>\n",
       "      <td>1</td>\n",
       "      <td>2009-06-16 08:40:49</td>\n",
       "      <td>tinydiamondz</td>\n",
       "      <td>happy 38th birthday to my boo of alll time!!! tupac amaru shakur</td>\n",
       "      <td></td>\n",
       "      <td></td>\n",
       "      <td>None</td>\n",
       "    </tr>\n",
       "    <tr>\n",
       "      <th>1599999</th>\n",
       "      <td>1</td>\n",
       "      <td>2009-06-16 08:40:50</td>\n",
       "      <td>RyanTrevMorris</td>\n",
       "      <td>happy #charitytuesday @thenspcc @sparkscharity @speakinguph4h</td>\n",
       "      <td>thenspcc, sparkscharity, speakinguph4h</td>\n",
       "      <td>charitytuesday</td>\n",
       "      <td>None</td>\n",
       "    </tr>\n",
       "  </tbody>\n",
       "</table>\n",
       "<p>1447830 rows × 7 columns</p>\n",
       "</div>"
      ],
      "text/plain": [
       "         Sentiment                Date             User  \\\n",
       "0                0 2009-04-06 22:19:45  _TheSpecialOne_   \n",
       "1                0 2009-04-06 22:19:49    scotthamilton   \n",
       "2                0 2009-04-06 22:19:53         mattycus   \n",
       "4                0 2009-04-06 22:19:57           Karoli   \n",
       "5                0 2009-04-06 22:20:00         joy_wolf   \n",
       "...            ...                 ...              ...   \n",
       "1599994          1 2009-06-16 08:39:00        EvolveTom   \n",
       "1599995          1 2009-06-16 08:40:49  AmandaMarie1028   \n",
       "1599997          1 2009-06-16 08:40:49           bpbabe   \n",
       "1599998          1 2009-06-16 08:40:49     tinydiamondz   \n",
       "1599999          1 2009-06-16 08:40:50   RyanTrevMorris   \n",
       "\n",
       "                                                                                                                                        Tweet  \\\n",
       "0                         @switchfoot http://twitpic.com/2y1zl - awww, that's a bummer.  you shoulda got david carr of third day to do it. ;d   \n",
       "1                             is upset that he can't update his facebook by texting it... and might cry as a result  school today also. blah!   \n",
       "2                                                   @kenichan i dived many times for the ball. managed to save 50%  the rest go out of bounds   \n",
       "4                             @nationwideclass no, it's not behaving at all. i'm mad. why am i here? because i can't see you all over there.    \n",
       "5                                                                                                               @kwesidei not the whole crew    \n",
       "...                                                                                                                                       ...   \n",
       "1599994  @cliff_forster yeah, that does work better than just waiting for it  in the end i just wonder if i have time to keep up a good blog.   \n",
       "1599995                                                                              just woke up. having no school is the best feeling ever    \n",
       "1599997                                                                             are you ready for your mojo makeover? ask me for details    \n",
       "1599998                                                                     happy 38th birthday to my boo of alll time!!! tupac amaru shakur    \n",
       "1599999                                                                        happy #charitytuesday @thenspcc @sparkscharity @speakinguph4h    \n",
       "\n",
       "                                        Tagging        Hashtags Emojis  \n",
       "0                                    switchfoot                     ;d  \n",
       "1                                                                 None  \n",
       "2                                      kenichan                   None  \n",
       "4                               nationwideclass                   None  \n",
       "5                                      kwesidei                   None  \n",
       "...                                         ...             ...    ...  \n",
       "1599994                           cliff_forster                   None  \n",
       "1599995                                                           None  \n",
       "1599997                                                           None  \n",
       "1599998                                                           None  \n",
       "1599999  thenspcc, sparkscharity, speakinguph4h  charitytuesday   None  \n",
       "\n",
       "[1447830 rows x 7 columns]"
      ]
     },
     "execution_count": 87,
     "metadata": {},
     "output_type": "execute_result"
    }
   ],
   "source": [
    "df_clean[df_clean['Tweet'].str.contains(r'[^a-z ]')]"
   ]
  },
  {
   "cell_type": "code",
   "execution_count": 88,
   "id": "0d7a2696",
   "metadata": {},
   "outputs": [
    {
     "name": "stdout",
     "output_type": "stream",
     "text": [
      "!\"#$%&'()*+,-./:;<=>?@[\\]^_`{|}~\n"
     ]
    }
   ],
   "source": [
    "print(string.punctuation)"
   ]
  },
  {
   "cell_type": "code",
   "execution_count": 89,
   "id": "e7fdbb6b",
   "metadata": {},
   "outputs": [],
   "source": [
    "import string\n",
    "import preprocessor as p\n",
    "\n",
    "def clean_tweets(df_clean):\n",
    "    #set up punctuations we want to be replaced\n",
    "    removal_punctuation = re.compile(\"(\\.)|(\\;)|(\\:)|(\\!)|(\\')|(\\?)|(\\,)|(\\\")|(\\|)|(\\()|(\\))|(\\[)|(\\])|(\\%)|(\\$)|(\\>)|(\\<)|(\\{)|(\\})|(\\*)|(\\$)|(\\=)\")\n",
    "    pair_words = re.compile(\"(-)|(/)|(:).\")\n",
    "    tokenized_sentence = []\n",
    "    for line in df_clean:\n",
    "        # send to tweet_processor\n",
    "        p.set_options(p.OPT.URL, p.OPT.MENTION, p.OPT.HASHTAG)\n",
    "        tmpL = p.clean(line)\n",
    "        # remove puctuation\n",
    "        tmpL = removal_punctuation.sub(\"\", tmpL.lower()) # convert all tweets to lower cases\n",
    "        tmpL = pair_words.sub(\" \", tmpL)\n",
    "        tokenized_sentence.append(tmpL)\n",
    "    return tokenized_sentence"
   ]
  },
  {
   "cell_type": "code",
   "execution_count": 90,
   "id": "86b3c5b7",
   "metadata": {},
   "outputs": [],
   "source": [
    "df_clean['Tweet'] = clean_tweets(df_clean['Tweet'])"
   ]
  },
  {
   "cell_type": "code",
   "execution_count": 99,
   "id": "ed8fa0ad",
   "metadata": {},
   "outputs": [
    {
     "data": {
      "text/html": [
       "<div>\n",
       "<style scoped>\n",
       "    .dataframe tbody tr th:only-of-type {\n",
       "        vertical-align: middle;\n",
       "    }\n",
       "\n",
       "    .dataframe tbody tr th {\n",
       "        vertical-align: top;\n",
       "    }\n",
       "\n",
       "    .dataframe thead th {\n",
       "        text-align: right;\n",
       "    }\n",
       "</style>\n",
       "<table border=\"1\" class=\"dataframe\">\n",
       "  <thead>\n",
       "    <tr style=\"text-align: right;\">\n",
       "      <th></th>\n",
       "      <th>Sentiment</th>\n",
       "      <th>Date</th>\n",
       "      <th>User</th>\n",
       "      <th>Tweet</th>\n",
       "      <th>Tagging</th>\n",
       "      <th>Hashtags</th>\n",
       "      <th>Emojis</th>\n",
       "    </tr>\n",
       "  </thead>\n",
       "  <tbody>\n",
       "  </tbody>\n",
       "</table>\n",
       "</div>"
      ],
      "text/plain": [
       "Empty DataFrame\n",
       "Columns: [Sentiment, Date, User, Tweet, Tagging, Hashtags, Emojis]\n",
       "Index: []"
      ]
     },
     "execution_count": 99,
     "metadata": {},
     "output_type": "execute_result"
    }
   ],
   "source": [
    "df_clean[df_clean['Tweet'].str.contains(r'[^a-z ]')]"
   ]
  },
  {
   "cell_type": "code",
   "execution_count": 109,
   "id": "673cd6ae",
   "metadata": {},
   "outputs": [
    {
     "name": "stderr",
     "output_type": "stream",
     "text": [
      "C:\\Users\\Emran\\AppData\\Local\\Temp\\ipykernel_5420\\4207419134.py:1: FutureWarning: The default value of regex will change from True to False in a future version.\n",
      "  df_clean['Tweet'] = df_clean.loc[:, 'Tweet'].str.replace(r'[^a-z ]', ' ')\n"
     ]
    }
   ],
   "source": [
    "df_clean['Tweet'] = df_clean.loc[:, 'Tweet'].str.replace(r'[^a-z ]', ' ')"
   ]
  },
  {
   "cell_type": "code",
   "execution_count": 143,
   "id": "4e154112",
   "metadata": {},
   "outputs": [
    {
     "data": {
      "text/html": [
       "<div>\n",
       "<style scoped>\n",
       "    .dataframe tbody tr th:only-of-type {\n",
       "        vertical-align: middle;\n",
       "    }\n",
       "\n",
       "    .dataframe tbody tr th {\n",
       "        vertical-align: top;\n",
       "    }\n",
       "\n",
       "    .dataframe thead th {\n",
       "        text-align: right;\n",
       "    }\n",
       "</style>\n",
       "<table border=\"1\" class=\"dataframe\">\n",
       "  <thead>\n",
       "    <tr style=\"text-align: right;\">\n",
       "      <th></th>\n",
       "      <th>Sentiment</th>\n",
       "      <th>Date</th>\n",
       "      <th>User</th>\n",
       "      <th>Tweet</th>\n",
       "      <th>Tagging</th>\n",
       "      <th>Hashtags</th>\n",
       "      <th>Emojis</th>\n",
       "      <th>Month</th>\n",
       "      <th>Day</th>\n",
       "      <th>DayOfWeek</th>\n",
       "    </tr>\n",
       "  </thead>\n",
       "  <tbody>\n",
       "    <tr>\n",
       "      <th>208</th>\n",
       "      <td>0</td>\n",
       "      <td>2009-04-06 22:33:25</td>\n",
       "      <td>Artiel87</td>\n",
       "      <td></td>\n",
       "      <td>mandayyy</td>\n",
       "      <td></td>\n",
       "      <td>None</td>\n",
       "      <td>4</td>\n",
       "      <td>6</td>\n",
       "      <td>Monday</td>\n",
       "    </tr>\n",
       "    <tr>\n",
       "      <th>249</th>\n",
       "      <td>0</td>\n",
       "      <td>2009-04-06 22:36:27</td>\n",
       "      <td>Artiel87</td>\n",
       "      <td></td>\n",
       "      <td>mandayyy</td>\n",
       "      <td></td>\n",
       "      <td>None</td>\n",
       "      <td>4</td>\n",
       "      <td>6</td>\n",
       "      <td>Monday</td>\n",
       "    </tr>\n",
       "    <tr>\n",
       "      <th>398</th>\n",
       "      <td>0</td>\n",
       "      <td>2009-04-06 22:46:53</td>\n",
       "      <td>KimberlyKane</td>\n",
       "      <td></td>\n",
       "      <td>danadearmond</td>\n",
       "      <td></td>\n",
       "      <td>None</td>\n",
       "      <td>4</td>\n",
       "      <td>6</td>\n",
       "      <td>Monday</td>\n",
       "    </tr>\n",
       "    <tr>\n",
       "      <th>430</th>\n",
       "      <td>0</td>\n",
       "      <td>2009-04-06 22:48:48</td>\n",
       "      <td>jtmal0723</td>\n",
       "      <td></td>\n",
       "      <td>anistorm</td>\n",
       "      <td></td>\n",
       "      <td>None</td>\n",
       "      <td>4</td>\n",
       "      <td>6</td>\n",
       "      <td>Monday</td>\n",
       "    </tr>\n",
       "    <tr>\n",
       "      <th>1011</th>\n",
       "      <td>0</td>\n",
       "      <td>2009-04-06 23:30:23</td>\n",
       "      <td>gabysslave</td>\n",
       "      <td></td>\n",
       "      <td>citizensheep</td>\n",
       "      <td></td>\n",
       "      <td>None</td>\n",
       "      <td>4</td>\n",
       "      <td>6</td>\n",
       "      <td>Monday</td>\n",
       "    </tr>\n",
       "    <tr>\n",
       "      <th>...</th>\n",
       "      <td>...</td>\n",
       "      <td>...</td>\n",
       "      <td>...</td>\n",
       "      <td>...</td>\n",
       "      <td>...</td>\n",
       "      <td>...</td>\n",
       "      <td>...</td>\n",
       "      <td>...</td>\n",
       "      <td>...</td>\n",
       "      <td>...</td>\n",
       "    </tr>\n",
       "    <tr>\n",
       "      <th>1596542</th>\n",
       "      <td>1</td>\n",
       "      <td>2009-06-16 07:23:20</td>\n",
       "      <td>carlos_teran</td>\n",
       "      <td></td>\n",
       "      <td>sary_chan</td>\n",
       "      <td></td>\n",
       "      <td>None</td>\n",
       "      <td>6</td>\n",
       "      <td>16</td>\n",
       "      <td>Tuesday</td>\n",
       "    </tr>\n",
       "    <tr>\n",
       "      <th>1596670</th>\n",
       "      <td>1</td>\n",
       "      <td>2009-06-16 07:29:14</td>\n",
       "      <td>vmslive</td>\n",
       "      <td></td>\n",
       "      <td>catherine_smith</td>\n",
       "      <td></td>\n",
       "      <td>None</td>\n",
       "      <td>6</td>\n",
       "      <td>16</td>\n",
       "      <td>Tuesday</td>\n",
       "    </tr>\n",
       "    <tr>\n",
       "      <th>1597326</th>\n",
       "      <td>1</td>\n",
       "      <td>2009-06-16 07:43:42</td>\n",
       "      <td>senoritaperdida</td>\n",
       "      <td></td>\n",
       "      <td>ashtonshay00</td>\n",
       "      <td></td>\n",
       "      <td>None</td>\n",
       "      <td>6</td>\n",
       "      <td>16</td>\n",
       "      <td>Tuesday</td>\n",
       "    </tr>\n",
       "    <tr>\n",
       "      <th>1599494</th>\n",
       "      <td>1</td>\n",
       "      <td>2009-06-16 08:28:48</td>\n",
       "      <td>RobNice24</td>\n",
       "      <td></td>\n",
       "      <td>sworn4dabosses</td>\n",
       "      <td></td>\n",
       "      <td>None</td>\n",
       "      <td>6</td>\n",
       "      <td>16</td>\n",
       "      <td>Tuesday</td>\n",
       "    </tr>\n",
       "    <tr>\n",
       "      <th>1599993</th>\n",
       "      <td>1</td>\n",
       "      <td>2009-06-16 08:39:00</td>\n",
       "      <td>ChloeAmisha</td>\n",
       "      <td></td>\n",
       "      <td>scooby_gritboys</td>\n",
       "      <td></td>\n",
       "      <td>None</td>\n",
       "      <td>6</td>\n",
       "      <td>16</td>\n",
       "      <td>Tuesday</td>\n",
       "    </tr>\n",
       "  </tbody>\n",
       "</table>\n",
       "<p>3156 rows × 10 columns</p>\n",
       "</div>"
      ],
      "text/plain": [
       "         Sentiment                Date             User Tweet  \\\n",
       "208              0 2009-04-06 22:33:25         Artiel87         \n",
       "249              0 2009-04-06 22:36:27         Artiel87         \n",
       "398              0 2009-04-06 22:46:53     KimberlyKane         \n",
       "430              0 2009-04-06 22:48:48        jtmal0723         \n",
       "1011             0 2009-04-06 23:30:23       gabysslave         \n",
       "...            ...                 ...              ...   ...   \n",
       "1596542          1 2009-06-16 07:23:20     carlos_teran         \n",
       "1596670          1 2009-06-16 07:29:14          vmslive         \n",
       "1597326          1 2009-06-16 07:43:42  senoritaperdida         \n",
       "1599494          1 2009-06-16 08:28:48        RobNice24         \n",
       "1599993          1 2009-06-16 08:39:00      ChloeAmisha         \n",
       "\n",
       "                 Tagging Hashtags Emojis  Month  Day DayOfWeek  \n",
       "208             mandayyy            None      4    6    Monday  \n",
       "249             mandayyy            None      4    6    Monday  \n",
       "398         danadearmond            None      4    6    Monday  \n",
       "430             anistorm            None      4    6    Monday  \n",
       "1011        citizensheep            None      4    6    Monday  \n",
       "...                  ...      ...    ...    ...  ...       ...  \n",
       "1596542        sary_chan            None      6   16   Tuesday  \n",
       "1596670  catherine_smith            None      6   16   Tuesday  \n",
       "1597326     ashtonshay00            None      6   16   Tuesday  \n",
       "1599494   sworn4dabosses            None      6   16   Tuesday  \n",
       "1599993  scooby_gritboys            None      6   16   Tuesday  \n",
       "\n",
       "[3156 rows x 10 columns]"
      ]
     },
     "execution_count": 143,
     "metadata": {},
     "output_type": "execute_result"
    }
   ],
   "source": [
    "df_clean[df_clean['Tweet'] == '']"
   ]
  },
  {
   "cell_type": "markdown",
   "id": "c3d42471",
   "metadata": {},
   "source": [
    "----"
   ]
  },
  {
   "cell_type": "markdown",
   "id": "887e5e0e",
   "metadata": {},
   "source": [
    "### End Cleaning"
   ]
  },
  {
   "cell_type": "markdown",
   "id": "3d558a14",
   "metadata": {},
   "source": [
    "## EDA"
   ]
  },
  {
   "cell_type": "code",
   "execution_count": 110,
   "id": "7c3d5d72",
   "metadata": {
    "scrolled": true
   },
   "outputs": [
    {
     "data": {
      "text/plain": [
       "                                          863261\n",
       "mileycyrus                                  4043\n",
       "tommcfly                                    3588\n",
       "ddlovato                                    3030\n",
       "jonasbrothers                               2111\n",
       "                                           ...  \n",
       "mrsikhnet                                      1\n",
       "miggs_band                                     1\n",
       "lisa_ballew                                    1\n",
       "dreadmalik                                     1\n",
       "thenspcc, sparkscharity, speakinguph4h         1\n",
       "Name: Tagging, Length: 359074, dtype: int64"
      ]
     },
     "execution_count": 110,
     "metadata": {},
     "output_type": "execute_result"
    }
   ],
   "source": [
    "df_test['Tagging'].value_counts()"
   ]
  },
  {
   "cell_type": "code",
   "execution_count": 111,
   "id": "f212ad7f",
   "metadata": {},
   "outputs": [
    {
     "data": {
      "text/plain": [
       "                   1564381\n",
       "followfriday          2078\n",
       "fb                    1696\n",
       "squarespace            748\n",
       "ff                     724\n",
       "                    ...   \n",
       "f1, f1                   1\n",
       "atbat                    1\n",
       "inaperfectwould          1\n",
       "inthepants               1\n",
       "bigrun                   1\n",
       "Name: Hashtags, Length: 14196, dtype: int64"
      ]
     },
     "execution_count": 111,
     "metadata": {},
     "output_type": "execute_result"
    }
   ],
   "source": [
    "df_test['Hashtags'].value_counts()"
   ]
  },
  {
   "cell_type": "code",
   "execution_count": 112,
   "id": "815c2609",
   "metadata": {},
   "outputs": [
    {
     "data": {
      "text/plain": [
       "None        1596119\n",
       ";d             2501\n",
       ":]              987\n",
       ":[              205\n",
       ":d              109\n",
       ";d,;d            29\n",
       ":],:]            19\n",
       ":(                6\n",
       ":],;d             5\n",
       ":- )              3\n",
       ";d,;d,;d          3\n",
       ";d,:]             3\n",
       ":[,:]             2\n",
       ":[,:[             2\n",
       ":],:],:]          2\n",
       ":],:[             1\n",
       ":d,:d             1\n",
       ";d,:[             1\n",
       ": )               1\n",
       ":d,;d             1\n",
       "Name: Emojis, dtype: int64"
      ]
     },
     "execution_count": 112,
     "metadata": {},
     "output_type": "execute_result"
    }
   ],
   "source": [
    "df_test['Emojis'].value_counts()"
   ]
  },
  {
   "cell_type": "code",
   "execution_count": 113,
   "id": "7d74203c",
   "metadata": {},
   "outputs": [
    {
     "data": {
      "text/plain": [
       "0    800000\n",
       "1    800000\n",
       "Name: Sentiment, dtype: int64"
      ]
     },
     "execution_count": 113,
     "metadata": {},
     "output_type": "execute_result"
    }
   ],
   "source": [
    "df_test['Sentiment'].value_counts()"
   ]
  },
  {
   "cell_type": "code",
   "execution_count": 114,
   "id": "a3e7bae3",
   "metadata": {},
   "outputs": [
    {
     "data": {
      "image/png": "[encoded data removed]",
      "text/plain": [
       "<Figure size 1000x400 with 1 Axes>"
      ]
     },
     "metadata": {},
     "output_type": "display_data"
    }
   ],
   "source": [
    "plt.figure(figsize=(10,4))\n",
    "df_test['Sentiment'].value_counts().plot(kind='bar', rot=0, color=['#FF7F0E', '#3685BC'])\n",
    "plt.title(\"Target Distirbution\")\n",
    "plt.xlabel(\"Sentiment\")\n",
    "plt.ylabel(\"Count\")\n",
    "\n",
    "plt.show()"
   ]
  },
  {
   "cell_type": "code",
   "execution_count": 118,
   "id": "432bf3e1",
   "metadata": {},
   "outputs": [
    {
     "data": {
      "text/plain": [
       "(1589521, 7)"
      ]
     },
     "execution_count": 118,
     "metadata": {},
     "output_type": "execute_result"
    }
   ],
   "source": [
    "df_clean.shape"
   ]
  },
  {
   "cell_type": "code",
   "execution_count": 120,
   "id": "63528a8e",
   "metadata": {},
   "outputs": [
    {
     "data": {
      "text/plain": [
       "0    795470\n",
       "1    794051\n",
       "Name: Sentiment, dtype: int64"
      ]
     },
     "execution_count": 120,
     "metadata": {},
     "output_type": "execute_result"
    }
   ],
   "source": [
    "df_clean['Sentiment'].value_counts()"
   ]
  },
  {
   "cell_type": "code",
   "execution_count": 121,
   "id": "58815fb6",
   "metadata": {},
   "outputs": [
    {
     "data": {
      "image/png": "[encoded data removed]",
      "text/plain": [
       "<Figure size 1000x400 with 1 Axes>"
      ]
     },
     "metadata": {},
     "output_type": "display_data"
    }
   ],
   "source": [
    "plt.figure(figsize=(10,4))\n",
    "df_clean['Sentiment'].value_counts().plot(kind='bar', rot=0, color=['#FF7F0E', '#3685BC'])\n",
    "plt.title(\"Target Distirbution\")\n",
    "plt.xlabel(\"Sentiment\")\n",
    "plt.ylabel(\"Count\")\n",
    "\n",
    "plt.show()"
   ]
  },
  {
   "cell_type": "code",
   "execution_count": 122,
   "id": "8ed1dde2",
   "metadata": {},
   "outputs": [],
   "source": [
    "df_clean['Month'] = df_clean['Date'].dt.month\n",
    "df_clean['Day'] = df_clean['Date'].dt.day"
   ]
  },
  {
   "cell_type": "code",
   "execution_count": 123,
   "id": "f204eda0",
   "metadata": {},
   "outputs": [],
   "source": [
    "# added a day of the week column\n",
    "df_clean['DayOfWeek'] = df_clean['Date'].dt.day_name()"
   ]
  },
  {
   "cell_type": "code",
   "execution_count": 124,
   "id": "ebf3ddcb",
   "metadata": {
    "scrolled": true
   },
   "outputs": [
    {
     "data": {
      "text/html": [
       "<div>\n",
       "<style scoped>\n",
       "    .dataframe tbody tr th:only-of-type {\n",
       "        vertical-align: middle;\n",
       "    }\n",
       "\n",
       "    .dataframe tbody tr th {\n",
       "        vertical-align: top;\n",
       "    }\n",
       "\n",
       "    .dataframe thead th {\n",
       "        text-align: right;\n",
       "    }\n",
       "</style>\n",
       "<table border=\"1\" class=\"dataframe\">\n",
       "  <thead>\n",
       "    <tr style=\"text-align: right;\">\n",
       "      <th></th>\n",
       "      <th>Sentiment</th>\n",
       "      <th>Date</th>\n",
       "      <th>User</th>\n",
       "      <th>Tweet</th>\n",
       "      <th>Tagging</th>\n",
       "      <th>Hashtags</th>\n",
       "      <th>Emojis</th>\n",
       "      <th>Month</th>\n",
       "      <th>Day</th>\n",
       "      <th>DayOfWeek</th>\n",
       "    </tr>\n",
       "  </thead>\n",
       "  <tbody>\n",
       "    <tr>\n",
       "      <th>0</th>\n",
       "      <td>0</td>\n",
       "      <td>2009-04-06 22:19:45</td>\n",
       "      <td>_TheSpecialOne_</td>\n",
       "      <td>awww thats a bummer you shoulda got david carr of third day to do it d</td>\n",
       "      <td>switchfoot</td>\n",
       "      <td></td>\n",
       "      <td>;d</td>\n",
       "      <td>4</td>\n",
       "      <td>6</td>\n",
       "      <td>Monday</td>\n",
       "    </tr>\n",
       "    <tr>\n",
       "      <th>1</th>\n",
       "      <td>0</td>\n",
       "      <td>2009-04-06 22:19:49</td>\n",
       "      <td>scotthamilton</td>\n",
       "      <td>is upset that he cant update his facebook by texting it and might cry as a result school today also blah</td>\n",
       "      <td></td>\n",
       "      <td></td>\n",
       "      <td>None</td>\n",
       "      <td>4</td>\n",
       "      <td>6</td>\n",
       "      <td>Monday</td>\n",
       "    </tr>\n",
       "    <tr>\n",
       "      <th>2</th>\n",
       "      <td>0</td>\n",
       "      <td>2009-04-06 22:19:53</td>\n",
       "      <td>mattycus</td>\n",
       "      <td>i dived many times for the ball managed to save    the rest go out of bounds</td>\n",
       "      <td>kenichan</td>\n",
       "      <td></td>\n",
       "      <td>None</td>\n",
       "      <td>4</td>\n",
       "      <td>6</td>\n",
       "      <td>Monday</td>\n",
       "    </tr>\n",
       "    <tr>\n",
       "      <th>3</th>\n",
       "      <td>0</td>\n",
       "      <td>2009-04-06 22:19:57</td>\n",
       "      <td>ElleCTF</td>\n",
       "      <td>my whole body feels itchy and like its on fire</td>\n",
       "      <td></td>\n",
       "      <td></td>\n",
       "      <td>None</td>\n",
       "      <td>4</td>\n",
       "      <td>6</td>\n",
       "      <td>Monday</td>\n",
       "    </tr>\n",
       "    <tr>\n",
       "      <th>4</th>\n",
       "      <td>0</td>\n",
       "      <td>2009-04-06 22:19:57</td>\n",
       "      <td>Karoli</td>\n",
       "      <td>no its not behaving at all im mad why am i here because i cant see you all over there</td>\n",
       "      <td>nationwideclass</td>\n",
       "      <td></td>\n",
       "      <td>None</td>\n",
       "      <td>4</td>\n",
       "      <td>6</td>\n",
       "      <td>Monday</td>\n",
       "    </tr>\n",
       "  </tbody>\n",
       "</table>\n",
       "</div>"
      ],
      "text/plain": [
       "   Sentiment                Date             User  \\\n",
       "0          0 2009-04-06 22:19:45  _TheSpecialOne_   \n",
       "1          0 2009-04-06 22:19:49    scotthamilton   \n",
       "2          0 2009-04-06 22:19:53         mattycus   \n",
       "3          0 2009-04-06 22:19:57          ElleCTF   \n",
       "4          0 2009-04-06 22:19:57           Karoli   \n",
       "\n",
       "                                                                                                      Tweet  \\\n",
       "0                                    awww thats a bummer you shoulda got david carr of third day to do it d   \n",
       "1  is upset that he cant update his facebook by texting it and might cry as a result school today also blah   \n",
       "2                              i dived many times for the ball managed to save    the rest go out of bounds   \n",
       "3                                                            my whole body feels itchy and like its on fire   \n",
       "4                     no its not behaving at all im mad why am i here because i cant see you all over there   \n",
       "\n",
       "           Tagging Hashtags Emojis  Month  Day DayOfWeek  \n",
       "0       switchfoot              ;d      4    6    Monday  \n",
       "1                             None      4    6    Monday  \n",
       "2         kenichan            None      4    6    Monday  \n",
       "3                             None      4    6    Monday  \n",
       "4  nationwideclass            None      4    6    Monday  "
      ]
     },
     "execution_count": 124,
     "metadata": {},
     "output_type": "execute_result"
    }
   ],
   "source": [
    "df_clean.head()"
   ]
  },
  {
   "cell_type": "code",
   "execution_count": 125,
   "id": "68f52074",
   "metadata": {},
   "outputs": [
    {
     "data": {
      "image/png": "[encoded data removed]",
      "text/plain": [
       "<Figure size 1000x400 with 1 Axes>"
      ]
     },
     "metadata": {},
     "output_type": "display_data"
    }
   ],
   "source": [
    "plt.figure(figsize=(10,4))\n",
    "plt.hist(df_clean['Day'], bins=70) # histogram\n",
    "plt.title('Distribution of the Day') # title\n",
    "plt.xlabel('Day') # labeling x-axis\n",
    "plt.ylabel('Frequency') # labeling y-axis\n",
    "plt.show()"
   ]
  },
  {
   "cell_type": "code",
   "execution_count": 126,
   "id": "23ca9bba",
   "metadata": {},
   "outputs": [
    {
     "data": {
      "image/png": "[encoded data removed]",
      "text/plain": [
       "<Figure size 1000x400 with 1 Axes>"
      ]
     },
     "metadata": {},
     "output_type": "display_data"
    }
   ],
   "source": [
    "plt.figure(figsize=(10,4))\n",
    "plt.hist(df_clean['DayOfWeek'], bins=20) # histogram\n",
    "plt.title('Distribution of the Week') # title\n",
    "plt.xlabel('Day of the Week') # labeling x-axis\n",
    "plt.ylabel('Frequency') # labeling y-axis\n",
    "plt.show()"
   ]
  },
  {
   "cell_type": "code",
   "execution_count": 127,
   "id": "a039eb32",
   "metadata": {},
   "outputs": [
    {
     "data": {
      "text/html": [
       "<div>\n",
       "<style scoped>\n",
       "    .dataframe tbody tr th:only-of-type {\n",
       "        vertical-align: middle;\n",
       "    }\n",
       "\n",
       "    .dataframe tbody tr th {\n",
       "        vertical-align: top;\n",
       "    }\n",
       "\n",
       "    .dataframe thead th {\n",
       "        text-align: right;\n",
       "    }\n",
       "</style>\n",
       "<table border=\"1\" class=\"dataframe\">\n",
       "  <thead>\n",
       "    <tr style=\"text-align: right;\">\n",
       "      <th></th>\n",
       "      <th>DayOfWeek</th>\n",
       "      <th>Sentiment</th>\n",
       "      <th>Count</th>\n",
       "    </tr>\n",
       "  </thead>\n",
       "  <tbody>\n",
       "    <tr>\n",
       "      <th>0</th>\n",
       "      <td>Friday</td>\n",
       "      <td>0</td>\n",
       "      <td>114095</td>\n",
       "    </tr>\n",
       "    <tr>\n",
       "      <th>1</th>\n",
       "      <td>Friday</td>\n",
       "      <td>1</td>\n",
       "      <td>110581</td>\n",
       "    </tr>\n",
       "    <tr>\n",
       "      <th>2</th>\n",
       "      <td>Monday</td>\n",
       "      <td>0</td>\n",
       "      <td>131822</td>\n",
       "    </tr>\n",
       "    <tr>\n",
       "      <th>3</th>\n",
       "      <td>Monday</td>\n",
       "      <td>1</td>\n",
       "      <td>175911</td>\n",
       "    </tr>\n",
       "    <tr>\n",
       "      <th>4</th>\n",
       "      <td>Saturday</td>\n",
       "      <td>0</td>\n",
       "      <td>157006</td>\n",
       "    </tr>\n",
       "    <tr>\n",
       "      <th>5</th>\n",
       "      <td>Saturday</td>\n",
       "      <td>1</td>\n",
       "      <td>172298</td>\n",
       "    </tr>\n",
       "    <tr>\n",
       "      <th>6</th>\n",
       "      <td>Sunday</td>\n",
       "      <td>0</td>\n",
       "      <td>144726</td>\n",
       "    </tr>\n",
       "    <tr>\n",
       "      <th>7</th>\n",
       "      <td>Sunday</td>\n",
       "      <td>1</td>\n",
       "      <td>197673</td>\n",
       "    </tr>\n",
       "    <tr>\n",
       "      <th>8</th>\n",
       "      <td>Thursday</td>\n",
       "      <td>0</td>\n",
       "      <td>79598</td>\n",
       "    </tr>\n",
       "    <tr>\n",
       "      <th>9</th>\n",
       "      <td>Thursday</td>\n",
       "      <td>1</td>\n",
       "      <td>25846</td>\n",
       "    </tr>\n",
       "    <tr>\n",
       "      <th>10</th>\n",
       "      <td>Tuesday</td>\n",
       "      <td>0</td>\n",
       "      <td>100307</td>\n",
       "    </tr>\n",
       "    <tr>\n",
       "      <th>11</th>\n",
       "      <td>Tuesday</td>\n",
       "      <td>1</td>\n",
       "      <td>83819</td>\n",
       "    </tr>\n",
       "    <tr>\n",
       "      <th>12</th>\n",
       "      <td>Wednesday</td>\n",
       "      <td>0</td>\n",
       "      <td>67916</td>\n",
       "    </tr>\n",
       "    <tr>\n",
       "      <th>13</th>\n",
       "      <td>Wednesday</td>\n",
       "      <td>1</td>\n",
       "      <td>27923</td>\n",
       "    </tr>\n",
       "  </tbody>\n",
       "</table>\n",
       "</div>"
      ],
      "text/plain": [
       "    DayOfWeek  Sentiment   Count\n",
       "0      Friday          0  114095\n",
       "1      Friday          1  110581\n",
       "2      Monday          0  131822\n",
       "3      Monday          1  175911\n",
       "4    Saturday          0  157006\n",
       "5    Saturday          1  172298\n",
       "6      Sunday          0  144726\n",
       "7      Sunday          1  197673\n",
       "8    Thursday          0   79598\n",
       "9    Thursday          1   25846\n",
       "10    Tuesday          0  100307\n",
       "11    Tuesday          1   83819\n",
       "12  Wednesday          0   67916\n",
       "13  Wednesday          1   27923"
      ]
     },
     "execution_count": 127,
     "metadata": {},
     "output_type": "execute_result"
    }
   ],
   "source": [
    "df_clean.groupby(['DayOfWeek', 'Sentiment']).size().reset_index(name='Count')"
   ]
  },
  {
   "cell_type": "code",
   "execution_count": 129,
   "id": "a0e36f8b",
   "metadata": {},
   "outputs": [
    {
     "data": {
      "text/plain": [
       "<Figure size 3500x600 with 0 Axes>"
      ]
     },
     "metadata": {},
     "output_type": "display_data"
    },
    {
     "data": {
      "image/png": "[encoded data removed]",
      "text/plain": [
       "<Figure size 640x480 with 1 Axes>"
      ]
     },
     "metadata": {},
     "output_type": "display_data"
    }
   ],
   "source": [
    "plt.figure(figsize=(35,6)) # setting a figure size \n",
    "grouped = df_clean.groupby(['DayOfWeek', 'Sentiment']).size().reset_index(name='Count')\n",
    "# setting or pivoting Species as index, WNV as a column, and the total count as a value and using barh as a plot\n",
    "grouped.pivot(index='DayOfWeek', columns='Sentiment', values='Count').plot(kind='bar', rot=0, color=['#FF7F0E', '#3685BC']) \n",
    "plt.title(\"Distribution Of Week\") # title\n",
    "plt.xlabel(\"Day Of Week\") # labeling x-axis\n",
    "plt.ylabel(\"Count\") # labeling y-axis\n",
    "#updating legend\n",
    "label_map = {0: 'Negative', 1: 'Positive'}\n",
    "legend_labels = [label_map[val] for val in df_clean['Sentiment']]\n",
    "plt.legend(legend_labels)\n",
    "plt.show()"
   ]
  },
  {
   "cell_type": "code",
   "execution_count": 130,
   "id": "c9e8880e",
   "metadata": {},
   "outputs": [
    {
     "data": {
      "text/plain": [
       "Sunday       342399\n",
       "Saturday     329304\n",
       "Monday       307733\n",
       "Friday       224676\n",
       "Tuesday      184126\n",
       "Thursday     105444\n",
       "Wednesday     95839\n",
       "Name: DayOfWeek, dtype: int64"
      ]
     },
     "execution_count": 130,
     "metadata": {},
     "output_type": "execute_result"
    }
   ],
   "source": [
    "df_clean['DayOfWeek'].value_counts()"
   ]
  },
  {
   "cell_type": "code",
   "execution_count": 131,
   "id": "c1501fb8",
   "metadata": {
    "scrolled": true
   },
   "outputs": [
    {
     "data": {
      "text/plain": [
       "6    913851\n",
       "5    575646\n",
       "4    100024\n",
       "Name: Date, dtype: int64"
      ]
     },
     "execution_count": 131,
     "metadata": {},
     "output_type": "execute_result"
    }
   ],
   "source": [
    "df_clean['Date'].dt.month.value_counts()"
   ]
  },
  {
   "cell_type": "markdown",
   "id": "a40df01d",
   "metadata": {},
   "source": [
    "### Saving the data\n",
    "\n",
    "Now that we have spent the time cleaning and working with EDA. We are going to save it to a CSV file and begin to work with Data Wrangling"
   ]
  },
  {
   "cell_type": "code",
   "execution_count": 136,
   "id": "54e093cc",
   "metadata": {},
   "outputs": [],
   "source": [
    "df_clean.to_csv('cleaned_twitter_data.csv', index=False)"
   ]
  },
  {
   "cell_type": "code",
   "execution_count": 137,
   "id": "7666e6b8",
   "metadata": {},
   "outputs": [
    {
     "data": {
      "text/html": [
       "<div>\n",
       "<style scoped>\n",
       "    .dataframe tbody tr th:only-of-type {\n",
       "        vertical-align: middle;\n",
       "    }\n",
       "\n",
       "    .dataframe tbody tr th {\n",
       "        vertical-align: top;\n",
       "    }\n",
       "\n",
       "    .dataframe thead th {\n",
       "        text-align: right;\n",
       "    }\n",
       "</style>\n",
       "<table border=\"1\" class=\"dataframe\">\n",
       "  <thead>\n",
       "    <tr style=\"text-align: right;\">\n",
       "      <th></th>\n",
       "      <th>Sentiment</th>\n",
       "      <th>Date</th>\n",
       "      <th>User</th>\n",
       "      <th>Tweet</th>\n",
       "      <th>Tagging</th>\n",
       "      <th>Hashtags</th>\n",
       "      <th>Emojis</th>\n",
       "      <th>Month</th>\n",
       "      <th>Day</th>\n",
       "      <th>DayOfWeek</th>\n",
       "    </tr>\n",
       "  </thead>\n",
       "  <tbody>\n",
       "    <tr>\n",
       "      <th>1425182</th>\n",
       "      <td>1</td>\n",
       "      <td>2009-06-06 18:54:22</td>\n",
       "      <td>hotelqueen</td>\n",
       "      <td>definitely im in canada so i got to play the first beta the tv questions are killing me though</td>\n",
       "      <td>nvobscene</td>\n",
       "      <td>1vs100</td>\n",
       "      <td>None</td>\n",
       "      <td>6</td>\n",
       "      <td>6</td>\n",
       "      <td>Saturday</td>\n",
       "    </tr>\n",
       "    <tr>\n",
       "      <th>493312</th>\n",
       "      <td>0</td>\n",
       "      <td>2009-06-15 17:02:48</td>\n",
       "      <td>kristalyn512</td>\n",
       "      <td>im hoping the rain stops before i finish work because i wore sandals today</td>\n",
       "      <td>NaN</td>\n",
       "      <td>NaN</td>\n",
       "      <td>None</td>\n",
       "      <td>6</td>\n",
       "      <td>15</td>\n",
       "      <td>Monday</td>\n",
       "    </tr>\n",
       "    <tr>\n",
       "      <th>956441</th>\n",
       "      <td>1</td>\n",
       "      <td>2009-05-17 09:41:28</td>\n",
       "      <td>erinnnraeee</td>\n",
       "      <td>ahhhh i m uppppppppp don t really have a big ass hangover thank god</td>\n",
       "      <td>NaN</td>\n",
       "      <td>NaN</td>\n",
       "      <td>None</td>\n",
       "      <td>5</td>\n",
       "      <td>17</td>\n",
       "      <td>Sunday</td>\n",
       "    </tr>\n",
       "    <tr>\n",
       "      <th>811368</th>\n",
       "      <td>1</td>\n",
       "      <td>2009-04-18 08:36:29</td>\n",
       "      <td>rebecajean</td>\n",
       "      <td>you got to see me not epic fail</td>\n",
       "      <td>coryj111</td>\n",
       "      <td>NaN</td>\n",
       "      <td>None</td>\n",
       "      <td>4</td>\n",
       "      <td>18</td>\n",
       "      <td>Saturday</td>\n",
       "    </tr>\n",
       "    <tr>\n",
       "      <th>5042</th>\n",
       "      <td>0</td>\n",
       "      <td>2009-04-07 04:39:30</td>\n",
       "      <td>imnickyip</td>\n",
       "      <td>ughhhh i hate you jk</td>\n",
       "      <td>ashfoo</td>\n",
       "      <td>NaN</td>\n",
       "      <td>None</td>\n",
       "      <td>4</td>\n",
       "      <td>7</td>\n",
       "      <td>Tuesday</td>\n",
       "    </tr>\n",
       "  </tbody>\n",
       "</table>\n",
       "</div>"
      ],
      "text/plain": [
       "         Sentiment                 Date          User  \\\n",
       "1425182          1  2009-06-06 18:54:22    hotelqueen   \n",
       "493312           0  2009-06-15 17:02:48  kristalyn512   \n",
       "956441           1  2009-05-17 09:41:28   erinnnraeee   \n",
       "811368           1  2009-04-18 08:36:29    rebecajean   \n",
       "5042             0  2009-04-07 04:39:30     imnickyip   \n",
       "\n",
       "                                                                                                  Tweet  \\\n",
       "1425182  definitely im in canada so i got to play the first beta the tv questions are killing me though   \n",
       "493312                       im hoping the rain stops before i finish work because i wore sandals today   \n",
       "956441                              ahhhh i m uppppppppp don t really have a big ass hangover thank god   \n",
       "811368                                                                  you got to see me not epic fail   \n",
       "5042                                                                             ughhhh i hate you jk     \n",
       "\n",
       "           Tagging Hashtags Emojis  Month  Day DayOfWeek  \n",
       "1425182  nvobscene   1vs100   None      6    6  Saturday  \n",
       "493312         NaN      NaN   None      6   15    Monday  \n",
       "956441         NaN      NaN   None      5   17    Sunday  \n",
       "811368    coryj111      NaN   None      4   18  Saturday  \n",
       "5042        ashfoo      NaN   None      4    7   Tuesday  "
      ]
     },
     "execution_count": 137,
     "metadata": {},
     "output_type": "execute_result"
    }
   ],
   "source": [
    "#sanity check\n",
    "pd.read_csv('cleaned_twitter_data.csv').sample(5)"
   ]
  },
  {
   "cell_type": "markdown",
   "id": "2180de05",
   "metadata": {},
   "source": [
    "---"
   ]
  },
  {
   "cell_type": "markdown",
   "id": "543fdfdf",
   "metadata": {},
   "source": [
    "## Conclusion"
   ]
  }
 ],
 "metadata": {
  "kernelspec": {
   "display_name": "Python 3 (ipykernel)",
   "language": "python",
   "name": "python3"
  },
  "language_info": {
   "codemirror_mode": {
    "name": "ipython",
    "version": 3
   },
   "file_extension": ".py",
   "mimetype": "text/x-python",
   "name": "python",
   "nbconvert_exporter": "python",
   "pygments_lexer": "ipython3",
   "version": "3.10.9"
  }
 },
 "nbformat": 4,
 "nbformat_minor": 5
}
