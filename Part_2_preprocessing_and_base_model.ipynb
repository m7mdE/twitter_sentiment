{
 "cells": [
  {
   "cell_type": "markdown",
   "id": "b0b4b579",
   "metadata": {},
   "source": [
    "# Twitter Sentiment Capstone\n",
    "\n",
    "**Author: Mohamed Emran**\n",
    "\n",
    "**Date: 6/26/2023**"
   ]
  },
  {
   "cell_type": "markdown",
   "id": "9c890741",
   "metadata": {},
   "source": [
    "# Notebook 2 - Preprocessing and Base Model"
   ]
  },
  {
   "cell_type": "markdown",
   "id": "345c0c72",
   "metadata": {},
   "source": [
    "## Table of Contents\n",
    "\n",
    "1. [Introduction](#Introduction)<br>\n",
    "2. [Taking a Sample data](#2.-Taking-a-Sample-data)\n",
    "3. [Data Preprocessing](#3.-Data-Preprocessing)\n",
    "    - Creating Text Vector - Count Vectorizer\n",
    "    - Logistic Regression\n",
    "    - Model Evaluation\n",
    "    - Creating Text Vector - TF-IDF Vectorization\n",
    "    - Logistic Regression\n",
    "    - Model Evaluation\n",
    "4. [Saving the file](#4.-Saving-file)\n",
    "5. [Summary](#5.-Summary)\n"
   ]
  },
  {
   "cell_type": "markdown",
   "id": "cb6b73a8",
   "metadata": {
    "id": "cb6b73a8"
   },
   "source": [
    "## 1. Introduction"
   ]
  },
  {
   "cell_type": "markdown",
   "id": "45003abf",
   "metadata": {
    "id": "e9dd4919"
   },
   "source": [
    "In the previous notebook, Part 1 Data Cleaning and EDA, we performed data cleaning and Exploratory data analysis (EDA) on our dataset.\n",
    "\n",
    "In this notebook, we will cover feature enigneering, which involves `text vectorization`. In addition, trying different scaling option such as StandardScaler, MinMax and RobustScaler and finally will try out a base model which is a logistic regression.\n",
    "\n",
    "**Text vectoriziation**, is the process of transforming text into numerical and vectorizing into a set of features, will be using common techniques which are Bag Of Words (BoW Words), Term Frequency-Inverse Document Frequency ( TF-IDF)"
   ]
  },
  {
   "cell_type": "code",
   "execution_count": 222,
   "id": "1d875aec",
   "metadata": {
    "id": "1d875aec"
   },
   "outputs": [],
   "source": [
    "# import packages\n",
    "\n",
    "import pandas as pd\n",
    "import numpy as np\n",
    "# import seaborn as sns\n",
    "import matplotlib.pyplot as plt\n",
    "import re\n",
    "\n",
    "# Importing library to show a progress bar\n",
    "from tqdm.notebook import tnrange, tqdm_notebook\n",
    "\n",
    "# hide warnings\n",
    "import warnings\n",
    "warnings.filterwarnings(\"ignore\")\n",
    "\n",
    "# from sklearn.pipeline import Pipeline\n",
    "# import preprocessing library\n",
    "from sklearn.preprocessing import MinMaxScaler, StandardScaler, RobustScaler\n",
    "# from sklearn.decomposition import PCA"
   ]
  },
  {
   "cell_type": "code",
   "execution_count": 223,
   "id": "6f5d2485",
   "metadata": {
    "id": "6f5d2485"
   },
   "outputs": [],
   "source": [
    "# Import dataset\n",
    "df = pd.read_csv('cleaned_twitter_data.csv')"
   ]
  },
  {
   "cell_type": "markdown",
   "id": "7b82f290",
   "metadata": {},
   "source": [
    "Check shape of the data"
   ]
  },
  {
   "cell_type": "code",
   "execution_count": 224,
   "id": "f58760cb",
   "metadata": {},
   "outputs": [
    {
     "name": "stdout",
     "output_type": "stream",
     "text": [
      "The dataframe consists of 1581247 million rows, and 13 columns\n"
     ]
    }
   ],
   "source": [
    "print(f'The dataframe consists of {df.shape[0]} million rows, and {df.shape[1]} columns')"
   ]
  },
  {
   "cell_type": "code",
   "execution_count": 225,
   "id": "e13cc124",
   "metadata": {
    "colab": {
     "base_uri": "https://localhost:8080/",
     "height": 337
    },
    "id": "e13cc124",
    "outputId": "52f84029-b959-4f66-cd31-70b3b89d62e8"
   },
   "outputs": [
    {
     "data": {
      "text/html": [
       "<div>\n",
       "<style scoped>\n",
       "    .dataframe tbody tr th:only-of-type {\n",
       "        vertical-align: middle;\n",
       "    }\n",
       "\n",
       "    .dataframe tbody tr th {\n",
       "        vertical-align: top;\n",
       "    }\n",
       "\n",
       "    .dataframe thead th {\n",
       "        text-align: right;\n",
       "    }\n",
       "</style>\n",
       "<table border=\"1\" class=\"dataframe\">\n",
       "  <thead>\n",
       "    <tr style=\"text-align: right;\">\n",
       "      <th></th>\n",
       "      <th>Sentiment</th>\n",
       "      <th>User</th>\n",
       "      <th>Tweet</th>\n",
       "      <th>Tagging</th>\n",
       "      <th>Hashtags</th>\n",
       "      <th>Emojis</th>\n",
       "      <th>Month</th>\n",
       "      <th>Day</th>\n",
       "      <th>Year</th>\n",
       "      <th>Hour</th>\n",
       "      <th>Minutes</th>\n",
       "      <th>Seconds</th>\n",
       "      <th>DayOfWeek</th>\n",
       "    </tr>\n",
       "  </thead>\n",
       "  <tbody>\n",
       "    <tr>\n",
       "      <th>419852</th>\n",
       "      <td>0</td>\n",
       "      <td>prettyboib07</td>\n",
       "      <td>no homo but wut type of gurl would u be involv...</td>\n",
       "      <td>livingd0ll</td>\n",
       "      <td>NaN</td>\n",
       "      <td>None</td>\n",
       "      <td>6</td>\n",
       "      <td>7</td>\n",
       "      <td>2009</td>\n",
       "      <td>0</td>\n",
       "      <td>29</td>\n",
       "      <td>14</td>\n",
       "      <td>Sunday</td>\n",
       "    </tr>\n",
       "    <tr>\n",
       "      <th>1344051</th>\n",
       "      <td>1</td>\n",
       "      <td>waitfortherain</td>\n",
       "      <td>after seeing the promo for the new sonny with ...</td>\n",
       "      <td>NaN</td>\n",
       "      <td>NaN</td>\n",
       "      <td>None</td>\n",
       "      <td>6</td>\n",
       "      <td>5</td>\n",
       "      <td>2009</td>\n",
       "      <td>14</td>\n",
       "      <td>45</td>\n",
       "      <td>9</td>\n",
       "      <td>Friday</td>\n",
       "    </tr>\n",
       "  </tbody>\n",
       "</table>\n",
       "</div>"
      ],
      "text/plain": [
       "         Sentiment            User  \\\n",
       "419852           0    prettyboib07   \n",
       "1344051          1  waitfortherain   \n",
       "\n",
       "                                                     Tweet     Tagging  \\\n",
       "419852   no homo but wut type of gurl would u be involv...  livingd0ll   \n",
       "1344051  after seeing the promo for the new sonny with ...         NaN   \n",
       "\n",
       "        Hashtags Emojis  Month  Day  Year  Hour  Minutes  Seconds DayOfWeek  \n",
       "419852       NaN   None      6    7  2009     0       29       14    Sunday  \n",
       "1344051      NaN   None      6    5  2009    14       45        9    Friday  "
      ]
     },
     "execution_count": 225,
     "metadata": {},
     "output_type": "execute_result"
    }
   ],
   "source": [
    "df.sample(2)"
   ]
  },
  {
   "cell_type": "markdown",
   "id": "cf65f2f1",
   "metadata": {},
   "source": [
    "Check if there are any null values"
   ]
  },
  {
   "cell_type": "code",
   "execution_count": 226,
   "id": "54dd2be1",
   "metadata": {
    "colab": {
     "base_uri": "https://localhost:8080/"
    },
    "id": "54dd2be1",
    "outputId": "7e8eaae3-048b-494a-a2c9-624b204a24a0"
   },
   "outputs": [
    {
     "data": {
      "text/plain": [
       "Sentiment          0\n",
       "User               0\n",
       "Tweet              0\n",
       "Tagging       854040\n",
       "Hashtags     1546447\n",
       "Emojis             0\n",
       "Month              0\n",
       "Day                0\n",
       "Year               0\n",
       "Hour               0\n",
       "Minutes            0\n",
       "Seconds            0\n",
       "DayOfWeek          0\n",
       "dtype: int64"
      ]
     },
     "execution_count": 226,
     "metadata": {},
     "output_type": "execute_result"
    }
   ],
   "source": [
    "df.isna().sum()"
   ]
  },
  {
   "cell_type": "markdown",
   "id": "332411de",
   "metadata": {},
   "source": [
    "We are getting null values from `Tagging` and `Hashtags` columns we can replace it with a `None`for now"
   ]
  },
  {
   "cell_type": "code",
   "execution_count": 227,
   "id": "a92571d2",
   "metadata": {
    "id": "a92571d2"
   },
   "outputs": [],
   "source": [
    "df['Tagging'] = df['Tagging'].fillna('None')\n",
    "df['Hashtags'] = df['Hashtags'].fillna('None')"
   ]
  },
  {
   "cell_type": "code",
   "execution_count": 228,
   "id": "279c22d9",
   "metadata": {
    "colab": {
     "base_uri": "https://localhost:8080/"
    },
    "id": "279c22d9",
    "outputId": "b5730f2a-d120-4d6c-d8b1-fd05a5f2dd2e"
   },
   "outputs": [
    {
     "data": {
      "text/plain": [
       "Sentiment    0\n",
       "User         0\n",
       "Tweet        0\n",
       "Tagging      0\n",
       "Hashtags     0\n",
       "Emojis       0\n",
       "Month        0\n",
       "Day          0\n",
       "Year         0\n",
       "Hour         0\n",
       "Minutes      0\n",
       "Seconds      0\n",
       "DayOfWeek    0\n",
       "dtype: int64"
      ]
     },
     "execution_count": 228,
     "metadata": {},
     "output_type": "execute_result"
    }
   ],
   "source": [
    "df.isna().sum()"
   ]
  },
  {
   "cell_type": "markdown",
   "id": "159adeb3",
   "metadata": {},
   "source": [
    "Our Data is clean. We can move ahead"
   ]
  },
  {
   "cell_type": "markdown",
   "id": "4843d1da",
   "metadata": {
    "id": "4843d1da"
   },
   "source": [
    "### 2. Taking a Sample data"
   ]
  },
  {
   "cell_type": "code",
   "execution_count": 229,
   "id": "8b711937",
   "metadata": {
    "id": "8b711937"
   },
   "outputs": [],
   "source": [
    "# copying 5% of data\n",
    "df_chunk = df.sample(frac=0.05).copy()"
   ]
  },
  {
   "cell_type": "code",
   "execution_count": 230,
   "id": "fd978a4c",
   "metadata": {
    "colab": {
     "base_uri": "https://localhost:8080/"
    },
    "id": "fd978a4c",
    "outputId": "914908f0-277c-4245-c47d-566ead91f07e"
   },
   "outputs": [
    {
     "name": "stdout",
     "output_type": "stream",
     "text": [
      "The dataframe consists of 1581247 million rows, and 13 columns\n"
     ]
    }
   ],
   "source": [
    "print(f'The dataframe consists of {df.shape[0]} million rows, and {df.shape[1]} columns')"
   ]
  },
  {
   "cell_type": "code",
   "execution_count": 231,
   "id": "81523bad",
   "metadata": {
    "colab": {
     "base_uri": "https://localhost:8080/"
    },
    "id": "81523bad",
    "outputId": "045dbdfc-9401-42fa-cf30-fd9d83bd9d07"
   },
   "outputs": [
    {
     "data": {
      "text/plain": [
       "0    39578\n",
       "1    39484\n",
       "Name: Sentiment, dtype: int64"
      ]
     },
     "execution_count": 231,
     "metadata": {},
     "output_type": "execute_result"
    }
   ],
   "source": [
    "df_chunk['Sentiment'].value_counts()"
   ]
  },
  {
   "cell_type": "code",
   "execution_count": 232,
   "id": "d8e689c7",
   "metadata": {},
   "outputs": [
    {
     "data": {
      "text/plain": [
       "0    0.500594\n",
       "1    0.499406\n",
       "Name: Sentiment, dtype: float64"
      ]
     },
     "execution_count": 232,
     "metadata": {},
     "output_type": "execute_result"
    }
   ],
   "source": [
    "df_chunk['Sentiment'].value_counts(normalize=True)"
   ]
  },
  {
   "cell_type": "markdown",
   "id": "60a5c3eb",
   "metadata": {},
   "source": [
    "After taking a sample data, our sentiment data are still normally distributed"
   ]
  },
  {
   "cell_type": "code",
   "execution_count": 233,
   "id": "abdf02af",
   "metadata": {},
   "outputs": [],
   "source": [
    "# Reseting the index after taking the sample data\n",
    "df_chunk = df_chunk.reset_index(drop=True)"
   ]
  },
  {
   "cell_type": "code",
   "execution_count": 234,
   "id": "b16c446c",
   "metadata": {},
   "outputs": [
    {
     "data": {
      "text/html": [
       "<div>\n",
       "<style scoped>\n",
       "    .dataframe tbody tr th:only-of-type {\n",
       "        vertical-align: middle;\n",
       "    }\n",
       "\n",
       "    .dataframe tbody tr th {\n",
       "        vertical-align: top;\n",
       "    }\n",
       "\n",
       "    .dataframe thead th {\n",
       "        text-align: right;\n",
       "    }\n",
       "</style>\n",
       "<table border=\"1\" class=\"dataframe\">\n",
       "  <thead>\n",
       "    <tr style=\"text-align: right;\">\n",
       "      <th></th>\n",
       "      <th>Sentiment</th>\n",
       "      <th>User</th>\n",
       "      <th>Tweet</th>\n",
       "      <th>Tagging</th>\n",
       "      <th>Hashtags</th>\n",
       "      <th>Emojis</th>\n",
       "      <th>Month</th>\n",
       "      <th>Day</th>\n",
       "      <th>Year</th>\n",
       "      <th>Hour</th>\n",
       "      <th>Minutes</th>\n",
       "      <th>Seconds</th>\n",
       "      <th>DayOfWeek</th>\n",
       "    </tr>\n",
       "  </thead>\n",
       "  <tbody>\n",
       "    <tr>\n",
       "      <th>0</th>\n",
       "      <td>0</td>\n",
       "      <td>liam_says</td>\n",
       "      <td>any way to get soundcheck entrance to nj show ...</td>\n",
       "      <td>yelyahwilliams</td>\n",
       "      <td>None</td>\n",
       "      <td>None</td>\n",
       "      <td>6</td>\n",
       "      <td>17</td>\n",
       "      <td>2009</td>\n",
       "      <td>17</td>\n",
       "      <td>5</td>\n",
       "      <td>6</td>\n",
       "      <td>Wednesday</td>\n",
       "    </tr>\n",
       "    <tr>\n",
       "      <th>1</th>\n",
       "      <td>0</td>\n",
       "      <td>xvampyraxhavocx</td>\n",
       "      <td>bummed i wont get to talk to my girlfriend unt...</td>\n",
       "      <td>None</td>\n",
       "      <td>None</td>\n",
       "      <td>None</td>\n",
       "      <td>5</td>\n",
       "      <td>9</td>\n",
       "      <td>2009</td>\n",
       "      <td>19</td>\n",
       "      <td>40</td>\n",
       "      <td>2</td>\n",
       "      <td>Saturday</td>\n",
       "    </tr>\n",
       "  </tbody>\n",
       "</table>\n",
       "</div>"
      ],
      "text/plain": [
       "   Sentiment             User  \\\n",
       "0          0        liam_says   \n",
       "1          0  xvampyraxhavocx   \n",
       "\n",
       "                                               Tweet         Tagging Hashtags  \\\n",
       "0  any way to get soundcheck entrance to nj show ...  yelyahwilliams     None   \n",
       "1  bummed i wont get to talk to my girlfriend unt...            None     None   \n",
       "\n",
       "  Emojis  Month  Day  Year  Hour  Minutes  Seconds  DayOfWeek  \n",
       "0   None      6   17  2009    17        5        6  Wednesday  \n",
       "1   None      5    9  2009    19       40        2   Saturday  "
      ]
     },
     "execution_count": 234,
     "metadata": {},
     "output_type": "execute_result"
    }
   ],
   "source": [
    "df_chunk.head(2)"
   ]
  },
  {
   "cell_type": "markdown",
   "id": "177d0fbb",
   "metadata": {
    "id": "177d0fbb"
   },
   "source": [
    "---\n",
    "### 3. Data Preprocessing"
   ]
  },
  {
   "cell_type": "code",
   "execution_count": 235,
   "id": "cd176cb6",
   "metadata": {
    "id": "cd176cb6"
   },
   "outputs": [],
   "source": [
    "# Importing libraries \n",
    "\n",
    "# splitting our data into train and test sets\n",
    "from sklearn.model_selection import train_test_split, GridSearchCV, cross_val_score\n",
    "\n",
    "# import countvectorizer and TF-IDF\n",
    "from sklearn.feature_extraction.text import CountVectorizer, TfidfVectorizer"
   ]
  },
  {
   "cell_type": "code",
   "execution_count": 236,
   "id": "2c69f2fc",
   "metadata": {
    "colab": {
     "base_uri": "https://localhost:8080/",
     "height": 191
    },
    "id": "2c69f2fc",
    "outputId": "405c1482-65c7-4ee4-d85d-9f43db9f0b10"
   },
   "outputs": [
    {
     "data": {
      "text/html": [
       "<div>\n",
       "<style scoped>\n",
       "    .dataframe tbody tr th:only-of-type {\n",
       "        vertical-align: middle;\n",
       "    }\n",
       "\n",
       "    .dataframe tbody tr th {\n",
       "        vertical-align: top;\n",
       "    }\n",
       "\n",
       "    .dataframe thead th {\n",
       "        text-align: right;\n",
       "    }\n",
       "</style>\n",
       "<table border=\"1\" class=\"dataframe\">\n",
       "  <thead>\n",
       "    <tr style=\"text-align: right;\">\n",
       "      <th></th>\n",
       "      <th>Sentiment</th>\n",
       "      <th>User</th>\n",
       "      <th>Tweet</th>\n",
       "      <th>Tagging</th>\n",
       "      <th>Hashtags</th>\n",
       "      <th>Emojis</th>\n",
       "      <th>Month</th>\n",
       "      <th>Day</th>\n",
       "      <th>Year</th>\n",
       "      <th>Hour</th>\n",
       "      <th>Minutes</th>\n",
       "      <th>Seconds</th>\n",
       "      <th>DayOfWeek</th>\n",
       "    </tr>\n",
       "  </thead>\n",
       "  <tbody>\n",
       "    <tr>\n",
       "      <th>0</th>\n",
       "      <td>0</td>\n",
       "      <td>liam_says</td>\n",
       "      <td>any way to get soundcheck entrance to nj show ...</td>\n",
       "      <td>yelyahwilliams</td>\n",
       "      <td>None</td>\n",
       "      <td>None</td>\n",
       "      <td>6</td>\n",
       "      <td>17</td>\n",
       "      <td>2009</td>\n",
       "      <td>17</td>\n",
       "      <td>5</td>\n",
       "      <td>6</td>\n",
       "      <td>Wednesday</td>\n",
       "    </tr>\n",
       "    <tr>\n",
       "      <th>1</th>\n",
       "      <td>0</td>\n",
       "      <td>xvampyraxhavocx</td>\n",
       "      <td>bummed i wont get to talk to my girlfriend unt...</td>\n",
       "      <td>None</td>\n",
       "      <td>None</td>\n",
       "      <td>None</td>\n",
       "      <td>5</td>\n",
       "      <td>9</td>\n",
       "      <td>2009</td>\n",
       "      <td>19</td>\n",
       "      <td>40</td>\n",
       "      <td>2</td>\n",
       "      <td>Saturday</td>\n",
       "    </tr>\n",
       "  </tbody>\n",
       "</table>\n",
       "</div>"
      ],
      "text/plain": [
       "   Sentiment             User  \\\n",
       "0          0        liam_says   \n",
       "1          0  xvampyraxhavocx   \n",
       "\n",
       "                                               Tweet         Tagging Hashtags  \\\n",
       "0  any way to get soundcheck entrance to nj show ...  yelyahwilliams     None   \n",
       "1  bummed i wont get to talk to my girlfriend unt...            None     None   \n",
       "\n",
       "  Emojis  Month  Day  Year  Hour  Minutes  Seconds  DayOfWeek  \n",
       "0   None      6   17  2009    17        5        6  Wednesday  \n",
       "1   None      5    9  2009    19       40        2   Saturday  "
      ]
     },
     "execution_count": 236,
     "metadata": {},
     "output_type": "execute_result"
    }
   ],
   "source": [
    "df_chunk.head(2)"
   ]
  },
  {
   "cell_type": "markdown",
   "id": "ca250649",
   "metadata": {},
   "source": [
    "Let's split our data into train and test sets\n",
    "\n",
    "    - Independent varaiable: Tweet\n",
    "    - Dependent variable: Sentiment"
   ]
  },
  {
   "cell_type": "code",
   "execution_count": 237,
   "id": "6172598a",
   "metadata": {
    "id": "6172598a"
   },
   "outputs": [],
   "source": [
    "X = pd.DataFrame(df_chunk['Tweet']) # indep\n",
    "y = df_chunk[\"Sentiment\"] # dep"
   ]
  },
  {
   "cell_type": "markdown",
   "id": "55989636",
   "metadata": {},
   "source": [
    "Check the shape of the Data after split"
   ]
  },
  {
   "cell_type": "code",
   "execution_count": 238,
   "id": "f4893c1f",
   "metadata": {},
   "outputs": [
    {
     "data": {
      "text/plain": [
       "(79062, 1)"
      ]
     },
     "execution_count": 238,
     "metadata": {},
     "output_type": "execute_result"
    }
   ],
   "source": [
    "X.shape"
   ]
  },
  {
   "cell_type": "code",
   "execution_count": 239,
   "id": "9074b8f2",
   "metadata": {},
   "outputs": [
    {
     "data": {
      "text/plain": [
       "(79062,)"
      ]
     },
     "execution_count": 239,
     "metadata": {},
     "output_type": "execute_result"
    }
   ],
   "source": [
    "y.shape"
   ]
  },
  {
   "cell_type": "code",
   "execution_count": 240,
   "id": "b52a072a",
   "metadata": {
    "id": "b52a072a"
   },
   "outputs": [],
   "source": [
    "# Test set 20 percent\n",
    "X_rem, X_test, y_rem, y_test = train_test_split(X, y, stratify=y, test_size = 0.2, random_state=1)"
   ]
  },
  {
   "cell_type": "code",
   "execution_count": 241,
   "id": "fXgfm-TkV1Cj",
   "metadata": {
    "id": "fXgfm-TkV1Cj"
   },
   "outputs": [],
   "source": [
    "# Splitting the remainder in two chunks\n",
    "X_train, X_val, y_train, y_val = train_test_split(X_rem, y_rem, test_size = 0.3, stratify=y_rem, random_state=1)"
   ]
  },
  {
   "cell_type": "code",
   "execution_count": 242,
   "id": "9EniotSkWC3I",
   "metadata": {
    "colab": {
     "base_uri": "https://localhost:8080/"
    },
    "id": "9EniotSkWC3I",
    "outputId": "fcbc7e3c-099f-41de-8994-964666c57906"
   },
   "outputs": [
    {
     "name": "stdout",
     "output_type": "stream",
     "text": [
      "Shape of X-test set: (15813, 1)\n",
      "Shape of X remainder set: (63249, 1)\n",
      "Shape of validation set: (18975, 1)\n",
      "Shape of train set: (44274, 1)\n"
     ]
    }
   ],
   "source": [
    "print(f'Shape of X-test set: {X_test.shape}')\n",
    "print(f'Shape of X remainder set: {X_rem.shape}')\n",
    "\n",
    "print(f'Shape of validation set: {X_val.shape}')\n",
    "print(f'Shape of train set: {X_train.shape}')"
   ]
  },
  {
   "cell_type": "markdown",
   "id": "h_znkg7iYWKo",
   "metadata": {
    "id": "h_znkg7iYWKo"
   },
   "source": [
    "Our final proportions end up being\n",
    "* Test Set: *0.2*\n",
    "* Validation Set:  0.8 * 0.3 = *0.24*\n",
    "* Training Set: 0.8 * 0.7 = *0.56*"
   ]
  },
  {
   "cell_type": "markdown",
   "id": "a013f83c",
   "metadata": {},
   "source": [
    "### Creating Text Vector - Count Vectorizer\n",
    "\n",
    "We have to keep in mind vectorizing the text data could be alot of features been created, which may consume computation power.\n",
    "\n",
    "Let's go ahead and check how many features will it create"
   ]
  },
  {
   "cell_type": "code",
   "execution_count": 243,
   "id": "1d213571",
   "metadata": {},
   "outputs": [],
   "source": [
    "# Initialize countvectorizer\n",
    "bagofwords_vector = CountVectorizer(stop_words=\"english\")\n",
    "\n",
    "bagofwords_vector.fit(X_train['Tweet'])\n",
    "\n",
    "X_train_transform = bagofwords_vector.transform(X_train['Tweet'])\n",
    "X_val_transform = bagofwords_vector.transform(X_val['Tweet'])\n",
    "X_test_transform = bagofwords_vector.transform(X_test['Tweet'])"
   ]
  },
  {
   "cell_type": "code",
   "execution_count": 244,
   "id": "a884dbb7",
   "metadata": {},
   "outputs": [
    {
     "data": {
      "text/plain": [
       "<44274x34526 sparse matrix of type '<class 'numpy.int64'>'\n",
       "\twith 276488 stored elements in Compressed Sparse Row format>"
      ]
     },
     "execution_count": 244,
     "metadata": {},
     "output_type": "execute_result"
    }
   ],
   "source": [
    "X_train_transform"
   ]
  },
  {
   "cell_type": "code",
   "execution_count": 245,
   "id": "0d80b4e3-49a5-424b-8d05-8a80ac4258cc",
   "metadata": {},
   "outputs": [
    {
     "data": {
      "text/plain": [
       "<18975x34526 sparse matrix of type '<class 'numpy.int64'>'\n",
       "\twith 108407 stored elements in Compressed Sparse Row format>"
      ]
     },
     "execution_count": 245,
     "metadata": {},
     "output_type": "execute_result"
    }
   ],
   "source": [
    "X_val_transform"
   ]
  },
  {
   "cell_type": "code",
   "execution_count": 246,
   "id": "73d97e3d-d275-4311-b9e0-649c300e9401",
   "metadata": {},
   "outputs": [
    {
     "data": {
      "text/plain": [
       "<15813x34526 sparse matrix of type '<class 'numpy.int64'>'\n",
       "\twith 90719 stored elements in Compressed Sparse Row format>"
      ]
     },
     "execution_count": 246,
     "metadata": {},
     "output_type": "execute_result"
    }
   ],
   "source": [
    "X_test_transform"
   ]
  },
  {
   "cell_type": "markdown",
   "id": "fea3ea72",
   "metadata": {},
   "source": [
    "A total of 34,971 unique words which is a lot of features had been created. This will slow down in running a model in our local machine.\n",
    "\n",
    "I shall set min_df for CountVectorizer, to help filter out the less relevant, and max features hyperparameter will be set to 2000, which will only allow 2000 most used part of the vectorized result. \n",
    "\n",
    "Moreover, will also include lemmitizer, where each word is mapped to a fixed meaningful form, and n-grams will help us preserve the order of words that is mostly lost in the bag-of-words model."
   ]
  },
  {
   "cell_type": "code",
   "execution_count": 247,
   "id": "628cfa50",
   "metadata": {},
   "outputs": [],
   "source": [
    "# importing nltk package\n",
    "import nltk\n",
    "from nltk.stem import WordNetLemmatizer"
   ]
  },
  {
   "cell_type": "code",
   "execution_count": 248,
   "id": "9bc2f262",
   "metadata": {
    "id": "9bc2f262"
   },
   "outputs": [],
   "source": [
    "# initialize WordNetLemmatizer\n",
    "lemmatizer_bow = WordNetLemmatizer()\n",
    "\n",
    "# Initialize countvectorizer\n",
    "bagofwords_vector = CountVectorizer(stop_words=\"english\",\n",
    "                                    tokenizer=lambda x: [lemmatizer_bow.lemmatize(i) for i in x.split()], \n",
    "                                    min_df=3, max_features=2000, ngram_range=(1, 3))\n",
    "# Fit\n",
    "bagofwords_vector.fit(X_train['Tweet'])\n",
    "\n",
    "# transform\n",
    "X_train_transform = bagofwords_vector.transform(X_train['Tweet'])\n",
    "X_val_transform = bagofwords_vector.transform(X_val['Tweet'])\n",
    "X_test_transform = bagofwords_vector.transform(X_test['Tweet'])"
   ]
  },
  {
   "cell_type": "code",
   "execution_count": 249,
   "id": "2717fd74",
   "metadata": {},
   "outputs": [
    {
     "data": {
      "text/plain": [
       "<44274x2000 sparse matrix of type '<class 'numpy.int64'>'\n",
       "\twith 226179 stored elements in Compressed Sparse Row format>"
      ]
     },
     "execution_count": 249,
     "metadata": {},
     "output_type": "execute_result"
    }
   ],
   "source": [
    "# check the shape after vectorizing\n",
    "X_train_transform"
   ]
  },
  {
   "cell_type": "code",
   "execution_count": 250,
   "id": "9424a1f4-f3e5-4240-ae62-29bee1c822a4",
   "metadata": {},
   "outputs": [
    {
     "data": {
      "text/plain": [
       "<18975x2000 sparse matrix of type '<class 'numpy.int64'>'\n",
       "\twith 95401 stored elements in Compressed Sparse Row format>"
      ]
     },
     "execution_count": 250,
     "metadata": {},
     "output_type": "execute_result"
    }
   ],
   "source": [
    "X_val_transform"
   ]
  },
  {
   "cell_type": "code",
   "execution_count": 251,
   "id": "348e4fe3-2178-41a2-b9af-3935190701c7",
   "metadata": {},
   "outputs": [
    {
     "data": {
      "text/plain": [
       "<15813x2000 sparse matrix of type '<class 'numpy.int64'>'\n",
       "\twith 79768 stored elements in Compressed Sparse Row format>"
      ]
     },
     "execution_count": 251,
     "metadata": {},
     "output_type": "execute_result"
    }
   ],
   "source": [
    "# check the shape after vectorizing\n",
    "X_test_transform"
   ]
  },
  {
   "cell_type": "markdown",
   "id": "b37fb5ea",
   "metadata": {
    "id": "qz3TgfaGPzFX"
   },
   "source": [
    "After setting the hyperparameter the total unique words has gone down from 34,971 to 2000. \n",
    "\n",
    "We still consider 2000 unique words are alot but can work fine with our baseline model"
   ]
  },
  {
   "cell_type": "code",
   "execution_count": 252,
   "id": "accf0396",
   "metadata": {},
   "outputs": [
    {
     "data": {
      "text/html": [
       "<div>\n",
       "<style scoped>\n",
       "    .dataframe tbody tr th:only-of-type {\n",
       "        vertical-align: middle;\n",
       "    }\n",
       "\n",
       "    .dataframe tbody tr th {\n",
       "        vertical-align: top;\n",
       "    }\n",
       "\n",
       "    .dataframe thead th {\n",
       "        text-align: right;\n",
       "    }\n",
       "</style>\n",
       "<table border=\"1\" class=\"dataframe\">\n",
       "  <thead>\n",
       "    <tr style=\"text-align: right;\">\n",
       "      <th></th>\n",
       "      <th>able</th>\n",
       "      <th>absolutely</th>\n",
       "      <th>abt</th>\n",
       "      <th>accident</th>\n",
       "      <th>account</th>\n",
       "      <th>ache</th>\n",
       "      <th>act</th>\n",
       "      <th>action</th>\n",
       "      <th>actually</th>\n",
       "      <th>ad</th>\n",
       "      <th>...</th>\n",
       "      <th>youre</th>\n",
       "      <th>youre welcome</th>\n",
       "      <th>youtube</th>\n",
       "      <th>youve</th>\n",
       "      <th>youve got</th>\n",
       "      <th>yr</th>\n",
       "      <th>yum</th>\n",
       "      <th>yummy</th>\n",
       "      <th>yup</th>\n",
       "      <th>z</th>\n",
       "    </tr>\n",
       "  </thead>\n",
       "  <tbody>\n",
       "    <tr>\n",
       "      <th>0</th>\n",
       "      <td>0</td>\n",
       "      <td>0</td>\n",
       "      <td>0</td>\n",
       "      <td>0</td>\n",
       "      <td>0</td>\n",
       "      <td>0</td>\n",
       "      <td>0</td>\n",
       "      <td>0</td>\n",
       "      <td>0</td>\n",
       "      <td>0</td>\n",
       "      <td>...</td>\n",
       "      <td>1</td>\n",
       "      <td>0</td>\n",
       "      <td>0</td>\n",
       "      <td>0</td>\n",
       "      <td>0</td>\n",
       "      <td>0</td>\n",
       "      <td>0</td>\n",
       "      <td>0</td>\n",
       "      <td>0</td>\n",
       "      <td>0</td>\n",
       "    </tr>\n",
       "    <tr>\n",
       "      <th>1</th>\n",
       "      <td>0</td>\n",
       "      <td>0</td>\n",
       "      <td>0</td>\n",
       "      <td>0</td>\n",
       "      <td>0</td>\n",
       "      <td>0</td>\n",
       "      <td>0</td>\n",
       "      <td>0</td>\n",
       "      <td>0</td>\n",
       "      <td>0</td>\n",
       "      <td>...</td>\n",
       "      <td>0</td>\n",
       "      <td>0</td>\n",
       "      <td>0</td>\n",
       "      <td>0</td>\n",
       "      <td>0</td>\n",
       "      <td>0</td>\n",
       "      <td>0</td>\n",
       "      <td>0</td>\n",
       "      <td>0</td>\n",
       "      <td>0</td>\n",
       "    </tr>\n",
       "    <tr>\n",
       "      <th>2</th>\n",
       "      <td>0</td>\n",
       "      <td>0</td>\n",
       "      <td>0</td>\n",
       "      <td>0</td>\n",
       "      <td>0</td>\n",
       "      <td>0</td>\n",
       "      <td>0</td>\n",
       "      <td>0</td>\n",
       "      <td>0</td>\n",
       "      <td>0</td>\n",
       "      <td>...</td>\n",
       "      <td>0</td>\n",
       "      <td>0</td>\n",
       "      <td>0</td>\n",
       "      <td>0</td>\n",
       "      <td>0</td>\n",
       "      <td>0</td>\n",
       "      <td>0</td>\n",
       "      <td>0</td>\n",
       "      <td>0</td>\n",
       "      <td>0</td>\n",
       "    </tr>\n",
       "    <tr>\n",
       "      <th>3</th>\n",
       "      <td>0</td>\n",
       "      <td>0</td>\n",
       "      <td>0</td>\n",
       "      <td>0</td>\n",
       "      <td>0</td>\n",
       "      <td>0</td>\n",
       "      <td>0</td>\n",
       "      <td>0</td>\n",
       "      <td>0</td>\n",
       "      <td>0</td>\n",
       "      <td>...</td>\n",
       "      <td>0</td>\n",
       "      <td>0</td>\n",
       "      <td>0</td>\n",
       "      <td>0</td>\n",
       "      <td>0</td>\n",
       "      <td>0</td>\n",
       "      <td>0</td>\n",
       "      <td>0</td>\n",
       "      <td>0</td>\n",
       "      <td>0</td>\n",
       "    </tr>\n",
       "    <tr>\n",
       "      <th>4</th>\n",
       "      <td>0</td>\n",
       "      <td>0</td>\n",
       "      <td>0</td>\n",
       "      <td>0</td>\n",
       "      <td>0</td>\n",
       "      <td>0</td>\n",
       "      <td>0</td>\n",
       "      <td>0</td>\n",
       "      <td>0</td>\n",
       "      <td>0</td>\n",
       "      <td>...</td>\n",
       "      <td>0</td>\n",
       "      <td>0</td>\n",
       "      <td>0</td>\n",
       "      <td>0</td>\n",
       "      <td>0</td>\n",
       "      <td>0</td>\n",
       "      <td>0</td>\n",
       "      <td>0</td>\n",
       "      <td>0</td>\n",
       "      <td>0</td>\n",
       "    </tr>\n",
       "    <tr>\n",
       "      <th>...</th>\n",
       "      <td>...</td>\n",
       "      <td>...</td>\n",
       "      <td>...</td>\n",
       "      <td>...</td>\n",
       "      <td>...</td>\n",
       "      <td>...</td>\n",
       "      <td>...</td>\n",
       "      <td>...</td>\n",
       "      <td>...</td>\n",
       "      <td>...</td>\n",
       "      <td>...</td>\n",
       "      <td>...</td>\n",
       "      <td>...</td>\n",
       "      <td>...</td>\n",
       "      <td>...</td>\n",
       "      <td>...</td>\n",
       "      <td>...</td>\n",
       "      <td>...</td>\n",
       "      <td>...</td>\n",
       "      <td>...</td>\n",
       "      <td>...</td>\n",
       "    </tr>\n",
       "    <tr>\n",
       "      <th>44269</th>\n",
       "      <td>0</td>\n",
       "      <td>0</td>\n",
       "      <td>0</td>\n",
       "      <td>0</td>\n",
       "      <td>0</td>\n",
       "      <td>0</td>\n",
       "      <td>0</td>\n",
       "      <td>0</td>\n",
       "      <td>0</td>\n",
       "      <td>0</td>\n",
       "      <td>...</td>\n",
       "      <td>0</td>\n",
       "      <td>0</td>\n",
       "      <td>0</td>\n",
       "      <td>0</td>\n",
       "      <td>0</td>\n",
       "      <td>0</td>\n",
       "      <td>0</td>\n",
       "      <td>0</td>\n",
       "      <td>0</td>\n",
       "      <td>0</td>\n",
       "    </tr>\n",
       "    <tr>\n",
       "      <th>44270</th>\n",
       "      <td>0</td>\n",
       "      <td>0</td>\n",
       "      <td>0</td>\n",
       "      <td>0</td>\n",
       "      <td>0</td>\n",
       "      <td>0</td>\n",
       "      <td>0</td>\n",
       "      <td>0</td>\n",
       "      <td>0</td>\n",
       "      <td>0</td>\n",
       "      <td>...</td>\n",
       "      <td>0</td>\n",
       "      <td>0</td>\n",
       "      <td>0</td>\n",
       "      <td>0</td>\n",
       "      <td>0</td>\n",
       "      <td>0</td>\n",
       "      <td>0</td>\n",
       "      <td>0</td>\n",
       "      <td>0</td>\n",
       "      <td>0</td>\n",
       "    </tr>\n",
       "    <tr>\n",
       "      <th>44271</th>\n",
       "      <td>0</td>\n",
       "      <td>0</td>\n",
       "      <td>0</td>\n",
       "      <td>0</td>\n",
       "      <td>0</td>\n",
       "      <td>0</td>\n",
       "      <td>0</td>\n",
       "      <td>0</td>\n",
       "      <td>0</td>\n",
       "      <td>0</td>\n",
       "      <td>...</td>\n",
       "      <td>0</td>\n",
       "      <td>0</td>\n",
       "      <td>0</td>\n",
       "      <td>0</td>\n",
       "      <td>0</td>\n",
       "      <td>0</td>\n",
       "      <td>0</td>\n",
       "      <td>0</td>\n",
       "      <td>0</td>\n",
       "      <td>0</td>\n",
       "    </tr>\n",
       "    <tr>\n",
       "      <th>44272</th>\n",
       "      <td>0</td>\n",
       "      <td>0</td>\n",
       "      <td>0</td>\n",
       "      <td>0</td>\n",
       "      <td>0</td>\n",
       "      <td>0</td>\n",
       "      <td>0</td>\n",
       "      <td>0</td>\n",
       "      <td>0</td>\n",
       "      <td>0</td>\n",
       "      <td>...</td>\n",
       "      <td>0</td>\n",
       "      <td>0</td>\n",
       "      <td>0</td>\n",
       "      <td>0</td>\n",
       "      <td>0</td>\n",
       "      <td>0</td>\n",
       "      <td>0</td>\n",
       "      <td>0</td>\n",
       "      <td>0</td>\n",
       "      <td>0</td>\n",
       "    </tr>\n",
       "    <tr>\n",
       "      <th>44273</th>\n",
       "      <td>0</td>\n",
       "      <td>0</td>\n",
       "      <td>0</td>\n",
       "      <td>0</td>\n",
       "      <td>0</td>\n",
       "      <td>0</td>\n",
       "      <td>0</td>\n",
       "      <td>0</td>\n",
       "      <td>0</td>\n",
       "      <td>0</td>\n",
       "      <td>...</td>\n",
       "      <td>0</td>\n",
       "      <td>0</td>\n",
       "      <td>0</td>\n",
       "      <td>0</td>\n",
       "      <td>0</td>\n",
       "      <td>0</td>\n",
       "      <td>0</td>\n",
       "      <td>0</td>\n",
       "      <td>0</td>\n",
       "      <td>0</td>\n",
       "    </tr>\n",
       "  </tbody>\n",
       "</table>\n",
       "<p>44274 rows × 2000 columns</p>\n",
       "</div>"
      ],
      "text/plain": [
       "       able  absolutely  abt  accident  account  ache  act  action  actually  \\\n",
       "0         0           0    0         0        0     0    0       0         0   \n",
       "1         0           0    0         0        0     0    0       0         0   \n",
       "2         0           0    0         0        0     0    0       0         0   \n",
       "3         0           0    0         0        0     0    0       0         0   \n",
       "4         0           0    0         0        0     0    0       0         0   \n",
       "...     ...         ...  ...       ...      ...   ...  ...     ...       ...   \n",
       "44269     0           0    0         0        0     0    0       0         0   \n",
       "44270     0           0    0         0        0     0    0       0         0   \n",
       "44271     0           0    0         0        0     0    0       0         0   \n",
       "44272     0           0    0         0        0     0    0       0         0   \n",
       "44273     0           0    0         0        0     0    0       0         0   \n",
       "\n",
       "       ad  ...  youre  youre welcome  youtube  youve  youve got  yr  yum  \\\n",
       "0       0  ...      1              0        0      0          0   0    0   \n",
       "1       0  ...      0              0        0      0          0   0    0   \n",
       "2       0  ...      0              0        0      0          0   0    0   \n",
       "3       0  ...      0              0        0      0          0   0    0   \n",
       "4       0  ...      0              0        0      0          0   0    0   \n",
       "...    ..  ...    ...            ...      ...    ...        ...  ..  ...   \n",
       "44269   0  ...      0              0        0      0          0   0    0   \n",
       "44270   0  ...      0              0        0      0          0   0    0   \n",
       "44271   0  ...      0              0        0      0          0   0    0   \n",
       "44272   0  ...      0              0        0      0          0   0    0   \n",
       "44273   0  ...      0              0        0      0          0   0    0   \n",
       "\n",
       "       yummy  yup  z  \n",
       "0          0    0  0  \n",
       "1          0    0  0  \n",
       "2          0    0  0  \n",
       "3          0    0  0  \n",
       "4          0    0  0  \n",
       "...      ...  ... ..  \n",
       "44269      0    0  0  \n",
       "44270      0    0  0  \n",
       "44271      0    0  0  \n",
       "44272      0    0  0  \n",
       "44273      0    0  0  \n",
       "\n",
       "[44274 rows x 2000 columns]"
      ]
     },
     "execution_count": 252,
     "metadata": {},
     "output_type": "execute_result"
    }
   ],
   "source": [
    "# We can extract the information and put it in a data frame to make it easier to see what has occured\n",
    "X_train_df_vect = pd.DataFrame(columns=bagofwords_vector.get_feature_names_out(), data=X_train_transform.toarray())\n",
    "X_train_df_vect"
   ]
  },
  {
   "cell_type": "code",
   "execution_count": 253,
   "id": "67797035-4a35-4085-82fe-9e52f3065a76",
   "metadata": {},
   "outputs": [
    {
     "data": {
      "text/html": [
       "<div>\n",
       "<style scoped>\n",
       "    .dataframe tbody tr th:only-of-type {\n",
       "        vertical-align: middle;\n",
       "    }\n",
       "\n",
       "    .dataframe tbody tr th {\n",
       "        vertical-align: top;\n",
       "    }\n",
       "\n",
       "    .dataframe thead th {\n",
       "        text-align: right;\n",
       "    }\n",
       "</style>\n",
       "<table border=\"1\" class=\"dataframe\">\n",
       "  <thead>\n",
       "    <tr style=\"text-align: right;\">\n",
       "      <th></th>\n",
       "      <th>able</th>\n",
       "      <th>absolutely</th>\n",
       "      <th>abt</th>\n",
       "      <th>accident</th>\n",
       "      <th>account</th>\n",
       "      <th>ache</th>\n",
       "      <th>act</th>\n",
       "      <th>action</th>\n",
       "      <th>actually</th>\n",
       "      <th>ad</th>\n",
       "      <th>...</th>\n",
       "      <th>youre</th>\n",
       "      <th>youre welcome</th>\n",
       "      <th>youtube</th>\n",
       "      <th>youve</th>\n",
       "      <th>youve got</th>\n",
       "      <th>yr</th>\n",
       "      <th>yum</th>\n",
       "      <th>yummy</th>\n",
       "      <th>yup</th>\n",
       "      <th>z</th>\n",
       "    </tr>\n",
       "  </thead>\n",
       "  <tbody>\n",
       "    <tr>\n",
       "      <th>0</th>\n",
       "      <td>0</td>\n",
       "      <td>0</td>\n",
       "      <td>0</td>\n",
       "      <td>0</td>\n",
       "      <td>0</td>\n",
       "      <td>0</td>\n",
       "      <td>0</td>\n",
       "      <td>0</td>\n",
       "      <td>0</td>\n",
       "      <td>0</td>\n",
       "      <td>...</td>\n",
       "      <td>0</td>\n",
       "      <td>0</td>\n",
       "      <td>0</td>\n",
       "      <td>0</td>\n",
       "      <td>0</td>\n",
       "      <td>0</td>\n",
       "      <td>0</td>\n",
       "      <td>0</td>\n",
       "      <td>0</td>\n",
       "      <td>0</td>\n",
       "    </tr>\n",
       "    <tr>\n",
       "      <th>1</th>\n",
       "      <td>0</td>\n",
       "      <td>0</td>\n",
       "      <td>0</td>\n",
       "      <td>0</td>\n",
       "      <td>0</td>\n",
       "      <td>0</td>\n",
       "      <td>0</td>\n",
       "      <td>0</td>\n",
       "      <td>0</td>\n",
       "      <td>0</td>\n",
       "      <td>...</td>\n",
       "      <td>0</td>\n",
       "      <td>0</td>\n",
       "      <td>0</td>\n",
       "      <td>0</td>\n",
       "      <td>0</td>\n",
       "      <td>0</td>\n",
       "      <td>0</td>\n",
       "      <td>0</td>\n",
       "      <td>0</td>\n",
       "      <td>0</td>\n",
       "    </tr>\n",
       "    <tr>\n",
       "      <th>2</th>\n",
       "      <td>0</td>\n",
       "      <td>0</td>\n",
       "      <td>0</td>\n",
       "      <td>0</td>\n",
       "      <td>0</td>\n",
       "      <td>0</td>\n",
       "      <td>0</td>\n",
       "      <td>0</td>\n",
       "      <td>0</td>\n",
       "      <td>0</td>\n",
       "      <td>...</td>\n",
       "      <td>0</td>\n",
       "      <td>0</td>\n",
       "      <td>0</td>\n",
       "      <td>0</td>\n",
       "      <td>0</td>\n",
       "      <td>0</td>\n",
       "      <td>0</td>\n",
       "      <td>0</td>\n",
       "      <td>0</td>\n",
       "      <td>0</td>\n",
       "    </tr>\n",
       "    <tr>\n",
       "      <th>3</th>\n",
       "      <td>0</td>\n",
       "      <td>0</td>\n",
       "      <td>0</td>\n",
       "      <td>0</td>\n",
       "      <td>0</td>\n",
       "      <td>0</td>\n",
       "      <td>0</td>\n",
       "      <td>0</td>\n",
       "      <td>0</td>\n",
       "      <td>0</td>\n",
       "      <td>...</td>\n",
       "      <td>0</td>\n",
       "      <td>0</td>\n",
       "      <td>0</td>\n",
       "      <td>0</td>\n",
       "      <td>0</td>\n",
       "      <td>0</td>\n",
       "      <td>0</td>\n",
       "      <td>0</td>\n",
       "      <td>0</td>\n",
       "      <td>0</td>\n",
       "    </tr>\n",
       "    <tr>\n",
       "      <th>4</th>\n",
       "      <td>0</td>\n",
       "      <td>0</td>\n",
       "      <td>0</td>\n",
       "      <td>0</td>\n",
       "      <td>0</td>\n",
       "      <td>0</td>\n",
       "      <td>0</td>\n",
       "      <td>0</td>\n",
       "      <td>0</td>\n",
       "      <td>0</td>\n",
       "      <td>...</td>\n",
       "      <td>0</td>\n",
       "      <td>0</td>\n",
       "      <td>0</td>\n",
       "      <td>0</td>\n",
       "      <td>0</td>\n",
       "      <td>0</td>\n",
       "      <td>0</td>\n",
       "      <td>0</td>\n",
       "      <td>0</td>\n",
       "      <td>0</td>\n",
       "    </tr>\n",
       "    <tr>\n",
       "      <th>...</th>\n",
       "      <td>...</td>\n",
       "      <td>...</td>\n",
       "      <td>...</td>\n",
       "      <td>...</td>\n",
       "      <td>...</td>\n",
       "      <td>...</td>\n",
       "      <td>...</td>\n",
       "      <td>...</td>\n",
       "      <td>...</td>\n",
       "      <td>...</td>\n",
       "      <td>...</td>\n",
       "      <td>...</td>\n",
       "      <td>...</td>\n",
       "      <td>...</td>\n",
       "      <td>...</td>\n",
       "      <td>...</td>\n",
       "      <td>...</td>\n",
       "      <td>...</td>\n",
       "      <td>...</td>\n",
       "      <td>...</td>\n",
       "      <td>...</td>\n",
       "    </tr>\n",
       "    <tr>\n",
       "      <th>18970</th>\n",
       "      <td>0</td>\n",
       "      <td>0</td>\n",
       "      <td>0</td>\n",
       "      <td>0</td>\n",
       "      <td>0</td>\n",
       "      <td>0</td>\n",
       "      <td>0</td>\n",
       "      <td>0</td>\n",
       "      <td>0</td>\n",
       "      <td>0</td>\n",
       "      <td>...</td>\n",
       "      <td>0</td>\n",
       "      <td>0</td>\n",
       "      <td>0</td>\n",
       "      <td>0</td>\n",
       "      <td>0</td>\n",
       "      <td>0</td>\n",
       "      <td>0</td>\n",
       "      <td>0</td>\n",
       "      <td>0</td>\n",
       "      <td>0</td>\n",
       "    </tr>\n",
       "    <tr>\n",
       "      <th>18971</th>\n",
       "      <td>0</td>\n",
       "      <td>0</td>\n",
       "      <td>0</td>\n",
       "      <td>0</td>\n",
       "      <td>0</td>\n",
       "      <td>0</td>\n",
       "      <td>0</td>\n",
       "      <td>0</td>\n",
       "      <td>0</td>\n",
       "      <td>0</td>\n",
       "      <td>...</td>\n",
       "      <td>0</td>\n",
       "      <td>0</td>\n",
       "      <td>0</td>\n",
       "      <td>0</td>\n",
       "      <td>0</td>\n",
       "      <td>0</td>\n",
       "      <td>0</td>\n",
       "      <td>0</td>\n",
       "      <td>0</td>\n",
       "      <td>0</td>\n",
       "    </tr>\n",
       "    <tr>\n",
       "      <th>18972</th>\n",
       "      <td>0</td>\n",
       "      <td>0</td>\n",
       "      <td>0</td>\n",
       "      <td>0</td>\n",
       "      <td>0</td>\n",
       "      <td>0</td>\n",
       "      <td>0</td>\n",
       "      <td>0</td>\n",
       "      <td>0</td>\n",
       "      <td>0</td>\n",
       "      <td>...</td>\n",
       "      <td>0</td>\n",
       "      <td>0</td>\n",
       "      <td>0</td>\n",
       "      <td>0</td>\n",
       "      <td>0</td>\n",
       "      <td>0</td>\n",
       "      <td>0</td>\n",
       "      <td>0</td>\n",
       "      <td>0</td>\n",
       "      <td>0</td>\n",
       "    </tr>\n",
       "    <tr>\n",
       "      <th>18973</th>\n",
       "      <td>0</td>\n",
       "      <td>0</td>\n",
       "      <td>0</td>\n",
       "      <td>0</td>\n",
       "      <td>0</td>\n",
       "      <td>0</td>\n",
       "      <td>0</td>\n",
       "      <td>0</td>\n",
       "      <td>0</td>\n",
       "      <td>0</td>\n",
       "      <td>...</td>\n",
       "      <td>0</td>\n",
       "      <td>0</td>\n",
       "      <td>0</td>\n",
       "      <td>0</td>\n",
       "      <td>0</td>\n",
       "      <td>0</td>\n",
       "      <td>0</td>\n",
       "      <td>0</td>\n",
       "      <td>0</td>\n",
       "      <td>0</td>\n",
       "    </tr>\n",
       "    <tr>\n",
       "      <th>18974</th>\n",
       "      <td>0</td>\n",
       "      <td>0</td>\n",
       "      <td>0</td>\n",
       "      <td>0</td>\n",
       "      <td>0</td>\n",
       "      <td>0</td>\n",
       "      <td>0</td>\n",
       "      <td>0</td>\n",
       "      <td>0</td>\n",
       "      <td>0</td>\n",
       "      <td>...</td>\n",
       "      <td>0</td>\n",
       "      <td>0</td>\n",
       "      <td>0</td>\n",
       "      <td>0</td>\n",
       "      <td>0</td>\n",
       "      <td>0</td>\n",
       "      <td>0</td>\n",
       "      <td>0</td>\n",
       "      <td>0</td>\n",
       "      <td>0</td>\n",
       "    </tr>\n",
       "  </tbody>\n",
       "</table>\n",
       "<p>18975 rows × 2000 columns</p>\n",
       "</div>"
      ],
      "text/plain": [
       "       able  absolutely  abt  accident  account  ache  act  action  actually  \\\n",
       "0         0           0    0         0        0     0    0       0         0   \n",
       "1         0           0    0         0        0     0    0       0         0   \n",
       "2         0           0    0         0        0     0    0       0         0   \n",
       "3         0           0    0         0        0     0    0       0         0   \n",
       "4         0           0    0         0        0     0    0       0         0   \n",
       "...     ...         ...  ...       ...      ...   ...  ...     ...       ...   \n",
       "18970     0           0    0         0        0     0    0       0         0   \n",
       "18971     0           0    0         0        0     0    0       0         0   \n",
       "18972     0           0    0         0        0     0    0       0         0   \n",
       "18973     0           0    0         0        0     0    0       0         0   \n",
       "18974     0           0    0         0        0     0    0       0         0   \n",
       "\n",
       "       ad  ...  youre  youre welcome  youtube  youve  youve got  yr  yum  \\\n",
       "0       0  ...      0              0        0      0          0   0    0   \n",
       "1       0  ...      0              0        0      0          0   0    0   \n",
       "2       0  ...      0              0        0      0          0   0    0   \n",
       "3       0  ...      0              0        0      0          0   0    0   \n",
       "4       0  ...      0              0        0      0          0   0    0   \n",
       "...    ..  ...    ...            ...      ...    ...        ...  ..  ...   \n",
       "18970   0  ...      0              0        0      0          0   0    0   \n",
       "18971   0  ...      0              0        0      0          0   0    0   \n",
       "18972   0  ...      0              0        0      0          0   0    0   \n",
       "18973   0  ...      0              0        0      0          0   0    0   \n",
       "18974   0  ...      0              0        0      0          0   0    0   \n",
       "\n",
       "       yummy  yup  z  \n",
       "0          0    0  0  \n",
       "1          0    0  0  \n",
       "2          0    0  0  \n",
       "3          0    0  0  \n",
       "4          0    0  0  \n",
       "...      ...  ... ..  \n",
       "18970      0    0  0  \n",
       "18971      0    0  0  \n",
       "18972      0    0  0  \n",
       "18973      0    0  0  \n",
       "18974      0    0  0  \n",
       "\n",
       "[18975 rows x 2000 columns]"
      ]
     },
     "execution_count": 253,
     "metadata": {},
     "output_type": "execute_result"
    }
   ],
   "source": [
    "# We can extract the information and put it in a data frame to make it easier to see what has occured\n",
    "X_val_df_vect = pd.DataFrame(columns=bagofwords_vector.get_feature_names_out(), data=X_val_transform.toarray())\n",
    "X_val_df_vect"
   ]
  },
  {
   "cell_type": "code",
   "execution_count": 254,
   "id": "52b73852",
   "metadata": {},
   "outputs": [
    {
     "data": {
      "text/html": [
       "<div>\n",
       "<style scoped>\n",
       "    .dataframe tbody tr th:only-of-type {\n",
       "        vertical-align: middle;\n",
       "    }\n",
       "\n",
       "    .dataframe tbody tr th {\n",
       "        vertical-align: top;\n",
       "    }\n",
       "\n",
       "    .dataframe thead th {\n",
       "        text-align: right;\n",
       "    }\n",
       "</style>\n",
       "<table border=\"1\" class=\"dataframe\">\n",
       "  <thead>\n",
       "    <tr style=\"text-align: right;\">\n",
       "      <th></th>\n",
       "      <th>able</th>\n",
       "      <th>absolutely</th>\n",
       "      <th>abt</th>\n",
       "      <th>accident</th>\n",
       "      <th>account</th>\n",
       "      <th>ache</th>\n",
       "      <th>act</th>\n",
       "      <th>action</th>\n",
       "      <th>actually</th>\n",
       "      <th>ad</th>\n",
       "      <th>...</th>\n",
       "      <th>youre</th>\n",
       "      <th>youre welcome</th>\n",
       "      <th>youtube</th>\n",
       "      <th>youve</th>\n",
       "      <th>youve got</th>\n",
       "      <th>yr</th>\n",
       "      <th>yum</th>\n",
       "      <th>yummy</th>\n",
       "      <th>yup</th>\n",
       "      <th>z</th>\n",
       "    </tr>\n",
       "  </thead>\n",
       "  <tbody>\n",
       "    <tr>\n",
       "      <th>0</th>\n",
       "      <td>0</td>\n",
       "      <td>0</td>\n",
       "      <td>0</td>\n",
       "      <td>0</td>\n",
       "      <td>0</td>\n",
       "      <td>0</td>\n",
       "      <td>0</td>\n",
       "      <td>0</td>\n",
       "      <td>0</td>\n",
       "      <td>0</td>\n",
       "      <td>...</td>\n",
       "      <td>0</td>\n",
       "      <td>0</td>\n",
       "      <td>0</td>\n",
       "      <td>0</td>\n",
       "      <td>0</td>\n",
       "      <td>0</td>\n",
       "      <td>0</td>\n",
       "      <td>0</td>\n",
       "      <td>0</td>\n",
       "      <td>0</td>\n",
       "    </tr>\n",
       "    <tr>\n",
       "      <th>1</th>\n",
       "      <td>0</td>\n",
       "      <td>0</td>\n",
       "      <td>0</td>\n",
       "      <td>0</td>\n",
       "      <td>0</td>\n",
       "      <td>0</td>\n",
       "      <td>0</td>\n",
       "      <td>0</td>\n",
       "      <td>0</td>\n",
       "      <td>0</td>\n",
       "      <td>...</td>\n",
       "      <td>0</td>\n",
       "      <td>0</td>\n",
       "      <td>0</td>\n",
       "      <td>0</td>\n",
       "      <td>0</td>\n",
       "      <td>0</td>\n",
       "      <td>0</td>\n",
       "      <td>0</td>\n",
       "      <td>0</td>\n",
       "      <td>0</td>\n",
       "    </tr>\n",
       "    <tr>\n",
       "      <th>2</th>\n",
       "      <td>0</td>\n",
       "      <td>0</td>\n",
       "      <td>0</td>\n",
       "      <td>0</td>\n",
       "      <td>0</td>\n",
       "      <td>0</td>\n",
       "      <td>0</td>\n",
       "      <td>0</td>\n",
       "      <td>0</td>\n",
       "      <td>0</td>\n",
       "      <td>...</td>\n",
       "      <td>0</td>\n",
       "      <td>0</td>\n",
       "      <td>0</td>\n",
       "      <td>0</td>\n",
       "      <td>0</td>\n",
       "      <td>0</td>\n",
       "      <td>0</td>\n",
       "      <td>0</td>\n",
       "      <td>0</td>\n",
       "      <td>0</td>\n",
       "    </tr>\n",
       "    <tr>\n",
       "      <th>3</th>\n",
       "      <td>0</td>\n",
       "      <td>0</td>\n",
       "      <td>0</td>\n",
       "      <td>0</td>\n",
       "      <td>0</td>\n",
       "      <td>0</td>\n",
       "      <td>0</td>\n",
       "      <td>0</td>\n",
       "      <td>0</td>\n",
       "      <td>0</td>\n",
       "      <td>...</td>\n",
       "      <td>0</td>\n",
       "      <td>0</td>\n",
       "      <td>0</td>\n",
       "      <td>0</td>\n",
       "      <td>0</td>\n",
       "      <td>0</td>\n",
       "      <td>0</td>\n",
       "      <td>0</td>\n",
       "      <td>0</td>\n",
       "      <td>0</td>\n",
       "    </tr>\n",
       "    <tr>\n",
       "      <th>4</th>\n",
       "      <td>0</td>\n",
       "      <td>0</td>\n",
       "      <td>0</td>\n",
       "      <td>0</td>\n",
       "      <td>0</td>\n",
       "      <td>0</td>\n",
       "      <td>0</td>\n",
       "      <td>0</td>\n",
       "      <td>0</td>\n",
       "      <td>0</td>\n",
       "      <td>...</td>\n",
       "      <td>0</td>\n",
       "      <td>0</td>\n",
       "      <td>0</td>\n",
       "      <td>0</td>\n",
       "      <td>0</td>\n",
       "      <td>0</td>\n",
       "      <td>0</td>\n",
       "      <td>0</td>\n",
       "      <td>0</td>\n",
       "      <td>0</td>\n",
       "    </tr>\n",
       "    <tr>\n",
       "      <th>...</th>\n",
       "      <td>...</td>\n",
       "      <td>...</td>\n",
       "      <td>...</td>\n",
       "      <td>...</td>\n",
       "      <td>...</td>\n",
       "      <td>...</td>\n",
       "      <td>...</td>\n",
       "      <td>...</td>\n",
       "      <td>...</td>\n",
       "      <td>...</td>\n",
       "      <td>...</td>\n",
       "      <td>...</td>\n",
       "      <td>...</td>\n",
       "      <td>...</td>\n",
       "      <td>...</td>\n",
       "      <td>...</td>\n",
       "      <td>...</td>\n",
       "      <td>...</td>\n",
       "      <td>...</td>\n",
       "      <td>...</td>\n",
       "      <td>...</td>\n",
       "    </tr>\n",
       "    <tr>\n",
       "      <th>15808</th>\n",
       "      <td>0</td>\n",
       "      <td>0</td>\n",
       "      <td>0</td>\n",
       "      <td>0</td>\n",
       "      <td>0</td>\n",
       "      <td>0</td>\n",
       "      <td>0</td>\n",
       "      <td>0</td>\n",
       "      <td>0</td>\n",
       "      <td>0</td>\n",
       "      <td>...</td>\n",
       "      <td>0</td>\n",
       "      <td>0</td>\n",
       "      <td>0</td>\n",
       "      <td>0</td>\n",
       "      <td>0</td>\n",
       "      <td>0</td>\n",
       "      <td>0</td>\n",
       "      <td>0</td>\n",
       "      <td>0</td>\n",
       "      <td>0</td>\n",
       "    </tr>\n",
       "    <tr>\n",
       "      <th>15809</th>\n",
       "      <td>0</td>\n",
       "      <td>0</td>\n",
       "      <td>0</td>\n",
       "      <td>0</td>\n",
       "      <td>0</td>\n",
       "      <td>0</td>\n",
       "      <td>0</td>\n",
       "      <td>0</td>\n",
       "      <td>0</td>\n",
       "      <td>0</td>\n",
       "      <td>...</td>\n",
       "      <td>0</td>\n",
       "      <td>0</td>\n",
       "      <td>0</td>\n",
       "      <td>0</td>\n",
       "      <td>0</td>\n",
       "      <td>0</td>\n",
       "      <td>0</td>\n",
       "      <td>0</td>\n",
       "      <td>0</td>\n",
       "      <td>0</td>\n",
       "    </tr>\n",
       "    <tr>\n",
       "      <th>15810</th>\n",
       "      <td>0</td>\n",
       "      <td>0</td>\n",
       "      <td>0</td>\n",
       "      <td>0</td>\n",
       "      <td>0</td>\n",
       "      <td>0</td>\n",
       "      <td>0</td>\n",
       "      <td>0</td>\n",
       "      <td>0</td>\n",
       "      <td>0</td>\n",
       "      <td>...</td>\n",
       "      <td>0</td>\n",
       "      <td>0</td>\n",
       "      <td>0</td>\n",
       "      <td>0</td>\n",
       "      <td>0</td>\n",
       "      <td>0</td>\n",
       "      <td>0</td>\n",
       "      <td>0</td>\n",
       "      <td>0</td>\n",
       "      <td>0</td>\n",
       "    </tr>\n",
       "    <tr>\n",
       "      <th>15811</th>\n",
       "      <td>0</td>\n",
       "      <td>0</td>\n",
       "      <td>0</td>\n",
       "      <td>0</td>\n",
       "      <td>0</td>\n",
       "      <td>0</td>\n",
       "      <td>0</td>\n",
       "      <td>0</td>\n",
       "      <td>0</td>\n",
       "      <td>0</td>\n",
       "      <td>...</td>\n",
       "      <td>0</td>\n",
       "      <td>0</td>\n",
       "      <td>0</td>\n",
       "      <td>0</td>\n",
       "      <td>0</td>\n",
       "      <td>0</td>\n",
       "      <td>0</td>\n",
       "      <td>0</td>\n",
       "      <td>0</td>\n",
       "      <td>0</td>\n",
       "    </tr>\n",
       "    <tr>\n",
       "      <th>15812</th>\n",
       "      <td>0</td>\n",
       "      <td>0</td>\n",
       "      <td>0</td>\n",
       "      <td>0</td>\n",
       "      <td>0</td>\n",
       "      <td>0</td>\n",
       "      <td>0</td>\n",
       "      <td>0</td>\n",
       "      <td>0</td>\n",
       "      <td>0</td>\n",
       "      <td>...</td>\n",
       "      <td>0</td>\n",
       "      <td>0</td>\n",
       "      <td>0</td>\n",
       "      <td>0</td>\n",
       "      <td>0</td>\n",
       "      <td>0</td>\n",
       "      <td>0</td>\n",
       "      <td>0</td>\n",
       "      <td>0</td>\n",
       "      <td>0</td>\n",
       "    </tr>\n",
       "  </tbody>\n",
       "</table>\n",
       "<p>15813 rows × 2000 columns</p>\n",
       "</div>"
      ],
      "text/plain": [
       "       able  absolutely  abt  accident  account  ache  act  action  actually  \\\n",
       "0         0           0    0         0        0     0    0       0         0   \n",
       "1         0           0    0         0        0     0    0       0         0   \n",
       "2         0           0    0         0        0     0    0       0         0   \n",
       "3         0           0    0         0        0     0    0       0         0   \n",
       "4         0           0    0         0        0     0    0       0         0   \n",
       "...     ...         ...  ...       ...      ...   ...  ...     ...       ...   \n",
       "15808     0           0    0         0        0     0    0       0         0   \n",
       "15809     0           0    0         0        0     0    0       0         0   \n",
       "15810     0           0    0         0        0     0    0       0         0   \n",
       "15811     0           0    0         0        0     0    0       0         0   \n",
       "15812     0           0    0         0        0     0    0       0         0   \n",
       "\n",
       "       ad  ...  youre  youre welcome  youtube  youve  youve got  yr  yum  \\\n",
       "0       0  ...      0              0        0      0          0   0    0   \n",
       "1       0  ...      0              0        0      0          0   0    0   \n",
       "2       0  ...      0              0        0      0          0   0    0   \n",
       "3       0  ...      0              0        0      0          0   0    0   \n",
       "4       0  ...      0              0        0      0          0   0    0   \n",
       "...    ..  ...    ...            ...      ...    ...        ...  ..  ...   \n",
       "15808   0  ...      0              0        0      0          0   0    0   \n",
       "15809   0  ...      0              0        0      0          0   0    0   \n",
       "15810   0  ...      0              0        0      0          0   0    0   \n",
       "15811   0  ...      0              0        0      0          0   0    0   \n",
       "15812   0  ...      0              0        0      0          0   0    0   \n",
       "\n",
       "       yummy  yup  z  \n",
       "0          0    0  0  \n",
       "1          0    0  0  \n",
       "2          0    0  0  \n",
       "3          0    0  0  \n",
       "4          0    0  0  \n",
       "...      ...  ... ..  \n",
       "15808      0    0  0  \n",
       "15809      0    0  0  \n",
       "15810      0    0  0  \n",
       "15811      0    0  0  \n",
       "15812      0    0  0  \n",
       "\n",
       "[15813 rows x 2000 columns]"
      ]
     },
     "execution_count": 254,
     "metadata": {},
     "output_type": "execute_result"
    }
   ],
   "source": [
    "# We can extract the information and put it in a data frame to make it easier to see what has occured\n",
    "X_test_df_vect = pd.DataFrame(columns=bagofwords_vector.get_feature_names_out(), data=X_test_transform.toarray())\n",
    "X_test_df_vect"
   ]
  },
  {
   "cell_type": "code",
   "execution_count": 255,
   "id": "f2c61e1c",
   "metadata": {},
   "outputs": [
    {
     "data": {
      "text/plain": [
       "True"
      ]
     },
     "execution_count": 255,
     "metadata": {},
     "output_type": "execute_result"
    }
   ],
   "source": [
    "# check to see if the shape are equal \n",
    "X_train_df_vect.shape[0] == X_train.shape[0]"
   ]
  },
  {
   "cell_type": "code",
   "execution_count": 256,
   "id": "e1b8fc17-dbb4-4fd2-ad9a-f4dab8d0856e",
   "metadata": {
    "colab": {
     "base_uri": "https://localhost:8080/"
    },
    "id": "cea4fd52",
    "outputId": "aa0c55e3-10b8-44c5-fd9a-4a4a68a685d5"
   },
   "outputs": [
    {
     "name": "stdout",
     "output_type": "stream",
     "text": [
      "['absolutely', 'burnt', 'different', 'follower day using', 'hope youre', 'leaving', 'nervous', 'really need', 'start day', 'u']\n"
     ]
    }
   ],
   "source": [
    "words = bagofwords_vector.get_feature_names_out()\n",
    "some_indices = range(1, 2000, round(2000/10))\n",
    "samples = [words[i] for i in some_indices]\n",
    "print(samples)"
   ]
  },
  {
   "cell_type": "markdown",
   "id": "4adc5c73-3cd0-47a8-bf65-9531c0df3bfa",
   "metadata": {},
   "source": [
    "We can observe that we see some n-grams of words"
   ]
  },
  {
   "cell_type": "code",
   "execution_count": 257,
   "id": "da8acb44",
   "metadata": {
    "colab": {
     "base_uri": "https://localhost:8080/",
     "height": 391
    },
    "id": "da8acb44",
    "outputId": "a6e1e96d-eb80-4944-e947-76ae74f84f79"
   },
   "outputs": [],
   "source": [
    "# creating a data frame to plot a bar graph\n",
    "word_counts = pd.DataFrame(\n",
    "    {\"counts\": X_train_transform.toarray().sum(axis=0)},\n",
    "    index=bagofwords_vector.get_feature_names_out()\n",
    ").sort_values(\"counts\", ascending=False)"
   ]
  },
  {
   "cell_type": "code",
   "execution_count": 258,
   "id": "baf0ca82",
   "metadata": {},
   "outputs": [
    {
     "data": {
      "image/png": "[encoded data removed]",
      "text/plain": [
       "<Figure size 1500x500 with 1 Axes>"
      ]
     },
     "metadata": {},
     "output_type": "display_data"
    }
   ],
   "source": [
    "word_counts.head(20).plot(kind=\"bar\", figsize=(15, 5), legend=False)\n",
    "plt.title(\"Top 20 most frequently occurring words\")\n",
    "plt.ylabel(\"Count\")\n",
    "plt.xticks(rotation=45)\n",
    "plt.show()"
   ]
  },
  {
   "cell_type": "markdown",
   "id": "4f80d667",
   "metadata": {},
   "source": [
    "We can observe the top 20 most frequently occuring words, and `im` has the highest occuring words.\n",
    "\n",
    "Let's test our model with logistic regression"
   ]
  },
  {
   "cell_type": "markdown",
   "id": "9ff2f621-4fb9-4435-9c01-fbc5173b47bf",
   "metadata": {},
   "source": [
    "### Logistic Regression using Count Vectorizer"
   ]
  },
  {
   "cell_type": "code",
   "execution_count": 259,
   "id": "2acb4aad",
   "metadata": {
    "id": "b107d285"
   },
   "outputs": [],
   "source": [
    "from sklearn.linear_model import LogisticRegression"
   ]
  },
  {
   "cell_type": "code",
   "execution_count": 260,
   "id": "c0b936cd",
   "metadata": {},
   "outputs": [],
   "source": [
    "# Initializing Scale\n",
    "scaler = RobustScaler()\n",
    "\n",
    "# Fitting scale\n",
    "scaler.fit(X_train_df_vect)\n",
    "\n",
    "# Transform scale\n",
    "X_train_scaled = scaler.transform(X_train_df_vect)\n",
    "X_val_scaled = scaler.transform(X_val_df_vect)\n",
    "X_test_scaled = scaler.transform(X_test_df_vect)"
   ]
  },
  {
   "cell_type": "code",
   "execution_count": 261,
   "id": "3cf59421",
   "metadata": {
    "colab": {
     "base_uri": "https://localhost:8080/",
     "height": 109
    },
    "id": "8bd665d3",
    "outputId": "e7f3a0ff-31fd-4dde-93ce-214203d88564"
   },
   "outputs": [
    {
     "name": "stdout",
     "output_type": "stream",
     "text": [
      "Train score: 0.7709490897592266\n",
      "Validate score: 0.741133069828722\n",
      "Test score: 0.7414785303231518\n"
     ]
    }
   ],
   "source": [
    "# instantiate model\n",
    "logreg_model = LogisticRegression(max_iter=10000, random_state=1)\n",
    "\n",
    "# fit the model\n",
    "logreg_model.fit(X_train_scaled, y_train)\n",
    "\n",
    "# Training and test score\n",
    "print(f\"Train score: {logreg_model.score(X_train_scaled, y_train)}\")\n",
    "print(f\"Validate score: {logreg_model.score(X_val_scaled, y_val)}\")\n",
    "print(f\"Test score: {logreg_model.score(X_test_scaled, y_test)}\")"
   ]
  },
  {
   "cell_type": "code",
   "execution_count": 262,
   "id": "d-iff96Al6GD",
   "metadata": {
    "colab": {
     "base_uri": "https://localhost:8080/",
     "height": 432
    },
    "id": "d-iff96Al6GD",
    "outputId": "5b2f859e-89eb-4fa6-fb69-b624c6217e26"
   },
   "outputs": [],
   "source": [
    "# creating a dataframe to plot a bar graph\n",
    "word_coefficients = pd.DataFrame(\n",
    "    {\"coefficients\": logreg_model.coef_[0]},\n",
    "    index=bagofwords_vector.get_feature_names_out()\n",
    ").sort_values(\"coefficients\", ascending=False)"
   ]
  },
  {
   "cell_type": "code",
   "execution_count": 263,
   "id": "bbda5edd",
   "metadata": {},
   "outputs": [
    {
     "data": {
      "text/plain": [
       "<Figure size 640x480 with 0 Axes>"
      ]
     },
     "metadata": {},
     "output_type": "display_data"
    },
    {
     "data": {
      "image/png": "[encoded data removed]",
      "text/plain": [
       "<Figure size 1500x500 with 1 Axes>"
      ]
     },
     "metadata": {},
     "output_type": "display_data"
    }
   ],
   "source": [
    "# let's plot a bar graph and show 20 highest positive sentiment\n",
    "plt.figure()\n",
    "word_coefficients.head(20).plot(kind=\"bar\", figsize=(15, 5), legend=False)\n",
    "plt.title(\"The 20 highest model coefficients indicating positive sentiment\")\n",
    "plt.ylabel(\"Coefficients\")\n",
    "plt.xticks(rotation=45)\n",
    "plt.show()"
   ]
  },
  {
   "cell_type": "markdown",
   "id": "bc69c285-0adb-462a-aa5e-aeec53e97c2e",
   "metadata": {},
   "source": [
    "We can observe a good amount of positive words in the graph above"
   ]
  },
  {
   "cell_type": "code",
   "execution_count": 264,
   "id": "yk-nifijmFBh",
   "metadata": {
    "colab": {
     "base_uri": "https://localhost:8080/",
     "height": 424
    },
    "id": "yk-nifijmFBh",
    "outputId": "4a38f21e-80a9-40f4-dfa1-98a5c11d2bea"
   },
   "outputs": [
    {
     "data": {
      "text/plain": [
       "<Figure size 640x480 with 0 Axes>"
      ]
     },
     "metadata": {},
     "output_type": "display_data"
    },
    {
     "data": {
      "image/png": "[encoded data removed]",
      "text/plain": [
       "<Figure size 1500x500 with 1 Axes>"
      ]
     },
     "metadata": {},
     "output_type": "display_data"
    }
   ],
   "source": [
    "# let's plot a bar graph and show 20 lowest negative sentiment\n",
    "plt.figure()\n",
    "word_coefficients.sort_values(\"coefficients\", ascending=True).head(20).plot(kind=\"bar\", figsize=(15, 5), legend=False)\n",
    "plt.title(\"The 20 lowest model coefficients indicating negative sentiment\")\n",
    "plt.ylabel(\"Coefficients\")\n",
    "plt.xticks(rotation=45)\n",
    "plt.show()"
   ]
  },
  {
   "cell_type": "markdown",
   "id": "1b6f734a-6c0d-43d9-b899-219fee7dcec0",
   "metadata": {},
   "source": [
    "Intresting to see some negative sentiment words"
   ]
  },
  {
   "cell_type": "markdown",
   "id": "05fea01c-6d4a-4512-bb22-9da7128690f8",
   "metadata": {},
   "source": [
    "### Model Evaluation\n",
    "\n",
    "#### Confusion Matrix for the LogisticRegression On CountVectorizer"
   ]
  },
  {
   "cell_type": "code",
   "execution_count": 265,
   "id": "aa8be75b-60e9-4533-9805-7bfa21455bf7",
   "metadata": {},
   "outputs": [],
   "source": [
    "#Import the confusion matrix libraries\n",
    "from sklearn.metrics import confusion_matrix, ConfusionMatrixDisplay\n",
    "#Importing the classification report library\n",
    "from sklearn.metrics import classification_report"
   ]
  },
  {
   "cell_type": "code",
   "execution_count": 266,
   "id": "69843424-ca1b-45e5-804e-45aa2346f495",
   "metadata": {},
   "outputs": [],
   "source": [
    "# Importing precision and recall score libraries\n",
    "from sklearn.metrics import precision_score\n",
    "from sklearn.metrics import recall_score"
   ]
  },
  {
   "cell_type": "code",
   "execution_count": 267,
   "id": "09c42130-2fdf-49c6-bebd-0c38c2778e70",
   "metadata": {},
   "outputs": [
    {
     "data": {
      "text/html": [
       "<div>\n",
       "<style scoped>\n",
       "    .dataframe tbody tr th:only-of-type {\n",
       "        vertical-align: middle;\n",
       "    }\n",
       "\n",
       "    .dataframe tbody tr th {\n",
       "        vertical-align: top;\n",
       "    }\n",
       "\n",
       "    .dataframe thead th {\n",
       "        text-align: right;\n",
       "    }\n",
       "</style>\n",
       "<table border=\"1\" class=\"dataframe\">\n",
       "  <thead>\n",
       "    <tr style=\"text-align: right;\">\n",
       "      <th></th>\n",
       "      <th>Predicted Negative</th>\n",
       "      <th>Predicted Positive</th>\n",
       "    </tr>\n",
       "  </thead>\n",
       "  <tbody>\n",
       "    <tr>\n",
       "      <th>True Negative</th>\n",
       "      <td>5604</td>\n",
       "      <td>2312</td>\n",
       "    </tr>\n",
       "    <tr>\n",
       "      <th>True Positive</th>\n",
       "      <td>1776</td>\n",
       "      <td>6121</td>\n",
       "    </tr>\n",
       "  </tbody>\n",
       "</table>\n",
       "</div>"
      ],
      "text/plain": [
       "               Predicted Negative  Predicted Positive\n",
       "True Negative                5604                2312\n",
       "True Positive                1776                6121"
      ]
     },
     "metadata": {},
     "output_type": "display_data"
    }
   ],
   "source": [
    "# Get class predictions\n",
    "y_pred = logreg_model.predict(X_test_scaled)\n",
    "\n",
    "# Generate confusion matrix\n",
    "cf_matrix = confusion_matrix(y_test, y_pred)\n",
    "\n",
    "# Label rows and columns\n",
    "cf_df = pd.DataFrame(\n",
    "    cf_matrix, \n",
    "    columns=[\"Predicted Negative\", \"Predicted Positive\"],\n",
    "    index=[\"True Negative\", \"True Positive\"]\n",
    ")\n",
    "\n",
    "display(cf_df)"
   ]
  },
  {
   "cell_type": "code",
   "execution_count": 268,
   "id": "803fc702-380d-4fb9-9716-a4a63fb35598",
   "metadata": {},
   "outputs": [
    {
     "data": {
      "text/plain": [
       "<sklearn.metrics._plot.confusion_matrix.ConfusionMatrixDisplay at 0x7f59e53b3d90>"
      ]
     },
     "execution_count": 268,
     "metadata": {},
     "output_type": "execute_result"
    },
    {
     "data": {
      "image/png": "[encoded data removed]",
      "text/plain": [
       "<Figure size 640x480 with 2 Axes>"
      ]
     },
     "metadata": {},
     "output_type": "display_data"
    }
   ],
   "source": [
    "# the function expects the estimator, inputs and target as parameters\n",
    "ConfusionMatrixDisplay.from_estimator(logreg_model, X_test_scaled, y_test)"
   ]
  },
  {
   "cell_type": "markdown",
   "id": "30b2f434-b9a8-4c81-8263-11c2858879b4",
   "metadata": {},
   "source": [
    "Let's interpret these numbers of the confusion matrix:\n",
    "\n",
    "* **True Negative**: `5646` are correctly predicted as negative Tweet\n",
    "* **False Positive**: `2293` that where incorrectly classified as positive Tweet\n",
    "\n",
    "* **False Negative**: `1820` incorrectly predicted as a negative Tweet \n",
    "* **True Positive**: `6054` correctly predicted as postive Tweet\n",
    "\n",
    "The total of True values (TP + TN) are much higher than the total of False values (FP + FN) indicating a higher accuracy\n",
    "\n",
    "But with regards to sentiment analysis we want a higher recall rate (how well the model identifies the positive or negative Tweet correctly vs the total positive or negative in the dataset)"
   ]
  },
  {
   "cell_type": "code",
   "execution_count": 269,
   "id": "feb13559-992d-4c61-b2e0-e6f38a97b309",
   "metadata": {},
   "outputs": [
    {
     "name": "stdout",
     "output_type": "stream",
     "text": [
      "              precision    recall  f1-score   support\n",
      "\n",
      "           0       0.76      0.71      0.73      7916\n",
      "           1       0.73      0.78      0.75      7897\n",
      "\n",
      "    accuracy                           0.74     15813\n",
      "   macro avg       0.74      0.74      0.74     15813\n",
      "weighted avg       0.74      0.74      0.74     15813\n",
      "\n"
     ]
    }
   ],
   "source": [
    "#Now the classification report can be generated\n",
    "report_initial = classification_report(y_test, y_pred)\n",
    "print(report_initial)"
   ]
  },
  {
   "cell_type": "markdown",
   "id": "c65095a2-bdd8-4bff-b2e9-df9f696a9ad5",
   "metadata": {},
   "source": [
    "As we predicted we have a good accuracy score of 74%, and enough a decent recall rate 71% as negative Tweet and 77% for the positive Tweet. \n",
    "\n",
    "We can try to improve the recal rate by adjusting the threshold using y_proba.\n",
    "\n",
    "Let's see how much the recall has improved after we adjust the y_proba rate to 0.2."
   ]
  },
  {
   "cell_type": "code",
   "execution_count": 270,
   "id": "2d8666fe-7f22-4795-b781-74c1364047b1",
   "metadata": {},
   "outputs": [],
   "source": [
    "# Make probabilistic predictions (scores)\n",
    "y_proba = logreg_model.predict_proba(X_test_scaled)[:,1]"
   ]
  },
  {
   "cell_type": "code",
   "execution_count": 271,
   "id": "b7e2d6cd-3c79-474e-b6a7-44f7c6c1f4ea",
   "metadata": {},
   "outputs": [
    {
     "name": "stdout",
     "output_type": "stream",
     "text": [
      "Threshold of 0.5:\n",
      "Precision score: 0.7258389659670342\n",
      "Recall score: 0.7751044700519184\n",
      "\n",
      "Threshold of 0.2:\n",
      "Precision score: 0.6014137681741505\n",
      "Recall score: 0.9480815499556794\n"
     ]
    }
   ],
   "source": [
    "# First calculate precision and recall using the default (0.5) cut-off\n",
    "y_threshold = np.where(y_proba > 0.5, 1, 0)\n",
    "print(\"Threshold of 0.5:\")\n",
    "print(f\"Precision score: {precision_score(y_test, y_threshold)}\")\n",
    "print(f\"Recall score: {recall_score(y_test, y_threshold)}\")\n",
    "print(\"\")\n",
    "\n",
    "# Calculate the same using a much lower cut-off (0.1)\n",
    "y_threshold = np.where(y_proba > 0.2, 1, 0)\n",
    "print(\"Threshold of 0.2:\")\n",
    "print(f\"Precision score: {precision_score(y_test, y_threshold)}\")\n",
    "print(f\"Recall score: {recall_score(y_test, y_threshold)}\")"
   ]
  },
  {
   "cell_type": "markdown",
   "id": "1e3ba965-c98c-40b1-9d1c-98c9a9b1d4f1",
   "metadata": {},
   "source": [
    "So by reducing the y_proba from 0.5 to 0.2 we see an increase significantly in a Recall"
   ]
  },
  {
   "cell_type": "markdown",
   "id": "7312cf69-dd54-43d3-b7fa-b07f686ef232",
   "metadata": {},
   "source": [
    "### Creating Text Vector - TF-IDF Vectorization\n",
    "\n",
    "Since we already tested out the `CountVectorizer` we can try the same hyperparamter and compare it with the baseline model"
   ]
  },
  {
   "cell_type": "code",
   "execution_count": 272,
   "id": "1bfd9ca3-93fa-4c25-bcd9-46577341ee14",
   "metadata": {
    "colab": {
     "base_uri": "https://localhost:8080/",
     "height": 216
    },
    "id": "b60f9fd5",
    "outputId": "64b97546-6d2f-4b16-8096-2215d3a75ee7"
   },
   "outputs": [],
   "source": [
    "# initialize\n",
    "lemmatizer_tfidf = WordNetLemmatizer()\n",
    "\n",
    "# initialiize TF-IDF\n",
    "tfidf_vector = TfidfVectorizer(stop_words=\"english\", \n",
    "                               tokenizer=lambda x: [lemmatizer_tfidf.lemmatize(i) for i in x.split()], \n",
    "                               min_df=3, max_features=2000, ngram_range=(1, 3))\n",
    "# 2. Fit\n",
    "tfidf_vector.fit(X_train['Tweet'])\n",
    "\n",
    "# 3. Transform - tokenize (split to words) & count for each sentence how many times each occurs\n",
    "X_train_tfidf_transform = tfidf_vector.transform(X_train['Tweet'])\n",
    "X_val_tfidf_transform = tfidf_vector.transform(X_val['Tweet'])\n",
    "X_test_tfidf_transform = tfidf_vector.transform(X_test['Tweet'])"
   ]
  },
  {
   "cell_type": "code",
   "execution_count": 273,
   "id": "123922f2-3f20-4d9f-ad3f-d0f884d27d9f",
   "metadata": {},
   "outputs": [
    {
     "data": {
      "text/plain": [
       "<44274x2000 sparse matrix of type '<class 'numpy.float64'>'\n",
       "\twith 226179 stored elements in Compressed Sparse Row format>"
      ]
     },
     "execution_count": 273,
     "metadata": {},
     "output_type": "execute_result"
    }
   ],
   "source": [
    "# check the shape after vectorizing\n",
    "X_train_tfidf_transform"
   ]
  },
  {
   "cell_type": "code",
   "execution_count": 274,
   "id": "036b590f-7f47-49f3-9bec-16c03b1a1b73",
   "metadata": {},
   "outputs": [
    {
     "data": {
      "text/plain": [
       "<18975x2000 sparse matrix of type '<class 'numpy.float64'>'\n",
       "\twith 95401 stored elements in Compressed Sparse Row format>"
      ]
     },
     "execution_count": 274,
     "metadata": {},
     "output_type": "execute_result"
    }
   ],
   "source": [
    "X_val_tfidf_transform"
   ]
  },
  {
   "cell_type": "code",
   "execution_count": 275,
   "id": "25ebf05e-241c-4823-8164-32b8b18cf3f3",
   "metadata": {
    "tags": []
   },
   "outputs": [
    {
     "data": {
      "text/plain": [
       "<15813x2000 sparse matrix of type '<class 'numpy.float64'>'\n",
       "\twith 79768 stored elements in Compressed Sparse Row format>"
      ]
     },
     "execution_count": 275,
     "metadata": {},
     "output_type": "execute_result"
    }
   ],
   "source": [
    "# check the shape after vectorizing\n",
    "X_test_tfidf_transform"
   ]
  },
  {
   "cell_type": "code",
   "execution_count": 276,
   "id": "6c2bff27-981e-4bae-8d02-0a04f3861585",
   "metadata": {
    "colab": {
     "base_uri": "https://localhost:8080/",
     "height": 487
    },
    "id": "Kh-rTgboPM6p",
    "outputId": "c2955db1-7671-4768-8b00-08576d4fc299"
   },
   "outputs": [
    {
     "data": {
      "text/html": [
       "<div>\n",
       "<style scoped>\n",
       "    .dataframe tbody tr th:only-of-type {\n",
       "        vertical-align: middle;\n",
       "    }\n",
       "\n",
       "    .dataframe tbody tr th {\n",
       "        vertical-align: top;\n",
       "    }\n",
       "\n",
       "    .dataframe thead th {\n",
       "        text-align: right;\n",
       "    }\n",
       "</style>\n",
       "<table border=\"1\" class=\"dataframe\">\n",
       "  <thead>\n",
       "    <tr style=\"text-align: right;\">\n",
       "      <th></th>\n",
       "      <th>able</th>\n",
       "      <th>absolutely</th>\n",
       "      <th>abt</th>\n",
       "      <th>accident</th>\n",
       "      <th>account</th>\n",
       "      <th>ache</th>\n",
       "      <th>act</th>\n",
       "      <th>action</th>\n",
       "      <th>actually</th>\n",
       "      <th>ad</th>\n",
       "      <th>...</th>\n",
       "      <th>youre</th>\n",
       "      <th>youre welcome</th>\n",
       "      <th>youtube</th>\n",
       "      <th>youve</th>\n",
       "      <th>youve got</th>\n",
       "      <th>yr</th>\n",
       "      <th>yum</th>\n",
       "      <th>yummy</th>\n",
       "      <th>yup</th>\n",
       "      <th>z</th>\n",
       "    </tr>\n",
       "  </thead>\n",
       "  <tbody>\n",
       "    <tr>\n",
       "      <th>0</th>\n",
       "      <td>0.0</td>\n",
       "      <td>0.0</td>\n",
       "      <td>0.0</td>\n",
       "      <td>0.0</td>\n",
       "      <td>0.0</td>\n",
       "      <td>0.0</td>\n",
       "      <td>0.0</td>\n",
       "      <td>0.0</td>\n",
       "      <td>0.0</td>\n",
       "      <td>0.0</td>\n",
       "      <td>...</td>\n",
       "      <td>0.235473</td>\n",
       "      <td>0.0</td>\n",
       "      <td>0.0</td>\n",
       "      <td>0.0</td>\n",
       "      <td>0.0</td>\n",
       "      <td>0.0</td>\n",
       "      <td>0.0</td>\n",
       "      <td>0.0</td>\n",
       "      <td>0.0</td>\n",
       "      <td>0.0</td>\n",
       "    </tr>\n",
       "    <tr>\n",
       "      <th>1</th>\n",
       "      <td>0.0</td>\n",
       "      <td>0.0</td>\n",
       "      <td>0.0</td>\n",
       "      <td>0.0</td>\n",
       "      <td>0.0</td>\n",
       "      <td>0.0</td>\n",
       "      <td>0.0</td>\n",
       "      <td>0.0</td>\n",
       "      <td>0.0</td>\n",
       "      <td>0.0</td>\n",
       "      <td>...</td>\n",
       "      <td>0.000000</td>\n",
       "      <td>0.0</td>\n",
       "      <td>0.0</td>\n",
       "      <td>0.0</td>\n",
       "      <td>0.0</td>\n",
       "      <td>0.0</td>\n",
       "      <td>0.0</td>\n",
       "      <td>0.0</td>\n",
       "      <td>0.0</td>\n",
       "      <td>0.0</td>\n",
       "    </tr>\n",
       "    <tr>\n",
       "      <th>2</th>\n",
       "      <td>0.0</td>\n",
       "      <td>0.0</td>\n",
       "      <td>0.0</td>\n",
       "      <td>0.0</td>\n",
       "      <td>0.0</td>\n",
       "      <td>0.0</td>\n",
       "      <td>0.0</td>\n",
       "      <td>0.0</td>\n",
       "      <td>0.0</td>\n",
       "      <td>0.0</td>\n",
       "      <td>...</td>\n",
       "      <td>0.000000</td>\n",
       "      <td>0.0</td>\n",
       "      <td>0.0</td>\n",
       "      <td>0.0</td>\n",
       "      <td>0.0</td>\n",
       "      <td>0.0</td>\n",
       "      <td>0.0</td>\n",
       "      <td>0.0</td>\n",
       "      <td>0.0</td>\n",
       "      <td>0.0</td>\n",
       "    </tr>\n",
       "    <tr>\n",
       "      <th>3</th>\n",
       "      <td>0.0</td>\n",
       "      <td>0.0</td>\n",
       "      <td>0.0</td>\n",
       "      <td>0.0</td>\n",
       "      <td>0.0</td>\n",
       "      <td>0.0</td>\n",
       "      <td>0.0</td>\n",
       "      <td>0.0</td>\n",
       "      <td>0.0</td>\n",
       "      <td>0.0</td>\n",
       "      <td>...</td>\n",
       "      <td>0.000000</td>\n",
       "      <td>0.0</td>\n",
       "      <td>0.0</td>\n",
       "      <td>0.0</td>\n",
       "      <td>0.0</td>\n",
       "      <td>0.0</td>\n",
       "      <td>0.0</td>\n",
       "      <td>0.0</td>\n",
       "      <td>0.0</td>\n",
       "      <td>0.0</td>\n",
       "    </tr>\n",
       "    <tr>\n",
       "      <th>4</th>\n",
       "      <td>0.0</td>\n",
       "      <td>0.0</td>\n",
       "      <td>0.0</td>\n",
       "      <td>0.0</td>\n",
       "      <td>0.0</td>\n",
       "      <td>0.0</td>\n",
       "      <td>0.0</td>\n",
       "      <td>0.0</td>\n",
       "      <td>0.0</td>\n",
       "      <td>0.0</td>\n",
       "      <td>...</td>\n",
       "      <td>0.000000</td>\n",
       "      <td>0.0</td>\n",
       "      <td>0.0</td>\n",
       "      <td>0.0</td>\n",
       "      <td>0.0</td>\n",
       "      <td>0.0</td>\n",
       "      <td>0.0</td>\n",
       "      <td>0.0</td>\n",
       "      <td>0.0</td>\n",
       "      <td>0.0</td>\n",
       "    </tr>\n",
       "    <tr>\n",
       "      <th>...</th>\n",
       "      <td>...</td>\n",
       "      <td>...</td>\n",
       "      <td>...</td>\n",
       "      <td>...</td>\n",
       "      <td>...</td>\n",
       "      <td>...</td>\n",
       "      <td>...</td>\n",
       "      <td>...</td>\n",
       "      <td>...</td>\n",
       "      <td>...</td>\n",
       "      <td>...</td>\n",
       "      <td>...</td>\n",
       "      <td>...</td>\n",
       "      <td>...</td>\n",
       "      <td>...</td>\n",
       "      <td>...</td>\n",
       "      <td>...</td>\n",
       "      <td>...</td>\n",
       "      <td>...</td>\n",
       "      <td>...</td>\n",
       "      <td>...</td>\n",
       "    </tr>\n",
       "    <tr>\n",
       "      <th>44269</th>\n",
       "      <td>0.0</td>\n",
       "      <td>0.0</td>\n",
       "      <td>0.0</td>\n",
       "      <td>0.0</td>\n",
       "      <td>0.0</td>\n",
       "      <td>0.0</td>\n",
       "      <td>0.0</td>\n",
       "      <td>0.0</td>\n",
       "      <td>0.0</td>\n",
       "      <td>0.0</td>\n",
       "      <td>...</td>\n",
       "      <td>0.000000</td>\n",
       "      <td>0.0</td>\n",
       "      <td>0.0</td>\n",
       "      <td>0.0</td>\n",
       "      <td>0.0</td>\n",
       "      <td>0.0</td>\n",
       "      <td>0.0</td>\n",
       "      <td>0.0</td>\n",
       "      <td>0.0</td>\n",
       "      <td>0.0</td>\n",
       "    </tr>\n",
       "    <tr>\n",
       "      <th>44270</th>\n",
       "      <td>0.0</td>\n",
       "      <td>0.0</td>\n",
       "      <td>0.0</td>\n",
       "      <td>0.0</td>\n",
       "      <td>0.0</td>\n",
       "      <td>0.0</td>\n",
       "      <td>0.0</td>\n",
       "      <td>0.0</td>\n",
       "      <td>0.0</td>\n",
       "      <td>0.0</td>\n",
       "      <td>...</td>\n",
       "      <td>0.000000</td>\n",
       "      <td>0.0</td>\n",
       "      <td>0.0</td>\n",
       "      <td>0.0</td>\n",
       "      <td>0.0</td>\n",
       "      <td>0.0</td>\n",
       "      <td>0.0</td>\n",
       "      <td>0.0</td>\n",
       "      <td>0.0</td>\n",
       "      <td>0.0</td>\n",
       "    </tr>\n",
       "    <tr>\n",
       "      <th>44271</th>\n",
       "      <td>0.0</td>\n",
       "      <td>0.0</td>\n",
       "      <td>0.0</td>\n",
       "      <td>0.0</td>\n",
       "      <td>0.0</td>\n",
       "      <td>0.0</td>\n",
       "      <td>0.0</td>\n",
       "      <td>0.0</td>\n",
       "      <td>0.0</td>\n",
       "      <td>0.0</td>\n",
       "      <td>...</td>\n",
       "      <td>0.000000</td>\n",
       "      <td>0.0</td>\n",
       "      <td>0.0</td>\n",
       "      <td>0.0</td>\n",
       "      <td>0.0</td>\n",
       "      <td>0.0</td>\n",
       "      <td>0.0</td>\n",
       "      <td>0.0</td>\n",
       "      <td>0.0</td>\n",
       "      <td>0.0</td>\n",
       "    </tr>\n",
       "    <tr>\n",
       "      <th>44272</th>\n",
       "      <td>0.0</td>\n",
       "      <td>0.0</td>\n",
       "      <td>0.0</td>\n",
       "      <td>0.0</td>\n",
       "      <td>0.0</td>\n",
       "      <td>0.0</td>\n",
       "      <td>0.0</td>\n",
       "      <td>0.0</td>\n",
       "      <td>0.0</td>\n",
       "      <td>0.0</td>\n",
       "      <td>...</td>\n",
       "      <td>0.000000</td>\n",
       "      <td>0.0</td>\n",
       "      <td>0.0</td>\n",
       "      <td>0.0</td>\n",
       "      <td>0.0</td>\n",
       "      <td>0.0</td>\n",
       "      <td>0.0</td>\n",
       "      <td>0.0</td>\n",
       "      <td>0.0</td>\n",
       "      <td>0.0</td>\n",
       "    </tr>\n",
       "    <tr>\n",
       "      <th>44273</th>\n",
       "      <td>0.0</td>\n",
       "      <td>0.0</td>\n",
       "      <td>0.0</td>\n",
       "      <td>0.0</td>\n",
       "      <td>0.0</td>\n",
       "      <td>0.0</td>\n",
       "      <td>0.0</td>\n",
       "      <td>0.0</td>\n",
       "      <td>0.0</td>\n",
       "      <td>0.0</td>\n",
       "      <td>...</td>\n",
       "      <td>0.000000</td>\n",
       "      <td>0.0</td>\n",
       "      <td>0.0</td>\n",
       "      <td>0.0</td>\n",
       "      <td>0.0</td>\n",
       "      <td>0.0</td>\n",
       "      <td>0.0</td>\n",
       "      <td>0.0</td>\n",
       "      <td>0.0</td>\n",
       "      <td>0.0</td>\n",
       "    </tr>\n",
       "  </tbody>\n",
       "</table>\n",
       "<p>44274 rows × 2000 columns</p>\n",
       "</div>"
      ],
      "text/plain": [
       "       able  absolutely  abt  accident  account  ache  act  action  actually  \\\n",
       "0       0.0         0.0  0.0       0.0      0.0   0.0  0.0     0.0       0.0   \n",
       "1       0.0         0.0  0.0       0.0      0.0   0.0  0.0     0.0       0.0   \n",
       "2       0.0         0.0  0.0       0.0      0.0   0.0  0.0     0.0       0.0   \n",
       "3       0.0         0.0  0.0       0.0      0.0   0.0  0.0     0.0       0.0   \n",
       "4       0.0         0.0  0.0       0.0      0.0   0.0  0.0     0.0       0.0   \n",
       "...     ...         ...  ...       ...      ...   ...  ...     ...       ...   \n",
       "44269   0.0         0.0  0.0       0.0      0.0   0.0  0.0     0.0       0.0   \n",
       "44270   0.0         0.0  0.0       0.0      0.0   0.0  0.0     0.0       0.0   \n",
       "44271   0.0         0.0  0.0       0.0      0.0   0.0  0.0     0.0       0.0   \n",
       "44272   0.0         0.0  0.0       0.0      0.0   0.0  0.0     0.0       0.0   \n",
       "44273   0.0         0.0  0.0       0.0      0.0   0.0  0.0     0.0       0.0   \n",
       "\n",
       "        ad  ...     youre  youre welcome  youtube  youve  youve got   yr  yum  \\\n",
       "0      0.0  ...  0.235473            0.0      0.0    0.0        0.0  0.0  0.0   \n",
       "1      0.0  ...  0.000000            0.0      0.0    0.0        0.0  0.0  0.0   \n",
       "2      0.0  ...  0.000000            0.0      0.0    0.0        0.0  0.0  0.0   \n",
       "3      0.0  ...  0.000000            0.0      0.0    0.0        0.0  0.0  0.0   \n",
       "4      0.0  ...  0.000000            0.0      0.0    0.0        0.0  0.0  0.0   \n",
       "...    ...  ...       ...            ...      ...    ...        ...  ...  ...   \n",
       "44269  0.0  ...  0.000000            0.0      0.0    0.0        0.0  0.0  0.0   \n",
       "44270  0.0  ...  0.000000            0.0      0.0    0.0        0.0  0.0  0.0   \n",
       "44271  0.0  ...  0.000000            0.0      0.0    0.0        0.0  0.0  0.0   \n",
       "44272  0.0  ...  0.000000            0.0      0.0    0.0        0.0  0.0  0.0   \n",
       "44273  0.0  ...  0.000000            0.0      0.0    0.0        0.0  0.0  0.0   \n",
       "\n",
       "       yummy  yup    z  \n",
       "0        0.0  0.0  0.0  \n",
       "1        0.0  0.0  0.0  \n",
       "2        0.0  0.0  0.0  \n",
       "3        0.0  0.0  0.0  \n",
       "4        0.0  0.0  0.0  \n",
       "...      ...  ...  ...  \n",
       "44269    0.0  0.0  0.0  \n",
       "44270    0.0  0.0  0.0  \n",
       "44271    0.0  0.0  0.0  \n",
       "44272    0.0  0.0  0.0  \n",
       "44273    0.0  0.0  0.0  \n",
       "\n",
       "[44274 rows x 2000 columns]"
      ]
     },
     "execution_count": 276,
     "metadata": {},
     "output_type": "execute_result"
    }
   ],
   "source": [
    "# We can extract the information and put it in a data frame to make it easier to see what has occured\n",
    "X_train_df_tfidf_vect = pd.DataFrame(columns=tfidf_vector.get_feature_names_out(), data=X_train_tfidf_transform.toarray())\n",
    "X_train_df_tfidf_vect"
   ]
  },
  {
   "cell_type": "code",
   "execution_count": 277,
   "id": "8837c303-3741-47e1-a006-7069828bcd49",
   "metadata": {},
   "outputs": [
    {
     "data": {
      "text/html": [
       "<div>\n",
       "<style scoped>\n",
       "    .dataframe tbody tr th:only-of-type {\n",
       "        vertical-align: middle;\n",
       "    }\n",
       "\n",
       "    .dataframe tbody tr th {\n",
       "        vertical-align: top;\n",
       "    }\n",
       "\n",
       "    .dataframe thead th {\n",
       "        text-align: right;\n",
       "    }\n",
       "</style>\n",
       "<table border=\"1\" class=\"dataframe\">\n",
       "  <thead>\n",
       "    <tr style=\"text-align: right;\">\n",
       "      <th></th>\n",
       "      <th>able</th>\n",
       "      <th>absolutely</th>\n",
       "      <th>abt</th>\n",
       "      <th>accident</th>\n",
       "      <th>account</th>\n",
       "      <th>ache</th>\n",
       "      <th>act</th>\n",
       "      <th>action</th>\n",
       "      <th>actually</th>\n",
       "      <th>ad</th>\n",
       "      <th>...</th>\n",
       "      <th>youre</th>\n",
       "      <th>youre welcome</th>\n",
       "      <th>youtube</th>\n",
       "      <th>youve</th>\n",
       "      <th>youve got</th>\n",
       "      <th>yr</th>\n",
       "      <th>yum</th>\n",
       "      <th>yummy</th>\n",
       "      <th>yup</th>\n",
       "      <th>z</th>\n",
       "    </tr>\n",
       "  </thead>\n",
       "  <tbody>\n",
       "    <tr>\n",
       "      <th>0</th>\n",
       "      <td>0.0</td>\n",
       "      <td>0.0</td>\n",
       "      <td>0.0</td>\n",
       "      <td>0.0</td>\n",
       "      <td>0.0</td>\n",
       "      <td>0.0</td>\n",
       "      <td>0.0</td>\n",
       "      <td>0.0</td>\n",
       "      <td>0.0</td>\n",
       "      <td>0.0</td>\n",
       "      <td>...</td>\n",
       "      <td>0.0</td>\n",
       "      <td>0.0</td>\n",
       "      <td>0.0</td>\n",
       "      <td>0.0</td>\n",
       "      <td>0.0</td>\n",
       "      <td>0.0</td>\n",
       "      <td>0.0</td>\n",
       "      <td>0.0</td>\n",
       "      <td>0.0</td>\n",
       "      <td>0.0</td>\n",
       "    </tr>\n",
       "    <tr>\n",
       "      <th>1</th>\n",
       "      <td>0.0</td>\n",
       "      <td>0.0</td>\n",
       "      <td>0.0</td>\n",
       "      <td>0.0</td>\n",
       "      <td>0.0</td>\n",
       "      <td>0.0</td>\n",
       "      <td>0.0</td>\n",
       "      <td>0.0</td>\n",
       "      <td>0.0</td>\n",
       "      <td>0.0</td>\n",
       "      <td>...</td>\n",
       "      <td>0.0</td>\n",
       "      <td>0.0</td>\n",
       "      <td>0.0</td>\n",
       "      <td>0.0</td>\n",
       "      <td>0.0</td>\n",
       "      <td>0.0</td>\n",
       "      <td>0.0</td>\n",
       "      <td>0.0</td>\n",
       "      <td>0.0</td>\n",
       "      <td>0.0</td>\n",
       "    </tr>\n",
       "    <tr>\n",
       "      <th>2</th>\n",
       "      <td>0.0</td>\n",
       "      <td>0.0</td>\n",
       "      <td>0.0</td>\n",
       "      <td>0.0</td>\n",
       "      <td>0.0</td>\n",
       "      <td>0.0</td>\n",
       "      <td>0.0</td>\n",
       "      <td>0.0</td>\n",
       "      <td>0.0</td>\n",
       "      <td>0.0</td>\n",
       "      <td>...</td>\n",
       "      <td>0.0</td>\n",
       "      <td>0.0</td>\n",
       "      <td>0.0</td>\n",
       "      <td>0.0</td>\n",
       "      <td>0.0</td>\n",
       "      <td>0.0</td>\n",
       "      <td>0.0</td>\n",
       "      <td>0.0</td>\n",
       "      <td>0.0</td>\n",
       "      <td>0.0</td>\n",
       "    </tr>\n",
       "    <tr>\n",
       "      <th>3</th>\n",
       "      <td>0.0</td>\n",
       "      <td>0.0</td>\n",
       "      <td>0.0</td>\n",
       "      <td>0.0</td>\n",
       "      <td>0.0</td>\n",
       "      <td>0.0</td>\n",
       "      <td>0.0</td>\n",
       "      <td>0.0</td>\n",
       "      <td>0.0</td>\n",
       "      <td>0.0</td>\n",
       "      <td>...</td>\n",
       "      <td>0.0</td>\n",
       "      <td>0.0</td>\n",
       "      <td>0.0</td>\n",
       "      <td>0.0</td>\n",
       "      <td>0.0</td>\n",
       "      <td>0.0</td>\n",
       "      <td>0.0</td>\n",
       "      <td>0.0</td>\n",
       "      <td>0.0</td>\n",
       "      <td>0.0</td>\n",
       "    </tr>\n",
       "    <tr>\n",
       "      <th>4</th>\n",
       "      <td>0.0</td>\n",
       "      <td>0.0</td>\n",
       "      <td>0.0</td>\n",
       "      <td>0.0</td>\n",
       "      <td>0.0</td>\n",
       "      <td>0.0</td>\n",
       "      <td>0.0</td>\n",
       "      <td>0.0</td>\n",
       "      <td>0.0</td>\n",
       "      <td>0.0</td>\n",
       "      <td>...</td>\n",
       "      <td>0.0</td>\n",
       "      <td>0.0</td>\n",
       "      <td>0.0</td>\n",
       "      <td>0.0</td>\n",
       "      <td>0.0</td>\n",
       "      <td>0.0</td>\n",
       "      <td>0.0</td>\n",
       "      <td>0.0</td>\n",
       "      <td>0.0</td>\n",
       "      <td>0.0</td>\n",
       "    </tr>\n",
       "    <tr>\n",
       "      <th>...</th>\n",
       "      <td>...</td>\n",
       "      <td>...</td>\n",
       "      <td>...</td>\n",
       "      <td>...</td>\n",
       "      <td>...</td>\n",
       "      <td>...</td>\n",
       "      <td>...</td>\n",
       "      <td>...</td>\n",
       "      <td>...</td>\n",
       "      <td>...</td>\n",
       "      <td>...</td>\n",
       "      <td>...</td>\n",
       "      <td>...</td>\n",
       "      <td>...</td>\n",
       "      <td>...</td>\n",
       "      <td>...</td>\n",
       "      <td>...</td>\n",
       "      <td>...</td>\n",
       "      <td>...</td>\n",
       "      <td>...</td>\n",
       "      <td>...</td>\n",
       "    </tr>\n",
       "    <tr>\n",
       "      <th>18970</th>\n",
       "      <td>0.0</td>\n",
       "      <td>0.0</td>\n",
       "      <td>0.0</td>\n",
       "      <td>0.0</td>\n",
       "      <td>0.0</td>\n",
       "      <td>0.0</td>\n",
       "      <td>0.0</td>\n",
       "      <td>0.0</td>\n",
       "      <td>0.0</td>\n",
       "      <td>0.0</td>\n",
       "      <td>...</td>\n",
       "      <td>0.0</td>\n",
       "      <td>0.0</td>\n",
       "      <td>0.0</td>\n",
       "      <td>0.0</td>\n",
       "      <td>0.0</td>\n",
       "      <td>0.0</td>\n",
       "      <td>0.0</td>\n",
       "      <td>0.0</td>\n",
       "      <td>0.0</td>\n",
       "      <td>0.0</td>\n",
       "    </tr>\n",
       "    <tr>\n",
       "      <th>18971</th>\n",
       "      <td>0.0</td>\n",
       "      <td>0.0</td>\n",
       "      <td>0.0</td>\n",
       "      <td>0.0</td>\n",
       "      <td>0.0</td>\n",
       "      <td>0.0</td>\n",
       "      <td>0.0</td>\n",
       "      <td>0.0</td>\n",
       "      <td>0.0</td>\n",
       "      <td>0.0</td>\n",
       "      <td>...</td>\n",
       "      <td>0.0</td>\n",
       "      <td>0.0</td>\n",
       "      <td>0.0</td>\n",
       "      <td>0.0</td>\n",
       "      <td>0.0</td>\n",
       "      <td>0.0</td>\n",
       "      <td>0.0</td>\n",
       "      <td>0.0</td>\n",
       "      <td>0.0</td>\n",
       "      <td>0.0</td>\n",
       "    </tr>\n",
       "    <tr>\n",
       "      <th>18972</th>\n",
       "      <td>0.0</td>\n",
       "      <td>0.0</td>\n",
       "      <td>0.0</td>\n",
       "      <td>0.0</td>\n",
       "      <td>0.0</td>\n",
       "      <td>0.0</td>\n",
       "      <td>0.0</td>\n",
       "      <td>0.0</td>\n",
       "      <td>0.0</td>\n",
       "      <td>0.0</td>\n",
       "      <td>...</td>\n",
       "      <td>0.0</td>\n",
       "      <td>0.0</td>\n",
       "      <td>0.0</td>\n",
       "      <td>0.0</td>\n",
       "      <td>0.0</td>\n",
       "      <td>0.0</td>\n",
       "      <td>0.0</td>\n",
       "      <td>0.0</td>\n",
       "      <td>0.0</td>\n",
       "      <td>0.0</td>\n",
       "    </tr>\n",
       "    <tr>\n",
       "      <th>18973</th>\n",
       "      <td>0.0</td>\n",
       "      <td>0.0</td>\n",
       "      <td>0.0</td>\n",
       "      <td>0.0</td>\n",
       "      <td>0.0</td>\n",
       "      <td>0.0</td>\n",
       "      <td>0.0</td>\n",
       "      <td>0.0</td>\n",
       "      <td>0.0</td>\n",
       "      <td>0.0</td>\n",
       "      <td>...</td>\n",
       "      <td>0.0</td>\n",
       "      <td>0.0</td>\n",
       "      <td>0.0</td>\n",
       "      <td>0.0</td>\n",
       "      <td>0.0</td>\n",
       "      <td>0.0</td>\n",
       "      <td>0.0</td>\n",
       "      <td>0.0</td>\n",
       "      <td>0.0</td>\n",
       "      <td>0.0</td>\n",
       "    </tr>\n",
       "    <tr>\n",
       "      <th>18974</th>\n",
       "      <td>0.0</td>\n",
       "      <td>0.0</td>\n",
       "      <td>0.0</td>\n",
       "      <td>0.0</td>\n",
       "      <td>0.0</td>\n",
       "      <td>0.0</td>\n",
       "      <td>0.0</td>\n",
       "      <td>0.0</td>\n",
       "      <td>0.0</td>\n",
       "      <td>0.0</td>\n",
       "      <td>...</td>\n",
       "      <td>0.0</td>\n",
       "      <td>0.0</td>\n",
       "      <td>0.0</td>\n",
       "      <td>0.0</td>\n",
       "      <td>0.0</td>\n",
       "      <td>0.0</td>\n",
       "      <td>0.0</td>\n",
       "      <td>0.0</td>\n",
       "      <td>0.0</td>\n",
       "      <td>0.0</td>\n",
       "    </tr>\n",
       "  </tbody>\n",
       "</table>\n",
       "<p>18975 rows × 2000 columns</p>\n",
       "</div>"
      ],
      "text/plain": [
       "       able  absolutely  abt  accident  account  ache  act  action  actually  \\\n",
       "0       0.0         0.0  0.0       0.0      0.0   0.0  0.0     0.0       0.0   \n",
       "1       0.0         0.0  0.0       0.0      0.0   0.0  0.0     0.0       0.0   \n",
       "2       0.0         0.0  0.0       0.0      0.0   0.0  0.0     0.0       0.0   \n",
       "3       0.0         0.0  0.0       0.0      0.0   0.0  0.0     0.0       0.0   \n",
       "4       0.0         0.0  0.0       0.0      0.0   0.0  0.0     0.0       0.0   \n",
       "...     ...         ...  ...       ...      ...   ...  ...     ...       ...   \n",
       "18970   0.0         0.0  0.0       0.0      0.0   0.0  0.0     0.0       0.0   \n",
       "18971   0.0         0.0  0.0       0.0      0.0   0.0  0.0     0.0       0.0   \n",
       "18972   0.0         0.0  0.0       0.0      0.0   0.0  0.0     0.0       0.0   \n",
       "18973   0.0         0.0  0.0       0.0      0.0   0.0  0.0     0.0       0.0   \n",
       "18974   0.0         0.0  0.0       0.0      0.0   0.0  0.0     0.0       0.0   \n",
       "\n",
       "        ad  ...  youre  youre welcome  youtube  youve  youve got   yr  yum  \\\n",
       "0      0.0  ...    0.0            0.0      0.0    0.0        0.0  0.0  0.0   \n",
       "1      0.0  ...    0.0            0.0      0.0    0.0        0.0  0.0  0.0   \n",
       "2      0.0  ...    0.0            0.0      0.0    0.0        0.0  0.0  0.0   \n",
       "3      0.0  ...    0.0            0.0      0.0    0.0        0.0  0.0  0.0   \n",
       "4      0.0  ...    0.0            0.0      0.0    0.0        0.0  0.0  0.0   \n",
       "...    ...  ...    ...            ...      ...    ...        ...  ...  ...   \n",
       "18970  0.0  ...    0.0            0.0      0.0    0.0        0.0  0.0  0.0   \n",
       "18971  0.0  ...    0.0            0.0      0.0    0.0        0.0  0.0  0.0   \n",
       "18972  0.0  ...    0.0            0.0      0.0    0.0        0.0  0.0  0.0   \n",
       "18973  0.0  ...    0.0            0.0      0.0    0.0        0.0  0.0  0.0   \n",
       "18974  0.0  ...    0.0            0.0      0.0    0.0        0.0  0.0  0.0   \n",
       "\n",
       "       yummy  yup    z  \n",
       "0        0.0  0.0  0.0  \n",
       "1        0.0  0.0  0.0  \n",
       "2        0.0  0.0  0.0  \n",
       "3        0.0  0.0  0.0  \n",
       "4        0.0  0.0  0.0  \n",
       "...      ...  ...  ...  \n",
       "18970    0.0  0.0  0.0  \n",
       "18971    0.0  0.0  0.0  \n",
       "18972    0.0  0.0  0.0  \n",
       "18973    0.0  0.0  0.0  \n",
       "18974    0.0  0.0  0.0  \n",
       "\n",
       "[18975 rows x 2000 columns]"
      ]
     },
     "execution_count": 277,
     "metadata": {},
     "output_type": "execute_result"
    }
   ],
   "source": [
    "# We can extract the information and put it in a data frame to make it easier to see what has occured\n",
    "X_val_df_tfidf_vect = pd.DataFrame(columns=tfidf_vector.get_feature_names_out(), data=X_val_tfidf_transform.toarray())\n",
    "X_val_df_tfidf_vect"
   ]
  },
  {
   "cell_type": "code",
   "execution_count": 278,
   "id": "08d2a617-329a-4e3e-8628-41012491cc59",
   "metadata": {},
   "outputs": [
    {
     "data": {
      "text/html": [
       "<div>\n",
       "<style scoped>\n",
       "    .dataframe tbody tr th:only-of-type {\n",
       "        vertical-align: middle;\n",
       "    }\n",
       "\n",
       "    .dataframe tbody tr th {\n",
       "        vertical-align: top;\n",
       "    }\n",
       "\n",
       "    .dataframe thead th {\n",
       "        text-align: right;\n",
       "    }\n",
       "</style>\n",
       "<table border=\"1\" class=\"dataframe\">\n",
       "  <thead>\n",
       "    <tr style=\"text-align: right;\">\n",
       "      <th></th>\n",
       "      <th>able</th>\n",
       "      <th>absolutely</th>\n",
       "      <th>abt</th>\n",
       "      <th>accident</th>\n",
       "      <th>account</th>\n",
       "      <th>ache</th>\n",
       "      <th>act</th>\n",
       "      <th>action</th>\n",
       "      <th>actually</th>\n",
       "      <th>ad</th>\n",
       "      <th>...</th>\n",
       "      <th>youre</th>\n",
       "      <th>youre welcome</th>\n",
       "      <th>youtube</th>\n",
       "      <th>youve</th>\n",
       "      <th>youve got</th>\n",
       "      <th>yr</th>\n",
       "      <th>yum</th>\n",
       "      <th>yummy</th>\n",
       "      <th>yup</th>\n",
       "      <th>z</th>\n",
       "    </tr>\n",
       "  </thead>\n",
       "  <tbody>\n",
       "    <tr>\n",
       "      <th>0</th>\n",
       "      <td>0.0</td>\n",
       "      <td>0.0</td>\n",
       "      <td>0.0</td>\n",
       "      <td>0.0</td>\n",
       "      <td>0.0</td>\n",
       "      <td>0.0</td>\n",
       "      <td>0.0</td>\n",
       "      <td>0.0</td>\n",
       "      <td>0.0</td>\n",
       "      <td>0.0</td>\n",
       "      <td>...</td>\n",
       "      <td>0.0</td>\n",
       "      <td>0.0</td>\n",
       "      <td>0.0</td>\n",
       "      <td>0.0</td>\n",
       "      <td>0.0</td>\n",
       "      <td>0.0</td>\n",
       "      <td>0.0</td>\n",
       "      <td>0.0</td>\n",
       "      <td>0.0</td>\n",
       "      <td>0.0</td>\n",
       "    </tr>\n",
       "    <tr>\n",
       "      <th>1</th>\n",
       "      <td>0.0</td>\n",
       "      <td>0.0</td>\n",
       "      <td>0.0</td>\n",
       "      <td>0.0</td>\n",
       "      <td>0.0</td>\n",
       "      <td>0.0</td>\n",
       "      <td>0.0</td>\n",
       "      <td>0.0</td>\n",
       "      <td>0.0</td>\n",
       "      <td>0.0</td>\n",
       "      <td>...</td>\n",
       "      <td>0.0</td>\n",
       "      <td>0.0</td>\n",
       "      <td>0.0</td>\n",
       "      <td>0.0</td>\n",
       "      <td>0.0</td>\n",
       "      <td>0.0</td>\n",
       "      <td>0.0</td>\n",
       "      <td>0.0</td>\n",
       "      <td>0.0</td>\n",
       "      <td>0.0</td>\n",
       "    </tr>\n",
       "    <tr>\n",
       "      <th>2</th>\n",
       "      <td>0.0</td>\n",
       "      <td>0.0</td>\n",
       "      <td>0.0</td>\n",
       "      <td>0.0</td>\n",
       "      <td>0.0</td>\n",
       "      <td>0.0</td>\n",
       "      <td>0.0</td>\n",
       "      <td>0.0</td>\n",
       "      <td>0.0</td>\n",
       "      <td>0.0</td>\n",
       "      <td>...</td>\n",
       "      <td>0.0</td>\n",
       "      <td>0.0</td>\n",
       "      <td>0.0</td>\n",
       "      <td>0.0</td>\n",
       "      <td>0.0</td>\n",
       "      <td>0.0</td>\n",
       "      <td>0.0</td>\n",
       "      <td>0.0</td>\n",
       "      <td>0.0</td>\n",
       "      <td>0.0</td>\n",
       "    </tr>\n",
       "    <tr>\n",
       "      <th>3</th>\n",
       "      <td>0.0</td>\n",
       "      <td>0.0</td>\n",
       "      <td>0.0</td>\n",
       "      <td>0.0</td>\n",
       "      <td>0.0</td>\n",
       "      <td>0.0</td>\n",
       "      <td>0.0</td>\n",
       "      <td>0.0</td>\n",
       "      <td>0.0</td>\n",
       "      <td>0.0</td>\n",
       "      <td>...</td>\n",
       "      <td>0.0</td>\n",
       "      <td>0.0</td>\n",
       "      <td>0.0</td>\n",
       "      <td>0.0</td>\n",
       "      <td>0.0</td>\n",
       "      <td>0.0</td>\n",
       "      <td>0.0</td>\n",
       "      <td>0.0</td>\n",
       "      <td>0.0</td>\n",
       "      <td>0.0</td>\n",
       "    </tr>\n",
       "    <tr>\n",
       "      <th>4</th>\n",
       "      <td>0.0</td>\n",
       "      <td>0.0</td>\n",
       "      <td>0.0</td>\n",
       "      <td>0.0</td>\n",
       "      <td>0.0</td>\n",
       "      <td>0.0</td>\n",
       "      <td>0.0</td>\n",
       "      <td>0.0</td>\n",
       "      <td>0.0</td>\n",
       "      <td>0.0</td>\n",
       "      <td>...</td>\n",
       "      <td>0.0</td>\n",
       "      <td>0.0</td>\n",
       "      <td>0.0</td>\n",
       "      <td>0.0</td>\n",
       "      <td>0.0</td>\n",
       "      <td>0.0</td>\n",
       "      <td>0.0</td>\n",
       "      <td>0.0</td>\n",
       "      <td>0.0</td>\n",
       "      <td>0.0</td>\n",
       "    </tr>\n",
       "    <tr>\n",
       "      <th>...</th>\n",
       "      <td>...</td>\n",
       "      <td>...</td>\n",
       "      <td>...</td>\n",
       "      <td>...</td>\n",
       "      <td>...</td>\n",
       "      <td>...</td>\n",
       "      <td>...</td>\n",
       "      <td>...</td>\n",
       "      <td>...</td>\n",
       "      <td>...</td>\n",
       "      <td>...</td>\n",
       "      <td>...</td>\n",
       "      <td>...</td>\n",
       "      <td>...</td>\n",
       "      <td>...</td>\n",
       "      <td>...</td>\n",
       "      <td>...</td>\n",
       "      <td>...</td>\n",
       "      <td>...</td>\n",
       "      <td>...</td>\n",
       "      <td>...</td>\n",
       "    </tr>\n",
       "    <tr>\n",
       "      <th>15808</th>\n",
       "      <td>0.0</td>\n",
       "      <td>0.0</td>\n",
       "      <td>0.0</td>\n",
       "      <td>0.0</td>\n",
       "      <td>0.0</td>\n",
       "      <td>0.0</td>\n",
       "      <td>0.0</td>\n",
       "      <td>0.0</td>\n",
       "      <td>0.0</td>\n",
       "      <td>0.0</td>\n",
       "      <td>...</td>\n",
       "      <td>0.0</td>\n",
       "      <td>0.0</td>\n",
       "      <td>0.0</td>\n",
       "      <td>0.0</td>\n",
       "      <td>0.0</td>\n",
       "      <td>0.0</td>\n",
       "      <td>0.0</td>\n",
       "      <td>0.0</td>\n",
       "      <td>0.0</td>\n",
       "      <td>0.0</td>\n",
       "    </tr>\n",
       "    <tr>\n",
       "      <th>15809</th>\n",
       "      <td>0.0</td>\n",
       "      <td>0.0</td>\n",
       "      <td>0.0</td>\n",
       "      <td>0.0</td>\n",
       "      <td>0.0</td>\n",
       "      <td>0.0</td>\n",
       "      <td>0.0</td>\n",
       "      <td>0.0</td>\n",
       "      <td>0.0</td>\n",
       "      <td>0.0</td>\n",
       "      <td>...</td>\n",
       "      <td>0.0</td>\n",
       "      <td>0.0</td>\n",
       "      <td>0.0</td>\n",
       "      <td>0.0</td>\n",
       "      <td>0.0</td>\n",
       "      <td>0.0</td>\n",
       "      <td>0.0</td>\n",
       "      <td>0.0</td>\n",
       "      <td>0.0</td>\n",
       "      <td>0.0</td>\n",
       "    </tr>\n",
       "    <tr>\n",
       "      <th>15810</th>\n",
       "      <td>0.0</td>\n",
       "      <td>0.0</td>\n",
       "      <td>0.0</td>\n",
       "      <td>0.0</td>\n",
       "      <td>0.0</td>\n",
       "      <td>0.0</td>\n",
       "      <td>0.0</td>\n",
       "      <td>0.0</td>\n",
       "      <td>0.0</td>\n",
       "      <td>0.0</td>\n",
       "      <td>...</td>\n",
       "      <td>0.0</td>\n",
       "      <td>0.0</td>\n",
       "      <td>0.0</td>\n",
       "      <td>0.0</td>\n",
       "      <td>0.0</td>\n",
       "      <td>0.0</td>\n",
       "      <td>0.0</td>\n",
       "      <td>0.0</td>\n",
       "      <td>0.0</td>\n",
       "      <td>0.0</td>\n",
       "    </tr>\n",
       "    <tr>\n",
       "      <th>15811</th>\n",
       "      <td>0.0</td>\n",
       "      <td>0.0</td>\n",
       "      <td>0.0</td>\n",
       "      <td>0.0</td>\n",
       "      <td>0.0</td>\n",
       "      <td>0.0</td>\n",
       "      <td>0.0</td>\n",
       "      <td>0.0</td>\n",
       "      <td>0.0</td>\n",
       "      <td>0.0</td>\n",
       "      <td>...</td>\n",
       "      <td>0.0</td>\n",
       "      <td>0.0</td>\n",
       "      <td>0.0</td>\n",
       "      <td>0.0</td>\n",
       "      <td>0.0</td>\n",
       "      <td>0.0</td>\n",
       "      <td>0.0</td>\n",
       "      <td>0.0</td>\n",
       "      <td>0.0</td>\n",
       "      <td>0.0</td>\n",
       "    </tr>\n",
       "    <tr>\n",
       "      <th>15812</th>\n",
       "      <td>0.0</td>\n",
       "      <td>0.0</td>\n",
       "      <td>0.0</td>\n",
       "      <td>0.0</td>\n",
       "      <td>0.0</td>\n",
       "      <td>0.0</td>\n",
       "      <td>0.0</td>\n",
       "      <td>0.0</td>\n",
       "      <td>0.0</td>\n",
       "      <td>0.0</td>\n",
       "      <td>...</td>\n",
       "      <td>0.0</td>\n",
       "      <td>0.0</td>\n",
       "      <td>0.0</td>\n",
       "      <td>0.0</td>\n",
       "      <td>0.0</td>\n",
       "      <td>0.0</td>\n",
       "      <td>0.0</td>\n",
       "      <td>0.0</td>\n",
       "      <td>0.0</td>\n",
       "      <td>0.0</td>\n",
       "    </tr>\n",
       "  </tbody>\n",
       "</table>\n",
       "<p>15813 rows × 2000 columns</p>\n",
       "</div>"
      ],
      "text/plain": [
       "       able  absolutely  abt  accident  account  ache  act  action  actually  \\\n",
       "0       0.0         0.0  0.0       0.0      0.0   0.0  0.0     0.0       0.0   \n",
       "1       0.0         0.0  0.0       0.0      0.0   0.0  0.0     0.0       0.0   \n",
       "2       0.0         0.0  0.0       0.0      0.0   0.0  0.0     0.0       0.0   \n",
       "3       0.0         0.0  0.0       0.0      0.0   0.0  0.0     0.0       0.0   \n",
       "4       0.0         0.0  0.0       0.0      0.0   0.0  0.0     0.0       0.0   \n",
       "...     ...         ...  ...       ...      ...   ...  ...     ...       ...   \n",
       "15808   0.0         0.0  0.0       0.0      0.0   0.0  0.0     0.0       0.0   \n",
       "15809   0.0         0.0  0.0       0.0      0.0   0.0  0.0     0.0       0.0   \n",
       "15810   0.0         0.0  0.0       0.0      0.0   0.0  0.0     0.0       0.0   \n",
       "15811   0.0         0.0  0.0       0.0      0.0   0.0  0.0     0.0       0.0   \n",
       "15812   0.0         0.0  0.0       0.0      0.0   0.0  0.0     0.0       0.0   \n",
       "\n",
       "        ad  ...  youre  youre welcome  youtube  youve  youve got   yr  yum  \\\n",
       "0      0.0  ...    0.0            0.0      0.0    0.0        0.0  0.0  0.0   \n",
       "1      0.0  ...    0.0            0.0      0.0    0.0        0.0  0.0  0.0   \n",
       "2      0.0  ...    0.0            0.0      0.0    0.0        0.0  0.0  0.0   \n",
       "3      0.0  ...    0.0            0.0      0.0    0.0        0.0  0.0  0.0   \n",
       "4      0.0  ...    0.0            0.0      0.0    0.0        0.0  0.0  0.0   \n",
       "...    ...  ...    ...            ...      ...    ...        ...  ...  ...   \n",
       "15808  0.0  ...    0.0            0.0      0.0    0.0        0.0  0.0  0.0   \n",
       "15809  0.0  ...    0.0            0.0      0.0    0.0        0.0  0.0  0.0   \n",
       "15810  0.0  ...    0.0            0.0      0.0    0.0        0.0  0.0  0.0   \n",
       "15811  0.0  ...    0.0            0.0      0.0    0.0        0.0  0.0  0.0   \n",
       "15812  0.0  ...    0.0            0.0      0.0    0.0        0.0  0.0  0.0   \n",
       "\n",
       "       yummy  yup    z  \n",
       "0        0.0  0.0  0.0  \n",
       "1        0.0  0.0  0.0  \n",
       "2        0.0  0.0  0.0  \n",
       "3        0.0  0.0  0.0  \n",
       "4        0.0  0.0  0.0  \n",
       "...      ...  ...  ...  \n",
       "15808    0.0  0.0  0.0  \n",
       "15809    0.0  0.0  0.0  \n",
       "15810    0.0  0.0  0.0  \n",
       "15811    0.0  0.0  0.0  \n",
       "15812    0.0  0.0  0.0  \n",
       "\n",
       "[15813 rows x 2000 columns]"
      ]
     },
     "execution_count": 278,
     "metadata": {},
     "output_type": "execute_result"
    }
   ],
   "source": [
    "# We can extract the information and put it in a data frame to make it easier to see what has occured\n",
    "X_test_df_tfidf_vect = pd.DataFrame(columns=tfidf_vector.get_feature_names_out(), data=X_test_tfidf_transform.toarray())\n",
    "X_test_df_tfidf_vect"
   ]
  },
  {
   "cell_type": "code",
   "execution_count": 279,
   "id": "18f50311-6a6d-42b1-971e-40bc84b5b031",
   "metadata": {},
   "outputs": [
    {
     "data": {
      "text/plain": [
       "True"
      ]
     },
     "execution_count": 279,
     "metadata": {},
     "output_type": "execute_result"
    }
   ],
   "source": [
    "#sanity check - to make sure the shape are equal\n",
    "X_train_df_tfidf_vect.shape[0] == X_train.shape[0]"
   ]
  },
  {
   "cell_type": "code",
   "execution_count": 280,
   "id": "9ac6e2c5-30e5-42cf-8539-2a0f5c81680a",
   "metadata": {},
   "outputs": [
    {
     "name": "stdout",
     "output_type": "stream",
     "text": [
      "There are 44274 rows, and 2000columns in the X_train summary dataframe\n"
     ]
    }
   ],
   "source": [
    "#Checking the shape of the summary dataframe\n",
    "print(f'There are {X_train_df_tfidf_vect.shape[0]} rows, and {X_train_df_tfidf_vect.shape[1]}\\\n",
    "columns in the X_train summary dataframe')"
   ]
  },
  {
   "cell_type": "markdown",
   "id": "82ae2361",
   "metadata": {
    "id": "82ae2361"
   },
   "source": [
    "---\n",
    "### Logistic Regression using TF-IDF Vectorizer"
   ]
  },
  {
   "cell_type": "code",
   "execution_count": 281,
   "id": "8299af0d",
   "metadata": {},
   "outputs": [],
   "source": [
    "# Initializing Scale\n",
    "scaler = RobustScaler()\n",
    "\n",
    "# Fitting scale\n",
    "scaler.fit(X_train_df_tfidf_vect)\n",
    "\n",
    "# Transform scale\n",
    "X_train_scaled_tfidf = scaler.transform(X_train_df_tfidf_vect)\n",
    "X_val_scaled_tfidf = scaler.transform(X_val_df_tfidf_vect)\n",
    "X_test_scaled_tfidf = scaler.transform(X_test_df_tfidf_vect)"
   ]
  },
  {
   "cell_type": "code",
   "execution_count": 282,
   "id": "8bd665d3",
   "metadata": {
    "colab": {
     "base_uri": "https://localhost:8080/",
     "height": 109
    },
    "id": "8bd665d3",
    "outputId": "e7f3a0ff-31fd-4dde-93ce-214203d88564"
   },
   "outputs": [
    {
     "name": "stdout",
     "output_type": "stream",
     "text": [
      "Train score: 0.7714459953923296\n",
      "Validate score: 0.7432411067193676\n",
      "Test score: 0.7407829001454499\n"
     ]
    }
   ],
   "source": [
    "# instantiate model\n",
    "logreg_model_tfidf = LogisticRegression(max_iter=10000, random_state=1)\n",
    "\n",
    "# fit the model\n",
    "logreg_model_tfidf.fit(X_train_scaled_tfidf, y_train)\n",
    "\n",
    "# Training and test score\n",
    "print(f\"Train score: {logreg_model_tfidf.score(X_train_scaled_tfidf, y_train)}\")\n",
    "print(f\"Validate score: {logreg_model_tfidf.score(X_val_scaled_tfidf, y_val)}\")\n",
    "print(f\"Test score: {logreg_model_tfidf.score(X_test_scaled_tfidf, y_test)}\")"
   ]
  },
  {
   "cell_type": "markdown",
   "id": "72a9a18d-57de-4586-88cd-c1cfccbbc345",
   "metadata": {},
   "source": [
    "|     Logistic Regression    | Train Score | Validation score | Test score |\n",
    "|:--------------------------:|-------------|:----------------:|:----------:|\n",
    "| Bag-of-Words Vectorization |    77.28%   |      74.20%      |   73.98%   |\n",
    "| TF-IDF Vectorization       |    77.10%   |      74.59%      |   74.17%   |"
   ]
  },
  {
   "cell_type": "markdown",
   "id": "7429a25f-3145-43e8-afdb-2c86ebc0c02c",
   "metadata": {},
   "source": [
    "We can see a small comparison while using a different `Vectorization`, due to a samll percentage difference in accuracy score, we can consider TF-IDF as the vector to use for vectorizing our data and giving weight to important and rare words."
   ]
  },
  {
   "cell_type": "code",
   "execution_count": 283,
   "id": "3b367b86-e029-462c-9498-e61927ad21bb",
   "metadata": {
    "colab": {
     "base_uri": "https://localhost:8080/",
     "height": 432
    },
    "id": "d-iff96Al6GD",
    "outputId": "5b2f859e-89eb-4fa6-fb69-b624c6217e26"
   },
   "outputs": [],
   "source": [
    "# creating a dataframe to plot a bar graph\n",
    "word_coefficients = pd.DataFrame(\n",
    "    {\"coefficients\": logreg_model_tfidf.coef_[0]},\n",
    "    index=tfidf_vector.get_feature_names_out()\n",
    ").sort_values(\"coefficients\", ascending=False)"
   ]
  },
  {
   "cell_type": "code",
   "execution_count": 284,
   "id": "8c43de91-c780-40b1-ad45-5c72d94cea53",
   "metadata": {},
   "outputs": [
    {
     "data": {
      "text/plain": [
       "<Figure size 640x480 with 0 Axes>"
      ]
     },
     "metadata": {},
     "output_type": "display_data"
    },
    {
     "data": {
      "image/png": "[encoded data removed]",
      "text/plain": [
       "<Figure size 1500x500 with 1 Axes>"
      ]
     },
     "metadata": {},
     "output_type": "display_data"
    }
   ],
   "source": [
    "# let's plot a bar graph and show 20 highest positive sentiment\n",
    "plt.figure()\n",
    "word_coefficients.head(20).plot(kind=\"bar\", figsize=(15, 5), legend=False)\n",
    "plt.title(\"The 20 highest model coefficients indicating positive sentiment\")\n",
    "plt.ylabel(\"Coefficients\")\n",
    "plt.xticks(rotation=45)\n",
    "plt.show()"
   ]
  },
  {
   "cell_type": "code",
   "execution_count": 285,
   "id": "acf3d49a-70b3-4dcd-ad82-1013cd8ce01b",
   "metadata": {
    "colab": {
     "base_uri": "https://localhost:8080/",
     "height": 424
    },
    "id": "yk-nifijmFBh",
    "outputId": "4a38f21e-80a9-40f4-dfa1-98a5c11d2bea"
   },
   "outputs": [
    {
     "data": {
      "text/plain": [
       "<Figure size 640x480 with 0 Axes>"
      ]
     },
     "metadata": {},
     "output_type": "display_data"
    },
    {
     "data": {
      "image/png": "[encoded data removed]",
      "text/plain": [
       "<Figure size 1500x500 with 1 Axes>"
      ]
     },
     "metadata": {},
     "output_type": "display_data"
    }
   ],
   "source": [
    "# let's plot a bar graph and show lowest 20 negative sentiment.\n",
    "plt.figure()\n",
    "word_coefficients.sort_values(\"coefficients\", ascending=True).head(20).plot(kind=\"bar\", figsize=(15, 5), legend=False)\n",
    "plt.title(\"The 20 lowest model coefficients indicating negative sentiment\")\n",
    "plt.ylabel(\"Coefficients\")\n",
    "plt.xticks(rotation=45)\n",
    "plt.show()"
   ]
  },
  {
   "cell_type": "markdown",
   "id": "25c4be2b",
   "metadata": {},
   "source": [
    "### Model Evaluation\n",
    "\n",
    "#### Confusion Matrix for the LogisticRegression On TF-IDF Vectorizer"
   ]
  },
  {
   "cell_type": "code",
   "execution_count": 286,
   "id": "cd8c3a93-49ea-4425-b876-5fc8b2e532d7",
   "metadata": {},
   "outputs": [
    {
     "data": {
      "text/html": [
       "<div>\n",
       "<style scoped>\n",
       "    .dataframe tbody tr th:only-of-type {\n",
       "        vertical-align: middle;\n",
       "    }\n",
       "\n",
       "    .dataframe tbody tr th {\n",
       "        vertical-align: top;\n",
       "    }\n",
       "\n",
       "    .dataframe thead th {\n",
       "        text-align: right;\n",
       "    }\n",
       "</style>\n",
       "<table border=\"1\" class=\"dataframe\">\n",
       "  <thead>\n",
       "    <tr style=\"text-align: right;\">\n",
       "      <th></th>\n",
       "      <th>Predicted Negative</th>\n",
       "      <th>Predicted Positive</th>\n",
       "    </tr>\n",
       "  </thead>\n",
       "  <tbody>\n",
       "    <tr>\n",
       "      <th>True Negative</th>\n",
       "      <td>5705</td>\n",
       "      <td>2211</td>\n",
       "    </tr>\n",
       "    <tr>\n",
       "      <th>True Positive</th>\n",
       "      <td>1888</td>\n",
       "      <td>6009</td>\n",
       "    </tr>\n",
       "  </tbody>\n",
       "</table>\n",
       "</div>"
      ],
      "text/plain": [
       "               Predicted Negative  Predicted Positive\n",
       "True Negative                5705                2211\n",
       "True Positive                1888                6009"
      ]
     },
     "metadata": {},
     "output_type": "display_data"
    }
   ],
   "source": [
    "# Get class predictions\n",
    "y_pred = logreg_model_tfidf.predict(X_test_scaled_tfidf)\n",
    "\n",
    "# Generate confusion matrix\n",
    "cf_matrix = confusion_matrix(y_test, y_pred)\n",
    "\n",
    "# Label rows and columns\n",
    "cf_df = pd.DataFrame(\n",
    "    cf_matrix, \n",
    "    columns=[\"Predicted Negative\", \"Predicted Positive\"],\n",
    "    index=[\"True Negative\", \"True Positive\"]\n",
    ")\n",
    "\n",
    "display(cf_df)"
   ]
  },
  {
   "cell_type": "code",
   "execution_count": 287,
   "id": "e3e583cb-f5da-47aa-a449-143e6715e279",
   "metadata": {},
   "outputs": [
    {
     "data": {
      "text/plain": [
       "<sklearn.metrics._plot.confusion_matrix.ConfusionMatrixDisplay at 0x7f59d61aed10>"
      ]
     },
     "execution_count": 287,
     "metadata": {},
     "output_type": "execute_result"
    },
    {
     "data": {
      "image/png": "[encoded data removed]",
      "text/plain": [
       "<Figure size 640x480 with 2 Axes>"
      ]
     },
     "metadata": {},
     "output_type": "display_data"
    }
   ],
   "source": [
    "# the function expects the estimator, inputs and target as parameters\n",
    "ConfusionMatrixDisplay.from_estimator(logreg_model_tfidf, X_test_scaled_tfidf, y_test)"
   ]
  },
  {
   "cell_type": "markdown",
   "id": "eeaf296f-34a5-4290-9a2e-efcb9617b445",
   "metadata": {},
   "source": [
    "Let's interpret these numbers of the confusion matrix:\n",
    "\n",
    "* **True Negative**: `5722` are correctly predicted as negative Tweet\n",
    "* **False Positive**: `2217` that where incorrectly classified as positive Tweet\n",
    "\n",
    "* **False Negative**: `1866` incorrectly predicted as a negative Tweet \n",
    "* **True Positive**: `6008` correctly predicted as postive Tweet\n",
    "\n",
    "The total of True values (TP + TN) are much higher than the total of False values (FP + FN) indicating a higher accuracy\n",
    "\n",
    "But with regards to sentiment analysis we want a higher recall rate (how well the model identifies the positive or negative Tweet correctly vs the total positive or negative in the dataset)"
   ]
  },
  {
   "cell_type": "code",
   "execution_count": 288,
   "id": "8d744cad-032d-45f2-ac3b-14d337ba57e3",
   "metadata": {},
   "outputs": [
    {
     "name": "stdout",
     "output_type": "stream",
     "text": [
      "              precision    recall  f1-score   support\n",
      "\n",
      "           0       0.75      0.72      0.74      7916\n",
      "           1       0.73      0.76      0.75      7897\n",
      "\n",
      "    accuracy                           0.74     15813\n",
      "   macro avg       0.74      0.74      0.74     15813\n",
      "weighted avg       0.74      0.74      0.74     15813\n",
      "\n"
     ]
    }
   ],
   "source": [
    "#Now the classification report can be generated\n",
    "report_initial = classification_report(y_test, y_pred)\n",
    "print(report_initial)"
   ]
  },
  {
   "cell_type": "markdown",
   "id": "e7e4b0e4-ba1d-4c84-9f7a-3ae86a4388ca",
   "metadata": {},
   "source": [
    "As we predicted we have a good accuracy score of 74%, and enough a decent recall rate 72% as negative Tweet and 76% for the positive Tweet. \n",
    "\n",
    "We can try to improve the recal rate by adjusting the threshold using y_proba.\n",
    "\n",
    "Let's see how much the recall has improved after we adjust the y_proba rate to 0.2."
   ]
  },
  {
   "cell_type": "code",
   "execution_count": 289,
   "id": "f529f09a-a15b-4568-8b17-ce6931bf917b",
   "metadata": {},
   "outputs": [],
   "source": [
    "# Make probabilistic predictions (scores)\n",
    "y_proba = logreg_model_tfidf.predict_proba(X_test_scaled)[:,1]"
   ]
  },
  {
   "cell_type": "code",
   "execution_count": 290,
   "id": "6a51b628-3e5c-418c-bde1-4349303f29f4",
   "metadata": {},
   "outputs": [
    {
     "name": "stdout",
     "output_type": "stream",
     "text": [
      "Threshold of 0.5:\n",
      "Precision score: 0.7450090744101633\n",
      "Recall score: 0.7277447131822211\n",
      "\n",
      "Threshold of 0.2:\n",
      "Precision score: 0.6699521811261833\n",
      "Recall score: 0.8693174623274661\n"
     ]
    }
   ],
   "source": [
    "# First calculate precision and recall using the default (0.5) cut-off\n",
    "y_threshold = np.where(y_proba > 0.5, 1, 0)\n",
    "print(\"Threshold of 0.5:\")\n",
    "print(f\"Precision score: {precision_score(y_test, y_threshold)}\")\n",
    "print(f\"Recall score: {recall_score(y_test, y_threshold)}\")\n",
    "print(\"\")\n",
    "\n",
    "# Calculate the same using a much lower cut-off (0.2)\n",
    "y_threshold = np.where(y_proba > 0.2, 1, 0)\n",
    "print(\"Threshold of 0.2:\")\n",
    "print(f\"Precision score: {precision_score(y_test, y_threshold)}\")\n",
    "print(f\"Recall score: {recall_score(y_test, y_threshold)}\")"
   ]
  },
  {
   "cell_type": "markdown",
   "id": "1e6c2e8e-aed5-43ae-bf8a-87f054411447",
   "metadata": {},
   "source": [
    "So by reducing the y_proba from 0.5 to 0.2 we see an increase significantly in a Recall"
   ]
  },
  {
   "cell_type": "markdown",
   "id": "66b76672-a4f5-42b2-aa92-d986b56f7b81",
   "metadata": {},
   "source": [
    "### 4. Saving file"
   ]
  },
  {
   "cell_type": "markdown",
   "id": "e66e3b6b-5341-4e86-9c2b-428932d11eb4",
   "metadata": {},
   "source": [
    "Before saving to file let's join the X_train and X_val to X_remainder"
   ]
  },
  {
   "cell_type": "code",
   "execution_count": 296,
   "id": "126c8832-82a8-494b-8910-8167d228c8a2",
   "metadata": {},
   "outputs": [],
   "source": [
    "X_remainder = pd.concat([X_train_df_tfidf_vect, X_val_df_tfidf_vect])"
   ]
  },
  {
   "cell_type": "code",
   "execution_count": 297,
   "id": "53115fc6-1063-406c-b30d-36e752dc61ea",
   "metadata": {},
   "outputs": [
    {
     "data": {
      "text/plain": [
       "True"
      ]
     },
     "execution_count": 297,
     "metadata": {},
     "output_type": "execute_result"
    }
   ],
   "source": [
    "X_remainder.shape[0] == X_rem.shape[0]"
   ]
  },
  {
   "cell_type": "code",
   "execution_count": 298,
   "id": "284e3699-336f-4e47-8dbf-4ddab6d22119",
   "metadata": {},
   "outputs": [],
   "source": [
    "X_remainder.to_csv('rem_vectorized.csv', index=False)\n",
    "X_test_df_tfidf_vect.to_csv('test_vectorized.csv', index=False)"
   ]
  },
  {
   "cell_type": "code",
   "execution_count": 299,
   "id": "a7867333-17b2-4b34-8ae2-30f36197bbea",
   "metadata": {},
   "outputs": [],
   "source": [
    "y_rem.to_csv('y_rem.csv', index=False)\n",
    "y_test.to_csv('y_test.csv', index=False)"
   ]
  },
  {
   "cell_type": "code",
   "execution_count": 300,
   "id": "f02e2329-2b23-4041-a18c-075295b0082b",
   "metadata": {},
   "outputs": [
    {
     "data": {
      "text/html": [
       "<div>\n",
       "<style scoped>\n",
       "    .dataframe tbody tr th:only-of-type {\n",
       "        vertical-align: middle;\n",
       "    }\n",
       "\n",
       "    .dataframe tbody tr th {\n",
       "        vertical-align: top;\n",
       "    }\n",
       "\n",
       "    .dataframe thead th {\n",
       "        text-align: right;\n",
       "    }\n",
       "</style>\n",
       "<table border=\"1\" class=\"dataframe\">\n",
       "  <thead>\n",
       "    <tr style=\"text-align: right;\">\n",
       "      <th></th>\n",
       "      <th>able</th>\n",
       "      <th>absolutely</th>\n",
       "      <th>abt</th>\n",
       "      <th>accident</th>\n",
       "      <th>account</th>\n",
       "      <th>ache</th>\n",
       "      <th>act</th>\n",
       "      <th>action</th>\n",
       "      <th>actually</th>\n",
       "      <th>ad</th>\n",
       "      <th>...</th>\n",
       "      <th>youre</th>\n",
       "      <th>youre welcome</th>\n",
       "      <th>youtube</th>\n",
       "      <th>youve</th>\n",
       "      <th>youve got</th>\n",
       "      <th>yr</th>\n",
       "      <th>yum</th>\n",
       "      <th>yummy</th>\n",
       "      <th>yup</th>\n",
       "      <th>z</th>\n",
       "    </tr>\n",
       "  </thead>\n",
       "  <tbody>\n",
       "    <tr>\n",
       "      <th>0</th>\n",
       "      <td>0.0</td>\n",
       "      <td>0.0</td>\n",
       "      <td>0.0</td>\n",
       "      <td>0.0</td>\n",
       "      <td>0.0</td>\n",
       "      <td>0.0</td>\n",
       "      <td>0.0</td>\n",
       "      <td>0.0</td>\n",
       "      <td>0.0</td>\n",
       "      <td>0.0</td>\n",
       "      <td>...</td>\n",
       "      <td>0.235473</td>\n",
       "      <td>0.0</td>\n",
       "      <td>0.0</td>\n",
       "      <td>0.0</td>\n",
       "      <td>0.0</td>\n",
       "      <td>0.0</td>\n",
       "      <td>0.0</td>\n",
       "      <td>0.0</td>\n",
       "      <td>0.0</td>\n",
       "      <td>0.0</td>\n",
       "    </tr>\n",
       "    <tr>\n",
       "      <th>1</th>\n",
       "      <td>0.0</td>\n",
       "      <td>0.0</td>\n",
       "      <td>0.0</td>\n",
       "      <td>0.0</td>\n",
       "      <td>0.0</td>\n",
       "      <td>0.0</td>\n",
       "      <td>0.0</td>\n",
       "      <td>0.0</td>\n",
       "      <td>0.0</td>\n",
       "      <td>0.0</td>\n",
       "      <td>...</td>\n",
       "      <td>0.000000</td>\n",
       "      <td>0.0</td>\n",
       "      <td>0.0</td>\n",
       "      <td>0.0</td>\n",
       "      <td>0.0</td>\n",
       "      <td>0.0</td>\n",
       "      <td>0.0</td>\n",
       "      <td>0.0</td>\n",
       "      <td>0.0</td>\n",
       "      <td>0.0</td>\n",
       "    </tr>\n",
       "    <tr>\n",
       "      <th>2</th>\n",
       "      <td>0.0</td>\n",
       "      <td>0.0</td>\n",
       "      <td>0.0</td>\n",
       "      <td>0.0</td>\n",
       "      <td>0.0</td>\n",
       "      <td>0.0</td>\n",
       "      <td>0.0</td>\n",
       "      <td>0.0</td>\n",
       "      <td>0.0</td>\n",
       "      <td>0.0</td>\n",
       "      <td>...</td>\n",
       "      <td>0.000000</td>\n",
       "      <td>0.0</td>\n",
       "      <td>0.0</td>\n",
       "      <td>0.0</td>\n",
       "      <td>0.0</td>\n",
       "      <td>0.0</td>\n",
       "      <td>0.0</td>\n",
       "      <td>0.0</td>\n",
       "      <td>0.0</td>\n",
       "      <td>0.0</td>\n",
       "    </tr>\n",
       "    <tr>\n",
       "      <th>3</th>\n",
       "      <td>0.0</td>\n",
       "      <td>0.0</td>\n",
       "      <td>0.0</td>\n",
       "      <td>0.0</td>\n",
       "      <td>0.0</td>\n",
       "      <td>0.0</td>\n",
       "      <td>0.0</td>\n",
       "      <td>0.0</td>\n",
       "      <td>0.0</td>\n",
       "      <td>0.0</td>\n",
       "      <td>...</td>\n",
       "      <td>0.000000</td>\n",
       "      <td>0.0</td>\n",
       "      <td>0.0</td>\n",
       "      <td>0.0</td>\n",
       "      <td>0.0</td>\n",
       "      <td>0.0</td>\n",
       "      <td>0.0</td>\n",
       "      <td>0.0</td>\n",
       "      <td>0.0</td>\n",
       "      <td>0.0</td>\n",
       "    </tr>\n",
       "    <tr>\n",
       "      <th>4</th>\n",
       "      <td>0.0</td>\n",
       "      <td>0.0</td>\n",
       "      <td>0.0</td>\n",
       "      <td>0.0</td>\n",
       "      <td>0.0</td>\n",
       "      <td>0.0</td>\n",
       "      <td>0.0</td>\n",
       "      <td>0.0</td>\n",
       "      <td>0.0</td>\n",
       "      <td>0.0</td>\n",
       "      <td>...</td>\n",
       "      <td>0.000000</td>\n",
       "      <td>0.0</td>\n",
       "      <td>0.0</td>\n",
       "      <td>0.0</td>\n",
       "      <td>0.0</td>\n",
       "      <td>0.0</td>\n",
       "      <td>0.0</td>\n",
       "      <td>0.0</td>\n",
       "      <td>0.0</td>\n",
       "      <td>0.0</td>\n",
       "    </tr>\n",
       "    <tr>\n",
       "      <th>...</th>\n",
       "      <td>...</td>\n",
       "      <td>...</td>\n",
       "      <td>...</td>\n",
       "      <td>...</td>\n",
       "      <td>...</td>\n",
       "      <td>...</td>\n",
       "      <td>...</td>\n",
       "      <td>...</td>\n",
       "      <td>...</td>\n",
       "      <td>...</td>\n",
       "      <td>...</td>\n",
       "      <td>...</td>\n",
       "      <td>...</td>\n",
       "      <td>...</td>\n",
       "      <td>...</td>\n",
       "      <td>...</td>\n",
       "      <td>...</td>\n",
       "      <td>...</td>\n",
       "      <td>...</td>\n",
       "      <td>...</td>\n",
       "      <td>...</td>\n",
       "    </tr>\n",
       "    <tr>\n",
       "      <th>63244</th>\n",
       "      <td>0.0</td>\n",
       "      <td>0.0</td>\n",
       "      <td>0.0</td>\n",
       "      <td>0.0</td>\n",
       "      <td>0.0</td>\n",
       "      <td>0.0</td>\n",
       "      <td>0.0</td>\n",
       "      <td>0.0</td>\n",
       "      <td>0.0</td>\n",
       "      <td>0.0</td>\n",
       "      <td>...</td>\n",
       "      <td>0.000000</td>\n",
       "      <td>0.0</td>\n",
       "      <td>0.0</td>\n",
       "      <td>0.0</td>\n",
       "      <td>0.0</td>\n",
       "      <td>0.0</td>\n",
       "      <td>0.0</td>\n",
       "      <td>0.0</td>\n",
       "      <td>0.0</td>\n",
       "      <td>0.0</td>\n",
       "    </tr>\n",
       "    <tr>\n",
       "      <th>63245</th>\n",
       "      <td>0.0</td>\n",
       "      <td>0.0</td>\n",
       "      <td>0.0</td>\n",
       "      <td>0.0</td>\n",
       "      <td>0.0</td>\n",
       "      <td>0.0</td>\n",
       "      <td>0.0</td>\n",
       "      <td>0.0</td>\n",
       "      <td>0.0</td>\n",
       "      <td>0.0</td>\n",
       "      <td>...</td>\n",
       "      <td>0.000000</td>\n",
       "      <td>0.0</td>\n",
       "      <td>0.0</td>\n",
       "      <td>0.0</td>\n",
       "      <td>0.0</td>\n",
       "      <td>0.0</td>\n",
       "      <td>0.0</td>\n",
       "      <td>0.0</td>\n",
       "      <td>0.0</td>\n",
       "      <td>0.0</td>\n",
       "    </tr>\n",
       "    <tr>\n",
       "      <th>63246</th>\n",
       "      <td>0.0</td>\n",
       "      <td>0.0</td>\n",
       "      <td>0.0</td>\n",
       "      <td>0.0</td>\n",
       "      <td>0.0</td>\n",
       "      <td>0.0</td>\n",
       "      <td>0.0</td>\n",
       "      <td>0.0</td>\n",
       "      <td>0.0</td>\n",
       "      <td>0.0</td>\n",
       "      <td>...</td>\n",
       "      <td>0.000000</td>\n",
       "      <td>0.0</td>\n",
       "      <td>0.0</td>\n",
       "      <td>0.0</td>\n",
       "      <td>0.0</td>\n",
       "      <td>0.0</td>\n",
       "      <td>0.0</td>\n",
       "      <td>0.0</td>\n",
       "      <td>0.0</td>\n",
       "      <td>0.0</td>\n",
       "    </tr>\n",
       "    <tr>\n",
       "      <th>63247</th>\n",
       "      <td>0.0</td>\n",
       "      <td>0.0</td>\n",
       "      <td>0.0</td>\n",
       "      <td>0.0</td>\n",
       "      <td>0.0</td>\n",
       "      <td>0.0</td>\n",
       "      <td>0.0</td>\n",
       "      <td>0.0</td>\n",
       "      <td>0.0</td>\n",
       "      <td>0.0</td>\n",
       "      <td>...</td>\n",
       "      <td>0.000000</td>\n",
       "      <td>0.0</td>\n",
       "      <td>0.0</td>\n",
       "      <td>0.0</td>\n",
       "      <td>0.0</td>\n",
       "      <td>0.0</td>\n",
       "      <td>0.0</td>\n",
       "      <td>0.0</td>\n",
       "      <td>0.0</td>\n",
       "      <td>0.0</td>\n",
       "    </tr>\n",
       "    <tr>\n",
       "      <th>63248</th>\n",
       "      <td>0.0</td>\n",
       "      <td>0.0</td>\n",
       "      <td>0.0</td>\n",
       "      <td>0.0</td>\n",
       "      <td>0.0</td>\n",
       "      <td>0.0</td>\n",
       "      <td>0.0</td>\n",
       "      <td>0.0</td>\n",
       "      <td>0.0</td>\n",
       "      <td>0.0</td>\n",
       "      <td>...</td>\n",
       "      <td>0.000000</td>\n",
       "      <td>0.0</td>\n",
       "      <td>0.0</td>\n",
       "      <td>0.0</td>\n",
       "      <td>0.0</td>\n",
       "      <td>0.0</td>\n",
       "      <td>0.0</td>\n",
       "      <td>0.0</td>\n",
       "      <td>0.0</td>\n",
       "      <td>0.0</td>\n",
       "    </tr>\n",
       "  </tbody>\n",
       "</table>\n",
       "<p>63249 rows × 2000 columns</p>\n",
       "</div>"
      ],
      "text/plain": [
       "       able  absolutely  abt  accident  account  ache  act  action  actually  \\\n",
       "0       0.0         0.0  0.0       0.0      0.0   0.0  0.0     0.0       0.0   \n",
       "1       0.0         0.0  0.0       0.0      0.0   0.0  0.0     0.0       0.0   \n",
       "2       0.0         0.0  0.0       0.0      0.0   0.0  0.0     0.0       0.0   \n",
       "3       0.0         0.0  0.0       0.0      0.0   0.0  0.0     0.0       0.0   \n",
       "4       0.0         0.0  0.0       0.0      0.0   0.0  0.0     0.0       0.0   \n",
       "...     ...         ...  ...       ...      ...   ...  ...     ...       ...   \n",
       "63244   0.0         0.0  0.0       0.0      0.0   0.0  0.0     0.0       0.0   \n",
       "63245   0.0         0.0  0.0       0.0      0.0   0.0  0.0     0.0       0.0   \n",
       "63246   0.0         0.0  0.0       0.0      0.0   0.0  0.0     0.0       0.0   \n",
       "63247   0.0         0.0  0.0       0.0      0.0   0.0  0.0     0.0       0.0   \n",
       "63248   0.0         0.0  0.0       0.0      0.0   0.0  0.0     0.0       0.0   \n",
       "\n",
       "        ad  ...     youre  youre welcome  youtube  youve  youve got   yr  yum  \\\n",
       "0      0.0  ...  0.235473            0.0      0.0    0.0        0.0  0.0  0.0   \n",
       "1      0.0  ...  0.000000            0.0      0.0    0.0        0.0  0.0  0.0   \n",
       "2      0.0  ...  0.000000            0.0      0.0    0.0        0.0  0.0  0.0   \n",
       "3      0.0  ...  0.000000            0.0      0.0    0.0        0.0  0.0  0.0   \n",
       "4      0.0  ...  0.000000            0.0      0.0    0.0        0.0  0.0  0.0   \n",
       "...    ...  ...       ...            ...      ...    ...        ...  ...  ...   \n",
       "63244  0.0  ...  0.000000            0.0      0.0    0.0        0.0  0.0  0.0   \n",
       "63245  0.0  ...  0.000000            0.0      0.0    0.0        0.0  0.0  0.0   \n",
       "63246  0.0  ...  0.000000            0.0      0.0    0.0        0.0  0.0  0.0   \n",
       "63247  0.0  ...  0.000000            0.0      0.0    0.0        0.0  0.0  0.0   \n",
       "63248  0.0  ...  0.000000            0.0      0.0    0.0        0.0  0.0  0.0   \n",
       "\n",
       "       yummy  yup    z  \n",
       "0        0.0  0.0  0.0  \n",
       "1        0.0  0.0  0.0  \n",
       "2        0.0  0.0  0.0  \n",
       "3        0.0  0.0  0.0  \n",
       "4        0.0  0.0  0.0  \n",
       "...      ...  ...  ...  \n",
       "63244    0.0  0.0  0.0  \n",
       "63245    0.0  0.0  0.0  \n",
       "63246    0.0  0.0  0.0  \n",
       "63247    0.0  0.0  0.0  \n",
       "63248    0.0  0.0  0.0  \n",
       "\n",
       "[63249 rows x 2000 columns]"
      ]
     },
     "execution_count": 300,
     "metadata": {},
     "output_type": "execute_result"
    }
   ],
   "source": [
    "#sanity check\n",
    "check_df = pd.read_csv('rem_vectorized.csv')\n",
    "check_df"
   ]
  },
  {
   "cell_type": "markdown",
   "id": "b0519735-c37a-453c-957f-47c6c6c02c29",
   "metadata": {},
   "source": [
    "---\n",
    "## 5. Summary\n",
    "\n",
    "To conclude this notebook, we went through a preprocessing feature engineer for text data. We used techniques of text vectorization including `CountVectorizer` and `TF-IDF`.\n",
    "\n",
    "We also worked on the baseline model `Logistic Regression` and comparing the accuracy with a Text vectorizer method. In which we selected going with `TF-IDF Vectorizer`\n",
    "\n",
    "In my next notebook, I will be using an advance machine learning models."
   ]
  }
 ],
 "metadata": {
  "colab": {
   "provenance": []
  },
  "environment": {
   "kernel": "python3",
   "name": "common-cpu.m109",
   "type": "gcloud",
   "uri": "gcr.io/deeplearning-platform-release/base-cpu:m109"
  },
  "kernelspec": {
   "display_name": "Python 3",
   "language": "python",
   "name": "python3"
  },
  "language_info": {
   "codemirror_mode": {
    "name": "ipython",
    "version": 3
   },
   "file_extension": ".py",
   "mimetype": "text/x-python",
   "name": "python",
   "nbconvert_exporter": "python",
   "pygments_lexer": "ipython3",
   "version": "3.10.11"
  }
 },
 "nbformat": 4,
 "nbformat_minor": 5
}
