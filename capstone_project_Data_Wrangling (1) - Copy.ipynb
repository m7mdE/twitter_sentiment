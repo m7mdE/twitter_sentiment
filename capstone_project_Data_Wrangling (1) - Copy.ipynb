{
  "cells": [
    {
      "attachments": {},
      "cell_type": "markdown",
      "id": "cb6b73a8",
      "metadata": {
        "id": "cb6b73a8"
      },
      "source": [
        "## Introduction"
      ]
    },
    {
      "cell_type": "code",
      "execution_count": null,
      "id": "e9dd4919",
      "metadata": {
        "id": "e9dd4919"
      },
      "outputs": [],
      "source": []
    },
    {
      "cell_type": "code",
      "execution_count": null,
      "id": "303d2017",
      "metadata": {
        "id": "303d2017"
      },
      "outputs": [],
      "source": []
    },
    {
      "cell_type": "code",
      "execution_count": 1,
      "id": "1d875aec",
      "metadata": {
        "id": "1d875aec"
      },
      "outputs": [],
      "source": [
        "import pandas as pd\n",
        "import numpy as np\n",
        "import seaborn as sns\n",
        "import matplotlib.pyplot as plt\n",
        "import re\n",
        "\n",
        "# Importing library in order to see the progress bar\n",
        "from tqdm.notebook import tnrange, tqdm_notebook"
      ]
    },
    {
      "cell_type": "code",
      "execution_count": 2,
      "id": "6f5d2485",
      "metadata": {
        "id": "6f5d2485"
      },
      "outputs": [],
      "source": [
        "df = pd.read_csv('cleaned_twitter_data.csv')"
      ]
    },
    {
      "cell_type": "code",
      "execution_count": 3,
      "id": "8d97d54a",
      "metadata": {
        "colab": {
          "base_uri": "https://localhost:8080/"
        },
        "id": "8d97d54a",
        "outputId": "a3b8a59d-8e7a-4f7a-df63-739ca2c5581a"
      },
      "outputs": [
        {
          "data": {
            "text/plain": [
              "(1589521, 10)"
            ]
          },
          "execution_count": 3,
          "metadata": {},
          "output_type": "execute_result"
        }
      ],
      "source": [
        "df.shape"
      ]
    },
    {
      "cell_type": "code",
      "execution_count": 4,
      "id": "e13cc124",
      "metadata": {
        "colab": {
          "base_uri": "https://localhost:8080/",
          "height": 337
        },
        "id": "e13cc124",
        "outputId": "52f84029-b959-4f66-cd31-70b3b89d62e8"
      },
      "outputs": [
        {
          "data": {
            "text/html": [
              "<div>\n",
              "<style scoped>\n",
              "    .dataframe tbody tr th:only-of-type {\n",
              "        vertical-align: middle;\n",
              "    }\n",
              "\n",
              "    .dataframe tbody tr th {\n",
              "        vertical-align: top;\n",
              "    }\n",
              "\n",
              "    .dataframe thead th {\n",
              "        text-align: right;\n",
              "    }\n",
              "</style>\n",
              "<table border=\"1\" class=\"dataframe\">\n",
              "  <thead>\n",
              "    <tr style=\"text-align: right;\">\n",
              "      <th></th>\n",
              "      <th>Sentiment</th>\n",
              "      <th>Date</th>\n",
              "      <th>User</th>\n",
              "      <th>Tweet</th>\n",
              "      <th>Tagging</th>\n",
              "      <th>Hashtags</th>\n",
              "      <th>Emojis</th>\n",
              "      <th>Month</th>\n",
              "      <th>Day</th>\n",
              "      <th>DayOfWeek</th>\n",
              "    </tr>\n",
              "  </thead>\n",
              "  <tbody>\n",
              "    <tr>\n",
              "      <th>0</th>\n",
              "      <td>0</td>\n",
              "      <td>2009-04-06 22:19:45</td>\n",
              "      <td>_TheSpecialOne_</td>\n",
              "      <td>awww thats a bummer you shoulda got david ca...</td>\n",
              "      <td>switchfoot</td>\n",
              "      <td>NaN</td>\n",
              "      <td>;d</td>\n",
              "      <td>4</td>\n",
              "      <td>6</td>\n",
              "      <td>Monday</td>\n",
              "    </tr>\n",
              "    <tr>\n",
              "      <th>1</th>\n",
              "      <td>0</td>\n",
              "      <td>2009-04-06 22:19:49</td>\n",
              "      <td>scotthamilton</td>\n",
              "      <td>is upset that he cant update his facebook by t...</td>\n",
              "      <td>NaN</td>\n",
              "      <td>NaN</td>\n",
              "      <td>None</td>\n",
              "      <td>4</td>\n",
              "      <td>6</td>\n",
              "      <td>Monday</td>\n",
              "    </tr>\n",
              "    <tr>\n",
              "      <th>2</th>\n",
              "      <td>0</td>\n",
              "      <td>2009-04-06 22:19:53</td>\n",
              "      <td>mattycus</td>\n",
              "      <td>i dived many times for the ball managed to sav...</td>\n",
              "      <td>kenichan</td>\n",
              "      <td>NaN</td>\n",
              "      <td>None</td>\n",
              "      <td>4</td>\n",
              "      <td>6</td>\n",
              "      <td>Monday</td>\n",
              "    </tr>\n",
              "    <tr>\n",
              "      <th>3</th>\n",
              "      <td>0</td>\n",
              "      <td>2009-04-06 22:19:57</td>\n",
              "      <td>ElleCTF</td>\n",
              "      <td>my whole body feels itchy and like its on fire</td>\n",
              "      <td>NaN</td>\n",
              "      <td>NaN</td>\n",
              "      <td>None</td>\n",
              "      <td>4</td>\n",
              "      <td>6</td>\n",
              "      <td>Monday</td>\n",
              "    </tr>\n",
              "    <tr>\n",
              "      <th>4</th>\n",
              "      <td>0</td>\n",
              "      <td>2009-04-06 22:19:57</td>\n",
              "      <td>Karoli</td>\n",
              "      <td>no its not behaving at all im mad why am i her...</td>\n",
              "      <td>nationwideclass</td>\n",
              "      <td>NaN</td>\n",
              "      <td>None</td>\n",
              "      <td>4</td>\n",
              "      <td>6</td>\n",
              "      <td>Monday</td>\n",
              "    </tr>\n",
              "  </tbody>\n",
              "</table>\n",
              "</div>"
            ],
            "text/plain": [
              "   Sentiment                 Date             User  \\\n",
              "0          0  2009-04-06 22:19:45  _TheSpecialOne_   \n",
              "1          0  2009-04-06 22:19:49    scotthamilton   \n",
              "2          0  2009-04-06 22:19:53         mattycus   \n",
              "3          0  2009-04-06 22:19:57          ElleCTF   \n",
              "4          0  2009-04-06 22:19:57           Karoli   \n",
              "\n",
              "                                               Tweet          Tagging  \\\n",
              "0    awww thats a bummer you shoulda got david ca...       switchfoot   \n",
              "1  is upset that he cant update his facebook by t...              NaN   \n",
              "2  i dived many times for the ball managed to sav...         kenichan   \n",
              "3     my whole body feels itchy and like its on fire              NaN   \n",
              "4  no its not behaving at all im mad why am i her...  nationwideclass   \n",
              "\n",
              "  Hashtags Emojis  Month  Day DayOfWeek  \n",
              "0      NaN     ;d      4    6    Monday  \n",
              "1      NaN   None      4    6    Monday  \n",
              "2      NaN   None      4    6    Monday  \n",
              "3      NaN   None      4    6    Monday  \n",
              "4      NaN   None      4    6    Monday  "
            ]
          },
          "execution_count": 4,
          "metadata": {},
          "output_type": "execute_result"
        }
      ],
      "source": [
        "df.head()"
      ]
    },
    {
      "cell_type": "code",
      "execution_count": 5,
      "id": "54dd2be1",
      "metadata": {
        "colab": {
          "base_uri": "https://localhost:8080/"
        },
        "id": "54dd2be1",
        "outputId": "7e8eaae3-048b-494a-a2c9-624b204a24a0"
      },
      "outputs": [
        {
          "data": {
            "text/plain": [
              "Sentiment          0\n",
              "Date               0\n",
              "User               0\n",
              "Tweet           3156\n",
              "Tagging       857269\n",
              "Hashtags     1554267\n",
              "Emojis             0\n",
              "Month              0\n",
              "Day                0\n",
              "DayOfWeek          0\n",
              "dtype: int64"
            ]
          },
          "execution_count": 5,
          "metadata": {},
          "output_type": "execute_result"
        }
      ],
      "source": [
        "df.isna().sum()"
      ]
    },
    {
      "cell_type": "code",
      "execution_count": 6,
      "id": "a92571d2",
      "metadata": {
        "id": "a92571d2"
      },
      "outputs": [],
      "source": [
        "df['Tagging'] = df['Tagging'].fillna('None')\n",
        "df['Hashtags'] = df['Hashtags'].fillna('None')\n",
        "df['Emojis'] = df['Emojis'].fillna('None')"
      ]
    },
    {
      "cell_type": "code",
      "execution_count": 7,
      "id": "279c22d9",
      "metadata": {
        "colab": {
          "base_uri": "https://localhost:8080/"
        },
        "id": "279c22d9",
        "outputId": "b5730f2a-d120-4d6c-d8b1-fd05a5f2dd2e"
      },
      "outputs": [
        {
          "data": {
            "text/plain": [
              "Sentiment       0\n",
              "Date            0\n",
              "User            0\n",
              "Tweet        3156\n",
              "Tagging         0\n",
              "Hashtags        0\n",
              "Emojis          0\n",
              "Month           0\n",
              "Day             0\n",
              "DayOfWeek       0\n",
              "dtype: int64"
            ]
          },
          "execution_count": 7,
          "metadata": {},
          "output_type": "execute_result"
        }
      ],
      "source": [
        "df.isna().sum()"
      ]
    },
    {
      "cell_type": "code",
      "execution_count": 8,
      "id": "c38071b8",
      "metadata": {
        "id": "c38071b8"
      },
      "outputs": [],
      "source": [
        "df.dropna(inplace=True)"
      ]
    },
    {
      "cell_type": "code",
      "execution_count": 9,
      "id": "512ff0ee",
      "metadata": {
        "colab": {
          "base_uri": "https://localhost:8080/"
        },
        "id": "512ff0ee",
        "outputId": "351a6095-5b00-4c5c-e334-c8beb6f97324"
      },
      "outputs": [
        {
          "data": {
            "text/plain": [
              "(1586365, 10)"
            ]
          },
          "execution_count": 9,
          "metadata": {},
          "output_type": "execute_result"
        }
      ],
      "source": [
        "df.shape"
      ]
    },
    {
      "attachments": {},
      "cell_type": "markdown",
      "id": "4843d1da",
      "metadata": {
        "id": "4843d1da"
      },
      "source": [
        "### Taking a Sample data"
      ]
    },
    {
      "cell_type": "code",
      "execution_count": 10,
      "id": "8b711937",
      "metadata": {
        "id": "8b711937"
      },
      "outputs": [],
      "source": [
        "# copying 10% of data\n",
        "df_chunk = df.sample(frac=0.1).copy()"
      ]
    },
    {
      "cell_type": "code",
      "execution_count": 11,
      "id": "fd978a4c",
      "metadata": {
        "colab": {
          "base_uri": "https://localhost:8080/"
        },
        "id": "fd978a4c",
        "outputId": "914908f0-277c-4245-c47d-566ead91f07e"
      },
      "outputs": [
        {
          "data": {
            "text/plain": [
              "(158636, 10)"
            ]
          },
          "execution_count": 11,
          "metadata": {},
          "output_type": "execute_result"
        }
      ],
      "source": [
        "df_chunk.shape"
      ]
    },
    {
      "cell_type": "code",
      "execution_count": 12,
      "id": "e29feb60",
      "metadata": {
        "colab": {
          "base_uri": "https://localhost:8080/"
        },
        "id": "e29feb60",
        "outputId": "caf5ee06-7434-4e2b-8c8f-4585ab897973"
      },
      "outputs": [
        {
          "data": {
            "text/plain": [
              "158636"
            ]
          },
          "execution_count": 12,
          "metadata": {},
          "output_type": "execute_result"
        }
      ],
      "source": [
        "df_chunk['Sentiment'].value_counts().sum()"
      ]
    },
    {
      "cell_type": "code",
      "execution_count": 13,
      "id": "81523bad",
      "metadata": {
        "colab": {
          "base_uri": "https://localhost:8080/"
        },
        "id": "81523bad",
        "outputId": "045dbdfc-9401-42fa-cf30-fd9d83bd9d07"
      },
      "outputs": [
        {
          "data": {
            "text/plain": [
              "1    79323\n",
              "0    79313\n",
              "Name: Sentiment, dtype: int64"
            ]
          },
          "execution_count": 13,
          "metadata": {},
          "output_type": "execute_result"
        }
      ],
      "source": [
        "df_chunk['Sentiment'].value_counts()"
      ]
    },
    {
      "attachments": {},
      "cell_type": "markdown",
      "id": "d265bfd7",
      "metadata": {
        "id": "d265bfd7"
      },
      "source": [
        "### working with sample data"
      ]
    },
    {
      "cell_type": "code",
      "execution_count": 14,
      "id": "22fb6d0d",
      "metadata": {
        "colab": {
          "base_uri": "https://localhost:8080/",
          "height": 410
        },
        "id": "22fb6d0d",
        "outputId": "1485903e-b632-43ef-b47e-c1e2f87e92e0"
      },
      "outputs": [
        {
          "data": {
            "image/png": "[encoded data removed]",
            "text/plain": [
              "<Figure size 1000x400 with 1 Axes>"
            ]
          },
          "metadata": {},
          "output_type": "display_data"
        }
      ],
      "source": [
        "plt.figure(figsize=(10,4))\n",
        "df_chunk['Sentiment'].value_counts().plot(kind='bar', rot=0, color=['#FF7F0E', '#3685BC'])\n",
        "plt.title(\"Target Distirbution\")\n",
        "plt.xlabel(\"Sentiment\")\n",
        "plt.ylabel(\"Count\")\n",
        "\n",
        "plt.show()"
      ]
    },
    {
      "attachments": {},
      "cell_type": "markdown",
      "id": "177d0fbb",
      "metadata": {
        "id": "177d0fbb"
      },
      "source": [
        "---\n",
        "### Data Wrangling"
      ]
    },
    {
      "cell_type": "code",
      "execution_count": 15,
      "id": "cd176cb6",
      "metadata": {
        "id": "cd176cb6"
      },
      "outputs": [],
      "source": [
        "# splitting our data into train and test sets\n",
        "from sklearn.model_selection import train_test_split, GridSearchCV, cross_val_score\n",
        "from sklearn.feature_extraction.text import CountVectorizer"
      ]
    },
    {
      "cell_type": "code",
      "execution_count": 16,
      "id": "2c69f2fc",
      "metadata": {
        "colab": {
          "base_uri": "https://localhost:8080/",
          "height": 191
        },
        "id": "2c69f2fc",
        "outputId": "405c1482-65c7-4ee4-d85d-9f43db9f0b10"
      },
      "outputs": [
        {
          "data": {
            "text/html": [
              "<div>\n",
              "<style scoped>\n",
              "    .dataframe tbody tr th:only-of-type {\n",
              "        vertical-align: middle;\n",
              "    }\n",
              "\n",
              "    .dataframe tbody tr th {\n",
              "        vertical-align: top;\n",
              "    }\n",
              "\n",
              "    .dataframe thead th {\n",
              "        text-align: right;\n",
              "    }\n",
              "</style>\n",
              "<table border=\"1\" class=\"dataframe\">\n",
              "  <thead>\n",
              "    <tr style=\"text-align: right;\">\n",
              "      <th></th>\n",
              "      <th>Sentiment</th>\n",
              "      <th>Date</th>\n",
              "      <th>User</th>\n",
              "      <th>Tweet</th>\n",
              "      <th>Tagging</th>\n",
              "      <th>Hashtags</th>\n",
              "      <th>Emojis</th>\n",
              "      <th>Month</th>\n",
              "      <th>Day</th>\n",
              "      <th>DayOfWeek</th>\n",
              "    </tr>\n",
              "  </thead>\n",
              "  <tbody>\n",
              "    <tr>\n",
              "      <th>1396498</th>\n",
              "      <td>1</td>\n",
              "      <td>2009-06-06 08:31:50</td>\n",
              "      <td>LilyRoseMelody</td>\n",
              "      <td>im begging nicely</td>\n",
              "      <td>None</td>\n",
              "      <td>None</td>\n",
              "      <td>None</td>\n",
              "      <td>6</td>\n",
              "      <td>6</td>\n",
              "      <td>Saturday</td>\n",
              "    </tr>\n",
              "    <tr>\n",
              "      <th>311947</th>\n",
              "      <td>0</td>\n",
              "      <td>2009-06-02 01:13:59</td>\n",
              "      <td>kirak</td>\n",
              "      <td>is trying to get rid of this head pain</td>\n",
              "      <td>None</td>\n",
              "      <td>None</td>\n",
              "      <td>None</td>\n",
              "      <td>6</td>\n",
              "      <td>2</td>\n",
              "      <td>Tuesday</td>\n",
              "    </tr>\n",
              "  </tbody>\n",
              "</table>\n",
              "</div>"
            ],
            "text/plain": [
              "         Sentiment                 Date            User  \\\n",
              "1396498          1  2009-06-06 08:31:50  LilyRoseMelody   \n",
              "311947           0  2009-06-02 01:13:59           kirak   \n",
              "\n",
              "                                          Tweet Tagging Hashtags Emojis  \\\n",
              "1396498                       im begging nicely    None     None   None   \n",
              "311947   is trying to get rid of this head pain    None     None   None   \n",
              "\n",
              "         Month  Day DayOfWeek  \n",
              "1396498      6    6  Saturday  \n",
              "311947       6    2   Tuesday  "
            ]
          },
          "execution_count": 16,
          "metadata": {},
          "output_type": "execute_result"
        }
      ],
      "source": [
        "df_chunk.head(2)"
      ]
    },
    {
      "cell_type": "code",
      "execution_count": 17,
      "id": "6172598a",
      "metadata": {
        "id": "6172598a"
      },
      "outputs": [],
      "source": [
        "X = df_chunk['Tweet'] # indep\n",
        "y = df_chunk[\"Sentiment\"] # dep"
      ]
    },
    {
      "cell_type": "code",
      "execution_count": 18,
      "id": "b52a072a",
      "metadata": {
        "id": "b52a072a"
      },
      "outputs": [],
      "source": [
        "# Test set 20 percent\n",
        "X_rem, X_test, y_rem, y_test = train_test_split(X, y, stratify=y, test_size = 0.2, random_state=1)"
      ]
    },
    {
      "cell_type": "code",
      "execution_count": 19,
      "id": "fXgfm-TkV1Cj",
      "metadata": {
        "id": "fXgfm-TkV1Cj"
      },
      "outputs": [],
      "source": [
        "# Splitting the remainder in two chunks\n",
        "X_train, X_val, y_train, y_val = train_test_split(X_rem, y_rem, test_size = 0.3, stratify=y_rem, random_state=1)"
      ]
    },
    {
      "cell_type": "code",
      "execution_count": 20,
      "id": "9EniotSkWC3I",
      "metadata": {
        "colab": {
          "base_uri": "https://localhost:8080/"
        },
        "id": "9EniotSkWC3I",
        "outputId": "fcbc7e3c-099f-41de-8994-964666c57906"
      },
      "outputs": [
        {
          "name": "stdout",
          "output_type": "stream",
          "text": [
            "Shape of X-test set: (31728,)\n",
            "Shape of X remainder set: (126908,)\n",
            "Shape of validation set: (38073,)\n",
            "Shape of train set: (88835,)\n"
          ]
        }
      ],
      "source": [
        "print(f'Shape of X-test set: {X_test.shape}')\n",
        "print(f'Shape of X remainder set: {X_rem.shape}')\n",
        "\n",
        "print(f'Shape of validation set: {X_val.shape}')\n",
        "print(f'Shape of train set: {X_train.shape}')"
      ]
    },
    {
      "attachments": {},
      "cell_type": "markdown",
      "id": "h_znkg7iYWKo",
      "metadata": {
        "id": "h_znkg7iYWKo"
      },
      "source": [
        "Our final proportions end up being\n",
        "* Test Set: *0.2*\n",
        "* Validation Set:  0.8 * 0.3 = *0.24*\n",
        "* Training Set: 0.8 * 0.7 = *0.56*"
      ]
    },
    {
      "cell_type": "code",
      "execution_count": 21,
      "id": "3e009208",
      "metadata": {
        "id": "3e009208"
      },
      "outputs": [],
      "source": [
        "# instantiate countvectorized\n",
        "# 1. Instantiate\n",
        "# bagofwords_vector = CountVectorizer(stop_words=\"english\", min_df=3)\n",
        "\n",
        "# 2. Fit\n",
        "# bagofwords_vector.fit(X_train)"
      ]
    },
    {
      "cell_type": "code",
      "execution_count": 22,
      "id": "c60dd960",
      "metadata": {
        "id": "c60dd960"
      },
      "outputs": [],
      "source": [
        "# 3. Transform - tokenize (split to words) & count for each sentence how many times each occurs\n",
        "# X_transform = bagofwords_vector.transform(X_train)\n",
        "# X_test_transform = bagofwords_vector.transform(X_test)"
      ]
    },
    {
      "cell_type": "code",
      "execution_count": null,
      "id": "dd50dd34",
      "metadata": {
        "id": "dd50dd34"
      },
      "outputs": [],
      "source": [
        "# X_transform"
      ]
    },
    {
      "attachments": {},
      "cell_type": "markdown",
      "id": "d6180a89",
      "metadata": {
        "id": "d6180a89"
      },
      "source": [
        "Number of Features 17,146"
      ]
    },
    {
      "cell_type": "code",
      "execution_count": null,
      "id": "a8e0b22f",
      "metadata": {
        "id": "a8e0b22f"
      },
      "outputs": [],
      "source": [
        "# X_test_transform"
      ]
    },
    {
      "cell_type": "code",
      "execution_count": null,
      "id": "11c308e8",
      "metadata": {
        "id": "11c308e8"
      },
      "outputs": [],
      "source": [
        "# these are now the features, they are the individual tokens\n",
        "# bagofwords_vector.get_feature_names_out()"
      ]
    },
    {
      "cell_type": "code",
      "execution_count": null,
      "id": "5adb651c",
      "metadata": {
        "id": "5adb651c"
      },
      "outputs": [],
      "source": [
        "# converting the sparse matrix into a numpy array\n",
        "# X_transform.toarray()"
      ]
    },
    {
      "cell_type": "code",
      "execution_count": null,
      "id": "119313a2",
      "metadata": {
        "id": "119313a2"
      },
      "outputs": [],
      "source": [
        "# We can extract the information and put it in a data frame to make it easier to see what has occured\n",
        "# my_df = pd.DataFrame(columns=bagofwords_vector.get_feature_names_out(), data=X_transform.toarray())\n",
        "# display(my_df)"
      ]
    },
    {
      "cell_type": "code",
      "execution_count": null,
      "id": "b6ced539",
      "metadata": {
        "id": "b6ced539"
      },
      "outputs": [],
      "source": [
        "# my_df.columns"
      ]
    },
    {
      "cell_type": "code",
      "execution_count": null,
      "id": "20683e5d",
      "metadata": {
        "id": "20683e5d",
        "scrolled": true
      },
      "outputs": [],
      "source": [
        "# count_tokens = X_transform.sum(axis=0)\n",
        "# count_tokens"
      ]
    },
    {
      "attachments": {},
      "cell_type": "markdown",
      "id": "92122cb0",
      "metadata": {
        "id": "92122cb0"
      },
      "source": [
        "Total count of how many times each word occurs."
      ]
    },
    {
      "cell_type": "code",
      "execution_count": null,
      "id": "5b822b74",
      "metadata": {
        "id": "5b822b74"
      },
      "outputs": [],
      "source": [
        "# my_df['advice'].value_counts()"
      ]
    },
    {
      "attachments": {},
      "cell_type": "markdown",
      "id": "8a8706dd",
      "metadata": {
        "id": "8a8706dd"
      },
      "source": [
        "We can look at the sentence length distribution:"
      ]
    },
    {
      "cell_type": "code",
      "execution_count": null,
      "id": "c19429e6",
      "metadata": {
        "id": "c19429e6"
      },
      "outputs": [],
      "source": [
        "# occurring words shows visually\n",
        "# plt.figure(figsize=(10,5))\n",
        "# plt.hist(X_transform.sum(axis=1), bins=np.arange(0,20,1))\n",
        "# plt.title(\"Sentence Length Distribution\")\n",
        "# plt.xlabel(\"occurring Words\")\n",
        "# plt.ylabel(\"Frequency\")\n",
        "# plt.show()"
      ]
    },
    {
      "cell_type": "code",
      "execution_count": null,
      "id": "e07b8d7d",
      "metadata": {
        "id": "e07b8d7d"
      },
      "outputs": [],
      "source": [
        "# words = bagofwords_vector.get_feature_names_out()\n",
        "# some_indices = range(1, 17146, round(17146/10))\n",
        "# samples = [words[i] for i in some_indices]\n",
        "# print(samples)"
      ]
    },
    {
      "cell_type": "code",
      "execution_count": null,
      "id": "aea5601a",
      "metadata": {
        "id": "aea5601a"
      },
      "outputs": [],
      "source": [
        "# counts = np.array(X_transform[:, some_indices].sum(axis = 0))\n",
        "\n",
        "# display(pd.DataFrame({\"total_corpus_count\": counts[0]}, index=samples).T)"
      ]
    },
    {
      "cell_type": "code",
      "execution_count": null,
      "id": "ea0d43ca",
      "metadata": {
        "id": "ea0d43ca"
      },
      "outputs": [],
      "source": [
        "# my_df['aaa'].value_counts()"
      ]
    },
    {
      "cell_type": "code",
      "execution_count": null,
      "id": "832aa97c",
      "metadata": {
        "id": "832aa97c"
      },
      "outputs": [],
      "source": [
        "# word_counts = pd.DataFrame(\n",
        "#     {\"counts\": X_transform.toarray().sum(axis=0)},\n",
        "#     index=bagofwords_vector.get_feature_names_out()\n",
        "# ).sort_values(\"counts\", ascending=False)\n",
        "\n",
        "# word_counts.head(20).plot(kind=\"bar\", figsize=(15, 5), legend=False)\n",
        "# plt.title(\"Top 20 most frequently occurring words\")\n",
        "# plt.ylabel(\"Count\")\n",
        "# plt.xticks(rotation=45)\n",
        "# plt.show()"
      ]
    },
    {
      "cell_type": "code",
      "execution_count": null,
      "id": "9bc2f262",
      "metadata": {
        "id": "9bc2f262"
      },
      "outputs": [],
      "source": []
    },
    {
      "cell_type": "code",
      "execution_count": 22,
      "id": "f370c188",
      "metadata": {
        "id": "f370c188"
      },
      "outputs": [],
      "source": [
        "import nltk\n",
        "from nltk.stem import WordNetLemmatizer\n",
        "\n",
        "# Let's test it out\n",
        "# stemmer = nltk.stem.PorterStemmer()"
      ]
    },
    {
      "cell_type": "code",
      "execution_count": 22,
      "id": "b2ac251b",
      "metadata": {
        "colab": {
          "base_uri": "https://localhost:8080/"
        },
        "id": "b2ac251b",
        "outputId": "876aa2cb-d6a8-4b52-f950-b30f84bec170"
      },
      "outputs": [],
      "source": [
        "# nltk.download('wordnet')\n",
        "# nltk.download('omw-1.4')"
      ]
    },
    {
      "cell_type": "code",
      "execution_count": 23,
      "id": "b60f9fd5",
      "metadata": {
        "colab": {
          "base_uri": "https://localhost:8080/",
          "height": 216
        },
        "id": "b60f9fd5",
        "outputId": "64b97546-6d2f-4b16-8096-2215d3a75ee7"
      },
      "outputs": [
        {
          "name": "stderr",
          "output_type": "stream",
          "text": [
            "c:\\Users\\Emran\\anaconda3\\lib\\site-packages\\sklearn\\feature_extraction\\text.py:528: UserWarning: The parameter 'token_pattern' will not be used since 'tokenizer' is not None'\n",
            "  warnings.warn(\n",
            "c:\\Users\\Emran\\anaconda3\\lib\\site-packages\\sklearn\\feature_extraction\\text.py:409: UserWarning: Your stop_words may be inconsistent with your preprocessing. Tokenizing the stop words generated tokens ['ha', 'le', 'u', 'wa'] not in stop_words.\n",
            "  warnings.warn(\n"
          ]
        },
        {
          "name": "stdout",
          "output_type": "stream",
          "text": [
            "CPU times: total: 6.14 s\n",
            "Wall time: 6.17 s\n"
          ]
        },
        {
          "data": {
            "text/html": [
              "<style>#sk-container-id-1 {color: black;background-color: white;}#sk-container-id-1 pre{padding: 0;}#sk-container-id-1 div.sk-toggleable {background-color: white;}#sk-container-id-1 label.sk-toggleable__label {cursor: pointer;display: block;width: 100%;margin-bottom: 0;padding: 0.3em;box-sizing: border-box;text-align: center;}#sk-container-id-1 label.sk-toggleable__label-arrow:before {content: \"▸\";float: left;margin-right: 0.25em;color: #696969;}#sk-container-id-1 label.sk-toggleable__label-arrow:hover:before {color: black;}#sk-container-id-1 div.sk-estimator:hover label.sk-toggleable__label-arrow:before {color: black;}#sk-container-id-1 div.sk-toggleable__content {max-height: 0;max-width: 0;overflow: hidden;text-align: left;background-color: #f0f8ff;}#sk-container-id-1 div.sk-toggleable__content pre {margin: 0.2em;color: black;border-radius: 0.25em;background-color: #f0f8ff;}#sk-container-id-1 input.sk-toggleable__control:checked~div.sk-toggleable__content {max-height: 200px;max-width: 100%;overflow: auto;}#sk-container-id-1 input.sk-toggleable__control:checked~label.sk-toggleable__label-arrow:before {content: \"▾\";}#sk-container-id-1 div.sk-estimator input.sk-toggleable__control:checked~label.sk-toggleable__label {background-color: #d4ebff;}#sk-container-id-1 div.sk-label input.sk-toggleable__control:checked~label.sk-toggleable__label {background-color: #d4ebff;}#sk-container-id-1 input.sk-hidden--visually {border: 0;clip: rect(1px 1px 1px 1px);clip: rect(1px, 1px, 1px, 1px);height: 1px;margin: -1px;overflow: hidden;padding: 0;position: absolute;width: 1px;}#sk-container-id-1 div.sk-estimator {font-family: monospace;background-color: #f0f8ff;border: 1px dotted black;border-radius: 0.25em;box-sizing: border-box;margin-bottom: 0.5em;}#sk-container-id-1 div.sk-estimator:hover {background-color: #d4ebff;}#sk-container-id-1 div.sk-parallel-item::after {content: \"\";width: 100%;border-bottom: 1px solid gray;flex-grow: 1;}#sk-container-id-1 div.sk-label:hover label.sk-toggleable__label {background-color: #d4ebff;}#sk-container-id-1 div.sk-serial::before {content: \"\";position: absolute;border-left: 1px solid gray;box-sizing: border-box;top: 0;bottom: 0;left: 50%;z-index: 0;}#sk-container-id-1 div.sk-serial {display: flex;flex-direction: column;align-items: center;background-color: white;padding-right: 0.2em;padding-left: 0.2em;position: relative;}#sk-container-id-1 div.sk-item {position: relative;z-index: 1;}#sk-container-id-1 div.sk-parallel {display: flex;align-items: stretch;justify-content: center;background-color: white;position: relative;}#sk-container-id-1 div.sk-item::before, #sk-container-id-1 div.sk-parallel-item::before {content: \"\";position: absolute;border-left: 1px solid gray;box-sizing: border-box;top: 0;bottom: 0;left: 50%;z-index: -1;}#sk-container-id-1 div.sk-parallel-item {display: flex;flex-direction: column;z-index: 1;position: relative;background-color: white;}#sk-container-id-1 div.sk-parallel-item:first-child::after {align-self: flex-end;width: 50%;}#sk-container-id-1 div.sk-parallel-item:last-child::after {align-self: flex-start;width: 50%;}#sk-container-id-1 div.sk-parallel-item:only-child::after {width: 0;}#sk-container-id-1 div.sk-dashed-wrapped {border: 1px dashed gray;margin: 0 0.4em 0.5em 0.4em;box-sizing: border-box;padding-bottom: 0.4em;background-color: white;}#sk-container-id-1 div.sk-label label {font-family: monospace;font-weight: bold;display: inline-block;line-height: 1.2em;}#sk-container-id-1 div.sk-label-container {text-align: center;}#sk-container-id-1 div.sk-container {/* jupyter's `normalize.less` sets `[hidden] { display: none; }` but bootstrap.min.css set `[hidden] { display: none !important; }` so we also need the `!important` here to be able to override the default hidden behavior on the sphinx rendered scikit-learn.org. See: https://github.com/scikit-learn/scikit-learn/issues/21755 */display: inline-block !important;position: relative;}#sk-container-id-1 div.sk-text-repr-fallback {display: none;}</style><div id=\"sk-container-id-1\" class=\"sk-top-container\"><div class=\"sk-text-repr-fallback\"><pre>CountVectorizer(min_df=3, stop_words=&#x27;english&#x27;,\n",
              "                tokenizer=&lt;function &lt;lambda&gt; at 0x000002CA572E6D40&gt;)</pre><b>In a Jupyter environment, please rerun this cell to show the HTML representation or trust the notebook. <br />On GitHub, the HTML representation is unable to render, please try loading this page with nbviewer.org.</b></div><div class=\"sk-container\" hidden><div class=\"sk-item\"><div class=\"sk-estimator sk-toggleable\"><input class=\"sk-toggleable__control sk-hidden--visually\" id=\"sk-estimator-id-1\" type=\"checkbox\" checked><label for=\"sk-estimator-id-1\" class=\"sk-toggleable__label sk-toggleable__label-arrow\">CountVectorizer</label><div class=\"sk-toggleable__content\"><pre>CountVectorizer(min_df=3, stop_words=&#x27;english&#x27;,\n",
              "                tokenizer=&lt;function &lt;lambda&gt; at 0x000002CA572E6D40&gt;)</pre></div></div></div></div></div>"
            ],
            "text/plain": [
              "CountVectorizer(min_df=3, stop_words='english',\n",
              "                tokenizer=<function <lambda> at 0x000002CA572E6D40>)"
            ]
          },
          "execution_count": 23,
          "metadata": {},
          "output_type": "execute_result"
        }
      ],
      "source": [
        "%%time\n",
        "lemmatizer = WordNetLemmatizer()\n",
        "\n",
        "# bagofwords_vector = CountVectorizer(stop_words=\"english\",\n",
        "#                                     tokenizer = lambda x: [stemmer.stem(i) for i in x.split(' ')],\n",
        "#                                     min_df=1000)\n",
        "\n",
        "bagofwords_vector = CountVectorizer(stop_words=\"english\",\n",
        "                                    tokenizer=lambda x: [lemmatizer.lemmatize(i) for i in x.split()], min_df=3)\n",
        "# 2. Fit\n",
        "bagofwords_vector.fit(X_train)"
      ]
    },
    {
      "cell_type": "code",
      "execution_count": 29,
      "id": "1682025b",
      "metadata": {
        "id": "1682025b"
      },
      "outputs": [],
      "source": [
        "# 3. Transform - tokenize (split to words) & count for each sentence how many times each occurs\n",
        "X_train_transform = bagofwords_vector.transform(X_train)\n",
        "X_val_transform = bagofwords_vector.transform(X_val)\n",
        "X_test_transform = bagofwords_vector.transform(X_test)"
      ]
    },
    {
      "cell_type": "code",
      "execution_count": 30,
      "id": "8e4253fa",
      "metadata": {
        "colab": {
          "base_uri": "https://localhost:8080/"
        },
        "id": "8e4253fa",
        "outputId": "b2026cd8-8809-4554-8481-8ea3f198146b"
      },
      "outputs": [
        {
          "data": {
            "text/plain": [
              "<88835x12428 sparse matrix of type '<class 'numpy.int64'>'\n",
              "\twith 523994 stored elements in Compressed Sparse Row format>"
            ]
          },
          "execution_count": 30,
          "metadata": {},
          "output_type": "execute_result"
        }
      ],
      "source": [
        "X_train_transform"
      ]
    },
    {
      "cell_type": "code",
      "execution_count": 31,
      "id": "IdX4S4s3d78Z",
      "metadata": {
        "colab": {
          "base_uri": "https://localhost:8080/"
        },
        "id": "IdX4S4s3d78Z",
        "outputId": "45317fed-0ce4-41a8-f81b-8e24012cf71d"
      },
      "outputs": [
        {
          "data": {
            "text/plain": [
              "<38073x12428 sparse matrix of type '<class 'numpy.int64'>'\n",
              "\twith 222173 stored elements in Compressed Sparse Row format>"
            ]
          },
          "execution_count": 31,
          "metadata": {},
          "output_type": "execute_result"
        }
      ],
      "source": [
        "X_val_transform"
      ]
    },
    {
      "cell_type": "code",
      "execution_count": 32,
      "id": "B53LHhtad9nc",
      "metadata": {
        "colab": {
          "base_uri": "https://localhost:8080/"
        },
        "id": "B53LHhtad9nc",
        "outputId": "5d81bb36-fb4c-438c-b2d9-53eff447fcd1"
      },
      "outputs": [
        {
          "data": {
            "text/plain": [
              "<31728x12428 sparse matrix of type '<class 'numpy.int64'>'\n",
              "\twith 184446 stored elements in Compressed Sparse Row format>"
            ]
          },
          "execution_count": 32,
          "metadata": {},
          "output_type": "execute_result"
        }
      ],
      "source": [
        "X_test_transform"
      ]
    },
    {
      "attachments": {},
      "cell_type": "markdown",
      "id": "qz3TgfaGPzFX",
      "metadata": {
        "id": "qz3TgfaGPzFX"
      },
      "source": [
        "15248 features to 12428 feature"
      ]
    },
    {
      "cell_type": "code",
      "execution_count": 33,
      "id": "Kh-rTgboPM6p",
      "metadata": {
        "colab": {
          "base_uri": "https://localhost:8080/",
          "height": 487
        },
        "id": "Kh-rTgboPM6p",
        "outputId": "c2955db1-7671-4768-8b00-08576d4fc299"
      },
      "outputs": [
        {
          "data": {
            "text/html": [
              "<div>\n",
              "<style scoped>\n",
              "    .dataframe tbody tr th:only-of-type {\n",
              "        vertical-align: middle;\n",
              "    }\n",
              "\n",
              "    .dataframe tbody tr th {\n",
              "        vertical-align: top;\n",
              "    }\n",
              "\n",
              "    .dataframe thead th {\n",
              "        text-align: right;\n",
              "    }\n",
              "</style>\n",
              "<table border=\"1\" class=\"dataframe\">\n",
              "  <thead>\n",
              "    <tr style=\"text-align: right;\">\n",
              "      <th></th>\n",
              "      <th>aa</th>\n",
              "      <th>aaa</th>\n",
              "      <th>aaaaa</th>\n",
              "      <th>aaaaaa</th>\n",
              "      <th>aaaaand</th>\n",
              "      <th>aaaah</th>\n",
              "      <th>aaaand</th>\n",
              "      <th>aaah</th>\n",
              "      <th>aaahhh</th>\n",
              "      <th>aaahhhh</th>\n",
              "      <th>...</th>\n",
              "      <th>zone</th>\n",
              "      <th>zoo</th>\n",
              "      <th>zoom</th>\n",
              "      <th>zucchini</th>\n",
              "      <th>zune</th>\n",
              "      <th>zzz</th>\n",
              "      <th>zzzz</th>\n",
              "      <th>zzzzz</th>\n",
              "      <th>zzzzzz</th>\n",
              "      <th>zzzzzzzzzzz</th>\n",
              "    </tr>\n",
              "  </thead>\n",
              "  <tbody>\n",
              "    <tr>\n",
              "      <th>0</th>\n",
              "      <td>0</td>\n",
              "      <td>0</td>\n",
              "      <td>0</td>\n",
              "      <td>0</td>\n",
              "      <td>0</td>\n",
              "      <td>0</td>\n",
              "      <td>0</td>\n",
              "      <td>0</td>\n",
              "      <td>0</td>\n",
              "      <td>0</td>\n",
              "      <td>...</td>\n",
              "      <td>0</td>\n",
              "      <td>0</td>\n",
              "      <td>0</td>\n",
              "      <td>0</td>\n",
              "      <td>0</td>\n",
              "      <td>0</td>\n",
              "      <td>0</td>\n",
              "      <td>0</td>\n",
              "      <td>0</td>\n",
              "      <td>0</td>\n",
              "    </tr>\n",
              "    <tr>\n",
              "      <th>1</th>\n",
              "      <td>0</td>\n",
              "      <td>0</td>\n",
              "      <td>0</td>\n",
              "      <td>0</td>\n",
              "      <td>0</td>\n",
              "      <td>0</td>\n",
              "      <td>0</td>\n",
              "      <td>0</td>\n",
              "      <td>0</td>\n",
              "      <td>0</td>\n",
              "      <td>...</td>\n",
              "      <td>0</td>\n",
              "      <td>0</td>\n",
              "      <td>0</td>\n",
              "      <td>0</td>\n",
              "      <td>0</td>\n",
              "      <td>0</td>\n",
              "      <td>0</td>\n",
              "      <td>0</td>\n",
              "      <td>0</td>\n",
              "      <td>0</td>\n",
              "    </tr>\n",
              "    <tr>\n",
              "      <th>2</th>\n",
              "      <td>0</td>\n",
              "      <td>0</td>\n",
              "      <td>0</td>\n",
              "      <td>0</td>\n",
              "      <td>0</td>\n",
              "      <td>0</td>\n",
              "      <td>0</td>\n",
              "      <td>0</td>\n",
              "      <td>0</td>\n",
              "      <td>0</td>\n",
              "      <td>...</td>\n",
              "      <td>0</td>\n",
              "      <td>0</td>\n",
              "      <td>0</td>\n",
              "      <td>0</td>\n",
              "      <td>0</td>\n",
              "      <td>0</td>\n",
              "      <td>0</td>\n",
              "      <td>0</td>\n",
              "      <td>0</td>\n",
              "      <td>0</td>\n",
              "    </tr>\n",
              "    <tr>\n",
              "      <th>3</th>\n",
              "      <td>0</td>\n",
              "      <td>0</td>\n",
              "      <td>0</td>\n",
              "      <td>0</td>\n",
              "      <td>0</td>\n",
              "      <td>0</td>\n",
              "      <td>0</td>\n",
              "      <td>0</td>\n",
              "      <td>0</td>\n",
              "      <td>0</td>\n",
              "      <td>...</td>\n",
              "      <td>0</td>\n",
              "      <td>0</td>\n",
              "      <td>0</td>\n",
              "      <td>0</td>\n",
              "      <td>0</td>\n",
              "      <td>0</td>\n",
              "      <td>0</td>\n",
              "      <td>0</td>\n",
              "      <td>0</td>\n",
              "      <td>0</td>\n",
              "    </tr>\n",
              "    <tr>\n",
              "      <th>4</th>\n",
              "      <td>0</td>\n",
              "      <td>0</td>\n",
              "      <td>0</td>\n",
              "      <td>0</td>\n",
              "      <td>0</td>\n",
              "      <td>0</td>\n",
              "      <td>0</td>\n",
              "      <td>0</td>\n",
              "      <td>0</td>\n",
              "      <td>0</td>\n",
              "      <td>...</td>\n",
              "      <td>0</td>\n",
              "      <td>0</td>\n",
              "      <td>0</td>\n",
              "      <td>0</td>\n",
              "      <td>0</td>\n",
              "      <td>0</td>\n",
              "      <td>0</td>\n",
              "      <td>0</td>\n",
              "      <td>0</td>\n",
              "      <td>0</td>\n",
              "    </tr>\n",
              "    <tr>\n",
              "      <th>...</th>\n",
              "      <td>...</td>\n",
              "      <td>...</td>\n",
              "      <td>...</td>\n",
              "      <td>...</td>\n",
              "      <td>...</td>\n",
              "      <td>...</td>\n",
              "      <td>...</td>\n",
              "      <td>...</td>\n",
              "      <td>...</td>\n",
              "      <td>...</td>\n",
              "      <td>...</td>\n",
              "      <td>...</td>\n",
              "      <td>...</td>\n",
              "      <td>...</td>\n",
              "      <td>...</td>\n",
              "      <td>...</td>\n",
              "      <td>...</td>\n",
              "      <td>...</td>\n",
              "      <td>...</td>\n",
              "      <td>...</td>\n",
              "      <td>...</td>\n",
              "    </tr>\n",
              "    <tr>\n",
              "      <th>88830</th>\n",
              "      <td>0</td>\n",
              "      <td>0</td>\n",
              "      <td>0</td>\n",
              "      <td>0</td>\n",
              "      <td>0</td>\n",
              "      <td>0</td>\n",
              "      <td>0</td>\n",
              "      <td>0</td>\n",
              "      <td>0</td>\n",
              "      <td>0</td>\n",
              "      <td>...</td>\n",
              "      <td>0</td>\n",
              "      <td>0</td>\n",
              "      <td>0</td>\n",
              "      <td>0</td>\n",
              "      <td>0</td>\n",
              "      <td>0</td>\n",
              "      <td>0</td>\n",
              "      <td>0</td>\n",
              "      <td>0</td>\n",
              "      <td>0</td>\n",
              "    </tr>\n",
              "    <tr>\n",
              "      <th>88831</th>\n",
              "      <td>0</td>\n",
              "      <td>0</td>\n",
              "      <td>0</td>\n",
              "      <td>0</td>\n",
              "      <td>0</td>\n",
              "      <td>0</td>\n",
              "      <td>0</td>\n",
              "      <td>0</td>\n",
              "      <td>0</td>\n",
              "      <td>0</td>\n",
              "      <td>...</td>\n",
              "      <td>0</td>\n",
              "      <td>0</td>\n",
              "      <td>0</td>\n",
              "      <td>0</td>\n",
              "      <td>0</td>\n",
              "      <td>0</td>\n",
              "      <td>0</td>\n",
              "      <td>0</td>\n",
              "      <td>0</td>\n",
              "      <td>0</td>\n",
              "    </tr>\n",
              "    <tr>\n",
              "      <th>88832</th>\n",
              "      <td>0</td>\n",
              "      <td>0</td>\n",
              "      <td>0</td>\n",
              "      <td>0</td>\n",
              "      <td>0</td>\n",
              "      <td>0</td>\n",
              "      <td>0</td>\n",
              "      <td>0</td>\n",
              "      <td>0</td>\n",
              "      <td>0</td>\n",
              "      <td>...</td>\n",
              "      <td>0</td>\n",
              "      <td>0</td>\n",
              "      <td>0</td>\n",
              "      <td>0</td>\n",
              "      <td>0</td>\n",
              "      <td>0</td>\n",
              "      <td>0</td>\n",
              "      <td>0</td>\n",
              "      <td>0</td>\n",
              "      <td>0</td>\n",
              "    </tr>\n",
              "    <tr>\n",
              "      <th>88833</th>\n",
              "      <td>0</td>\n",
              "      <td>0</td>\n",
              "      <td>0</td>\n",
              "      <td>0</td>\n",
              "      <td>0</td>\n",
              "      <td>0</td>\n",
              "      <td>0</td>\n",
              "      <td>1</td>\n",
              "      <td>0</td>\n",
              "      <td>0</td>\n",
              "      <td>...</td>\n",
              "      <td>0</td>\n",
              "      <td>0</td>\n",
              "      <td>0</td>\n",
              "      <td>0</td>\n",
              "      <td>0</td>\n",
              "      <td>0</td>\n",
              "      <td>0</td>\n",
              "      <td>0</td>\n",
              "      <td>0</td>\n",
              "      <td>0</td>\n",
              "    </tr>\n",
              "    <tr>\n",
              "      <th>88834</th>\n",
              "      <td>0</td>\n",
              "      <td>0</td>\n",
              "      <td>0</td>\n",
              "      <td>0</td>\n",
              "      <td>0</td>\n",
              "      <td>0</td>\n",
              "      <td>0</td>\n",
              "      <td>0</td>\n",
              "      <td>0</td>\n",
              "      <td>0</td>\n",
              "      <td>...</td>\n",
              "      <td>0</td>\n",
              "      <td>0</td>\n",
              "      <td>0</td>\n",
              "      <td>0</td>\n",
              "      <td>0</td>\n",
              "      <td>0</td>\n",
              "      <td>0</td>\n",
              "      <td>0</td>\n",
              "      <td>0</td>\n",
              "      <td>0</td>\n",
              "    </tr>\n",
              "  </tbody>\n",
              "</table>\n",
              "<p>88835 rows × 12428 columns</p>\n",
              "</div>"
            ],
            "text/plain": [
              "       aa  aaa  aaaaa  aaaaaa  aaaaand  aaaah  aaaand  aaah  aaahhh  aaahhhh  \\\n",
              "0       0    0      0       0        0      0       0     0       0        0   \n",
              "1       0    0      0       0        0      0       0     0       0        0   \n",
              "2       0    0      0       0        0      0       0     0       0        0   \n",
              "3       0    0      0       0        0      0       0     0       0        0   \n",
              "4       0    0      0       0        0      0       0     0       0        0   \n",
              "...    ..  ...    ...     ...      ...    ...     ...   ...     ...      ...   \n",
              "88830   0    0      0       0        0      0       0     0       0        0   \n",
              "88831   0    0      0       0        0      0       0     0       0        0   \n",
              "88832   0    0      0       0        0      0       0     0       0        0   \n",
              "88833   0    0      0       0        0      0       0     1       0        0   \n",
              "88834   0    0      0       0        0      0       0     0       0        0   \n",
              "\n",
              "       ...  zone  zoo  zoom  zucchini  zune  zzz  zzzz  zzzzz  zzzzzz  \\\n",
              "0      ...     0    0     0         0     0    0     0      0       0   \n",
              "1      ...     0    0     0         0     0    0     0      0       0   \n",
              "2      ...     0    0     0         0     0    0     0      0       0   \n",
              "3      ...     0    0     0         0     0    0     0      0       0   \n",
              "4      ...     0    0     0         0     0    0     0      0       0   \n",
              "...    ...   ...  ...   ...       ...   ...  ...   ...    ...     ...   \n",
              "88830  ...     0    0     0         0     0    0     0      0       0   \n",
              "88831  ...     0    0     0         0     0    0     0      0       0   \n",
              "88832  ...     0    0     0         0     0    0     0      0       0   \n",
              "88833  ...     0    0     0         0     0    0     0      0       0   \n",
              "88834  ...     0    0     0         0     0    0     0      0       0   \n",
              "\n",
              "       zzzzzzzzzzz  \n",
              "0                0  \n",
              "1                0  \n",
              "2                0  \n",
              "3                0  \n",
              "4                0  \n",
              "...            ...  \n",
              "88830            0  \n",
              "88831            0  \n",
              "88832            0  \n",
              "88833            0  \n",
              "88834            0  \n",
              "\n",
              "[88835 rows x 12428 columns]"
            ]
          },
          "metadata": {},
          "output_type": "display_data"
        }
      ],
      "source": [
        "# We can extract the information and put it in a data frame to make it easier to see what has occured\n",
        "my_df = pd.DataFrame(columns=bagofwords_vector.get_feature_names_out(), data=X_train_transform.toarray())\n",
        "display(my_df)"
      ]
    },
    {
      "cell_type": "code",
      "execution_count": 34,
      "id": "cea4fd52",
      "metadata": {
        "colab": {
          "base_uri": "https://localhost:8080/"
        },
        "id": "cea4fd52",
        "outputId": "aa0c55e3-10b8-44c5-fd9a-4a4a68a685d5"
      },
      "outputs": [
        {
          "name": "stdout",
          "output_type": "stream",
          "text": [
            "['aaa', 'boiler', 'creepy', 'family', 'hike', 'likee', 'nyt', 'realistic', 'somethingi', 'tropical']\n"
          ]
        }
      ],
      "source": [
        "words = bagofwords_vector.get_feature_names_out()\n",
        "some_indices = range(1, 12487, round(12487/10))\n",
        "samples = [words[i] for i in some_indices]\n",
        "print(samples)"
      ]
    },
    {
      "cell_type": "code",
      "execution_count": 35,
      "id": "09843376",
      "metadata": {
        "colab": {
          "base_uri": "https://localhost:8080/",
          "height": 81
        },
        "id": "09843376",
        "outputId": "1fe35d98-be7b-4e8e-b51b-cb6ac6f16e2f"
      },
      "outputs": [
        {
          "data": {
            "text/html": [
              "<div>\n",
              "<style scoped>\n",
              "    .dataframe tbody tr th:only-of-type {\n",
              "        vertical-align: middle;\n",
              "    }\n",
              "\n",
              "    .dataframe tbody tr th {\n",
              "        vertical-align: top;\n",
              "    }\n",
              "\n",
              "    .dataframe thead th {\n",
              "        text-align: right;\n",
              "    }\n",
              "</style>\n",
              "<table border=\"1\" class=\"dataframe\">\n",
              "  <thead>\n",
              "    <tr style=\"text-align: right;\">\n",
              "      <th></th>\n",
              "      <th>aaa</th>\n",
              "      <th>boiler</th>\n",
              "      <th>creepy</th>\n",
              "      <th>family</th>\n",
              "      <th>hike</th>\n",
              "      <th>likee</th>\n",
              "      <th>nyt</th>\n",
              "      <th>realistic</th>\n",
              "      <th>somethingi</th>\n",
              "      <th>tropical</th>\n",
              "    </tr>\n",
              "  </thead>\n",
              "  <tbody>\n",
              "    <tr>\n",
              "      <th>total_corpus_count</th>\n",
              "      <td>8</td>\n",
              "      <td>3</td>\n",
              "      <td>29</td>\n",
              "      <td>447</td>\n",
              "      <td>13</td>\n",
              "      <td>3</td>\n",
              "      <td>12</td>\n",
              "      <td>6</td>\n",
              "      <td>3</td>\n",
              "      <td>7</td>\n",
              "    </tr>\n",
              "  </tbody>\n",
              "</table>\n",
              "</div>"
            ],
            "text/plain": [
              "                    aaa  boiler  creepy  family  hike  likee  nyt  realistic  \\\n",
              "total_corpus_count    8       3      29     447    13      3   12          6   \n",
              "\n",
              "                    somethingi  tropical  \n",
              "total_corpus_count           3         7  "
            ]
          },
          "metadata": {},
          "output_type": "display_data"
        }
      ],
      "source": [
        "counts = np.array(X_train_transform[:, some_indices].sum(axis = 0))\n",
        "\n",
        "display(pd.DataFrame({\"total_corpus_count\": counts[0]}, index=samples).T)"
      ]
    },
    {
      "cell_type": "code",
      "execution_count": 36,
      "id": "8d6576f9",
      "metadata": {
        "colab": {
          "base_uri": "https://localhost:8080/"
        },
        "id": "8d6576f9",
        "outputId": "29b1bf5f-a826-4534-8893-967d2baa2e65"
      },
      "outputs": [
        {
          "data": {
            "text/plain": [
              "array(['aa', 'aaa', 'aaaaa', ..., 'zzzzz', 'zzzzzz', 'zzzzzzzzzzz'],\n",
              "      dtype=object)"
            ]
          },
          "execution_count": 36,
          "metadata": {},
          "output_type": "execute_result"
        }
      ],
      "source": [
        "bagofwords_vector.get_feature_names_out()"
      ]
    },
    {
      "cell_type": "code",
      "execution_count": 37,
      "id": "da8acb44",
      "metadata": {
        "colab": {
          "base_uri": "https://localhost:8080/",
          "height": 391
        },
        "id": "da8acb44",
        "outputId": "a6e1e96d-eb80-4944-e947-76ae74f84f79"
      },
      "outputs": [
        {
          "data": {
            "image/png": "[encoded data removed]",
            "text/plain": [
              "<Figure size 1500x500 with 1 Axes>"
            ]
          },
          "metadata": {},
          "output_type": "display_data"
        }
      ],
      "source": [
        "word_counts = pd.DataFrame(\n",
        "    {\"counts\": X_train_transform.toarray().sum(axis=0)},\n",
        "    index=bagofwords_vector.get_feature_names_out()\n",
        ").sort_values(\"counts\", ascending=False)\n",
        "\n",
        "word_counts.head(20).plot(kind=\"bar\", figsize=(15, 5), legend=False)\n",
        "plt.title(\"Top 20 most frequently occurring words\")\n",
        "plt.ylabel(\"Count\")\n",
        "plt.xticks(rotation=45)\n",
        "plt.show()"
      ]
    },
    {
      "attachments": {},
      "cell_type": "markdown",
      "id": "82ae2361",
      "metadata": {
        "id": "82ae2361"
      },
      "source": [
        "### Modeling"
      ]
    },
    {
      "cell_type": "code",
      "execution_count": 38,
      "id": "b107d285",
      "metadata": {
        "id": "b107d285"
      },
      "outputs": [],
      "source": [
        "from sklearn.linear_model import LogisticRegression"
      ]
    },
    {
      "cell_type": "code",
      "execution_count": 39,
      "id": "8bd665d3",
      "metadata": {
        "colab": {
          "base_uri": "https://localhost:8080/",
          "height": 109
        },
        "id": "8bd665d3",
        "outputId": "e7f3a0ff-31fd-4dde-93ce-214203d88564"
      },
      "outputs": [
        {
          "name": "stdout",
          "output_type": "stream",
          "text": [
            "CPU times: total: 12.1 s\n",
            "Wall time: 2.23 s\n"
          ]
        },
        {
          "data": {
            "text/html": [
              "<style>#sk-container-id-2 {color: black;background-color: white;}#sk-container-id-2 pre{padding: 0;}#sk-container-id-2 div.sk-toggleable {background-color: white;}#sk-container-id-2 label.sk-toggleable__label {cursor: pointer;display: block;width: 100%;margin-bottom: 0;padding: 0.3em;box-sizing: border-box;text-align: center;}#sk-container-id-2 label.sk-toggleable__label-arrow:before {content: \"▸\";float: left;margin-right: 0.25em;color: #696969;}#sk-container-id-2 label.sk-toggleable__label-arrow:hover:before {color: black;}#sk-container-id-2 div.sk-estimator:hover label.sk-toggleable__label-arrow:before {color: black;}#sk-container-id-2 div.sk-toggleable__content {max-height: 0;max-width: 0;overflow: hidden;text-align: left;background-color: #f0f8ff;}#sk-container-id-2 div.sk-toggleable__content pre {margin: 0.2em;color: black;border-radius: 0.25em;background-color: #f0f8ff;}#sk-container-id-2 input.sk-toggleable__control:checked~div.sk-toggleable__content {max-height: 200px;max-width: 100%;overflow: auto;}#sk-container-id-2 input.sk-toggleable__control:checked~label.sk-toggleable__label-arrow:before {content: \"▾\";}#sk-container-id-2 div.sk-estimator input.sk-toggleable__control:checked~label.sk-toggleable__label {background-color: #d4ebff;}#sk-container-id-2 div.sk-label input.sk-toggleable__control:checked~label.sk-toggleable__label {background-color: #d4ebff;}#sk-container-id-2 input.sk-hidden--visually {border: 0;clip: rect(1px 1px 1px 1px);clip: rect(1px, 1px, 1px, 1px);height: 1px;margin: -1px;overflow: hidden;padding: 0;position: absolute;width: 1px;}#sk-container-id-2 div.sk-estimator {font-family: monospace;background-color: #f0f8ff;border: 1px dotted black;border-radius: 0.25em;box-sizing: border-box;margin-bottom: 0.5em;}#sk-container-id-2 div.sk-estimator:hover {background-color: #d4ebff;}#sk-container-id-2 div.sk-parallel-item::after {content: \"\";width: 100%;border-bottom: 1px solid gray;flex-grow: 1;}#sk-container-id-2 div.sk-label:hover label.sk-toggleable__label {background-color: #d4ebff;}#sk-container-id-2 div.sk-serial::before {content: \"\";position: absolute;border-left: 1px solid gray;box-sizing: border-box;top: 0;bottom: 0;left: 50%;z-index: 0;}#sk-container-id-2 div.sk-serial {display: flex;flex-direction: column;align-items: center;background-color: white;padding-right: 0.2em;padding-left: 0.2em;position: relative;}#sk-container-id-2 div.sk-item {position: relative;z-index: 1;}#sk-container-id-2 div.sk-parallel {display: flex;align-items: stretch;justify-content: center;background-color: white;position: relative;}#sk-container-id-2 div.sk-item::before, #sk-container-id-2 div.sk-parallel-item::before {content: \"\";position: absolute;border-left: 1px solid gray;box-sizing: border-box;top: 0;bottom: 0;left: 50%;z-index: -1;}#sk-container-id-2 div.sk-parallel-item {display: flex;flex-direction: column;z-index: 1;position: relative;background-color: white;}#sk-container-id-2 div.sk-parallel-item:first-child::after {align-self: flex-end;width: 50%;}#sk-container-id-2 div.sk-parallel-item:last-child::after {align-self: flex-start;width: 50%;}#sk-container-id-2 div.sk-parallel-item:only-child::after {width: 0;}#sk-container-id-2 div.sk-dashed-wrapped {border: 1px dashed gray;margin: 0 0.4em 0.5em 0.4em;box-sizing: border-box;padding-bottom: 0.4em;background-color: white;}#sk-container-id-2 div.sk-label label {font-family: monospace;font-weight: bold;display: inline-block;line-height: 1.2em;}#sk-container-id-2 div.sk-label-container {text-align: center;}#sk-container-id-2 div.sk-container {/* jupyter's `normalize.less` sets `[hidden] { display: none; }` but bootstrap.min.css set `[hidden] { display: none !important; }` so we also need the `!important` here to be able to override the default hidden behavior on the sphinx rendered scikit-learn.org. See: https://github.com/scikit-learn/scikit-learn/issues/21755 */display: inline-block !important;position: relative;}#sk-container-id-2 div.sk-text-repr-fallback {display: none;}</style><div id=\"sk-container-id-2\" class=\"sk-top-container\"><div class=\"sk-text-repr-fallback\"><pre>LogisticRegression(max_iter=100000)</pre><b>In a Jupyter environment, please rerun this cell to show the HTML representation or trust the notebook. <br />On GitHub, the HTML representation is unable to render, please try loading this page with nbviewer.org.</b></div><div class=\"sk-container\" hidden><div class=\"sk-item\"><div class=\"sk-estimator sk-toggleable\"><input class=\"sk-toggleable__control sk-hidden--visually\" id=\"sk-estimator-id-2\" type=\"checkbox\" checked><label for=\"sk-estimator-id-2\" class=\"sk-toggleable__label sk-toggleable__label-arrow\">LogisticRegression</label><div class=\"sk-toggleable__content\"><pre>LogisticRegression(max_iter=100000)</pre></div></div></div></div></div>"
            ],
            "text/plain": [
              "LogisticRegression(max_iter=100000)"
            ]
          },
          "execution_count": 39,
          "metadata": {},
          "output_type": "execute_result"
        }
      ],
      "source": [
        "%%time\n",
        "# instantiate model\n",
        "logreg = LogisticRegression(solver='lbfgs', max_iter=100000)# saga different regularization and try out\n",
        "\n",
        "# fit the model\n",
        "logreg.fit(X_train_transform, y_train)"
      ]
    },
    {
      "cell_type": "code",
      "execution_count": 40,
      "id": "3fbe366b",
      "metadata": {
        "colab": {
          "base_uri": "https://localhost:8080/"
        },
        "id": "3fbe366b",
        "outputId": "5a077c10-cf7f-4846-fd52-0a02df00a960"
      },
      "outputs": [
        {
          "name": "stdout",
          "output_type": "stream",
          "text": [
            "Train score: 0.807429504136883\n",
            "Validation score: 0.7551020408163265\n"
          ]
        }
      ],
      "source": [
        "# Training and test score\n",
        "print(f\"Train score: {logreg.score(X_train_transform, y_train)}\")\n",
        "print(f\"Validation score: {logreg.score(X_val_transform, y_val)}\")"
      ]
    },
    {
      "cell_type": "code",
      "execution_count": 41,
      "id": "-Eb_wVEjltwv",
      "metadata": {
        "colab": {
          "base_uri": "https://localhost:8080/"
        },
        "id": "-Eb_wVEjltwv",
        "outputId": "16fb6870-228a-49a1-b6d9-bfdcc074e550"
      },
      "outputs": [
        {
          "data": {
            "text/plain": [
              "array([-0.07082719, -0.31353434,  0.3722538 , ...,  0.39068942,\n",
              "        0.40373467, -0.41627236])"
            ]
          },
          "execution_count": 41,
          "metadata": {},
          "output_type": "execute_result"
        }
      ],
      "source": [
        "logreg.coef_[0]"
      ]
    },
    {
      "cell_type": "code",
      "execution_count": 42,
      "id": "d-iff96Al6GD",
      "metadata": {
        "colab": {
          "base_uri": "https://localhost:8080/",
          "height": 432
        },
        "id": "d-iff96Al6GD",
        "outputId": "5b2f859e-89eb-4fa6-fb69-b624c6217e26"
      },
      "outputs": [
        {
          "data": {
            "image/png": "[encoded data removed]",
            "text/plain": [
              "<Figure size 1500x500 with 1 Axes>"
            ]
          },
          "metadata": {},
          "output_type": "display_data"
        }
      ],
      "source": [
        "word_coefficients = pd.DataFrame(\n",
        "    {\"coefficients\": logreg.coef_[0]},\n",
        "    index=bagofwords_vector.get_feature_names_out()\n",
        ").sort_values(\"coefficients\", ascending=False)\n",
        "\n",
        "word_coefficients.head(20).plot(kind=\"bar\", figsize=(15, 5), legend=False)\n",
        "plt.title(\"The 20 highest model coefficients indicating positive sentiment\")\n",
        "plt.ylabel(\"Coefficients\")\n",
        "plt.xticks(rotation=45)\n",
        "plt.show()"
      ]
    },
    {
      "cell_type": "code",
      "execution_count": 44,
      "id": "yk-nifijmFBh",
      "metadata": {
        "colab": {
          "base_uri": "https://localhost:8080/",
          "height": 424
        },
        "id": "yk-nifijmFBh",
        "outputId": "4a38f21e-80a9-40f4-dfa1-98a5c11d2bea"
      },
      "outputs": [
        {
          "data": {
            "image/png": "[encoded data removed]",
            "text/plain": [
              "<Figure size 1500x500 with 1 Axes>"
            ]
          },
          "metadata": {},
          "output_type": "display_data"
        }
      ],
      "source": [
        "word_coefficients.sort_values(\"coefficients\", ascending=True).head(20).plot(kind=\"bar\", figsize=(15, 5), legend=False)\n",
        "plt.title(\"The 20 lowest model coefficients indicating negative sentiment\")\n",
        "plt.ylabel(\"Coefficients\")\n",
        "plt.xticks(rotation=45)\n",
        "plt.show()"
      ]
    },
    {
      "cell_type": "code",
      "execution_count": 45,
      "id": "eb4660b0",
      "metadata": {
        "id": "eb4660b0"
      },
      "outputs": [],
      "source": [
        "from sklearn.model_selection import GridSearchCV\n",
        "from sklearn.pipeline import Pipeline\n",
        "from sklearn.preprocessing import MinMaxScaler\n",
        "from sklearn.decomposition import PCA"
      ]
    },
    {
      "cell_type": "code",
      "execution_count": 43,
      "id": "gUZLBvoxf9Lk",
      "metadata": {
        "id": "gUZLBvoxf9Lk"
      },
      "outputs": [],
      "source": [
        "# Initializing Scale\n",
        "# scaler = StandardScaler()\n",
        "\n",
        "# # Fitting scale\n",
        "# scaler.fit(X_train_transform)\n",
        "\n",
        "# # Transform scale\n",
        "# X_train = scaler.transform(X_train_transform)\n",
        "# X_validation = scaler.transform(X_val_transform)"
      ]
    },
    {
      "cell_type": "code",
      "execution_count": 46,
      "id": "olhgtF2BAGd1",
      "metadata": {
        "colab": {
          "base_uri": "https://localhost:8080/"
        },
        "id": "olhgtF2BAGd1",
        "outputId": "c4da4ed3-ca97-4d67-c7f5-85fe2816ab8c"
      },
      "outputs": [
        {
          "name": "stdout",
          "output_type": "stream",
          "text": [
            "Train score: 0.8070580289300389\n",
            "Validation score: 0.7550757754839388\n",
            "CPU times: total: 20.8 s\n",
            "Wall time: 20.9 s\n"
          ]
        }
      ],
      "source": [
        "%%time\n",
        "# instantiate model\n",
        "logreg = LogisticRegression(solver='saga', max_iter=100000)# saga different regularization and try out\n",
        "\n",
        "# fit the model\n",
        "logreg.fit(X_train_transform, y_train)\n",
        "# Training and test score\n",
        "print(f\"Train score: {logreg.score(X_train_transform, y_train)}\")\n",
        "print(f\"Validation score: {logreg.score(X_val_transform, y_val)}\")"
      ]
    },
    {
      "cell_type": "code",
      "execution_count": 47,
      "id": "TBbErX4yEO9M",
      "metadata": {
        "colab": {
          "base_uri": "https://localhost:8080/"
        },
        "id": "TBbErX4yEO9M",
        "outputId": "908c5810-2d2c-4a51-b829-120bb79ad705"
      },
      "outputs": [
        {
          "name": "stdout",
          "output_type": "stream",
          "text": [
            "Train score: 0.8214667642258119\n",
            "Validation score: 0.7338271215822236\n",
            "CPU times: total: 26 s\n",
            "Wall time: 4.43 s\n"
          ]
        }
      ],
      "source": [
        "%%time\n",
        "# instantiate model\n",
        "logreg = LogisticRegression(C=100, solver='liblinear', max_iter=100000)# saga different regularization and try out\n",
        "\n",
        "# fit the model\n",
        "logreg.fit(X_train_transform, y_train)\n",
        "# Training and test score\n",
        "print(f\"Train score: {logreg.score(X_train_transform, y_train)}\")\n",
        "print(f\"Validation score: {logreg.score(X_val_transform, y_val)}\")"
      ]
    },
    {
      "cell_type": "code",
      "execution_count": 49,
      "id": "FvYW12O-o5wW",
      "metadata": {
        "id": "FvYW12O-o5wW"
      },
      "outputs": [],
      "source": [
        "# estimators = [('reduce_dim', PCA()),\n",
        "#             ('logreg_model', LogisticRegression())]\n",
        "estimators = [('logreg_model', LogisticRegression())]\n",
        "pipe = Pipeline(estimators)"
      ]
    },
    {
      "cell_type": "code",
      "execution_count": 50,
      "id": "gA6NhfPeg1Ep",
      "metadata": {
        "id": "gA6NhfPeg1Ep"
      },
      "outputs": [],
      "source": [
        "params = {\n",
        "    'logreg_model__solver': ['lbfgs','saga', 'liblinear'],\n",
        "    'logreg_model__C': [1, 100]\n",
        "}\n",
        "\n",
        "grid_search_gbc = GridSearchCV(pipe, param_grid=params, cv = 5, n_jobs = -1, verbose = 1)"
      ]
    },
    {
      "cell_type": "code",
      "execution_count": 51,
      "id": "Mp71Y2-yptGM",
      "metadata": {
        "colab": {
          "base_uri": "https://localhost:8080/",
          "height": 165
        },
        "id": "Mp71Y2-yptGM",
        "outputId": "8b43187a-83a9-45bc-845c-f16df012ca8a"
      },
      "outputs": [
        {
          "name": "stdout",
          "output_type": "stream",
          "text": [
            "Fitting 5 folds for each of 12 candidates, totalling 60 fits\n"
          ]
        },
        {
          "ename": "PicklingError",
          "evalue": "Could not pickle the task to send it to the workers.",
          "output_type": "error",
          "traceback": [
            "\u001b[1;31m---------------------------------------------------------------------------\u001b[0m",
            "\u001b[1;31m_RemoteTraceback\u001b[0m                          Traceback (most recent call last)",
            "\u001b[1;31m_RemoteTraceback\u001b[0m: \n\"\"\"\nTraceback (most recent call last):\n  File \"c:\\Users\\Emran\\anaconda3\\lib\\site-packages\\joblib\\externals\\loky\\backend\\queues.py\", line 155, in _feed\n    send_bytes(obj_)\n  File \"c:\\Users\\Emran\\anaconda3\\lib\\multiprocessing\\connection.py\", line 200, in send_bytes\n    self._send_bytes(m[offset:offset + size])\n  File \"c:\\Users\\Emran\\anaconda3\\lib\\multiprocessing\\connection.py\", line 280, in _send_bytes\n    ov, err = _winapi.WriteFile(self._handle, buf, overlapped=True)\nOSError: [WinError 87] The parameter is incorrect\n\"\"\"",
            "\nThe above exception was the direct cause of the following exception:\n",
            "\u001b[1;31mPicklingError\u001b[0m                             Traceback (most recent call last)",
            "Cell \u001b[1;32mIn[51], line 1\u001b[0m\n\u001b[1;32m----> 1\u001b[0m grid_search_gbc\u001b[39m.\u001b[39;49mfit(X_train_transform\u001b[39m.\u001b[39;49mtodense(), y_train)\n",
            "File \u001b[1;32mc:\\Users\\Emran\\anaconda3\\lib\\site-packages\\sklearn\\model_selection\\_search.py:874\u001b[0m, in \u001b[0;36mBaseSearchCV.fit\u001b[1;34m(self, X, y, groups, **fit_params)\u001b[0m\n\u001b[0;32m    868\u001b[0m     results \u001b[39m=\u001b[39m \u001b[39mself\u001b[39m\u001b[39m.\u001b[39m_format_results(\n\u001b[0;32m    869\u001b[0m         all_candidate_params, n_splits, all_out, all_more_results\n\u001b[0;32m    870\u001b[0m     )\n\u001b[0;32m    872\u001b[0m     \u001b[39mreturn\u001b[39;00m results\n\u001b[1;32m--> 874\u001b[0m \u001b[39mself\u001b[39;49m\u001b[39m.\u001b[39;49m_run_search(evaluate_candidates)\n\u001b[0;32m    876\u001b[0m \u001b[39m# multimetric is determined here because in the case of a callable\u001b[39;00m\n\u001b[0;32m    877\u001b[0m \u001b[39m# self.scoring the return type is only known after calling\u001b[39;00m\n\u001b[0;32m    878\u001b[0m first_test_score \u001b[39m=\u001b[39m all_out[\u001b[39m0\u001b[39m][\u001b[39m\"\u001b[39m\u001b[39mtest_scores\u001b[39m\u001b[39m\"\u001b[39m]\n",
            "File \u001b[1;32mc:\\Users\\Emran\\anaconda3\\lib\\site-packages\\sklearn\\model_selection\\_search.py:1388\u001b[0m, in \u001b[0;36mGridSearchCV._run_search\u001b[1;34m(self, evaluate_candidates)\u001b[0m\n\u001b[0;32m   1386\u001b[0m \u001b[39mdef\u001b[39;00m \u001b[39m_run_search\u001b[39m(\u001b[39mself\u001b[39m, evaluate_candidates):\n\u001b[0;32m   1387\u001b[0m     \u001b[39m\"\"\"Search all candidates in param_grid\"\"\"\u001b[39;00m\n\u001b[1;32m-> 1388\u001b[0m     evaluate_candidates(ParameterGrid(\u001b[39mself\u001b[39;49m\u001b[39m.\u001b[39;49mparam_grid))\n",
            "File \u001b[1;32mc:\\Users\\Emran\\anaconda3\\lib\\site-packages\\sklearn\\model_selection\\_search.py:821\u001b[0m, in \u001b[0;36mBaseSearchCV.fit.<locals>.evaluate_candidates\u001b[1;34m(candidate_params, cv, more_results)\u001b[0m\n\u001b[0;32m    813\u001b[0m \u001b[39mif\u001b[39;00m \u001b[39mself\u001b[39m\u001b[39m.\u001b[39mverbose \u001b[39m>\u001b[39m \u001b[39m0\u001b[39m:\n\u001b[0;32m    814\u001b[0m     \u001b[39mprint\u001b[39m(\n\u001b[0;32m    815\u001b[0m         \u001b[39m\"\u001b[39m\u001b[39mFitting \u001b[39m\u001b[39m{0}\u001b[39;00m\u001b[39m folds for each of \u001b[39m\u001b[39m{1}\u001b[39;00m\u001b[39m candidates,\u001b[39m\u001b[39m\"\u001b[39m\n\u001b[0;32m    816\u001b[0m         \u001b[39m\"\u001b[39m\u001b[39m totalling \u001b[39m\u001b[39m{2}\u001b[39;00m\u001b[39m fits\u001b[39m\u001b[39m\"\u001b[39m\u001b[39m.\u001b[39mformat(\n\u001b[0;32m    817\u001b[0m             n_splits, n_candidates, n_candidates \u001b[39m*\u001b[39m n_splits\n\u001b[0;32m    818\u001b[0m         )\n\u001b[0;32m    819\u001b[0m     )\n\u001b[1;32m--> 821\u001b[0m out \u001b[39m=\u001b[39m parallel(\n\u001b[0;32m    822\u001b[0m     delayed(_fit_and_score)(\n\u001b[0;32m    823\u001b[0m         clone(base_estimator),\n\u001b[0;32m    824\u001b[0m         X,\n\u001b[0;32m    825\u001b[0m         y,\n\u001b[0;32m    826\u001b[0m         train\u001b[39m=\u001b[39;49mtrain,\n\u001b[0;32m    827\u001b[0m         test\u001b[39m=\u001b[39;49mtest,\n\u001b[0;32m    828\u001b[0m         parameters\u001b[39m=\u001b[39;49mparameters,\n\u001b[0;32m    829\u001b[0m         split_progress\u001b[39m=\u001b[39;49m(split_idx, n_splits),\n\u001b[0;32m    830\u001b[0m         candidate_progress\u001b[39m=\u001b[39;49m(cand_idx, n_candidates),\n\u001b[0;32m    831\u001b[0m         \u001b[39m*\u001b[39;49m\u001b[39m*\u001b[39;49mfit_and_score_kwargs,\n\u001b[0;32m    832\u001b[0m     )\n\u001b[0;32m    833\u001b[0m     \u001b[39mfor\u001b[39;49;00m (cand_idx, parameters), (split_idx, (train, test)) \u001b[39min\u001b[39;49;00m product(\n\u001b[0;32m    834\u001b[0m         \u001b[39menumerate\u001b[39;49m(candidate_params), \u001b[39menumerate\u001b[39;49m(cv\u001b[39m.\u001b[39;49msplit(X, y, groups))\n\u001b[0;32m    835\u001b[0m     )\n\u001b[0;32m    836\u001b[0m )\n\u001b[0;32m    838\u001b[0m \u001b[39mif\u001b[39;00m \u001b[39mlen\u001b[39m(out) \u001b[39m<\u001b[39m \u001b[39m1\u001b[39m:\n\u001b[0;32m    839\u001b[0m     \u001b[39mraise\u001b[39;00m \u001b[39mValueError\u001b[39;00m(\n\u001b[0;32m    840\u001b[0m         \u001b[39m\"\u001b[39m\u001b[39mNo fits were performed. \u001b[39m\u001b[39m\"\u001b[39m\n\u001b[0;32m    841\u001b[0m         \u001b[39m\"\u001b[39m\u001b[39mWas the CV iterator empty? \u001b[39m\u001b[39m\"\u001b[39m\n\u001b[0;32m    842\u001b[0m         \u001b[39m\"\u001b[39m\u001b[39mWere there no candidates?\u001b[39m\u001b[39m\"\u001b[39m\n\u001b[0;32m    843\u001b[0m     )\n",
            "File \u001b[1;32mc:\\Users\\Emran\\anaconda3\\lib\\site-packages\\sklearn\\utils\\parallel.py:63\u001b[0m, in \u001b[0;36mParallel.__call__\u001b[1;34m(self, iterable)\u001b[0m\n\u001b[0;32m     58\u001b[0m config \u001b[39m=\u001b[39m get_config()\n\u001b[0;32m     59\u001b[0m iterable_with_config \u001b[39m=\u001b[39m (\n\u001b[0;32m     60\u001b[0m     (_with_config(delayed_func, config), args, kwargs)\n\u001b[0;32m     61\u001b[0m     \u001b[39mfor\u001b[39;00m delayed_func, args, kwargs \u001b[39min\u001b[39;00m iterable\n\u001b[0;32m     62\u001b[0m )\n\u001b[1;32m---> 63\u001b[0m \u001b[39mreturn\u001b[39;00m \u001b[39msuper\u001b[39;49m()\u001b[39m.\u001b[39;49m\u001b[39m__call__\u001b[39;49m(iterable_with_config)\n",
            "File \u001b[1;32mc:\\Users\\Emran\\anaconda3\\lib\\site-packages\\joblib\\parallel.py:1061\u001b[0m, in \u001b[0;36mParallel.__call__\u001b[1;34m(self, iterable)\u001b[0m\n\u001b[0;32m   1058\u001b[0m     \u001b[39mself\u001b[39m\u001b[39m.\u001b[39m_iterating \u001b[39m=\u001b[39m \u001b[39mFalse\u001b[39;00m\n\u001b[0;32m   1060\u001b[0m \u001b[39mwith\u001b[39;00m \u001b[39mself\u001b[39m\u001b[39m.\u001b[39m_backend\u001b[39m.\u001b[39mretrieval_context():\n\u001b[1;32m-> 1061\u001b[0m     \u001b[39mself\u001b[39;49m\u001b[39m.\u001b[39;49mretrieve()\n\u001b[0;32m   1062\u001b[0m \u001b[39m# Make sure that we get a last message telling us we are done\u001b[39;00m\n\u001b[0;32m   1063\u001b[0m elapsed_time \u001b[39m=\u001b[39m time\u001b[39m.\u001b[39mtime() \u001b[39m-\u001b[39m \u001b[39mself\u001b[39m\u001b[39m.\u001b[39m_start_time\n",
            "File \u001b[1;32mc:\\Users\\Emran\\anaconda3\\lib\\site-packages\\joblib\\parallel.py:938\u001b[0m, in \u001b[0;36mParallel.retrieve\u001b[1;34m(self)\u001b[0m\n\u001b[0;32m    936\u001b[0m \u001b[39mtry\u001b[39;00m:\n\u001b[0;32m    937\u001b[0m     \u001b[39mif\u001b[39;00m \u001b[39mgetattr\u001b[39m(\u001b[39mself\u001b[39m\u001b[39m.\u001b[39m_backend, \u001b[39m'\u001b[39m\u001b[39msupports_timeout\u001b[39m\u001b[39m'\u001b[39m, \u001b[39mFalse\u001b[39;00m):\n\u001b[1;32m--> 938\u001b[0m         \u001b[39mself\u001b[39m\u001b[39m.\u001b[39m_output\u001b[39m.\u001b[39mextend(job\u001b[39m.\u001b[39;49mget(timeout\u001b[39m=\u001b[39;49m\u001b[39mself\u001b[39;49m\u001b[39m.\u001b[39;49mtimeout))\n\u001b[0;32m    939\u001b[0m     \u001b[39melse\u001b[39;00m:\n\u001b[0;32m    940\u001b[0m         \u001b[39mself\u001b[39m\u001b[39m.\u001b[39m_output\u001b[39m.\u001b[39mextend(job\u001b[39m.\u001b[39mget())\n",
            "File \u001b[1;32mc:\\Users\\Emran\\anaconda3\\lib\\site-packages\\joblib\\_parallel_backends.py:542\u001b[0m, in \u001b[0;36mLokyBackend.wrap_future_result\u001b[1;34m(future, timeout)\u001b[0m\n\u001b[0;32m    539\u001b[0m \u001b[39m\"\"\"Wrapper for Future.result to implement the same behaviour as\u001b[39;00m\n\u001b[0;32m    540\u001b[0m \u001b[39mAsyncResults.get from multiprocessing.\"\"\"\u001b[39;00m\n\u001b[0;32m    541\u001b[0m \u001b[39mtry\u001b[39;00m:\n\u001b[1;32m--> 542\u001b[0m     \u001b[39mreturn\u001b[39;00m future\u001b[39m.\u001b[39;49mresult(timeout\u001b[39m=\u001b[39;49mtimeout)\n\u001b[0;32m    543\u001b[0m \u001b[39mexcept\u001b[39;00m CfTimeoutError \u001b[39mas\u001b[39;00m e:\n\u001b[0;32m    544\u001b[0m     \u001b[39mraise\u001b[39;00m \u001b[39mTimeoutError\u001b[39;00m \u001b[39mfrom\u001b[39;00m \u001b[39me\u001b[39;00m\n",
            "File \u001b[1;32mc:\\Users\\Emran\\anaconda3\\lib\\concurrent\\futures\\_base.py:458\u001b[0m, in \u001b[0;36mFuture.result\u001b[1;34m(self, timeout)\u001b[0m\n\u001b[0;32m    456\u001b[0m     \u001b[39mraise\u001b[39;00m CancelledError()\n\u001b[0;32m    457\u001b[0m \u001b[39melif\u001b[39;00m \u001b[39mself\u001b[39m\u001b[39m.\u001b[39m_state \u001b[39m==\u001b[39m FINISHED:\n\u001b[1;32m--> 458\u001b[0m     \u001b[39mreturn\u001b[39;00m \u001b[39mself\u001b[39;49m\u001b[39m.\u001b[39;49m__get_result()\n\u001b[0;32m    459\u001b[0m \u001b[39melse\u001b[39;00m:\n\u001b[0;32m    460\u001b[0m     \u001b[39mraise\u001b[39;00m \u001b[39mTimeoutError\u001b[39;00m()\n",
            "File \u001b[1;32mc:\\Users\\Emran\\anaconda3\\lib\\concurrent\\futures\\_base.py:403\u001b[0m, in \u001b[0;36mFuture.__get_result\u001b[1;34m(self)\u001b[0m\n\u001b[0;32m    401\u001b[0m \u001b[39mif\u001b[39;00m \u001b[39mself\u001b[39m\u001b[39m.\u001b[39m_exception:\n\u001b[0;32m    402\u001b[0m     \u001b[39mtry\u001b[39;00m:\n\u001b[1;32m--> 403\u001b[0m         \u001b[39mraise\u001b[39;00m \u001b[39mself\u001b[39m\u001b[39m.\u001b[39m_exception\n\u001b[0;32m    404\u001b[0m     \u001b[39mfinally\u001b[39;00m:\n\u001b[0;32m    405\u001b[0m         \u001b[39m# Break a reference cycle with the exception in self._exception\u001b[39;00m\n\u001b[0;32m    406\u001b[0m         \u001b[39mself\u001b[39m \u001b[39m=\u001b[39m \u001b[39mNone\u001b[39;00m\n",
            "\u001b[1;31mPicklingError\u001b[0m: Could not pickle the task to send it to the workers."
          ]
        }
      ],
      "source": [
        "grid_search_gbc.fit(X_train_transform.todense(), y_train)"
      ]
    },
    {
      "cell_type": "code",
      "execution_count": 46,
      "id": "bS9fSmtC51Ov",
      "metadata": {
        "colab": {
          "base_uri": "https://localhost:8080/",
          "height": 235
        },
        "id": "bS9fSmtC51Ov",
        "outputId": "e220fff5-a170-4bb7-92e1-e4bb694a06fd"
      },
      "outputs": [],
      "source": [
        "# # best score\n",
        "# print(f\"best score: {grid_search.best_score_}\")\n",
        "\n",
        "# # best parameters\n",
        "# print(f\"best parameters: {grid_search.best_params_}\")"
      ]
    },
    {
      "cell_type": "code",
      "execution_count": 47,
      "id": "e8fdce86",
      "metadata": {},
      "outputs": [],
      "source": [
        "# Importing library in order to see the progress bar\n",
        "from tqdm.notebook import tnrange, tqdm_notebook"
      ]
    },
    {
      "cell_type": "code",
      "execution_count": 59,
      "id": "298c7f10",
      "metadata": {},
      "outputs": [
        {
          "data": {
            "application/vnd.jupyter.widget-view+json": {
              "model_id": "edb239a0bf174822a6ebafaf453d3928",
              "version_major": 2,
              "version_minor": 0
            },
            "text/plain": [
              "  0%|          | 0/10 [00:00<?, ?it/s]"
            ]
          },
          "metadata": {},
          "output_type": "display_data"
        },
        {
          "name": "stdout",
          "output_type": "stream",
          "text": [
            "C: 0.001\n",
            "cv_score 0.7014014746440029\n",
            "C: 0.01\n",
            "cv_score 0.7359824393538583\n",
            "C: 0.1\n",
            "cv_score 0.7539370743513255\n",
            "C: 0.5\n",
            "cv_score 0.7534305172510836\n",
            "C: 1.0\n",
            "cv_score 0.7501998086339843\n",
            "C: 10.0\n",
            "cv_score 0.7354533686047166\n",
            "C: 30.0\n",
            "cv_score 0.7299150109754038\n",
            "C: 60.0\n",
            "cv_score 0.7269882366184499\n",
            "C: 80.0\n",
            "cv_score 0.725772499577869\n",
            "C: 100.0\n",
            "cv_score 0.7251533742331289\n"
          ]
        }
      ],
      "source": [
        "# setting array\n",
        "cross_validation_scores = []\n",
        "\n",
        "c_range = np.array([0.001, 0.01, 0.1, 0.5, 1, 10, 30, 60, 80, 100])\n",
        "\n",
        "# Do some cross validation\n",
        "for c in tqdm_notebook(c_range):\n",
        "    Logreg_model_fold = LogisticRegression(C=c, solver='lbfgs', max_iter=10000, random_state=1)\n",
        "    cv_score = np.mean(cross_val_score(Logreg_model_fold, X_train_transform, y_train, cv = 5, n_jobs=-1))\n",
        "    cross_validation_scores.append(cv_score)\n",
        "    \n",
        "    print(f'C: {c}')\n",
        "    print(f'cv_score {cv_score}')"
      ]
    },
    {
      "cell_type": "code",
      "execution_count": 60,
      "id": "yPKMI1c76Gym",
      "metadata": {
        "id": "yPKMI1c76Gym"
      },
      "outputs": [
        {
          "data": {
            "image/png": "[encoded data removed]",
            "text/plain": [
              "<Figure size 640x480 with 1 Axes>"
            ]
          },
          "metadata": {},
          "output_type": "display_data"
        }
      ],
      "source": [
        "plt.figure()\n",
        "plt.plot(c_range, cross_validation_scores,label=\"Cross Validation Score\",marker='.')\n",
        "plt.legend()\n",
        "plt.xscale(\"log\")\n",
        "plt.xlabel('Regularization Parameter: C')\n",
        "plt.ylabel('Cross Validation Score')\n",
        "plt.show()"
      ]
    },
    {
      "cell_type": "code",
      "execution_count": null,
      "id": "dcbe7f06",
      "metadata": {},
      "outputs": [],
      "source": []
    },
    {
      "cell_type": "code",
      "execution_count": null,
      "id": "1be69475",
      "metadata": {},
      "outputs": [],
      "source": []
    }
  ],
  "metadata": {
    "colab": {
      "provenance": []
    },
    "kernelspec": {
      "display_name": "base",
      "language": "python",
      "name": "python3"
    },
    "language_info": {
      "codemirror_mode": {
        "name": "ipython",
        "version": 3
      },
      "file_extension": ".py",
      "mimetype": "text/x-python",
      "name": "python",
      "nbconvert_exporter": "python",
      "pygments_lexer": "ipython3",
      "version": "3.10.9"
    }
  },
  "nbformat": 4,
  "nbformat_minor": 5
}
